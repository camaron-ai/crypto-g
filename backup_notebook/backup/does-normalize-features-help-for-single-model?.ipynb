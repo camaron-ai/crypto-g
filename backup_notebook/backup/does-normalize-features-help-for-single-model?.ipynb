{
 "cells": [
  {
   "cell_type": "code",
   "execution_count": 1,
   "id": "33f16f59",
   "metadata": {
    "ExecuteTime": {
     "end_time": "2021-11-10T20:49:36.217979Z",
     "start_time": "2021-11-10T20:49:36.196280Z"
    }
   },
   "outputs": [],
   "source": [
    "%load_ext autoreload\n",
    "%autoreload 2"
   ]
  },
  {
   "cell_type": "code",
   "execution_count": 2,
   "id": "f255bb4e",
   "metadata": {
    "ExecuteTime": {
     "end_time": "2021-11-10T20:49:36.909390Z",
     "start_time": "2021-11-10T20:49:36.220787Z"
    }
   },
   "outputs": [],
   "source": [
    "import pandas as pd\n",
    "import numpy as np\n",
    "from matplotlib import pyplot as plt\n",
    "import seaborn as sns\n",
    "from pathlib import Path\n",
    "import os\n",
    "import sys\n",
    "from IPython.display import display"
   ]
  },
  {
   "cell_type": "code",
   "execution_count": 3,
   "id": "136f5247",
   "metadata": {
    "ExecuteTime": {
     "end_time": "2021-11-10T20:49:36.924809Z",
     "start_time": "2021-11-10T20:49:36.911207Z"
    }
   },
   "outputs": [],
   "source": [
    "def on_kaggle() -> bool:\n",
    "    try:\n",
    "        import gresearch_crypto\n",
    "        return True\n",
    "    except ModuleNotFoundError:\n",
    "        return False"
   ]
  },
  {
   "cell_type": "code",
   "execution_count": 4,
   "id": "432ba6ef",
   "metadata": {
    "ExecuteTime": {
     "end_time": "2021-11-10T20:49:36.942690Z",
     "start_time": "2021-11-10T20:49:36.927233Z"
    }
   },
   "outputs": [],
   "source": [
    "# HYPER PARAMETERS\n",
    "ON_KAGGLE = on_kaggle()\n",
    "SAMPLE_LEVEL = 1\n",
    "\n",
    "USE_SAMPLE = SAMPLE_LEVEL == 1\n",
    "USE_TOY_SAMPLE = SAMPLE_LEVEL == 2\n",
    "\n",
    "FORCE_REWRITE = True#(ON_KAGGLE and SAMPLE_LEVEL == 0)"
   ]
  },
  {
   "cell_type": "code",
   "execution_count": 5,
   "id": "3ee2a957",
   "metadata": {
    "ExecuteTime": {
     "end_time": "2021-11-10T20:49:36.961703Z",
     "start_time": "2021-11-10T20:49:36.944792Z"
    }
   },
   "outputs": [],
   "source": [
    "if not ON_KAGGLE and os.path.abspath('.').endswith('notebook'):\n",
    "    os.chdir('../')"
   ]
  },
  {
   "cell_type": "code",
   "execution_count": 6,
   "id": "eee46e84",
   "metadata": {
    "ExecuteTime": {
     "end_time": "2021-11-10T20:49:37.023777Z",
     "start_time": "2021-11-10T20:49:36.965617Z"
    }
   },
   "outputs": [],
   "source": [
    "#IMPORT_SCRIPT!\n",
    "# THIS CELL WILL BE REMOVE WITH SCRIPTS IN SRC\n",
    "if './src/' not in sys.path:\n",
    "    sys.path.append('./src/')\n",
    "\n",
    "from preprocessing import *\n",
    "from metrics import *\n",
    "from cv import *"
   ]
  },
  {
   "cell_type": "code",
   "execution_count": 7,
   "id": "5dcd141e",
   "metadata": {
    "ExecuteTime": {
     "end_time": "2021-11-10T20:49:37.043956Z",
     "start_time": "2021-11-10T20:49:37.025293Z"
    }
   },
   "outputs": [],
   "source": [
    "if ON_KAGGLE:\n",
    "    RAW_DIR = Path('../input/g-research-crypto-forecasting/')\n",
    "    SAMPLE_DIR = Path('../input/create-sample-dataset/data/raw/sample/')\n",
    "    TOY_SAMPLE_DIR = Path('../input/create-sample-dataset/data/raw/toy_sample/')\n",
    "else:\n",
    "    RAW_DIR =  Path('data/raw')\n",
    "    TOY_SAMPLE_DIR = RAW_DIR.joinpath('toy_sample')\n",
    "    SAMPLE_DIR = RAW_DIR.joinpath('sample')\n",
    "\n",
    "# filename\n",
    "TRAIN_FILE = 'train.csv'\n",
    "ASSET_DETAILS_PATH = RAW_DIR / 'asset_details.csv'"
   ]
  },
  {
   "cell_type": "code",
   "execution_count": 8,
   "id": "74f7a9ab",
   "metadata": {
    "ExecuteTime": {
     "end_time": "2021-11-10T20:49:37.066073Z",
     "start_time": "2021-11-10T20:49:37.045830Z"
    }
   },
   "outputs": [
    {
     "name": "stdout",
     "output_type": "stream",
     "text": [
      "USING SAMPLE DATASET\n"
     ]
    }
   ],
   "source": [
    "if USE_TOY_SAMPLE:\n",
    "    print('USING TOY DATASET')\n",
    "    RAW_TRAIN_PATH = TOY_SAMPLE_DIR / TRAIN_FILE\n",
    "\n",
    "elif USE_SAMPLE:\n",
    "    print('USING SAMPLE DATASET')\n",
    "    RAW_TRAIN_PATH = SAMPLE_DIR / TRAIN_FILE\n",
    "\n",
    "else:\n",
    "    print('USING RAW DATASET')\n",
    "    RAW_TRAIN_PATH = RAW_DIR / TRAIN_FILE\n",
    "\n",
    "assert RAW_TRAIN_PATH.exists()"
   ]
  },
  {
   "cell_type": "code",
   "execution_count": 9,
   "id": "28ef35af",
   "metadata": {
    "ExecuteTime": {
     "end_time": "2021-11-10T20:49:37.198708Z",
     "start_time": "2021-11-10T20:49:37.068505Z"
    }
   },
   "outputs": [
    {
     "name": "stdout",
     "output_type": "stream",
     "text": [
      "asset_details.csv\t\t   sample\r\n",
      "example_sample_submission.csv\t   supplemental_train.csv\r\n",
      "example_test.csv\t\t   toy_sample\r\n",
      "g-research-crypto-forecasting.zip  train.csv\r\n",
      "gresearch_crypto\r\n"
     ]
    }
   ],
   "source": [
    "!ls {RAW_DIR}"
   ]
  },
  {
   "cell_type": "code",
   "execution_count": 10,
   "id": "4b479f0e",
   "metadata": {
    "ExecuteTime": {
     "end_time": "2021-11-10T20:49:42.425156Z",
     "start_time": "2021-11-10T20:49:37.203435Z"
    },
    "scrolled": true
   },
   "outputs": [
    {
     "name": "stdout",
     "output_type": "stream",
     "text": [
      "CPU times: user 4.23 s, sys: 463 ms, total: 4.69 s\n",
      "Wall time: 5.21 s\n"
     ]
    }
   ],
   "source": [
    "%%time \n",
    "raw_df = pd.read_csv(RAW_TRAIN_PATH)"
   ]
  },
  {
   "cell_type": "code",
   "execution_count": 11,
   "id": "5be54336",
   "metadata": {
    "ExecuteTime": {
     "end_time": "2021-11-10T20:49:44.006718Z",
     "start_time": "2021-11-10T20:49:42.427226Z"
    }
   },
   "outputs": [],
   "source": [
    "raw_df = ingest_data(raw_df, asset_details_path=ASSET_DETAILS_PATH)"
   ]
  },
  {
   "cell_type": "code",
   "execution_count": 12,
   "id": "d1722287",
   "metadata": {
    "ExecuteTime": {
     "end_time": "2021-11-10T20:49:45.934733Z",
     "start_time": "2021-11-10T20:49:44.008970Z"
    }
   },
   "outputs": [],
   "source": [
    "raw_df.sort_values(by=['Asset_ID', 'date'], inplace=True)\n",
    "raw_df.reset_index(drop=True, inplace=True)"
   ]
  },
  {
   "cell_type": "code",
   "execution_count": 13,
   "id": "3f9f8d35",
   "metadata": {
    "ExecuteTime": {
     "end_time": "2021-11-10T20:49:45.967290Z",
     "start_time": "2021-11-10T20:49:45.936967Z"
    },
    "scrolled": true
   },
   "outputs": [
    {
     "data": {
      "text/html": [
       "<div>\n",
       "<style scoped>\n",
       "    .dataframe tbody tr th:only-of-type {\n",
       "        vertical-align: middle;\n",
       "    }\n",
       "\n",
       "    .dataframe tbody tr th {\n",
       "        vertical-align: top;\n",
       "    }\n",
       "\n",
       "    .dataframe thead th {\n",
       "        text-align: right;\n",
       "    }\n",
       "</style>\n",
       "<table border=\"1\" class=\"dataframe\">\n",
       "  <thead>\n",
       "    <tr style=\"text-align: right;\">\n",
       "      <th></th>\n",
       "      <th>timestamp</th>\n",
       "      <th>Asset_ID</th>\n",
       "      <th>Count</th>\n",
       "      <th>Open</th>\n",
       "      <th>High</th>\n",
       "      <th>Low</th>\n",
       "      <th>Close</th>\n",
       "      <th>Volume</th>\n",
       "      <th>VWAP</th>\n",
       "      <th>Target</th>\n",
       "      <th>Asset_Name</th>\n",
       "      <th>date</th>\n",
       "    </tr>\n",
       "  </thead>\n",
       "  <tbody>\n",
       "    <tr>\n",
       "      <th>0</th>\n",
       "      <td>1609459260</td>\n",
       "      <td>0</td>\n",
       "      <td>219.0</td>\n",
       "      <td>37.384998</td>\n",
       "      <td>37.422100</td>\n",
       "      <td>37.348701</td>\n",
       "      <td>37.389000</td>\n",
       "      <td>2749.5692</td>\n",
       "      <td>37.387058</td>\n",
       "      <td>-0.001669</td>\n",
       "      <td>Binance Coin</td>\n",
       "      <td>2021-01-01 00:01:00</td>\n",
       "    </tr>\n",
       "    <tr>\n",
       "      <th>1</th>\n",
       "      <td>1609459320</td>\n",
       "      <td>0</td>\n",
       "      <td>133.0</td>\n",
       "      <td>37.390499</td>\n",
       "      <td>37.402000</td>\n",
       "      <td>37.329800</td>\n",
       "      <td>37.331299</td>\n",
       "      <td>778.8680</td>\n",
       "      <td>37.351677</td>\n",
       "      <td>-0.001542</td>\n",
       "      <td>Binance Coin</td>\n",
       "      <td>2021-01-01 00:02:00</td>\n",
       "    </tr>\n",
       "    <tr>\n",
       "      <th>2</th>\n",
       "      <td>1609459380</td>\n",
       "      <td>0</td>\n",
       "      <td>151.0</td>\n",
       "      <td>37.317051</td>\n",
       "      <td>37.336700</td>\n",
       "      <td>37.272900</td>\n",
       "      <td>37.291500</td>\n",
       "      <td>890.9210</td>\n",
       "      <td>37.301258</td>\n",
       "      <td>-0.001028</td>\n",
       "      <td>Binance Coin</td>\n",
       "      <td>2021-01-01 00:03:00</td>\n",
       "    </tr>\n",
       "    <tr>\n",
       "      <th>3</th>\n",
       "      <td>1609459440</td>\n",
       "      <td>0</td>\n",
       "      <td>123.0</td>\n",
       "      <td>37.299149</td>\n",
       "      <td>37.323002</td>\n",
       "      <td>37.250198</td>\n",
       "      <td>37.291901</td>\n",
       "      <td>489.9361</td>\n",
       "      <td>37.297272</td>\n",
       "      <td>0.000174</td>\n",
       "      <td>Binance Coin</td>\n",
       "      <td>2021-01-01 00:04:00</td>\n",
       "    </tr>\n",
       "    <tr>\n",
       "      <th>4</th>\n",
       "      <td>1609459500</td>\n",
       "      <td>0</td>\n",
       "      <td>623.0</td>\n",
       "      <td>37.212799</td>\n",
       "      <td>37.285000</td>\n",
       "      <td>37.104801</td>\n",
       "      <td>37.213001</td>\n",
       "      <td>15144.3836</td>\n",
       "      <td>37.184082</td>\n",
       "      <td>0.000950</td>\n",
       "      <td>Binance Coin</td>\n",
       "      <td>2021-01-01 00:05:00</td>\n",
       "    </tr>\n",
       "  </tbody>\n",
       "</table>\n",
       "</div>"
      ],
      "text/plain": [
       "    timestamp  Asset_ID  Count       Open       High        Low      Close  \\\n",
       "0  1609459260         0  219.0  37.384998  37.422100  37.348701  37.389000   \n",
       "1  1609459320         0  133.0  37.390499  37.402000  37.329800  37.331299   \n",
       "2  1609459380         0  151.0  37.317051  37.336700  37.272900  37.291500   \n",
       "3  1609459440         0  123.0  37.299149  37.323002  37.250198  37.291901   \n",
       "4  1609459500         0  623.0  37.212799  37.285000  37.104801  37.213001   \n",
       "\n",
       "       Volume       VWAP    Target    Asset_Name                date  \n",
       "0   2749.5692  37.387058 -0.001669  Binance Coin 2021-01-01 00:01:00  \n",
       "1    778.8680  37.351677 -0.001542  Binance Coin 2021-01-01 00:02:00  \n",
       "2    890.9210  37.301258 -0.001028  Binance Coin 2021-01-01 00:03:00  \n",
       "3    489.9361  37.297272  0.000174  Binance Coin 2021-01-01 00:04:00  \n",
       "4  15144.3836  37.184082  0.000950  Binance Coin 2021-01-01 00:05:00  "
      ]
     },
     "execution_count": 13,
     "metadata": {},
     "output_type": "execute_result"
    }
   ],
   "source": [
    "raw_df.head()"
   ]
  },
  {
   "cell_type": "code",
   "execution_count": 14,
   "id": "4f7747d4",
   "metadata": {
    "ExecuteTime": {
     "end_time": "2021-11-10T20:49:45.985882Z",
     "start_time": "2021-11-10T20:49:45.970152Z"
    }
   },
   "outputs": [],
   "source": [
    "TARGET = 'Target'\n",
    "INDEX_COLS = ['Asset_ID', 'Asset_Name', 'date', 'timestamp']"
   ]
  },
  {
   "cell_type": "code",
   "execution_count": 15,
   "id": "fc2e0fa0",
   "metadata": {
    "ExecuteTime": {
     "end_time": "2021-11-10T20:49:46.005405Z",
     "start_time": "2021-11-10T20:49:45.988424Z"
    }
   },
   "outputs": [],
   "source": [
    "RAW_FEATURES = ['Count', 'Open', 'High', 'Low', 'Close',\n",
    "       'Volume', 'VWAP']"
   ]
  },
  {
   "cell_type": "code",
   "execution_count": 16,
   "id": "0e3efed8",
   "metadata": {
    "ExecuteTime": {
     "end_time": "2021-11-10T20:49:47.780191Z",
     "start_time": "2021-11-10T20:49:46.007178Z"
    }
   },
   "outputs": [],
   "source": [
    "for feature in RAW_FEATURES:\n",
    "    fmin = raw_df.groupby('Asset_ID')[feature].min()\n",
    "    fmax = raw_df.groupby('Asset_ID')[feature].max()\n",
    "    \n",
    "    broadcasted_fmin = raw_df['Asset_ID'].map(fmin)\n",
    "    broadcasted_fmax = raw_df['Asset_ID'].map(fmax)\n",
    "    \n",
    "    raw_df[feature] = (raw_df[feature] - broadcasted_fmin) / (broadcasted_fmax - broadcasted_fmin)"
   ]
  },
  {
   "cell_type": "code",
   "execution_count": 17,
   "id": "c6388daf",
   "metadata": {
    "ExecuteTime": {
     "end_time": "2021-11-10T20:49:47.988710Z",
     "start_time": "2021-11-10T20:49:47.783272Z"
    }
   },
   "outputs": [],
   "source": [
    "feature_data = compute_features(raw_df)"
   ]
  },
  {
   "cell_type": "code",
   "execution_count": 18,
   "id": "aa0aa048",
   "metadata": {
    "ExecuteTime": {
     "end_time": "2021-11-10T20:49:48.545300Z",
     "start_time": "2021-11-10T20:49:47.990917Z"
    }
   },
   "outputs": [],
   "source": [
    "feature_data = feature_data.dropna(subset=[TARGET]).reset_index(drop=True)"
   ]
  },
  {
   "cell_type": "code",
   "execution_count": 19,
   "id": "48247838",
   "metadata": {
    "ExecuteTime": {
     "end_time": "2021-11-10T20:49:48.574417Z",
     "start_time": "2021-11-10T20:49:48.547862Z"
    }
   },
   "outputs": [
    {
     "data": {
      "text/html": [
       "<div>\n",
       "<style scoped>\n",
       "    .dataframe tbody tr th:only-of-type {\n",
       "        vertical-align: middle;\n",
       "    }\n",
       "\n",
       "    .dataframe tbody tr th {\n",
       "        vertical-align: top;\n",
       "    }\n",
       "\n",
       "    .dataframe thead th {\n",
       "        text-align: right;\n",
       "    }\n",
       "</style>\n",
       "<table border=\"1\" class=\"dataframe\">\n",
       "  <thead>\n",
       "    <tr style=\"text-align: right;\">\n",
       "      <th></th>\n",
       "      <th>timestamp</th>\n",
       "      <th>Asset_ID</th>\n",
       "      <th>Count</th>\n",
       "      <th>Open</th>\n",
       "      <th>High</th>\n",
       "      <th>Low</th>\n",
       "      <th>Close</th>\n",
       "      <th>Volume</th>\n",
       "      <th>VWAP</th>\n",
       "      <th>Target</th>\n",
       "      <th>Asset_Name</th>\n",
       "      <th>date</th>\n",
       "      <th>upper_shadow</th>\n",
       "      <th>lower_shador</th>\n",
       "    </tr>\n",
       "  </thead>\n",
       "  <tbody>\n",
       "    <tr>\n",
       "      <th>0</th>\n",
       "      <td>1609459260</td>\n",
       "      <td>0</td>\n",
       "      <td>0.006801</td>\n",
       "      <td>0.003490</td>\n",
       "      <td>0.003307</td>\n",
       "      <td>0.003532</td>\n",
       "      <td>0.003456</td>\n",
       "      <td>0.023120</td>\n",
       "      <td>0.003444</td>\n",
       "      <td>-0.001669</td>\n",
       "      <td>Binance Coin</td>\n",
       "      <td>2021-01-01 00:01:00</td>\n",
       "      <td>-0.000182</td>\n",
       "      <td>-0.000075</td>\n",
       "    </tr>\n",
       "    <tr>\n",
       "      <th>1</th>\n",
       "      <td>1609459320</td>\n",
       "      <td>0</td>\n",
       "      <td>0.004118</td>\n",
       "      <td>0.003498</td>\n",
       "      <td>0.003277</td>\n",
       "      <td>0.003503</td>\n",
       "      <td>0.003368</td>\n",
       "      <td>0.006549</td>\n",
       "      <td>0.003390</td>\n",
       "      <td>-0.001542</td>\n",
       "      <td>Binance Coin</td>\n",
       "      <td>2021-01-01 00:02:00</td>\n",
       "      <td>-0.000221</td>\n",
       "      <td>-0.000134</td>\n",
       "    </tr>\n",
       "    <tr>\n",
       "      <th>2</th>\n",
       "      <td>1609459380</td>\n",
       "      <td>0</td>\n",
       "      <td>0.004680</td>\n",
       "      <td>0.003386</td>\n",
       "      <td>0.003177</td>\n",
       "      <td>0.003416</td>\n",
       "      <td>0.003308</td>\n",
       "      <td>0.007491</td>\n",
       "      <td>0.003313</td>\n",
       "      <td>-0.001028</td>\n",
       "      <td>Binance Coin</td>\n",
       "      <td>2021-01-01 00:03:00</td>\n",
       "      <td>-0.000209</td>\n",
       "      <td>-0.000108</td>\n",
       "    </tr>\n",
       "    <tr>\n",
       "      <th>3</th>\n",
       "      <td>1609459440</td>\n",
       "      <td>0</td>\n",
       "      <td>0.003806</td>\n",
       "      <td>0.003359</td>\n",
       "      <td>0.003156</td>\n",
       "      <td>0.003381</td>\n",
       "      <td>0.003308</td>\n",
       "      <td>0.004120</td>\n",
       "      <td>0.003307</td>\n",
       "      <td>0.000174</td>\n",
       "      <td>Binance Coin</td>\n",
       "      <td>2021-01-01 00:04:00</td>\n",
       "      <td>-0.000202</td>\n",
       "      <td>-0.000073</td>\n",
       "    </tr>\n",
       "    <tr>\n",
       "      <th>4</th>\n",
       "      <td>1609459500</td>\n",
       "      <td>0</td>\n",
       "      <td>0.019406</td>\n",
       "      <td>0.003227</td>\n",
       "      <td>0.003099</td>\n",
       "      <td>0.003159</td>\n",
       "      <td>0.003188</td>\n",
       "      <td>0.127344</td>\n",
       "      <td>0.003134</td>\n",
       "      <td>0.000950</td>\n",
       "      <td>Binance Coin</td>\n",
       "      <td>2021-01-01 00:05:00</td>\n",
       "      <td>-0.000129</td>\n",
       "      <td>0.000029</td>\n",
       "    </tr>\n",
       "  </tbody>\n",
       "</table>\n",
       "</div>"
      ],
      "text/plain": [
       "    timestamp  Asset_ID     Count      Open      High       Low     Close  \\\n",
       "0  1609459260         0  0.006801  0.003490  0.003307  0.003532  0.003456   \n",
       "1  1609459320         0  0.004118  0.003498  0.003277  0.003503  0.003368   \n",
       "2  1609459380         0  0.004680  0.003386  0.003177  0.003416  0.003308   \n",
       "3  1609459440         0  0.003806  0.003359  0.003156  0.003381  0.003308   \n",
       "4  1609459500         0  0.019406  0.003227  0.003099  0.003159  0.003188   \n",
       "\n",
       "     Volume      VWAP    Target    Asset_Name                date  \\\n",
       "0  0.023120  0.003444 -0.001669  Binance Coin 2021-01-01 00:01:00   \n",
       "1  0.006549  0.003390 -0.001542  Binance Coin 2021-01-01 00:02:00   \n",
       "2  0.007491  0.003313 -0.001028  Binance Coin 2021-01-01 00:03:00   \n",
       "3  0.004120  0.003307  0.000174  Binance Coin 2021-01-01 00:04:00   \n",
       "4  0.127344  0.003134  0.000950  Binance Coin 2021-01-01 00:05:00   \n",
       "\n",
       "   upper_shadow  lower_shador  \n",
       "0     -0.000182     -0.000075  \n",
       "1     -0.000221     -0.000134  \n",
       "2     -0.000209     -0.000108  \n",
       "3     -0.000202     -0.000073  \n",
       "4     -0.000129      0.000029  "
      ]
     },
     "execution_count": 19,
     "metadata": {},
     "output_type": "execute_result"
    }
   ],
   "source": [
    "feature_data.head()"
   ]
  },
  {
   "cell_type": "code",
   "execution_count": 20,
   "id": "190b158a",
   "metadata": {
    "ExecuteTime": {
     "end_time": "2021-11-10T20:49:48.609149Z",
     "start_time": "2021-11-10T20:49:48.577310Z"
    }
   },
   "outputs": [
    {
     "data": {
      "text/html": [
       "<div>\n",
       "<style scoped>\n",
       "    .dataframe tbody tr th:only-of-type {\n",
       "        vertical-align: middle;\n",
       "    }\n",
       "\n",
       "    .dataframe tbody tr th {\n",
       "        vertical-align: top;\n",
       "    }\n",
       "\n",
       "    .dataframe thead th {\n",
       "        text-align: right;\n",
       "    }\n",
       "</style>\n",
       "<table border=\"1\" class=\"dataframe\">\n",
       "  <thead>\n",
       "    <tr style=\"text-align: right;\">\n",
       "      <th></th>\n",
       "      <th>timestamp</th>\n",
       "      <th>Asset_ID</th>\n",
       "      <th>Count</th>\n",
       "      <th>Open</th>\n",
       "      <th>High</th>\n",
       "      <th>Low</th>\n",
       "      <th>Close</th>\n",
       "      <th>Volume</th>\n",
       "      <th>VWAP</th>\n",
       "      <th>Target</th>\n",
       "      <th>Asset_Name</th>\n",
       "      <th>date</th>\n",
       "      <th>upper_shadow</th>\n",
       "      <th>lower_shador</th>\n",
       "    </tr>\n",
       "  </thead>\n",
       "  <tbody>\n",
       "    <tr>\n",
       "      <th>5298791</th>\n",
       "      <td>1632181200</td>\n",
       "      <td>13</td>\n",
       "      <td>0.031926</td>\n",
       "      <td>0.420102</td>\n",
       "      <td>0.420396</td>\n",
       "      <td>0.429999</td>\n",
       "      <td>0.420512</td>\n",
       "      <td>0.016266</td>\n",
       "      <td>0.420315</td>\n",
       "      <td>0.000199</td>\n",
       "      <td>TRON</td>\n",
       "      <td>2021-09-20 23:40:00</td>\n",
       "      <td>-0.000116</td>\n",
       "      <td>-0.009896</td>\n",
       "    </tr>\n",
       "    <tr>\n",
       "      <th>5298792</th>\n",
       "      <td>1632181260</td>\n",
       "      <td>13</td>\n",
       "      <td>0.023142</td>\n",
       "      <td>0.420921</td>\n",
       "      <td>0.421849</td>\n",
       "      <td>0.431739</td>\n",
       "      <td>0.422220</td>\n",
       "      <td>0.005642</td>\n",
       "      <td>0.422231</td>\n",
       "      <td>-0.003477</td>\n",
       "      <td>TRON</td>\n",
       "      <td>2021-09-20 23:41:00</td>\n",
       "      <td>-0.000371</td>\n",
       "      <td>-0.010818</td>\n",
       "    </tr>\n",
       "    <tr>\n",
       "      <th>5298793</th>\n",
       "      <td>1632181320</td>\n",
       "      <td>13</td>\n",
       "      <td>0.017049</td>\n",
       "      <td>0.421967</td>\n",
       "      <td>0.421967</td>\n",
       "      <td>0.432461</td>\n",
       "      <td>0.422067</td>\n",
       "      <td>0.006768</td>\n",
       "      <td>0.422627</td>\n",
       "      <td>-0.002437</td>\n",
       "      <td>TRON</td>\n",
       "      <td>2021-09-20 23:42:00</td>\n",
       "      <td>-0.000100</td>\n",
       "      <td>-0.010494</td>\n",
       "    </tr>\n",
       "    <tr>\n",
       "      <th>5298794</th>\n",
       "      <td>1632181380</td>\n",
       "      <td>13</td>\n",
       "      <td>0.014974</td>\n",
       "      <td>0.422199</td>\n",
       "      <td>0.421934</td>\n",
       "      <td>0.432048</td>\n",
       "      <td>0.421423</td>\n",
       "      <td>0.004450</td>\n",
       "      <td>0.422273</td>\n",
       "      <td>0.004843</td>\n",
       "      <td>TRON</td>\n",
       "      <td>2021-09-20 23:43:00</td>\n",
       "      <td>-0.000265</td>\n",
       "      <td>-0.010625</td>\n",
       "    </tr>\n",
       "    <tr>\n",
       "      <th>5298795</th>\n",
       "      <td>1632181440</td>\n",
       "      <td>13</td>\n",
       "      <td>0.016562</td>\n",
       "      <td>0.420780</td>\n",
       "      <td>0.420911</td>\n",
       "      <td>0.430779</td>\n",
       "      <td>0.420149</td>\n",
       "      <td>0.005392</td>\n",
       "      <td>0.421044</td>\n",
       "      <td>0.004163</td>\n",
       "      <td>TRON</td>\n",
       "      <td>2021-09-20 23:44:00</td>\n",
       "      <td>0.000131</td>\n",
       "      <td>-0.010630</td>\n",
       "    </tr>\n",
       "  </tbody>\n",
       "</table>\n",
       "</div>"
      ],
      "text/plain": [
       "          timestamp  Asset_ID     Count      Open      High       Low  \\\n",
       "5298791  1632181200        13  0.031926  0.420102  0.420396  0.429999   \n",
       "5298792  1632181260        13  0.023142  0.420921  0.421849  0.431739   \n",
       "5298793  1632181320        13  0.017049  0.421967  0.421967  0.432461   \n",
       "5298794  1632181380        13  0.014974  0.422199  0.421934  0.432048   \n",
       "5298795  1632181440        13  0.016562  0.420780  0.420911  0.430779   \n",
       "\n",
       "            Close    Volume      VWAP    Target Asset_Name  \\\n",
       "5298791  0.420512  0.016266  0.420315  0.000199       TRON   \n",
       "5298792  0.422220  0.005642  0.422231 -0.003477       TRON   \n",
       "5298793  0.422067  0.006768  0.422627 -0.002437       TRON   \n",
       "5298794  0.421423  0.004450  0.422273  0.004843       TRON   \n",
       "5298795  0.420149  0.005392  0.421044  0.004163       TRON   \n",
       "\n",
       "                       date  upper_shadow  lower_shador  \n",
       "5298791 2021-09-20 23:40:00     -0.000116     -0.009896  \n",
       "5298792 2021-09-20 23:41:00     -0.000371     -0.010818  \n",
       "5298793 2021-09-20 23:42:00     -0.000100     -0.010494  \n",
       "5298794 2021-09-20 23:43:00     -0.000265     -0.010625  \n",
       "5298795 2021-09-20 23:44:00      0.000131     -0.010630  "
      ]
     },
     "execution_count": 20,
     "metadata": {},
     "output_type": "execute_result"
    }
   ],
   "source": [
    "feature_data.tail()"
   ]
  },
  {
   "cell_type": "code",
   "execution_count": 21,
   "id": "5c18a5c4",
   "metadata": {
    "ExecuteTime": {
     "end_time": "2021-11-10T20:49:48.627594Z",
     "start_time": "2021-11-10T20:49:48.612069Z"
    }
   },
   "outputs": [],
   "source": [
    "PULIC_LB_RANGE = ['2021-06-13 00:00:00',\n",
    "                  '2021-09-13 00:00:00'] # 3 MONTH WORTH OF DATA\n",
    "\n",
    "if USE_TOY_SAMPLE:\n",
    "    EVAL_PERIODS = [['2021-09-15', '2021-09-22']]\n",
    "\n",
    "elif USE_SAMPLE:\n",
    "    EVAL_PERIODS = [PULIC_LB_RANGE]\n",
    "    \n",
    "else:\n",
    "    EVAL_PERIODS = [['2019-01-01', '2019-04-01'],\n",
    "                    ['2021-03-13', '2021-06-12 00:00:00'], \n",
    "                    PULIC_LB_RANGE]"
   ]
  },
  {
   "cell_type": "code",
   "execution_count": 22,
   "id": "635f3b2c",
   "metadata": {
    "ExecuteTime": {
     "end_time": "2021-11-10T20:49:48.659117Z",
     "start_time": "2021-11-10T20:49:48.630342Z"
    }
   },
   "outputs": [],
   "source": [
    "COLUMNS_TO_DROP = [TARGET, 'Asset_Name', 'date', 'timestamp']\n",
    "FEATURES = feature_data.columns.drop(COLUMNS_TO_DROP)\n",
    "MODEL_PARAMS = {'n_estimators': 500,\n",
    " 'max_depth': 11,\n",
    " 'learning_rate': 0.05,\n",
    " 'subsample': 0.9,\n",
    " 'colsample_bytree': 0.7,\n",
    " 'tree_method': 'hist',\n",
    " 'missing': -999,\n",
    " 'random_state': 2020}\n",
    "OUTPUT_PATH = Path('artifacts/baseline/')\n",
    "if SAMPLE_LEVEL > 0:\n",
    "    OUTPUT_PATH = OUTPUT_PATH / f'sample/{SAMPLE_LEVEL}'\n",
    "OUTPUT_PATH.mkdir(exist_ok=True, parents=True)\n",
    "OUTPUT_MODEL_PATH = OUTPUT_PATH / 'xgb.pkl'"
   ]
  },
  {
   "cell_type": "code",
   "execution_count": 23,
   "id": "486fb023",
   "metadata": {
    "ExecuteTime": {
     "end_time": "2021-11-10T20:49:48.686716Z",
     "start_time": "2021-11-10T20:49:48.663152Z"
    }
   },
   "outputs": [
    {
     "data": {
      "text/plain": [
       "Index(['Asset_ID', 'Count', 'Open', 'High', 'Low', 'Close', 'Volume', 'VWAP',\n",
       "       'upper_shadow', 'lower_shador'],\n",
       "      dtype='object')"
      ]
     },
     "execution_count": 23,
     "metadata": {},
     "output_type": "execute_result"
    }
   ],
   "source": [
    "FEATURES"
   ]
  },
  {
   "cell_type": "code",
   "execution_count": 24,
   "id": "25e1027a",
   "metadata": {
    "ExecuteTime": {
     "end_time": "2021-11-10T20:49:48.715193Z",
     "start_time": "2021-11-10T20:49:48.689185Z"
    }
   },
   "outputs": [],
   "source": [
    "### make transformer"
   ]
  },
  {
   "cell_type": "code",
   "execution_count": 25,
   "id": "c14e4265",
   "metadata": {
    "ExecuteTime": {
     "end_time": "2021-11-10T20:49:48.748774Z",
     "start_time": "2021-11-10T20:49:48.718245Z"
    }
   },
   "outputs": [],
   "source": [
    "from sklearn.base import BaseEstimator, TransformerMixin\n",
    "from sklearn.compose import ColumnTransformer\n",
    "from typing import List, Union\n",
    "from sklearn.pipeline import FeatureUnion, Pipeline\n",
    "from functools import reduce\n",
    "from sklearn.preprocessing import FunctionTransformer\n",
    "\n",
    "\n",
    "def join_columns(columns):\n",
    "    return list(map(lambda f: '__'.join(map(str, f)), columns))\n",
    "\n",
    "\n",
    "def pandas_hstack(Xs):\n",
    "    hstackX = np.concatenate(Xs, axis=1)\n",
    "    columns = sum([list(X.columns) for X in Xs], [])\n",
    "    return pd.DataFrame(hstackX, columns=columns)\n",
    "\n",
    "\n",
    "def join_dataframes(A: pd.DataFrame, B: pd.DataFrame) -> pd.DataFrame:\n",
    "    return pandas_hstack([A, B])\n",
    "\n",
    "class PdColumnTransformer(ColumnTransformer):\n",
    "    def _hstack(self, Xs):\n",
    "        return reduce(join_dataframes, Xs)\n",
    "\n",
    "\n",
    "class PdFeatureUnion(FeatureUnion):\n",
    "    def _hstack(self, Xs):\n",
    "        return reduce(join_dataframes, Xs)"
   ]
  },
  {
   "cell_type": "code",
   "execution_count": 26,
   "id": "2b6ec35b",
   "metadata": {
    "ExecuteTime": {
     "end_time": "2021-11-10T20:49:48.785983Z",
     "start_time": "2021-11-10T20:49:48.752107Z"
    }
   },
   "outputs": [],
   "source": [
    "from xgboost import XGBRegressor\n",
    "from lightgbm import LGBMRegressor\n",
    "import joblib\n",
    "# from sklearn.preprocessing import MinMaxScaler"
   ]
  },
  {
   "cell_type": "code",
   "execution_count": 27,
   "id": "a4a76638",
   "metadata": {
    "ExecuteTime": {
     "end_time": "2021-11-10T20:49:48.804541Z",
     "start_time": "2021-11-10T20:49:48.787904Z"
    }
   },
   "outputs": [],
   "source": [
    "def train_model(train_data: pd.DataFrame, valid_data: pd.DataFrame):\n",
    "    model = XGBRegressor(**MODEL_PARAMS)\n",
    "    model.fit(train_data[FEATURES], train_data[TARGET])\n",
    "    \n",
    "    yhat = model.predict(valid_data[FEATURES])\n",
    "    return model, yhat"
   ]
  },
  {
   "cell_type": "code",
   "execution_count": 28,
   "id": "f4709912",
   "metadata": {
    "ExecuteTime": {
     "end_time": "2021-11-10T20:49:48.824822Z",
     "start_time": "2021-11-10T20:49:48.808463Z"
    }
   },
   "outputs": [],
   "source": [
    "def filter_by_index(df: pd.DataFrame, index) -> pd.DataFrame:\n",
    "    return df.loc[index, :].reset_index(drop=True)"
   ]
  },
  {
   "cell_type": "code",
   "execution_count": 29,
   "id": "abffd1a9",
   "metadata": {
    "ExecuteTime": {
     "end_time": "2021-11-10T20:52:17.558020Z",
     "start_time": "2021-11-10T20:49:48.826288Z"
    }
   },
   "outputs": [
    {
     "name": "stdout",
     "output_type": "stream",
     "text": [
      "0\n"
     ]
    }
   ],
   "source": [
    "CV = TimeSeriesSplit(EVAL_PERIODS, gap_unit='min')\n",
    "SCORES = []\n",
    "valid_corrs = pd.DataFrame()\n",
    "for fold, (train_idx, valid_idx) in enumerate(CV.split(feature_data)):\n",
    "    print(fold)\n",
    "    train_data = filter_by_index(feature_data, train_idx)\n",
    "    valid_data = filter_by_index(feature_data, valid_idx)\n",
    "    \n",
    "    model, yhat = train_model(train_data, valid_data)\n",
    "    \n",
    "    valid_data['yhat'] = yhat\n",
    "\n",
    "    scores, fold_valid_corrs = compute_metrics(valid_data)\n",
    "    scores['fold'] = fold\n",
    "    valid_corrs = valid_corrs.append(fold_valid_corrs.assign(fold=fold), ignore_index=True)\n",
    "    \n",
    "    SCORES.append(scores)\n",
    "    \n",
    "cv_scores = pd.DataFrame(SCORES)"
   ]
  },
  {
   "cell_type": "code",
   "execution_count": 30,
   "id": "bda95266",
   "metadata": {
    "ExecuteTime": {
     "end_time": "2021-11-10T20:52:17.583386Z",
     "start_time": "2021-11-10T20:52:17.560428Z"
    }
   },
   "outputs": [
    {
     "data": {
      "text/html": [
       "<div>\n",
       "<style scoped>\n",
       "    .dataframe tbody tr th:only-of-type {\n",
       "        vertical-align: middle;\n",
       "    }\n",
       "\n",
       "    .dataframe tbody tr th {\n",
       "        vertical-align: top;\n",
       "    }\n",
       "\n",
       "    .dataframe thead th {\n",
       "        text-align: right;\n",
       "    }\n",
       "</style>\n",
       "<table border=\"1\" class=\"dataframe\">\n",
       "  <thead>\n",
       "    <tr style=\"text-align: right;\">\n",
       "      <th></th>\n",
       "      <th>weighted_corr</th>\n",
       "      <th>theor_corr</th>\n",
       "      <th>corr_min</th>\n",
       "      <th>corr_max</th>\n",
       "      <th>corr_std</th>\n",
       "      <th>fold</th>\n",
       "    </tr>\n",
       "  </thead>\n",
       "  <tbody>\n",
       "    <tr>\n",
       "      <th>0</th>\n",
       "      <td>0.003278</td>\n",
       "      <td>0.008056</td>\n",
       "      <td>-0.061427</td>\n",
       "      <td>0.055753</td>\n",
       "      <td>0.025934</td>\n",
       "      <td>0.0</td>\n",
       "    </tr>\n",
       "  </tbody>\n",
       "</table>\n",
       "</div>"
      ],
      "text/plain": [
       "   weighted_corr  theor_corr  corr_min  corr_max  corr_std  fold\n",
       "0       0.003278    0.008056 -0.061427  0.055753  0.025934   0.0"
      ]
     },
     "execution_count": 30,
     "metadata": {},
     "output_type": "execute_result"
    }
   ],
   "source": [
    "cv_scores"
   ]
  },
  {
   "cell_type": "code",
   "execution_count": 31,
   "id": "ee54fbc2",
   "metadata": {
    "ExecuteTime": {
     "end_time": "2021-11-10T20:52:17.607462Z",
     "start_time": "2021-11-10T20:52:17.585372Z"
    }
   },
   "outputs": [
    {
     "data": {
      "text/html": [
       "<div>\n",
       "<style scoped>\n",
       "    .dataframe tbody tr th:only-of-type {\n",
       "        vertical-align: middle;\n",
       "    }\n",
       "\n",
       "    .dataframe tbody tr th {\n",
       "        vertical-align: top;\n",
       "    }\n",
       "\n",
       "    .dataframe thead th {\n",
       "        text-align: right;\n",
       "    }\n",
       "</style>\n",
       "<table border=\"1\" class=\"dataframe\">\n",
       "  <thead>\n",
       "    <tr style=\"text-align: right;\">\n",
       "      <th></th>\n",
       "      <th>Asset_Name</th>\n",
       "      <th>corr</th>\n",
       "      <th>weight</th>\n",
       "      <th>weighted_corr</th>\n",
       "      <th>fold</th>\n",
       "    </tr>\n",
       "  </thead>\n",
       "  <tbody>\n",
       "    <tr>\n",
       "      <th>0</th>\n",
       "      <td>Binance Coin</td>\n",
       "      <td>-0.001084</td>\n",
       "      <td>4.304065</td>\n",
       "      <td>-0.004667</td>\n",
       "      <td>0</td>\n",
       "    </tr>\n",
       "    <tr>\n",
       "      <th>1</th>\n",
       "      <td>Bitcoin</td>\n",
       "      <td>-0.000147</td>\n",
       "      <td>6.779922</td>\n",
       "      <td>-0.000997</td>\n",
       "      <td>0</td>\n",
       "    </tr>\n",
       "    <tr>\n",
       "      <th>2</th>\n",
       "      <td>Bitcoin Cash</td>\n",
       "      <td>-0.061427</td>\n",
       "      <td>2.397895</td>\n",
       "      <td>-0.147297</td>\n",
       "      <td>0</td>\n",
       "    </tr>\n",
       "    <tr>\n",
       "      <th>3</th>\n",
       "      <td>Cardano</td>\n",
       "      <td>0.018008</td>\n",
       "      <td>4.406719</td>\n",
       "      <td>0.079355</td>\n",
       "      <td>0</td>\n",
       "    </tr>\n",
       "    <tr>\n",
       "      <th>4</th>\n",
       "      <td>Dogecoin</td>\n",
       "      <td>0.021827</td>\n",
       "      <td>3.555348</td>\n",
       "      <td>0.077604</td>\n",
       "      <td>0</td>\n",
       "    </tr>\n",
       "    <tr>\n",
       "      <th>5</th>\n",
       "      <td>EOS.IO</td>\n",
       "      <td>0.007025</td>\n",
       "      <td>1.386294</td>\n",
       "      <td>0.009739</td>\n",
       "      <td>0</td>\n",
       "    </tr>\n",
       "    <tr>\n",
       "      <th>6</th>\n",
       "      <td>Ethereum</td>\n",
       "      <td>-0.006847</td>\n",
       "      <td>5.894403</td>\n",
       "      <td>-0.040360</td>\n",
       "      <td>0</td>\n",
       "    </tr>\n",
       "    <tr>\n",
       "      <th>7</th>\n",
       "      <td>Ethereum Classic</td>\n",
       "      <td>0.022420</td>\n",
       "      <td>2.079442</td>\n",
       "      <td>0.046621</td>\n",
       "      <td>0</td>\n",
       "    </tr>\n",
       "    <tr>\n",
       "      <th>8</th>\n",
       "      <td>IOTA</td>\n",
       "      <td>0.006241</td>\n",
       "      <td>1.098612</td>\n",
       "      <td>0.006857</td>\n",
       "      <td>0</td>\n",
       "    </tr>\n",
       "    <tr>\n",
       "      <th>9</th>\n",
       "      <td>Litecoin</td>\n",
       "      <td>0.007839</td>\n",
       "      <td>2.397895</td>\n",
       "      <td>0.018798</td>\n",
       "      <td>0</td>\n",
       "    </tr>\n",
       "    <tr>\n",
       "      <th>10</th>\n",
       "      <td>Maker</td>\n",
       "      <td>-0.021639</td>\n",
       "      <td>1.098612</td>\n",
       "      <td>-0.023772</td>\n",
       "      <td>0</td>\n",
       "    </tr>\n",
       "    <tr>\n",
       "      <th>11</th>\n",
       "      <td>Monero</td>\n",
       "      <td>0.003757</td>\n",
       "      <td>1.609438</td>\n",
       "      <td>0.006046</td>\n",
       "      <td>0</td>\n",
       "    </tr>\n",
       "    <tr>\n",
       "      <th>12</th>\n",
       "      <td>Stellar</td>\n",
       "      <td>0.055753</td>\n",
       "      <td>2.079442</td>\n",
       "      <td>0.115936</td>\n",
       "      <td>0</td>\n",
       "    </tr>\n",
       "    <tr>\n",
       "      <th>13</th>\n",
       "      <td>TRON</td>\n",
       "      <td>-0.005514</td>\n",
       "      <td>1.791759</td>\n",
       "      <td>-0.009879</td>\n",
       "      <td>0</td>\n",
       "    </tr>\n",
       "  </tbody>\n",
       "</table>\n",
       "</div>"
      ],
      "text/plain": [
       "          Asset_Name      corr    weight  weighted_corr  fold\n",
       "0       Binance Coin -0.001084  4.304065      -0.004667     0\n",
       "1            Bitcoin -0.000147  6.779922      -0.000997     0\n",
       "2       Bitcoin Cash -0.061427  2.397895      -0.147297     0\n",
       "3            Cardano  0.018008  4.406719       0.079355     0\n",
       "4           Dogecoin  0.021827  3.555348       0.077604     0\n",
       "5             EOS.IO  0.007025  1.386294       0.009739     0\n",
       "6           Ethereum -0.006847  5.894403      -0.040360     0\n",
       "7   Ethereum Classic  0.022420  2.079442       0.046621     0\n",
       "8               IOTA  0.006241  1.098612       0.006857     0\n",
       "9           Litecoin  0.007839  2.397895       0.018798     0\n",
       "10             Maker -0.021639  1.098612      -0.023772     0\n",
       "11            Monero  0.003757  1.609438       0.006046     0\n",
       "12           Stellar  0.055753  2.079442       0.115936     0\n",
       "13              TRON -0.005514  1.791759      -0.009879     0"
      ]
     },
     "execution_count": 31,
     "metadata": {},
     "output_type": "execute_result"
    }
   ],
   "source": [
    "valid_corrs"
   ]
  },
  {
   "cell_type": "code",
   "execution_count": 32,
   "id": "a5ac89e6",
   "metadata": {
    "ExecuteTime": {
     "end_time": "2021-11-10T20:52:17.817384Z",
     "start_time": "2021-11-10T20:52:17.610134Z"
    }
   },
   "outputs": [
    {
     "data": {
      "image/png": "[encoded data removed]",
      "text/plain": [
       "<Figure size 576x360 with 1 Axes>"
      ]
     },
     "metadata": {
      "needs_background": "light"
     },
     "output_type": "display_data"
    }
   ],
   "source": [
    "plt.figure(figsize=(8, 5))\n",
    "sns.barplot(x='Asset_Name', y='corr', data=valid_corrs)\n",
    "plt.xticks(rotation=90);"
   ]
  },
  {
   "cell_type": "code",
   "execution_count": null,
   "id": "09cf3a05",
   "metadata": {},
   "outputs": [],
   "source": []
  }
 ],
 "metadata": {
  "kernelspec": {
   "display_name": "Python 3 (ipykernel)",
   "language": "python",
   "name": "python3"
  },
  "language_info": {
   "codemirror_mode": {
    "name": "ipython",
    "version": 3
   },
   "file_extension": ".py",
   "mimetype": "text/x-python",
   "name": "python",
   "nbconvert_exporter": "python",
   "pygments_lexer": "ipython3",
   "version": "3.7.11"
  },
  "toc": {
   "base_numbering": 1,
   "nav_menu": {},
   "number_sections": true,
   "sideBar": true,
   "skip_h1_title": false,
   "title_cell": "Table of Contents",
   "title_sidebar": "Contents",
   "toc_cell": false,
   "toc_position": {},
   "toc_section_display": true,
   "toc_window_display": false
  }
 },
 "nbformat": 4,
 "nbformat_minor": 5
}
