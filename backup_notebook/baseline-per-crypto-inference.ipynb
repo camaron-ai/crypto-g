{
 "cells": [
  {
   "cell_type": "code",
   "execution_count": 1,
   "id": "f255bb4e",
   "metadata": {
    "ExecuteTime": {
     "end_time": "2021-11-08T13:59:15.499935Z",
     "start_time": "2021-11-08T13:59:14.392736Z"
    }
   },
   "outputs": [],
   "source": [
    "import pandas as pd\n",
    "import numpy as np\n",
    "from matplotlib import pyplot as plt\n",
    "import seaborn as sns\n",
    "from pathlib import Path\n",
    "import os\n",
    "import sys\n",
    "from IPython.display import display"
   ]
  },
  {
   "cell_type": "code",
   "execution_count": 2,
   "id": "136f5247",
   "metadata": {
    "ExecuteTime": {
     "end_time": "2021-11-08T13:59:15.505779Z",
     "start_time": "2021-11-08T13:59:15.502721Z"
    }
   },
   "outputs": [],
   "source": [
    "def on_kaggle() -> bool:\n",
    "    try:\n",
    "        import gresearch_crypto\n",
    "        return True\n",
    "    except ModuleNotFoundError:\n",
    "        return False"
   ]
  },
  {
   "cell_type": "code",
   "execution_count": 3,
   "id": "432ba6ef",
   "metadata": {
    "ExecuteTime": {
     "end_time": "2021-11-08T13:59:15.518652Z",
     "start_time": "2021-11-08T13:59:15.508758Z"
    }
   },
   "outputs": [],
   "source": [
    "# HYPER PARAMETERS\n",
    "ON_KAGGLE = on_kaggle()\n",
    "SAMPLE_LEVEL = 0\n",
    "USE_SAMPLE = SAMPLE_LEVEL == 1\n",
    "USE_TOY_SAMPLE = SAMPLE_LEVEL == 2\n",
    "\n",
    "FORCE_REWRITE = (ON_KAGGLE and SAMPLE_LEVEL == 0)"
   ]
  },
  {
   "cell_type": "code",
   "execution_count": 4,
   "id": "3ee2a957",
   "metadata": {
    "ExecuteTime": {
     "end_time": "2021-11-08T13:59:15.528834Z",
     "start_time": "2021-11-08T13:59:15.522857Z"
    }
   },
   "outputs": [],
   "source": [
    "if not ON_KAGGLE and os.path.abspath('.').endswith('notebook'):\n",
    "    os.chdir('../')"
   ]
  },
  {
   "cell_type": "code",
   "execution_count": 5,
   "id": "1b3c10b1",
   "metadata": {
    "ExecuteTime": {
     "end_time": "2021-11-08T13:59:15.541320Z",
     "start_time": "2021-11-08T13:59:15.530404Z"
    }
   },
   "outputs": [],
   "source": [
    "#IMPORT_SCRIPT!\n",
    "# THIS CELL WILL BE REMOVE WITH SCRIPTS IN SRC\n",
    "if './src/' not in sys.path:\n",
    "    sys.path.append('./src')\n",
    "\n",
    "from preprocessing import *\n",
    "from metrics import *"
   ]
  },
  {
   "cell_type": "code",
   "execution_count": 6,
   "id": "5dcd141e",
   "metadata": {
    "ExecuteTime": {
     "end_time": "2021-11-08T13:59:15.550904Z",
     "start_time": "2021-11-08T13:59:15.543039Z"
    }
   },
   "outputs": [],
   "source": [
    "if ON_KAGGLE:\n",
    "    RAW_DIR = Path('../input/g-research-crypto-forecasting/')\n",
    "    SAMPLE_DIR = Path('../input/create-sample-dataset/data/raw/sample/')\n",
    "    TOY_SAMPLE_DIR = Path('../input/create-sample-dataset/data/raw/toy_sample/')\n",
    "else:\n",
    "    RAW_DIR =  Path('data/raw')\n",
    "    TOY_SAMPLE_DIR = RAW_DIR.joinpath('toy_sample')\n",
    "    SAMPLE_DIR = RAW_DIR.joinpath('sample')\n",
    "\n",
    "# filename\n",
    "TRAIN_FILE = 'train.csv'\n",
    "ASSET_DETAILS_PATH = RAW_DIR / 'asset_details.csv'"
   ]
  },
  {
   "cell_type": "code",
   "execution_count": 7,
   "id": "74f7a9ab",
   "metadata": {
    "ExecuteTime": {
     "end_time": "2021-11-08T13:59:15.847521Z",
     "start_time": "2021-11-08T13:59:15.840341Z"
    }
   },
   "outputs": [
    {
     "name": "stdout",
     "output_type": "stream",
     "text": [
      "USING RAW DATASET\n"
     ]
    }
   ],
   "source": [
    "if USE_TOY_SAMPLE:\n",
    "    print('USING TOY DATASET')\n",
    "    RAW_TRAIN_PATH = TOY_SAMPLE_DIR / TRAIN_FILE\n",
    "\n",
    "elif USE_SAMPLE:\n",
    "    print('USING SAMPLE DATASET')\n",
    "    RAW_TRAIN_PATH = SAMPLE_DIR / TRAIN_FILE\n",
    "\n",
    "else:\n",
    "    print('USING RAW DATASET')\n",
    "    RAW_TRAIN_PATH = RAW_DIR / TRAIN_FILE\n",
    "\n",
    "assert RAW_TRAIN_PATH.exists()"
   ]
  },
  {
   "cell_type": "code",
   "execution_count": 8,
   "id": "28ef35af",
   "metadata": {
    "ExecuteTime": {
     "end_time": "2021-11-08T13:59:16.321514Z",
     "start_time": "2021-11-08T13:59:16.199145Z"
    }
   },
   "outputs": [
    {
     "name": "stdout",
     "output_type": "stream",
     "text": [
      "asset_details.csv\t\t   sample\r\n",
      "example_sample_submission.csv\t   supplemental_train.csv\r\n",
      "example_test.csv\t\t   toy_sample\r\n",
      "g-research-crypto-forecasting.zip  train.csv\r\n",
      "gresearch_crypto\r\n"
     ]
    }
   ],
   "source": [
    "!ls {RAW_DIR}"
   ]
  },
  {
   "cell_type": "code",
   "execution_count": 9,
   "id": "4b479f0e",
   "metadata": {
    "ExecuteTime": {
     "end_time": "2021-11-08T13:59:39.151693Z",
     "start_time": "2021-11-08T13:59:16.759940Z"
    },
    "scrolled": true
   },
   "outputs": [
    {
     "name": "stdout",
     "output_type": "stream",
     "text": [
      "CPU times: user 19.1 s, sys: 1.89 s, total: 20.9 s\n",
      "Wall time: 22.4 s\n"
     ]
    }
   ],
   "source": [
    "%%time \n",
    "raw_df = pd.read_csv(RAW_TRAIN_PATH)"
   ]
  },
  {
   "cell_type": "code",
   "execution_count": 10,
   "id": "5be54336",
   "metadata": {
    "ExecuteTime": {
     "end_time": "2021-11-08T13:59:53.172167Z",
     "start_time": "2021-11-08T13:59:39.155053Z"
    }
   },
   "outputs": [],
   "source": [
    "raw_df = ingest_data(raw_df, asset_details_path=ASSET_DETAILS_PATH)"
   ]
  },
  {
   "cell_type": "code",
   "execution_count": 11,
   "id": "d1722287",
   "metadata": {
    "ExecuteTime": {
     "end_time": "2021-11-08T14:00:02.269741Z",
     "start_time": "2021-11-08T13:59:53.233116Z"
    }
   },
   "outputs": [],
   "source": [
    "raw_df.sort_values(by=['Asset_ID', 'date'], inplace=True)\n",
    "raw_df.reset_index(drop=True, inplace=True)"
   ]
  },
  {
   "cell_type": "code",
   "execution_count": 12,
   "id": "3f9f8d35",
   "metadata": {
    "ExecuteTime": {
     "end_time": "2021-11-08T14:00:02.302379Z",
     "start_time": "2021-11-08T14:00:02.272361Z"
    },
    "scrolled": true
   },
   "outputs": [
    {
     "data": {
      "text/html": [
       "<div>\n",
       "<style scoped>\n",
       "    .dataframe tbody tr th:only-of-type {\n",
       "        vertical-align: middle;\n",
       "    }\n",
       "\n",
       "    .dataframe tbody tr th {\n",
       "        vertical-align: top;\n",
       "    }\n",
       "\n",
       "    .dataframe thead th {\n",
       "        text-align: right;\n",
       "    }\n",
       "</style>\n",
       "<table border=\"1\" class=\"dataframe\">\n",
       "  <thead>\n",
       "    <tr style=\"text-align: right;\">\n",
       "      <th></th>\n",
       "      <th>timestamp</th>\n",
       "      <th>Asset_ID</th>\n",
       "      <th>Count</th>\n",
       "      <th>Open</th>\n",
       "      <th>High</th>\n",
       "      <th>Low</th>\n",
       "      <th>Close</th>\n",
       "      <th>Volume</th>\n",
       "      <th>VWAP</th>\n",
       "      <th>Target</th>\n",
       "      <th>Asset_Name</th>\n",
       "      <th>date</th>\n",
       "    </tr>\n",
       "  </thead>\n",
       "  <tbody>\n",
       "    <tr>\n",
       "      <th>0</th>\n",
       "      <td>1514764860</td>\n",
       "      <td>0</td>\n",
       "      <td>5.0</td>\n",
       "      <td>8.5300</td>\n",
       "      <td>8.5300</td>\n",
       "      <td>8.5300</td>\n",
       "      <td>8.5300</td>\n",
       "      <td>78.38</td>\n",
       "      <td>8.530000</td>\n",
       "      <td>-0.014399</td>\n",
       "      <td>Binance Coin</td>\n",
       "      <td>2018-01-01 00:01:00</td>\n",
       "    </tr>\n",
       "    <tr>\n",
       "      <th>1</th>\n",
       "      <td>1514764920</td>\n",
       "      <td>0</td>\n",
       "      <td>7.0</td>\n",
       "      <td>8.5300</td>\n",
       "      <td>8.5300</td>\n",
       "      <td>8.5145</td>\n",
       "      <td>8.5145</td>\n",
       "      <td>71.39</td>\n",
       "      <td>8.520215</td>\n",
       "      <td>-0.015875</td>\n",
       "      <td>Binance Coin</td>\n",
       "      <td>2018-01-01 00:02:00</td>\n",
       "    </tr>\n",
       "    <tr>\n",
       "      <th>2</th>\n",
       "      <td>1514764980</td>\n",
       "      <td>0</td>\n",
       "      <td>45.0</td>\n",
       "      <td>8.5065</td>\n",
       "      <td>8.5299</td>\n",
       "      <td>8.4848</td>\n",
       "      <td>8.4848</td>\n",
       "      <td>1546.82</td>\n",
       "      <td>8.501393</td>\n",
       "      <td>-0.015410</td>\n",
       "      <td>Binance Coin</td>\n",
       "      <td>2018-01-01 00:03:00</td>\n",
       "    </tr>\n",
       "    <tr>\n",
       "      <th>3</th>\n",
       "      <td>1514765040</td>\n",
       "      <td>0</td>\n",
       "      <td>14.0</td>\n",
       "      <td>8.5009</td>\n",
       "      <td>8.5066</td>\n",
       "      <td>8.4744</td>\n",
       "      <td>8.5009</td>\n",
       "      <td>125.80</td>\n",
       "      <td>8.479810</td>\n",
       "      <td>-0.012524</td>\n",
       "      <td>Binance Coin</td>\n",
       "      <td>2018-01-01 00:04:00</td>\n",
       "    </tr>\n",
       "    <tr>\n",
       "      <th>4</th>\n",
       "      <td>1514765100</td>\n",
       "      <td>0</td>\n",
       "      <td>5.0</td>\n",
       "      <td>8.5007</td>\n",
       "      <td>8.5007</td>\n",
       "      <td>8.4560</td>\n",
       "      <td>8.4560</td>\n",
       "      <td>125.01</td>\n",
       "      <td>8.458435</td>\n",
       "      <td>-0.005940</td>\n",
       "      <td>Binance Coin</td>\n",
       "      <td>2018-01-01 00:05:00</td>\n",
       "    </tr>\n",
       "  </tbody>\n",
       "</table>\n",
       "</div>"
      ],
      "text/plain": [
       "    timestamp  Asset_ID  Count    Open    High     Low   Close   Volume  \\\n",
       "0  1514764860         0    5.0  8.5300  8.5300  8.5300  8.5300    78.38   \n",
       "1  1514764920         0    7.0  8.5300  8.5300  8.5145  8.5145    71.39   \n",
       "2  1514764980         0   45.0  8.5065  8.5299  8.4848  8.4848  1546.82   \n",
       "3  1514765040         0   14.0  8.5009  8.5066  8.4744  8.5009   125.80   \n",
       "4  1514765100         0    5.0  8.5007  8.5007  8.4560  8.4560   125.01   \n",
       "\n",
       "       VWAP    Target    Asset_Name                date  \n",
       "0  8.530000 -0.014399  Binance Coin 2018-01-01 00:01:00  \n",
       "1  8.520215 -0.015875  Binance Coin 2018-01-01 00:02:00  \n",
       "2  8.501393 -0.015410  Binance Coin 2018-01-01 00:03:00  \n",
       "3  8.479810 -0.012524  Binance Coin 2018-01-01 00:04:00  \n",
       "4  8.458435 -0.005940  Binance Coin 2018-01-01 00:05:00  "
      ]
     },
     "execution_count": 12,
     "metadata": {},
     "output_type": "execute_result"
    }
   ],
   "source": [
    "raw_df.head()"
   ]
  },
  {
   "cell_type": "code",
   "execution_count": 13,
   "id": "4f7747d4",
   "metadata": {
    "ExecuteTime": {
     "end_time": "2021-11-06T18:52:34.603176Z",
     "start_time": "2021-11-06T18:52:34.597278Z"
    }
   },
   "outputs": [],
   "source": [
    "TARGET = 'Target'\n",
    "INDEX_COLS = ['Asset_ID', 'Asset_Name', 'date', 'timestamp']"
   ]
  },
  {
   "cell_type": "code",
   "execution_count": 14,
   "id": "c6388daf",
   "metadata": {
    "ExecuteTime": {
     "end_time": "2021-11-06T18:52:34.635646Z",
     "start_time": "2021-11-06T18:52:34.605226Z"
    }
   },
   "outputs": [],
   "source": [
    "feature_data = compute_features(raw_df)"
   ]
  },
  {
   "cell_type": "code",
   "execution_count": 15,
   "id": "aa0aa048",
   "metadata": {
    "ExecuteTime": {
     "end_time": "2021-11-06T18:52:34.702996Z",
     "start_time": "2021-11-06T18:52:34.638203Z"
    }
   },
   "outputs": [],
   "source": [
    "feature_data = feature_data.dropna(subset=[TARGET]).reset_index(drop=True)"
   ]
  },
  {
   "cell_type": "code",
   "execution_count": 16,
   "id": "48247838",
   "metadata": {
    "ExecuteTime": {
     "end_time": "2021-11-06T18:52:34.727755Z",
     "start_time": "2021-11-06T18:52:34.705485Z"
    }
   },
   "outputs": [
    {
     "data": {
      "text/html": [
       "<div>\n",
       "<style scoped>\n",
       "    .dataframe tbody tr th:only-of-type {\n",
       "        vertical-align: middle;\n",
       "    }\n",
       "\n",
       "    .dataframe tbody tr th {\n",
       "        vertical-align: top;\n",
       "    }\n",
       "\n",
       "    .dataframe thead th {\n",
       "        text-align: right;\n",
       "    }\n",
       "</style>\n",
       "<table border=\"1\" class=\"dataframe\">\n",
       "  <thead>\n",
       "    <tr style=\"text-align: right;\">\n",
       "      <th></th>\n",
       "      <th>timestamp</th>\n",
       "      <th>Asset_ID</th>\n",
       "      <th>Count</th>\n",
       "      <th>Open</th>\n",
       "      <th>High</th>\n",
       "      <th>Low</th>\n",
       "      <th>Close</th>\n",
       "      <th>Volume</th>\n",
       "      <th>VWAP</th>\n",
       "      <th>Target</th>\n",
       "      <th>Asset_Name</th>\n",
       "      <th>date</th>\n",
       "      <th>upper_shadow</th>\n",
       "      <th>lower_shador</th>\n",
       "    </tr>\n",
       "  </thead>\n",
       "  <tbody>\n",
       "    <tr>\n",
       "      <th>0</th>\n",
       "      <td>1630454460</td>\n",
       "      <td>0</td>\n",
       "      <td>373.0</td>\n",
       "      <td>462.223511</td>\n",
       "      <td>463.300995</td>\n",
       "      <td>462.200012</td>\n",
       "      <td>463.005493</td>\n",
       "      <td>865.269358</td>\n",
       "      <td>462.689636</td>\n",
       "      <td>0.002667</td>\n",
       "      <td>Binance Coin</td>\n",
       "      <td>2021-09-01 00:01:00</td>\n",
       "      <td>0.295502</td>\n",
       "      <td>0.023499</td>\n",
       "    </tr>\n",
       "    <tr>\n",
       "      <th>1</th>\n",
       "      <td>1630454520</td>\n",
       "      <td>0</td>\n",
       "      <td>772.0</td>\n",
       "      <td>462.939514</td>\n",
       "      <td>463.106995</td>\n",
       "      <td>461.000000</td>\n",
       "      <td>461.312988</td>\n",
       "      <td>1723.852100</td>\n",
       "      <td>461.899841</td>\n",
       "      <td>0.002237</td>\n",
       "      <td>Binance Coin</td>\n",
       "      <td>2021-09-01 00:02:00</td>\n",
       "      <td>0.167480</td>\n",
       "      <td>0.312988</td>\n",
       "    </tr>\n",
       "    <tr>\n",
       "      <th>2</th>\n",
       "      <td>1630454580</td>\n",
       "      <td>0</td>\n",
       "      <td>864.0</td>\n",
       "      <td>461.265503</td>\n",
       "      <td>461.330994</td>\n",
       "      <td>459.799988</td>\n",
       "      <td>460.632507</td>\n",
       "      <td>2172.706734</td>\n",
       "      <td>460.532562</td>\n",
       "      <td>0.001018</td>\n",
       "      <td>Binance Coin</td>\n",
       "      <td>2021-09-01 00:03:00</td>\n",
       "      <td>0.065491</td>\n",
       "      <td>0.832520</td>\n",
       "    </tr>\n",
       "    <tr>\n",
       "      <th>3</th>\n",
       "      <td>1630454640</td>\n",
       "      <td>0</td>\n",
       "      <td>419.0</td>\n",
       "      <td>460.799500</td>\n",
       "      <td>463.000000</td>\n",
       "      <td>460.600006</td>\n",
       "      <td>462.755005</td>\n",
       "      <td>1050.009400</td>\n",
       "      <td>461.469299</td>\n",
       "      <td>0.001898</td>\n",
       "      <td>Binance Coin</td>\n",
       "      <td>2021-09-01 00:04:00</td>\n",
       "      <td>0.244995</td>\n",
       "      <td>0.199493</td>\n",
       "    </tr>\n",
       "    <tr>\n",
       "      <th>4</th>\n",
       "      <td>1630454700</td>\n",
       "      <td>0</td>\n",
       "      <td>1215.0</td>\n",
       "      <td>462.825989</td>\n",
       "      <td>465.399994</td>\n",
       "      <td>462.726013</td>\n",
       "      <td>465.266998</td>\n",
       "      <td>3102.896636</td>\n",
       "      <td>463.948822</td>\n",
       "      <td>0.001000</td>\n",
       "      <td>Binance Coin</td>\n",
       "      <td>2021-09-01 00:05:00</td>\n",
       "      <td>0.132996</td>\n",
       "      <td>0.099976</td>\n",
       "    </tr>\n",
       "  </tbody>\n",
       "</table>\n",
       "</div>"
      ],
      "text/plain": [
       "    timestamp  Asset_ID   Count        Open        High         Low  \\\n",
       "0  1630454460         0   373.0  462.223511  463.300995  462.200012   \n",
       "1  1630454520         0   772.0  462.939514  463.106995  461.000000   \n",
       "2  1630454580         0   864.0  461.265503  461.330994  459.799988   \n",
       "3  1630454640         0   419.0  460.799500  463.000000  460.600006   \n",
       "4  1630454700         0  1215.0  462.825989  465.399994  462.726013   \n",
       "\n",
       "        Close       Volume        VWAP    Target    Asset_Name  \\\n",
       "0  463.005493   865.269358  462.689636  0.002667  Binance Coin   \n",
       "1  461.312988  1723.852100  461.899841  0.002237  Binance Coin   \n",
       "2  460.632507  2172.706734  460.532562  0.001018  Binance Coin   \n",
       "3  462.755005  1050.009400  461.469299  0.001898  Binance Coin   \n",
       "4  465.266998  3102.896636  463.948822  0.001000  Binance Coin   \n",
       "\n",
       "                 date  upper_shadow  lower_shador  \n",
       "0 2021-09-01 00:01:00      0.295502      0.023499  \n",
       "1 2021-09-01 00:02:00      0.167480      0.312988  \n",
       "2 2021-09-01 00:03:00      0.065491      0.832520  \n",
       "3 2021-09-01 00:04:00      0.244995      0.199493  \n",
       "4 2021-09-01 00:05:00      0.132996      0.099976  "
      ]
     },
     "execution_count": 16,
     "metadata": {},
     "output_type": "execute_result"
    }
   ],
   "source": [
    "feature_data.head()"
   ]
  },
  {
   "cell_type": "code",
   "execution_count": 17,
   "id": "190b158a",
   "metadata": {
    "ExecuteTime": {
     "end_time": "2021-11-06T18:52:34.749518Z",
     "start_time": "2021-11-06T18:52:34.731288Z"
    }
   },
   "outputs": [
    {
     "data": {
      "text/html": [
       "<div>\n",
       "<style scoped>\n",
       "    .dataframe tbody tr th:only-of-type {\n",
       "        vertical-align: middle;\n",
       "    }\n",
       "\n",
       "    .dataframe tbody tr th {\n",
       "        vertical-align: top;\n",
       "    }\n",
       "\n",
       "    .dataframe thead th {\n",
       "        text-align: right;\n",
       "    }\n",
       "</style>\n",
       "<table border=\"1\" class=\"dataframe\">\n",
       "  <thead>\n",
       "    <tr style=\"text-align: right;\">\n",
       "      <th></th>\n",
       "      <th>timestamp</th>\n",
       "      <th>Asset_ID</th>\n",
       "      <th>Count</th>\n",
       "      <th>Open</th>\n",
       "      <th>High</th>\n",
       "      <th>Low</th>\n",
       "      <th>Close</th>\n",
       "      <th>Volume</th>\n",
       "      <th>VWAP</th>\n",
       "      <th>Target</th>\n",
       "      <th>Asset_Name</th>\n",
       "      <th>date</th>\n",
       "      <th>upper_shadow</th>\n",
       "      <th>lower_shador</th>\n",
       "    </tr>\n",
       "  </thead>\n",
       "  <tbody>\n",
       "    <tr>\n",
       "      <th>402816</th>\n",
       "      <td>1632181200</td>\n",
       "      <td>13</td>\n",
       "      <td>986.0</td>\n",
       "      <td>0.090885</td>\n",
       "      <td>0.091054</td>\n",
       "      <td>0.090710</td>\n",
       "      <td>0.090941</td>\n",
       "      <td>5.734456e+06</td>\n",
       "      <td>0.090831</td>\n",
       "      <td>0.000199</td>\n",
       "      <td>TRON</td>\n",
       "      <td>2021-09-20 23:40:00</td>\n",
       "      <td>0.000113</td>\n",
       "      <td>0.000175</td>\n",
       "    </tr>\n",
       "    <tr>\n",
       "      <th>402817</th>\n",
       "      <td>1632181260</td>\n",
       "      <td>13</td>\n",
       "      <td>715.0</td>\n",
       "      <td>0.091010</td>\n",
       "      <td>0.091277</td>\n",
       "      <td>0.090980</td>\n",
       "      <td>0.091203</td>\n",
       "      <td>1.989048e+06</td>\n",
       "      <td>0.091125</td>\n",
       "      <td>-0.003477</td>\n",
       "      <td>TRON</td>\n",
       "      <td>2021-09-20 23:41:00</td>\n",
       "      <td>0.000074</td>\n",
       "      <td>0.000030</td>\n",
       "    </tr>\n",
       "    <tr>\n",
       "      <th>402818</th>\n",
       "      <td>1632181320</td>\n",
       "      <td>13</td>\n",
       "      <td>527.0</td>\n",
       "      <td>0.091171</td>\n",
       "      <td>0.091295</td>\n",
       "      <td>0.091092</td>\n",
       "      <td>0.091180</td>\n",
       "      <td>2.386078e+06</td>\n",
       "      <td>0.091185</td>\n",
       "      <td>-0.002437</td>\n",
       "      <td>TRON</td>\n",
       "      <td>2021-09-20 23:42:00</td>\n",
       "      <td>0.000115</td>\n",
       "      <td>0.000079</td>\n",
       "    </tr>\n",
       "    <tr>\n",
       "      <th>402819</th>\n",
       "      <td>1632181380</td>\n",
       "      <td>13</td>\n",
       "      <td>463.0</td>\n",
       "      <td>0.091206</td>\n",
       "      <td>0.091290</td>\n",
       "      <td>0.091028</td>\n",
       "      <td>0.091081</td>\n",
       "      <td>1.568854e+06</td>\n",
       "      <td>0.091131</td>\n",
       "      <td>0.004843</td>\n",
       "      <td>TRON</td>\n",
       "      <td>2021-09-20 23:43:00</td>\n",
       "      <td>0.000084</td>\n",
       "      <td>0.000053</td>\n",
       "    </tr>\n",
       "    <tr>\n",
       "      <th>402820</th>\n",
       "      <td>1632181440</td>\n",
       "      <td>13</td>\n",
       "      <td>512.0</td>\n",
       "      <td>0.090989</td>\n",
       "      <td>0.091133</td>\n",
       "      <td>0.090831</td>\n",
       "      <td>0.090885</td>\n",
       "      <td>1.900695e+06</td>\n",
       "      <td>0.090943</td>\n",
       "      <td>0.004163</td>\n",
       "      <td>TRON</td>\n",
       "      <td>2021-09-20 23:44:00</td>\n",
       "      <td>0.000144</td>\n",
       "      <td>0.000054</td>\n",
       "    </tr>\n",
       "  </tbody>\n",
       "</table>\n",
       "</div>"
      ],
      "text/plain": [
       "         timestamp  Asset_ID  Count      Open      High       Low     Close  \\\n",
       "402816  1632181200        13  986.0  0.090885  0.091054  0.090710  0.090941   \n",
       "402817  1632181260        13  715.0  0.091010  0.091277  0.090980  0.091203   \n",
       "402818  1632181320        13  527.0  0.091171  0.091295  0.091092  0.091180   \n",
       "402819  1632181380        13  463.0  0.091206  0.091290  0.091028  0.091081   \n",
       "402820  1632181440        13  512.0  0.090989  0.091133  0.090831  0.090885   \n",
       "\n",
       "              Volume      VWAP    Target Asset_Name                date  \\\n",
       "402816  5.734456e+06  0.090831  0.000199       TRON 2021-09-20 23:40:00   \n",
       "402817  1.989048e+06  0.091125 -0.003477       TRON 2021-09-20 23:41:00   \n",
       "402818  2.386078e+06  0.091185 -0.002437       TRON 2021-09-20 23:42:00   \n",
       "402819  1.568854e+06  0.091131  0.004843       TRON 2021-09-20 23:43:00   \n",
       "402820  1.900695e+06  0.090943  0.004163       TRON 2021-09-20 23:44:00   \n",
       "\n",
       "        upper_shadow  lower_shador  \n",
       "402816      0.000113      0.000175  \n",
       "402817      0.000074      0.000030  \n",
       "402818      0.000115      0.000079  \n",
       "402819      0.000084      0.000053  \n",
       "402820      0.000144      0.000054  "
      ]
     },
     "execution_count": 17,
     "metadata": {},
     "output_type": "execute_result"
    }
   ],
   "source": [
    "feature_data.tail()"
   ]
  },
  {
   "cell_type": "code",
   "execution_count": 18,
   "id": "5c18a5c4",
   "metadata": {
    "ExecuteTime": {
     "end_time": "2021-11-06T18:52:34.759907Z",
     "start_time": "2021-11-06T18:52:34.754334Z"
    }
   },
   "outputs": [],
   "source": [
    "PULIC_LB_RANGE = ['2021-06-13 00:00:00',\n",
    "                  '2021-09-13 00:00:00'] # 3 MONTH WORTH OF DATA\n",
    "\n",
    "if USE_TOY_SAMPLE:\n",
    "    EVAL_PERIODS = ['2021-09-15', '2021-09-22']\n",
    "\n",
    "else:\n",
    "    EVAL_PERIODS = PULIC_LB_RANGE"
   ]
  },
  {
   "cell_type": "code",
   "execution_count": 19,
   "id": "2e81fac2",
   "metadata": {
    "ExecuteTime": {
     "end_time": "2021-11-06T18:52:34.772946Z",
     "start_time": "2021-11-06T18:52:34.762100Z"
    }
   },
   "outputs": [],
   "source": [
    "train_idx = feature_data['date'] < EVAL_PERIODS[0]"
   ]
  },
  {
   "cell_type": "code",
   "execution_count": 20,
   "id": "81db7954",
   "metadata": {
    "ExecuteTime": {
     "end_time": "2021-11-06T18:52:34.802022Z",
     "start_time": "2021-11-06T18:52:34.776779Z"
    }
   },
   "outputs": [],
   "source": [
    "train_data = feature_data.loc[train_idx, :].reset_index(drop=True)"
   ]
  },
  {
   "cell_type": "code",
   "execution_count": 21,
   "id": "2e728ec6",
   "metadata": {
    "ExecuteTime": {
     "end_time": "2021-11-06T18:52:34.810485Z",
     "start_time": "2021-11-06T18:52:34.804385Z"
    }
   },
   "outputs": [],
   "source": [
    "assert train_data.date.max() < pd.to_datetime(EVAL_PERIODS[0]), \\\n",
    "       'train set includes future data'"
   ]
  },
  {
   "cell_type": "code",
   "execution_count": 22,
   "id": "6269a668",
   "metadata": {
    "ExecuteTime": {
     "end_time": "2021-11-06T18:52:34.912324Z",
     "start_time": "2021-11-06T18:52:34.812753Z"
    }
   },
   "outputs": [
    {
     "data": {
      "text/plain": [
       "14"
      ]
     },
     "execution_count": 22,
     "metadata": {},
     "output_type": "execute_result"
    }
   ],
   "source": [
    "train_data.date.dt.date.nunique()"
   ]
  },
  {
   "cell_type": "code",
   "execution_count": 23,
   "id": "635f3b2c",
   "metadata": {
    "ExecuteTime": {
     "end_time": "2021-11-06T18:52:34.922157Z",
     "start_time": "2021-11-06T18:52:34.914838Z"
    }
   },
   "outputs": [],
   "source": [
    "COLUMNS_TO_DROP = [TARGET, 'Asset_Name', 'date', 'timestamp', 'Asset_ID']\n",
    "FEATURES = train_data.columns.drop(COLUMNS_TO_DROP)\n",
    "MODEL_PARAMS = {'n_estimators': 500,\n",
    " 'max_depth': 11,\n",
    " 'learning_rate': 0.05,\n",
    " 'subsample': 0.9,\n",
    " 'colsample_bytree': 0.7,\n",
    " 'missing': -999,\n",
    " 'random_state': 2020}\n",
    "OUTPUT_PATH = Path('artifacts/baseline/')\n",
    "if SAMPLE_LEVEL > 0:\n",
    "    OUTPUT_PATH = OUTPUT_PATH / f'sample/{SAMPLE_LEVEL}'\n",
    "OUTPUT_PATH.mkdir(exist_ok=True, parents=True)"
   ]
  },
  {
   "cell_type": "code",
   "execution_count": 24,
   "id": "486fb023",
   "metadata": {
    "ExecuteTime": {
     "end_time": "2021-11-06T18:52:34.933249Z",
     "start_time": "2021-11-06T18:52:34.924283Z"
    }
   },
   "outputs": [
    {
     "data": {
      "text/plain": [
       "Index(['Count', 'Open', 'High', 'Low', 'Close', 'Volume', 'VWAP',\n",
       "       'upper_shadow', 'lower_shador'],\n",
       "      dtype='object')"
      ]
     },
     "execution_count": 24,
     "metadata": {},
     "output_type": "execute_result"
    }
   ],
   "source": [
    "FEATURES"
   ]
  },
  {
   "cell_type": "code",
   "execution_count": 25,
   "id": "f03fc5f5",
   "metadata": {
    "ExecuteTime": {
     "end_time": "2021-11-06T18:52:34.987663Z",
     "start_time": "2021-11-06T18:52:34.936283Z"
    }
   },
   "outputs": [],
   "source": [
    "from xgboost import XGBRegressor\n",
    "import joblib"
   ]
  },
  {
   "cell_type": "code",
   "execution_count": 26,
   "id": "abffd1a9",
   "metadata": {
    "ExecuteTime": {
     "end_time": "2021-11-06T18:52:39.217648Z",
     "start_time": "2021-11-06T18:52:34.990001Z"
    }
   },
   "outputs": [
    {
     "name": "stdout",
     "output_type": "stream",
     "text": [
      "training model for Binance Coin\n",
      "training model for Bitcoin\n",
      "training model for Bitcoin Cash\n",
      "training model for Cardano\n",
      "training model for Dogecoin\n",
      "training model for EOS.IO\n",
      "training model for Ethereum\n",
      "training model for Ethereum Classic\n",
      "training model for IOTA\n",
      "training model for Litecoin\n",
      "training model for Maker\n",
      "training model for Monero\n",
      "training model for Stellar\n",
      "training model for TRON\n",
      "CPU times: user 4.13 s, sys: 105 ms, total: 4.24 s\n",
      "Wall time: 4.22 s\n"
     ]
    }
   ],
   "source": [
    "%%time\n",
    "CRYPTO_MODELS = {}\n",
    "for crypto, train_crypto in train_data.groupby(by=['Asset_Name']):\n",
    "    print(f'training model for {crypto}')\n",
    "    model_path = OUTPUT_PATH / f'{crypto}.pkl'\n",
    "    if model_path.exists() and (not FORCE_REWRITE):\n",
    "        model = joblib.load(model_path)\n",
    "    else:\n",
    "        model = XGBRegressor(**MODEL_PARAMS)\n",
    "        model.fit(train_crypto[FEATURES], train_crypto[TARGET])\n",
    "        joblib.dump(model, model_path)\n",
    "    CRYPTO_MODELS[crypto] = model    "
   ]
  },
  {
   "cell_type": "code",
   "execution_count": 27,
   "id": "102327fb",
   "metadata": {
    "ExecuteTime": {
     "end_time": "2021-11-06T18:52:39.225278Z",
     "start_time": "2021-11-06T18:52:39.220235Z"
    }
   },
   "outputs": [],
   "source": [
    "assert len(CRYPTO_MODELS) == 14, 'missing cryptos'"
   ]
  },
  {
   "cell_type": "code",
   "execution_count": 28,
   "id": "7bbc3bf8",
   "metadata": {
    "ExecuteTime": {
     "end_time": "2021-11-06T18:52:39.240394Z",
     "start_time": "2021-11-06T18:52:39.231235Z"
    }
   },
   "outputs": [],
   "source": [
    "from typing import Any, Dict, List, Union\n",
    "import numpy as np\n",
    "\n",
    "def predict_groupby(test_features: pd.DataFrame,\n",
    "                    models: Dict[str, Any],\n",
    "                    on: str = 'Asset_Name') -> np.ndarray:\n",
    "    yhat = np.zeros(len(test_features))\n",
    "    for crypto, crypto_data in test_features.groupby(on):\n",
    "        assert crypto in models, f'model not found {crypto}'\n",
    "        model = models[crypto]\n",
    "        test_idx = (test_features[on] == crypto)\n",
    "        yhat[test_idx] = model.predict(crypto_data[FEATURES])\n",
    "    return yhat\n",
    "\n",
    "\n",
    "# INFERENCE\n",
    "def inference(raw_test_df: pd.DataFrame,\n",
    "              submission: pd.DataFrame,\n",
    "              models: Dict[str, Any]) -> pd.DataFrame:\n",
    "    # ingest new data\n",
    "    test_df = ingest_data(raw_test_df, asset_details_path=ASSET_DETAILS_PATH)\n",
    "    # create features\n",
    "    test_features = compute_features(test_df)\n",
    "    yhat = predict_groupby(test_features, models=models)\n",
    "    submission.loc[:, 'Target'] = yhat\n",
    "    \n",
    "    assert submission['Target'].isna().sum() == 0, 'submission contains NaN values'\n",
    "    return submission\n",
    "   "
   ]
  },
  {
   "cell_type": "code",
   "execution_count": 29,
   "id": "1b2da0cf",
   "metadata": {
    "ExecuteTime": {
     "end_time": "2021-11-06T18:52:39.743447Z",
     "start_time": "2021-11-06T18:52:39.242643Z"
    }
   },
   "outputs": [
    {
     "name": "stdout",
     "output_type": "stream",
     "text": [
      "This version of the API is not optimized and should not be used to estimate the runtime of your code on the hidden test set.\n"
     ]
    },
    {
     "data": {
      "text/html": [
       "<div>\n",
       "<style scoped>\n",
       "    .dataframe tbody tr th:only-of-type {\n",
       "        vertical-align: middle;\n",
       "    }\n",
       "\n",
       "    .dataframe tbody tr th {\n",
       "        vertical-align: top;\n",
       "    }\n",
       "\n",
       "    .dataframe thead th {\n",
       "        text-align: right;\n",
       "    }\n",
       "</style>\n",
       "<table border=\"1\" class=\"dataframe\">\n",
       "  <thead>\n",
       "    <tr style=\"text-align: right;\">\n",
       "      <th></th>\n",
       "      <th>row_id</th>\n",
       "      <th>Target</th>\n",
       "    </tr>\n",
       "  </thead>\n",
       "  <tbody>\n",
       "    <tr>\n",
       "      <th>0</th>\n",
       "      <td>0</td>\n",
       "      <td>0.007498</td>\n",
       "    </tr>\n",
       "    <tr>\n",
       "      <th>1</th>\n",
       "      <td>1</td>\n",
       "      <td>0.009569</td>\n",
       "    </tr>\n",
       "    <tr>\n",
       "      <th>2</th>\n",
       "      <td>2</td>\n",
       "      <td>0.012006</td>\n",
       "    </tr>\n",
       "    <tr>\n",
       "      <th>3</th>\n",
       "      <td>3</td>\n",
       "      <td>0.000073</td>\n",
       "    </tr>\n",
       "    <tr>\n",
       "      <th>4</th>\n",
       "      <td>4</td>\n",
       "      <td>0.000169</td>\n",
       "    </tr>\n",
       "    <tr>\n",
       "      <th>5</th>\n",
       "      <td>5</td>\n",
       "      <td>-0.000301</td>\n",
       "    </tr>\n",
       "    <tr>\n",
       "      <th>6</th>\n",
       "      <td>6</td>\n",
       "      <td>0.000466</td>\n",
       "    </tr>\n",
       "    <tr>\n",
       "      <th>7</th>\n",
       "      <td>7</td>\n",
       "      <td>0.005858</td>\n",
       "    </tr>\n",
       "    <tr>\n",
       "      <th>8</th>\n",
       "      <td>8</td>\n",
       "      <td>0.017010</td>\n",
       "    </tr>\n",
       "    <tr>\n",
       "      <th>9</th>\n",
       "      <td>9</td>\n",
       "      <td>0.000178</td>\n",
       "    </tr>\n",
       "    <tr>\n",
       "      <th>10</th>\n",
       "      <td>10</td>\n",
       "      <td>0.000509</td>\n",
       "    </tr>\n",
       "    <tr>\n",
       "      <th>11</th>\n",
       "      <td>11</td>\n",
       "      <td>-0.001618</td>\n",
       "    </tr>\n",
       "    <tr>\n",
       "      <th>12</th>\n",
       "      <td>12</td>\n",
       "      <td>0.001332</td>\n",
       "    </tr>\n",
       "    <tr>\n",
       "      <th>13</th>\n",
       "      <td>13</td>\n",
       "      <td>0.007134</td>\n",
       "    </tr>\n",
       "  </tbody>\n",
       "</table>\n",
       "</div>"
      ],
      "text/plain": [
       "    row_id    Target\n",
       "0        0  0.007498\n",
       "1        1  0.009569\n",
       "2        2  0.012006\n",
       "3        3  0.000073\n",
       "4        4  0.000169\n",
       "5        5 -0.000301\n",
       "6        6  0.000466\n",
       "7        7  0.005858\n",
       "8        8  0.017010\n",
       "9        9  0.000178\n",
       "10      10  0.000509\n",
       "11      11 -0.001618\n",
       "12      12  0.001332\n",
       "13      13  0.007134"
      ]
     },
     "metadata": {},
     "output_type": "display_data"
    },
    {
     "data": {
      "text/html": [
       "<div>\n",
       "<style scoped>\n",
       "    .dataframe tbody tr th:only-of-type {\n",
       "        vertical-align: middle;\n",
       "    }\n",
       "\n",
       "    .dataframe tbody tr th {\n",
       "        vertical-align: top;\n",
       "    }\n",
       "\n",
       "    .dataframe thead th {\n",
       "        text-align: right;\n",
       "    }\n",
       "</style>\n",
       "<table border=\"1\" class=\"dataframe\">\n",
       "  <thead>\n",
       "    <tr style=\"text-align: right;\">\n",
       "      <th></th>\n",
       "      <th>row_id</th>\n",
       "      <th>Target</th>\n",
       "    </tr>\n",
       "  </thead>\n",
       "  <tbody>\n",
       "    <tr>\n",
       "      <th>0</th>\n",
       "      <td>14</td>\n",
       "      <td>0.007424</td>\n",
       "    </tr>\n",
       "    <tr>\n",
       "      <th>1</th>\n",
       "      <td>15</td>\n",
       "      <td>0.012274</td>\n",
       "    </tr>\n",
       "    <tr>\n",
       "      <th>2</th>\n",
       "      <td>16</td>\n",
       "      <td>0.014100</td>\n",
       "    </tr>\n",
       "    <tr>\n",
       "      <th>3</th>\n",
       "      <td>17</td>\n",
       "      <td>-0.000115</td>\n",
       "    </tr>\n",
       "    <tr>\n",
       "      <th>4</th>\n",
       "      <td>18</td>\n",
       "      <td>-0.000221</td>\n",
       "    </tr>\n",
       "    <tr>\n",
       "      <th>5</th>\n",
       "      <td>19</td>\n",
       "      <td>-0.002002</td>\n",
       "    </tr>\n",
       "    <tr>\n",
       "      <th>6</th>\n",
       "      <td>20</td>\n",
       "      <td>0.001123</td>\n",
       "    </tr>\n",
       "    <tr>\n",
       "      <th>7</th>\n",
       "      <td>21</td>\n",
       "      <td>0.006211</td>\n",
       "    </tr>\n",
       "    <tr>\n",
       "      <th>8</th>\n",
       "      <td>22</td>\n",
       "      <td>0.009704</td>\n",
       "    </tr>\n",
       "    <tr>\n",
       "      <th>9</th>\n",
       "      <td>23</td>\n",
       "      <td>-0.000107</td>\n",
       "    </tr>\n",
       "    <tr>\n",
       "      <th>10</th>\n",
       "      <td>24</td>\n",
       "      <td>0.000129</td>\n",
       "    </tr>\n",
       "    <tr>\n",
       "      <th>11</th>\n",
       "      <td>25</td>\n",
       "      <td>-0.000537</td>\n",
       "    </tr>\n",
       "    <tr>\n",
       "      <th>12</th>\n",
       "      <td>26</td>\n",
       "      <td>-0.001206</td>\n",
       "    </tr>\n",
       "    <tr>\n",
       "      <th>13</th>\n",
       "      <td>27</td>\n",
       "      <td>0.005495</td>\n",
       "    </tr>\n",
       "  </tbody>\n",
       "</table>\n",
       "</div>"
      ],
      "text/plain": [
       "    row_id    Target\n",
       "0       14  0.007424\n",
       "1       15  0.012274\n",
       "2       16  0.014100\n",
       "3       17 -0.000115\n",
       "4       18 -0.000221\n",
       "5       19 -0.002002\n",
       "6       20  0.001123\n",
       "7       21  0.006211\n",
       "8       22  0.009704\n",
       "9       23 -0.000107\n",
       "10      24  0.000129\n",
       "11      25 -0.000537\n",
       "12      26 -0.001206\n",
       "13      27  0.005495"
      ]
     },
     "metadata": {},
     "output_type": "display_data"
    },
    {
     "data": {
      "text/html": [
       "<div>\n",
       "<style scoped>\n",
       "    .dataframe tbody tr th:only-of-type {\n",
       "        vertical-align: middle;\n",
       "    }\n",
       "\n",
       "    .dataframe tbody tr th {\n",
       "        vertical-align: top;\n",
       "    }\n",
       "\n",
       "    .dataframe thead th {\n",
       "        text-align: right;\n",
       "    }\n",
       "</style>\n",
       "<table border=\"1\" class=\"dataframe\">\n",
       "  <thead>\n",
       "    <tr style=\"text-align: right;\">\n",
       "      <th></th>\n",
       "      <th>row_id</th>\n",
       "      <th>Target</th>\n",
       "    </tr>\n",
       "  </thead>\n",
       "  <tbody>\n",
       "    <tr>\n",
       "      <th>0</th>\n",
       "      <td>28</td>\n",
       "      <td>0.006543</td>\n",
       "    </tr>\n",
       "    <tr>\n",
       "      <th>1</th>\n",
       "      <td>29</td>\n",
       "      <td>0.007052</td>\n",
       "    </tr>\n",
       "    <tr>\n",
       "      <th>2</th>\n",
       "      <td>30</td>\n",
       "      <td>0.013527</td>\n",
       "    </tr>\n",
       "    <tr>\n",
       "      <th>3</th>\n",
       "      <td>31</td>\n",
       "      <td>0.000021</td>\n",
       "    </tr>\n",
       "    <tr>\n",
       "      <th>4</th>\n",
       "      <td>32</td>\n",
       "      <td>-0.001980</td>\n",
       "    </tr>\n",
       "    <tr>\n",
       "      <th>5</th>\n",
       "      <td>33</td>\n",
       "      <td>-0.000315</td>\n",
       "    </tr>\n",
       "    <tr>\n",
       "      <th>6</th>\n",
       "      <td>34</td>\n",
       "      <td>-0.001207</td>\n",
       "    </tr>\n",
       "    <tr>\n",
       "      <th>7</th>\n",
       "      <td>35</td>\n",
       "      <td>0.006131</td>\n",
       "    </tr>\n",
       "    <tr>\n",
       "      <th>8</th>\n",
       "      <td>36</td>\n",
       "      <td>0.007828</td>\n",
       "    </tr>\n",
       "    <tr>\n",
       "      <th>9</th>\n",
       "      <td>37</td>\n",
       "      <td>0.000524</td>\n",
       "    </tr>\n",
       "    <tr>\n",
       "      <th>10</th>\n",
       "      <td>38</td>\n",
       "      <td>0.000428</td>\n",
       "    </tr>\n",
       "    <tr>\n",
       "      <th>11</th>\n",
       "      <td>39</td>\n",
       "      <td>-0.000765</td>\n",
       "    </tr>\n",
       "    <tr>\n",
       "      <th>12</th>\n",
       "      <td>40</td>\n",
       "      <td>0.000160</td>\n",
       "    </tr>\n",
       "    <tr>\n",
       "      <th>13</th>\n",
       "      <td>41</td>\n",
       "      <td>0.004632</td>\n",
       "    </tr>\n",
       "  </tbody>\n",
       "</table>\n",
       "</div>"
      ],
      "text/plain": [
       "    row_id    Target\n",
       "0       28  0.006543\n",
       "1       29  0.007052\n",
       "2       30  0.013527\n",
       "3       31  0.000021\n",
       "4       32 -0.001980\n",
       "5       33 -0.000315\n",
       "6       34 -0.001207\n",
       "7       35  0.006131\n",
       "8       36  0.007828\n",
       "9       37  0.000524\n",
       "10      38  0.000428\n",
       "11      39 -0.000765\n",
       "12      40  0.000160\n",
       "13      41  0.004632"
      ]
     },
     "metadata": {},
     "output_type": "display_data"
    },
    {
     "data": {
      "text/html": [
       "<div>\n",
       "<style scoped>\n",
       "    .dataframe tbody tr th:only-of-type {\n",
       "        vertical-align: middle;\n",
       "    }\n",
       "\n",
       "    .dataframe tbody tr th {\n",
       "        vertical-align: top;\n",
       "    }\n",
       "\n",
       "    .dataframe thead th {\n",
       "        text-align: right;\n",
       "    }\n",
       "</style>\n",
       "<table border=\"1\" class=\"dataframe\">\n",
       "  <thead>\n",
       "    <tr style=\"text-align: right;\">\n",
       "      <th></th>\n",
       "      <th>row_id</th>\n",
       "      <th>Target</th>\n",
       "    </tr>\n",
       "  </thead>\n",
       "  <tbody>\n",
       "    <tr>\n",
       "      <th>0</th>\n",
       "      <td>42</td>\n",
       "      <td>0.009080</td>\n",
       "    </tr>\n",
       "    <tr>\n",
       "      <th>1</th>\n",
       "      <td>43</td>\n",
       "      <td>0.006200</td>\n",
       "    </tr>\n",
       "    <tr>\n",
       "      <th>2</th>\n",
       "      <td>44</td>\n",
       "      <td>0.014233</td>\n",
       "    </tr>\n",
       "    <tr>\n",
       "      <th>3</th>\n",
       "      <td>45</td>\n",
       "      <td>-0.000014</td>\n",
       "    </tr>\n",
       "    <tr>\n",
       "      <th>4</th>\n",
       "      <td>46</td>\n",
       "      <td>-0.000502</td>\n",
       "    </tr>\n",
       "    <tr>\n",
       "      <th>5</th>\n",
       "      <td>47</td>\n",
       "      <td>-0.000580</td>\n",
       "    </tr>\n",
       "    <tr>\n",
       "      <th>6</th>\n",
       "      <td>48</td>\n",
       "      <td>-0.000054</td>\n",
       "    </tr>\n",
       "    <tr>\n",
       "      <th>7</th>\n",
       "      <td>49</td>\n",
       "      <td>0.006174</td>\n",
       "    </tr>\n",
       "    <tr>\n",
       "      <th>8</th>\n",
       "      <td>50</td>\n",
       "      <td>0.004590</td>\n",
       "    </tr>\n",
       "    <tr>\n",
       "      <th>9</th>\n",
       "      <td>51</td>\n",
       "      <td>0.000827</td>\n",
       "    </tr>\n",
       "    <tr>\n",
       "      <th>10</th>\n",
       "      <td>52</td>\n",
       "      <td>0.001170</td>\n",
       "    </tr>\n",
       "    <tr>\n",
       "      <th>11</th>\n",
       "      <td>53</td>\n",
       "      <td>-0.001984</td>\n",
       "    </tr>\n",
       "    <tr>\n",
       "      <th>12</th>\n",
       "      <td>54</td>\n",
       "      <td>0.000480</td>\n",
       "    </tr>\n",
       "    <tr>\n",
       "      <th>13</th>\n",
       "      <td>55</td>\n",
       "      <td>0.006137</td>\n",
       "    </tr>\n",
       "  </tbody>\n",
       "</table>\n",
       "</div>"
      ],
      "text/plain": [
       "    row_id    Target\n",
       "0       42  0.009080\n",
       "1       43  0.006200\n",
       "2       44  0.014233\n",
       "3       45 -0.000014\n",
       "4       46 -0.000502\n",
       "5       47 -0.000580\n",
       "6       48 -0.000054\n",
       "7       49  0.006174\n",
       "8       50  0.004590\n",
       "9       51  0.000827\n",
       "10      52  0.001170\n",
       "11      53 -0.001984\n",
       "12      54  0.000480\n",
       "13      55  0.006137"
      ]
     },
     "metadata": {},
     "output_type": "display_data"
    }
   ],
   "source": [
    "if not ON_KAGGLE:\n",
    "    sys.path.append(str(RAW_DIR))\n",
    "\n",
    "import gresearch_crypto\n",
    "import traceback\n",
    "env = gresearch_crypto.make_env()   # initialize the environment\n",
    "iter_test = env.iter_test()    # an iterator which loops over the test set and sample submission\n",
    "\n",
    "for i, (raw_test_df, submission) in enumerate(iter_test):\n",
    "    submission = inference(raw_test_df, submission, models=CRYPTO_MODELS)\n",
    "    display(submission)\n",
    "        \n",
    "    assert list(submission.columns) == ['row_id', \"Target\"], 'submission do not match expected columns'\n",
    "    assert len(submission) == len(raw_test_df), 'submission do not match expected lenght'\n",
    "    assert submission['Target'].isna().sum() == 0, 'target includes NaNs'\n",
    "    env.predict(submission)"
   ]
  },
  {
   "cell_type": "code",
   "execution_count": null,
   "id": "b7a7d5c9",
   "metadata": {},
   "outputs": [],
   "source": []
  }
 ],
 "metadata": {
  "kernelspec": {
   "display_name": "Python 3 (ipykernel)",
   "language": "python",
   "name": "python3"
  },
  "language_info": {
   "codemirror_mode": {
    "name": "ipython",
    "version": 3
   },
   "file_extension": ".py",
   "mimetype": "text/x-python",
   "name": "python",
   "nbconvert_exporter": "python",
   "pygments_lexer": "ipython3",
   "version": "3.7.11"
  },
  "toc": {
   "base_numbering": 1,
   "nav_menu": {},
   "number_sections": true,
   "sideBar": true,
   "skip_h1_title": false,
   "title_cell": "Table of Contents",
   "title_sidebar": "Contents",
   "toc_cell": false,
   "toc_position": {},
   "toc_section_display": true,
   "toc_window_display": false
  }
 },
 "nbformat": 4,
 "nbformat_minor": 5
}
