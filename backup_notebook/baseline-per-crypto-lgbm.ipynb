{
 "cells": [
  {
   "cell_type": "code",
   "execution_count": 1,
   "id": "33f16f59",
   "metadata": {
    "ExecuteTime": {
     "end_time": "2021-11-08T17:26:23.596963Z",
     "start_time": "2021-11-08T17:26:23.572514Z"
    }
   },
   "outputs": [],
   "source": [
    "%load_ext autoreload\n",
    "%autoreload 2"
   ]
  },
  {
   "cell_type": "code",
   "execution_count": 2,
   "id": "f255bb4e",
   "metadata": {
    "ExecuteTime": {
     "end_time": "2021-11-08T17:26:24.468554Z",
     "start_time": "2021-11-08T17:26:23.601836Z"
    }
   },
   "outputs": [],
   "source": [
    "import pandas as pd\n",
    "import numpy as np\n",
    "from matplotlib import pyplot as plt\n",
    "import seaborn as sns\n",
    "from pathlib import Path\n",
    "import os\n",
    "import sys\n",
    "from IPython.display import display"
   ]
  },
  {
   "cell_type": "code",
   "execution_count": 3,
   "id": "136f5247",
   "metadata": {
    "ExecuteTime": {
     "end_time": "2021-11-08T17:26:24.490844Z",
     "start_time": "2021-11-08T17:26:24.471640Z"
    }
   },
   "outputs": [],
   "source": [
    "def on_kaggle() -> bool:\n",
    "    try:\n",
    "        import gresearch_crypto\n",
    "        return True\n",
    "    except ModuleNotFoundError:\n",
    "        return False"
   ]
  },
  {
   "cell_type": "code",
   "execution_count": 4,
   "id": "432ba6ef",
   "metadata": {
    "ExecuteTime": {
     "end_time": "2021-11-08T17:26:24.512898Z",
     "start_time": "2021-11-08T17:26:24.495886Z"
    }
   },
   "outputs": [],
   "source": [
    "# HYPER PARAMETERS\n",
    "ON_KAGGLE = on_kaggle()\n",
    "SAMPLE_LEVEL = 2\n",
    "USE_SAMPLE = SAMPLE_LEVEL == 1\n",
    "USE_TOY_SAMPLE = SAMPLE_LEVEL == 2\n",
    "\n",
    "FORCE_REWRITE = (ON_KAGGLE and SAMPLE_LEVEL == 0)"
   ]
  },
  {
   "cell_type": "code",
   "execution_count": 5,
   "id": "3ee2a957",
   "metadata": {
    "ExecuteTime": {
     "end_time": "2021-11-08T17:26:24.534045Z",
     "start_time": "2021-11-08T17:26:24.517299Z"
    }
   },
   "outputs": [],
   "source": [
    "if not ON_KAGGLE and os.path.abspath('.').endswith('notebook'):\n",
    "    os.chdir('../')"
   ]
  },
  {
   "cell_type": "code",
   "execution_count": 6,
   "id": "eee46e84",
   "metadata": {
    "ExecuteTime": {
     "end_time": "2021-11-08T17:26:24.561255Z",
     "start_time": "2021-11-08T17:26:24.536867Z"
    }
   },
   "outputs": [],
   "source": [
    "#IMPORT_SCRIPT!\n",
    "# THIS CELL WILL BE REMOVE WITH SCRIPTS IN SRC\n",
    "if './src/' not in sys.path:\n",
    "    sys.path.append('./src/')\n",
    "\n",
    "from preprocessing import *\n",
    "from metrics import *"
   ]
  },
  {
   "cell_type": "code",
   "execution_count": 7,
   "id": "5dcd141e",
   "metadata": {
    "ExecuteTime": {
     "end_time": "2021-11-08T17:26:24.582767Z",
     "start_time": "2021-11-08T17:26:24.563421Z"
    }
   },
   "outputs": [],
   "source": [
    "if ON_KAGGLE:\n",
    "    RAW_DIR = Path('../input/g-research-crypto-forecasting/')\n",
    "    SAMPLE_DIR = Path('../input/create-sample-dataset/data/raw/sample/')\n",
    "    TOY_SAMPLE_DIR = Path('../input/create-sample-dataset/data/raw/toy_sample/')\n",
    "else:\n",
    "    RAW_DIR =  Path('data/raw')\n",
    "    TOY_SAMPLE_DIR = RAW_DIR.joinpath('toy_sample')\n",
    "    SAMPLE_DIR = RAW_DIR.joinpath('sample')\n",
    "\n",
    "# filename\n",
    "TRAIN_FILE = 'train.csv'\n",
    "ASSET_DETAILS_PATH = RAW_DIR / 'asset_details.csv'"
   ]
  },
  {
   "cell_type": "code",
   "execution_count": 8,
   "id": "74f7a9ab",
   "metadata": {
    "ExecuteTime": {
     "end_time": "2021-11-08T17:26:24.608177Z",
     "start_time": "2021-11-08T17:26:24.585356Z"
    }
   },
   "outputs": [
    {
     "name": "stdout",
     "output_type": "stream",
     "text": [
      "USING TOY DATASET\n"
     ]
    }
   ],
   "source": [
    "if USE_TOY_SAMPLE:\n",
    "    print('USING TOY DATASET')\n",
    "    RAW_TRAIN_PATH = TOY_SAMPLE_DIR / TRAIN_FILE\n",
    "\n",
    "elif USE_SAMPLE:\n",
    "    print('USING SAMPLE DATASET')\n",
    "    RAW_TRAIN_PATH = SAMPLE_DIR / TRAIN_FILE\n",
    "\n",
    "else:\n",
    "    print('USING RAW DATASET')\n",
    "    RAW_TRAIN_PATH = RAW_DIR / TRAIN_FILE\n",
    "\n",
    "assert RAW_TRAIN_PATH.exists()"
   ]
  },
  {
   "cell_type": "code",
   "execution_count": 9,
   "id": "28ef35af",
   "metadata": {
    "ExecuteTime": {
     "end_time": "2021-11-08T17:26:24.745113Z",
     "start_time": "2021-11-08T17:26:24.611890Z"
    }
   },
   "outputs": [
    {
     "name": "stdout",
     "output_type": "stream",
     "text": [
      "asset_details.csv\t\t   sample\r\n",
      "example_sample_submission.csv\t   supplemental_train.csv\r\n",
      "example_test.csv\t\t   toy_sample\r\n",
      "g-research-crypto-forecasting.zip  train.csv\r\n",
      "gresearch_crypto\r\n"
     ]
    }
   ],
   "source": [
    "!ls {RAW_DIR}"
   ]
  },
  {
   "cell_type": "code",
   "execution_count": 10,
   "id": "4b479f0e",
   "metadata": {
    "ExecuteTime": {
     "end_time": "2021-11-08T17:26:25.218004Z",
     "start_time": "2021-11-08T17:26:24.750609Z"
    },
    "scrolled": true
   },
   "outputs": [
    {
     "name": "stdout",
     "output_type": "stream",
     "text": [
      "CPU times: user 387 ms, sys: 58.2 ms, total: 445 ms\n",
      "Wall time: 444 ms\n"
     ]
    }
   ],
   "source": [
    "%%time \n",
    "raw_df = pd.read_csv(RAW_TRAIN_PATH)"
   ]
  },
  {
   "cell_type": "code",
   "execution_count": 11,
   "id": "5be54336",
   "metadata": {
    "ExecuteTime": {
     "end_time": "2021-11-08T17:26:25.437713Z",
     "start_time": "2021-11-08T17:26:25.220875Z"
    }
   },
   "outputs": [],
   "source": [
    "raw_df = ingest_data(raw_df, asset_details_path=ASSET_DETAILS_PATH)"
   ]
  },
  {
   "cell_type": "code",
   "execution_count": 12,
   "id": "d1722287",
   "metadata": {
    "ExecuteTime": {
     "end_time": "2021-11-08T17:26:25.554475Z",
     "start_time": "2021-11-08T17:26:25.440165Z"
    }
   },
   "outputs": [],
   "source": [
    "raw_df.sort_values(by=['Asset_ID', 'date'], inplace=True)\n",
    "raw_df.reset_index(drop=True, inplace=True)"
   ]
  },
  {
   "cell_type": "code",
   "execution_count": 13,
   "id": "3f9f8d35",
   "metadata": {
    "ExecuteTime": {
     "end_time": "2021-11-08T17:26:25.591722Z",
     "start_time": "2021-11-08T17:26:25.556267Z"
    },
    "scrolled": true
   },
   "outputs": [
    {
     "data": {
      "text/html": [
       "<div>\n",
       "<style scoped>\n",
       "    .dataframe tbody tr th:only-of-type {\n",
       "        vertical-align: middle;\n",
       "    }\n",
       "\n",
       "    .dataframe tbody tr th {\n",
       "        vertical-align: top;\n",
       "    }\n",
       "\n",
       "    .dataframe thead th {\n",
       "        text-align: right;\n",
       "    }\n",
       "</style>\n",
       "<table border=\"1\" class=\"dataframe\">\n",
       "  <thead>\n",
       "    <tr style=\"text-align: right;\">\n",
       "      <th></th>\n",
       "      <th>timestamp</th>\n",
       "      <th>Asset_ID</th>\n",
       "      <th>Count</th>\n",
       "      <th>Open</th>\n",
       "      <th>High</th>\n",
       "      <th>Low</th>\n",
       "      <th>Close</th>\n",
       "      <th>Volume</th>\n",
       "      <th>VWAP</th>\n",
       "      <th>Target</th>\n",
       "      <th>Asset_Name</th>\n",
       "      <th>date</th>\n",
       "    </tr>\n",
       "  </thead>\n",
       "  <tbody>\n",
       "    <tr>\n",
       "      <th>0</th>\n",
       "      <td>1630454460</td>\n",
       "      <td>0</td>\n",
       "      <td>373.0</td>\n",
       "      <td>462.223511</td>\n",
       "      <td>463.300995</td>\n",
       "      <td>462.200012</td>\n",
       "      <td>463.005493</td>\n",
       "      <td>865.269358</td>\n",
       "      <td>462.689636</td>\n",
       "      <td>0.002667</td>\n",
       "      <td>Binance Coin</td>\n",
       "      <td>2021-09-01 00:01:00</td>\n",
       "    </tr>\n",
       "    <tr>\n",
       "      <th>1</th>\n",
       "      <td>1630454520</td>\n",
       "      <td>0</td>\n",
       "      <td>772.0</td>\n",
       "      <td>462.939514</td>\n",
       "      <td>463.106995</td>\n",
       "      <td>461.000000</td>\n",
       "      <td>461.312988</td>\n",
       "      <td>1723.852100</td>\n",
       "      <td>461.899841</td>\n",
       "      <td>0.002237</td>\n",
       "      <td>Binance Coin</td>\n",
       "      <td>2021-09-01 00:02:00</td>\n",
       "    </tr>\n",
       "    <tr>\n",
       "      <th>2</th>\n",
       "      <td>1630454580</td>\n",
       "      <td>0</td>\n",
       "      <td>864.0</td>\n",
       "      <td>461.265503</td>\n",
       "      <td>461.330994</td>\n",
       "      <td>459.799988</td>\n",
       "      <td>460.632507</td>\n",
       "      <td>2172.706734</td>\n",
       "      <td>460.532562</td>\n",
       "      <td>0.001018</td>\n",
       "      <td>Binance Coin</td>\n",
       "      <td>2021-09-01 00:03:00</td>\n",
       "    </tr>\n",
       "    <tr>\n",
       "      <th>3</th>\n",
       "      <td>1630454640</td>\n",
       "      <td>0</td>\n",
       "      <td>419.0</td>\n",
       "      <td>460.799500</td>\n",
       "      <td>463.000000</td>\n",
       "      <td>460.600006</td>\n",
       "      <td>462.755005</td>\n",
       "      <td>1050.009400</td>\n",
       "      <td>461.469299</td>\n",
       "      <td>0.001898</td>\n",
       "      <td>Binance Coin</td>\n",
       "      <td>2021-09-01 00:04:00</td>\n",
       "    </tr>\n",
       "    <tr>\n",
       "      <th>4</th>\n",
       "      <td>1630454700</td>\n",
       "      <td>0</td>\n",
       "      <td>1215.0</td>\n",
       "      <td>462.825989</td>\n",
       "      <td>465.399994</td>\n",
       "      <td>462.726013</td>\n",
       "      <td>465.266998</td>\n",
       "      <td>3102.896636</td>\n",
       "      <td>463.948822</td>\n",
       "      <td>0.001000</td>\n",
       "      <td>Binance Coin</td>\n",
       "      <td>2021-09-01 00:05:00</td>\n",
       "    </tr>\n",
       "  </tbody>\n",
       "</table>\n",
       "</div>"
      ],
      "text/plain": [
       "    timestamp  Asset_ID   Count        Open        High         Low  \\\n",
       "0  1630454460         0   373.0  462.223511  463.300995  462.200012   \n",
       "1  1630454520         0   772.0  462.939514  463.106995  461.000000   \n",
       "2  1630454580         0   864.0  461.265503  461.330994  459.799988   \n",
       "3  1630454640         0   419.0  460.799500  463.000000  460.600006   \n",
       "4  1630454700         0  1215.0  462.825989  465.399994  462.726013   \n",
       "\n",
       "        Close       Volume        VWAP    Target    Asset_Name  \\\n",
       "0  463.005493   865.269358  462.689636  0.002667  Binance Coin   \n",
       "1  461.312988  1723.852100  461.899841  0.002237  Binance Coin   \n",
       "2  460.632507  2172.706734  460.532562  0.001018  Binance Coin   \n",
       "3  462.755005  1050.009400  461.469299  0.001898  Binance Coin   \n",
       "4  465.266998  3102.896636  463.948822  0.001000  Binance Coin   \n",
       "\n",
       "                 date  \n",
       "0 2021-09-01 00:01:00  \n",
       "1 2021-09-01 00:02:00  \n",
       "2 2021-09-01 00:03:00  \n",
       "3 2021-09-01 00:04:00  \n",
       "4 2021-09-01 00:05:00  "
      ]
     },
     "execution_count": 13,
     "metadata": {},
     "output_type": "execute_result"
    }
   ],
   "source": [
    "raw_df.head()"
   ]
  },
  {
   "cell_type": "code",
   "execution_count": 14,
   "id": "4f7747d4",
   "metadata": {
    "ExecuteTime": {
     "end_time": "2021-11-08T17:26:25.612543Z",
     "start_time": "2021-11-08T17:26:25.594758Z"
    }
   },
   "outputs": [],
   "source": [
    "TARGET = 'Target'\n",
    "INDEX_COLS = ['Asset_ID', 'Asset_Name', 'date', 'timestamp']"
   ]
  },
  {
   "cell_type": "code",
   "execution_count": 15,
   "id": "c6388daf",
   "metadata": {
    "ExecuteTime": {
     "end_time": "2021-11-08T17:26:25.657927Z",
     "start_time": "2021-11-08T17:26:25.616271Z"
    }
   },
   "outputs": [],
   "source": [
    "feature_data = compute_features(raw_df)"
   ]
  },
  {
   "cell_type": "code",
   "execution_count": 16,
   "id": "aa0aa048",
   "metadata": {
    "ExecuteTime": {
     "end_time": "2021-11-08T17:26:25.723867Z",
     "start_time": "2021-11-08T17:26:25.661939Z"
    }
   },
   "outputs": [],
   "source": [
    "feature_data = feature_data.dropna(subset=[TARGET]).reset_index(drop=True)"
   ]
  },
  {
   "cell_type": "code",
   "execution_count": 17,
   "id": "48247838",
   "metadata": {
    "ExecuteTime": {
     "end_time": "2021-11-08T17:26:25.761796Z",
     "start_time": "2021-11-08T17:26:25.727951Z"
    }
   },
   "outputs": [
    {
     "data": {
      "text/html": [
       "<div>\n",
       "<style scoped>\n",
       "    .dataframe tbody tr th:only-of-type {\n",
       "        vertical-align: middle;\n",
       "    }\n",
       "\n",
       "    .dataframe tbody tr th {\n",
       "        vertical-align: top;\n",
       "    }\n",
       "\n",
       "    .dataframe thead th {\n",
       "        text-align: right;\n",
       "    }\n",
       "</style>\n",
       "<table border=\"1\" class=\"dataframe\">\n",
       "  <thead>\n",
       "    <tr style=\"text-align: right;\">\n",
       "      <th></th>\n",
       "      <th>timestamp</th>\n",
       "      <th>Asset_ID</th>\n",
       "      <th>Count</th>\n",
       "      <th>Open</th>\n",
       "      <th>High</th>\n",
       "      <th>Low</th>\n",
       "      <th>Close</th>\n",
       "      <th>Volume</th>\n",
       "      <th>VWAP</th>\n",
       "      <th>Target</th>\n",
       "      <th>Asset_Name</th>\n",
       "      <th>date</th>\n",
       "      <th>upper_shadow</th>\n",
       "      <th>lower_shador</th>\n",
       "    </tr>\n",
       "  </thead>\n",
       "  <tbody>\n",
       "    <tr>\n",
       "      <th>0</th>\n",
       "      <td>1630454460</td>\n",
       "      <td>0</td>\n",
       "      <td>373.0</td>\n",
       "      <td>462.223511</td>\n",
       "      <td>463.300995</td>\n",
       "      <td>462.200012</td>\n",
       "      <td>463.005493</td>\n",
       "      <td>865.269358</td>\n",
       "      <td>462.689636</td>\n",
       "      <td>0.002667</td>\n",
       "      <td>Binance Coin</td>\n",
       "      <td>2021-09-01 00:01:00</td>\n",
       "      <td>0.295502</td>\n",
       "      <td>0.023499</td>\n",
       "    </tr>\n",
       "    <tr>\n",
       "      <th>1</th>\n",
       "      <td>1630454520</td>\n",
       "      <td>0</td>\n",
       "      <td>772.0</td>\n",
       "      <td>462.939514</td>\n",
       "      <td>463.106995</td>\n",
       "      <td>461.000000</td>\n",
       "      <td>461.312988</td>\n",
       "      <td>1723.852100</td>\n",
       "      <td>461.899841</td>\n",
       "      <td>0.002237</td>\n",
       "      <td>Binance Coin</td>\n",
       "      <td>2021-09-01 00:02:00</td>\n",
       "      <td>0.167480</td>\n",
       "      <td>0.312988</td>\n",
       "    </tr>\n",
       "    <tr>\n",
       "      <th>2</th>\n",
       "      <td>1630454580</td>\n",
       "      <td>0</td>\n",
       "      <td>864.0</td>\n",
       "      <td>461.265503</td>\n",
       "      <td>461.330994</td>\n",
       "      <td>459.799988</td>\n",
       "      <td>460.632507</td>\n",
       "      <td>2172.706734</td>\n",
       "      <td>460.532562</td>\n",
       "      <td>0.001018</td>\n",
       "      <td>Binance Coin</td>\n",
       "      <td>2021-09-01 00:03:00</td>\n",
       "      <td>0.065491</td>\n",
       "      <td>0.832520</td>\n",
       "    </tr>\n",
       "    <tr>\n",
       "      <th>3</th>\n",
       "      <td>1630454640</td>\n",
       "      <td>0</td>\n",
       "      <td>419.0</td>\n",
       "      <td>460.799500</td>\n",
       "      <td>463.000000</td>\n",
       "      <td>460.600006</td>\n",
       "      <td>462.755005</td>\n",
       "      <td>1050.009400</td>\n",
       "      <td>461.469299</td>\n",
       "      <td>0.001898</td>\n",
       "      <td>Binance Coin</td>\n",
       "      <td>2021-09-01 00:04:00</td>\n",
       "      <td>0.244995</td>\n",
       "      <td>0.199493</td>\n",
       "    </tr>\n",
       "    <tr>\n",
       "      <th>4</th>\n",
       "      <td>1630454700</td>\n",
       "      <td>0</td>\n",
       "      <td>1215.0</td>\n",
       "      <td>462.825989</td>\n",
       "      <td>465.399994</td>\n",
       "      <td>462.726013</td>\n",
       "      <td>465.266998</td>\n",
       "      <td>3102.896636</td>\n",
       "      <td>463.948822</td>\n",
       "      <td>0.001000</td>\n",
       "      <td>Binance Coin</td>\n",
       "      <td>2021-09-01 00:05:00</td>\n",
       "      <td>0.132996</td>\n",
       "      <td>0.099976</td>\n",
       "    </tr>\n",
       "  </tbody>\n",
       "</table>\n",
       "</div>"
      ],
      "text/plain": [
       "    timestamp  Asset_ID   Count        Open        High         Low  \\\n",
       "0  1630454460         0   373.0  462.223511  463.300995  462.200012   \n",
       "1  1630454520         0   772.0  462.939514  463.106995  461.000000   \n",
       "2  1630454580         0   864.0  461.265503  461.330994  459.799988   \n",
       "3  1630454640         0   419.0  460.799500  463.000000  460.600006   \n",
       "4  1630454700         0  1215.0  462.825989  465.399994  462.726013   \n",
       "\n",
       "        Close       Volume        VWAP    Target    Asset_Name  \\\n",
       "0  463.005493   865.269358  462.689636  0.002667  Binance Coin   \n",
       "1  461.312988  1723.852100  461.899841  0.002237  Binance Coin   \n",
       "2  460.632507  2172.706734  460.532562  0.001018  Binance Coin   \n",
       "3  462.755005  1050.009400  461.469299  0.001898  Binance Coin   \n",
       "4  465.266998  3102.896636  463.948822  0.001000  Binance Coin   \n",
       "\n",
       "                 date  upper_shadow  lower_shador  \n",
       "0 2021-09-01 00:01:00      0.295502      0.023499  \n",
       "1 2021-09-01 00:02:00      0.167480      0.312988  \n",
       "2 2021-09-01 00:03:00      0.065491      0.832520  \n",
       "3 2021-09-01 00:04:00      0.244995      0.199493  \n",
       "4 2021-09-01 00:05:00      0.132996      0.099976  "
      ]
     },
     "execution_count": 17,
     "metadata": {},
     "output_type": "execute_result"
    }
   ],
   "source": [
    "feature_data.head()"
   ]
  },
  {
   "cell_type": "code",
   "execution_count": 18,
   "id": "190b158a",
   "metadata": {
    "ExecuteTime": {
     "end_time": "2021-11-08T17:26:25.802916Z",
     "start_time": "2021-11-08T17:26:25.765780Z"
    }
   },
   "outputs": [
    {
     "data": {
      "text/html": [
       "<div>\n",
       "<style scoped>\n",
       "    .dataframe tbody tr th:only-of-type {\n",
       "        vertical-align: middle;\n",
       "    }\n",
       "\n",
       "    .dataframe tbody tr th {\n",
       "        vertical-align: top;\n",
       "    }\n",
       "\n",
       "    .dataframe thead th {\n",
       "        text-align: right;\n",
       "    }\n",
       "</style>\n",
       "<table border=\"1\" class=\"dataframe\">\n",
       "  <thead>\n",
       "    <tr style=\"text-align: right;\">\n",
       "      <th></th>\n",
       "      <th>timestamp</th>\n",
       "      <th>Asset_ID</th>\n",
       "      <th>Count</th>\n",
       "      <th>Open</th>\n",
       "      <th>High</th>\n",
       "      <th>Low</th>\n",
       "      <th>Close</th>\n",
       "      <th>Volume</th>\n",
       "      <th>VWAP</th>\n",
       "      <th>Target</th>\n",
       "      <th>Asset_Name</th>\n",
       "      <th>date</th>\n",
       "      <th>upper_shadow</th>\n",
       "      <th>lower_shador</th>\n",
       "    </tr>\n",
       "  </thead>\n",
       "  <tbody>\n",
       "    <tr>\n",
       "      <th>402816</th>\n",
       "      <td>1632181200</td>\n",
       "      <td>13</td>\n",
       "      <td>986.0</td>\n",
       "      <td>0.090885</td>\n",
       "      <td>0.091054</td>\n",
       "      <td>0.090710</td>\n",
       "      <td>0.090941</td>\n",
       "      <td>5.734456e+06</td>\n",
       "      <td>0.090831</td>\n",
       "      <td>0.000199</td>\n",
       "      <td>TRON</td>\n",
       "      <td>2021-09-20 23:40:00</td>\n",
       "      <td>0.000113</td>\n",
       "      <td>0.000175</td>\n",
       "    </tr>\n",
       "    <tr>\n",
       "      <th>402817</th>\n",
       "      <td>1632181260</td>\n",
       "      <td>13</td>\n",
       "      <td>715.0</td>\n",
       "      <td>0.091010</td>\n",
       "      <td>0.091277</td>\n",
       "      <td>0.090980</td>\n",
       "      <td>0.091203</td>\n",
       "      <td>1.989048e+06</td>\n",
       "      <td>0.091125</td>\n",
       "      <td>-0.003477</td>\n",
       "      <td>TRON</td>\n",
       "      <td>2021-09-20 23:41:00</td>\n",
       "      <td>0.000074</td>\n",
       "      <td>0.000030</td>\n",
       "    </tr>\n",
       "    <tr>\n",
       "      <th>402818</th>\n",
       "      <td>1632181320</td>\n",
       "      <td>13</td>\n",
       "      <td>527.0</td>\n",
       "      <td>0.091171</td>\n",
       "      <td>0.091295</td>\n",
       "      <td>0.091092</td>\n",
       "      <td>0.091180</td>\n",
       "      <td>2.386078e+06</td>\n",
       "      <td>0.091185</td>\n",
       "      <td>-0.002437</td>\n",
       "      <td>TRON</td>\n",
       "      <td>2021-09-20 23:42:00</td>\n",
       "      <td>0.000115</td>\n",
       "      <td>0.000079</td>\n",
       "    </tr>\n",
       "    <tr>\n",
       "      <th>402819</th>\n",
       "      <td>1632181380</td>\n",
       "      <td>13</td>\n",
       "      <td>463.0</td>\n",
       "      <td>0.091206</td>\n",
       "      <td>0.091290</td>\n",
       "      <td>0.091028</td>\n",
       "      <td>0.091081</td>\n",
       "      <td>1.568854e+06</td>\n",
       "      <td>0.091131</td>\n",
       "      <td>0.004843</td>\n",
       "      <td>TRON</td>\n",
       "      <td>2021-09-20 23:43:00</td>\n",
       "      <td>0.000084</td>\n",
       "      <td>0.000053</td>\n",
       "    </tr>\n",
       "    <tr>\n",
       "      <th>402820</th>\n",
       "      <td>1632181440</td>\n",
       "      <td>13</td>\n",
       "      <td>512.0</td>\n",
       "      <td>0.090989</td>\n",
       "      <td>0.091133</td>\n",
       "      <td>0.090831</td>\n",
       "      <td>0.090885</td>\n",
       "      <td>1.900695e+06</td>\n",
       "      <td>0.090943</td>\n",
       "      <td>0.004163</td>\n",
       "      <td>TRON</td>\n",
       "      <td>2021-09-20 23:44:00</td>\n",
       "      <td>0.000144</td>\n",
       "      <td>0.000054</td>\n",
       "    </tr>\n",
       "  </tbody>\n",
       "</table>\n",
       "</div>"
      ],
      "text/plain": [
       "         timestamp  Asset_ID  Count      Open      High       Low     Close  \\\n",
       "402816  1632181200        13  986.0  0.090885  0.091054  0.090710  0.090941   \n",
       "402817  1632181260        13  715.0  0.091010  0.091277  0.090980  0.091203   \n",
       "402818  1632181320        13  527.0  0.091171  0.091295  0.091092  0.091180   \n",
       "402819  1632181380        13  463.0  0.091206  0.091290  0.091028  0.091081   \n",
       "402820  1632181440        13  512.0  0.090989  0.091133  0.090831  0.090885   \n",
       "\n",
       "              Volume      VWAP    Target Asset_Name                date  \\\n",
       "402816  5.734456e+06  0.090831  0.000199       TRON 2021-09-20 23:40:00   \n",
       "402817  1.989048e+06  0.091125 -0.003477       TRON 2021-09-20 23:41:00   \n",
       "402818  2.386078e+06  0.091185 -0.002437       TRON 2021-09-20 23:42:00   \n",
       "402819  1.568854e+06  0.091131  0.004843       TRON 2021-09-20 23:43:00   \n",
       "402820  1.900695e+06  0.090943  0.004163       TRON 2021-09-20 23:44:00   \n",
       "\n",
       "        upper_shadow  lower_shador  \n",
       "402816      0.000113      0.000175  \n",
       "402817      0.000074      0.000030  \n",
       "402818      0.000115      0.000079  \n",
       "402819      0.000084      0.000053  \n",
       "402820      0.000144      0.000054  "
      ]
     },
     "execution_count": 18,
     "metadata": {},
     "output_type": "execute_result"
    }
   ],
   "source": [
    "feature_data.tail()"
   ]
  },
  {
   "cell_type": "code",
   "execution_count": 19,
   "id": "5c18a5c4",
   "metadata": {
    "ExecuteTime": {
     "end_time": "2021-11-08T17:26:25.828036Z",
     "start_time": "2021-11-08T17:26:25.806248Z"
    }
   },
   "outputs": [],
   "source": [
    "PULIC_LB_RANGE = ['2021-06-13 00:00:00',\n",
    "                  '2021-09-13 00:00:00'] # 3 MONTH WORTH OF DATA\n",
    "\n",
    "if USE_TOY_SAMPLE:\n",
    "    EVAL_PERIODS = ['2021-09-15', '2021-09-22']\n",
    "\n",
    "else:\n",
    "    EVAL_PERIODS = PULIC_LB_RANGE"
   ]
  },
  {
   "cell_type": "code",
   "execution_count": 20,
   "id": "2e81fac2",
   "metadata": {
    "ExecuteTime": {
     "end_time": "2021-11-08T17:26:25.858187Z",
     "start_time": "2021-11-08T17:26:25.833274Z"
    }
   },
   "outputs": [],
   "source": [
    "valid_idx = feature_data['date'].between(*EVAL_PERIODS)\n",
    "train_idx = feature_data['date'] < EVAL_PERIODS[0]"
   ]
  },
  {
   "cell_type": "code",
   "execution_count": 21,
   "id": "81db7954",
   "metadata": {
    "ExecuteTime": {
     "end_time": "2021-11-08T17:26:25.919546Z",
     "start_time": "2021-11-08T17:26:25.863732Z"
    }
   },
   "outputs": [],
   "source": [
    "train_data = feature_data.loc[train_idx, :].reset_index(drop=True)\n",
    "valid_data = feature_data.loc[valid_idx, :].reset_index(drop=True)"
   ]
  },
  {
   "cell_type": "code",
   "execution_count": 22,
   "id": "2e728ec6",
   "metadata": {
    "ExecuteTime": {
     "end_time": "2021-11-08T17:26:25.947974Z",
     "start_time": "2021-11-08T17:26:25.921671Z"
    }
   },
   "outputs": [],
   "source": [
    "assert train_data.date.max() < pd.to_datetime(EVAL_PERIODS[0]), \\\n",
    "       'train set includes future data'"
   ]
  },
  {
   "cell_type": "code",
   "execution_count": 23,
   "id": "6269a668",
   "metadata": {
    "ExecuteTime": {
     "end_time": "2021-11-08T17:26:26.079652Z",
     "start_time": "2021-11-08T17:26:25.951835Z"
    }
   },
   "outputs": [
    {
     "data": {
      "text/plain": [
       "14"
      ]
     },
     "execution_count": 23,
     "metadata": {},
     "output_type": "execute_result"
    }
   ],
   "source": [
    "train_data.date.dt.date.nunique()"
   ]
  },
  {
   "cell_type": "code",
   "execution_count": 24,
   "id": "1811ee38",
   "metadata": {
    "ExecuteTime": {
     "end_time": "2021-11-08T17:26:26.168904Z",
     "start_time": "2021-11-08T17:26:26.083276Z"
    }
   },
   "outputs": [
    {
     "data": {
      "text/plain": [
       "6"
      ]
     },
     "execution_count": 24,
     "metadata": {},
     "output_type": "execute_result"
    }
   ],
   "source": [
    "valid_data.date.dt.date.nunique()"
   ]
  },
  {
   "cell_type": "code",
   "execution_count": 25,
   "id": "635f3b2c",
   "metadata": {
    "ExecuteTime": {
     "end_time": "2021-11-08T17:26:26.189971Z",
     "start_time": "2021-11-08T17:26:26.170736Z"
    }
   },
   "outputs": [],
   "source": [
    "COLUMNS_TO_DROP = [TARGET, 'Asset_Name', 'date', 'timestamp', 'Asset_ID']\n",
    "FEATURES = train_data.columns.drop(COLUMNS_TO_DROP)\n",
    "MODEL_PARAMS = {\n",
    " 'learning_rate': 0.05,\n",
    " 'subsample': 0.9,\n",
    " 'colsample_bytree': 0.7,\n",
    " 'random_state': 2021\n",
    "}\n",
    "OUTPUT_PATH = Path('artifacts/baseline/')\n",
    "if SAMPLE_LEVEL > 0:\n",
    "    OUTPUT_PATH = OUTPUT_PATH / f'sample/{SAMPLE_LEVEL}'\n",
    "OUTPUT_PATH.mkdir(exist_ok=True, parents=True)"
   ]
  },
  {
   "cell_type": "code",
   "execution_count": 26,
   "id": "486fb023",
   "metadata": {
    "ExecuteTime": {
     "end_time": "2021-11-08T17:26:26.214995Z",
     "start_time": "2021-11-08T17:26:26.193717Z"
    }
   },
   "outputs": [
    {
     "data": {
      "text/plain": [
       "Index(['Count', 'Open', 'High', 'Low', 'Close', 'Volume', 'VWAP',\n",
       "       'upper_shadow', 'lower_shador'],\n",
       "      dtype='object')"
      ]
     },
     "execution_count": 26,
     "metadata": {},
     "output_type": "execute_result"
    }
   ],
   "source": [
    "FEATURES"
   ]
  },
  {
   "cell_type": "code",
   "execution_count": 27,
   "id": "f03fc5f5",
   "metadata": {
    "ExecuteTime": {
     "end_time": "2021-11-08T17:26:26.321011Z",
     "start_time": "2021-11-08T17:26:26.218659Z"
    }
   },
   "outputs": [],
   "source": [
    "from xgboost import XGBRegressor\n",
    "from lightgbm import LGBMRegressor\n",
    "import joblib"
   ]
  },
  {
   "cell_type": "code",
   "execution_count": 28,
   "id": "abffd1a9",
   "metadata": {
    "ExecuteTime": {
     "end_time": "2021-11-08T17:26:33.512565Z",
     "start_time": "2021-11-08T17:26:26.325929Z"
    }
   },
   "outputs": [
    {
     "name": "stdout",
     "output_type": "stream",
     "text": [
      "training model for Binance Coin\n",
      "training model for Bitcoin\n",
      "training model for Bitcoin Cash\n",
      "training model for Cardano\n",
      "training model for Dogecoin\n",
      "training model for EOS.IO\n",
      "training model for Ethereum\n",
      "training model for Ethereum Classic\n",
      "training model for IOTA\n",
      "training model for Litecoin\n",
      "training model for Maker\n",
      "training model for Monero\n",
      "training model for Stellar\n",
      "training model for TRON\n",
      "CPU times: user 28.4 s, sys: 1.08 s, total: 29.5 s\n",
      "Wall time: 7.16 s\n"
     ]
    }
   ],
   "source": [
    "%%time\n",
    "CRYPTO_MODELS = {}\n",
    "valid_yhat = np.zeros(len(valid_data))\n",
    "for crypto, train_crypto in train_data.groupby(by=['Asset_Name']):\n",
    "    print(f'training model for {crypto}')\n",
    "    model_path = OUTPUT_PATH / f'{crypto}.pkl'\n",
    "    if model_path.exists() and (not FORCE_REWRITE):\n",
    "        model = joblib.load(model_path)\n",
    "    else:\n",
    "        model = LGBMRegressor(**MODEL_PARAMS)\n",
    "        model.fit(train_crypto[FEATURES], train_crypto[TARGET])\n",
    "        joblib.dump(model, model_path)\n",
    "    CRYPTO_MODELS[crypto] = model\n",
    "    crypto_index = valid_data['Asset_Name'] == crypto\n",
    "    valid_yhat[crypto_index] = model.predict(valid_data.loc[crypto_index, FEATURES])\n",
    "    "
   ]
  },
  {
   "cell_type": "code",
   "execution_count": 29,
   "id": "f72e7163",
   "metadata": {
    "ExecuteTime": {
     "end_time": "2021-11-08T17:26:33.579858Z",
     "start_time": "2021-11-08T17:26:33.515862Z"
    }
   },
   "outputs": [],
   "source": [
    "valid_data['yhat'] = valid_yhat"
   ]
  },
  {
   "cell_type": "code",
   "execution_count": 30,
   "id": "f243c2a6",
   "metadata": {
    "ExecuteTime": {
     "end_time": "2021-11-08T17:26:33.750011Z",
     "start_time": "2021-11-08T17:26:33.594159Z"
    }
   },
   "outputs": [],
   "source": [
    "scores, valid_corrs = compute_metrics(valid_data)"
   ]
  },
  {
   "cell_type": "code",
   "execution_count": 31,
   "id": "bda95266",
   "metadata": {
    "ExecuteTime": {
     "end_time": "2021-11-08T17:26:33.775333Z",
     "start_time": "2021-11-08T17:26:33.752633Z"
    }
   },
   "outputs": [
    {
     "data": {
      "text/plain": [
       "weighted_corr   -0.001978\n",
       "theor_corr       0.002857\n",
       "corr_min        -0.045152\n",
       "corr_max         0.063606\n",
       "corr_std         0.033563\n",
       "dtype: float64"
      ]
     },
     "execution_count": 31,
     "metadata": {},
     "output_type": "execute_result"
    }
   ],
   "source": [
    "scores"
   ]
  },
  {
   "cell_type": "code",
   "execution_count": 32,
   "id": "ee54fbc2",
   "metadata": {
    "ExecuteTime": {
     "end_time": "2021-11-08T17:26:33.810875Z",
     "start_time": "2021-11-08T17:26:33.778771Z"
    }
   },
   "outputs": [
    {
     "data": {
      "text/html": [
       "<div>\n",
       "<style scoped>\n",
       "    .dataframe tbody tr th:only-of-type {\n",
       "        vertical-align: middle;\n",
       "    }\n",
       "\n",
       "    .dataframe tbody tr th {\n",
       "        vertical-align: top;\n",
       "    }\n",
       "\n",
       "    .dataframe thead th {\n",
       "        text-align: right;\n",
       "    }\n",
       "</style>\n",
       "<table border=\"1\" class=\"dataframe\">\n",
       "  <thead>\n",
       "    <tr style=\"text-align: right;\">\n",
       "      <th></th>\n",
       "      <th>Asset_Name</th>\n",
       "      <th>corr</th>\n",
       "      <th>weight</th>\n",
       "      <th>weighted_corr</th>\n",
       "    </tr>\n",
       "  </thead>\n",
       "  <tbody>\n",
       "    <tr>\n",
       "      <th>0</th>\n",
       "      <td>Binance Coin</td>\n",
       "      <td>-0.035562</td>\n",
       "      <td>4.304065</td>\n",
       "      <td>-0.153060</td>\n",
       "    </tr>\n",
       "    <tr>\n",
       "      <th>1</th>\n",
       "      <td>Bitcoin</td>\n",
       "      <td>-0.006803</td>\n",
       "      <td>6.779922</td>\n",
       "      <td>-0.046122</td>\n",
       "    </tr>\n",
       "    <tr>\n",
       "      <th>2</th>\n",
       "      <td>Bitcoin Cash</td>\n",
       "      <td>0.000154</td>\n",
       "      <td>2.397895</td>\n",
       "      <td>0.000368</td>\n",
       "    </tr>\n",
       "    <tr>\n",
       "      <th>3</th>\n",
       "      <td>Cardano</td>\n",
       "      <td>0.052704</td>\n",
       "      <td>4.406719</td>\n",
       "      <td>0.232250</td>\n",
       "    </tr>\n",
       "    <tr>\n",
       "      <th>4</th>\n",
       "      <td>Dogecoin</td>\n",
       "      <td>-0.011080</td>\n",
       "      <td>3.555348</td>\n",
       "      <td>-0.039393</td>\n",
       "    </tr>\n",
       "    <tr>\n",
       "      <th>5</th>\n",
       "      <td>EOS.IO</td>\n",
       "      <td>-0.013241</td>\n",
       "      <td>1.386294</td>\n",
       "      <td>-0.018357</td>\n",
       "    </tr>\n",
       "    <tr>\n",
       "      <th>6</th>\n",
       "      <td>Ethereum</td>\n",
       "      <td>-0.028194</td>\n",
       "      <td>5.894403</td>\n",
       "      <td>-0.166187</td>\n",
       "    </tr>\n",
       "    <tr>\n",
       "      <th>7</th>\n",
       "      <td>Ethereum Classic</td>\n",
       "      <td>0.002878</td>\n",
       "      <td>2.079442</td>\n",
       "      <td>0.005984</td>\n",
       "    </tr>\n",
       "    <tr>\n",
       "      <th>8</th>\n",
       "      <td>IOTA</td>\n",
       "      <td>0.004860</td>\n",
       "      <td>1.098612</td>\n",
       "      <td>0.005340</td>\n",
       "    </tr>\n",
       "    <tr>\n",
       "      <th>9</th>\n",
       "      <td>Litecoin</td>\n",
       "      <td>0.063606</td>\n",
       "      <td>2.397895</td>\n",
       "      <td>0.152520</td>\n",
       "    </tr>\n",
       "    <tr>\n",
       "      <th>10</th>\n",
       "      <td>Maker</td>\n",
       "      <td>-0.044329</td>\n",
       "      <td>1.098612</td>\n",
       "      <td>-0.048701</td>\n",
       "    </tr>\n",
       "    <tr>\n",
       "      <th>11</th>\n",
       "      <td>Monero</td>\n",
       "      <td>0.029180</td>\n",
       "      <td>1.609438</td>\n",
       "      <td>0.046964</td>\n",
       "    </tr>\n",
       "    <tr>\n",
       "      <th>12</th>\n",
       "      <td>Stellar</td>\n",
       "      <td>-0.045152</td>\n",
       "      <td>2.079442</td>\n",
       "      <td>-0.093890</td>\n",
       "    </tr>\n",
       "    <tr>\n",
       "      <th>13</th>\n",
       "      <td>TRON</td>\n",
       "      <td>0.023111</td>\n",
       "      <td>1.791759</td>\n",
       "      <td>0.041410</td>\n",
       "    </tr>\n",
       "  </tbody>\n",
       "</table>\n",
       "</div>"
      ],
      "text/plain": [
       "          Asset_Name      corr    weight  weighted_corr\n",
       "0       Binance Coin -0.035562  4.304065      -0.153060\n",
       "1            Bitcoin -0.006803  6.779922      -0.046122\n",
       "2       Bitcoin Cash  0.000154  2.397895       0.000368\n",
       "3            Cardano  0.052704  4.406719       0.232250\n",
       "4           Dogecoin -0.011080  3.555348      -0.039393\n",
       "5             EOS.IO -0.013241  1.386294      -0.018357\n",
       "6           Ethereum -0.028194  5.894403      -0.166187\n",
       "7   Ethereum Classic  0.002878  2.079442       0.005984\n",
       "8               IOTA  0.004860  1.098612       0.005340\n",
       "9           Litecoin  0.063606  2.397895       0.152520\n",
       "10             Maker -0.044329  1.098612      -0.048701\n",
       "11            Monero  0.029180  1.609438       0.046964\n",
       "12           Stellar -0.045152  2.079442      -0.093890\n",
       "13              TRON  0.023111  1.791759       0.041410"
      ]
     },
     "execution_count": 32,
     "metadata": {},
     "output_type": "execute_result"
    }
   ],
   "source": [
    "valid_corrs"
   ]
  },
  {
   "cell_type": "code",
   "execution_count": 33,
   "id": "a5ac89e6",
   "metadata": {
    "ExecuteTime": {
     "end_time": "2021-11-08T17:26:34.128648Z",
     "start_time": "2021-11-08T17:26:33.814998Z"
    }
   },
   "outputs": [
    {
     "data": {
      "text/plain": [
       "<AxesSubplot:xlabel='Asset_Name'>"
      ]
     },
     "execution_count": 33,
     "metadata": {},
     "output_type": "execute_result"
    },
    {
     "data": {
      "image/png": "[encoded data removed]",
      "text/plain": [
       "<Figure size 432x288 with 1 Axes>"
      ]
     },
     "metadata": {
      "needs_background": "light"
     },
     "output_type": "display_data"
    }
   ],
   "source": [
    "valid_corrs.plot.bar('Asset_Name', 'corr')"
   ]
  },
  {
   "cell_type": "code",
   "execution_count": 34,
   "id": "4a0a7a49",
   "metadata": {
    "ExecuteTime": {
     "end_time": "2021-11-08T17:26:50.232497Z",
     "start_time": "2021-11-08T17:26:34.131688Z"
    }
   },
   "outputs": [],
   "source": [
    "fi = pd.concat([pd.DataFrame({'feature': FEATURES,\n",
    "                              'importance': model.feature_importances_,\n",
    "                              'crypto': crypto})\n",
    "                for crypto, model in CRYPTO_MODELS.items()])"
   ]
  },
  {
   "cell_type": "code",
   "execution_count": 35,
   "id": "4512ad00",
   "metadata": {
    "ExecuteTime": {
     "end_time": "2021-11-08T17:26:50.309715Z",
     "start_time": "2021-11-08T17:26:50.234657Z"
    }
   },
   "outputs": [],
   "source": [
    "fi_stats = fi.groupby('feature').describe().sort_values(('importance', 'mean'), ascending=False)"
   ]
  },
  {
   "cell_type": "code",
   "execution_count": 36,
   "id": "4992408e",
   "metadata": {
    "ExecuteTime": {
     "end_time": "2021-11-08T17:26:50.345041Z",
     "start_time": "2021-11-08T17:26:50.311843Z"
    }
   },
   "outputs": [
    {
     "data": {
      "text/html": [
       "<div>\n",
       "<style scoped>\n",
       "    .dataframe tbody tr th:only-of-type {\n",
       "        vertical-align: middle;\n",
       "    }\n",
       "\n",
       "    .dataframe tbody tr th {\n",
       "        vertical-align: top;\n",
       "    }\n",
       "\n",
       "    .dataframe thead tr th {\n",
       "        text-align: left;\n",
       "    }\n",
       "\n",
       "    .dataframe thead tr:last-of-type th {\n",
       "        text-align: right;\n",
       "    }\n",
       "</style>\n",
       "<table border=\"1\" class=\"dataframe\">\n",
       "  <thead>\n",
       "    <tr>\n",
       "      <th></th>\n",
       "      <th colspan=\"8\" halign=\"left\">importance</th>\n",
       "    </tr>\n",
       "    <tr>\n",
       "      <th></th>\n",
       "      <th>count</th>\n",
       "      <th>mean</th>\n",
       "      <th>std</th>\n",
       "      <th>min</th>\n",
       "      <th>25%</th>\n",
       "      <th>50%</th>\n",
       "      <th>75%</th>\n",
       "      <th>max</th>\n",
       "    </tr>\n",
       "    <tr>\n",
       "      <th>feature</th>\n",
       "      <th></th>\n",
       "      <th></th>\n",
       "      <th></th>\n",
       "      <th></th>\n",
       "      <th></th>\n",
       "      <th></th>\n",
       "      <th></th>\n",
       "      <th></th>\n",
       "    </tr>\n",
       "  </thead>\n",
       "  <tbody>\n",
       "    <tr>\n",
       "      <th>Low</th>\n",
       "      <td>14.0</td>\n",
       "      <td>0.142449</td>\n",
       "      <td>0.016892</td>\n",
       "      <td>0.125414</td>\n",
       "      <td>0.129619</td>\n",
       "      <td>0.139559</td>\n",
       "      <td>0.148523</td>\n",
       "      <td>0.186130</td>\n",
       "    </tr>\n",
       "    <tr>\n",
       "      <th>VWAP</th>\n",
       "      <td>14.0</td>\n",
       "      <td>0.136886</td>\n",
       "      <td>0.018098</td>\n",
       "      <td>0.090811</td>\n",
       "      <td>0.132616</td>\n",
       "      <td>0.137061</td>\n",
       "      <td>0.146661</td>\n",
       "      <td>0.169692</td>\n",
       "    </tr>\n",
       "    <tr>\n",
       "      <th>Close</th>\n",
       "      <td>14.0</td>\n",
       "      <td>0.132371</td>\n",
       "      <td>0.007810</td>\n",
       "      <td>0.120581</td>\n",
       "      <td>0.127572</td>\n",
       "      <td>0.131175</td>\n",
       "      <td>0.137200</td>\n",
       "      <td>0.147338</td>\n",
       "    </tr>\n",
       "    <tr>\n",
       "      <th>High</th>\n",
       "      <td>14.0</td>\n",
       "      <td>0.119569</td>\n",
       "      <td>0.012329</td>\n",
       "      <td>0.098484</td>\n",
       "      <td>0.115121</td>\n",
       "      <td>0.119376</td>\n",
       "      <td>0.120038</td>\n",
       "      <td>0.154403</td>\n",
       "    </tr>\n",
       "    <tr>\n",
       "      <th>Open</th>\n",
       "      <td>14.0</td>\n",
       "      <td>0.098387</td>\n",
       "      <td>0.009165</td>\n",
       "      <td>0.085555</td>\n",
       "      <td>0.092688</td>\n",
       "      <td>0.097931</td>\n",
       "      <td>0.104544</td>\n",
       "      <td>0.119004</td>\n",
       "    </tr>\n",
       "    <tr>\n",
       "      <th>Volume</th>\n",
       "      <td>14.0</td>\n",
       "      <td>0.097617</td>\n",
       "      <td>0.007200</td>\n",
       "      <td>0.080859</td>\n",
       "      <td>0.093876</td>\n",
       "      <td>0.098821</td>\n",
       "      <td>0.103169</td>\n",
       "      <td>0.107604</td>\n",
       "    </tr>\n",
       "    <tr>\n",
       "      <th>lower_shador</th>\n",
       "      <td>14.0</td>\n",
       "      <td>0.095409</td>\n",
       "      <td>0.008371</td>\n",
       "      <td>0.085026</td>\n",
       "      <td>0.089812</td>\n",
       "      <td>0.094729</td>\n",
       "      <td>0.097300</td>\n",
       "      <td>0.118015</td>\n",
       "    </tr>\n",
       "    <tr>\n",
       "      <th>upper_shadow</th>\n",
       "      <td>14.0</td>\n",
       "      <td>0.089144</td>\n",
       "      <td>0.009380</td>\n",
       "      <td>0.062823</td>\n",
       "      <td>0.086923</td>\n",
       "      <td>0.087762</td>\n",
       "      <td>0.095100</td>\n",
       "      <td>0.101654</td>\n",
       "    </tr>\n",
       "    <tr>\n",
       "      <th>Count</th>\n",
       "      <td>14.0</td>\n",
       "      <td>0.088169</td>\n",
       "      <td>0.007361</td>\n",
       "      <td>0.074289</td>\n",
       "      <td>0.083573</td>\n",
       "      <td>0.089388</td>\n",
       "      <td>0.094506</td>\n",
       "      <td>0.097033</td>\n",
       "    </tr>\n",
       "  </tbody>\n",
       "</table>\n",
       "</div>"
      ],
      "text/plain": [
       "             importance                                                    \\\n",
       "                  count      mean       std       min       25%       50%   \n",
       "feature                                                                     \n",
       "Low                14.0  0.142449  0.016892  0.125414  0.129619  0.139559   \n",
       "VWAP               14.0  0.136886  0.018098  0.090811  0.132616  0.137061   \n",
       "Close              14.0  0.132371  0.007810  0.120581  0.127572  0.131175   \n",
       "High               14.0  0.119569  0.012329  0.098484  0.115121  0.119376   \n",
       "Open               14.0  0.098387  0.009165  0.085555  0.092688  0.097931   \n",
       "Volume             14.0  0.097617  0.007200  0.080859  0.093876  0.098821   \n",
       "lower_shador       14.0  0.095409  0.008371  0.085026  0.089812  0.094729   \n",
       "upper_shadow       14.0  0.089144  0.009380  0.062823  0.086923  0.087762   \n",
       "Count              14.0  0.088169  0.007361  0.074289  0.083573  0.089388   \n",
       "\n",
       "                                  \n",
       "                   75%       max  \n",
       "feature                           \n",
       "Low           0.148523  0.186130  \n",
       "VWAP          0.146661  0.169692  \n",
       "Close         0.137200  0.147338  \n",
       "High          0.120038  0.154403  \n",
       "Open          0.104544  0.119004  \n",
       "Volume        0.103169  0.107604  \n",
       "lower_shador  0.097300  0.118015  \n",
       "upper_shadow  0.095100  0.101654  \n",
       "Count         0.094506  0.097033  "
      ]
     },
     "execution_count": 36,
     "metadata": {},
     "output_type": "execute_result"
    }
   ],
   "source": [
    "fi_stats"
   ]
  },
  {
   "cell_type": "code",
   "execution_count": 37,
   "id": "972a9381",
   "metadata": {
    "ExecuteTime": {
     "end_time": "2021-11-08T17:26:50.673523Z",
     "start_time": "2021-11-08T17:26:50.348052Z"
    }
   },
   "outputs": [
    {
     "data": {
      "text/plain": [
       "<AxesSubplot:xlabel='importance', ylabel='feature'>"
      ]
     },
     "execution_count": 37,
     "metadata": {},
     "output_type": "execute_result"
    },
    {
     "data": {
      "image/png": "[encoded data removed]",
      "text/plain": [
       "<Figure size 432x288 with 1 Axes>"
      ]
     },
     "metadata": {
      "needs_background": "light"
     },
     "output_type": "display_data"
    }
   ],
   "source": [
    "sns.boxplot(x='importance', y='feature',\n",
    "            data=fi,\n",
    "            order=fi_stats.index)"
   ]
  },
  {
   "cell_type": "code",
   "execution_count": 1,
   "id": "c79bf041",
   "metadata": {
    "ExecuteTime": {
     "end_time": "2021-11-08T19:24:44.367731Z",
     "start_time": "2021-11-08T19:24:44.043457Z"
    }
   },
   "outputs": [
    {
     "ename": "ImportError",
     "evalue": "cannot import name 'GroupTimeSeriesSplit' from 'sklearn.model_selection' (/home/med/anaconda3/envs/crypto-g/lib/python3.7/site-packages/sklearn/model_selection/__init__.py)",
     "output_type": "error",
     "traceback": [
      "\u001b[0;31m---------------------------------------------------------------------------\u001b[0m",
      "\u001b[0;31mImportError\u001b[0m                               Traceback (most recent call last)",
      "\u001b[0;32m/tmp/ipykernel_9051/1901732468.py\u001b[0m in \u001b[0;36m<module>\u001b[0;34m\u001b[0m\n\u001b[0;32m----> 1\u001b[0;31m \u001b[0;32mfrom\u001b[0m \u001b[0msklearn\u001b[0m\u001b[0;34m.\u001b[0m\u001b[0mmodel_selection\u001b[0m \u001b[0;32mimport\u001b[0m \u001b[0mGroupTimeSeriesSplit\u001b[0m\u001b[0;34m\u001b[0m\u001b[0;34m\u001b[0m\u001b[0m\n\u001b[0m",
      "\u001b[0;31mImportError\u001b[0m: cannot import name 'GroupTimeSeriesSplit' from 'sklearn.model_selection' (/home/med/anaconda3/envs/crypto-g/lib/python3.7/site-packages/sklearn/model_selection/__init__.py)"
     ]
    }
   ],
   "source": [
    "from sklearn.model_selection import GroupTimeSeriesSplit"
   ]
  },
  {
   "cell_type": "code",
   "execution_count": 38,
   "id": "2a91e93f",
   "metadata": {
    "ExecuteTime": {
     "end_time": "2021-11-08T17:26:50.793557Z",
     "start_time": "2021-11-08T17:26:50.677470Z"
    }
   },
   "outputs": [
    {
     "data": {
      "text/html": [
       "<style  type=\"text/css\" >\n",
       "#T_871cf_row0_col0{\n",
       "            background-color:  #46085c;\n",
       "            color:  #f1f1f1;\n",
       "        }#T_871cf_row0_col1{\n",
       "            background-color:  #3f4889;\n",
       "            color:  #f1f1f1;\n",
       "        }#T_871cf_row0_col2,#T_871cf_row4_col4{\n",
       "            background-color:  #3c4f8a;\n",
       "            color:  #f1f1f1;\n",
       "        }#T_871cf_row0_col3,#T_871cf_row6_col1{\n",
       "            background-color:  #3fbc73;\n",
       "            color:  #000000;\n",
       "        }#T_871cf_row0_col4,#T_871cf_row1_col8,#T_871cf_row2_col10,#T_871cf_row3_col1,#T_871cf_row4_col8,#T_871cf_row5_col9,#T_871cf_row6_col9,#T_871cf_row7_col2,#T_871cf_row8_col9{\n",
       "            background-color:  #440154;\n",
       "            color:  #f1f1f1;\n",
       "        }#T_871cf_row0_col5,#T_871cf_row3_col2,#T_871cf_row4_col9{\n",
       "            background-color:  #2b758e;\n",
       "            color:  #f1f1f1;\n",
       "        }#T_871cf_row0_col6{\n",
       "            background-color:  #2e6d8e;\n",
       "            color:  #f1f1f1;\n",
       "        }#T_871cf_row0_col7{\n",
       "            background-color:  #2cb17e;\n",
       "            color:  #000000;\n",
       "        }#T_871cf_row0_col8,#T_871cf_row6_col12{\n",
       "            background-color:  #26828e;\n",
       "            color:  #000000;\n",
       "        }#T_871cf_row0_col9,#T_871cf_row1_col1,#T_871cf_row2_col9,#T_871cf_row3_col9,#T_871cf_row4_col5,#T_871cf_row5_col3,#T_871cf_row6_col4,#T_871cf_row7_col8,#T_871cf_row8_col11{\n",
       "            background-color:  #fde725;\n",
       "            color:  #000000;\n",
       "        }#T_871cf_row0_col10{\n",
       "            background-color:  #addc30;\n",
       "            color:  #000000;\n",
       "        }#T_871cf_row0_col11,#T_871cf_row2_col12,#T_871cf_row8_col5{\n",
       "            background-color:  #1fa187;\n",
       "            color:  #000000;\n",
       "        }#T_871cf_row0_col12{\n",
       "            background-color:  #29798e;\n",
       "            color:  #000000;\n",
       "        }#T_871cf_row0_col13,#T_871cf_row5_col4{\n",
       "            background-color:  #31668e;\n",
       "            color:  #f1f1f1;\n",
       "        }#T_871cf_row1_col0{\n",
       "            background-color:  #dae319;\n",
       "            color:  #000000;\n",
       "        }#T_871cf_row1_col2,#T_871cf_row6_col13{\n",
       "            background-color:  #c5e021;\n",
       "            color:  #000000;\n",
       "        }#T_871cf_row1_col3{\n",
       "            background-color:  #39568c;\n",
       "            color:  #f1f1f1;\n",
       "        }#T_871cf_row1_col4{\n",
       "            background-color:  #9dd93b;\n",
       "            color:  #000000;\n",
       "        }#T_871cf_row1_col5{\n",
       "            background-color:  #93d741;\n",
       "            color:  #000000;\n",
       "        }#T_871cf_row1_col6,#T_871cf_row6_col6{\n",
       "            background-color:  #bddf26;\n",
       "            color:  #000000;\n",
       "        }#T_871cf_row1_col7{\n",
       "            background-color:  #1f958b;\n",
       "            color:  #000000;\n",
       "        }#T_871cf_row1_col9{\n",
       "            background-color:  #38b977;\n",
       "            color:  #000000;\n",
       "        }#T_871cf_row1_col10,#T_871cf_row4_col13{\n",
       "            background-color:  #472a7a;\n",
       "            color:  #f1f1f1;\n",
       "        }#T_871cf_row1_col11,#T_871cf_row6_col2{\n",
       "            background-color:  #31b57b;\n",
       "            color:  #000000;\n",
       "        }#T_871cf_row1_col12,#T_871cf_row2_col0,#T_871cf_row2_col5,#T_871cf_row7_col13{\n",
       "            background-color:  #2b748e;\n",
       "            color:  #f1f1f1;\n",
       "        }#T_871cf_row1_col13{\n",
       "            background-color:  #238a8d;\n",
       "            color:  #000000;\n",
       "        }#T_871cf_row2_col1,#T_871cf_row7_col4{\n",
       "            background-color:  #34618d;\n",
       "            color:  #f1f1f1;\n",
       "        }#T_871cf_row2_col2{\n",
       "            background-color:  #2c738e;\n",
       "            color:  #f1f1f1;\n",
       "        }#T_871cf_row2_col3{\n",
       "            background-color:  #414487;\n",
       "            color:  #f1f1f1;\n",
       "        }#T_871cf_row2_col4{\n",
       "            background-color:  #3a548c;\n",
       "            color:  #f1f1f1;\n",
       "        }#T_871cf_row2_col6{\n",
       "            background-color:  #277f8e;\n",
       "            color:  #000000;\n",
       "        }#T_871cf_row2_col7{\n",
       "            background-color:  #2d718e;\n",
       "            color:  #f1f1f1;\n",
       "        }#T_871cf_row2_col8{\n",
       "            background-color:  #2c728e;\n",
       "            color:  #f1f1f1;\n",
       "        }#T_871cf_row2_col11,#T_871cf_row7_col0{\n",
       "            background-color:  #355e8d;\n",
       "            color:  #f1f1f1;\n",
       "        }#T_871cf_row2_col13{\n",
       "            background-color:  #32648e;\n",
       "            color:  #f1f1f1;\n",
       "        }#T_871cf_row3_col0{\n",
       "            background-color:  #2e6e8e;\n",
       "            color:  #f1f1f1;\n",
       "        }#T_871cf_row3_col3{\n",
       "            background-color:  #433d84;\n",
       "            color:  #f1f1f1;\n",
       "        }#T_871cf_row3_col4{\n",
       "            background-color:  #29af7f;\n",
       "            color:  #000000;\n",
       "        }#T_871cf_row3_col5{\n",
       "            background-color:  #440256;\n",
       "            color:  #f1f1f1;\n",
       "        }#T_871cf_row3_col6{\n",
       "            background-color:  #460b5e;\n",
       "            color:  #f1f1f1;\n",
       "        }#T_871cf_row3_col7,#T_871cf_row3_col13{\n",
       "            background-color:  #3d4d8a;\n",
       "            color:  #f1f1f1;\n",
       "        }#T_871cf_row3_col8{\n",
       "            background-color:  #481a6c;\n",
       "            color:  #f1f1f1;\n",
       "        }#T_871cf_row3_col10{\n",
       "            background-color:  #375a8c;\n",
       "            color:  #f1f1f1;\n",
       "        }#T_871cf_row3_col11{\n",
       "            background-color:  #481c6e;\n",
       "            color:  #f1f1f1;\n",
       "        }#T_871cf_row3_col12{\n",
       "            background-color:  #25848e;\n",
       "            color:  #000000;\n",
       "        }#T_871cf_row4_col0{\n",
       "            background-color:  #20a386;\n",
       "            color:  #000000;\n",
       "        }#T_871cf_row4_col1{\n",
       "            background-color:  #1f978b;\n",
       "            color:  #000000;\n",
       "        }#T_871cf_row4_col2,#T_871cf_row8_col2{\n",
       "            background-color:  #28ae80;\n",
       "            color:  #000000;\n",
       "        }#T_871cf_row4_col3{\n",
       "            background-color:  #481467;\n",
       "            color:  #f1f1f1;\n",
       "        }#T_871cf_row4_col6,#T_871cf_row8_col12{\n",
       "            background-color:  #32b67a;\n",
       "            color:  #000000;\n",
       "        }#T_871cf_row4_col7{\n",
       "            background-color:  #2d708e;\n",
       "            color:  #f1f1f1;\n",
       "        }#T_871cf_row4_col10{\n",
       "            background-color:  #404688;\n",
       "            color:  #f1f1f1;\n",
       "        }#T_871cf_row4_col11{\n",
       "            background-color:  #2c718e;\n",
       "            color:  #f1f1f1;\n",
       "        }#T_871cf_row4_col12{\n",
       "            background-color:  #3e4c8a;\n",
       "            color:  #f1f1f1;\n",
       "        }#T_871cf_row5_col0{\n",
       "            background-color:  #1e9c89;\n",
       "            color:  #000000;\n",
       "        }#T_871cf_row5_col1{\n",
       "            background-color:  #4ec36b;\n",
       "            color:  #000000;\n",
       "        }#T_871cf_row5_col2{\n",
       "            background-color:  #1f968b;\n",
       "            color:  #000000;\n",
       "        }#T_871cf_row5_col5{\n",
       "            background-color:  #1e9d89;\n",
       "            color:  #000000;\n",
       "        }#T_871cf_row5_col6{\n",
       "            background-color:  #20938c;\n",
       "            color:  #000000;\n",
       "        }#T_871cf_row5_col7,#T_871cf_row5_col12{\n",
       "            background-color:  #25ab82;\n",
       "            color:  #000000;\n",
       "        }#T_871cf_row5_col8,#T_871cf_row6_col7{\n",
       "            background-color:  #48c16e;\n",
       "            color:  #000000;\n",
       "        }#T_871cf_row5_col10{\n",
       "            background-color:  #73d056;\n",
       "            color:  #000000;\n",
       "        }#T_871cf_row5_col11{\n",
       "            background-color:  #1fa088;\n",
       "            color:  #000000;\n",
       "        }#T_871cf_row5_col13{\n",
       "            background-color:  #46c06f;\n",
       "            color:  #000000;\n",
       "        }#T_871cf_row6_col0{\n",
       "            background-color:  #1f998a;\n",
       "            color:  #000000;\n",
       "        }#T_871cf_row6_col3{\n",
       "            background-color:  #1f9a8a;\n",
       "            color:  #000000;\n",
       "        }#T_871cf_row6_col5{\n",
       "            background-color:  #5ac864;\n",
       "            color:  #000000;\n",
       "        }#T_871cf_row6_col8{\n",
       "            background-color:  #23898e;\n",
       "            color:  #000000;\n",
       "        }#T_871cf_row6_col10{\n",
       "            background-color:  #33628d;\n",
       "            color:  #f1f1f1;\n",
       "        }#T_871cf_row6_col11{\n",
       "            background-color:  #a5db36;\n",
       "            color:  #000000;\n",
       "        }#T_871cf_row7_col1{\n",
       "            background-color:  #2a788e;\n",
       "            color:  #000000;\n",
       "        }#T_871cf_row7_col3{\n",
       "            background-color:  #30698e;\n",
       "            color:  #f1f1f1;\n",
       "        }#T_871cf_row7_col5{\n",
       "            background-color:  #443b84;\n",
       "            color:  #f1f1f1;\n",
       "        }#T_871cf_row7_col6{\n",
       "            background-color:  #365d8d;\n",
       "            color:  #f1f1f1;\n",
       "        }#T_871cf_row7_col7{\n",
       "            background-color:  #472e7c;\n",
       "            color:  #f1f1f1;\n",
       "        }#T_871cf_row7_col9{\n",
       "            background-color:  #472f7d;\n",
       "            color:  #f1f1f1;\n",
       "        }#T_871cf_row7_col10{\n",
       "            background-color:  #2fb47c;\n",
       "            color:  #000000;\n",
       "        }#T_871cf_row7_col11{\n",
       "            background-color:  #424086;\n",
       "            color:  #f1f1f1;\n",
       "        }#T_871cf_row7_col12{\n",
       "            background-color:  #482878;\n",
       "            color:  #f1f1f1;\n",
       "        }#T_871cf_row8_col0,#T_871cf_row8_col6{\n",
       "            background-color:  #26ad81;\n",
       "            color:  #000000;\n",
       "        }#T_871cf_row8_col1{\n",
       "            background-color:  #27ad81;\n",
       "            color:  #000000;\n",
       "        }#T_871cf_row8_col3{\n",
       "            background-color:  #23a983;\n",
       "            color:  #000000;\n",
       "        }#T_871cf_row8_col4{\n",
       "            background-color:  #a2da37;\n",
       "            color:  #000000;\n",
       "        }#T_871cf_row8_col7{\n",
       "            background-color:  #58c765;\n",
       "            color:  #000000;\n",
       "        }#T_871cf_row8_col8{\n",
       "            background-color:  #ece51b;\n",
       "            color:  #000000;\n",
       "        }#T_871cf_row8_col10{\n",
       "            background-color:  #b0dd2f;\n",
       "            color:  #000000;\n",
       "        }#T_871cf_row8_col13{\n",
       "            background-color:  #4cc26c;\n",
       "            color:  #000000;\n",
       "        }</style><table id=\"T_871cf_\" ><thead>    <tr>        <th class=\"index_name level0\" >crypto</th>        <th class=\"col_heading level0 col0\" >Binance Coin</th>        <th class=\"col_heading level0 col1\" >Bitcoin</th>        <th class=\"col_heading level0 col2\" >Bitcoin Cash</th>        <th class=\"col_heading level0 col3\" >Cardano</th>        <th class=\"col_heading level0 col4\" >Dogecoin</th>        <th class=\"col_heading level0 col5\" >EOS.IO</th>        <th class=\"col_heading level0 col6\" >Ethereum</th>        <th class=\"col_heading level0 col7\" >Ethereum Classic</th>        <th class=\"col_heading level0 col8\" >IOTA</th>        <th class=\"col_heading level0 col9\" >Litecoin</th>        <th class=\"col_heading level0 col10\" >Maker</th>        <th class=\"col_heading level0 col11\" >Monero</th>        <th class=\"col_heading level0 col12\" >Stellar</th>        <th class=\"col_heading level0 col13\" >TRON</th>    </tr>    <tr>        <th class=\"index_name level0\" >feature</th>        <th class=\"blank\" ></th>        <th class=\"blank\" ></th>        <th class=\"blank\" ></th>        <th class=\"blank\" ></th>        <th class=\"blank\" ></th>        <th class=\"blank\" ></th>        <th class=\"blank\" ></th>        <th class=\"blank\" ></th>        <th class=\"blank\" ></th>        <th class=\"blank\" ></th>        <th class=\"blank\" ></th>        <th class=\"blank\" ></th>        <th class=\"blank\" ></th>        <th class=\"blank\" ></th>    </tr></thead><tbody>\n",
       "                <tr>\n",
       "                        <th id=\"T_871cf_level0_row0\" class=\"row_heading level0 row0\" >Close</th>\n",
       "                        <td id=\"T_871cf_row0_col0\" class=\"data row0 col0\" >0.121112</td>\n",
       "                        <td id=\"T_871cf_row0_col1\" class=\"data row0 col1\" >0.126420</td>\n",
       "                        <td id=\"T_871cf_row0_col2\" class=\"data row0 col2\" >0.126984</td>\n",
       "                        <td id=\"T_871cf_row0_col3\" class=\"data row0 col3\" >0.139011</td>\n",
       "                        <td id=\"T_871cf_row0_col4\" class=\"data row0 col4\" >0.120581</td>\n",
       "                        <td id=\"T_871cf_row0_col5\" class=\"data row0 col5\" >0.130955</td>\n",
       "                        <td id=\"T_871cf_row0_col6\" class=\"data row0 col6\" >0.130049</td>\n",
       "                        <td id=\"T_871cf_row0_col7\" class=\"data row0 col7\" >0.137651</td>\n",
       "                        <td id=\"T_871cf_row0_col8\" class=\"data row0 col8\" >0.132433</td>\n",
       "                        <td id=\"T_871cf_row0_col9\" class=\"data row0 col9\" >0.147338</td>\n",
       "                        <td id=\"T_871cf_row0_col10\" class=\"data row0 col10\" >0.144082</td>\n",
       "                        <td id=\"T_871cf_row0_col11\" class=\"data row0 col11\" >0.135844</td>\n",
       "                        <td id=\"T_871cf_row0_col12\" class=\"data row0 col12\" >0.131395</td>\n",
       "                        <td id=\"T_871cf_row0_col13\" class=\"data row0 col13\" >0.129339</td>\n",
       "            </tr>\n",
       "            <tr>\n",
       "                        <th id=\"T_871cf_level0_row1\" class=\"row_heading level0 row1\" >Count</th>\n",
       "                        <td id=\"T_871cf_row1_col0\" class=\"data row1 col0\" >0.095713</td>\n",
       "                        <td id=\"T_871cf_row1_col1\" class=\"data row1 col1\" >0.097033</td>\n",
       "                        <td id=\"T_871cf_row1_col2\" class=\"data row1 col2\" >0.095049</td>\n",
       "                        <td id=\"T_871cf_row1_col3\" class=\"data row1 col3\" >0.080379</td>\n",
       "                        <td id=\"T_871cf_row1_col4\" class=\"data row1 col4\" >0.093682</td>\n",
       "                        <td id=\"T_871cf_row1_col5\" class=\"data row1 col5\" >0.093371</td>\n",
       "                        <td id=\"T_871cf_row1_col6\" class=\"data row1 col6\" >0.094780</td>\n",
       "                        <td id=\"T_871cf_row1_col7\" class=\"data row1 col7\" >0.086147</td>\n",
       "                        <td id=\"T_871cf_row1_col8\" class=\"data row1 col8\" >0.074289</td>\n",
       "                        <td id=\"T_871cf_row1_col9\" class=\"data row1 col9\" >0.089633</td>\n",
       "                        <td id=\"T_871cf_row1_col10\" class=\"data row1 col10\" >0.077018</td>\n",
       "                        <td id=\"T_871cf_row1_col11\" class=\"data row1 col11\" >0.089143</td>\n",
       "                        <td id=\"T_871cf_row1_col12\" class=\"data row1 col12\" >0.083081</td>\n",
       "                        <td id=\"T_871cf_row1_col13\" class=\"data row1 col13\" >0.085050</td>\n",
       "            </tr>\n",
       "            <tr>\n",
       "                        <th id=\"T_871cf_level0_row2\" class=\"row_heading level0 row2\" >High</th>\n",
       "                        <td id=\"T_871cf_row2_col0\" class=\"data row2 col0\" >0.120063</td>\n",
       "                        <td id=\"T_871cf_row2_col1\" class=\"data row2 col1\" >0.115732</td>\n",
       "                        <td id=\"T_871cf_row2_col2\" class=\"data row2 col2\" >0.119752</td>\n",
       "                        <td id=\"T_871cf_row2_col3\" class=\"data row2 col3\" >0.109671</td>\n",
       "                        <td id=\"T_871cf_row2_col4\" class=\"data row2 col4\" >0.112942</td>\n",
       "                        <td id=\"T_871cf_row2_col5\" class=\"data row2 col5\" >0.119962</td>\n",
       "                        <td id=\"T_871cf_row2_col6\" class=\"data row2 col6\" >0.122351</td>\n",
       "                        <td id=\"T_871cf_row2_col7\" class=\"data row2 col7\" >0.119210</td>\n",
       "                        <td id=\"T_871cf_row2_col8\" class=\"data row2 col8\" >0.119543</td>\n",
       "                        <td id=\"T_871cf_row2_col9\" class=\"data row2 col9\" >0.154403</td>\n",
       "                        <td id=\"T_871cf_row2_col10\" class=\"data row2 col10\" >0.098484</td>\n",
       "                        <td id=\"T_871cf_row2_col11\" class=\"data row2 col11\" >0.114917</td>\n",
       "                        <td id=\"T_871cf_row2_col12\" class=\"data row2 col12\" >0.130574</td>\n",
       "                        <td id=\"T_871cf_row2_col13\" class=\"data row2 col13\" >0.116358</td>\n",
       "            </tr>\n",
       "            <tr>\n",
       "                        <th id=\"T_871cf_level0_row3\" class=\"row_heading level0 row3\" >Low</th>\n",
       "                        <td id=\"T_871cf_row3_col0\" class=\"data row3 col0\" >0.147082</td>\n",
       "                        <td id=\"T_871cf_row3_col1\" class=\"data row3 col1\" >0.125414</td>\n",
       "                        <td id=\"T_871cf_row3_col2\" class=\"data row3 col2\" >0.149003</td>\n",
       "                        <td id=\"T_871cf_row3_col3\" class=\"data row3 col3\" >0.136149</td>\n",
       "                        <td id=\"T_871cf_row3_col4\" class=\"data row3 col4\" >0.163687</td>\n",
       "                        <td id=\"T_871cf_row3_col5\" class=\"data row3 col5\" >0.125785</td>\n",
       "                        <td id=\"T_871cf_row3_col6\" class=\"data row3 col6\" >0.127311</td>\n",
       "                        <td id=\"T_871cf_row3_col7\" class=\"data row3 col7\" >0.139475</td>\n",
       "                        <td id=\"T_871cf_row3_col8\" class=\"data row3 col8\" >0.129513</td>\n",
       "                        <td id=\"T_871cf_row3_col9\" class=\"data row3 col9\" >0.186130</td>\n",
       "                        <td id=\"T_871cf_row3_col10\" class=\"data row3 col10\" >0.142290</td>\n",
       "                        <td id=\"T_871cf_row3_col11\" class=\"data row3 col11\" >0.129937</td>\n",
       "                        <td id=\"T_871cf_row3_col12\" class=\"data row3 col12\" >0.152860</td>\n",
       "                        <td id=\"T_871cf_row3_col13\" class=\"data row3 col13\" >0.139642</td>\n",
       "            </tr>\n",
       "            <tr>\n",
       "                        <th id=\"T_871cf_level0_row4\" class=\"row_heading level0 row4\" >Open</th>\n",
       "                        <td id=\"T_871cf_row4_col0\" class=\"data row4 col0\" >0.104970</td>\n",
       "                        <td id=\"T_871cf_row4_col1\" class=\"data row4 col1\" >0.103266</td>\n",
       "                        <td id=\"T_871cf_row4_col2\" class=\"data row4 col2\" >0.106472</td>\n",
       "                        <td id=\"T_871cf_row4_col3\" class=\"data row4 col3\" >0.087334</td>\n",
       "                        <td id=\"T_871cf_row4_col4\" class=\"data row4 col4\" >0.093565</td>\n",
       "                        <td id=\"T_871cf_row4_col5\" class=\"data row4 col5\" >0.119004</td>\n",
       "                        <td id=\"T_871cf_row4_col6\" class=\"data row4 col6\" >0.107589</td>\n",
       "                        <td id=\"T_871cf_row4_col7\" class=\"data row4 col7\" >0.097828</td>\n",
       "                        <td id=\"T_871cf_row4_col8\" class=\"data row4 col8\" >0.085555</td>\n",
       "                        <td id=\"T_871cf_row4_col9\" class=\"data row4 col9\" >0.098499</td>\n",
       "                        <td id=\"T_871cf_row4_col10\" class=\"data row4 col10\" >0.092497</td>\n",
       "                        <td id=\"T_871cf_row4_col11\" class=\"data row4 col11\" >0.098034</td>\n",
       "                        <td id=\"T_871cf_row4_col12\" class=\"data row4 col12\" >0.093262</td>\n",
       "                        <td id=\"T_871cf_row4_col13\" class=\"data row4 col13\" >0.089546</td>\n",
       "            </tr>\n",
       "            <tr>\n",
       "                        <th id=\"T_871cf_level0_row5\" class=\"row_heading level0 row5\" >VWAP</th>\n",
       "                        <td id=\"T_871cf_row5_col0\" class=\"data row5 col0\" >0.134107</td>\n",
       "                        <td id=\"T_871cf_row5_col1\" class=\"data row5 col1\" >0.147670</td>\n",
       "                        <td id=\"T_871cf_row5_col2\" class=\"data row5 col2\" >0.132119</td>\n",
       "                        <td id=\"T_871cf_row5_col3\" class=\"data row5 col3\" >0.169692</td>\n",
       "                        <td id=\"T_871cf_row5_col4\" class=\"data row5 col4\" >0.116536</td>\n",
       "                        <td id=\"T_871cf_row5_col5\" class=\"data row5 col5\" >0.134441</td>\n",
       "                        <td id=\"T_871cf_row5_col6\" class=\"data row5 col6\" >0.131444</td>\n",
       "                        <td id=\"T_871cf_row5_col7\" class=\"data row5 col7\" >0.138894</td>\n",
       "                        <td id=\"T_871cf_row5_col8\" class=\"data row5 col8\" >0.146696</td>\n",
       "                        <td id=\"T_871cf_row5_col9\" class=\"data row5 col9\" >0.090811</td>\n",
       "                        <td id=\"T_871cf_row5_col10\" class=\"data row5 col10\" >0.153031</td>\n",
       "                        <td id=\"T_871cf_row5_col11\" class=\"data row5 col11\" >0.135228</td>\n",
       "                        <td id=\"T_871cf_row5_col12\" class=\"data row5 col12\" >0.139178</td>\n",
       "                        <td id=\"T_871cf_row5_col13\" class=\"data row5 col13\" >0.146554</td>\n",
       "            </tr>\n",
       "            <tr>\n",
       "                        <th id=\"T_871cf_level0_row6\" class=\"row_heading level0 row6\" >Volume</th>\n",
       "                        <td id=\"T_871cf_row6_col0\" class=\"data row6 col0\" >0.095224</td>\n",
       "                        <td id=\"T_871cf_row6_col1\" class=\"data row6 col1\" >0.099256</td>\n",
       "                        <td id=\"T_871cf_row6_col2\" class=\"data row6 col2\" >0.098385</td>\n",
       "                        <td id=\"T_871cf_row6_col3\" class=\"data row6 col3\" >0.095345</td>\n",
       "                        <td id=\"T_871cf_row6_col4\" class=\"data row6 col4\" >0.107604</td>\n",
       "                        <td id=\"T_871cf_row6_col5\" class=\"data row6 col5\" >0.100770</td>\n",
       "                        <td id=\"T_871cf_row6_col6\" class=\"data row6 col6\" >0.104901</td>\n",
       "                        <td id=\"T_871cf_row6_col7\" class=\"data row6 col7\" >0.099829</td>\n",
       "                        <td id=\"T_871cf_row6_col8\" class=\"data row6 col8\" >0.093426</td>\n",
       "                        <td id=\"T_871cf_row6_col9\" class=\"data row6 col9\" >0.080859</td>\n",
       "                        <td id=\"T_871cf_row6_col10\" class=\"data row6 col10\" >0.089175</td>\n",
       "                        <td id=\"T_871cf_row6_col11\" class=\"data row6 col11\" >0.103969</td>\n",
       "                        <td id=\"T_871cf_row6_col12\" class=\"data row6 col12\" >0.092677</td>\n",
       "                        <td id=\"T_871cf_row6_col13\" class=\"data row6 col13\" >0.105210</td>\n",
       "            </tr>\n",
       "            <tr>\n",
       "                        <th id=\"T_871cf_level0_row7\" class=\"row_heading level0 row7\" >lower_shador</th>\n",
       "                        <td id=\"T_871cf_row7_col0\" class=\"data row7 col0\" >0.094808</td>\n",
       "                        <td id=\"T_871cf_row7_col1\" class=\"data row7 col1\" >0.098258</td>\n",
       "                        <td id=\"T_871cf_row7_col2\" class=\"data row7 col2\" >0.085026</td>\n",
       "                        <td id=\"T_871cf_row7_col3\" class=\"data row7 col3\" >0.096144</td>\n",
       "                        <td id=\"T_871cf_row7_col4\" class=\"data row7 col4\" >0.095125</td>\n",
       "                        <td id=\"T_871cf_row7_col5\" class=\"data row7 col5\" >0.090735</td>\n",
       "                        <td id=\"T_871cf_row7_col6\" class=\"data row7 col6\" >0.094650</td>\n",
       "                        <td id=\"T_871cf_row7_col7\" class=\"data row7 col7\" >0.089393</td>\n",
       "                        <td id=\"T_871cf_row7_col8\" class=\"data row7 col8\" >0.118015</td>\n",
       "                        <td id=\"T_871cf_row7_col9\" class=\"data row7 col9\" >0.089504</td>\n",
       "                        <td id=\"T_871cf_row7_col10\" class=\"data row7 col10\" >0.106445</td>\n",
       "                        <td id=\"T_871cf_row7_col11\" class=\"data row7 col11\" >0.091273</td>\n",
       "                        <td id=\"T_871cf_row7_col12\" class=\"data row7 col12\" >0.088661</td>\n",
       "                        <td id=\"T_871cf_row7_col13\" class=\"data row7 col13\" >0.097685</td>\n",
       "            </tr>\n",
       "            <tr>\n",
       "                        <th id=\"T_871cf_level0_row8\" class=\"row_heading level0 row8\" >upper_shadow</th>\n",
       "                        <td id=\"T_871cf_row8_col0\" class=\"data row8 col0\" >0.086923</td>\n",
       "                        <td id=\"T_871cf_row8_col1\" class=\"data row8 col1\" >0.086950</td>\n",
       "                        <td id=\"T_871cf_row8_col2\" class=\"data row8 col2\" >0.087210</td>\n",
       "                        <td id=\"T_871cf_row8_col3\" class=\"data row8 col3\" >0.086274</td>\n",
       "                        <td id=\"T_871cf_row8_col4\" class=\"data row8 col4\" >0.096276</td>\n",
       "                        <td id=\"T_871cf_row8_col5\" class=\"data row8 col5\" >0.084977</td>\n",
       "                        <td id=\"T_871cf_row8_col6\" class=\"data row8 col6\" >0.086925</td>\n",
       "                        <td id=\"T_871cf_row8_col7\" class=\"data row8 col7\" >0.091573</td>\n",
       "                        <td id=\"T_871cf_row8_col8\" class=\"data row8 col8\" >0.100529</td>\n",
       "                        <td id=\"T_871cf_row8_col9\" class=\"data row8 col9\" >0.062823</td>\n",
       "                        <td id=\"T_871cf_row8_col10\" class=\"data row8 col10\" >0.096977</td>\n",
       "                        <td id=\"T_871cf_row8_col11\" class=\"data row8 col11\" >0.101654</td>\n",
       "                        <td id=\"T_871cf_row8_col12\" class=\"data row8 col12\" >0.088314</td>\n",
       "                        <td id=\"T_871cf_row8_col13\" class=\"data row8 col13\" >0.090616</td>\n",
       "            </tr>\n",
       "    </tbody></table>"
      ],
      "text/plain": [
       "<pandas.io.formats.style.Styler at 0x7ff48825bf50>"
      ]
     },
     "execution_count": 38,
     "metadata": {},
     "output_type": "execute_result"
    }
   ],
   "source": [
    "fi_crypto_table = fi.pivot('feature', 'crypto', 'importance')\n",
    "fi_crypto_table.style.background_gradient(cmap=\"viridis\", axis=1)\n"
   ]
  }
 ],
 "metadata": {
  "kernelspec": {
   "display_name": "Python 3 (ipykernel)",
   "language": "python",
   "name": "python3"
  },
  "language_info": {
   "codemirror_mode": {
    "name": "ipython",
    "version": 3
   },
   "file_extension": ".py",
   "mimetype": "text/x-python",
   "name": "python",
   "nbconvert_exporter": "python",
   "pygments_lexer": "ipython3",
   "version": "3.7.11"
  },
  "toc": {
   "base_numbering": 1,
   "nav_menu": {},
   "number_sections": true,
   "sideBar": true,
   "skip_h1_title": false,
   "title_cell": "Table of Contents",
   "title_sidebar": "Contents",
   "toc_cell": false,
   "toc_position": {},
   "toc_section_display": true,
   "toc_window_display": false
  }
 },
 "nbformat": 4,
 "nbformat_minor": 5
}
