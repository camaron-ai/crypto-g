{
 "cells": [
  {
   "cell_type": "code",
   "execution_count": 1,
   "id": "33f16f59",
   "metadata": {
    "ExecuteTime": {
     "end_time": "2021-11-12T16:54:42.167806Z",
     "start_time": "2021-11-12T16:54:42.145109Z"
    }
   },
   "outputs": [],
   "source": [
    "%load_ext autoreload\n",
    "%autoreload 2"
   ]
  },
  {
   "cell_type": "code",
   "execution_count": 2,
   "id": "f255bb4e",
   "metadata": {
    "ExecuteTime": {
     "end_time": "2021-11-12T16:54:42.957235Z",
     "start_time": "2021-11-12T16:54:42.173726Z"
    }
   },
   "outputs": [],
   "source": [
    "import pandas as pd\n",
    "import numpy as np\n",
    "from matplotlib import pyplot as plt\n",
    "import seaborn as sns\n",
    "from pathlib import Path\n",
    "import os\n",
    "import sys\n",
    "from IPython.display import display"
   ]
  },
  {
   "cell_type": "code",
   "execution_count": 3,
   "id": "136f5247",
   "metadata": {
    "ExecuteTime": {
     "end_time": "2021-11-12T16:54:42.977451Z",
     "start_time": "2021-11-12T16:54:42.959971Z"
    }
   },
   "outputs": [],
   "source": [
    "def on_kaggle() -> bool:\n",
    "    try:\n",
    "        import gresearch_crypto\n",
    "        return True\n",
    "    except ModuleNotFoundError:\n",
    "        return False"
   ]
  },
  {
   "cell_type": "code",
   "execution_count": 4,
   "id": "432ba6ef",
   "metadata": {
    "ExecuteTime": {
     "end_time": "2021-11-12T16:54:42.995817Z",
     "start_time": "2021-11-12T16:54:42.981027Z"
    }
   },
   "outputs": [],
   "source": [
    "# HYPER PARAMETERS\n",
    "ON_KAGGLE = on_kaggle()\n",
    "SAMPLE_LEVEL = 1\n",
    "USE_SAMPLE = SAMPLE_LEVEL == 1\n",
    "USE_TOY_SAMPLE = SAMPLE_LEVEL == 2\n",
    "\n",
    "FORCE_REWRITE = (ON_KAGGLE and SAMPLE_LEVEL == 0)"
   ]
  },
  {
   "cell_type": "code",
   "execution_count": 5,
   "id": "3ee2a957",
   "metadata": {
    "ExecuteTime": {
     "end_time": "2021-11-12T16:54:43.014917Z",
     "start_time": "2021-11-12T16:54:42.997746Z"
    }
   },
   "outputs": [],
   "source": [
    "if not ON_KAGGLE and os.path.abspath('.').endswith('notebook'):\n",
    "    os.chdir('../')"
   ]
  },
  {
   "cell_type": "code",
   "execution_count": 6,
   "id": "eee46e84",
   "metadata": {
    "ExecuteTime": {
     "end_time": "2021-11-12T16:54:43.034438Z",
     "start_time": "2021-11-12T16:54:43.016862Z"
    }
   },
   "outputs": [],
   "source": [
    "#IMPORT_SCRIPT!\n",
    "# THIS CELL WILL BE REMOVE WITH SCRIPTS IN SRC\n",
    "if './src/' not in sys.path:\n",
    "    sys.path.append('./src/')\n",
    "\n",
    "from preprocessing import *\n",
    "from metrics import *"
   ]
  },
  {
   "cell_type": "code",
   "execution_count": 7,
   "id": "5dcd141e",
   "metadata": {
    "ExecuteTime": {
     "end_time": "2021-11-12T16:54:43.184756Z",
     "start_time": "2021-11-12T16:54:43.169325Z"
    }
   },
   "outputs": [],
   "source": [
    "if ON_KAGGLE:\n",
    "    RAW_DIR = Path('../input/g-research-crypto-forecasting/')\n",
    "    SAMPLE_DIR = Path('../input/create-sample-dataset/data/raw/sample/')\n",
    "    TOY_SAMPLE_DIR = Path('../input/create-sample-dataset/data/raw/toy_sample/')\n",
    "else:\n",
    "    RAW_DIR =  Path('data/raw')\n",
    "    TOY_SAMPLE_DIR = RAW_DIR.joinpath('toy_sample')\n",
    "    SAMPLE_DIR = RAW_DIR.joinpath('sample')\n",
    "\n",
    "# filename\n",
    "TRAIN_FILE = 'train.csv'\n",
    "ASSET_DETAILS_PATH = RAW_DIR / 'asset_details.csv'"
   ]
  },
  {
   "cell_type": "code",
   "execution_count": 8,
   "id": "74f7a9ab",
   "metadata": {
    "ExecuteTime": {
     "end_time": "2021-11-12T16:54:43.367326Z",
     "start_time": "2021-11-12T16:54:43.346263Z"
    }
   },
   "outputs": [
    {
     "name": "stdout",
     "output_type": "stream",
     "text": [
      "USING SAMPLE DATASET\n"
     ]
    }
   ],
   "source": [
    "if USE_TOY_SAMPLE:\n",
    "    print('USING TOY DATASET')\n",
    "    RAW_TRAIN_PATH = TOY_SAMPLE_DIR / TRAIN_FILE\n",
    "\n",
    "elif USE_SAMPLE:\n",
    "    print('USING SAMPLE DATASET')\n",
    "    RAW_TRAIN_PATH = SAMPLE_DIR / TRAIN_FILE\n",
    "\n",
    "else:\n",
    "    print('USING RAW DATASET')\n",
    "    RAW_TRAIN_PATH = RAW_DIR / TRAIN_FILE\n",
    "\n",
    "assert RAW_TRAIN_PATH.exists()"
   ]
  },
  {
   "cell_type": "code",
   "execution_count": 9,
   "id": "28ef35af",
   "metadata": {
    "ExecuteTime": {
     "end_time": "2021-11-12T16:54:43.792005Z",
     "start_time": "2021-11-12T16:54:43.661328Z"
    }
   },
   "outputs": [
    {
     "name": "stdout",
     "output_type": "stream",
     "text": [
      "asset_details.csv\t\t   sample\r\n",
      "example_sample_submission.csv\t   supplemental_train.csv\r\n",
      "example_test.csv\t\t   toy_sample\r\n",
      "g-research-crypto-forecasting.zip  train.csv\r\n",
      "gresearch_crypto\r\n"
     ]
    }
   ],
   "source": [
    "!ls {RAW_DIR}"
   ]
  },
  {
   "cell_type": "code",
   "execution_count": 10,
   "id": "4b479f0e",
   "metadata": {
    "ExecuteTime": {
     "end_time": "2021-11-12T16:54:48.361705Z",
     "start_time": "2021-11-12T16:54:43.967903Z"
    },
    "scrolled": true
   },
   "outputs": [
    {
     "name": "stdout",
     "output_type": "stream",
     "text": [
      "CPU times: user 3.92 s, sys: 457 ms, total: 4.38 s\n",
      "Wall time: 4.38 s\n"
     ]
    }
   ],
   "source": [
    "%%time \n",
    "raw_df = pd.read_csv(RAW_TRAIN_PATH)"
   ]
  },
  {
   "cell_type": "code",
   "execution_count": 11,
   "id": "5be54336",
   "metadata": {
    "ExecuteTime": {
     "end_time": "2021-11-12T16:54:50.092618Z",
     "start_time": "2021-11-12T16:54:48.363633Z"
    }
   },
   "outputs": [],
   "source": [
    "raw_df = ingest_data(raw_df, asset_details_path=ASSET_DETAILS_PATH)"
   ]
  },
  {
   "cell_type": "code",
   "execution_count": 12,
   "id": "d1722287",
   "metadata": {
    "ExecuteTime": {
     "end_time": "2021-11-12T16:54:52.043287Z",
     "start_time": "2021-11-12T16:54:50.094189Z"
    }
   },
   "outputs": [],
   "source": [
    "raw_df.sort_values(by=['Asset_ID', 'date'], inplace=True)\n",
    "raw_df.reset_index(drop=True, inplace=True)"
   ]
  },
  {
   "cell_type": "code",
   "execution_count": 13,
   "id": "3f9f8d35",
   "metadata": {
    "ExecuteTime": {
     "end_time": "2021-11-12T16:54:52.075640Z",
     "start_time": "2021-11-12T16:54:52.046632Z"
    },
    "scrolled": true
   },
   "outputs": [
    {
     "data": {
      "text/html": [
       "<div>\n",
       "<style scoped>\n",
       "    .dataframe tbody tr th:only-of-type {\n",
       "        vertical-align: middle;\n",
       "    }\n",
       "\n",
       "    .dataframe tbody tr th {\n",
       "        vertical-align: top;\n",
       "    }\n",
       "\n",
       "    .dataframe thead th {\n",
       "        text-align: right;\n",
       "    }\n",
       "</style>\n",
       "<table border=\"1\" class=\"dataframe\">\n",
       "  <thead>\n",
       "    <tr style=\"text-align: right;\">\n",
       "      <th></th>\n",
       "      <th>timestamp</th>\n",
       "      <th>Asset_ID</th>\n",
       "      <th>Count</th>\n",
       "      <th>Open</th>\n",
       "      <th>High</th>\n",
       "      <th>Low</th>\n",
       "      <th>Close</th>\n",
       "      <th>Volume</th>\n",
       "      <th>VWAP</th>\n",
       "      <th>Target</th>\n",
       "      <th>Asset_Name</th>\n",
       "      <th>date</th>\n",
       "    </tr>\n",
       "  </thead>\n",
       "  <tbody>\n",
       "    <tr>\n",
       "      <th>0</th>\n",
       "      <td>1609459260</td>\n",
       "      <td>0</td>\n",
       "      <td>219.0</td>\n",
       "      <td>37.384998</td>\n",
       "      <td>37.422100</td>\n",
       "      <td>37.348701</td>\n",
       "      <td>37.389000</td>\n",
       "      <td>2749.5692</td>\n",
       "      <td>37.387058</td>\n",
       "      <td>-0.001669</td>\n",
       "      <td>Binance Coin</td>\n",
       "      <td>2021-01-01 00:01:00</td>\n",
       "    </tr>\n",
       "    <tr>\n",
       "      <th>1</th>\n",
       "      <td>1609459320</td>\n",
       "      <td>0</td>\n",
       "      <td>133.0</td>\n",
       "      <td>37.390499</td>\n",
       "      <td>37.402000</td>\n",
       "      <td>37.329800</td>\n",
       "      <td>37.331299</td>\n",
       "      <td>778.8680</td>\n",
       "      <td>37.351677</td>\n",
       "      <td>-0.001542</td>\n",
       "      <td>Binance Coin</td>\n",
       "      <td>2021-01-01 00:02:00</td>\n",
       "    </tr>\n",
       "    <tr>\n",
       "      <th>2</th>\n",
       "      <td>1609459380</td>\n",
       "      <td>0</td>\n",
       "      <td>151.0</td>\n",
       "      <td>37.317051</td>\n",
       "      <td>37.336700</td>\n",
       "      <td>37.272900</td>\n",
       "      <td>37.291500</td>\n",
       "      <td>890.9210</td>\n",
       "      <td>37.301258</td>\n",
       "      <td>-0.001028</td>\n",
       "      <td>Binance Coin</td>\n",
       "      <td>2021-01-01 00:03:00</td>\n",
       "    </tr>\n",
       "    <tr>\n",
       "      <th>3</th>\n",
       "      <td>1609459440</td>\n",
       "      <td>0</td>\n",
       "      <td>123.0</td>\n",
       "      <td>37.299149</td>\n",
       "      <td>37.323002</td>\n",
       "      <td>37.250198</td>\n",
       "      <td>37.291901</td>\n",
       "      <td>489.9361</td>\n",
       "      <td>37.297272</td>\n",
       "      <td>0.000174</td>\n",
       "      <td>Binance Coin</td>\n",
       "      <td>2021-01-01 00:04:00</td>\n",
       "    </tr>\n",
       "    <tr>\n",
       "      <th>4</th>\n",
       "      <td>1609459500</td>\n",
       "      <td>0</td>\n",
       "      <td>623.0</td>\n",
       "      <td>37.212799</td>\n",
       "      <td>37.285000</td>\n",
       "      <td>37.104801</td>\n",
       "      <td>37.213001</td>\n",
       "      <td>15144.3836</td>\n",
       "      <td>37.184082</td>\n",
       "      <td>0.000950</td>\n",
       "      <td>Binance Coin</td>\n",
       "      <td>2021-01-01 00:05:00</td>\n",
       "    </tr>\n",
       "  </tbody>\n",
       "</table>\n",
       "</div>"
      ],
      "text/plain": [
       "    timestamp  Asset_ID  Count       Open       High        Low      Close  \\\n",
       "0  1609459260         0  219.0  37.384998  37.422100  37.348701  37.389000   \n",
       "1  1609459320         0  133.0  37.390499  37.402000  37.329800  37.331299   \n",
       "2  1609459380         0  151.0  37.317051  37.336700  37.272900  37.291500   \n",
       "3  1609459440         0  123.0  37.299149  37.323002  37.250198  37.291901   \n",
       "4  1609459500         0  623.0  37.212799  37.285000  37.104801  37.213001   \n",
       "\n",
       "       Volume       VWAP    Target    Asset_Name                date  \n",
       "0   2749.5692  37.387058 -0.001669  Binance Coin 2021-01-01 00:01:00  \n",
       "1    778.8680  37.351677 -0.001542  Binance Coin 2021-01-01 00:02:00  \n",
       "2    890.9210  37.301258 -0.001028  Binance Coin 2021-01-01 00:03:00  \n",
       "3    489.9361  37.297272  0.000174  Binance Coin 2021-01-01 00:04:00  \n",
       "4  15144.3836  37.184082  0.000950  Binance Coin 2021-01-01 00:05:00  "
      ]
     },
     "execution_count": 13,
     "metadata": {},
     "output_type": "execute_result"
    }
   ],
   "source": [
    "raw_df.head()"
   ]
  },
  {
   "cell_type": "code",
   "execution_count": 14,
   "id": "4f7747d4",
   "metadata": {
    "ExecuteTime": {
     "end_time": "2021-11-12T16:54:52.093842Z",
     "start_time": "2021-11-12T16:54:52.078560Z"
    }
   },
   "outputs": [],
   "source": [
    "TARGET = 'Target'\n",
    "INDEX_COLS = ['Asset_ID', 'Asset_Name', 'date', 'timestamp']"
   ]
  },
  {
   "cell_type": "markdown",
   "id": "d846f8a8",
   "metadata": {},
   "source": [
    "### recreating target "
   ]
  },
  {
   "cell_type": "code",
   "execution_count": 286,
   "id": "84a7effc",
   "metadata": {
    "ExecuteTime": {
     "end_time": "2021-11-12T16:51:51.655351Z",
     "start_time": "2021-11-12T16:51:51.633942Z"
    }
   },
   "outputs": [],
   "source": [
    "def ResidualizeMarket(df, mktColumn, window):\n",
    "    if mktColumn not in df.columns:\n",
    "        return df\n",
    "\n",
    "    mkt = df[mktColumn]\n",
    "\n",
    "    num = df.multiply(mkt.values, axis=0).rolling(window).mean().values  #numerator of linear regression coefficient\n",
    "    denom = mkt.multiply(mkt.values, axis=0).rolling(window).mean().values  #denominator of linear regression coefficient\n",
    "    beta = np.nan_to_num( num.T / denom, nan=0., posinf=0., neginf=0.)  #if regression fell over, use beta of 0\n",
    "    resultRet = df - (beta * mkt.values).T  #perform residualization\n",
    "    resultBeta = 0.*df + beta.T  #shape beta\n",
    "\n",
    "    return resultRet.drop(columns=[mktColumn]), resultBeta.drop(columns=[mktColumn])"
   ]
  },
  {
   "cell_type": "code",
   "execution_count": 287,
   "id": "75a3388c",
   "metadata": {
    "ExecuteTime": {
     "end_time": "2021-11-12T16:51:51.855251Z",
     "start_time": "2021-11-12T16:51:51.840963Z"
    }
   },
   "outputs": [],
   "source": [
    "from metrics import ASSET_WEIGHT, TOTAL_WEIGHT_SUM"
   ]
  },
  {
   "cell_type": "code",
   "execution_count": 288,
   "id": "0034b8b3",
   "metadata": {
    "ExecuteTime": {
     "end_time": "2021-11-12T16:51:53.684072Z",
     "start_time": "2021-11-12T16:51:52.011634Z"
    }
   },
   "outputs": [],
   "source": [
    "df_time = pd.pivot(raw_df, 'timestamp', 'Asset_Name', 'Close')\n",
    "df_time = df_time#.shift(-1).iloc[:-1]"
   ]
  },
  {
   "cell_type": "code",
   "execution_count": 289,
   "id": "2dfa3d98",
   "metadata": {
    "ExecuteTime": {
     "end_time": "2021-11-12T16:51:53.710683Z",
     "start_time": "2021-11-12T16:51:53.686546Z"
    }
   },
   "outputs": [],
   "source": [
    "df_time = np.log(df_time)"
   ]
  },
  {
   "cell_type": "code",
   "execution_count": 290,
   "id": "f3abc91a",
   "metadata": {
    "ExecuteTime": {
     "end_time": "2021-11-12T16:51:53.733688Z",
     "start_time": "2021-11-12T16:51:53.713364Z"
    }
   },
   "outputs": [],
   "source": [
    "s = 16\n",
    "df_time = df_time.diff(s).iloc[s:]"
   ]
  },
  {
   "cell_type": "code",
   "execution_count": 291,
   "id": "f04ff969",
   "metadata": {
    "ExecuteTime": {
     "end_time": "2021-11-12T16:51:53.769324Z",
     "start_time": "2021-11-12T16:51:53.736000Z"
    }
   },
   "outputs": [],
   "source": [
    "mkt = (df_time * pd.Series(ASSET_WEIGHT)).to_numpy()\n",
    "mkt = np.sum(mkt, axis=1) / TOTAL_WEIGHT_SUM"
   ]
  },
  {
   "cell_type": "code",
   "execution_count": 292,
   "id": "85a01d25",
   "metadata": {
    "ExecuteTime": {
     "end_time": "2021-11-12T16:51:53.791380Z",
     "start_time": "2021-11-12T16:51:53.771045Z"
    }
   },
   "outputs": [],
   "source": [
    "df_time['mkt'] = mkt"
   ]
  },
  {
   "cell_type": "code",
   "execution_count": 293,
   "id": "ea858e99",
   "metadata": {
    "ExecuteTime": {
     "end_time": "2021-11-12T16:51:58.164892Z",
     "start_time": "2021-11-12T16:51:57.885604Z"
    }
   },
   "outputs": [],
   "source": [
    "actual_target_table, beta = ResidualizeMarket(df_time, mktColumn='mkt', window=3750)"
   ]
  },
  {
   "cell_type": "code",
   "execution_count": 294,
   "id": "ff1bf812",
   "metadata": {
    "ExecuteTime": {
     "end_time": "2021-11-12T16:51:58.551825Z",
     "start_time": "2021-11-12T16:51:58.326469Z"
    }
   },
   "outputs": [],
   "source": [
    "actual_target = pd.melt(actual_target_table.reset_index(), id_vars='timestamp', value_name='Target')"
   ]
  },
  {
   "cell_type": "code",
   "execution_count": 295,
   "id": "f24e2692",
   "metadata": {
    "ExecuteTime": {
     "end_time": "2021-11-12T16:51:59.056530Z",
     "start_time": "2021-11-12T16:51:59.033794Z"
    }
   },
   "outputs": [
    {
     "data": {
      "text/html": [
       "<div>\n",
       "<style scoped>\n",
       "    .dataframe tbody tr th:only-of-type {\n",
       "        vertical-align: middle;\n",
       "    }\n",
       "\n",
       "    .dataframe tbody tr th {\n",
       "        vertical-align: top;\n",
       "    }\n",
       "\n",
       "    .dataframe thead th {\n",
       "        text-align: right;\n",
       "    }\n",
       "</style>\n",
       "<table border=\"1\" class=\"dataframe\">\n",
       "  <thead>\n",
       "    <tr style=\"text-align: right;\">\n",
       "      <th></th>\n",
       "      <th>timestamp</th>\n",
       "      <th>Asset_Name</th>\n",
       "      <th>Target</th>\n",
       "    </tr>\n",
       "  </thead>\n",
       "  <tbody>\n",
       "    <tr>\n",
       "      <th>0</th>\n",
       "      <td>1609460220</td>\n",
       "      <td>Binance Coin</td>\n",
       "      <td>-0.008008</td>\n",
       "    </tr>\n",
       "    <tr>\n",
       "      <th>1</th>\n",
       "      <td>1609460280</td>\n",
       "      <td>Binance Coin</td>\n",
       "      <td>-0.006671</td>\n",
       "    </tr>\n",
       "    <tr>\n",
       "      <th>2</th>\n",
       "      <td>1609460340</td>\n",
       "      <td>Binance Coin</td>\n",
       "      <td>-0.004580</td>\n",
       "    </tr>\n",
       "    <tr>\n",
       "      <th>3</th>\n",
       "      <td>1609460400</td>\n",
       "      <td>Binance Coin</td>\n",
       "      <td>-0.005990</td>\n",
       "    </tr>\n",
       "    <tr>\n",
       "      <th>4</th>\n",
       "      <td>1609460460</td>\n",
       "      <td>Binance Coin</td>\n",
       "      <td>-0.004437</td>\n",
       "    </tr>\n",
       "    <tr>\n",
       "      <th>...</th>\n",
       "      <td>...</td>\n",
       "      <td>...</td>\n",
       "      <td>...</td>\n",
       "    </tr>\n",
       "    <tr>\n",
       "      <th>5301739</th>\n",
       "      <td>1632182160</td>\n",
       "      <td>TRON</td>\n",
       "      <td>0.003076</td>\n",
       "    </tr>\n",
       "    <tr>\n",
       "      <th>5301740</th>\n",
       "      <td>1632182220</td>\n",
       "      <td>TRON</td>\n",
       "      <td>-0.003740</td>\n",
       "    </tr>\n",
       "    <tr>\n",
       "      <th>5301741</th>\n",
       "      <td>1632182280</td>\n",
       "      <td>TRON</td>\n",
       "      <td>-0.003524</td>\n",
       "    </tr>\n",
       "    <tr>\n",
       "      <th>5301742</th>\n",
       "      <td>1632182340</td>\n",
       "      <td>TRON</td>\n",
       "      <td>0.002682</td>\n",
       "    </tr>\n",
       "    <tr>\n",
       "      <th>5301743</th>\n",
       "      <td>1632182400</td>\n",
       "      <td>TRON</td>\n",
       "      <td>0.005085</td>\n",
       "    </tr>\n",
       "  </tbody>\n",
       "</table>\n",
       "<p>5301744 rows × 3 columns</p>\n",
       "</div>"
      ],
      "text/plain": [
       "          timestamp    Asset_Name    Target\n",
       "0        1609460220  Binance Coin -0.008008\n",
       "1        1609460280  Binance Coin -0.006671\n",
       "2        1609460340  Binance Coin -0.004580\n",
       "3        1609460400  Binance Coin -0.005990\n",
       "4        1609460460  Binance Coin -0.004437\n",
       "...             ...           ...       ...\n",
       "5301739  1632182160          TRON  0.003076\n",
       "5301740  1632182220          TRON -0.003740\n",
       "5301741  1632182280          TRON -0.003524\n",
       "5301742  1632182340          TRON  0.002682\n",
       "5301743  1632182400          TRON  0.005085\n",
       "\n",
       "[5301744 rows x 3 columns]"
      ]
     },
     "execution_count": 295,
     "metadata": {},
     "output_type": "execute_result"
    }
   ],
   "source": [
    "actual_target"
   ]
  },
  {
   "cell_type": "code",
   "execution_count": 296,
   "id": "88b3ce28",
   "metadata": {
    "ExecuteTime": {
     "end_time": "2021-11-12T16:52:02.820141Z",
     "start_time": "2021-11-12T16:52:00.874756Z"
    }
   },
   "outputs": [],
   "source": [
    "actual_target = actual_target.merge(raw_df[['timestamp', 'Asset_Name', 'Target']], on=['timestamp', 'Asset_Name'], how='left',\n",
    "                    suffixes=('_actual', '_expected'))"
   ]
  },
  {
   "cell_type": "code",
   "execution_count": 297,
   "id": "c953383c",
   "metadata": {
    "ExecuteTime": {
     "end_time": "2021-11-12T16:52:03.102974Z",
     "start_time": "2021-11-12T16:52:02.822510Z"
    }
   },
   "outputs": [],
   "source": [
    "actual_target = actual_target.dropna(subset=['Target_expected'])"
   ]
  },
  {
   "cell_type": "code",
   "execution_count": 298,
   "id": "6f3c0ee5",
   "metadata": {
    "ExecuteTime": {
     "end_time": "2021-11-12T16:52:03.128933Z",
     "start_time": "2021-11-12T16:52:03.104988Z"
    }
   },
   "outputs": [
    {
     "data": {
      "text/html": [
       "<div>\n",
       "<style scoped>\n",
       "    .dataframe tbody tr th:only-of-type {\n",
       "        vertical-align: middle;\n",
       "    }\n",
       "\n",
       "    .dataframe tbody tr th {\n",
       "        vertical-align: top;\n",
       "    }\n",
       "\n",
       "    .dataframe thead th {\n",
       "        text-align: right;\n",
       "    }\n",
       "</style>\n",
       "<table border=\"1\" class=\"dataframe\">\n",
       "  <thead>\n",
       "    <tr style=\"text-align: right;\">\n",
       "      <th></th>\n",
       "      <th>timestamp</th>\n",
       "      <th>Asset_Name</th>\n",
       "      <th>Target_actual</th>\n",
       "      <th>Target_expected</th>\n",
       "    </tr>\n",
       "  </thead>\n",
       "  <tbody>\n",
       "    <tr>\n",
       "      <th>5301723</th>\n",
       "      <td>1632181200</td>\n",
       "      <td>TRON</td>\n",
       "      <td>-0.008113</td>\n",
       "      <td>0.000199</td>\n",
       "    </tr>\n",
       "    <tr>\n",
       "      <th>5301724</th>\n",
       "      <td>1632181260</td>\n",
       "      <td>TRON</td>\n",
       "      <td>-0.004042</td>\n",
       "      <td>-0.003477</td>\n",
       "    </tr>\n",
       "    <tr>\n",
       "      <th>5301725</th>\n",
       "      <td>1632181320</td>\n",
       "      <td>TRON</td>\n",
       "      <td>-0.003640</td>\n",
       "      <td>-0.002437</td>\n",
       "    </tr>\n",
       "    <tr>\n",
       "      <th>5301726</th>\n",
       "      <td>1632181380</td>\n",
       "      <td>TRON</td>\n",
       "      <td>-0.004887</td>\n",
       "      <td>0.004843</td>\n",
       "    </tr>\n",
       "    <tr>\n",
       "      <th>5301727</th>\n",
       "      <td>1632181440</td>\n",
       "      <td>TRON</td>\n",
       "      <td>-0.004580</td>\n",
       "      <td>0.004163</td>\n",
       "    </tr>\n",
       "  </tbody>\n",
       "</table>\n",
       "</div>"
      ],
      "text/plain": [
       "          timestamp Asset_Name  Target_actual  Target_expected\n",
       "5301723  1632181200       TRON      -0.008113         0.000199\n",
       "5301724  1632181260       TRON      -0.004042        -0.003477\n",
       "5301725  1632181320       TRON      -0.003640        -0.002437\n",
       "5301726  1632181380       TRON      -0.004887         0.004843\n",
       "5301727  1632181440       TRON      -0.004580         0.004163"
      ]
     },
     "execution_count": 298,
     "metadata": {},
     "output_type": "execute_result"
    }
   ],
   "source": [
    "actual_target.tail()"
   ]
  },
  {
   "cell_type": "code",
   "execution_count": 299,
   "id": "705fd1d0",
   "metadata": {
    "ExecuteTime": {
     "end_time": "2021-11-12T16:52:06.754837Z",
     "start_time": "2021-11-12T16:52:06.605491Z"
    }
   },
   "outputs": [
    {
     "data": {
      "text/html": [
       "<div>\n",
       "<style scoped>\n",
       "    .dataframe tbody tr th:only-of-type {\n",
       "        vertical-align: middle;\n",
       "    }\n",
       "\n",
       "    .dataframe tbody tr th {\n",
       "        vertical-align: top;\n",
       "    }\n",
       "\n",
       "    .dataframe thead th {\n",
       "        text-align: right;\n",
       "    }\n",
       "</style>\n",
       "<table border=\"1\" class=\"dataframe\">\n",
       "  <thead>\n",
       "    <tr style=\"text-align: right;\">\n",
       "      <th></th>\n",
       "      <th>Target_actual</th>\n",
       "      <th>Target_expected</th>\n",
       "    </tr>\n",
       "  </thead>\n",
       "  <tbody>\n",
       "    <tr>\n",
       "      <th>Target_actual</th>\n",
       "      <td>1.000000</td>\n",
       "      <td>-0.019083</td>\n",
       "    </tr>\n",
       "    <tr>\n",
       "      <th>Target_expected</th>\n",
       "      <td>-0.019083</td>\n",
       "      <td>1.000000</td>\n",
       "    </tr>\n",
       "  </tbody>\n",
       "</table>\n",
       "</div>"
      ],
      "text/plain": [
       "                 Target_actual  Target_expected\n",
       "Target_actual         1.000000        -0.019083\n",
       "Target_expected      -0.019083         1.000000"
      ]
     },
     "execution_count": 299,
     "metadata": {},
     "output_type": "execute_result"
    }
   ],
   "source": [
    "actual_target[['Target_actual', 'Target_expected']].corr()"
   ]
  },
  {
   "cell_type": "code",
   "execution_count": null,
   "id": "8dd8394b",
   "metadata": {},
   "outputs": [],
   "source": []
  }
 ],
 "metadata": {
  "kernelspec": {
   "display_name": "Python 3 (ipykernel)",
   "language": "python",
   "name": "python3"
  },
  "language_info": {
   "codemirror_mode": {
    "name": "ipython",
    "version": 3
   },
   "file_extension": ".py",
   "mimetype": "text/x-python",
   "name": "python",
   "nbconvert_exporter": "python",
   "pygments_lexer": "ipython3",
   "version": "3.7.11"
  },
  "toc": {
   "base_numbering": 1,
   "nav_menu": {},
   "number_sections": true,
   "sideBar": true,
   "skip_h1_title": false,
   "title_cell": "Table of Contents",
   "title_sidebar": "Contents",
   "toc_cell": false,
   "toc_position": {},
   "toc_section_display": true,
   "toc_window_display": false
  }
 },
 "nbformat": 4,
 "nbformat_minor": 5
}
