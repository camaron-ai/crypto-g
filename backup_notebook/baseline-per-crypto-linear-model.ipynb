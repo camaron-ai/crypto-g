{
 "cells": [
  {
   "cell_type": "code",
   "execution_count": 1,
   "id": "33f16f59",
   "metadata": {
    "ExecuteTime": {
     "end_time": "2021-11-12T15:47:38.078614Z",
     "start_time": "2021-11-12T15:47:38.060460Z"
    }
   },
   "outputs": [],
   "source": [
    "%load_ext autoreload\n",
    "%autoreload 2"
   ]
  },
  {
   "cell_type": "code",
   "execution_count": 2,
   "id": "f255bb4e",
   "metadata": {
    "ExecuteTime": {
     "end_time": "2021-11-12T15:47:38.852053Z",
     "start_time": "2021-11-12T15:47:38.082409Z"
    }
   },
   "outputs": [],
   "source": [
    "import pandas as pd\n",
    "import numpy as np\n",
    "from matplotlib import pyplot as plt\n",
    "import seaborn as sns\n",
    "from pathlib import Path\n",
    "import os\n",
    "import sys\n",
    "from IPython.display import display"
   ]
  },
  {
   "cell_type": "code",
   "execution_count": 3,
   "id": "136f5247",
   "metadata": {
    "ExecuteTime": {
     "end_time": "2021-11-12T15:47:38.870378Z",
     "start_time": "2021-11-12T15:47:38.854636Z"
    }
   },
   "outputs": [],
   "source": [
    "def on_kaggle() -> bool:\n",
    "    try:\n",
    "        import gresearch_crypto\n",
    "        return True\n",
    "    except ModuleNotFoundError:\n",
    "        return False"
   ]
  },
  {
   "cell_type": "code",
   "execution_count": 4,
   "id": "432ba6ef",
   "metadata": {
    "ExecuteTime": {
     "end_time": "2021-11-12T15:47:38.889204Z",
     "start_time": "2021-11-12T15:47:38.873472Z"
    }
   },
   "outputs": [],
   "source": [
    "# HYPER PARAMETERS\n",
    "ON_KAGGLE = on_kaggle()\n",
    "SAMPLE_LEVEL = 2\n",
    "USE_SAMPLE = SAMPLE_LEVEL == 1\n",
    "USE_TOY_SAMPLE = SAMPLE_LEVEL == 2\n",
    "\n",
    "FORCE_REWRITE = (ON_KAGGLE and SAMPLE_LEVEL == 0)"
   ]
  },
  {
   "cell_type": "code",
   "execution_count": 5,
   "id": "3ee2a957",
   "metadata": {
    "ExecuteTime": {
     "end_time": "2021-11-12T15:47:38.910340Z",
     "start_time": "2021-11-12T15:47:38.891241Z"
    }
   },
   "outputs": [],
   "source": [
    "if not ON_KAGGLE and os.path.abspath('.').endswith('notebook'):\n",
    "    os.chdir('../')"
   ]
  },
  {
   "cell_type": "code",
   "execution_count": 6,
   "id": "eee46e84",
   "metadata": {
    "ExecuteTime": {
     "end_time": "2021-11-12T15:47:38.929067Z",
     "start_time": "2021-11-12T15:47:38.912219Z"
    }
   },
   "outputs": [],
   "source": [
    "#IMPORT_SCRIPT!\n",
    "# THIS CELL WILL BE REMOVE WITH SCRIPTS IN SRC\n",
    "if './src/' not in sys.path:\n",
    "    sys.path.append('./src/')\n",
    "\n",
    "from preprocessing import *\n",
    "from metrics import *"
   ]
  },
  {
   "cell_type": "code",
   "execution_count": 7,
   "id": "5dcd141e",
   "metadata": {
    "ExecuteTime": {
     "end_time": "2021-11-12T15:47:38.949449Z",
     "start_time": "2021-11-12T15:47:38.931189Z"
    }
   },
   "outputs": [],
   "source": [
    "if ON_KAGGLE:\n",
    "    RAW_DIR = Path('../input/g-research-crypto-forecasting/')\n",
    "    SAMPLE_DIR = Path('../input/create-sample-dataset/data/raw/sample/')\n",
    "    TOY_SAMPLE_DIR = Path('../input/create-sample-dataset/data/raw/toy_sample/')\n",
    "else:\n",
    "    RAW_DIR =  Path('data/raw')\n",
    "    TOY_SAMPLE_DIR = RAW_DIR.joinpath('toy_sample')\n",
    "    SAMPLE_DIR = RAW_DIR.joinpath('sample')\n",
    "\n",
    "# filename\n",
    "TRAIN_FILE = 'train.csv'\n",
    "ASSET_DETAILS_PATH = RAW_DIR / 'asset_details.csv'"
   ]
  },
  {
   "cell_type": "code",
   "execution_count": 8,
   "id": "74f7a9ab",
   "metadata": {
    "ExecuteTime": {
     "end_time": "2021-11-12T15:47:38.969120Z",
     "start_time": "2021-11-12T15:47:38.953275Z"
    }
   },
   "outputs": [
    {
     "name": "stdout",
     "output_type": "stream",
     "text": [
      "USING RAW DATASET\n"
     ]
    }
   ],
   "source": [
    "if USE_TOY_SAMPLE:\n",
    "    print('USING TOY DATASET')\n",
    "    RAW_TRAIN_PATH = TOY_SAMPLE_DIR / TRAIN_FILE\n",
    "\n",
    "elif USE_SAMPLE:\n",
    "    print('USING SAMPLE DATASET')\n",
    "    RAW_TRAIN_PATH = SAMPLE_DIR / TRAIN_FILE\n",
    "\n",
    "else:\n",
    "    print('USING RAW DATASET')\n",
    "    RAW_TRAIN_PATH = RAW_DIR / TRAIN_FILE\n",
    "\n",
    "assert RAW_TRAIN_PATH.exists()"
   ]
  },
  {
   "cell_type": "code",
   "execution_count": 9,
   "id": "28ef35af",
   "metadata": {
    "ExecuteTime": {
     "end_time": "2021-11-12T15:47:39.101129Z",
     "start_time": "2021-11-12T15:47:38.971081Z"
    }
   },
   "outputs": [
    {
     "name": "stdout",
     "output_type": "stream",
     "text": [
      "asset_details.csv\t\t   sample\r\n",
      "example_sample_submission.csv\t   supplemental_train.csv\r\n",
      "example_test.csv\t\t   toy_sample\r\n",
      "g-research-crypto-forecasting.zip  train.csv\r\n",
      "gresearch_crypto\r\n"
     ]
    }
   ],
   "source": [
    "!ls {RAW_DIR}"
   ]
  },
  {
   "cell_type": "code",
   "execution_count": 10,
   "id": "4b479f0e",
   "metadata": {
    "ExecuteTime": {
     "end_time": "2021-11-12T15:48:13.582366Z",
     "start_time": "2021-11-12T15:47:39.108162Z"
    },
    "scrolled": true
   },
   "outputs": [
    {
     "name": "stdout",
     "output_type": "stream",
     "text": [
      "CPU times: user 27.3 s, sys: 4.12 s, total: 31.4 s\n",
      "Wall time: 34.5 s\n"
     ]
    }
   ],
   "source": [
    "%%time \n",
    "raw_df = pd.read_csv(RAW_TRAIN_PATH)"
   ]
  },
  {
   "cell_type": "code",
   "execution_count": 11,
   "id": "5be54336",
   "metadata": {
    "ExecuteTime": {
     "end_time": "2021-11-12T15:48:26.178903Z",
     "start_time": "2021-11-12T15:48:13.584987Z"
    }
   },
   "outputs": [],
   "source": [
    "raw_df = ingest_data(raw_df, asset_details_path=ASSET_DETAILS_PATH)"
   ]
  },
  {
   "cell_type": "code",
   "execution_count": 12,
   "id": "d1722287",
   "metadata": {
    "ExecuteTime": {
     "end_time": "2021-11-12T15:48:35.790741Z",
     "start_time": "2021-11-12T15:48:26.187563Z"
    }
   },
   "outputs": [],
   "source": [
    "raw_df.sort_values(by=['Asset_ID', 'date'], inplace=True)\n",
    "raw_df.reset_index(drop=True, inplace=True)"
   ]
  },
  {
   "cell_type": "code",
   "execution_count": 13,
   "id": "3f9f8d35",
   "metadata": {
    "ExecuteTime": {
     "end_time": "2021-11-12T15:48:35.836587Z",
     "start_time": "2021-11-12T15:48:35.793064Z"
    },
    "scrolled": true
   },
   "outputs": [
    {
     "data": {
      "text/html": [
       "<div>\n",
       "<style scoped>\n",
       "    .dataframe tbody tr th:only-of-type {\n",
       "        vertical-align: middle;\n",
       "    }\n",
       "\n",
       "    .dataframe tbody tr th {\n",
       "        vertical-align: top;\n",
       "    }\n",
       "\n",
       "    .dataframe thead th {\n",
       "        text-align: right;\n",
       "    }\n",
       "</style>\n",
       "<table border=\"1\" class=\"dataframe\">\n",
       "  <thead>\n",
       "    <tr style=\"text-align: right;\">\n",
       "      <th></th>\n",
       "      <th>timestamp</th>\n",
       "      <th>Asset_ID</th>\n",
       "      <th>Count</th>\n",
       "      <th>Open</th>\n",
       "      <th>High</th>\n",
       "      <th>Low</th>\n",
       "      <th>Close</th>\n",
       "      <th>Volume</th>\n",
       "      <th>VWAP</th>\n",
       "      <th>Target</th>\n",
       "      <th>Asset_Name</th>\n",
       "      <th>date</th>\n",
       "    </tr>\n",
       "  </thead>\n",
       "  <tbody>\n",
       "    <tr>\n",
       "      <th>0</th>\n",
       "      <td>1514764860</td>\n",
       "      <td>0</td>\n",
       "      <td>5.0</td>\n",
       "      <td>8.5300</td>\n",
       "      <td>8.5300</td>\n",
       "      <td>8.5300</td>\n",
       "      <td>8.5300</td>\n",
       "      <td>78.38</td>\n",
       "      <td>8.530000</td>\n",
       "      <td>-0.014399</td>\n",
       "      <td>Binance Coin</td>\n",
       "      <td>2018-01-01 00:01:00</td>\n",
       "    </tr>\n",
       "    <tr>\n",
       "      <th>1</th>\n",
       "      <td>1514764920</td>\n",
       "      <td>0</td>\n",
       "      <td>7.0</td>\n",
       "      <td>8.5300</td>\n",
       "      <td>8.5300</td>\n",
       "      <td>8.5145</td>\n",
       "      <td>8.5145</td>\n",
       "      <td>71.39</td>\n",
       "      <td>8.520215</td>\n",
       "      <td>-0.015875</td>\n",
       "      <td>Binance Coin</td>\n",
       "      <td>2018-01-01 00:02:00</td>\n",
       "    </tr>\n",
       "    <tr>\n",
       "      <th>2</th>\n",
       "      <td>1514764980</td>\n",
       "      <td>0</td>\n",
       "      <td>45.0</td>\n",
       "      <td>8.5065</td>\n",
       "      <td>8.5299</td>\n",
       "      <td>8.4848</td>\n",
       "      <td>8.4848</td>\n",
       "      <td>1546.82</td>\n",
       "      <td>8.501393</td>\n",
       "      <td>-0.015410</td>\n",
       "      <td>Binance Coin</td>\n",
       "      <td>2018-01-01 00:03:00</td>\n",
       "    </tr>\n",
       "    <tr>\n",
       "      <th>3</th>\n",
       "      <td>1514765040</td>\n",
       "      <td>0</td>\n",
       "      <td>14.0</td>\n",
       "      <td>8.5009</td>\n",
       "      <td>8.5066</td>\n",
       "      <td>8.4744</td>\n",
       "      <td>8.5009</td>\n",
       "      <td>125.80</td>\n",
       "      <td>8.479810</td>\n",
       "      <td>-0.012524</td>\n",
       "      <td>Binance Coin</td>\n",
       "      <td>2018-01-01 00:04:00</td>\n",
       "    </tr>\n",
       "    <tr>\n",
       "      <th>4</th>\n",
       "      <td>1514765100</td>\n",
       "      <td>0</td>\n",
       "      <td>5.0</td>\n",
       "      <td>8.5007</td>\n",
       "      <td>8.5007</td>\n",
       "      <td>8.4560</td>\n",
       "      <td>8.4560</td>\n",
       "      <td>125.01</td>\n",
       "      <td>8.458435</td>\n",
       "      <td>-0.005940</td>\n",
       "      <td>Binance Coin</td>\n",
       "      <td>2018-01-01 00:05:00</td>\n",
       "    </tr>\n",
       "  </tbody>\n",
       "</table>\n",
       "</div>"
      ],
      "text/plain": [
       "    timestamp  Asset_ID  Count    Open    High     Low   Close   Volume  \\\n",
       "0  1514764860         0    5.0  8.5300  8.5300  8.5300  8.5300    78.38   \n",
       "1  1514764920         0    7.0  8.5300  8.5300  8.5145  8.5145    71.39   \n",
       "2  1514764980         0   45.0  8.5065  8.5299  8.4848  8.4848  1546.82   \n",
       "3  1514765040         0   14.0  8.5009  8.5066  8.4744  8.5009   125.80   \n",
       "4  1514765100         0    5.0  8.5007  8.5007  8.4560  8.4560   125.01   \n",
       "\n",
       "       VWAP    Target    Asset_Name                date  \n",
       "0  8.530000 -0.014399  Binance Coin 2018-01-01 00:01:00  \n",
       "1  8.520215 -0.015875  Binance Coin 2018-01-01 00:02:00  \n",
       "2  8.501393 -0.015410  Binance Coin 2018-01-01 00:03:00  \n",
       "3  8.479810 -0.012524  Binance Coin 2018-01-01 00:04:00  \n",
       "4  8.458435 -0.005940  Binance Coin 2018-01-01 00:05:00  "
      ]
     },
     "execution_count": 13,
     "metadata": {},
     "output_type": "execute_result"
    }
   ],
   "source": [
    "raw_df.head()"
   ]
  },
  {
   "cell_type": "code",
   "execution_count": 14,
   "id": "4f7747d4",
   "metadata": {
    "ExecuteTime": {
     "end_time": "2021-11-12T15:48:35.853006Z",
     "start_time": "2021-11-12T15:48:35.839620Z"
    }
   },
   "outputs": [],
   "source": [
    "TARGET = 'Target'\n",
    "INDEX_COLS = ['Asset_ID', 'Asset_Name', 'date', 'timestamp']"
   ]
  },
  {
   "cell_type": "code",
   "execution_count": 15,
   "id": "c6388daf",
   "metadata": {
    "ExecuteTime": {
     "end_time": "2021-11-12T15:48:36.772689Z",
     "start_time": "2021-11-12T15:48:35.855437Z"
    }
   },
   "outputs": [],
   "source": [
    "feature_data = compute_features(raw_df)"
   ]
  },
  {
   "cell_type": "code",
   "execution_count": 16,
   "id": "aa0aa048",
   "metadata": {
    "ExecuteTime": {
     "end_time": "2021-11-12T15:48:39.262316Z",
     "start_time": "2021-11-12T15:48:36.775275Z"
    }
   },
   "outputs": [],
   "source": [
    "feature_data = feature_data.dropna(subset=[TARGET]).reset_index(drop=True)"
   ]
  },
  {
   "cell_type": "code",
   "execution_count": 17,
   "id": "48247838",
   "metadata": {
    "ExecuteTime": {
     "end_time": "2021-11-12T15:48:39.295141Z",
     "start_time": "2021-11-12T15:48:39.264260Z"
    }
   },
   "outputs": [
    {
     "data": {
      "text/html": [
       "<div>\n",
       "<style scoped>\n",
       "    .dataframe tbody tr th:only-of-type {\n",
       "        vertical-align: middle;\n",
       "    }\n",
       "\n",
       "    .dataframe tbody tr th {\n",
       "        vertical-align: top;\n",
       "    }\n",
       "\n",
       "    .dataframe thead th {\n",
       "        text-align: right;\n",
       "    }\n",
       "</style>\n",
       "<table border=\"1\" class=\"dataframe\">\n",
       "  <thead>\n",
       "    <tr style=\"text-align: right;\">\n",
       "      <th></th>\n",
       "      <th>timestamp</th>\n",
       "      <th>Asset_ID</th>\n",
       "      <th>Count</th>\n",
       "      <th>Open</th>\n",
       "      <th>High</th>\n",
       "      <th>Low</th>\n",
       "      <th>Close</th>\n",
       "      <th>Volume</th>\n",
       "      <th>VWAP</th>\n",
       "      <th>Target</th>\n",
       "      <th>Asset_Name</th>\n",
       "      <th>date</th>\n",
       "      <th>upper_shadow</th>\n",
       "      <th>lower_shador</th>\n",
       "    </tr>\n",
       "  </thead>\n",
       "  <tbody>\n",
       "    <tr>\n",
       "      <th>0</th>\n",
       "      <td>1514764860</td>\n",
       "      <td>0</td>\n",
       "      <td>5.0</td>\n",
       "      <td>8.5300</td>\n",
       "      <td>8.5300</td>\n",
       "      <td>8.5300</td>\n",
       "      <td>8.5300</td>\n",
       "      <td>78.38</td>\n",
       "      <td>8.530000</td>\n",
       "      <td>-0.014399</td>\n",
       "      <td>Binance Coin</td>\n",
       "      <td>2018-01-01 00:01:00</td>\n",
       "      <td>0.000000</td>\n",
       "      <td>0.000000</td>\n",
       "    </tr>\n",
       "    <tr>\n",
       "      <th>1</th>\n",
       "      <td>1514764920</td>\n",
       "      <td>0</td>\n",
       "      <td>7.0</td>\n",
       "      <td>8.5300</td>\n",
       "      <td>8.5300</td>\n",
       "      <td>8.5145</td>\n",
       "      <td>8.5145</td>\n",
       "      <td>71.39</td>\n",
       "      <td>8.520215</td>\n",
       "      <td>-0.015875</td>\n",
       "      <td>Binance Coin</td>\n",
       "      <td>2018-01-01 00:02:00</td>\n",
       "      <td>0.000000</td>\n",
       "      <td>0.000000</td>\n",
       "    </tr>\n",
       "    <tr>\n",
       "      <th>2</th>\n",
       "      <td>1514764980</td>\n",
       "      <td>0</td>\n",
       "      <td>45.0</td>\n",
       "      <td>8.5065</td>\n",
       "      <td>8.5299</td>\n",
       "      <td>8.4848</td>\n",
       "      <td>8.4848</td>\n",
       "      <td>1546.82</td>\n",
       "      <td>8.501393</td>\n",
       "      <td>-0.015410</td>\n",
       "      <td>Binance Coin</td>\n",
       "      <td>2018-01-01 00:03:00</td>\n",
       "      <td>0.023399</td>\n",
       "      <td>0.000000</td>\n",
       "    </tr>\n",
       "    <tr>\n",
       "      <th>3</th>\n",
       "      <td>1514765040</td>\n",
       "      <td>0</td>\n",
       "      <td>14.0</td>\n",
       "      <td>8.5009</td>\n",
       "      <td>8.5066</td>\n",
       "      <td>8.4744</td>\n",
       "      <td>8.5009</td>\n",
       "      <td>125.80</td>\n",
       "      <td>8.479810</td>\n",
       "      <td>-0.012524</td>\n",
       "      <td>Binance Coin</td>\n",
       "      <td>2018-01-01 00:04:00</td>\n",
       "      <td>0.005700</td>\n",
       "      <td>0.026501</td>\n",
       "    </tr>\n",
       "    <tr>\n",
       "      <th>4</th>\n",
       "      <td>1514765100</td>\n",
       "      <td>0</td>\n",
       "      <td>5.0</td>\n",
       "      <td>8.5007</td>\n",
       "      <td>8.5007</td>\n",
       "      <td>8.4560</td>\n",
       "      <td>8.4560</td>\n",
       "      <td>125.01</td>\n",
       "      <td>8.458435</td>\n",
       "      <td>-0.005940</td>\n",
       "      <td>Binance Coin</td>\n",
       "      <td>2018-01-01 00:05:00</td>\n",
       "      <td>0.000000</td>\n",
       "      <td>0.000000</td>\n",
       "    </tr>\n",
       "  </tbody>\n",
       "</table>\n",
       "</div>"
      ],
      "text/plain": [
       "    timestamp  Asset_ID  Count    Open    High     Low   Close   Volume  \\\n",
       "0  1514764860         0    5.0  8.5300  8.5300  8.5300  8.5300    78.38   \n",
       "1  1514764920         0    7.0  8.5300  8.5300  8.5145  8.5145    71.39   \n",
       "2  1514764980         0   45.0  8.5065  8.5299  8.4848  8.4848  1546.82   \n",
       "3  1514765040         0   14.0  8.5009  8.5066  8.4744  8.5009   125.80   \n",
       "4  1514765100         0    5.0  8.5007  8.5007  8.4560  8.4560   125.01   \n",
       "\n",
       "       VWAP    Target    Asset_Name                date  upper_shadow  \\\n",
       "0  8.530000 -0.014399  Binance Coin 2018-01-01 00:01:00      0.000000   \n",
       "1  8.520215 -0.015875  Binance Coin 2018-01-01 00:02:00      0.000000   \n",
       "2  8.501393 -0.015410  Binance Coin 2018-01-01 00:03:00      0.023399   \n",
       "3  8.479810 -0.012524  Binance Coin 2018-01-01 00:04:00      0.005700   \n",
       "4  8.458435 -0.005940  Binance Coin 2018-01-01 00:05:00      0.000000   \n",
       "\n",
       "   lower_shador  \n",
       "0      0.000000  \n",
       "1      0.000000  \n",
       "2      0.000000  \n",
       "3      0.026501  \n",
       "4      0.000000  "
      ]
     },
     "execution_count": 17,
     "metadata": {},
     "output_type": "execute_result"
    }
   ],
   "source": [
    "feature_data.head()"
   ]
  },
  {
   "cell_type": "code",
   "execution_count": 18,
   "id": "190b158a",
   "metadata": {
    "ExecuteTime": {
     "end_time": "2021-11-12T15:48:39.338238Z",
     "start_time": "2021-11-12T15:48:39.298016Z"
    }
   },
   "outputs": [
    {
     "data": {
      "text/html": [
       "<div>\n",
       "<style scoped>\n",
       "    .dataframe tbody tr th:only-of-type {\n",
       "        vertical-align: middle;\n",
       "    }\n",
       "\n",
       "    .dataframe tbody tr th {\n",
       "        vertical-align: top;\n",
       "    }\n",
       "\n",
       "    .dataframe thead th {\n",
       "        text-align: right;\n",
       "    }\n",
       "</style>\n",
       "<table border=\"1\" class=\"dataframe\">\n",
       "  <thead>\n",
       "    <tr style=\"text-align: right;\">\n",
       "      <th></th>\n",
       "      <th>timestamp</th>\n",
       "      <th>Asset_ID</th>\n",
       "      <th>Count</th>\n",
       "      <th>Open</th>\n",
       "      <th>High</th>\n",
       "      <th>Low</th>\n",
       "      <th>Close</th>\n",
       "      <th>Volume</th>\n",
       "      <th>VWAP</th>\n",
       "      <th>Target</th>\n",
       "      <th>Asset_Name</th>\n",
       "      <th>date</th>\n",
       "      <th>upper_shadow</th>\n",
       "      <th>lower_shador</th>\n",
       "    </tr>\n",
       "  </thead>\n",
       "  <tbody>\n",
       "    <tr>\n",
       "      <th>23486463</th>\n",
       "      <td>1632181200</td>\n",
       "      <td>13</td>\n",
       "      <td>986.0</td>\n",
       "      <td>0.090885</td>\n",
       "      <td>0.091054</td>\n",
       "      <td>0.090710</td>\n",
       "      <td>0.090941</td>\n",
       "      <td>5.734456e+06</td>\n",
       "      <td>0.090831</td>\n",
       "      <td>0.000199</td>\n",
       "      <td>TRON</td>\n",
       "      <td>2021-09-20 23:40:00</td>\n",
       "      <td>0.000113</td>\n",
       "      <td>0.000175</td>\n",
       "    </tr>\n",
       "    <tr>\n",
       "      <th>23486464</th>\n",
       "      <td>1632181260</td>\n",
       "      <td>13</td>\n",
       "      <td>715.0</td>\n",
       "      <td>0.091010</td>\n",
       "      <td>0.091277</td>\n",
       "      <td>0.090980</td>\n",
       "      <td>0.091203</td>\n",
       "      <td>1.989048e+06</td>\n",
       "      <td>0.091125</td>\n",
       "      <td>-0.003477</td>\n",
       "      <td>TRON</td>\n",
       "      <td>2021-09-20 23:41:00</td>\n",
       "      <td>0.000074</td>\n",
       "      <td>0.000030</td>\n",
       "    </tr>\n",
       "    <tr>\n",
       "      <th>23486465</th>\n",
       "      <td>1632181320</td>\n",
       "      <td>13</td>\n",
       "      <td>527.0</td>\n",
       "      <td>0.091171</td>\n",
       "      <td>0.091295</td>\n",
       "      <td>0.091092</td>\n",
       "      <td>0.091180</td>\n",
       "      <td>2.386078e+06</td>\n",
       "      <td>0.091185</td>\n",
       "      <td>-0.002437</td>\n",
       "      <td>TRON</td>\n",
       "      <td>2021-09-20 23:42:00</td>\n",
       "      <td>0.000115</td>\n",
       "      <td>0.000079</td>\n",
       "    </tr>\n",
       "    <tr>\n",
       "      <th>23486466</th>\n",
       "      <td>1632181380</td>\n",
       "      <td>13</td>\n",
       "      <td>463.0</td>\n",
       "      <td>0.091206</td>\n",
       "      <td>0.091290</td>\n",
       "      <td>0.091028</td>\n",
       "      <td>0.091081</td>\n",
       "      <td>1.568854e+06</td>\n",
       "      <td>0.091131</td>\n",
       "      <td>0.004843</td>\n",
       "      <td>TRON</td>\n",
       "      <td>2021-09-20 23:43:00</td>\n",
       "      <td>0.000084</td>\n",
       "      <td>0.000053</td>\n",
       "    </tr>\n",
       "    <tr>\n",
       "      <th>23486467</th>\n",
       "      <td>1632181440</td>\n",
       "      <td>13</td>\n",
       "      <td>512.0</td>\n",
       "      <td>0.090989</td>\n",
       "      <td>0.091133</td>\n",
       "      <td>0.090831</td>\n",
       "      <td>0.090885</td>\n",
       "      <td>1.900695e+06</td>\n",
       "      <td>0.090943</td>\n",
       "      <td>0.004163</td>\n",
       "      <td>TRON</td>\n",
       "      <td>2021-09-20 23:44:00</td>\n",
       "      <td>0.000144</td>\n",
       "      <td>0.000054</td>\n",
       "    </tr>\n",
       "  </tbody>\n",
       "</table>\n",
       "</div>"
      ],
      "text/plain": [
       "           timestamp  Asset_ID  Count      Open      High       Low     Close  \\\n",
       "23486463  1632181200        13  986.0  0.090885  0.091054  0.090710  0.090941   \n",
       "23486464  1632181260        13  715.0  0.091010  0.091277  0.090980  0.091203   \n",
       "23486465  1632181320        13  527.0  0.091171  0.091295  0.091092  0.091180   \n",
       "23486466  1632181380        13  463.0  0.091206  0.091290  0.091028  0.091081   \n",
       "23486467  1632181440        13  512.0  0.090989  0.091133  0.090831  0.090885   \n",
       "\n",
       "                Volume      VWAP    Target Asset_Name                date  \\\n",
       "23486463  5.734456e+06  0.090831  0.000199       TRON 2021-09-20 23:40:00   \n",
       "23486464  1.989048e+06  0.091125 -0.003477       TRON 2021-09-20 23:41:00   \n",
       "23486465  2.386078e+06  0.091185 -0.002437       TRON 2021-09-20 23:42:00   \n",
       "23486466  1.568854e+06  0.091131  0.004843       TRON 2021-09-20 23:43:00   \n",
       "23486467  1.900695e+06  0.090943  0.004163       TRON 2021-09-20 23:44:00   \n",
       "\n",
       "          upper_shadow  lower_shador  \n",
       "23486463      0.000113      0.000175  \n",
       "23486464      0.000074      0.000030  \n",
       "23486465      0.000115      0.000079  \n",
       "23486466      0.000084      0.000053  \n",
       "23486467      0.000144      0.000054  "
      ]
     },
     "execution_count": 18,
     "metadata": {},
     "output_type": "execute_result"
    }
   ],
   "source": [
    "feature_data.tail()"
   ]
  },
  {
   "cell_type": "code",
   "execution_count": 19,
   "id": "5c18a5c4",
   "metadata": {
    "ExecuteTime": {
     "end_time": "2021-11-12T15:48:39.366290Z",
     "start_time": "2021-11-12T15:48:39.340772Z"
    }
   },
   "outputs": [],
   "source": [
    "PULIC_LB_RANGE = ['2021-06-13 00:00:00',\n",
    "                  '2021-09-13 00:00:00'] # 3 MONTH WORTH OF DATA\n",
    "\n",
    "if USE_TOY_SAMPLE:\n",
    "    EVAL_PERIODS = ['2021-09-15', '2021-09-22']\n",
    "\n",
    "else:\n",
    "    EVAL_PERIODS = PULIC_LB_RANGE"
   ]
  },
  {
   "cell_type": "code",
   "execution_count": 20,
   "id": "2e81fac2",
   "metadata": {
    "ExecuteTime": {
     "end_time": "2021-11-12T15:48:39.590258Z",
     "start_time": "2021-11-12T15:48:39.369318Z"
    }
   },
   "outputs": [],
   "source": [
    "valid_idx = feature_data['date'].between(*EVAL_PERIODS)\n",
    "train_idx = feature_data['date'] < EVAL_PERIODS[0]"
   ]
  },
  {
   "cell_type": "code",
   "execution_count": 21,
   "id": "81db7954",
   "metadata": {
    "ExecuteTime": {
     "end_time": "2021-11-12T15:48:41.573909Z",
     "start_time": "2021-11-12T15:48:39.592902Z"
    }
   },
   "outputs": [],
   "source": [
    "train_data = feature_data.loc[train_idx, :].reset_index(drop=True)\n",
    "valid_data = feature_data.loc[valid_idx, :].reset_index(drop=True)"
   ]
  },
  {
   "cell_type": "code",
   "execution_count": 22,
   "id": "2e728ec6",
   "metadata": {
    "ExecuteTime": {
     "end_time": "2021-11-12T15:48:41.666619Z",
     "start_time": "2021-11-12T15:48:41.577257Z"
    }
   },
   "outputs": [],
   "source": [
    "assert train_data.date.max() < pd.to_datetime(EVAL_PERIODS[0]), \\\n",
    "       'train set includes future data'"
   ]
  },
  {
   "cell_type": "code",
   "execution_count": 23,
   "id": "6269a668",
   "metadata": {
    "ExecuteTime": {
     "end_time": "2021-11-12T15:48:48.896992Z",
     "start_time": "2021-11-12T15:48:41.668855Z"
    }
   },
   "outputs": [
    {
     "data": {
      "text/plain": [
       "1259"
      ]
     },
     "execution_count": 23,
     "metadata": {},
     "output_type": "execute_result"
    }
   ],
   "source": [
    "train_data.date.dt.date.nunique()"
   ]
  },
  {
   "cell_type": "code",
   "execution_count": 24,
   "id": "1811ee38",
   "metadata": {
    "ExecuteTime": {
     "end_time": "2021-11-12T15:48:49.569836Z",
     "start_time": "2021-11-12T15:48:48.898698Z"
    }
   },
   "outputs": [
    {
     "data": {
      "text/plain": [
       "93"
      ]
     },
     "execution_count": 24,
     "metadata": {},
     "output_type": "execute_result"
    }
   ],
   "source": [
    "valid_data.date.dt.date.nunique()"
   ]
  },
  {
   "cell_type": "code",
   "execution_count": 25,
   "id": "635f3b2c",
   "metadata": {
    "ExecuteTime": {
     "end_time": "2021-11-12T15:48:49.588703Z",
     "start_time": "2021-11-12T15:48:49.571929Z"
    }
   },
   "outputs": [],
   "source": [
    "COLUMNS_TO_DROP = [TARGET, 'Asset_Name', 'date', 'timestamp', 'Asset_ID']\n",
    "FEATURES = train_data.columns.drop(COLUMNS_TO_DROP)\n",
    "MODEL_PARAMS = {\n",
    "#  'learning_rate': 0.05,\n",
    "#  'subsample': 0.9,\n",
    "#  'colsample_bytree': 0.7,\n",
    "#  'random_state': 2021\n",
    "    'alpha': 0.01,\n",
    "    'normalize': True\n",
    "}\n",
    "OUTPUT_PATH = Path('artifacts/baseline/')\n",
    "if SAMPLE_LEVEL > 0:\n",
    "    OUTPUT_PATH = OUTPUT_PATH / f'sample/{SAMPLE_LEVEL}'\n",
    "OUTPUT_PATH.mkdir(exist_ok=True, parents=True)"
   ]
  },
  {
   "cell_type": "code",
   "execution_count": 26,
   "id": "486fb023",
   "metadata": {
    "ExecuteTime": {
     "end_time": "2021-11-12T15:48:49.615253Z",
     "start_time": "2021-11-12T15:48:49.591653Z"
    }
   },
   "outputs": [
    {
     "data": {
      "text/plain": [
       "Index(['Count', 'Open', 'High', 'Low', 'Close', 'Volume', 'VWAP',\n",
       "       'upper_shadow', 'lower_shador'],\n",
       "      dtype='object')"
      ]
     },
     "execution_count": 26,
     "metadata": {},
     "output_type": "execute_result"
    }
   ],
   "source": [
    "FEATURES"
   ]
  },
  {
   "cell_type": "code",
   "execution_count": 27,
   "id": "f03fc5f5",
   "metadata": {
    "ExecuteTime": {
     "end_time": "2021-11-12T15:48:49.950313Z",
     "start_time": "2021-11-12T15:48:49.617784Z"
    }
   },
   "outputs": [],
   "source": [
    "from xgboost import XGBRegressor\n",
    "from lightgbm import LGBMRegressor\n",
    "from sklearn.linear_model import Lasso, Ridge\n",
    "import joblib"
   ]
  },
  {
   "cell_type": "code",
   "execution_count": 28,
   "id": "abffd1a9",
   "metadata": {
    "ExecuteTime": {
     "end_time": "2021-11-12T15:49:20.695080Z",
     "start_time": "2021-11-12T15:48:49.954356Z"
    }
   },
   "outputs": [
    {
     "name": "stdout",
     "output_type": "stream",
     "text": [
      "training model for Binance Coin\n",
      "training model for Bitcoin\n",
      "training model for Bitcoin Cash\n",
      "training model for Cardano\n",
      "training model for Dogecoin\n",
      "training model for EOS.IO\n",
      "training model for Ethereum\n",
      "training model for Ethereum Classic\n",
      "training model for IOTA\n",
      "training model for Litecoin\n",
      "training model for Maker\n",
      "training model for Monero\n",
      "training model for Stellar\n",
      "training model for TRON\n",
      "CPU times: user 1min 42s, sys: 1.46 s, total: 1min 43s\n",
      "Wall time: 30.7 s\n"
     ]
    }
   ],
   "source": [
    "%%time\n",
    "CRYPTO_MODELS = {}\n",
    "valid_yhat = np.zeros(len(valid_data))\n",
    "for crypto, train_crypto in train_data.groupby(by=['Asset_Name']):\n",
    "    print(f'training model for {crypto}')\n",
    "    model_path = OUTPUT_PATH / f'{crypto}.pkl'\n",
    "    if model_path.exists() and (not FORCE_REWRITE):\n",
    "        model = joblib.load(model_path)\n",
    "    else:\n",
    "        model = Ridge(**MODEL_PARAMS)\n",
    "        model.fit(train_crypto[FEATURES], train_crypto[TARGET])\n",
    "        joblib.dump(model, model_path)\n",
    "    CRYPTO_MODELS[crypto] = model\n",
    "    crypto_index = valid_data['Asset_Name'] == crypto\n",
    "    valid_yhat[crypto_index] = model.predict(valid_data.loc[crypto_index, FEATURES])\n",
    "    "
   ]
  },
  {
   "cell_type": "code",
   "execution_count": 29,
   "id": "f72e7163",
   "metadata": {
    "ExecuteTime": {
     "end_time": "2021-11-12T15:49:20.746759Z",
     "start_time": "2021-11-12T15:49:20.710265Z"
    }
   },
   "outputs": [],
   "source": [
    "valid_data['yhat'] = valid_yhat"
   ]
  },
  {
   "cell_type": "code",
   "execution_count": 30,
   "id": "f243c2a6",
   "metadata": {
    "ExecuteTime": {
     "end_time": "2021-11-12T15:49:21.546920Z",
     "start_time": "2021-11-12T15:49:20.754646Z"
    }
   },
   "outputs": [],
   "source": [
    "scores, valid_corrs = compute_metrics(valid_data)"
   ]
  },
  {
   "cell_type": "code",
   "execution_count": 31,
   "id": "bda95266",
   "metadata": {
    "ExecuteTime": {
     "end_time": "2021-11-12T15:49:21.567527Z",
     "start_time": "2021-11-12T15:49:21.548715Z"
    }
   },
   "outputs": [
    {
     "data": {
      "text/plain": [
       "theor_corr       0.000748\n",
       "weighted_corr    0.000132\n",
       "corr_min        -0.027588\n",
       "corr_max         0.017823\n",
       "corr_std         0.010633\n",
       "dtype: float64"
      ]
     },
     "execution_count": 31,
     "metadata": {},
     "output_type": "execute_result"
    }
   ],
   "source": [
    "scores"
   ]
  },
  {
   "cell_type": "code",
   "execution_count": 32,
   "id": "ee54fbc2",
   "metadata": {
    "ExecuteTime": {
     "end_time": "2021-11-12T15:49:21.595602Z",
     "start_time": "2021-11-12T15:49:21.569754Z"
    }
   },
   "outputs": [
    {
     "data": {
      "text/html": [
       "<div>\n",
       "<style scoped>\n",
       "    .dataframe tbody tr th:only-of-type {\n",
       "        vertical-align: middle;\n",
       "    }\n",
       "\n",
       "    .dataframe tbody tr th {\n",
       "        vertical-align: top;\n",
       "    }\n",
       "\n",
       "    .dataframe thead th {\n",
       "        text-align: right;\n",
       "    }\n",
       "</style>\n",
       "<table border=\"1\" class=\"dataframe\">\n",
       "  <thead>\n",
       "    <tr style=\"text-align: right;\">\n",
       "      <th></th>\n",
       "      <th>Asset_Name</th>\n",
       "      <th>corr</th>\n",
       "      <th>weight</th>\n",
       "      <th>weighted_corr</th>\n",
       "    </tr>\n",
       "  </thead>\n",
       "  <tbody>\n",
       "    <tr>\n",
       "      <th>0</th>\n",
       "      <td>Binance Coin</td>\n",
       "      <td>0.003087</td>\n",
       "      <td>4.304065</td>\n",
       "      <td>0.013288</td>\n",
       "    </tr>\n",
       "    <tr>\n",
       "      <th>1</th>\n",
       "      <td>Bitcoin</td>\n",
       "      <td>-0.003122</td>\n",
       "      <td>6.779922</td>\n",
       "      <td>-0.021168</td>\n",
       "    </tr>\n",
       "    <tr>\n",
       "      <th>2</th>\n",
       "      <td>Bitcoin Cash</td>\n",
       "      <td>-0.027588</td>\n",
       "      <td>2.397895</td>\n",
       "      <td>-0.066154</td>\n",
       "    </tr>\n",
       "    <tr>\n",
       "      <th>3</th>\n",
       "      <td>Cardano</td>\n",
       "      <td>-0.007444</td>\n",
       "      <td>4.406719</td>\n",
       "      <td>-0.032804</td>\n",
       "    </tr>\n",
       "    <tr>\n",
       "      <th>4</th>\n",
       "      <td>Dogecoin</td>\n",
       "      <td>0.010640</td>\n",
       "      <td>3.555348</td>\n",
       "      <td>0.037831</td>\n",
       "    </tr>\n",
       "    <tr>\n",
       "      <th>5</th>\n",
       "      <td>EOS.IO</td>\n",
       "      <td>0.004010</td>\n",
       "      <td>1.386294</td>\n",
       "      <td>0.005559</td>\n",
       "    </tr>\n",
       "    <tr>\n",
       "      <th>6</th>\n",
       "      <td>Ethereum</td>\n",
       "      <td>-0.004576</td>\n",
       "      <td>5.894403</td>\n",
       "      <td>-0.026974</td>\n",
       "    </tr>\n",
       "    <tr>\n",
       "      <th>7</th>\n",
       "      <td>Ethereum Classic</td>\n",
       "      <td>0.006485</td>\n",
       "      <td>2.079442</td>\n",
       "      <td>0.013485</td>\n",
       "    </tr>\n",
       "    <tr>\n",
       "      <th>8</th>\n",
       "      <td>IOTA</td>\n",
       "      <td>0.000108</td>\n",
       "      <td>1.098612</td>\n",
       "      <td>0.000118</td>\n",
       "    </tr>\n",
       "    <tr>\n",
       "      <th>9</th>\n",
       "      <td>Litecoin</td>\n",
       "      <td>0.017823</td>\n",
       "      <td>2.397895</td>\n",
       "      <td>0.042737</td>\n",
       "    </tr>\n",
       "    <tr>\n",
       "      <th>10</th>\n",
       "      <td>Maker</td>\n",
       "      <td>0.000641</td>\n",
       "      <td>1.098612</td>\n",
       "      <td>0.000705</td>\n",
       "    </tr>\n",
       "    <tr>\n",
       "      <th>11</th>\n",
       "      <td>Monero</td>\n",
       "      <td>0.008021</td>\n",
       "      <td>1.609438</td>\n",
       "      <td>0.012909</td>\n",
       "    </tr>\n",
       "    <tr>\n",
       "      <th>12</th>\n",
       "      <td>Stellar</td>\n",
       "      <td>0.005885</td>\n",
       "      <td>2.079442</td>\n",
       "      <td>0.012238</td>\n",
       "    </tr>\n",
       "    <tr>\n",
       "      <th>13</th>\n",
       "      <td>TRON</td>\n",
       "      <td>0.007602</td>\n",
       "      <td>1.791759</td>\n",
       "      <td>0.013621</td>\n",
       "    </tr>\n",
       "  </tbody>\n",
       "</table>\n",
       "</div>"
      ],
      "text/plain": [
       "          Asset_Name      corr    weight  weighted_corr\n",
       "0       Binance Coin  0.003087  4.304065       0.013288\n",
       "1            Bitcoin -0.003122  6.779922      -0.021168\n",
       "2       Bitcoin Cash -0.027588  2.397895      -0.066154\n",
       "3            Cardano -0.007444  4.406719      -0.032804\n",
       "4           Dogecoin  0.010640  3.555348       0.037831\n",
       "5             EOS.IO  0.004010  1.386294       0.005559\n",
       "6           Ethereum -0.004576  5.894403      -0.026974\n",
       "7   Ethereum Classic  0.006485  2.079442       0.013485\n",
       "8               IOTA  0.000108  1.098612       0.000118\n",
       "9           Litecoin  0.017823  2.397895       0.042737\n",
       "10             Maker  0.000641  1.098612       0.000705\n",
       "11            Monero  0.008021  1.609438       0.012909\n",
       "12           Stellar  0.005885  2.079442       0.012238\n",
       "13              TRON  0.007602  1.791759       0.013621"
      ]
     },
     "execution_count": 32,
     "metadata": {},
     "output_type": "execute_result"
    }
   ],
   "source": [
    "valid_corrs"
   ]
  },
  {
   "cell_type": "code",
   "execution_count": 33,
   "id": "a5ac89e6",
   "metadata": {
    "ExecuteTime": {
     "end_time": "2021-11-12T15:49:21.817696Z",
     "start_time": "2021-11-12T15:49:21.599565Z"
    }
   },
   "outputs": [
    {
     "data": {
      "text/plain": [
       "<AxesSubplot:xlabel='Asset_Name'>"
      ]
     },
     "execution_count": 33,
     "metadata": {},
     "output_type": "execute_result"
    },
    {
     "data": {
      "image/png": "[encoded data removed]",
      "text/plain": [
       "<Figure size 432x288 with 1 Axes>"
      ]
     },
     "metadata": {
      "needs_background": "light"
     },
     "output_type": "display_data"
    }
   ],
   "source": [
    "valid_corrs.plot.bar('Asset_Name', 'corr')"
   ]
  },
  {
   "cell_type": "code",
   "execution_count": 34,
   "id": "3c53f746",
   "metadata": {
    "ExecuteTime": {
     "end_time": "2021-11-12T15:49:21.837404Z",
     "start_time": "2021-11-12T15:49:21.820231Z"
    }
   },
   "outputs": [],
   "source": [
    "# if SAMPLE_LEVEL == 0:\n",
    "#     scores_mean = cv_scores.mean().to_dict()\n",
    "#     valid_corrs.to_csv(OUTPUT_PATH / 'corrs.csv', index=False)\n",
    "\n",
    "#     cv_scores.to_csv(OUTPUT_PATH / 'cv_scores.csv', index=False)\n",
    "\n",
    "#     _config = {'model': MODEL_PARAMS}\n",
    "#     track_experiment('linear-model-per-crypto', mlflow_experiment='leaderboard',\n",
    "#                      config=_config,\n",
    "#                      scores=scores_mean, artifacts_dir=str(OUTPUT_PATH))"
   ]
  },
  {
   "cell_type": "markdown",
   "id": "d846f8a8",
   "metadata": {},
   "source": [
    "### recreating target "
   ]
  },
  {
   "cell_type": "code",
   "execution_count": 36,
   "id": "84a7effc",
   "metadata": {
    "ExecuteTime": {
     "end_time": "2021-11-12T16:03:01.777928Z",
     "start_time": "2021-11-12T16:03:01.760821Z"
    }
   },
   "outputs": [],
   "source": [
    "def ResidualizeMarket(df, mktColumn, window):\n",
    "    if mktColumn not in df.columns:\n",
    "        return df\n",
    "\n",
    "    mkt = df[mktColumn]\n",
    "\n",
    "    num = df.multiply(mkt.values, axis=0).rolling(window).mean().values  #numerator of linear regression coefficient\n",
    "    denom = mkt.multiply(mkt.values, axis=0).rolling(window).mean().values  #denominator of linear regression coefficient\n",
    "    beta = np.nan_to_num( num.T / denom, nan=0., posinf=0., neginf=0.)  #if regression fell over, use beta of 0\n",
    "\n",
    "    resultRet = df - (beta * mkt.values).T  #perform residualization\n",
    "    resultBeta = 0.*df + beta.T  #shape beta\n",
    "\n",
    "    return resultRet.drop(columns=[mktColumn]), resultBeta.drop(columns=[mktColumn])"
   ]
  },
  {
   "cell_type": "code",
   "execution_count": 40,
   "id": "75a3388c",
   "metadata": {
    "ExecuteTime": {
     "end_time": "2021-11-12T16:04:00.932159Z",
     "start_time": "2021-11-12T16:04:00.916790Z"
    }
   },
   "outputs": [],
   "source": [
    "from metrics import ASSET_WEIGHT"
   ]
  },
  {
   "cell_type": "code",
   "execution_count": 38,
   "id": "0034b8b3",
   "metadata": {
    "ExecuteTime": {
     "end_time": "2021-11-12T16:03:57.545422Z",
     "start_time": "2021-11-12T16:03:39.230505Z"
    }
   },
   "outputs": [],
   "source": [
    "df_time = pd.pivot(raw_df, 'timestamp', 'Asset_Name', 'Close')"
   ]
  },
  {
   "cell_type": "code",
   "execution_count": 41,
   "id": "f04ff969",
   "metadata": {
    "ExecuteTime": {
     "end_time": "2021-11-12T16:04:04.914851Z",
     "start_time": "2021-11-12T16:04:04.893006Z"
    }
   },
   "outputs": [
    {
     "data": {
      "text/plain": [
       "Bitcoin Cash        2.397895\n",
       "Binance Coin        4.304065\n",
       "Bitcoin             6.779922\n",
       "EOS.IO              1.386294\n",
       "Ethereum Classic    2.079442\n",
       "Ethereum            5.894403\n",
       "Litecoin            2.397895\n",
       "Monero              1.609438\n",
       "TRON                1.791759\n",
       "Stellar             2.079442\n",
       "Cardano             4.406719\n",
       "IOTA                1.098612\n",
       "Maker               1.098612\n",
       "Dogecoin            3.555348\n",
       "dtype: float64"
      ]
     },
     "execution_count": 41,
     "metadata": {},
     "output_type": "execute_result"
    }
   ],
   "source": []
  },
  {
   "cell_type": "code",
   "execution_count": 39,
   "id": "ea858e99",
   "metadata": {
    "ExecuteTime": {
     "end_time": "2021-11-12T16:03:57.706451Z",
     "start_time": "2021-11-12T16:03:57.554669Z"
    }
   },
   "outputs": [
    {
     "data": {
      "text/html": [
       "<div>\n",
       "<style scoped>\n",
       "    .dataframe tbody tr th:only-of-type {\n",
       "        vertical-align: middle;\n",
       "    }\n",
       "\n",
       "    .dataframe tbody tr th {\n",
       "        vertical-align: top;\n",
       "    }\n",
       "\n",
       "    .dataframe thead th {\n",
       "        text-align: right;\n",
       "    }\n",
       "</style>\n",
       "<table border=\"1\" class=\"dataframe\">\n",
       "  <thead>\n",
       "    <tr style=\"text-align: right;\">\n",
       "      <th>Asset_Name</th>\n",
       "      <th>Binance Coin</th>\n",
       "      <th>Bitcoin</th>\n",
       "      <th>Bitcoin Cash</th>\n",
       "      <th>Cardano</th>\n",
       "      <th>Dogecoin</th>\n",
       "      <th>EOS.IO</th>\n",
       "      <th>Ethereum</th>\n",
       "      <th>Ethereum Classic</th>\n",
       "      <th>IOTA</th>\n",
       "      <th>Litecoin</th>\n",
       "      <th>Maker</th>\n",
       "      <th>Monero</th>\n",
       "      <th>Stellar</th>\n",
       "      <th>TRON</th>\n",
       "    </tr>\n",
       "    <tr>\n",
       "      <th>timestamp</th>\n",
       "      <th></th>\n",
       "      <th></th>\n",
       "      <th></th>\n",
       "      <th></th>\n",
       "      <th></th>\n",
       "      <th></th>\n",
       "      <th></th>\n",
       "      <th></th>\n",
       "      <th></th>\n",
       "      <th></th>\n",
       "      <th></th>\n",
       "      <th></th>\n",
       "      <th></th>\n",
       "      <th></th>\n",
       "    </tr>\n",
       "  </thead>\n",
       "  <tbody>\n",
       "    <tr>\n",
       "      <th>1514764860</th>\n",
       "      <td>8.5300</td>\n",
       "      <td>13850.175781</td>\n",
       "      <td>2374.590088</td>\n",
       "      <td>NaN</td>\n",
       "      <td>NaN</td>\n",
       "      <td>7.6576</td>\n",
       "      <td>738.507507</td>\n",
       "      <td>25.877001</td>\n",
       "      <td>NaN</td>\n",
       "      <td>225.206665</td>\n",
       "      <td>NaN</td>\n",
       "      <td>329.459991</td>\n",
       "      <td>NaN</td>\n",
       "      <td>NaN</td>\n",
       "    </tr>\n",
       "    <tr>\n",
       "      <th>1514764920</th>\n",
       "      <td>8.5145</td>\n",
       "      <td>13828.101562</td>\n",
       "      <td>2372.286621</td>\n",
       "      <td>NaN</td>\n",
       "      <td>NaN</td>\n",
       "      <td>7.6567</td>\n",
       "      <td>738.260010</td>\n",
       "      <td>25.896999</td>\n",
       "      <td>NaN</td>\n",
       "      <td>224.856674</td>\n",
       "      <td>NaN</td>\n",
       "      <td>329.450012</td>\n",
       "      <td>NaN</td>\n",
       "      <td>NaN</td>\n",
       "    </tr>\n",
       "    <tr>\n",
       "      <th>1514764980</th>\n",
       "      <td>8.4848</td>\n",
       "      <td>13801.314453</td>\n",
       "      <td>2372.063232</td>\n",
       "      <td>NaN</td>\n",
       "      <td>NaN</td>\n",
       "      <td>7.6512</td>\n",
       "      <td>737.502502</td>\n",
       "      <td>26.469500</td>\n",
       "      <td>NaN</td>\n",
       "      <td>226.000000</td>\n",
       "      <td>NaN</td>\n",
       "      <td>329.190002</td>\n",
       "      <td>NaN</td>\n",
       "      <td>NaN</td>\n",
       "    </tr>\n",
       "    <tr>\n",
       "      <th>1514765040</th>\n",
       "      <td>8.5009</td>\n",
       "      <td>13768.040039</td>\n",
       "      <td>2370.566650</td>\n",
       "      <td>NaN</td>\n",
       "      <td>NaN</td>\n",
       "      <td>7.6358</td>\n",
       "      <td>737.102478</td>\n",
       "      <td>26.449499</td>\n",
       "      <td>NaN</td>\n",
       "      <td>224.274994</td>\n",
       "      <td>NaN</td>\n",
       "      <td>328.160004</td>\n",
       "      <td>NaN</td>\n",
       "      <td>NaN</td>\n",
       "    </tr>\n",
       "    <tr>\n",
       "      <th>1514765100</th>\n",
       "      <td>8.4560</td>\n",
       "      <td>13724.914062</td>\n",
       "      <td>2370.173340</td>\n",
       "      <td>NaN</td>\n",
       "      <td>NaN</td>\n",
       "      <td>7.6100</td>\n",
       "      <td>735.705017</td>\n",
       "      <td>26.437000</td>\n",
       "      <td>NaN</td>\n",
       "      <td>223.820007</td>\n",
       "      <td>NaN</td>\n",
       "      <td>327.429993</td>\n",
       "      <td>NaN</td>\n",
       "      <td>NaN</td>\n",
       "    </tr>\n",
       "  </tbody>\n",
       "</table>\n",
       "</div>"
      ],
      "text/plain": [
       "Asset_Name  Binance Coin       Bitcoin  Bitcoin Cash  Cardano  Dogecoin  \\\n",
       "timestamp                                                                 \n",
       "1514764860        8.5300  13850.175781   2374.590088      NaN       NaN   \n",
       "1514764920        8.5145  13828.101562   2372.286621      NaN       NaN   \n",
       "1514764980        8.4848  13801.314453   2372.063232      NaN       NaN   \n",
       "1514765040        8.5009  13768.040039   2370.566650      NaN       NaN   \n",
       "1514765100        8.4560  13724.914062   2370.173340      NaN       NaN   \n",
       "\n",
       "Asset_Name  EOS.IO    Ethereum  Ethereum Classic  IOTA    Litecoin  Maker  \\\n",
       "timestamp                                                                   \n",
       "1514764860  7.6576  738.507507         25.877001   NaN  225.206665    NaN   \n",
       "1514764920  7.6567  738.260010         25.896999   NaN  224.856674    NaN   \n",
       "1514764980  7.6512  737.502502         26.469500   NaN  226.000000    NaN   \n",
       "1514765040  7.6358  737.102478         26.449499   NaN  224.274994    NaN   \n",
       "1514765100  7.6100  735.705017         26.437000   NaN  223.820007    NaN   \n",
       "\n",
       "Asset_Name      Monero  Stellar  TRON  \n",
       "timestamp                              \n",
       "1514764860  329.459991      NaN   NaN  \n",
       "1514764920  329.450012      NaN   NaN  \n",
       "1514764980  329.190002      NaN   NaN  \n",
       "1514765040  328.160004      NaN   NaN  \n",
       "1514765100  327.429993      NaN   NaN  "
      ]
     },
     "execution_count": 39,
     "metadata": {},
     "output_type": "execute_result"
    }
   ],
   "source": [
    "df_time.head()"
   ]
  },
  {
   "cell_type": "code",
   "execution_count": null,
   "id": "ff1bf812",
   "metadata": {},
   "outputs": [],
   "source": []
  }
 ],
 "metadata": {
  "kernelspec": {
   "display_name": "Python 3 (ipykernel)",
   "language": "python",
   "name": "python3"
  },
  "language_info": {
   "codemirror_mode": {
    "name": "ipython",
    "version": 3
   },
   "file_extension": ".py",
   "mimetype": "text/x-python",
   "name": "python",
   "nbconvert_exporter": "python",
   "pygments_lexer": "ipython3",
   "version": "3.7.11"
  },
  "toc": {
   "base_numbering": 1,
   "nav_menu": {},
   "number_sections": true,
   "sideBar": true,
   "skip_h1_title": false,
   "title_cell": "Table of Contents",
   "title_sidebar": "Contents",
   "toc_cell": false,
   "toc_position": {},
   "toc_section_display": true,
   "toc_window_display": false
  }
 },
 "nbformat": 4,
 "nbformat_minor": 5
}
