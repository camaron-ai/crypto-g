{
 "cells": [
  {
   "cell_type": "code",
   "execution_count": 1,
   "id": "33f16f59",
   "metadata": {
    "ExecuteTime": {
     "end_time": "2021-11-15T15:47:36.963572Z",
     "start_time": "2021-11-15T15:47:36.939729Z"
    }
   },
   "outputs": [],
   "source": [
    "%load_ext autoreload\n",
    "%autoreload 2"
   ]
  },
  {
   "cell_type": "code",
   "execution_count": 2,
   "id": "f255bb4e",
   "metadata": {
    "ExecuteTime": {
     "end_time": "2021-11-15T15:47:38.509230Z",
     "start_time": "2021-11-15T15:47:37.161786Z"
    }
   },
   "outputs": [],
   "source": [
    "import pandas as pd\n",
    "import numpy as np\n",
    "from matplotlib import pyplot as plt\n",
    "import seaborn as sns\n",
    "from pathlib import Path\n",
    "import os\n",
    "import sys\n",
    "from IPython.display import display"
   ]
  },
  {
   "cell_type": "code",
   "execution_count": 3,
   "id": "136f5247",
   "metadata": {
    "ExecuteTime": {
     "end_time": "2021-11-15T15:47:38.538512Z",
     "start_time": "2021-11-15T15:47:38.513847Z"
    }
   },
   "outputs": [],
   "source": [
    "def on_kaggle() -> bool:\n",
    "    try:\n",
    "        import gresearch_crypto\n",
    "        return True\n",
    "    except ModuleNotFoundError:\n",
    "        return False"
   ]
  },
  {
   "cell_type": "code",
   "execution_count": 4,
   "id": "432ba6ef",
   "metadata": {
    "ExecuteTime": {
     "end_time": "2021-11-15T15:47:38.570092Z",
     "start_time": "2021-11-15T15:47:38.543983Z"
    }
   },
   "outputs": [],
   "source": [
    "# HYPER PARAMETERS\n",
    "ON_KAGGLE = on_kaggle()\n",
    "SAMPLE_LEVEL = 1\n",
    "USE_SAMPLE = SAMPLE_LEVEL == 1\n",
    "USE_TOY_SAMPLE = SAMPLE_LEVEL == 2\n",
    "\n",
    "FORCE_REWRITE = True or (ON_KAGGLE and SAMPLE_LEVEL == 0)"
   ]
  },
  {
   "cell_type": "code",
   "execution_count": 5,
   "id": "3ee2a957",
   "metadata": {
    "ExecuteTime": {
     "end_time": "2021-11-15T15:47:38.609062Z",
     "start_time": "2021-11-15T15:47:38.574418Z"
    }
   },
   "outputs": [],
   "source": [
    "if not ON_KAGGLE and os.path.abspath('.').endswith('notebook'):\n",
    "    os.chdir('../')"
   ]
  },
  {
   "cell_type": "code",
   "execution_count": 6,
   "id": "eee46e84",
   "metadata": {
    "ExecuteTime": {
     "end_time": "2021-11-15T15:47:39.051247Z",
     "start_time": "2021-11-15T15:47:38.614496Z"
    }
   },
   "outputs": [],
   "source": [
    "#IMPORT_SCRIPT!\n",
    "# THIS CELL WILL BE REMOVE WITH SCRIPTS IN SRC\n",
    "if './src/' not in sys.path:\n",
    "    sys.path.append('./src/')\n",
    "\n",
    "from preprocessing import *\n",
    "from metrics import *\n",
    "from cv import *\n",
    "from tracking import *\n",
    "import util"
   ]
  },
  {
   "cell_type": "code",
   "execution_count": 7,
   "id": "5dcd141e",
   "metadata": {
    "ExecuteTime": {
     "end_time": "2021-11-15T15:47:39.081104Z",
     "start_time": "2021-11-15T15:47:39.054228Z"
    }
   },
   "outputs": [],
   "source": [
    "if ON_KAGGLE:\n",
    "    RAW_DIR = Path('../input/g-research-crypto-forecasting/')\n",
    "    SAMPLE_DIR = Path('../input/create-sample-dataset/data/raw/sample/')\n",
    "    TOY_SAMPLE_DIR = Path('../input/create-sample-dataset/data/raw/toy_sample/')\n",
    "else:\n",
    "    RAW_DIR =  Path('data/raw')\n",
    "    TOY_SAMPLE_DIR = RAW_DIR.joinpath('toy_sample')\n",
    "    SAMPLE_DIR = RAW_DIR.joinpath('sample')\n",
    "\n",
    "# filename\n",
    "TRAIN_FILE = 'train.csv'\n",
    "ASSET_DETAILS_PATH = RAW_DIR / 'asset_details.csv'"
   ]
  },
  {
   "cell_type": "code",
   "execution_count": 8,
   "id": "74f7a9ab",
   "metadata": {
    "ExecuteTime": {
     "end_time": "2021-11-15T15:47:39.116701Z",
     "start_time": "2021-11-15T15:47:39.084211Z"
    }
   },
   "outputs": [
    {
     "name": "stdout",
     "output_type": "stream",
     "text": [
      "USING SAMPLE DATASET\n"
     ]
    }
   ],
   "source": [
    "if USE_TOY_SAMPLE:\n",
    "    print('USING TOY DATASET')\n",
    "    RAW_TRAIN_PATH = TOY_SAMPLE_DIR / TRAIN_FILE\n",
    "\n",
    "elif USE_SAMPLE:\n",
    "    print('USING SAMPLE DATASET')\n",
    "    RAW_TRAIN_PATH = SAMPLE_DIR / TRAIN_FILE\n",
    "\n",
    "else:\n",
    "    print('USING RAW DATASET')\n",
    "    RAW_TRAIN_PATH = RAW_DIR / TRAIN_FILE\n",
    "\n",
    "assert RAW_TRAIN_PATH.exists()"
   ]
  },
  {
   "cell_type": "code",
   "execution_count": 9,
   "id": "28ef35af",
   "metadata": {
    "ExecuteTime": {
     "end_time": "2021-11-15T15:47:39.277102Z",
     "start_time": "2021-11-15T15:47:39.120411Z"
    }
   },
   "outputs": [
    {
     "name": "stdout",
     "output_type": "stream",
     "text": [
      "asset_details.csv\t\t   sample\r\n",
      "example_sample_submission.csv\t   supplemental_train.csv\r\n",
      "example_test.csv\t\t   toy_sample\r\n",
      "g-research-crypto-forecasting.zip  train.csv\r\n",
      "gresearch_crypto\r\n"
     ]
    }
   ],
   "source": [
    "!ls {RAW_DIR}"
   ]
  },
  {
   "cell_type": "code",
   "execution_count": 10,
   "id": "4b479f0e",
   "metadata": {
    "ExecuteTime": {
     "end_time": "2021-11-15T15:47:47.929480Z",
     "start_time": "2021-11-15T15:47:39.284144Z"
    },
    "scrolled": true
   },
   "outputs": [
    {
     "name": "stdout",
     "output_type": "stream",
     "text": [
      "CPU times: user 7.93 s, sys: 679 ms, total: 8.6 s\n",
      "Wall time: 8.6 s\n"
     ]
    }
   ],
   "source": [
    "%%time \n",
    "raw_df = pd.read_csv(RAW_TRAIN_PATH)"
   ]
  },
  {
   "cell_type": "code",
   "execution_count": 11,
   "id": "b4231795",
   "metadata": {
    "ExecuteTime": {
     "end_time": "2021-11-15T15:47:47.960235Z",
     "start_time": "2021-11-15T15:47:47.932816Z"
    }
   },
   "outputs": [],
   "source": [
    "from preprocessing.ingest_data import infer_dtypes, ingest_data\n"
   ]
  },
  {
   "cell_type": "code",
   "execution_count": 12,
   "id": "5be54336",
   "metadata": {
    "ExecuteTime": {
     "end_time": "2021-11-15T15:47:50.847296Z",
     "start_time": "2021-11-15T15:47:47.965360Z"
    }
   },
   "outputs": [],
   "source": [
    "raw_df = ingest_data(raw_df, asset_details_path=ASSET_DETAILS_PATH)"
   ]
  },
  {
   "cell_type": "code",
   "execution_count": 13,
   "id": "d1722287",
   "metadata": {
    "ExecuteTime": {
     "end_time": "2021-11-15T15:47:53.785014Z",
     "start_time": "2021-11-15T15:47:50.849966Z"
    }
   },
   "outputs": [],
   "source": [
    "raw_df.sort_values(by=['Asset_ID', 'time'], inplace=True)\n",
    "raw_df.reset_index(drop=True, inplace=True)"
   ]
  },
  {
   "cell_type": "code",
   "execution_count": 14,
   "id": "3f9f8d35",
   "metadata": {
    "ExecuteTime": {
     "end_time": "2021-11-15T15:47:53.880462Z",
     "start_time": "2021-11-15T15:47:53.790664Z"
    },
    "scrolled": true
   },
   "outputs": [
    {
     "data": {
      "text/html": [
       "<div>\n",
       "<style scoped>\n",
       "    .dataframe tbody tr th:only-of-type {\n",
       "        vertical-align: middle;\n",
       "    }\n",
       "\n",
       "    .dataframe tbody tr th {\n",
       "        vertical-align: top;\n",
       "    }\n",
       "\n",
       "    .dataframe thead th {\n",
       "        text-align: right;\n",
       "    }\n",
       "</style>\n",
       "<table border=\"1\" class=\"dataframe\">\n",
       "  <thead>\n",
       "    <tr style=\"text-align: right;\">\n",
       "      <th></th>\n",
       "      <th>timestamp</th>\n",
       "      <th>Asset_ID</th>\n",
       "      <th>Count</th>\n",
       "      <th>Open</th>\n",
       "      <th>High</th>\n",
       "      <th>Low</th>\n",
       "      <th>Close</th>\n",
       "      <th>Volume</th>\n",
       "      <th>VWAP</th>\n",
       "      <th>Target</th>\n",
       "      <th>Asset_Name</th>\n",
       "      <th>time</th>\n",
       "    </tr>\n",
       "  </thead>\n",
       "  <tbody>\n",
       "    <tr>\n",
       "      <th>0</th>\n",
       "      <td>1609459260</td>\n",
       "      <td>0</td>\n",
       "      <td>219.0</td>\n",
       "      <td>37.384998</td>\n",
       "      <td>37.422100</td>\n",
       "      <td>37.348701</td>\n",
       "      <td>37.389000</td>\n",
       "      <td>2749.5692</td>\n",
       "      <td>37.387058</td>\n",
       "      <td>-0.001669</td>\n",
       "      <td>Binance Coin</td>\n",
       "      <td>2021-01-01 00:01:00</td>\n",
       "    </tr>\n",
       "    <tr>\n",
       "      <th>1</th>\n",
       "      <td>1609459320</td>\n",
       "      <td>0</td>\n",
       "      <td>133.0</td>\n",
       "      <td>37.390499</td>\n",
       "      <td>37.402000</td>\n",
       "      <td>37.329800</td>\n",
       "      <td>37.331299</td>\n",
       "      <td>778.8680</td>\n",
       "      <td>37.351677</td>\n",
       "      <td>-0.001542</td>\n",
       "      <td>Binance Coin</td>\n",
       "      <td>2021-01-01 00:02:00</td>\n",
       "    </tr>\n",
       "    <tr>\n",
       "      <th>2</th>\n",
       "      <td>1609459380</td>\n",
       "      <td>0</td>\n",
       "      <td>151.0</td>\n",
       "      <td>37.317051</td>\n",
       "      <td>37.336700</td>\n",
       "      <td>37.272900</td>\n",
       "      <td>37.291500</td>\n",
       "      <td>890.9210</td>\n",
       "      <td>37.301258</td>\n",
       "      <td>-0.001028</td>\n",
       "      <td>Binance Coin</td>\n",
       "      <td>2021-01-01 00:03:00</td>\n",
       "    </tr>\n",
       "    <tr>\n",
       "      <th>3</th>\n",
       "      <td>1609459440</td>\n",
       "      <td>0</td>\n",
       "      <td>123.0</td>\n",
       "      <td>37.299149</td>\n",
       "      <td>37.323002</td>\n",
       "      <td>37.250198</td>\n",
       "      <td>37.291901</td>\n",
       "      <td>489.9361</td>\n",
       "      <td>37.297272</td>\n",
       "      <td>0.000174</td>\n",
       "      <td>Binance Coin</td>\n",
       "      <td>2021-01-01 00:04:00</td>\n",
       "    </tr>\n",
       "    <tr>\n",
       "      <th>4</th>\n",
       "      <td>1609459500</td>\n",
       "      <td>0</td>\n",
       "      <td>623.0</td>\n",
       "      <td>37.212799</td>\n",
       "      <td>37.285000</td>\n",
       "      <td>37.104801</td>\n",
       "      <td>37.213001</td>\n",
       "      <td>15144.3836</td>\n",
       "      <td>37.184082</td>\n",
       "      <td>0.000950</td>\n",
       "      <td>Binance Coin</td>\n",
       "      <td>2021-01-01 00:05:00</td>\n",
       "    </tr>\n",
       "  </tbody>\n",
       "</table>\n",
       "</div>"
      ],
      "text/plain": [
       "    timestamp  Asset_ID  Count       Open       High        Low      Close  \\\n",
       "0  1609459260         0  219.0  37.384998  37.422100  37.348701  37.389000   \n",
       "1  1609459320         0  133.0  37.390499  37.402000  37.329800  37.331299   \n",
       "2  1609459380         0  151.0  37.317051  37.336700  37.272900  37.291500   \n",
       "3  1609459440         0  123.0  37.299149  37.323002  37.250198  37.291901   \n",
       "4  1609459500         0  623.0  37.212799  37.285000  37.104801  37.213001   \n",
       "\n",
       "       Volume       VWAP    Target    Asset_Name                time  \n",
       "0   2749.5692  37.387058 -0.001669  Binance Coin 2021-01-01 00:01:00  \n",
       "1    778.8680  37.351677 -0.001542  Binance Coin 2021-01-01 00:02:00  \n",
       "2    890.9210  37.301258 -0.001028  Binance Coin 2021-01-01 00:03:00  \n",
       "3    489.9361  37.297272  0.000174  Binance Coin 2021-01-01 00:04:00  \n",
       "4  15144.3836  37.184082  0.000950  Binance Coin 2021-01-01 00:05:00  "
      ]
     },
     "execution_count": 14,
     "metadata": {},
     "output_type": "execute_result"
    }
   ],
   "source": [
    "raw_df.head()"
   ]
  },
  {
   "cell_type": "code",
   "execution_count": 15,
   "id": "4f7747d4",
   "metadata": {
    "ExecuteTime": {
     "end_time": "2021-11-15T15:47:53.996717Z",
     "start_time": "2021-11-15T15:47:53.941933Z"
    }
   },
   "outputs": [],
   "source": [
    "TARGET = 'Target'\n",
    "INDEX_COLS = ['Asset_ID', 'Asset_Name', 'time', 'timestamp']"
   ]
  },
  {
   "cell_type": "code",
   "execution_count": 16,
   "id": "5092ec2e",
   "metadata": {
    "ExecuteTime": {
     "end_time": "2021-11-15T15:47:54.037218Z",
     "start_time": "2021-11-15T15:47:54.002095Z"
    }
   },
   "outputs": [],
   "source": [
    "def compute_features(raw_df: pd.DataFrame) -> pd.DataFrame:\n",
    "    df = raw_df.copy()\n",
    "    df['upper_shadow'] = df['High'] - np.maximum(df['Close'], df['Open'])\n",
    "    df['lower_shador'] = np.minimum(df['Close'], df['Open']) - df['Low']\n",
    "    return df"
   ]
  },
  {
   "cell_type": "code",
   "execution_count": 17,
   "id": "c6388daf",
   "metadata": {
    "ExecuteTime": {
     "end_time": "2021-11-15T15:47:54.511686Z",
     "start_time": "2021-11-15T15:47:54.040036Z"
    }
   },
   "outputs": [],
   "source": [
    "feature_data = compute_features(raw_df)"
   ]
  },
  {
   "cell_type": "code",
   "execution_count": 18,
   "id": "aa0aa048",
   "metadata": {
    "ExecuteTime": {
     "end_time": "2021-11-15T15:47:55.475387Z",
     "start_time": "2021-11-15T15:47:54.515985Z"
    }
   },
   "outputs": [],
   "source": [
    "feature_data = feature_data.dropna(subset=[TARGET]).reset_index(drop=True)"
   ]
  },
  {
   "cell_type": "code",
   "execution_count": 19,
   "id": "48247838",
   "metadata": {
    "ExecuteTime": {
     "end_time": "2021-11-15T15:47:55.551134Z",
     "start_time": "2021-11-15T15:47:55.480500Z"
    }
   },
   "outputs": [
    {
     "data": {
      "text/html": [
       "<div>\n",
       "<style scoped>\n",
       "    .dataframe tbody tr th:only-of-type {\n",
       "        vertical-align: middle;\n",
       "    }\n",
       "\n",
       "    .dataframe tbody tr th {\n",
       "        vertical-align: top;\n",
       "    }\n",
       "\n",
       "    .dataframe thead th {\n",
       "        text-align: right;\n",
       "    }\n",
       "</style>\n",
       "<table border=\"1\" class=\"dataframe\">\n",
       "  <thead>\n",
       "    <tr style=\"text-align: right;\">\n",
       "      <th></th>\n",
       "      <th>timestamp</th>\n",
       "      <th>Asset_ID</th>\n",
       "      <th>Count</th>\n",
       "      <th>Open</th>\n",
       "      <th>High</th>\n",
       "      <th>Low</th>\n",
       "      <th>Close</th>\n",
       "      <th>Volume</th>\n",
       "      <th>VWAP</th>\n",
       "      <th>Target</th>\n",
       "      <th>Asset_Name</th>\n",
       "      <th>time</th>\n",
       "      <th>upper_shadow</th>\n",
       "      <th>lower_shador</th>\n",
       "    </tr>\n",
       "  </thead>\n",
       "  <tbody>\n",
       "    <tr>\n",
       "      <th>0</th>\n",
       "      <td>1609459260</td>\n",
       "      <td>0</td>\n",
       "      <td>219.0</td>\n",
       "      <td>37.384998</td>\n",
       "      <td>37.422100</td>\n",
       "      <td>37.348701</td>\n",
       "      <td>37.389000</td>\n",
       "      <td>2749.5692</td>\n",
       "      <td>37.387058</td>\n",
       "      <td>-0.001669</td>\n",
       "      <td>Binance Coin</td>\n",
       "      <td>2021-01-01 00:01:00</td>\n",
       "      <td>0.033100</td>\n",
       "      <td>0.036297</td>\n",
       "    </tr>\n",
       "    <tr>\n",
       "      <th>1</th>\n",
       "      <td>1609459320</td>\n",
       "      <td>0</td>\n",
       "      <td>133.0</td>\n",
       "      <td>37.390499</td>\n",
       "      <td>37.402000</td>\n",
       "      <td>37.329800</td>\n",
       "      <td>37.331299</td>\n",
       "      <td>778.8680</td>\n",
       "      <td>37.351677</td>\n",
       "      <td>-0.001542</td>\n",
       "      <td>Binance Coin</td>\n",
       "      <td>2021-01-01 00:02:00</td>\n",
       "      <td>0.011501</td>\n",
       "      <td>0.001499</td>\n",
       "    </tr>\n",
       "    <tr>\n",
       "      <th>2</th>\n",
       "      <td>1609459380</td>\n",
       "      <td>0</td>\n",
       "      <td>151.0</td>\n",
       "      <td>37.317051</td>\n",
       "      <td>37.336700</td>\n",
       "      <td>37.272900</td>\n",
       "      <td>37.291500</td>\n",
       "      <td>890.9210</td>\n",
       "      <td>37.301258</td>\n",
       "      <td>-0.001028</td>\n",
       "      <td>Binance Coin</td>\n",
       "      <td>2021-01-01 00:03:00</td>\n",
       "      <td>0.019650</td>\n",
       "      <td>0.018600</td>\n",
       "    </tr>\n",
       "    <tr>\n",
       "      <th>3</th>\n",
       "      <td>1609459440</td>\n",
       "      <td>0</td>\n",
       "      <td>123.0</td>\n",
       "      <td>37.299149</td>\n",
       "      <td>37.323002</td>\n",
       "      <td>37.250198</td>\n",
       "      <td>37.291901</td>\n",
       "      <td>489.9361</td>\n",
       "      <td>37.297272</td>\n",
       "      <td>0.000174</td>\n",
       "      <td>Binance Coin</td>\n",
       "      <td>2021-01-01 00:04:00</td>\n",
       "      <td>0.023853</td>\n",
       "      <td>0.041702</td>\n",
       "    </tr>\n",
       "    <tr>\n",
       "      <th>4</th>\n",
       "      <td>1609459500</td>\n",
       "      <td>0</td>\n",
       "      <td>623.0</td>\n",
       "      <td>37.212799</td>\n",
       "      <td>37.285000</td>\n",
       "      <td>37.104801</td>\n",
       "      <td>37.213001</td>\n",
       "      <td>15144.3836</td>\n",
       "      <td>37.184082</td>\n",
       "      <td>0.000950</td>\n",
       "      <td>Binance Coin</td>\n",
       "      <td>2021-01-01 00:05:00</td>\n",
       "      <td>0.071999</td>\n",
       "      <td>0.107998</td>\n",
       "    </tr>\n",
       "  </tbody>\n",
       "</table>\n",
       "</div>"
      ],
      "text/plain": [
       "    timestamp  Asset_ID  Count       Open       High        Low      Close  \\\n",
       "0  1609459260         0  219.0  37.384998  37.422100  37.348701  37.389000   \n",
       "1  1609459320         0  133.0  37.390499  37.402000  37.329800  37.331299   \n",
       "2  1609459380         0  151.0  37.317051  37.336700  37.272900  37.291500   \n",
       "3  1609459440         0  123.0  37.299149  37.323002  37.250198  37.291901   \n",
       "4  1609459500         0  623.0  37.212799  37.285000  37.104801  37.213001   \n",
       "\n",
       "       Volume       VWAP    Target    Asset_Name                time  \\\n",
       "0   2749.5692  37.387058 -0.001669  Binance Coin 2021-01-01 00:01:00   \n",
       "1    778.8680  37.351677 -0.001542  Binance Coin 2021-01-01 00:02:00   \n",
       "2    890.9210  37.301258 -0.001028  Binance Coin 2021-01-01 00:03:00   \n",
       "3    489.9361  37.297272  0.000174  Binance Coin 2021-01-01 00:04:00   \n",
       "4  15144.3836  37.184082  0.000950  Binance Coin 2021-01-01 00:05:00   \n",
       "\n",
       "   upper_shadow  lower_shador  \n",
       "0      0.033100      0.036297  \n",
       "1      0.011501      0.001499  \n",
       "2      0.019650      0.018600  \n",
       "3      0.023853      0.041702  \n",
       "4      0.071999      0.107998  "
      ]
     },
     "execution_count": 19,
     "metadata": {},
     "output_type": "execute_result"
    }
   ],
   "source": [
    "feature_data.head()"
   ]
  },
  {
   "cell_type": "code",
   "execution_count": 20,
   "id": "190b158a",
   "metadata": {
    "ExecuteTime": {
     "end_time": "2021-11-15T15:47:58.569027Z",
     "start_time": "2021-11-15T15:47:58.515316Z"
    }
   },
   "outputs": [
    {
     "data": {
      "text/html": [
       "<div>\n",
       "<style scoped>\n",
       "    .dataframe tbody tr th:only-of-type {\n",
       "        vertical-align: middle;\n",
       "    }\n",
       "\n",
       "    .dataframe tbody tr th {\n",
       "        vertical-align: top;\n",
       "    }\n",
       "\n",
       "    .dataframe thead th {\n",
       "        text-align: right;\n",
       "    }\n",
       "</style>\n",
       "<table border=\"1\" class=\"dataframe\">\n",
       "  <thead>\n",
       "    <tr style=\"text-align: right;\">\n",
       "      <th></th>\n",
       "      <th>timestamp</th>\n",
       "      <th>Asset_ID</th>\n",
       "      <th>Count</th>\n",
       "      <th>Open</th>\n",
       "      <th>High</th>\n",
       "      <th>Low</th>\n",
       "      <th>Close</th>\n",
       "      <th>Volume</th>\n",
       "      <th>VWAP</th>\n",
       "      <th>Target</th>\n",
       "      <th>Asset_Name</th>\n",
       "      <th>time</th>\n",
       "      <th>upper_shadow</th>\n",
       "      <th>lower_shador</th>\n",
       "    </tr>\n",
       "  </thead>\n",
       "  <tbody>\n",
       "    <tr>\n",
       "      <th>5298791</th>\n",
       "      <td>1632181200</td>\n",
       "      <td>13</td>\n",
       "      <td>986.0</td>\n",
       "      <td>0.090885</td>\n",
       "      <td>0.091054</td>\n",
       "      <td>0.090710</td>\n",
       "      <td>0.090941</td>\n",
       "      <td>5.734456e+06</td>\n",
       "      <td>0.090831</td>\n",
       "      <td>0.000199</td>\n",
       "      <td>TRON</td>\n",
       "      <td>2021-09-20 23:40:00</td>\n",
       "      <td>0.000113</td>\n",
       "      <td>0.000175</td>\n",
       "    </tr>\n",
       "    <tr>\n",
       "      <th>5298792</th>\n",
       "      <td>1632181260</td>\n",
       "      <td>13</td>\n",
       "      <td>715.0</td>\n",
       "      <td>0.091010</td>\n",
       "      <td>0.091277</td>\n",
       "      <td>0.090980</td>\n",
       "      <td>0.091203</td>\n",
       "      <td>1.989048e+06</td>\n",
       "      <td>0.091125</td>\n",
       "      <td>-0.003477</td>\n",
       "      <td>TRON</td>\n",
       "      <td>2021-09-20 23:41:00</td>\n",
       "      <td>0.000074</td>\n",
       "      <td>0.000030</td>\n",
       "    </tr>\n",
       "    <tr>\n",
       "      <th>5298793</th>\n",
       "      <td>1632181320</td>\n",
       "      <td>13</td>\n",
       "      <td>527.0</td>\n",
       "      <td>0.091171</td>\n",
       "      <td>0.091295</td>\n",
       "      <td>0.091092</td>\n",
       "      <td>0.091180</td>\n",
       "      <td>2.386078e+06</td>\n",
       "      <td>0.091185</td>\n",
       "      <td>-0.002437</td>\n",
       "      <td>TRON</td>\n",
       "      <td>2021-09-20 23:42:00</td>\n",
       "      <td>0.000115</td>\n",
       "      <td>0.000079</td>\n",
       "    </tr>\n",
       "    <tr>\n",
       "      <th>5298794</th>\n",
       "      <td>1632181380</td>\n",
       "      <td>13</td>\n",
       "      <td>463.0</td>\n",
       "      <td>0.091206</td>\n",
       "      <td>0.091290</td>\n",
       "      <td>0.091028</td>\n",
       "      <td>0.091081</td>\n",
       "      <td>1.568854e+06</td>\n",
       "      <td>0.091131</td>\n",
       "      <td>0.004843</td>\n",
       "      <td>TRON</td>\n",
       "      <td>2021-09-20 23:43:00</td>\n",
       "      <td>0.000084</td>\n",
       "      <td>0.000053</td>\n",
       "    </tr>\n",
       "    <tr>\n",
       "      <th>5298795</th>\n",
       "      <td>1632181440</td>\n",
       "      <td>13</td>\n",
       "      <td>512.0</td>\n",
       "      <td>0.090989</td>\n",
       "      <td>0.091133</td>\n",
       "      <td>0.090831</td>\n",
       "      <td>0.090885</td>\n",
       "      <td>1.900695e+06</td>\n",
       "      <td>0.090943</td>\n",
       "      <td>0.004163</td>\n",
       "      <td>TRON</td>\n",
       "      <td>2021-09-20 23:44:00</td>\n",
       "      <td>0.000144</td>\n",
       "      <td>0.000054</td>\n",
       "    </tr>\n",
       "  </tbody>\n",
       "</table>\n",
       "</div>"
      ],
      "text/plain": [
       "          timestamp  Asset_ID  Count      Open      High       Low     Close  \\\n",
       "5298791  1632181200        13  986.0  0.090885  0.091054  0.090710  0.090941   \n",
       "5298792  1632181260        13  715.0  0.091010  0.091277  0.090980  0.091203   \n",
       "5298793  1632181320        13  527.0  0.091171  0.091295  0.091092  0.091180   \n",
       "5298794  1632181380        13  463.0  0.091206  0.091290  0.091028  0.091081   \n",
       "5298795  1632181440        13  512.0  0.090989  0.091133  0.090831  0.090885   \n",
       "\n",
       "               Volume      VWAP    Target Asset_Name                time  \\\n",
       "5298791  5.734456e+06  0.090831  0.000199       TRON 2021-09-20 23:40:00   \n",
       "5298792  1.989048e+06  0.091125 -0.003477       TRON 2021-09-20 23:41:00   \n",
       "5298793  2.386078e+06  0.091185 -0.002437       TRON 2021-09-20 23:42:00   \n",
       "5298794  1.568854e+06  0.091131  0.004843       TRON 2021-09-20 23:43:00   \n",
       "5298795  1.900695e+06  0.090943  0.004163       TRON 2021-09-20 23:44:00   \n",
       "\n",
       "         upper_shadow  lower_shador  \n",
       "5298791      0.000113      0.000175  \n",
       "5298792      0.000074      0.000030  \n",
       "5298793      0.000115      0.000079  \n",
       "5298794      0.000084      0.000053  \n",
       "5298795      0.000144      0.000054  "
      ]
     },
     "execution_count": 20,
     "metadata": {},
     "output_type": "execute_result"
    }
   ],
   "source": [
    "feature_data.tail()"
   ]
  },
  {
   "cell_type": "code",
   "execution_count": 21,
   "id": "5c18a5c4",
   "metadata": {
    "ExecuteTime": {
     "end_time": "2021-11-15T15:47:58.992765Z",
     "start_time": "2021-11-15T15:47:58.961521Z"
    }
   },
   "outputs": [],
   "source": [
    "PULIC_LB_RANGE = ['2021-06-13 00:00:00',\n",
    "                  '2021-09-13 00:00:00'] # 3 MONTH WORTH OF DATA\n",
    "\n",
    "if USE_TOY_SAMPLE:\n",
    "    EVAL_PERIODS = [['2021-09-15', '2021-09-22']]\n",
    "\n",
    "elif USE_SAMPLE:\n",
    "    EVAL_PERIODS = [PULIC_LB_RANGE]\n",
    "    \n",
    "else:\n",
    "    EVAL_PERIODS = [['2019-01-01', '2019-04-01'],\n",
    "                    ['2021-03-13', '2021-06-12 00:00:00'], \n",
    "                    PULIC_LB_RANGE]"
   ]
  },
  {
   "cell_type": "code",
   "execution_count": 22,
   "id": "635f3b2c",
   "metadata": {
    "ExecuteTime": {
     "end_time": "2021-11-15T15:47:59.407349Z",
     "start_time": "2021-11-15T15:47:59.368913Z"
    }
   },
   "outputs": [],
   "source": [
    "COLUMNS_TO_DROP = [TARGET, 'Asset_Name', 'time', 'timestamp', 'Asset_ID']\n",
    "FEATURES = feature_data.columns.drop(COLUMNS_TO_DROP)\n",
    "OUTPUT_PATH = Path('artifacts/baseline/')\n",
    "if SAMPLE_LEVEL > 0:\n",
    "    OUTPUT_PATH = OUTPUT_PATH / f'sample/{SAMPLE_LEVEL}'\n",
    "OUTPUT_PATH.mkdir(exist_ok=True, parents=True)"
   ]
  },
  {
   "cell_type": "code",
   "execution_count": 23,
   "id": "e57d3514",
   "metadata": {
    "ExecuteTime": {
     "end_time": "2021-11-15T15:47:59.884091Z",
     "start_time": "2021-11-15T15:47:59.851852Z"
    }
   },
   "outputs": [],
   "source": [
    "MODEL_PARAMS = util.load_config('conf/model/xgboost/base.yml')"
   ]
  },
  {
   "cell_type": "code",
   "execution_count": 24,
   "id": "1e058027",
   "metadata": {
    "ExecuteTime": {
     "end_time": "2021-11-15T15:48:00.246757Z",
     "start_time": "2021-11-15T15:48:00.214280Z"
    }
   },
   "outputs": [
    {
     "data": {
      "text/plain": [
       "{'n_estimators': 500,\n",
       " 'max_depth': 11,\n",
       " 'learning_rate': 0.05,\n",
       " 'subsample': 0.9,\n",
       " 'colsample_bytree': 0.7,\n",
       " 'tree_method': 'hist',\n",
       " 'missing': -999,\n",
       " 'random_state': 2020}"
      ]
     },
     "execution_count": 24,
     "metadata": {},
     "output_type": "execute_result"
    }
   ],
   "source": [
    "MODEL_PARAMS"
   ]
  },
  {
   "cell_type": "code",
   "execution_count": 25,
   "id": "486fb023",
   "metadata": {
    "ExecuteTime": {
     "end_time": "2021-11-15T15:48:00.723308Z",
     "start_time": "2021-11-15T15:48:00.690793Z"
    }
   },
   "outputs": [
    {
     "data": {
      "text/plain": [
       "Index(['Count', 'Open', 'High', 'Low', 'Close', 'Volume', 'VWAP',\n",
       "       'upper_shadow', 'lower_shador'],\n",
       "      dtype='object')"
      ]
     },
     "execution_count": 25,
     "metadata": {},
     "output_type": "execute_result"
    }
   ],
   "source": [
    "FEATURES"
   ]
  },
  {
   "cell_type": "code",
   "execution_count": 26,
   "id": "f03fc5f5",
   "metadata": {
    "ExecuteTime": {
     "end_time": "2021-11-15T15:48:01.581810Z",
     "start_time": "2021-11-15T15:48:01.534299Z"
    }
   },
   "outputs": [],
   "source": [
    "from xgboost import XGBRegressor\n",
    "import joblib"
   ]
  },
  {
   "cell_type": "code",
   "execution_count": 27,
   "id": "b260c5bc",
   "metadata": {
    "ExecuteTime": {
     "end_time": "2021-11-15T15:48:02.026951Z",
     "start_time": "2021-11-15T15:48:01.988065Z"
    }
   },
   "outputs": [],
   "source": [
    "def train_crypto_model(train_data: pd.DataFrame,\n",
    "                       valid_data: pd.DataFrame,\n",
    "                       output_model_dir: str):\n",
    "    CRYPTO_MODELS = {}\n",
    "    output_model_dir = Path(output_model_dir)\n",
    "    valid_yhat = np.zeros(len(valid_data))\n",
    "    for crypto, train_crypto in train_data.groupby(by=['Asset_Name']):\n",
    "        output_model_path = output_model_dir / f'{crypto}.pkl'\n",
    "        print(f'{crypto}')\n",
    "        if output_model_path.exists() and (not FORCE_REWRITE):\n",
    "            print('importaning model')\n",
    "            model = joblib.load(output_model_path)\n",
    "        else:\n",
    "            print('training model')\n",
    "            model = XGBRegressor(**MODEL_PARAMS)\n",
    "            model.fit(train_crypto[FEATURES], train_crypto[TARGET])\n",
    "            joblib.dump(model, output_model_path)\n",
    "        CRYPTO_MODELS[crypto] = model\n",
    "        crypto_index = valid_data['Asset_Name'] == crypto\n",
    "        valid_yhat[crypto_index] = model.predict(valid_data.loc[crypto_index, FEATURES])\n",
    "    return CRYPTO_MODELS, valid_yhat"
   ]
  },
  {
   "cell_type": "code",
   "execution_count": 28,
   "id": "004d7900",
   "metadata": {
    "ExecuteTime": {
     "end_time": "2021-11-15T15:48:03.499145Z",
     "start_time": "2021-11-15T15:48:03.457486Z"
    }
   },
   "outputs": [],
   "source": [
    "def filter_by_index(df: pd.DataFrame, index) -> pd.DataFrame:\n",
    "    return df.loc[index, :].reset_index(drop=True)"
   ]
  },
  {
   "cell_type": "code",
   "execution_count": 31,
   "id": "abffd1a9",
   "metadata": {
    "ExecuteTime": {
     "end_time": "2021-11-15T15:53:15.632463Z",
     "start_time": "2021-11-15T15:48:26.501421Z"
    }
   },
   "outputs": [
    {
     "name": "stdout",
     "output_type": "stream",
     "text": [
      "min   2021-01-01 00:01:00\n",
      "max   2021-06-12 23:59:00\n",
      "Name: time, dtype: datetime64[ns]\n",
      "min   2021-06-13\n",
      "max   2021-09-13\n",
      "Name: time, dtype: datetime64[ns]\n",
      "Binance Coin\n",
      "training model\n",
      "Bitcoin\n",
      "training model\n",
      "Bitcoin Cash\n",
      "training model\n",
      "Cardano\n",
      "training model\n",
      "Dogecoin\n",
      "training model\n",
      "EOS.IO\n",
      "training model\n",
      "Ethereum\n",
      "training model\n",
      "Ethereum Classic\n",
      "training model\n",
      "IOTA\n",
      "training model\n",
      "Litecoin\n",
      "training model\n",
      "Maker\n",
      "training model\n",
      "Monero\n",
      "training model\n",
      "Stellar\n",
      "training model\n",
      "TRON\n",
      "training model\n"
     ]
    }
   ],
   "source": [
    "CV = TimeSeriesSplit(EVAL_PERIODS, gap_unit='min', dt_col='time')\n",
    "SCORES = []\n",
    "valid_corrs = pd.DataFrame()\n",
    "for fold, (train_idx, valid_idx) in enumerate(CV.split(feature_data)):\n",
    "    train_data = filter_by_index(feature_data, train_idx)\n",
    "    valid_data = filter_by_index(feature_data, valid_idx)\n",
    "    print(train_data['time'].agg(('min', 'max')))\n",
    "\n",
    "    print(valid_data['time'].agg(('min', 'max')))\n",
    "    CRYPTO_MODELS, valid_yhat = train_crypto_model(train_data, valid_data,\n",
    "                                                   output_model_dir=OUTPUT_PATH)\n",
    "    \n",
    "    valid_data['yhat'] = valid_yhat\n",
    "\n",
    "    scores, fold_valid_corrs = compute_metrics(valid_data)\n",
    "    scores['fold'] = fold\n",
    "    valid_corrs = valid_corrs.append(fold_valid_corrs.assign(fold=fold), ignore_index=True)\n",
    "    \n",
    "    SCORES.append(scores)\n",
    "    \n",
    "cv_scores = pd.DataFrame(SCORES)"
   ]
  },
  {
   "cell_type": "code",
   "execution_count": 32,
   "id": "6aecfe8a",
   "metadata": {
    "ExecuteTime": {
     "end_time": "2021-11-15T15:53:15.685323Z",
     "start_time": "2021-11-15T15:53:15.636430Z"
    }
   },
   "outputs": [
    {
     "data": {
      "text/html": [
       "<div>\n",
       "<style scoped>\n",
       "    .dataframe tbody tr th:only-of-type {\n",
       "        vertical-align: middle;\n",
       "    }\n",
       "\n",
       "    .dataframe tbody tr th {\n",
       "        vertical-align: top;\n",
       "    }\n",
       "\n",
       "    .dataframe thead th {\n",
       "        text-align: right;\n",
       "    }\n",
       "</style>\n",
       "<table border=\"1\" class=\"dataframe\">\n",
       "  <thead>\n",
       "    <tr style=\"text-align: right;\">\n",
       "      <th></th>\n",
       "      <th>theor_corr</th>\n",
       "      <th>weighted_corr</th>\n",
       "      <th>corr_min</th>\n",
       "      <th>corr_max</th>\n",
       "      <th>corr_std</th>\n",
       "      <th>fold</th>\n",
       "    </tr>\n",
       "  </thead>\n",
       "  <tbody>\n",
       "    <tr>\n",
       "      <th>0</th>\n",
       "      <td>0.005335</td>\n",
       "      <td>0.001383</td>\n",
       "      <td>-0.024652</td>\n",
       "      <td>0.028</td>\n",
       "      <td>0.012643</td>\n",
       "      <td>0.0</td>\n",
       "    </tr>\n",
       "  </tbody>\n",
       "</table>\n",
       "</div>"
      ],
      "text/plain": [
       "   theor_corr  weighted_corr  corr_min  corr_max  corr_std  fold\n",
       "0    0.005335       0.001383 -0.024652     0.028  0.012643   0.0"
      ]
     },
     "execution_count": 32,
     "metadata": {},
     "output_type": "execute_result"
    }
   ],
   "source": [
    "cv_scores"
   ]
  },
  {
   "cell_type": "code",
   "execution_count": 33,
   "id": "35a8a0d3",
   "metadata": {
    "ExecuteTime": {
     "end_time": "2021-11-15T15:53:24.679559Z",
     "start_time": "2021-11-15T15:53:24.644655Z"
    }
   },
   "outputs": [
    {
     "data": {
      "text/plain": [
       "theor_corr       0.005335\n",
       "weighted_corr    0.001383\n",
       "corr_min        -0.024652\n",
       "corr_max         0.028000\n",
       "corr_std         0.012643\n",
       "fold             0.000000\n",
       "dtype: float64"
      ]
     },
     "execution_count": 33,
     "metadata": {},
     "output_type": "execute_result"
    }
   ],
   "source": [
    "cv_scores.mean()"
   ]
  },
  {
   "cell_type": "markdown",
   "id": "440b8e2c",
   "metadata": {
    "ExecuteTime": {
     "end_time": "2021-11-09T17:23:57.762182Z",
     "start_time": "2021-11-09T17:23:57.734603Z"
    }
   },
   "source": [
    "weighted_corr    0.005402\n",
    "theor_corr       0.004504\n",
    "corr_min        -0.022491\n",
    "corr_max         0.020216\n",
    "corr_std         0.011816\n",
    "fold             0.000000"
   ]
  },
  {
   "cell_type": "code",
   "execution_count": 34,
   "id": "ee54fbc2",
   "metadata": {
    "ExecuteTime": {
     "end_time": "2021-11-15T15:53:27.967906Z",
     "start_time": "2021-11-15T15:53:27.911655Z"
    }
   },
   "outputs": [
    {
     "data": {
      "text/html": [
       "<div>\n",
       "<style scoped>\n",
       "    .dataframe tbody tr th:only-of-type {\n",
       "        vertical-align: middle;\n",
       "    }\n",
       "\n",
       "    .dataframe tbody tr th {\n",
       "        vertical-align: top;\n",
       "    }\n",
       "\n",
       "    .dataframe thead th {\n",
       "        text-align: right;\n",
       "    }\n",
       "</style>\n",
       "<table border=\"1\" class=\"dataframe\">\n",
       "  <thead>\n",
       "    <tr style=\"text-align: right;\">\n",
       "      <th></th>\n",
       "      <th>Asset_Name</th>\n",
       "      <th>corr</th>\n",
       "      <th>weight</th>\n",
       "      <th>weighted_corr</th>\n",
       "      <th>fold</th>\n",
       "    </tr>\n",
       "  </thead>\n",
       "  <tbody>\n",
       "    <tr>\n",
       "      <th>0</th>\n",
       "      <td>Binance Coin</td>\n",
       "      <td>-0.002984</td>\n",
       "      <td>4.304065</td>\n",
       "      <td>-0.012841</td>\n",
       "      <td>0</td>\n",
       "    </tr>\n",
       "    <tr>\n",
       "      <th>1</th>\n",
       "      <td>Bitcoin</td>\n",
       "      <td>-0.006690</td>\n",
       "      <td>6.779922</td>\n",
       "      <td>-0.045360</td>\n",
       "      <td>0</td>\n",
       "    </tr>\n",
       "    <tr>\n",
       "      <th>2</th>\n",
       "      <td>Bitcoin Cash</td>\n",
       "      <td>-0.024652</td>\n",
       "      <td>2.397895</td>\n",
       "      <td>-0.059112</td>\n",
       "      <td>0</td>\n",
       "    </tr>\n",
       "    <tr>\n",
       "      <th>3</th>\n",
       "      <td>Cardano</td>\n",
       "      <td>0.007612</td>\n",
       "      <td>4.406719</td>\n",
       "      <td>0.033543</td>\n",
       "      <td>0</td>\n",
       "    </tr>\n",
       "    <tr>\n",
       "      <th>4</th>\n",
       "      <td>Dogecoin</td>\n",
       "      <td>0.010754</td>\n",
       "      <td>3.555348</td>\n",
       "      <td>0.038233</td>\n",
       "      <td>0</td>\n",
       "    </tr>\n",
       "    <tr>\n",
       "      <th>5</th>\n",
       "      <td>EOS.IO</td>\n",
       "      <td>0.001879</td>\n",
       "      <td>1.386294</td>\n",
       "      <td>0.002605</td>\n",
       "      <td>0</td>\n",
       "    </tr>\n",
       "    <tr>\n",
       "      <th>6</th>\n",
       "      <td>Ethereum</td>\n",
       "      <td>0.001303</td>\n",
       "      <td>5.894403</td>\n",
       "      <td>0.007680</td>\n",
       "      <td>0</td>\n",
       "    </tr>\n",
       "    <tr>\n",
       "      <th>7</th>\n",
       "      <td>Ethereum Classic</td>\n",
       "      <td>0.017444</td>\n",
       "      <td>2.079442</td>\n",
       "      <td>0.036273</td>\n",
       "      <td>0</td>\n",
       "    </tr>\n",
       "    <tr>\n",
       "      <th>8</th>\n",
       "      <td>IOTA</td>\n",
       "      <td>0.003723</td>\n",
       "      <td>1.098612</td>\n",
       "      <td>0.004090</td>\n",
       "      <td>0</td>\n",
       "    </tr>\n",
       "    <tr>\n",
       "      <th>9</th>\n",
       "      <td>Litecoin</td>\n",
       "      <td>0.006705</td>\n",
       "      <td>2.397895</td>\n",
       "      <td>0.016079</td>\n",
       "      <td>0</td>\n",
       "    </tr>\n",
       "    <tr>\n",
       "      <th>10</th>\n",
       "      <td>Maker</td>\n",
       "      <td>-0.006644</td>\n",
       "      <td>1.098612</td>\n",
       "      <td>-0.007300</td>\n",
       "      <td>0</td>\n",
       "    </tr>\n",
       "    <tr>\n",
       "      <th>11</th>\n",
       "      <td>Monero</td>\n",
       "      <td>0.001456</td>\n",
       "      <td>1.609438</td>\n",
       "      <td>0.002343</td>\n",
       "      <td>0</td>\n",
       "    </tr>\n",
       "    <tr>\n",
       "      <th>12</th>\n",
       "      <td>Stellar</td>\n",
       "      <td>0.028000</td>\n",
       "      <td>2.079442</td>\n",
       "      <td>0.058225</td>\n",
       "      <td>0</td>\n",
       "    </tr>\n",
       "    <tr>\n",
       "      <th>13</th>\n",
       "      <td>TRON</td>\n",
       "      <td>-0.010003</td>\n",
       "      <td>1.791759</td>\n",
       "      <td>-0.017924</td>\n",
       "      <td>0</td>\n",
       "    </tr>\n",
       "  </tbody>\n",
       "</table>\n",
       "</div>"
      ],
      "text/plain": [
       "          Asset_Name      corr    weight  weighted_corr  fold\n",
       "0       Binance Coin -0.002984  4.304065      -0.012841     0\n",
       "1            Bitcoin -0.006690  6.779922      -0.045360     0\n",
       "2       Bitcoin Cash -0.024652  2.397895      -0.059112     0\n",
       "3            Cardano  0.007612  4.406719       0.033543     0\n",
       "4           Dogecoin  0.010754  3.555348       0.038233     0\n",
       "5             EOS.IO  0.001879  1.386294       0.002605     0\n",
       "6           Ethereum  0.001303  5.894403       0.007680     0\n",
       "7   Ethereum Classic  0.017444  2.079442       0.036273     0\n",
       "8               IOTA  0.003723  1.098612       0.004090     0\n",
       "9           Litecoin  0.006705  2.397895       0.016079     0\n",
       "10             Maker -0.006644  1.098612      -0.007300     0\n",
       "11            Monero  0.001456  1.609438       0.002343     0\n",
       "12           Stellar  0.028000  2.079442       0.058225     0\n",
       "13              TRON -0.010003  1.791759      -0.017924     0"
      ]
     },
     "execution_count": 34,
     "metadata": {},
     "output_type": "execute_result"
    }
   ],
   "source": [
    "valid_corrs"
   ]
  },
  {
   "cell_type": "code",
   "execution_count": 31,
   "id": "7e23cf65",
   "metadata": {
    "ExecuteTime": {
     "end_time": "2021-11-10T22:30:47.361487Z",
     "start_time": "2021-11-10T22:30:44.403563Z"
    }
   },
   "outputs": [
    {
     "data": {
      "image/png": "[encoded data removed]",
      "text/plain": [
       "<Figure size 576x360 with 1 Axes>"
      ]
     },
     "metadata": {
      "needs_background": "light"
     },
     "output_type": "display_data"
    }
   ],
   "source": [
    "plt.figure(figsize=(8, 5))\n",
    "sns.barplot(x='Asset_Name', y='corr', data=valid_corrs)\n",
    "plt.xticks(rotation=90);"
   ]
  },
  {
   "cell_type": "code",
   "execution_count": 32,
   "id": "4a0a7a49",
   "metadata": {
    "ExecuteTime": {
     "end_time": "2021-11-10T22:31:46.621383Z",
     "start_time": "2021-11-10T22:30:47.364140Z"
    }
   },
   "outputs": [],
   "source": [
    "fi = pd.concat([pd.DataFrame({'feature': FEATURES,\n",
    "                              'importance': model.feature_importances_,\n",
    "                              'crypto': crypto})\n",
    "                for crypto, model in CRYPTO_MODELS.items()])"
   ]
  },
  {
   "cell_type": "code",
   "execution_count": 33,
   "id": "4512ad00",
   "metadata": {
    "ExecuteTime": {
     "end_time": "2021-11-10T22:31:46.701358Z",
     "start_time": "2021-11-10T22:31:46.623639Z"
    }
   },
   "outputs": [],
   "source": [
    "fi_stats = fi.groupby('feature').describe().sort_values(('importance', 'mean'), ascending=False)"
   ]
  },
  {
   "cell_type": "code",
   "execution_count": 34,
   "id": "4992408e",
   "metadata": {
    "ExecuteTime": {
     "end_time": "2021-11-10T22:31:46.731428Z",
     "start_time": "2021-11-10T22:31:46.703138Z"
    }
   },
   "outputs": [
    {
     "data": {
      "text/html": [
       "<div>\n",
       "<style scoped>\n",
       "    .dataframe tbody tr th:only-of-type {\n",
       "        vertical-align: middle;\n",
       "    }\n",
       "\n",
       "    .dataframe tbody tr th {\n",
       "        vertical-align: top;\n",
       "    }\n",
       "\n",
       "    .dataframe thead tr th {\n",
       "        text-align: left;\n",
       "    }\n",
       "\n",
       "    .dataframe thead tr:last-of-type th {\n",
       "        text-align: right;\n",
       "    }\n",
       "</style>\n",
       "<table border=\"1\" class=\"dataframe\">\n",
       "  <thead>\n",
       "    <tr>\n",
       "      <th></th>\n",
       "      <th colspan=\"8\" halign=\"left\">importance</th>\n",
       "    </tr>\n",
       "    <tr>\n",
       "      <th></th>\n",
       "      <th>count</th>\n",
       "      <th>mean</th>\n",
       "      <th>std</th>\n",
       "      <th>min</th>\n",
       "      <th>25%</th>\n",
       "      <th>50%</th>\n",
       "      <th>75%</th>\n",
       "      <th>max</th>\n",
       "    </tr>\n",
       "    <tr>\n",
       "      <th>feature</th>\n",
       "      <th></th>\n",
       "      <th></th>\n",
       "      <th></th>\n",
       "      <th></th>\n",
       "      <th></th>\n",
       "      <th></th>\n",
       "      <th></th>\n",
       "      <th></th>\n",
       "    </tr>\n",
       "  </thead>\n",
       "  <tbody>\n",
       "    <tr>\n",
       "      <th>VWAP</th>\n",
       "      <td>14.0</td>\n",
       "      <td>0.138886</td>\n",
       "      <td>0.007907</td>\n",
       "      <td>0.123941</td>\n",
       "      <td>0.134401</td>\n",
       "      <td>0.140467</td>\n",
       "      <td>0.143636</td>\n",
       "      <td>0.148870</td>\n",
       "    </tr>\n",
       "    <tr>\n",
       "      <th>Close</th>\n",
       "      <td>14.0</td>\n",
       "      <td>0.127674</td>\n",
       "      <td>0.009724</td>\n",
       "      <td>0.108362</td>\n",
       "      <td>0.122387</td>\n",
       "      <td>0.127368</td>\n",
       "      <td>0.133239</td>\n",
       "      <td>0.146631</td>\n",
       "    </tr>\n",
       "    <tr>\n",
       "      <th>Low</th>\n",
       "      <td>14.0</td>\n",
       "      <td>0.125000</td>\n",
       "      <td>0.010152</td>\n",
       "      <td>0.108856</td>\n",
       "      <td>0.119553</td>\n",
       "      <td>0.125175</td>\n",
       "      <td>0.129925</td>\n",
       "      <td>0.147854</td>\n",
       "    </tr>\n",
       "    <tr>\n",
       "      <th>High</th>\n",
       "      <td>14.0</td>\n",
       "      <td>0.117954</td>\n",
       "      <td>0.007846</td>\n",
       "      <td>0.106020</td>\n",
       "      <td>0.115104</td>\n",
       "      <td>0.116614</td>\n",
       "      <td>0.123069</td>\n",
       "      <td>0.134034</td>\n",
       "    </tr>\n",
       "    <tr>\n",
       "      <th>lower_shador</th>\n",
       "      <td>14.0</td>\n",
       "      <td>0.104643</td>\n",
       "      <td>0.018171</td>\n",
       "      <td>0.054860</td>\n",
       "      <td>0.100117</td>\n",
       "      <td>0.105670</td>\n",
       "      <td>0.111020</td>\n",
       "      <td>0.130897</td>\n",
       "    </tr>\n",
       "    <tr>\n",
       "      <th>upper_shadow</th>\n",
       "      <td>14.0</td>\n",
       "      <td>0.100381</td>\n",
       "      <td>0.017281</td>\n",
       "      <td>0.050835</td>\n",
       "      <td>0.098872</td>\n",
       "      <td>0.100959</td>\n",
       "      <td>0.107076</td>\n",
       "      <td>0.122030</td>\n",
       "    </tr>\n",
       "    <tr>\n",
       "      <th>Open</th>\n",
       "      <td>14.0</td>\n",
       "      <td>0.099647</td>\n",
       "      <td>0.006382</td>\n",
       "      <td>0.088564</td>\n",
       "      <td>0.097126</td>\n",
       "      <td>0.099969</td>\n",
       "      <td>0.102350</td>\n",
       "      <td>0.114775</td>\n",
       "    </tr>\n",
       "    <tr>\n",
       "      <th>Volume</th>\n",
       "      <td>14.0</td>\n",
       "      <td>0.093456</td>\n",
       "      <td>0.012518</td>\n",
       "      <td>0.077855</td>\n",
       "      <td>0.083761</td>\n",
       "      <td>0.089534</td>\n",
       "      <td>0.103775</td>\n",
       "      <td>0.121276</td>\n",
       "    </tr>\n",
       "    <tr>\n",
       "      <th>Count</th>\n",
       "      <td>14.0</td>\n",
       "      <td>0.092359</td>\n",
       "      <td>0.007606</td>\n",
       "      <td>0.082910</td>\n",
       "      <td>0.087369</td>\n",
       "      <td>0.089532</td>\n",
       "      <td>0.094851</td>\n",
       "      <td>0.106558</td>\n",
       "    </tr>\n",
       "  </tbody>\n",
       "</table>\n",
       "</div>"
      ],
      "text/plain": [
       "             importance                                                    \\\n",
       "                  count      mean       std       min       25%       50%   \n",
       "feature                                                                     \n",
       "VWAP               14.0  0.138886  0.007907  0.123941  0.134401  0.140467   \n",
       "Close              14.0  0.127674  0.009724  0.108362  0.122387  0.127368   \n",
       "Low                14.0  0.125000  0.010152  0.108856  0.119553  0.125175   \n",
       "High               14.0  0.117954  0.007846  0.106020  0.115104  0.116614   \n",
       "lower_shador       14.0  0.104643  0.018171  0.054860  0.100117  0.105670   \n",
       "upper_shadow       14.0  0.100381  0.017281  0.050835  0.098872  0.100959   \n",
       "Open               14.0  0.099647  0.006382  0.088564  0.097126  0.099969   \n",
       "Volume             14.0  0.093456  0.012518  0.077855  0.083761  0.089534   \n",
       "Count              14.0  0.092359  0.007606  0.082910  0.087369  0.089532   \n",
       "\n",
       "                                  \n",
       "                   75%       max  \n",
       "feature                           \n",
       "VWAP          0.143636  0.148870  \n",
       "Close         0.133239  0.146631  \n",
       "Low           0.129925  0.147854  \n",
       "High          0.123069  0.134034  \n",
       "lower_shador  0.111020  0.130897  \n",
       "upper_shadow  0.107076  0.122030  \n",
       "Open          0.102350  0.114775  \n",
       "Volume        0.103775  0.121276  \n",
       "Count         0.094851  0.106558  "
      ]
     },
     "execution_count": 34,
     "metadata": {},
     "output_type": "execute_result"
    }
   ],
   "source": [
    "fi_stats"
   ]
  },
  {
   "cell_type": "code",
   "execution_count": 35,
   "id": "972a9381",
   "metadata": {
    "ExecuteTime": {
     "end_time": "2021-11-10T22:31:46.958725Z",
     "start_time": "2021-11-10T22:31:46.733844Z"
    }
   },
   "outputs": [
    {
     "data": {
      "text/plain": [
       "<AxesSubplot:xlabel='importance', ylabel='feature'>"
      ]
     },
     "execution_count": 35,
     "metadata": {},
     "output_type": "execute_result"
    },
    {
     "data": {
      "image/png": "[encoded data removed]",
      "text/plain": [
       "<Figure size 432x288 with 1 Axes>"
      ]
     },
     "metadata": {
      "needs_background": "light"
     },
     "output_type": "display_data"
    }
   ],
   "source": [
    "sns.boxplot(x='importance', y='feature',\n",
    "            data=fi,\n",
    "            order=fi_stats.index)"
   ]
  },
  {
   "cell_type": "code",
   "execution_count": 36,
   "id": "2a91e93f",
   "metadata": {
    "ExecuteTime": {
     "end_time": "2021-11-10T22:31:47.114287Z",
     "start_time": "2021-11-10T22:31:46.960742Z"
    }
   },
   "outputs": [
    {
     "data": {
      "text/html": [
       "<style  type=\"text/css\" >\n",
       "#T_7fabf_row0_col0{\n",
       "            background-color:  #3bbb75;\n",
       "            color:  #000000;\n",
       "        }#T_7fabf_row0_col1{\n",
       "            background-color:  #25848e;\n",
       "            color:  #000000;\n",
       "        }#T_7fabf_row0_col2,#T_7fabf_row1_col7,#T_7fabf_row2_col2,#T_7fabf_row3_col2,#T_7fabf_row4_col2,#T_7fabf_row5_col2,#T_7fabf_row6_col7,#T_7fabf_row7_col8,#T_7fabf_row8_col8{\n",
       "            background-color:  #fde725;\n",
       "            color:  #000000;\n",
       "        }#T_7fabf_row0_col3{\n",
       "            background-color:  #23888e;\n",
       "            color:  #000000;\n",
       "        }#T_7fabf_row0_col4,#T_7fabf_row5_col7{\n",
       "            background-color:  #2f6b8e;\n",
       "            color:  #f1f1f1;\n",
       "        }#T_7fabf_row0_col5,#T_7fabf_row3_col6{\n",
       "            background-color:  #277f8e;\n",
       "            color:  #000000;\n",
       "        }#T_7fabf_row0_col6{\n",
       "            background-color:  #1f978b;\n",
       "            color:  #000000;\n",
       "        }#T_7fabf_row0_col7,#T_7fabf_row3_col0{\n",
       "            background-color:  #38588c;\n",
       "            color:  #f1f1f1;\n",
       "        }#T_7fabf_row0_col8,#T_7fabf_row1_col12,#T_7fabf_row2_col11,#T_7fabf_row3_col8,#T_7fabf_row4_col8,#T_7fabf_row5_col8,#T_7fabf_row6_col12,#T_7fabf_row7_col2,#T_7fabf_row8_col2{\n",
       "            background-color:  #440154;\n",
       "            color:  #f1f1f1;\n",
       "        }#T_7fabf_row0_col9,#T_7fabf_row4_col1{\n",
       "            background-color:  #20a386;\n",
       "            color:  #000000;\n",
       "        }#T_7fabf_row0_col10{\n",
       "            background-color:  #25ab82;\n",
       "            color:  #000000;\n",
       "        }#T_7fabf_row0_col11{\n",
       "            background-color:  #3e4a89;\n",
       "            color:  #f1f1f1;\n",
       "        }#T_7fabf_row0_col12{\n",
       "            background-color:  #86d549;\n",
       "            color:  #000000;\n",
       "        }#T_7fabf_row0_col13,#T_7fabf_row5_col4,#T_7fabf_row5_col12,#T_7fabf_row6_col2{\n",
       "            background-color:  #34b679;\n",
       "            color:  #000000;\n",
       "        }#T_7fabf_row1_col0{\n",
       "            background-color:  #355f8d;\n",
       "            color:  #f1f1f1;\n",
       "        }#T_7fabf_row1_col1{\n",
       "            background-color:  #365c8d;\n",
       "            color:  #f1f1f1;\n",
       "        }#T_7fabf_row1_col2{\n",
       "            background-color:  #1f998a;\n",
       "            color:  #000000;\n",
       "        }#T_7fabf_row1_col3{\n",
       "            background-color:  #38598c;\n",
       "            color:  #f1f1f1;\n",
       "        }#T_7fabf_row1_col4,#T_7fabf_row3_col9,#T_7fabf_row5_col5{\n",
       "            background-color:  #297b8e;\n",
       "            color:  #000000;\n",
       "        }#T_7fabf_row1_col5{\n",
       "            background-color:  #3a538b;\n",
       "            color:  #f1f1f1;\n",
       "        }#T_7fabf_row1_col6{\n",
       "            background-color:  #423f85;\n",
       "            color:  #f1f1f1;\n",
       "        }#T_7fabf_row1_col8,#T_7fabf_row7_col11{\n",
       "            background-color:  #b2dd2d;\n",
       "            color:  #000000;\n",
       "        }#T_7fabf_row1_col9{\n",
       "            background-color:  #46307e;\n",
       "            color:  #f1f1f1;\n",
       "        }#T_7fabf_row1_col10{\n",
       "            background-color:  #433d84;\n",
       "            color:  #f1f1f1;\n",
       "        }#T_7fabf_row1_col11{\n",
       "            background-color:  #dfe318;\n",
       "            color:  #000000;\n",
       "        }#T_7fabf_row1_col13{\n",
       "            background-color:  #424186;\n",
       "            color:  #f1f1f1;\n",
       "        }#T_7fabf_row2_col0{\n",
       "            background-color:  #58c765;\n",
       "            color:  #000000;\n",
       "        }#T_7fabf_row2_col1{\n",
       "            background-color:  #228c8d;\n",
       "            color:  #000000;\n",
       "        }#T_7fabf_row2_col3{\n",
       "            background-color:  #28ae80;\n",
       "            color:  #000000;\n",
       "        }#T_7fabf_row2_col4{\n",
       "            background-color:  #481c6e;\n",
       "            color:  #f1f1f1;\n",
       "        }#T_7fabf_row2_col5{\n",
       "            background-color:  #32648e;\n",
       "            color:  #f1f1f1;\n",
       "        }#T_7fabf_row2_col6{\n",
       "            background-color:  #2f6c8e;\n",
       "            color:  #f1f1f1;\n",
       "        }#T_7fabf_row2_col7{\n",
       "            background-color:  #1e9d89;\n",
       "            color:  #000000;\n",
       "        }#T_7fabf_row2_col8{\n",
       "            background-color:  #481467;\n",
       "            color:  #f1f1f1;\n",
       "        }#T_7fabf_row2_col9{\n",
       "            background-color:  #2a768e;\n",
       "            color:  #f1f1f1;\n",
       "        }#T_7fabf_row2_col10,#T_7fabf_row3_col5,#T_7fabf_row6_col6{\n",
       "            background-color:  #2d708e;\n",
       "            color:  #f1f1f1;\n",
       "        }#T_7fabf_row2_col12,#T_7fabf_row7_col3{\n",
       "            background-color:  #35b779;\n",
       "            color:  #000000;\n",
       "        }#T_7fabf_row2_col13{\n",
       "            background-color:  #306a8e;\n",
       "            color:  #f1f1f1;\n",
       "        }#T_7fabf_row3_col1{\n",
       "            background-color:  #1f9e89;\n",
       "            color:  #000000;\n",
       "        }#T_7fabf_row3_col3{\n",
       "            background-color:  #1fa088;\n",
       "            color:  #000000;\n",
       "        }#T_7fabf_row3_col4{\n",
       "            background-color:  #3b528b;\n",
       "            color:  #f1f1f1;\n",
       "        }#T_7fabf_row3_col7{\n",
       "            background-color:  #218f8d;\n",
       "            color:  #000000;\n",
       "        }#T_7fabf_row3_col10{\n",
       "            background-color:  #375b8d;\n",
       "            color:  #f1f1f1;\n",
       "        }#T_7fabf_row3_col11{\n",
       "            background-color:  #46075a;\n",
       "            color:  #f1f1f1;\n",
       "        }#T_7fabf_row3_col12{\n",
       "            background-color:  #4ec36b;\n",
       "            color:  #000000;\n",
       "        }#T_7fabf_row3_col13{\n",
       "            background-color:  #27808e;\n",
       "            color:  #000000;\n",
       "        }#T_7fabf_row4_col0{\n",
       "            background-color:  #1f958b;\n",
       "            color:  #000000;\n",
       "        }#T_7fabf_row4_col3{\n",
       "            background-color:  #24878e;\n",
       "            color:  #000000;\n",
       "        }#T_7fabf_row4_col4{\n",
       "            background-color:  #443983;\n",
       "            color:  #f1f1f1;\n",
       "        }#T_7fabf_row4_col5{\n",
       "            background-color:  #25858e;\n",
       "            color:  #000000;\n",
       "        }#T_7fabf_row4_col6{\n",
       "            background-color:  #27ad81;\n",
       "            color:  #000000;\n",
       "        }#T_7fabf_row4_col7{\n",
       "            background-color:  #32658e;\n",
       "            color:  #f1f1f1;\n",
       "        }#T_7fabf_row4_col9{\n",
       "            background-color:  #1f968b;\n",
       "            color:  #000000;\n",
       "        }#T_7fabf_row4_col10{\n",
       "            background-color:  #2c738e;\n",
       "            color:  #f1f1f1;\n",
       "        }#T_7fabf_row4_col11{\n",
       "            background-color:  #472e7c;\n",
       "            color:  #f1f1f1;\n",
       "        }#T_7fabf_row4_col12{\n",
       "            background-color:  #31688e;\n",
       "            color:  #f1f1f1;\n",
       "        }#T_7fabf_row4_col13{\n",
       "            background-color:  #287c8e;\n",
       "            color:  #000000;\n",
       "        }#T_7fabf_row5_col0{\n",
       "            background-color:  #bade28;\n",
       "            color:  #000000;\n",
       "        }#T_7fabf_row5_col1{\n",
       "            background-color:  #31b57b;\n",
       "            color:  #000000;\n",
       "        }#T_7fabf_row5_col3,#T_7fabf_row6_col5{\n",
       "            background-color:  #26828e;\n",
       "            color:  #000000;\n",
       "        }#T_7fabf_row5_col6{\n",
       "            background-color:  #75d054;\n",
       "            color:  #000000;\n",
       "        }#T_7fabf_row5_col9{\n",
       "            background-color:  #e7e419;\n",
       "            color:  #000000;\n",
       "        }#T_7fabf_row5_col10{\n",
       "            background-color:  #70cf57;\n",
       "            color:  #000000;\n",
       "        }#T_7fabf_row5_col11{\n",
       "            background-color:  #46085c;\n",
       "            color:  #f1f1f1;\n",
       "        }#T_7fabf_row5_col13{\n",
       "            background-color:  #63cb5f;\n",
       "            color:  #000000;\n",
       "        }#T_7fabf_row6_col0{\n",
       "            background-color:  #482979;\n",
       "            color:  #f1f1f1;\n",
       "        }#T_7fabf_row6_col1{\n",
       "            background-color:  #472a7a;\n",
       "            color:  #f1f1f1;\n",
       "        }#T_7fabf_row6_col3{\n",
       "            background-color:  #424086;\n",
       "            color:  #f1f1f1;\n",
       "        }#T_7fabf_row6_col4{\n",
       "            background-color:  #481a6c;\n",
       "            color:  #f1f1f1;\n",
       "        }#T_7fabf_row6_col8{\n",
       "            background-color:  #2fb47c;\n",
       "            color:  #000000;\n",
       "        }#T_7fabf_row6_col9{\n",
       "            background-color:  #3d4d8a;\n",
       "            color:  #f1f1f1;\n",
       "        }#T_7fabf_row6_col10{\n",
       "            background-color:  #34608d;\n",
       "            color:  #f1f1f1;\n",
       "        }#T_7fabf_row6_col11{\n",
       "            background-color:  #32b67a;\n",
       "            color:  #000000;\n",
       "        }#T_7fabf_row6_col13{\n",
       "            background-color:  #3e4c8a;\n",
       "            color:  #f1f1f1;\n",
       "        }#T_7fabf_row7_col0{\n",
       "            background-color:  #20a486;\n",
       "            color:  #000000;\n",
       "        }#T_7fabf_row7_col1{\n",
       "            background-color:  #37b878;\n",
       "            color:  #000000;\n",
       "        }#T_7fabf_row7_col4{\n",
       "            background-color:  #d2e21b;\n",
       "            color:  #000000;\n",
       "        }#T_7fabf_row7_col5{\n",
       "            background-color:  #42be71;\n",
       "            color:  #000000;\n",
       "        }#T_7fabf_row7_col6{\n",
       "            background-color:  #21a685;\n",
       "            color:  #000000;\n",
       "        }#T_7fabf_row7_col7{\n",
       "            background-color:  #24868e;\n",
       "            color:  #000000;\n",
       "        }#T_7fabf_row7_col9{\n",
       "            background-color:  #26ad81;\n",
       "            color:  #000000;\n",
       "        }#T_7fabf_row7_col10{\n",
       "            background-color:  #5cc863;\n",
       "            color:  #000000;\n",
       "        }#T_7fabf_row7_col12{\n",
       "            background-color:  #23a983;\n",
       "            color:  #000000;\n",
       "        }#T_7fabf_row7_col13,#T_7fabf_row8_col9{\n",
       "            background-color:  #48c16e;\n",
       "            color:  #000000;\n",
       "        }#T_7fabf_row8_col0,#T_7fabf_row8_col13{\n",
       "            background-color:  #38b977;\n",
       "            color:  #000000;\n",
       "        }#T_7fabf_row8_col1{\n",
       "            background-color:  #4cc26c;\n",
       "            color:  #000000;\n",
       "        }#T_7fabf_row8_col3{\n",
       "            background-color:  #52c569;\n",
       "            color:  #000000;\n",
       "        }#T_7fabf_row8_col4{\n",
       "            background-color:  #e5e419;\n",
       "            color:  #000000;\n",
       "        }#T_7fabf_row8_col5{\n",
       "            background-color:  #81d34d;\n",
       "            color:  #000000;\n",
       "        }#T_7fabf_row8_col6{\n",
       "            background-color:  #44bf70;\n",
       "            color:  #000000;\n",
       "        }#T_7fabf_row8_col7{\n",
       "            background-color:  #238a8d;\n",
       "            color:  #000000;\n",
       "        }#T_7fabf_row8_col10{\n",
       "            background-color:  #40bd72;\n",
       "            color:  #000000;\n",
       "        }#T_7fabf_row8_col11{\n",
       "            background-color:  #d0e11c;\n",
       "            color:  #000000;\n",
       "        }#T_7fabf_row8_col12{\n",
       "            background-color:  #3aba76;\n",
       "            color:  #000000;\n",
       "        }</style><table id=\"T_7fabf_\" ><thead>    <tr>        <th class=\"index_name level0\" >crypto</th>        <th class=\"col_heading level0 col0\" >Binance Coin</th>        <th class=\"col_heading level0 col1\" >Bitcoin</th>        <th class=\"col_heading level0 col2\" >Bitcoin Cash</th>        <th class=\"col_heading level0 col3\" >Cardano</th>        <th class=\"col_heading level0 col4\" >Dogecoin</th>        <th class=\"col_heading level0 col5\" >EOS.IO</th>        <th class=\"col_heading level0 col6\" >Ethereum</th>        <th class=\"col_heading level0 col7\" >Ethereum Classic</th>        <th class=\"col_heading level0 col8\" >IOTA</th>        <th class=\"col_heading level0 col9\" >Litecoin</th>        <th class=\"col_heading level0 col10\" >Maker</th>        <th class=\"col_heading level0 col11\" >Monero</th>        <th class=\"col_heading level0 col12\" >Stellar</th>        <th class=\"col_heading level0 col13\" >TRON</th>    </tr>    <tr>        <th class=\"index_name level0\" >feature</th>        <th class=\"blank\" ></th>        <th class=\"blank\" ></th>        <th class=\"blank\" ></th>        <th class=\"blank\" ></th>        <th class=\"blank\" ></th>        <th class=\"blank\" ></th>        <th class=\"blank\" ></th>        <th class=\"blank\" ></th>        <th class=\"blank\" ></th>        <th class=\"blank\" ></th>        <th class=\"blank\" ></th>        <th class=\"blank\" ></th>        <th class=\"blank\" ></th>        <th class=\"blank\" ></th>    </tr></thead><tbody>\n",
       "                <tr>\n",
       "                        <th id=\"T_7fabf_level0_row0\" class=\"row_heading level0 row0\" >Close</th>\n",
       "                        <td id=\"T_7fabf_row0_col0\" class=\"data row0 col0\" >0.134420</td>\n",
       "                        <td id=\"T_7fabf_row0_col1\" class=\"data row0 col1\" >0.125642</td>\n",
       "                        <td id=\"T_7fabf_row0_col2\" class=\"data row0 col2\" >0.146631</td>\n",
       "                        <td id=\"T_7fabf_row0_col3\" class=\"data row0 col3\" >0.126181</td>\n",
       "                        <td id=\"T_7fabf_row0_col4\" class=\"data row0 col4\" >0.121596</td>\n",
       "                        <td id=\"T_7fabf_row0_col5\" class=\"data row0 col5\" >0.124760</td>\n",
       "                        <td id=\"T_7fabf_row0_col6\" class=\"data row0 col6\" >0.128555</td>\n",
       "                        <td id=\"T_7fabf_row0_col7\" class=\"data row0 col7\" >0.118793</td>\n",
       "                        <td id=\"T_7fabf_row0_col8\" class=\"data row0 col8\" >0.108362</td>\n",
       "                        <td id=\"T_7fabf_row0_col9\" class=\"data row0 col9\" >0.130489</td>\n",
       "                        <td id=\"T_7fabf_row0_col10\" class=\"data row0 col10\" >0.131786</td>\n",
       "                        <td id=\"T_7fabf_row0_col11\" class=\"data row0 col11\" >0.116895</td>\n",
       "                        <td id=\"T_7fabf_row0_col12\" class=\"data row0 col12\" >0.139606</td>\n",
       "                        <td id=\"T_7fabf_row0_col13\" class=\"data row0 col13\" >0.133723</td>\n",
       "            </tr>\n",
       "            <tr>\n",
       "                        <th id=\"T_7fabf_level0_row1\" class=\"row_heading level0 row1\" >Count</th>\n",
       "                        <td id=\"T_7fabf_row1_col0\" class=\"data row1 col0\" >0.089961</td>\n",
       "                        <td id=\"T_7fabf_row1_col1\" class=\"data row1 col1\" >0.089676</td>\n",
       "                        <td id=\"T_7fabf_row1_col2\" class=\"data row1 col2\" >0.095575</td>\n",
       "                        <td id=\"T_7fabf_row1_col3\" class=\"data row1 col3\" >0.089388</td>\n",
       "                        <td id=\"T_7fabf_row1_col4\" class=\"data row1 col4\" >0.092681</td>\n",
       "                        <td id=\"T_7fabf_row1_col5\" class=\"data row1 col5\" >0.088964</td>\n",
       "                        <td id=\"T_7fabf_row1_col6\" class=\"data row1 col6\" >0.087324</td>\n",
       "                        <td id=\"T_7fabf_row1_col7\" class=\"data row1 col7\" >0.106558</td>\n",
       "                        <td id=\"T_7fabf_row1_col8\" class=\"data row1 col8\" >0.103853</td>\n",
       "                        <td id=\"T_7fabf_row1_col9\" class=\"data row1 col9\" >0.086146</td>\n",
       "                        <td id=\"T_7fabf_row1_col10\" class=\"data row1 col10\" >0.087091</td>\n",
       "                        <td id=\"T_7fabf_row1_col11\" class=\"data row1 col11\" >0.105398</td>\n",
       "                        <td id=\"T_7fabf_row1_col12\" class=\"data row1 col12\" >0.082910</td>\n",
       "                        <td id=\"T_7fabf_row1_col13\" class=\"data row1 col13\" >0.087503</td>\n",
       "            </tr>\n",
       "            <tr>\n",
       "                        <th id=\"T_7fabf_level0_row2\" class=\"row_heading level0 row2\" >High</th>\n",
       "                        <td id=\"T_7fabf_row2_col0\" class=\"data row2 col0\" >0.126728</td>\n",
       "                        <td id=\"T_7fabf_row2_col1\" class=\"data row2 col1\" >0.119548</td>\n",
       "                        <td id=\"T_7fabf_row2_col2\" class=\"data row2 col2\" >0.134034</td>\n",
       "                        <td id=\"T_7fabf_row2_col3\" class=\"data row2 col3\" >0.123587</td>\n",
       "                        <td id=\"T_7fabf_row2_col4\" class=\"data row2 col4\" >0.108124</td>\n",
       "                        <td id=\"T_7fabf_row2_col5\" class=\"data row2 col5\" >0.114958</td>\n",
       "                        <td id=\"T_7fabf_row2_col6\" class=\"data row2 col6\" >0.115859</td>\n",
       "                        <td id=\"T_7fabf_row2_col7\" class=\"data row2 col7\" >0.121513</td>\n",
       "                        <td id=\"T_7fabf_row2_col8\" class=\"data row2 col8\" >0.107482</td>\n",
       "                        <td id=\"T_7fabf_row2_col9\" class=\"data row2 col9\" >0.116986</td>\n",
       "                        <td id=\"T_7fabf_row2_col10\" class=\"data row2 col10\" >0.116243</td>\n",
       "                        <td id=\"T_7fabf_row2_col11\" class=\"data row2 col11\" >0.106020</td>\n",
       "                        <td id=\"T_7fabf_row2_col12\" class=\"data row2 col12\" >0.124732</td>\n",
       "                        <td id=\"T_7fabf_row2_col13\" class=\"data row2 col13\" >0.115542</td>\n",
       "            </tr>\n",
       "            <tr>\n",
       "                        <th id=\"T_7fabf_level0_row3\" class=\"row_heading level0 row3\" >Low</th>\n",
       "                        <td id=\"T_7fabf_row3_col0\" class=\"data row3 col0\" >0.119440</td>\n",
       "                        <td id=\"T_7fabf_row3_col1\" class=\"data row3 col1\" >0.130538</td>\n",
       "                        <td id=\"T_7fabf_row3_col2\" class=\"data row3 col2\" >0.147854</td>\n",
       "                        <td id=\"T_7fabf_row3_col3\" class=\"data row3 col3\" >0.130868</td>\n",
       "                        <td id=\"T_7fabf_row3_col4\" class=\"data row3 col4\" >0.118741</td>\n",
       "                        <td id=\"T_7fabf_row3_col5\" class=\"data row3 col5\" >0.123087</td>\n",
       "                        <td id=\"T_7fabf_row3_col6\" class=\"data row3 col6\" >0.125496</td>\n",
       "                        <td id=\"T_7fabf_row3_col7\" class=\"data row3 col7\" >0.128087</td>\n",
       "                        <td id=\"T_7fabf_row3_col8\" class=\"data row3 col8\" >0.108856</td>\n",
       "                        <td id=\"T_7fabf_row3_col9\" class=\"data row3 col9\" >0.124855</td>\n",
       "                        <td id=\"T_7fabf_row3_col10\" class=\"data row3 col10\" >0.119891</td>\n",
       "                        <td id=\"T_7fabf_row3_col11\" class=\"data row3 col11\" >0.109608</td>\n",
       "                        <td id=\"T_7fabf_row3_col12\" class=\"data row3 col12\" >0.137037</td>\n",
       "                        <td id=\"T_7fabf_row3_col13\" class=\"data row3 col13\" >0.125646</td>\n",
       "            </tr>\n",
       "            <tr>\n",
       "                        <th id=\"T_7fabf_level0_row4\" class=\"row_heading level0 row4\" >Open</th>\n",
       "                        <td id=\"T_7fabf_row4_col0\" class=\"data row4 col0\" >0.102243</td>\n",
       "                        <td id=\"T_7fabf_row4_col1\" class=\"data row4 col1\" >0.103726</td>\n",
       "                        <td id=\"T_7fabf_row4_col2\" class=\"data row4 col2\" >0.114775</td>\n",
       "                        <td id=\"T_7fabf_row4_col3\" class=\"data row4 col3\" >0.100680</td>\n",
       "                        <td id=\"T_7fabf_row4_col4\" class=\"data row4 col4\" >0.092875</td>\n",
       "                        <td id=\"T_7fabf_row4_col5\" class=\"data row4 col5\" >0.100502</td>\n",
       "                        <td id=\"T_7fabf_row4_col6\" class=\"data row4 col6\" >0.104896</td>\n",
       "                        <td id=\"T_7fabf_row4_col7\" class=\"data row4 col7\" >0.097058</td>\n",
       "                        <td id=\"T_7fabf_row4_col8\" class=\"data row4 col8\" >0.088564</td>\n",
       "                        <td id=\"T_7fabf_row4_col9\" class=\"data row4 col9\" >0.102386</td>\n",
       "                        <td id=\"T_7fabf_row4_col10\" class=\"data row4 col10\" >0.098591</td>\n",
       "                        <td id=\"T_7fabf_row4_col11\" class=\"data row4 col11\" >0.092001</td>\n",
       "                        <td id=\"T_7fabf_row4_col12\" class=\"data row4 col12\" >0.097329</td>\n",
       "                        <td id=\"T_7fabf_row4_col13\" class=\"data row4 col13\" >0.099436</td>\n",
       "            </tr>\n",
       "            <tr>\n",
       "                        <th id=\"T_7fabf_level0_row5\" class=\"row_heading level0 row5\" >VWAP</th>\n",
       "                        <td id=\"T_7fabf_row5_col0\" class=\"data row5 col0\" >0.146299</td>\n",
       "                        <td id=\"T_7fabf_row5_col1\" class=\"data row5 col1\" >0.140248</td>\n",
       "                        <td id=\"T_7fabf_row5_col2\" class=\"data row5 col2\" >0.148870</td>\n",
       "                        <td id=\"T_7fabf_row5_col3\" class=\"data row5 col3\" >0.134937</td>\n",
       "                        <td id=\"T_7fabf_row5_col4\" class=\"data row5 col4\" >0.140462</td>\n",
       "                        <td id=\"T_7fabf_row5_col5\" class=\"data row5 col5\" >0.134222</td>\n",
       "                        <td id=\"T_7fabf_row5_col6\" class=\"data row5 col6\" >0.143683</td>\n",
       "                        <td id=\"T_7fabf_row5_col7\" class=\"data row5 col7\" >0.132534</td>\n",
       "                        <td id=\"T_7fabf_row5_col8\" class=\"data row5 col8\" >0.123941</td>\n",
       "                        <td id=\"T_7fabf_row5_col9\" class=\"data row5 col9\" >0.147946</td>\n",
       "                        <td id=\"T_7fabf_row5_col10\" class=\"data row5 col10\" >0.143495</td>\n",
       "                        <td id=\"T_7fabf_row5_col11\" class=\"data row5 col11\" >0.124455</td>\n",
       "                        <td id=\"T_7fabf_row5_col12\" class=\"data row5 col12\" >0.140473</td>\n",
       "                        <td id=\"T_7fabf_row5_col13\" class=\"data row5 col13\" >0.142837</td>\n",
       "            </tr>\n",
       "            <tr>\n",
       "                        <th id=\"T_7fabf_level0_row6\" class=\"row_heading level0 row6\" >Volume</th>\n",
       "                        <td id=\"T_7fabf_row6_col0\" class=\"data row6 col0\" >0.082795</td>\n",
       "                        <td id=\"T_7fabf_row6_col1\" class=\"data row6 col1\" >0.082996</td>\n",
       "                        <td id=\"T_7fabf_row6_col2\" class=\"data row6 col2\" >0.106566</td>\n",
       "                        <td id=\"T_7fabf_row6_col3\" class=\"data row6 col3\" >0.086056</td>\n",
       "                        <td id=\"T_7fabf_row6_col4\" class=\"data row6 col4\" >0.080774</td>\n",
       "                        <td id=\"T_7fabf_row6_col5\" class=\"data row6 col5\" >0.097055</td>\n",
       "                        <td id=\"T_7fabf_row6_col6\" class=\"data row6 col6\" >0.093681</td>\n",
       "                        <td id=\"T_7fabf_row6_col7\" class=\"data row6 col7\" >0.121276</td>\n",
       "                        <td id=\"T_7fabf_row6_col8\" class=\"data row6 col8\" >0.106015</td>\n",
       "                        <td id=\"T_7fabf_row6_col9\" class=\"data row6 col9\" >0.087988</td>\n",
       "                        <td id=\"T_7fabf_row6_col10\" class=\"data row6 col10\" >0.091079</td>\n",
       "                        <td id=\"T_7fabf_row6_col11\" class=\"data row6 col11\" >0.106508</td>\n",
       "                        <td id=\"T_7fabf_row6_col12\" class=\"data row6 col12\" >0.077855</td>\n",
       "                        <td id=\"T_7fabf_row6_col13\" class=\"data row6 col13\" >0.087744</td>\n",
       "            </tr>\n",
       "            <tr>\n",
       "                        <th id=\"T_7fabf_level0_row7\" class=\"row_heading level0 row7\" >lower_shador</th>\n",
       "                        <td id=\"T_7fabf_row7_col0\" class=\"data row7 col0\" >0.099354</td>\n",
       "                        <td id=\"T_7fabf_row7_col1\" class=\"data row7 col1\" >0.105800</td>\n",
       "                        <td id=\"T_7fabf_row7_col2\" class=\"data row7 col2\" >0.054860</td>\n",
       "                        <td id=\"T_7fabf_row7_col3\" class=\"data row7 col3\" >0.105539</td>\n",
       "                        <td id=\"T_7fabf_row7_col4\" class=\"data row7 col4\" >0.125609</td>\n",
       "                        <td id=\"T_7fabf_row7_col5\" class=\"data row7 col5\" >0.107940</td>\n",
       "                        <td id=\"T_7fabf_row7_col6\" class=\"data row7 col6\" >0.099856</td>\n",
       "                        <td id=\"T_7fabf_row7_col7\" class=\"data row7 col7\" >0.089613</td>\n",
       "                        <td id=\"T_7fabf_row7_col8\" class=\"data row7 col8\" >0.130897</td>\n",
       "                        <td id=\"T_7fabf_row7_col9\" class=\"data row7 col9\" >0.101936</td>\n",
       "                        <td id=\"T_7fabf_row7_col10\" class=\"data row7 col10\" >0.111762</td>\n",
       "                        <td id=\"T_7fabf_row7_col11\" class=\"data row7 col11\" >0.122139</td>\n",
       "                        <td id=\"T_7fabf_row7_col12\" class=\"data row7 col12\" >0.100897</td>\n",
       "                        <td id=\"T_7fabf_row7_col13\" class=\"data row7 col13\" >0.108794</td>\n",
       "            </tr>\n",
       "            <tr>\n",
       "                        <th id=\"T_7fabf_level0_row8\" class=\"row_heading level0 row8\" >upper_shadow</th>\n",
       "                        <td id=\"T_7fabf_row8_col0\" class=\"data row8 col0\" >0.098760</td>\n",
       "                        <td id=\"T_7fabf_row8_col1\" class=\"data row8 col1\" >0.101826</td>\n",
       "                        <td id=\"T_7fabf_row8_col2\" class=\"data row8 col2\" >0.050835</td>\n",
       "                        <td id=\"T_7fabf_row8_col3\" class=\"data row8 col3\" >0.102764</td>\n",
       "                        <td id=\"T_7fabf_row8_col4\" class=\"data row8 col4\" >0.119138</td>\n",
       "                        <td id=\"T_7fabf_row8_col5\" class=\"data row8 col5\" >0.108513</td>\n",
       "                        <td id=\"T_7fabf_row8_col6\" class=\"data row8 col6\" >0.100650</td>\n",
       "                        <td id=\"T_7fabf_row8_col7\" class=\"data row8 col7\" >0.084567</td>\n",
       "                        <td id=\"T_7fabf_row8_col8\" class=\"data row8 col8\" >0.122030</td>\n",
       "                        <td id=\"T_7fabf_row8_col9\" class=\"data row8 col9\" >0.101269</td>\n",
       "                        <td id=\"T_7fabf_row8_col10\" class=\"data row8 col10\" >0.100061</td>\n",
       "                        <td id=\"T_7fabf_row8_col11\" class=\"data row8 col11\" >0.116977</td>\n",
       "                        <td id=\"T_7fabf_row8_col12\" class=\"data row8 col12\" >0.099161</td>\n",
       "                        <td id=\"T_7fabf_row8_col13\" class=\"data row8 col13\" >0.098776</td>\n",
       "            </tr>\n",
       "    </tbody></table>"
      ],
      "text/plain": [
       "<pandas.io.formats.style.Styler at 0x7fd9e0db4e50>"
      ]
     },
     "execution_count": 36,
     "metadata": {},
     "output_type": "execute_result"
    }
   ],
   "source": [
    "fi_crypto_table = fi.pivot('feature', 'crypto', 'importance')\n",
    "fi_crypto_table.style.background_gradient(cmap=\"viridis\", axis=1)\n"
   ]
  },
  {
   "cell_type": "code",
   "execution_count": 38,
   "id": "3c7f6d90",
   "metadata": {
    "ExecuteTime": {
     "end_time": "2021-11-10T22:33:26.069665Z",
     "start_time": "2021-11-10T22:33:24.784295Z"
    }
   },
   "outputs": [],
   "source": [
    "if SAMPLE_LEVEL == 0:\n",
    "    scores_mean = cv_scores.mean().to_dict()\n",
    "    valid_corrs.to_csv(OUTPUT_PATH / 'corrs.csv', index=False)\n",
    "\n",
    "    cv_scores.to_csv(OUTPUT_PATH / 'cv_scores.csv', index=False)\n",
    "\n",
    "    _config = {'model': MODEL_PARAMS}\n",
    "    track_experiment('model-per-crypto', mlflow_experiment='leaderboard',\n",
    "                     config=_config,\n",
    "                     scores=scores_mean, artifacts_dir=str(OUTPUT_PATH))"
   ]
  },
  {
   "cell_type": "code",
   "execution_count": null,
   "id": "3f5dae30",
   "metadata": {},
   "outputs": [],
   "source": []
  }
 ],
 "metadata": {
  "kernelspec": {
   "display_name": "Python 3 (ipykernel)",
   "language": "python",
   "name": "python3"
  },
  "language_info": {
   "codemirror_mode": {
    "name": "ipython",
    "version": 3
   },
   "file_extension": ".py",
   "mimetype": "text/x-python",
   "name": "python",
   "nbconvert_exporter": "python",
   "pygments_lexer": "ipython3",
   "version": "3.7.11"
  },
  "toc": {
   "base_numbering": 1,
   "nav_menu": {},
   "number_sections": true,
   "sideBar": true,
   "skip_h1_title": false,
   "title_cell": "Table of Contents",
   "title_sidebar": "Contents",
   "toc_cell": false,
   "toc_position": {},
   "toc_section_display": true,
   "toc_window_display": false
  }
 },
 "nbformat": 4,
 "nbformat_minor": 5
}
