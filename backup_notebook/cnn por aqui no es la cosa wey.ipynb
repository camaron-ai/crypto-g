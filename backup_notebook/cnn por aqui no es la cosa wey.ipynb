{
 "cells": [
  {
   "cell_type": "code",
   "execution_count": 1,
   "id": "33f16f59",
   "metadata": {
    "ExecuteTime": {
     "end_time": "2021-11-14T14:26:47.842021Z",
     "start_time": "2021-11-14T14:26:47.824588Z"
    }
   },
   "outputs": [],
   "source": [
    "%load_ext autoreload\n",
    "%autoreload 2"
   ]
  },
  {
   "cell_type": "code",
   "execution_count": 2,
   "id": "f255bb4e",
   "metadata": {
    "ExecuteTime": {
     "end_time": "2021-11-14T14:26:48.541876Z",
     "start_time": "2021-11-14T14:26:47.844796Z"
    }
   },
   "outputs": [],
   "source": [
    "import pandas as pd\n",
    "import numpy as np\n",
    "from matplotlib import pyplot as plt\n",
    "import seaborn as sns\n",
    "from pathlib import Path\n",
    "import os\n",
    "import sys\n",
    "from IPython.display import display"
   ]
  },
  {
   "cell_type": "code",
   "execution_count": 3,
   "id": "136f5247",
   "metadata": {
    "ExecuteTime": {
     "end_time": "2021-11-14T14:26:48.558866Z",
     "start_time": "2021-11-14T14:26:48.544504Z"
    }
   },
   "outputs": [],
   "source": [
    "def on_kaggle() -> bool:\n",
    "    try:\n",
    "        import gresearch_crypto\n",
    "        return True\n",
    "    except ModuleNotFoundError:\n",
    "        return False"
   ]
  },
  {
   "cell_type": "code",
   "execution_count": 4,
   "id": "432ba6ef",
   "metadata": {
    "ExecuteTime": {
     "end_time": "2021-11-14T14:26:48.577545Z",
     "start_time": "2021-11-14T14:26:48.561743Z"
    }
   },
   "outputs": [],
   "source": [
    "# HYPER PARAMETERS\n",
    "ON_KAGGLE = on_kaggle()\n",
    "SAMPLE_LEVEL = 1\n",
    "USE_SAMPLE = SAMPLE_LEVEL == 1\n",
    "USE_TOY_SAMPLE = SAMPLE_LEVEL == 2\n",
    "\n",
    "FORCE_REWRITE = True#(ON_KAGGLE and SAMPLE_LEVEL == 0)"
   ]
  },
  {
   "cell_type": "code",
   "execution_count": 5,
   "id": "3ee2a957",
   "metadata": {
    "ExecuteTime": {
     "end_time": "2021-11-14T14:26:48.595016Z",
     "start_time": "2021-11-14T14:26:48.579473Z"
    }
   },
   "outputs": [],
   "source": [
    "if not ON_KAGGLE and os.path.abspath('.').endswith('notebook'):\n",
    "    os.chdir('../')"
   ]
  },
  {
   "cell_type": "code",
   "execution_count": 6,
   "id": "eee46e84",
   "metadata": {
    "ExecuteTime": {
     "end_time": "2021-11-14T14:26:48.842182Z",
     "start_time": "2021-11-14T14:26:48.596613Z"
    }
   },
   "outputs": [],
   "source": [
    "#IMPORT_SCRIPT!\n",
    "# THIS CELL WILL BE REMOVE WITH SCRIPTS IN SRC\n",
    "if './src/' not in sys.path:\n",
    "    sys.path.append('./src/')\n",
    "\n",
    "from preprocessing import *\n",
    "from metrics import *\n",
    "from cv import *\n",
    "from modeling import *\n",
    "from tracking import track_experiment\n",
    "import util"
   ]
  },
  {
   "cell_type": "code",
   "execution_count": 7,
   "id": "5dcd141e",
   "metadata": {
    "ExecuteTime": {
     "end_time": "2021-11-14T14:26:48.863273Z",
     "start_time": "2021-11-14T14:26:48.844213Z"
    }
   },
   "outputs": [],
   "source": [
    "if ON_KAGGLE:\n",
    "    RAW_DIR = Path('../input/g-research-crypto-forecasting/')\n",
    "    SAMPLE_DIR = Path('../input/create-sample-dataset/data/raw/sample/')\n",
    "    TOY_SAMPLE_DIR = Path('../input/create-sample-dataset/data/raw/toy_sample/')\n",
    "else:\n",
    "    RAW_DIR =  Path('data/raw')\n",
    "    TOY_SAMPLE_DIR = RAW_DIR.joinpath('toy_sample')\n",
    "    SAMPLE_DIR = RAW_DIR.joinpath('sample')\n",
    "\n",
    "# filename\n",
    "TRAIN_FILE = 'train.csv'\n",
    "ASSET_DETAILS_PATH = RAW_DIR / 'asset_details.csv'"
   ]
  },
  {
   "cell_type": "code",
   "execution_count": 8,
   "id": "74f7a9ab",
   "metadata": {
    "ExecuteTime": {
     "end_time": "2021-11-14T14:26:48.888227Z",
     "start_time": "2021-11-14T14:26:48.865336Z"
    }
   },
   "outputs": [
    {
     "name": "stdout",
     "output_type": "stream",
     "text": [
      "USING SAMPLE DATASET\n"
     ]
    }
   ],
   "source": [
    "if USE_TOY_SAMPLE:\n",
    "    print('USING TOY DATASET')\n",
    "    RAW_TRAIN_PATH = TOY_SAMPLE_DIR / TRAIN_FILE\n",
    "\n",
    "elif USE_SAMPLE:\n",
    "    print('USING SAMPLE DATASET')\n",
    "    RAW_TRAIN_PATH = SAMPLE_DIR / TRAIN_FILE\n",
    "\n",
    "else:\n",
    "    print('USING RAW DATASET')\n",
    "    RAW_TRAIN_PATH = RAW_DIR / TRAIN_FILE\n",
    "\n",
    "assert RAW_TRAIN_PATH.exists()"
   ]
  },
  {
   "cell_type": "code",
   "execution_count": 9,
   "id": "28ef35af",
   "metadata": {
    "ExecuteTime": {
     "end_time": "2021-11-14T14:26:49.034360Z",
     "start_time": "2021-11-14T14:26:48.890505Z"
    }
   },
   "outputs": [
    {
     "name": "stdout",
     "output_type": "stream",
     "text": [
      "asset_details.csv\t\t   sample\r\n",
      "example_sample_submission.csv\t   supplemental_train.csv\r\n",
      "example_test.csv\t\t   toy_sample\r\n",
      "g-research-crypto-forecasting.zip  train.csv\r\n",
      "gresearch_crypto\r\n"
     ]
    }
   ],
   "source": [
    "!ls {RAW_DIR}"
   ]
  },
  {
   "cell_type": "code",
   "execution_count": 10,
   "id": "4b479f0e",
   "metadata": {
    "ExecuteTime": {
     "end_time": "2021-11-14T14:26:55.496704Z",
     "start_time": "2021-11-14T14:26:49.040634Z"
    },
    "scrolled": true
   },
   "outputs": [
    {
     "name": "stdout",
     "output_type": "stream",
     "text": [
      "CPU times: user 5.71 s, sys: 719 ms, total: 6.43 s\n",
      "Wall time: 6.43 s\n"
     ]
    }
   ],
   "source": [
    "%%time \n",
    "raw_df = pd.read_csv(RAW_TRAIN_PATH)"
   ]
  },
  {
   "cell_type": "code",
   "execution_count": 11,
   "id": "5be54336",
   "metadata": {
    "ExecuteTime": {
     "end_time": "2021-11-14T14:26:57.326379Z",
     "start_time": "2021-11-14T14:26:55.500342Z"
    }
   },
   "outputs": [],
   "source": [
    "raw_df = ingest_data(raw_df, asset_details_path=ASSET_DETAILS_PATH)"
   ]
  },
  {
   "cell_type": "code",
   "execution_count": 12,
   "id": "d1722287",
   "metadata": {
    "ExecuteTime": {
     "end_time": "2021-11-14T14:26:59.270692Z",
     "start_time": "2021-11-14T14:26:57.328352Z"
    }
   },
   "outputs": [],
   "source": [
    "raw_df.sort_values(by=['Asset_ID', 'time'], inplace=True)\n",
    "raw_df.reset_index(drop=True, inplace=True)"
   ]
  },
  {
   "cell_type": "code",
   "execution_count": 13,
   "id": "3f9f8d35",
   "metadata": {
    "ExecuteTime": {
     "end_time": "2021-11-14T14:26:59.309633Z",
     "start_time": "2021-11-14T14:26:59.272797Z"
    },
    "scrolled": true
   },
   "outputs": [
    {
     "data": {
      "text/html": [
       "<div>\n",
       "<style scoped>\n",
       "    .dataframe tbody tr th:only-of-type {\n",
       "        vertical-align: middle;\n",
       "    }\n",
       "\n",
       "    .dataframe tbody tr th {\n",
       "        vertical-align: top;\n",
       "    }\n",
       "\n",
       "    .dataframe thead th {\n",
       "        text-align: right;\n",
       "    }\n",
       "</style>\n",
       "<table border=\"1\" class=\"dataframe\">\n",
       "  <thead>\n",
       "    <tr style=\"text-align: right;\">\n",
       "      <th></th>\n",
       "      <th>timestamp</th>\n",
       "      <th>Asset_ID</th>\n",
       "      <th>Count</th>\n",
       "      <th>Open</th>\n",
       "      <th>High</th>\n",
       "      <th>Low</th>\n",
       "      <th>Close</th>\n",
       "      <th>Volume</th>\n",
       "      <th>VWAP</th>\n",
       "      <th>Target</th>\n",
       "      <th>Asset_Name</th>\n",
       "      <th>time</th>\n",
       "    </tr>\n",
       "  </thead>\n",
       "  <tbody>\n",
       "    <tr>\n",
       "      <th>0</th>\n",
       "      <td>1609459260</td>\n",
       "      <td>0</td>\n",
       "      <td>219.0</td>\n",
       "      <td>37.384998</td>\n",
       "      <td>37.422100</td>\n",
       "      <td>37.348701</td>\n",
       "      <td>37.389000</td>\n",
       "      <td>2749.5692</td>\n",
       "      <td>37.387058</td>\n",
       "      <td>-0.001669</td>\n",
       "      <td>Binance Coin</td>\n",
       "      <td>2021-01-01 00:01:00</td>\n",
       "    </tr>\n",
       "    <tr>\n",
       "      <th>1</th>\n",
       "      <td>1609459320</td>\n",
       "      <td>0</td>\n",
       "      <td>133.0</td>\n",
       "      <td>37.390499</td>\n",
       "      <td>37.402000</td>\n",
       "      <td>37.329800</td>\n",
       "      <td>37.331299</td>\n",
       "      <td>778.8680</td>\n",
       "      <td>37.351677</td>\n",
       "      <td>-0.001542</td>\n",
       "      <td>Binance Coin</td>\n",
       "      <td>2021-01-01 00:02:00</td>\n",
       "    </tr>\n",
       "    <tr>\n",
       "      <th>2</th>\n",
       "      <td>1609459380</td>\n",
       "      <td>0</td>\n",
       "      <td>151.0</td>\n",
       "      <td>37.317051</td>\n",
       "      <td>37.336700</td>\n",
       "      <td>37.272900</td>\n",
       "      <td>37.291500</td>\n",
       "      <td>890.9210</td>\n",
       "      <td>37.301258</td>\n",
       "      <td>-0.001028</td>\n",
       "      <td>Binance Coin</td>\n",
       "      <td>2021-01-01 00:03:00</td>\n",
       "    </tr>\n",
       "    <tr>\n",
       "      <th>3</th>\n",
       "      <td>1609459440</td>\n",
       "      <td>0</td>\n",
       "      <td>123.0</td>\n",
       "      <td>37.299149</td>\n",
       "      <td>37.323002</td>\n",
       "      <td>37.250198</td>\n",
       "      <td>37.291901</td>\n",
       "      <td>489.9361</td>\n",
       "      <td>37.297272</td>\n",
       "      <td>0.000174</td>\n",
       "      <td>Binance Coin</td>\n",
       "      <td>2021-01-01 00:04:00</td>\n",
       "    </tr>\n",
       "    <tr>\n",
       "      <th>4</th>\n",
       "      <td>1609459500</td>\n",
       "      <td>0</td>\n",
       "      <td>623.0</td>\n",
       "      <td>37.212799</td>\n",
       "      <td>37.285000</td>\n",
       "      <td>37.104801</td>\n",
       "      <td>37.213001</td>\n",
       "      <td>15144.3836</td>\n",
       "      <td>37.184082</td>\n",
       "      <td>0.000950</td>\n",
       "      <td>Binance Coin</td>\n",
       "      <td>2021-01-01 00:05:00</td>\n",
       "    </tr>\n",
       "  </tbody>\n",
       "</table>\n",
       "</div>"
      ],
      "text/plain": [
       "    timestamp  Asset_ID  Count       Open       High        Low      Close  \\\n",
       "0  1609459260         0  219.0  37.384998  37.422100  37.348701  37.389000   \n",
       "1  1609459320         0  133.0  37.390499  37.402000  37.329800  37.331299   \n",
       "2  1609459380         0  151.0  37.317051  37.336700  37.272900  37.291500   \n",
       "3  1609459440         0  123.0  37.299149  37.323002  37.250198  37.291901   \n",
       "4  1609459500         0  623.0  37.212799  37.285000  37.104801  37.213001   \n",
       "\n",
       "       Volume       VWAP    Target    Asset_Name                time  \n",
       "0   2749.5692  37.387058 -0.001669  Binance Coin 2021-01-01 00:01:00  \n",
       "1    778.8680  37.351677 -0.001542  Binance Coin 2021-01-01 00:02:00  \n",
       "2    890.9210  37.301258 -0.001028  Binance Coin 2021-01-01 00:03:00  \n",
       "3    489.9361  37.297272  0.000174  Binance Coin 2021-01-01 00:04:00  \n",
       "4  15144.3836  37.184082  0.000950  Binance Coin 2021-01-01 00:05:00  "
      ]
     },
     "execution_count": 13,
     "metadata": {},
     "output_type": "execute_result"
    }
   ],
   "source": [
    "raw_df.head()"
   ]
  },
  {
   "cell_type": "code",
   "execution_count": 14,
   "id": "4f7747d4",
   "metadata": {
    "ExecuteTime": {
     "end_time": "2021-11-14T14:26:59.332481Z",
     "start_time": "2021-11-14T14:26:59.312673Z"
    }
   },
   "outputs": [],
   "source": [
    "TARGET = 'Target'\n",
    "INDEX_COLS = ['Asset_ID', 'Asset_Name', 'date', 'timestamp']"
   ]
  },
  {
   "cell_type": "code",
   "execution_count": 15,
   "id": "fc2e0fa0",
   "metadata": {
    "ExecuteTime": {
     "end_time": "2021-11-14T14:26:59.352852Z",
     "start_time": "2021-11-14T14:26:59.334516Z"
    }
   },
   "outputs": [],
   "source": [
    "RAW_FEATURES = ['Count', 'Open', 'High', 'Low', 'Close',\n",
    "                'Volume', 'VWAP']"
   ]
  },
  {
   "cell_type": "code",
   "execution_count": 16,
   "id": "593562e6",
   "metadata": {
    "ExecuteTime": {
     "end_time": "2021-11-14T14:26:59.541324Z",
     "start_time": "2021-11-14T14:26:59.356807Z"
    }
   },
   "outputs": [],
   "source": [
    "crypto_data = raw_df.query(\"Asset_Name == 'Binance Coin'\")"
   ]
  },
  {
   "cell_type": "code",
   "execution_count": 17,
   "id": "190b158a",
   "metadata": {
    "ExecuteTime": {
     "end_time": "2021-11-14T14:26:59.562923Z",
     "start_time": "2021-11-14T14:26:59.544517Z"
    }
   },
   "outputs": [],
   "source": [
    "def create_valid_date_range(data: pd.DataFrame, dt_col: str = 'time'):\n",
    "    first_date, end_date = data[dt_col].agg(('min', 'max'))\n",
    "    date_range = pd.date_range(first_date, end_date, freq='min')\n",
    "    return date_range\n",
    "    \n",
    "def fill_gaps(data: pd.DataFrame, dt_col: str = 'time'):\n",
    "    valid_date_range = create_valid_date_range(data, dt_col)\n",
    "    data = data.set_index(dt_col)\n",
    "    filled_data = data.reindex(valid_date_range)\n",
    "    return filled_data.reset_index().rename(columns={'index': dt_col})"
   ]
  },
  {
   "cell_type": "code",
   "execution_count": 18,
   "id": "ae424fec",
   "metadata": {
    "ExecuteTime": {
     "end_time": "2021-11-14T14:26:59.655160Z",
     "start_time": "2021-11-14T14:26:59.565585Z"
    }
   },
   "outputs": [],
   "source": [
    "data = fill_gaps(crypto_data)"
   ]
  },
  {
   "cell_type": "code",
   "execution_count": 19,
   "id": "5c71edd5",
   "metadata": {
    "ExecuteTime": {
     "end_time": "2021-11-14T14:26:59.678089Z",
     "start_time": "2021-11-14T14:26:59.657153Z"
    }
   },
   "outputs": [],
   "source": [
    "TARGET = 'Target'"
   ]
  },
  {
   "cell_type": "code",
   "execution_count": 20,
   "id": "0996919c",
   "metadata": {
    "ExecuteTime": {
     "end_time": "2021-11-14T14:26:59.709128Z",
     "start_time": "2021-11-14T14:26:59.680184Z"
    }
   },
   "outputs": [],
   "source": [
    "# fillnan with 0\n",
    "data[TARGET] = data[TARGET].fillna(0)\n",
    "\n",
    "data.fillna({f: 0 for f in RAW_FEATURES}, inplace=True)"
   ]
  },
  {
   "cell_type": "code",
   "execution_count": 21,
   "id": "5c18a5c4",
   "metadata": {
    "ExecuteTime": {
     "end_time": "2021-11-14T14:26:59.728016Z",
     "start_time": "2021-11-14T14:26:59.710821Z"
    }
   },
   "outputs": [],
   "source": [
    "PULIC_LB_RANGE = ['2021-06-13 00:00:00',\n",
    "                  '2021-09-13 00:00:00'] # 3 MONTH WORTH OF DATA\n",
    "\n",
    "if USE_TOY_SAMPLE:\n",
    "    EVAL_PERIODS = [['2021-09-15', '2021-09-22']]\n",
    "\n",
    "elif USE_SAMPLE:\n",
    "    EVAL_PERIODS = [PULIC_LB_RANGE]\n",
    "    \n",
    "else:\n",
    "    EVAL_PERIODS = [['2019-01-01', '2019-04-01'],\n",
    "                    ['2021-03-13', '2021-06-12 00:00:00'], \n",
    "                    PULIC_LB_RANGE]\n",
    "    \n",
    "CV_PARAMS = {'gap_unit': 'min', 'dt_col': 'time'}"
   ]
  },
  {
   "cell_type": "code",
   "execution_count": 22,
   "id": "00921561",
   "metadata": {
    "ExecuteTime": {
     "end_time": "2021-11-14T14:26:59.751470Z",
     "start_time": "2021-11-14T14:26:59.730239Z"
    }
   },
   "outputs": [
    {
     "data": {
      "text/plain": [
       "[['2021-06-13 00:00:00', '2021-09-13 00:00:00']]"
      ]
     },
     "execution_count": 22,
     "metadata": {},
     "output_type": "execute_result"
    }
   ],
   "source": [
    "EVAL_PERIODS"
   ]
  },
  {
   "cell_type": "code",
   "execution_count": 23,
   "id": "e05bbd83",
   "metadata": {
    "ExecuteTime": {
     "end_time": "2021-11-14T14:26:59.772980Z",
     "start_time": "2021-11-14T14:26:59.753562Z"
    }
   },
   "outputs": [],
   "source": [
    "CV = TimeSeriesSplit(EVAL_PERIODS, **CV_PARAMS)"
   ]
  },
  {
   "cell_type": "code",
   "execution_count": 24,
   "id": "6283a57d",
   "metadata": {
    "ExecuteTime": {
     "end_time": "2021-11-14T14:26:59.799856Z",
     "start_time": "2021-11-14T14:26:59.774648Z"
    }
   },
   "outputs": [],
   "source": [
    "train_idx, valid_idx = next(iter(CV.split(data)))"
   ]
  },
  {
   "cell_type": "code",
   "execution_count": 25,
   "id": "c9ca9d7e",
   "metadata": {
    "ExecuteTime": {
     "end_time": "2021-11-14T14:26:59.850322Z",
     "start_time": "2021-11-14T14:26:59.802648Z"
    }
   },
   "outputs": [],
   "source": [
    "train_data = data.loc[train_idx, :].reset_index(drop=True)\n",
    "valid_data = data.loc[valid_idx, :].reset_index(drop=True)"
   ]
  },
  {
   "cell_type": "code",
   "execution_count": 26,
   "id": "4ce1ddb5",
   "metadata": {
    "ExecuteTime": {
     "end_time": "2021-11-14T14:26:59.875029Z",
     "start_time": "2021-11-14T14:26:59.853768Z"
    }
   },
   "outputs": [],
   "source": [
    "from sklearn.preprocessing import MinMaxScaler"
   ]
  },
  {
   "cell_type": "code",
   "execution_count": 27,
   "id": "c4b60a53",
   "metadata": {
    "ExecuteTime": {
     "end_time": "2021-11-14T14:27:00.218993Z",
     "start_time": "2021-11-14T14:26:59.877433Z"
    }
   },
   "outputs": [],
   "source": [
    "scaler = MinMaxScaler()\n",
    "train_data[RAW_FEATURES] = scaler.fit_transform(train_data[RAW_FEATURES])\n",
    "valid_data[RAW_FEATURES] = scaler.transform(valid_data[RAW_FEATURES])"
   ]
  },
  {
   "cell_type": "code",
   "execution_count": 28,
   "id": "f86194bd",
   "metadata": {
    "ExecuteTime": {
     "end_time": "2021-11-14T14:27:00.244143Z",
     "start_time": "2021-11-14T14:27:00.223374Z"
    }
   },
   "outputs": [],
   "source": [
    "from typing import Tuple, List\n",
    "\n",
    "class TimeSeriesDataset:\n",
    "    def __init__(self, features: np.ndarray,\n",
    "                 target: np.ndarray,\n",
    "                 lags: int = 0):\n",
    "        self.features = features\n",
    "        self.target = target\n",
    "        self.lags = lags\n",
    "    \n",
    "    \n",
    "    def __len__(self):\n",
    "        return len(self.target)\n",
    "    \n",
    "    def __getitem__(self, index: int) -> Tuple[np.ndarray, np.ndarray]:\n",
    "        assert index >= 0 and index < len(self.target), \\\n",
    "               f'index={index} out of range, {0}>={index}<{len(self.target)}'\n",
    "        train_indices = np.arange(index - self.lags, index) + 1\n",
    "        train_indices[train_indices < 0] = 0\n",
    "        \n",
    "        return self.features[train_indices], self.target[index]\n",
    "\n",
    "    @classmethod\n",
    "    def from_dataframe(cls, data: pd.DataFrame,\n",
    "                       features: List[str],\n",
    "                       target: List[str],\n",
    "                       lags: int = 0):\n",
    "        features_values = data.loc[:, features].to_numpy().astype(np.float32)\n",
    "        target_values = data.loc[:, target].to_numpy().astype(np.float32)\n",
    "        \n",
    "        return cls(features_values, target_values, lags=lags)"
   ]
  },
  {
   "cell_type": "code",
   "execution_count": 29,
   "id": "94ed6b4a",
   "metadata": {
    "ExecuteTime": {
     "end_time": "2021-11-14T14:27:00.263652Z",
     "start_time": "2021-11-14T14:27:00.246910Z"
    }
   },
   "outputs": [],
   "source": [
    "ds = TimeSeriesDataset(np.arange(10), np.arange(1, 11), lags=5)"
   ]
  },
  {
   "cell_type": "code",
   "execution_count": 30,
   "id": "91deaa81",
   "metadata": {
    "ExecuteTime": {
     "end_time": "2021-11-14T14:27:00.699432Z",
     "start_time": "2021-11-14T14:27:00.266013Z"
    }
   },
   "outputs": [],
   "source": [
    "import torch\n",
    "from torch import nn, optim\n",
    "\n",
    "\n",
    "def compute_cnn_output_dim(Lin: int, C: nn.Conv1d) -> int:    \n",
    "    padding = 2 * C.padding[0]\n",
    "    kernel = C.dilation[0] * (C.kernel_size[0] - 1)\n",
    "    Lout = (Lin + padding - kernel - 1) / C.stride[0]\n",
    "    assert Lout % 1 == 0\n",
    "    return int(Lout) + 1\n",
    "\n",
    "def test_compute_cnn_output_dim():\n",
    "    kernel_size = np.random.randint(10, 30)\n",
    "    conv = nn.Conv1d(5, 100, kernel_size=kernel_size)\n",
    "    \n",
    "    for _ in range(100):\n",
    "        Lin = np.random.randint(kernel_size, 100)\n",
    "        x = torch.randn(64, 5, Lin)\n",
    "        e = conv(x).shape[-1]\n",
    "        assert e == compute_cnn_output_dim(Lin, conv)\n",
    "test_compute_cnn_output_dim()"
   ]
  },
  {
   "cell_type": "code",
   "execution_count": 53,
   "id": "fbda886d",
   "metadata": {
    "ExecuteTime": {
     "end_time": "2021-11-14T14:36:33.333682Z",
     "start_time": "2021-11-14T14:36:33.304023Z"
    }
   },
   "outputs": [],
   "source": [
    "from functools import reduce\n",
    "from torch.utils.data import DataLoader\n",
    "from torch.nn import functional as F\n",
    "from tqdm.auto import tqdm\n",
    "\n",
    "\n",
    "def mspe(yhat, y):\n",
    "    eps = 1e-15\n",
    "    return torch.square((y-yhat)/ (y + eps)).mean()\n",
    "\n",
    "\n",
    "def build_cnn_layer(input_dim: int, output_dim: int,\n",
    "                    kernel_size: int = 5,\n",
    "                    batch_bn: bool = False,\n",
    "                    dropout: float = 0.,\n",
    "                    relu: bool = False):\n",
    "    output_layer = []\n",
    "    layer = nn.Conv1d(input_dim, output_dim, kernel_size=kernel_size)\n",
    "    output_layer.append(layer)\n",
    "    if relu:\n",
    "        output_layer.append(nn.ReLU())\n",
    "    if batch_bn:\n",
    "        output_layer.append(nn.BatchNorm1d(output_dim))\n",
    "    if dropout > 0.:\n",
    "        output_layer.append(nn.Dropout(dropout))\n",
    "    return nn.Sequential(*output_layer)\n",
    "\n",
    "\n",
    "class LimitSigmoid(nn.Module):\n",
    "    def __init__(self, lower_limit: float = 0., upper_limit: float = 1.):\n",
    "        super().__init__()\n",
    "        self.lower_limit = lower_limit\n",
    "        self.difference = upper_limit - lower_limit\n",
    "        \n",
    "    def forward(self, x):\n",
    "        x = torch.sigmoid(x)\n",
    "        return x * self.difference + self.lower_limit\n",
    "    \n",
    "class ResidualLayer(nn.Module):\n",
    "    def __init__(self, input_dim: int, expand_dim: int = None):\n",
    "        super().__init__()\n",
    "        if expand_dim is None:\n",
    "            expand_dim = 2 * input_dim\n",
    "        self.hidden = nn.Linear(input_dim, expand_dim)\n",
    "        self.out = nn.Linear(expand_dim, input_dim)\n",
    "        \n",
    "    \n",
    "    def forward(self, x: torch.tensor) -> torch.tensor:\n",
    "        xt = F.relu(self.hidden(x))\n",
    "        return F.relu(x + self.out(xt))\n",
    "\n",
    "\n",
    "class CnnModel(nn.Module):\n",
    "    def __init__(self, input_dim: int,\n",
    "                 lags: int,\n",
    "                 output_dim: int):\n",
    "        super().__init__()\n",
    "        filters = [input_dim, 16, 32]\n",
    "        \n",
    "        self.res = ResidualLayer(input_dim)\n",
    "        self.cnns = nn.Sequential(*[build_cnn_layer(input_dim, output_dim, batch_bn=False, relu=True)\n",
    "                                    for input_dim, output_dim in zip(filters[:-1], filters[1:])])\n",
    "        \n",
    "        \n",
    "        output_cnn_dim = lags // 4\n",
    "        self.avg_pool = nn.AdaptiveAvgPool1d(output_cnn_dim)\n",
    "        \n",
    "        \n",
    "        self.decoder = nn.Linear(output_cnn_dim * 32, output_dim)\n",
    "    \n",
    "    def forward(self, x: torch.tensor) -> torch.tensor:\n",
    "        # input x shape: bs, sq, ft\n",
    "        # expected bs, ft, sq\n",
    "        x = self.res(x)\n",
    "        x = x.transpose(2, 1)\n",
    "        x = self.cnns(x)\n",
    "        x = self.avg_pool(x).flatten(1)\n",
    "        return self.decoder(x)\n",
    "\n",
    "    \n",
    "def train(model: nn.Module, optimizer: optim.Optimizer, train_dl: DataLoader):\n",
    "    model.train()\n",
    "    for i, (x, y) in enumerate(train_dl):\n",
    "        # zero all gradients\n",
    "        optimizer.zero_grad()\n",
    "        # forward pass\n",
    "        yhat = model(x)\n",
    "        # loss\n",
    "        loss = F.mse_loss(yhat, y)\n",
    "        # backward pass\n",
    "        loss.backward()\n",
    "        # update params\n",
    "        optimizer.step()\n",
    "        if i % 100 == 0:\n",
    "            print(f'iter {i}, loss={loss.item()}')"
   ]
  },
  {
   "cell_type": "code",
   "execution_count": 54,
   "id": "b2982b85",
   "metadata": {
    "ExecuteTime": {
     "end_time": "2021-11-14T14:36:33.517085Z",
     "start_time": "2021-11-14T14:36:33.498977Z"
    }
   },
   "outputs": [],
   "source": [
    "LAGS = 60\n",
    "BATCH_SIZE=512"
   ]
  },
  {
   "cell_type": "code",
   "execution_count": 55,
   "id": "4f2e2801",
   "metadata": {
    "ExecuteTime": {
     "end_time": "2021-11-14T14:36:33.693054Z",
     "start_time": "2021-11-14T14:36:33.665851Z"
    }
   },
   "outputs": [],
   "source": [
    "train_ds = TimeSeriesDataset.from_dataframe(train_data, features=RAW_FEATURES,\n",
    "                                            target=[TARGET], lags=LAGS)\n",
    "train_dl = DataLoader(train_ds, batch_size=BATCH_SIZE, shuffle=True)"
   ]
  },
  {
   "cell_type": "code",
   "execution_count": 56,
   "id": "944d2260",
   "metadata": {
    "ExecuteTime": {
     "end_time": "2021-11-14T14:36:33.872285Z",
     "start_time": "2021-11-14T14:36:33.849198Z"
    }
   },
   "outputs": [],
   "source": [
    "valid_ds = TimeSeriesDataset.from_dataframe(valid_data, features=RAW_FEATURES,\n",
    "                                            target=[TARGET], lags=LAGS)\n",
    "valid_dl = DataLoader(valid_ds, batch_size=BATCH_SIZE)"
   ]
  },
  {
   "cell_type": "code",
   "execution_count": 57,
   "id": "9032c299",
   "metadata": {
    "ExecuteTime": {
     "end_time": "2021-11-14T14:36:34.021560Z",
     "start_time": "2021-11-14T14:36:34.001886Z"
    }
   },
   "outputs": [],
   "source": [
    "model = CnnModel(len(RAW_FEATURES), LAGS, output_dim=1)\n",
    "opt = optim.Adam(model.parameters(), lr=0.001)"
   ]
  },
  {
   "cell_type": "code",
   "execution_count": 58,
   "id": "d5633692",
   "metadata": {
    "ExecuteTime": {
     "end_time": "2021-11-14T14:36:35.202087Z",
     "start_time": "2021-11-14T14:36:35.182404Z"
    }
   },
   "outputs": [
    {
     "data": {
      "text/plain": [
       "CnnModel(\n",
       "  (res): ResidualLayer(\n",
       "    (hidden): Linear(in_features=7, out_features=14, bias=True)\n",
       "    (out): Linear(in_features=14, out_features=7, bias=True)\n",
       "  )\n",
       "  (cnns): Sequential(\n",
       "    (0): Sequential(\n",
       "      (0): Conv1d(7, 16, kernel_size=(5,), stride=(1,))\n",
       "      (1): ReLU()\n",
       "    )\n",
       "    (1): Sequential(\n",
       "      (0): Conv1d(16, 32, kernel_size=(5,), stride=(1,))\n",
       "      (1): ReLU()\n",
       "    )\n",
       "  )\n",
       "  (avg_pool): AdaptiveAvgPool1d(output_size=15)\n",
       "  (decoder): Linear(in_features=480, out_features=1, bias=True)\n",
       ")"
      ]
     },
     "execution_count": 58,
     "metadata": {},
     "output_type": "execute_result"
    }
   ],
   "source": [
    "model"
   ]
  },
  {
   "cell_type": "code",
   "execution_count": 59,
   "id": "e387f208",
   "metadata": {
    "ExecuteTime": {
     "end_time": "2021-11-14T14:38:31.612220Z",
     "start_time": "2021-11-14T14:36:35.499198Z"
    }
   },
   "outputs": [
    {
     "name": "stdout",
     "output_type": "stream",
     "text": [
      "iter 0, loss=0.0024519674479961395\n",
      "iter 100, loss=3.398732951609418e-05\n",
      "iter 200, loss=2.4993318220367655e-05\n",
      "iter 300, loss=3.4791675716405734e-05\n",
      "iter 400, loss=3.836369069176726e-05\n",
      "iter 0, loss=3.0219052860047668e-05\n",
      "iter 100, loss=2.966702959383838e-05\n",
      "iter 200, loss=3.0216024242690764e-05\n",
      "iter 300, loss=3.641254443209618e-05\n",
      "iter 400, loss=2.7173869966645725e-05\n",
      "iter 0, loss=2.9454848117893562e-05\n",
      "iter 100, loss=3.5533470509108156e-05\n",
      "iter 200, loss=3.913282853318378e-05\n",
      "iter 300, loss=2.951269198092632e-05\n",
      "iter 400, loss=4.292626545066014e-05\n",
      "iter 0, loss=3.392695725779049e-05\n",
      "iter 100, loss=2.5805175027926452e-05\n",
      "iter 200, loss=2.4629067411297e-05\n",
      "iter 300, loss=3.795134398387745e-05\n",
      "iter 400, loss=3.0664039513794705e-05\n",
      "iter 0, loss=3.938993177143857e-05\n",
      "iter 100, loss=2.392921487626154e-05\n",
      "iter 200, loss=3.803434447036125e-05\n",
      "iter 300, loss=3.475470293778926e-05\n",
      "iter 400, loss=4.4064279791200534e-05\n",
      "iter 0, loss=4.078807251062244e-05\n",
      "iter 100, loss=4.9357917305314913e-05\n",
      "iter 200, loss=4.000845365226269e-05\n",
      "iter 300, loss=3.587693572626449e-05\n",
      "iter 400, loss=2.1712223315262236e-05\n",
      "iter 0, loss=3.943263436667621e-05\n",
      "iter 100, loss=2.5221337637049146e-05\n",
      "iter 200, loss=5.490565672516823e-05\n",
      "iter 300, loss=3.5749988455791026e-05\n",
      "iter 400, loss=4.278860433259979e-05\n",
      "iter 0, loss=3.837121039396152e-05\n",
      "iter 100, loss=3.936722714570351e-05\n",
      "iter 200, loss=2.548833617765922e-05\n",
      "iter 300, loss=3.376103995833546e-05\n",
      "iter 400, loss=4.2510633647907525e-05\n",
      "iter 0, loss=3.139024192932993e-05\n",
      "iter 100, loss=3.204511449439451e-05\n",
      "iter 200, loss=3.393413862795569e-05\n",
      "iter 300, loss=2.9962833650643006e-05\n",
      "iter 400, loss=3.092131009907462e-05\n",
      "iter 0, loss=2.3941205654409714e-05\n",
      "iter 100, loss=3.7741938285762444e-05\n",
      "iter 200, loss=2.6372923457529396e-05\n",
      "iter 300, loss=2.0920451788697392e-05\n",
      "iter 400, loss=3.680838563013822e-05\n",
      "iter 0, loss=3.3691281714709476e-05\n"
     ]
    },
    {
     "ename": "KeyboardInterrupt",
     "evalue": "",
     "output_type": "error",
     "traceback": [
      "\u001b[0;31m---------------------------------------------------------------------------\u001b[0m",
      "\u001b[0;31mKeyboardInterrupt\u001b[0m                         Traceback (most recent call last)",
      "\u001b[0;32m/tmp/ipykernel_15239/3886577380.py\u001b[0m in \u001b[0;36m<module>\u001b[0;34m\u001b[0m\n\u001b[1;32m      1\u001b[0m \u001b[0;32mfor\u001b[0m \u001b[0me\u001b[0m \u001b[0;32min\u001b[0m \u001b[0mrange\u001b[0m\u001b[0;34m(\u001b[0m\u001b[0;36m30\u001b[0m\u001b[0;34m)\u001b[0m\u001b[0;34m:\u001b[0m\u001b[0;34m\u001b[0m\u001b[0;34m\u001b[0m\u001b[0m\n\u001b[0;32m----> 2\u001b[0;31m     \u001b[0mtrain\u001b[0m\u001b[0;34m(\u001b[0m\u001b[0mmodel\u001b[0m\u001b[0;34m,\u001b[0m \u001b[0mopt\u001b[0m\u001b[0;34m,\u001b[0m \u001b[0mtrain_dl\u001b[0m\u001b[0;34m)\u001b[0m\u001b[0;34m\u001b[0m\u001b[0;34m\u001b[0m\u001b[0m\n\u001b[0m",
      "\u001b[0;32m/tmp/ipykernel_15239/2236209930.py\u001b[0m in \u001b[0;36mtrain\u001b[0;34m(model, optimizer, train_dl)\u001b[0m\n\u001b[1;32m     81\u001b[0m \u001b[0;32mdef\u001b[0m \u001b[0mtrain\u001b[0m\u001b[0;34m(\u001b[0m\u001b[0mmodel\u001b[0m\u001b[0;34m:\u001b[0m \u001b[0mnn\u001b[0m\u001b[0;34m.\u001b[0m\u001b[0mModule\u001b[0m\u001b[0;34m,\u001b[0m \u001b[0moptimizer\u001b[0m\u001b[0;34m:\u001b[0m \u001b[0moptim\u001b[0m\u001b[0;34m.\u001b[0m\u001b[0mOptimizer\u001b[0m\u001b[0;34m,\u001b[0m \u001b[0mtrain_dl\u001b[0m\u001b[0;34m:\u001b[0m \u001b[0mDataLoader\u001b[0m\u001b[0;34m)\u001b[0m\u001b[0;34m:\u001b[0m\u001b[0;34m\u001b[0m\u001b[0;34m\u001b[0m\u001b[0m\n\u001b[1;32m     82\u001b[0m     \u001b[0mmodel\u001b[0m\u001b[0;34m.\u001b[0m\u001b[0mtrain\u001b[0m\u001b[0;34m(\u001b[0m\u001b[0;34m)\u001b[0m\u001b[0;34m\u001b[0m\u001b[0;34m\u001b[0m\u001b[0m\n\u001b[0;32m---> 83\u001b[0;31m     \u001b[0;32mfor\u001b[0m \u001b[0mi\u001b[0m\u001b[0;34m,\u001b[0m \u001b[0;34m(\u001b[0m\u001b[0mx\u001b[0m\u001b[0;34m,\u001b[0m \u001b[0my\u001b[0m\u001b[0;34m)\u001b[0m \u001b[0;32min\u001b[0m \u001b[0menumerate\u001b[0m\u001b[0;34m(\u001b[0m\u001b[0mtrain_dl\u001b[0m\u001b[0;34m)\u001b[0m\u001b[0;34m:\u001b[0m\u001b[0;34m\u001b[0m\u001b[0;34m\u001b[0m\u001b[0m\n\u001b[0m\u001b[1;32m     84\u001b[0m         \u001b[0;31m# zero all gradients\u001b[0m\u001b[0;34m\u001b[0m\u001b[0;34m\u001b[0m\u001b[0;34m\u001b[0m\u001b[0m\n\u001b[1;32m     85\u001b[0m         \u001b[0moptimizer\u001b[0m\u001b[0;34m.\u001b[0m\u001b[0mzero_grad\u001b[0m\u001b[0;34m(\u001b[0m\u001b[0;34m)\u001b[0m\u001b[0;34m\u001b[0m\u001b[0;34m\u001b[0m\u001b[0m\n",
      "\u001b[0;32m~/anaconda3/envs/crypto-g/lib/python3.7/site-packages/torch/utils/data/dataloader.py\u001b[0m in \u001b[0;36m__next__\u001b[0;34m(self)\u001b[0m\n\u001b[1;32m    515\u001b[0m             \u001b[0;32mif\u001b[0m \u001b[0mself\u001b[0m\u001b[0;34m.\u001b[0m\u001b[0m_sampler_iter\u001b[0m \u001b[0;32mis\u001b[0m \u001b[0;32mNone\u001b[0m\u001b[0;34m:\u001b[0m\u001b[0;34m\u001b[0m\u001b[0;34m\u001b[0m\u001b[0m\n\u001b[1;32m    516\u001b[0m                 \u001b[0mself\u001b[0m\u001b[0;34m.\u001b[0m\u001b[0m_reset\u001b[0m\u001b[0;34m(\u001b[0m\u001b[0;34m)\u001b[0m\u001b[0;34m\u001b[0m\u001b[0;34m\u001b[0m\u001b[0m\n\u001b[0;32m--> 517\u001b[0;31m             \u001b[0mdata\u001b[0m \u001b[0;34m=\u001b[0m \u001b[0mself\u001b[0m\u001b[0;34m.\u001b[0m\u001b[0m_next_data\u001b[0m\u001b[0;34m(\u001b[0m\u001b[0;34m)\u001b[0m\u001b[0;34m\u001b[0m\u001b[0;34m\u001b[0m\u001b[0m\n\u001b[0m\u001b[1;32m    518\u001b[0m             \u001b[0mself\u001b[0m\u001b[0;34m.\u001b[0m\u001b[0m_num_yielded\u001b[0m \u001b[0;34m+=\u001b[0m \u001b[0;36m1\u001b[0m\u001b[0;34m\u001b[0m\u001b[0;34m\u001b[0m\u001b[0m\n\u001b[1;32m    519\u001b[0m             \u001b[0;32mif\u001b[0m \u001b[0mself\u001b[0m\u001b[0;34m.\u001b[0m\u001b[0m_dataset_kind\u001b[0m \u001b[0;34m==\u001b[0m \u001b[0m_DatasetKind\u001b[0m\u001b[0;34m.\u001b[0m\u001b[0mIterable\u001b[0m \u001b[0;32mand\u001b[0m\u001b[0;31m \u001b[0m\u001b[0;31m\\\u001b[0m\u001b[0;34m\u001b[0m\u001b[0;34m\u001b[0m\u001b[0m\n",
      "\u001b[0;32m~/anaconda3/envs/crypto-g/lib/python3.7/site-packages/torch/utils/data/dataloader.py\u001b[0m in \u001b[0;36m_next_data\u001b[0;34m(self)\u001b[0m\n\u001b[1;32m    555\u001b[0m     \u001b[0;32mdef\u001b[0m \u001b[0m_next_data\u001b[0m\u001b[0;34m(\u001b[0m\u001b[0mself\u001b[0m\u001b[0;34m)\u001b[0m\u001b[0;34m:\u001b[0m\u001b[0;34m\u001b[0m\u001b[0;34m\u001b[0m\u001b[0m\n\u001b[1;32m    556\u001b[0m         \u001b[0mindex\u001b[0m \u001b[0;34m=\u001b[0m \u001b[0mself\u001b[0m\u001b[0;34m.\u001b[0m\u001b[0m_next_index\u001b[0m\u001b[0;34m(\u001b[0m\u001b[0;34m)\u001b[0m  \u001b[0;31m# may raise StopIteration\u001b[0m\u001b[0;34m\u001b[0m\u001b[0;34m\u001b[0m\u001b[0m\n\u001b[0;32m--> 557\u001b[0;31m         \u001b[0mdata\u001b[0m \u001b[0;34m=\u001b[0m \u001b[0mself\u001b[0m\u001b[0;34m.\u001b[0m\u001b[0m_dataset_fetcher\u001b[0m\u001b[0;34m.\u001b[0m\u001b[0mfetch\u001b[0m\u001b[0;34m(\u001b[0m\u001b[0mindex\u001b[0m\u001b[0;34m)\u001b[0m  \u001b[0;31m# may raise StopIteration\u001b[0m\u001b[0;34m\u001b[0m\u001b[0;34m\u001b[0m\u001b[0m\n\u001b[0m\u001b[1;32m    558\u001b[0m         \u001b[0;32mif\u001b[0m \u001b[0mself\u001b[0m\u001b[0;34m.\u001b[0m\u001b[0m_pin_memory\u001b[0m\u001b[0;34m:\u001b[0m\u001b[0;34m\u001b[0m\u001b[0;34m\u001b[0m\u001b[0m\n\u001b[1;32m    559\u001b[0m             \u001b[0mdata\u001b[0m \u001b[0;34m=\u001b[0m \u001b[0m_utils\u001b[0m\u001b[0;34m.\u001b[0m\u001b[0mpin_memory\u001b[0m\u001b[0;34m.\u001b[0m\u001b[0mpin_memory\u001b[0m\u001b[0;34m(\u001b[0m\u001b[0mdata\u001b[0m\u001b[0;34m)\u001b[0m\u001b[0;34m\u001b[0m\u001b[0;34m\u001b[0m\u001b[0m\n",
      "\u001b[0;32m~/anaconda3/envs/crypto-g/lib/python3.7/site-packages/torch/utils/data/_utils/fetch.py\u001b[0m in \u001b[0;36mfetch\u001b[0;34m(self, possibly_batched_index)\u001b[0m\n\u001b[1;32m     42\u001b[0m     \u001b[0;32mdef\u001b[0m \u001b[0mfetch\u001b[0m\u001b[0;34m(\u001b[0m\u001b[0mself\u001b[0m\u001b[0;34m,\u001b[0m \u001b[0mpossibly_batched_index\u001b[0m\u001b[0;34m)\u001b[0m\u001b[0;34m:\u001b[0m\u001b[0;34m\u001b[0m\u001b[0;34m\u001b[0m\u001b[0m\n\u001b[1;32m     43\u001b[0m         \u001b[0;32mif\u001b[0m \u001b[0mself\u001b[0m\u001b[0;34m.\u001b[0m\u001b[0mauto_collation\u001b[0m\u001b[0;34m:\u001b[0m\u001b[0;34m\u001b[0m\u001b[0;34m\u001b[0m\u001b[0m\n\u001b[0;32m---> 44\u001b[0;31m             \u001b[0mdata\u001b[0m \u001b[0;34m=\u001b[0m \u001b[0;34m[\u001b[0m\u001b[0mself\u001b[0m\u001b[0;34m.\u001b[0m\u001b[0mdataset\u001b[0m\u001b[0;34m[\u001b[0m\u001b[0midx\u001b[0m\u001b[0;34m]\u001b[0m \u001b[0;32mfor\u001b[0m \u001b[0midx\u001b[0m \u001b[0;32min\u001b[0m \u001b[0mpossibly_batched_index\u001b[0m\u001b[0;34m]\u001b[0m\u001b[0;34m\u001b[0m\u001b[0;34m\u001b[0m\u001b[0m\n\u001b[0m\u001b[1;32m     45\u001b[0m         \u001b[0;32melse\u001b[0m\u001b[0;34m:\u001b[0m\u001b[0;34m\u001b[0m\u001b[0;34m\u001b[0m\u001b[0m\n\u001b[1;32m     46\u001b[0m             \u001b[0mdata\u001b[0m \u001b[0;34m=\u001b[0m \u001b[0mself\u001b[0m\u001b[0;34m.\u001b[0m\u001b[0mdataset\u001b[0m\u001b[0;34m[\u001b[0m\u001b[0mpossibly_batched_index\u001b[0m\u001b[0;34m]\u001b[0m\u001b[0;34m\u001b[0m\u001b[0;34m\u001b[0m\u001b[0m\n",
      "\u001b[0;32m~/anaconda3/envs/crypto-g/lib/python3.7/site-packages/torch/utils/data/_utils/fetch.py\u001b[0m in \u001b[0;36m<listcomp>\u001b[0;34m(.0)\u001b[0m\n\u001b[1;32m     42\u001b[0m     \u001b[0;32mdef\u001b[0m \u001b[0mfetch\u001b[0m\u001b[0;34m(\u001b[0m\u001b[0mself\u001b[0m\u001b[0;34m,\u001b[0m \u001b[0mpossibly_batched_index\u001b[0m\u001b[0;34m)\u001b[0m\u001b[0;34m:\u001b[0m\u001b[0;34m\u001b[0m\u001b[0;34m\u001b[0m\u001b[0m\n\u001b[1;32m     43\u001b[0m         \u001b[0;32mif\u001b[0m \u001b[0mself\u001b[0m\u001b[0;34m.\u001b[0m\u001b[0mauto_collation\u001b[0m\u001b[0;34m:\u001b[0m\u001b[0;34m\u001b[0m\u001b[0;34m\u001b[0m\u001b[0m\n\u001b[0;32m---> 44\u001b[0;31m             \u001b[0mdata\u001b[0m \u001b[0;34m=\u001b[0m \u001b[0;34m[\u001b[0m\u001b[0mself\u001b[0m\u001b[0;34m.\u001b[0m\u001b[0mdataset\u001b[0m\u001b[0;34m[\u001b[0m\u001b[0midx\u001b[0m\u001b[0;34m]\u001b[0m \u001b[0;32mfor\u001b[0m \u001b[0midx\u001b[0m \u001b[0;32min\u001b[0m \u001b[0mpossibly_batched_index\u001b[0m\u001b[0;34m]\u001b[0m\u001b[0;34m\u001b[0m\u001b[0;34m\u001b[0m\u001b[0m\n\u001b[0m\u001b[1;32m     45\u001b[0m         \u001b[0;32melse\u001b[0m\u001b[0;34m:\u001b[0m\u001b[0;34m\u001b[0m\u001b[0;34m\u001b[0m\u001b[0m\n\u001b[1;32m     46\u001b[0m             \u001b[0mdata\u001b[0m \u001b[0;34m=\u001b[0m \u001b[0mself\u001b[0m\u001b[0;34m.\u001b[0m\u001b[0mdataset\u001b[0m\u001b[0;34m[\u001b[0m\u001b[0mpossibly_batched_index\u001b[0m\u001b[0;34m]\u001b[0m\u001b[0;34m\u001b[0m\u001b[0;34m\u001b[0m\u001b[0m\n",
      "\u001b[0;31mKeyboardInterrupt\u001b[0m: "
     ]
    }
   ],
   "source": [
    "for e in range(30):\n",
    "    train(model, opt, train_dl)"
   ]
  },
  {
   "cell_type": "code",
   "execution_count": 60,
   "id": "eafba1d6",
   "metadata": {
    "ExecuteTime": {
     "end_time": "2021-11-14T14:38:33.964652Z",
     "start_time": "2021-11-14T14:38:33.946037Z"
    }
   },
   "outputs": [],
   "source": [
    "def predict_dl(model: nn.Module, dl: DataLoader):\n",
    "    model.eval()\n",
    "    with torch.no_grad():\n",
    "        yhat = torch.cat([model(x) for x, _ in dl])\n",
    "    return yhat.numpy()"
   ]
  },
  {
   "cell_type": "code",
   "execution_count": 61,
   "id": "f6f303db",
   "metadata": {
    "ExecuteTime": {
     "end_time": "2021-11-14T14:38:37.733757Z",
     "start_time": "2021-11-14T14:38:34.140728Z"
    }
   },
   "outputs": [],
   "source": [
    "valid_yhat = predict_dl(model, valid_dl)"
   ]
  },
  {
   "cell_type": "code",
   "execution_count": 62,
   "id": "c8598d44",
   "metadata": {
    "ExecuteTime": {
     "end_time": "2021-11-14T14:38:37.766707Z",
     "start_time": "2021-11-14T14:38:37.736713Z"
    }
   },
   "outputs": [],
   "source": [
    "valid_data['yhat'] = valid_yhat.ravel()"
   ]
  },
  {
   "cell_type": "code",
   "execution_count": 63,
   "id": "51780759",
   "metadata": {
    "ExecuteTime": {
     "end_time": "2021-11-14T14:38:38.126705Z",
     "start_time": "2021-11-14T14:38:37.769834Z"
    }
   },
   "outputs": [
    {
     "data": {
      "text/plain": [
       "[<matplotlib.lines.Line2D at 0x7f688f47eb90>]"
      ]
     },
     "execution_count": 63,
     "metadata": {},
     "output_type": "execute_result"
    },
    {
     "data": {
      "image/png": "[encoded data removed]",
      "text/plain": [
       "<Figure size 1440x360 with 1 Axes>"
      ]
     },
     "metadata": {
      "needs_background": "light"
     },
     "output_type": "display_data"
    }
   ],
   "source": [
    "plt.figure(figsize=(20, 5))\n",
    "TRAIN_M = 60*24\n",
    "plt.plot(train_data['time'].tail(TRAIN_M), train_data[TARGET].tail(TRAIN_M))\n",
    "plt.plot(valid_data['time'], valid_data[TARGET])\n",
    "plt.plot(valid_data['time'], valid_data['yhat'])"
   ]
  },
  {
   "cell_type": "code",
   "execution_count": 42,
   "id": "8f2a27e1",
   "metadata": {
    "ExecuteTime": {
     "end_time": "2021-11-14T14:31:59.058916Z",
     "start_time": "2021-11-14T14:31:59.020498Z"
    }
   },
   "outputs": [],
   "source": [
    "from metrics import compute_metrics"
   ]
  },
  {
   "cell_type": "code",
   "execution_count": 44,
   "id": "d752c83a",
   "metadata": {
    "ExecuteTime": {
     "end_time": "2021-11-14T14:32:09.445663Z",
     "start_time": "2021-11-14T14:32:09.410125Z"
    }
   },
   "outputs": [],
   "source": [
    "valid_data['Asset_Name'] = valid_data['Asset_Name'].ffill()"
   ]
  },
  {
   "cell_type": "code",
   "execution_count": 45,
   "id": "6961a15d",
   "metadata": {
    "ExecuteTime": {
     "end_time": "2021-11-14T14:32:09.989607Z",
     "start_time": "2021-11-14T14:32:09.901143Z"
    }
   },
   "outputs": [],
   "source": [
    "scores, corrs = compute_metrics(valid_data)"
   ]
  },
  {
   "cell_type": "code",
   "execution_count": 46,
   "id": "908d7d9d",
   "metadata": {
    "ExecuteTime": {
     "end_time": "2021-11-14T14:32:10.496722Z",
     "start_time": "2021-11-14T14:32:10.471864Z"
    }
   },
   "outputs": [
    {
     "data": {
      "text/plain": [
       "theor_corr       0.010107\n",
       "weighted_corr    0.001064\n",
       "corr_min         0.010107\n",
       "corr_max         0.010107\n",
       "corr_std              NaN\n",
       "dtype: float64"
      ]
     },
     "execution_count": 46,
     "metadata": {},
     "output_type": "execute_result"
    }
   ],
   "source": [
    "scores"
   ]
  },
  {
   "cell_type": "code",
   "execution_count": null,
   "id": "898ed7fc",
   "metadata": {},
   "outputs": [],
   "source": []
  }
 ],
 "metadata": {
  "kernelspec": {
   "display_name": "Python 3 (ipykernel)",
   "language": "python",
   "name": "python3"
  },
  "language_info": {
   "codemirror_mode": {
    "name": "ipython",
    "version": 3
   },
   "file_extension": ".py",
   "mimetype": "text/x-python",
   "name": "python",
   "nbconvert_exporter": "python",
   "pygments_lexer": "ipython3",
   "version": "3.7.11"
  },
  "toc": {
   "base_numbering": 1,
   "nav_menu": {},
   "number_sections": true,
   "sideBar": true,
   "skip_h1_title": false,
   "title_cell": "Table of Contents",
   "title_sidebar": "Contents",
   "toc_cell": false,
   "toc_position": {},
   "toc_section_display": true,
   "toc_window_display": false
  }
 },
 "nbformat": 4,
 "nbformat_minor": 5
}
