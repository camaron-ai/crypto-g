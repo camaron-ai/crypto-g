{
 "cells": [
  {
   "cell_type": "code",
   "execution_count": 1,
   "id": "33f16f59",
   "metadata": {
    "ExecuteTime": {
     "end_time": "2021-11-11T23:03:18.672808Z",
     "start_time": "2021-11-11T23:03:18.653577Z"
    }
   },
   "outputs": [],
   "source": [
    "%load_ext autoreload\n",
    "%autoreload 2"
   ]
  },
  {
   "cell_type": "code",
   "execution_count": 2,
   "id": "f255bb4e",
   "metadata": {
    "ExecuteTime": {
     "end_time": "2021-11-11T23:03:20.061157Z",
     "start_time": "2021-11-11T23:03:18.676149Z"
    }
   },
   "outputs": [],
   "source": [
    "import pandas as pd\n",
    "import numpy as np\n",
    "from matplotlib import pyplot as plt\n",
    "import seaborn as sns\n",
    "from pathlib import Path\n",
    "import os\n",
    "import sys\n",
    "from IPython.display import display"
   ]
  },
  {
   "cell_type": "code",
   "execution_count": 3,
   "id": "136f5247",
   "metadata": {
    "ExecuteTime": {
     "end_time": "2021-11-11T23:03:20.079606Z",
     "start_time": "2021-11-11T23:03:20.063159Z"
    }
   },
   "outputs": [],
   "source": [
    "def on_kaggle() -> bool:\n",
    "    try:\n",
    "        import gresearch_crypto\n",
    "        return True\n",
    "    except ModuleNotFoundError:\n",
    "        return False"
   ]
  },
  {
   "cell_type": "code",
   "execution_count": 4,
   "id": "432ba6ef",
   "metadata": {
    "ExecuteTime": {
     "end_time": "2021-11-11T23:03:20.099851Z",
     "start_time": "2021-11-11T23:03:20.082820Z"
    }
   },
   "outputs": [],
   "source": [
    "# HYPER PARAMETERS\n",
    "ON_KAGGLE = on_kaggle()\n",
    "SAMPLE_LEVEL = 0\n",
    "USE_SAMPLE = SAMPLE_LEVEL == 1\n",
    "USE_TOY_SAMPLE = SAMPLE_LEVEL == 2\n",
    "\n",
    "FORCE_REWRITE = True#(ON_KAGGLE and SAMPLE_LEVEL == 0)"
   ]
  },
  {
   "cell_type": "code",
   "execution_count": 5,
   "id": "3ee2a957",
   "metadata": {
    "ExecuteTime": {
     "end_time": "2021-11-11T23:03:20.119036Z",
     "start_time": "2021-11-11T23:03:20.102321Z"
    }
   },
   "outputs": [],
   "source": [
    "if not ON_KAGGLE and os.path.abspath('.').endswith('notebook'):\n",
    "    os.chdir('../')"
   ]
  },
  {
   "cell_type": "code",
   "execution_count": 6,
   "id": "eee46e84",
   "metadata": {
    "ExecuteTime": {
     "end_time": "2021-11-11T23:03:20.717448Z",
     "start_time": "2021-11-11T23:03:20.121608Z"
    }
   },
   "outputs": [],
   "source": [
    "#IMPORT_SCRIPT!\n",
    "# THIS CELL WILL BE REMOVE WITH SCRIPTS IN SRC\n",
    "if './src/' not in sys.path:\n",
    "    sys.path.append('./src/')\n",
    "\n",
    "from preprocessing import *\n",
    "from metrics import *\n",
    "from cv import *\n",
    "from modeling import *\n",
    "from tracking import track_experiment\n",
    "import util"
   ]
  },
  {
   "cell_type": "code",
   "execution_count": 7,
   "id": "5dcd141e",
   "metadata": {
    "ExecuteTime": {
     "end_time": "2021-11-11T23:03:20.738983Z",
     "start_time": "2021-11-11T23:03:20.719649Z"
    }
   },
   "outputs": [],
   "source": [
    "if ON_KAGGLE:\n",
    "    RAW_DIR = Path('../input/g-research-crypto-forecasting/')\n",
    "    SAMPLE_DIR = Path('../input/create-sample-dataset/data/raw/sample/')\n",
    "    TOY_SAMPLE_DIR = Path('../input/create-sample-dataset/data/raw/toy_sample/')\n",
    "else:\n",
    "    RAW_DIR =  Path('data/raw')\n",
    "    TOY_SAMPLE_DIR = RAW_DIR.joinpath('toy_sample')\n",
    "    SAMPLE_DIR = RAW_DIR.joinpath('sample')\n",
    "\n",
    "# filename\n",
    "TRAIN_FILE = 'train.csv'\n",
    "ASSET_DETAILS_PATH = RAW_DIR / 'asset_details.csv'"
   ]
  },
  {
   "cell_type": "code",
   "execution_count": 8,
   "id": "74f7a9ab",
   "metadata": {
    "ExecuteTime": {
     "end_time": "2021-11-11T23:03:20.766209Z",
     "start_time": "2021-11-11T23:03:20.742354Z"
    }
   },
   "outputs": [
    {
     "name": "stdout",
     "output_type": "stream",
     "text": [
      "USING RAW DATASET\n"
     ]
    }
   ],
   "source": [
    "if USE_TOY_SAMPLE:\n",
    "    print('USING TOY DATASET')\n",
    "    RAW_TRAIN_PATH = TOY_SAMPLE_DIR / TRAIN_FILE\n",
    "\n",
    "elif USE_SAMPLE:\n",
    "    print('USING SAMPLE DATASET')\n",
    "    RAW_TRAIN_PATH = SAMPLE_DIR / TRAIN_FILE\n",
    "\n",
    "else:\n",
    "    print('USING RAW DATASET')\n",
    "    RAW_TRAIN_PATH = RAW_DIR / TRAIN_FILE\n",
    "\n",
    "assert RAW_TRAIN_PATH.exists()"
   ]
  },
  {
   "cell_type": "code",
   "execution_count": 9,
   "id": "28ef35af",
   "metadata": {
    "ExecuteTime": {
     "end_time": "2021-11-11T23:03:20.918663Z",
     "start_time": "2021-11-11T23:03:20.769586Z"
    }
   },
   "outputs": [
    {
     "name": "stdout",
     "output_type": "stream",
     "text": [
      "asset_details.csv\t\t   sample\r\n",
      "example_sample_submission.csv\t   supplemental_train.csv\r\n",
      "example_test.csv\t\t   toy_sample\r\n",
      "g-research-crypto-forecasting.zip  train.csv\r\n",
      "gresearch_crypto\r\n"
     ]
    }
   ],
   "source": [
    "!ls {RAW_DIR}"
   ]
  },
  {
   "cell_type": "code",
   "execution_count": 10,
   "id": "4b479f0e",
   "metadata": {
    "ExecuteTime": {
     "end_time": "2021-11-11T23:03:44.834409Z",
     "start_time": "2021-11-11T23:03:20.923079Z"
    },
    "scrolled": true
   },
   "outputs": [
    {
     "name": "stdout",
     "output_type": "stream",
     "text": [
      "CPU times: user 19.4 s, sys: 1.93 s, total: 21.3 s\n",
      "Wall time: 23.9 s\n"
     ]
    }
   ],
   "source": [
    "%%time \n",
    "raw_df = pd.read_csv(RAW_TRAIN_PATH)"
   ]
  },
  {
   "cell_type": "code",
   "execution_count": 11,
   "id": "5be54336",
   "metadata": {
    "ExecuteTime": {
     "end_time": "2021-11-11T23:03:57.713736Z",
     "start_time": "2021-11-11T23:03:44.836770Z"
    }
   },
   "outputs": [],
   "source": [
    "raw_df = ingest_data(raw_df, asset_details_path=ASSET_DETAILS_PATH)"
   ]
  },
  {
   "cell_type": "code",
   "execution_count": 12,
   "id": "d1722287",
   "metadata": {
    "ExecuteTime": {
     "end_time": "2021-11-11T23:04:06.823250Z",
     "start_time": "2021-11-11T23:03:57.715607Z"
    }
   },
   "outputs": [],
   "source": [
    "raw_df.sort_values(by=['Asset_ID', 'date'], inplace=True)\n",
    "raw_df.reset_index(drop=True, inplace=True)"
   ]
  },
  {
   "cell_type": "code",
   "execution_count": 13,
   "id": "3f9f8d35",
   "metadata": {
    "ExecuteTime": {
     "end_time": "2021-11-11T23:04:06.861275Z",
     "start_time": "2021-11-11T23:04:06.825424Z"
    },
    "scrolled": true
   },
   "outputs": [
    {
     "data": {
      "text/html": [
       "<div>\n",
       "<style scoped>\n",
       "    .dataframe tbody tr th:only-of-type {\n",
       "        vertical-align: middle;\n",
       "    }\n",
       "\n",
       "    .dataframe tbody tr th {\n",
       "        vertical-align: top;\n",
       "    }\n",
       "\n",
       "    .dataframe thead th {\n",
       "        text-align: right;\n",
       "    }\n",
       "</style>\n",
       "<table border=\"1\" class=\"dataframe\">\n",
       "  <thead>\n",
       "    <tr style=\"text-align: right;\">\n",
       "      <th></th>\n",
       "      <th>timestamp</th>\n",
       "      <th>Asset_ID</th>\n",
       "      <th>Count</th>\n",
       "      <th>Open</th>\n",
       "      <th>High</th>\n",
       "      <th>Low</th>\n",
       "      <th>Close</th>\n",
       "      <th>Volume</th>\n",
       "      <th>VWAP</th>\n",
       "      <th>Target</th>\n",
       "      <th>Asset_Name</th>\n",
       "      <th>date</th>\n",
       "    </tr>\n",
       "  </thead>\n",
       "  <tbody>\n",
       "    <tr>\n",
       "      <th>0</th>\n",
       "      <td>1514764860</td>\n",
       "      <td>0</td>\n",
       "      <td>5.0</td>\n",
       "      <td>8.5300</td>\n",
       "      <td>8.5300</td>\n",
       "      <td>8.5300</td>\n",
       "      <td>8.5300</td>\n",
       "      <td>78.38</td>\n",
       "      <td>8.530000</td>\n",
       "      <td>-0.014399</td>\n",
       "      <td>Binance Coin</td>\n",
       "      <td>2018-01-01 00:01:00</td>\n",
       "    </tr>\n",
       "    <tr>\n",
       "      <th>1</th>\n",
       "      <td>1514764920</td>\n",
       "      <td>0</td>\n",
       "      <td>7.0</td>\n",
       "      <td>8.5300</td>\n",
       "      <td>8.5300</td>\n",
       "      <td>8.5145</td>\n",
       "      <td>8.5145</td>\n",
       "      <td>71.39</td>\n",
       "      <td>8.520215</td>\n",
       "      <td>-0.015875</td>\n",
       "      <td>Binance Coin</td>\n",
       "      <td>2018-01-01 00:02:00</td>\n",
       "    </tr>\n",
       "    <tr>\n",
       "      <th>2</th>\n",
       "      <td>1514764980</td>\n",
       "      <td>0</td>\n",
       "      <td>45.0</td>\n",
       "      <td>8.5065</td>\n",
       "      <td>8.5299</td>\n",
       "      <td>8.4848</td>\n",
       "      <td>8.4848</td>\n",
       "      <td>1546.82</td>\n",
       "      <td>8.501393</td>\n",
       "      <td>-0.015410</td>\n",
       "      <td>Binance Coin</td>\n",
       "      <td>2018-01-01 00:03:00</td>\n",
       "    </tr>\n",
       "    <tr>\n",
       "      <th>3</th>\n",
       "      <td>1514765040</td>\n",
       "      <td>0</td>\n",
       "      <td>14.0</td>\n",
       "      <td>8.5009</td>\n",
       "      <td>8.5066</td>\n",
       "      <td>8.4744</td>\n",
       "      <td>8.5009</td>\n",
       "      <td>125.80</td>\n",
       "      <td>8.479810</td>\n",
       "      <td>-0.012524</td>\n",
       "      <td>Binance Coin</td>\n",
       "      <td>2018-01-01 00:04:00</td>\n",
       "    </tr>\n",
       "    <tr>\n",
       "      <th>4</th>\n",
       "      <td>1514765100</td>\n",
       "      <td>0</td>\n",
       "      <td>5.0</td>\n",
       "      <td>8.5007</td>\n",
       "      <td>8.5007</td>\n",
       "      <td>8.4560</td>\n",
       "      <td>8.4560</td>\n",
       "      <td>125.01</td>\n",
       "      <td>8.458435</td>\n",
       "      <td>-0.005940</td>\n",
       "      <td>Binance Coin</td>\n",
       "      <td>2018-01-01 00:05:00</td>\n",
       "    </tr>\n",
       "  </tbody>\n",
       "</table>\n",
       "</div>"
      ],
      "text/plain": [
       "    timestamp  Asset_ID  Count    Open    High     Low   Close   Volume  \\\n",
       "0  1514764860         0    5.0  8.5300  8.5300  8.5300  8.5300    78.38   \n",
       "1  1514764920         0    7.0  8.5300  8.5300  8.5145  8.5145    71.39   \n",
       "2  1514764980         0   45.0  8.5065  8.5299  8.4848  8.4848  1546.82   \n",
       "3  1514765040         0   14.0  8.5009  8.5066  8.4744  8.5009   125.80   \n",
       "4  1514765100         0    5.0  8.5007  8.5007  8.4560  8.4560   125.01   \n",
       "\n",
       "       VWAP    Target    Asset_Name                date  \n",
       "0  8.530000 -0.014399  Binance Coin 2018-01-01 00:01:00  \n",
       "1  8.520215 -0.015875  Binance Coin 2018-01-01 00:02:00  \n",
       "2  8.501393 -0.015410  Binance Coin 2018-01-01 00:03:00  \n",
       "3  8.479810 -0.012524  Binance Coin 2018-01-01 00:04:00  \n",
       "4  8.458435 -0.005940  Binance Coin 2018-01-01 00:05:00  "
      ]
     },
     "execution_count": 13,
     "metadata": {},
     "output_type": "execute_result"
    }
   ],
   "source": [
    "raw_df.head()"
   ]
  },
  {
   "cell_type": "code",
   "execution_count": 14,
   "id": "4f7747d4",
   "metadata": {
    "ExecuteTime": {
     "end_time": "2021-11-11T23:04:06.879288Z",
     "start_time": "2021-11-11T23:04:06.863011Z"
    }
   },
   "outputs": [],
   "source": [
    "TARGET = 'Target'\n",
    "INDEX_COLS = ['Asset_ID', 'Asset_Name', 'date', 'timestamp']"
   ]
  },
  {
   "cell_type": "code",
   "execution_count": 15,
   "id": "fc2e0fa0",
   "metadata": {
    "ExecuteTime": {
     "end_time": "2021-11-11T23:04:06.917211Z",
     "start_time": "2021-11-11T23:04:06.881333Z"
    }
   },
   "outputs": [],
   "source": [
    "RAW_FEATURES = ['Count', 'Open', 'High', 'Low', 'Close',\n",
    "       'Volume', 'VWAP']"
   ]
  },
  {
   "cell_type": "code",
   "execution_count": 16,
   "id": "95558efd",
   "metadata": {
    "ExecuteTime": {
     "end_time": "2021-11-11T23:05:26.456380Z",
     "start_time": "2021-11-11T23:04:06.920405Z"
    }
   },
   "outputs": [],
   "source": [
    "from sklearn.preprocessing import QuantileTransformer\n",
    "normalized_features = np.empty(shape=(len(raw_df), len(RAW_FEATURES)))\n",
    "\n",
    "for crypto in raw_df['Asset_Name'].unique():\n",
    "    index = (raw_df['Asset_Name'] == crypto)\n",
    "    X = raw_df.loc[index, RAW_FEATURES].to_numpy()\n",
    "    Xt = QuantileTransformer(output_distribution='normal', random_state=1).fit_transform(X)\n",
    "    normalized_features[index] = Xt\n",
    "raw_df[RAW_FEATURES] = normalized_features.astype(np.float32)"
   ]
  },
  {
   "cell_type": "code",
   "execution_count": 17,
   "id": "c6388daf",
   "metadata": {
    "ExecuteTime": {
     "end_time": "2021-11-11T23:05:30.235068Z",
     "start_time": "2021-11-11T23:05:26.578966Z"
    }
   },
   "outputs": [],
   "source": [
    "feature_data = compute_features(raw_df)"
   ]
  },
  {
   "cell_type": "code",
   "execution_count": 18,
   "id": "aa0aa048",
   "metadata": {
    "ExecuteTime": {
     "end_time": "2021-11-11T23:05:35.133221Z",
     "start_time": "2021-11-11T23:05:30.241962Z"
    }
   },
   "outputs": [],
   "source": [
    "feature_data = feature_data.dropna(subset=[TARGET]).reset_index(drop=True)"
   ]
  },
  {
   "cell_type": "code",
   "execution_count": 19,
   "id": "48247838",
   "metadata": {
    "ExecuteTime": {
     "end_time": "2021-11-11T23:05:35.405160Z",
     "start_time": "2021-11-11T23:05:35.136483Z"
    }
   },
   "outputs": [
    {
     "data": {
      "text/html": [
       "<div>\n",
       "<style scoped>\n",
       "    .dataframe tbody tr th:only-of-type {\n",
       "        vertical-align: middle;\n",
       "    }\n",
       "\n",
       "    .dataframe tbody tr th {\n",
       "        vertical-align: top;\n",
       "    }\n",
       "\n",
       "    .dataframe thead th {\n",
       "        text-align: right;\n",
       "    }\n",
       "</style>\n",
       "<table border=\"1\" class=\"dataframe\">\n",
       "  <thead>\n",
       "    <tr style=\"text-align: right;\">\n",
       "      <th></th>\n",
       "      <th>timestamp</th>\n",
       "      <th>Asset_ID</th>\n",
       "      <th>Count</th>\n",
       "      <th>Open</th>\n",
       "      <th>High</th>\n",
       "      <th>Low</th>\n",
       "      <th>Close</th>\n",
       "      <th>Volume</th>\n",
       "      <th>VWAP</th>\n",
       "      <th>Target</th>\n",
       "      <th>Asset_Name</th>\n",
       "      <th>date</th>\n",
       "      <th>upper_shadow</th>\n",
       "      <th>lower_shador</th>\n",
       "    </tr>\n",
       "  </thead>\n",
       "  <tbody>\n",
       "    <tr>\n",
       "      <th>0</th>\n",
       "      <td>1514764860</td>\n",
       "      <td>0</td>\n",
       "      <td>-1.644369</td>\n",
       "      <td>-1.473639</td>\n",
       "      <td>-1.474215</td>\n",
       "      <td>-1.477134</td>\n",
       "      <td>-1.465109</td>\n",
       "      <td>-1.571186</td>\n",
       "      <td>-1.470163</td>\n",
       "      <td>-0.014399</td>\n",
       "      <td>Binance Coin</td>\n",
       "      <td>2018-01-01 00:01:00</td>\n",
       "      <td>-0.009106</td>\n",
       "      <td>0.003496</td>\n",
       "    </tr>\n",
       "    <tr>\n",
       "      <th>1</th>\n",
       "      <td>1514764920</td>\n",
       "      <td>0</td>\n",
       "      <td>-1.384628</td>\n",
       "      <td>-1.473639</td>\n",
       "      <td>-1.474215</td>\n",
       "      <td>-1.478583</td>\n",
       "      <td>-1.466534</td>\n",
       "      <td>-1.610889</td>\n",
       "      <td>-1.471004</td>\n",
       "      <td>-0.015875</td>\n",
       "      <td>Binance Coin</td>\n",
       "      <td>2018-01-01 00:02:00</td>\n",
       "      <td>-0.007681</td>\n",
       "      <td>0.004945</td>\n",
       "    </tr>\n",
       "    <tr>\n",
       "      <th>2</th>\n",
       "      <td>1514764980</td>\n",
       "      <td>0</td>\n",
       "      <td>-0.001255</td>\n",
       "      <td>-1.475582</td>\n",
       "      <td>-1.474226</td>\n",
       "      <td>-1.481368</td>\n",
       "      <td>-1.469799</td>\n",
       "      <td>0.354653</td>\n",
       "      <td>-1.472624</td>\n",
       "      <td>-0.015410</td>\n",
       "      <td>Binance Coin</td>\n",
       "      <td>2018-01-01 00:03:00</td>\n",
       "      <td>-0.004426</td>\n",
       "      <td>0.005786</td>\n",
       "    </tr>\n",
       "    <tr>\n",
       "      <th>3</th>\n",
       "      <td>1514765040</td>\n",
       "      <td>0</td>\n",
       "      <td>-0.846278</td>\n",
       "      <td>-1.476045</td>\n",
       "      <td>-1.476538</td>\n",
       "      <td>-1.482346</td>\n",
       "      <td>-1.467787</td>\n",
       "      <td>-1.370906</td>\n",
       "      <td>-1.474487</td>\n",
       "      <td>-0.012524</td>\n",
       "      <td>Binance Coin</td>\n",
       "      <td>2018-01-01 00:04:00</td>\n",
       "      <td>-0.008751</td>\n",
       "      <td>0.006301</td>\n",
       "    </tr>\n",
       "    <tr>\n",
       "      <th>4</th>\n",
       "      <td>1514765100</td>\n",
       "      <td>0</td>\n",
       "      <td>-1.644369</td>\n",
       "      <td>-1.476061</td>\n",
       "      <td>-1.477093</td>\n",
       "      <td>-1.484270</td>\n",
       "      <td>-1.473464</td>\n",
       "      <td>-1.373546</td>\n",
       "      <td>-1.476324</td>\n",
       "      <td>-0.005940</td>\n",
       "      <td>Binance Coin</td>\n",
       "      <td>2018-01-01 00:05:00</td>\n",
       "      <td>-0.003629</td>\n",
       "      <td>0.008209</td>\n",
       "    </tr>\n",
       "  </tbody>\n",
       "</table>\n",
       "</div>"
      ],
      "text/plain": [
       "    timestamp  Asset_ID     Count      Open      High       Low     Close  \\\n",
       "0  1514764860         0 -1.644369 -1.473639 -1.474215 -1.477134 -1.465109   \n",
       "1  1514764920         0 -1.384628 -1.473639 -1.474215 -1.478583 -1.466534   \n",
       "2  1514764980         0 -0.001255 -1.475582 -1.474226 -1.481368 -1.469799   \n",
       "3  1514765040         0 -0.846278 -1.476045 -1.476538 -1.482346 -1.467787   \n",
       "4  1514765100         0 -1.644369 -1.476061 -1.477093 -1.484270 -1.473464   \n",
       "\n",
       "     Volume      VWAP    Target    Asset_Name                date  \\\n",
       "0 -1.571186 -1.470163 -0.014399  Binance Coin 2018-01-01 00:01:00   \n",
       "1 -1.610889 -1.471004 -0.015875  Binance Coin 2018-01-01 00:02:00   \n",
       "2  0.354653 -1.472624 -0.015410  Binance Coin 2018-01-01 00:03:00   \n",
       "3 -1.370906 -1.474487 -0.012524  Binance Coin 2018-01-01 00:04:00   \n",
       "4 -1.373546 -1.476324 -0.005940  Binance Coin 2018-01-01 00:05:00   \n",
       "\n",
       "   upper_shadow  lower_shador  \n",
       "0     -0.009106      0.003496  \n",
       "1     -0.007681      0.004945  \n",
       "2     -0.004426      0.005786  \n",
       "3     -0.008751      0.006301  \n",
       "4     -0.003629      0.008209  "
      ]
     },
     "execution_count": 19,
     "metadata": {},
     "output_type": "execute_result"
    }
   ],
   "source": [
    "feature_data.head()"
   ]
  },
  {
   "cell_type": "code",
   "execution_count": 20,
   "id": "190b158a",
   "metadata": {
    "ExecuteTime": {
     "end_time": "2021-11-11T23:05:35.467894Z",
     "start_time": "2021-11-11T23:05:35.408912Z"
    }
   },
   "outputs": [
    {
     "data": {
      "text/html": [
       "<div>\n",
       "<style scoped>\n",
       "    .dataframe tbody tr th:only-of-type {\n",
       "        vertical-align: middle;\n",
       "    }\n",
       "\n",
       "    .dataframe tbody tr th {\n",
       "        vertical-align: top;\n",
       "    }\n",
       "\n",
       "    .dataframe thead th {\n",
       "        text-align: right;\n",
       "    }\n",
       "</style>\n",
       "<table border=\"1\" class=\"dataframe\">\n",
       "  <thead>\n",
       "    <tr style=\"text-align: right;\">\n",
       "      <th></th>\n",
       "      <th>timestamp</th>\n",
       "      <th>Asset_ID</th>\n",
       "      <th>Count</th>\n",
       "      <th>Open</th>\n",
       "      <th>High</th>\n",
       "      <th>Low</th>\n",
       "      <th>Close</th>\n",
       "      <th>Volume</th>\n",
       "      <th>VWAP</th>\n",
       "      <th>Target</th>\n",
       "      <th>Asset_Name</th>\n",
       "      <th>date</th>\n",
       "      <th>upper_shadow</th>\n",
       "      <th>lower_shador</th>\n",
       "    </tr>\n",
       "  </thead>\n",
       "  <tbody>\n",
       "    <tr>\n",
       "      <th>23486463</th>\n",
       "      <td>1632181200</td>\n",
       "      <td>13</td>\n",
       "      <td>1.955779</td>\n",
       "      <td>1.625927</td>\n",
       "      <td>1.626286</td>\n",
       "      <td>1.637673</td>\n",
       "      <td>1.620733</td>\n",
       "      <td>1.602699</td>\n",
       "      <td>1.625785</td>\n",
       "      <td>0.000199</td>\n",
       "      <td>TRON</td>\n",
       "      <td>2021-09-20 23:40:00</td>\n",
       "      <td>0.000359</td>\n",
       "      <td>-0.016939</td>\n",
       "    </tr>\n",
       "    <tr>\n",
       "      <th>23486464</th>\n",
       "      <td>1632181260</td>\n",
       "      <td>13</td>\n",
       "      <td>1.731196</td>\n",
       "      <td>1.627776</td>\n",
       "      <td>1.629381</td>\n",
       "      <td>1.642360</td>\n",
       "      <td>1.625668</td>\n",
       "      <td>0.760857</td>\n",
       "      <td>1.630635</td>\n",
       "      <td>-0.003477</td>\n",
       "      <td>TRON</td>\n",
       "      <td>2021-09-20 23:41:00</td>\n",
       "      <td>0.001606</td>\n",
       "      <td>-0.016691</td>\n",
       "    </tr>\n",
       "    <tr>\n",
       "      <th>23486465</th>\n",
       "      <td>1632181320</td>\n",
       "      <td>13</td>\n",
       "      <td>1.531872</td>\n",
       "      <td>1.630145</td>\n",
       "      <td>1.629632</td>\n",
       "      <td>1.644315</td>\n",
       "      <td>1.625294</td>\n",
       "      <td>0.900464</td>\n",
       "      <td>1.631643</td>\n",
       "      <td>-0.002437</td>\n",
       "      <td>TRON</td>\n",
       "      <td>2021-09-20 23:42:00</td>\n",
       "      <td>-0.000513</td>\n",
       "      <td>-0.019021</td>\n",
       "    </tr>\n",
       "    <tr>\n",
       "      <th>23486466</th>\n",
       "      <td>1632181380</td>\n",
       "      <td>13</td>\n",
       "      <td>1.447533</td>\n",
       "      <td>1.630671</td>\n",
       "      <td>1.629562</td>\n",
       "      <td>1.643197</td>\n",
       "      <td>1.623404</td>\n",
       "      <td>0.579362</td>\n",
       "      <td>1.630741</td>\n",
       "      <td>0.004843</td>\n",
       "      <td>TRON</td>\n",
       "      <td>2021-09-20 23:43:00</td>\n",
       "      <td>-0.001108</td>\n",
       "      <td>-0.019793</td>\n",
       "    </tr>\n",
       "    <tr>\n",
       "      <th>23486467</th>\n",
       "      <td>1632181440</td>\n",
       "      <td>13</td>\n",
       "      <td>1.512917</td>\n",
       "      <td>1.627457</td>\n",
       "      <td>1.627381</td>\n",
       "      <td>1.639769</td>\n",
       "      <td>1.619671</td>\n",
       "      <td>0.726923</td>\n",
       "      <td>1.627627</td>\n",
       "      <td>0.004163</td>\n",
       "      <td>TRON</td>\n",
       "      <td>2021-09-20 23:44:00</td>\n",
       "      <td>-0.000076</td>\n",
       "      <td>-0.020098</td>\n",
       "    </tr>\n",
       "  </tbody>\n",
       "</table>\n",
       "</div>"
      ],
      "text/plain": [
       "           timestamp  Asset_ID     Count      Open      High       Low  \\\n",
       "23486463  1632181200        13  1.955779  1.625927  1.626286  1.637673   \n",
       "23486464  1632181260        13  1.731196  1.627776  1.629381  1.642360   \n",
       "23486465  1632181320        13  1.531872  1.630145  1.629632  1.644315   \n",
       "23486466  1632181380        13  1.447533  1.630671  1.629562  1.643197   \n",
       "23486467  1632181440        13  1.512917  1.627457  1.627381  1.639769   \n",
       "\n",
       "             Close    Volume      VWAP    Target Asset_Name  \\\n",
       "23486463  1.620733  1.602699  1.625785  0.000199       TRON   \n",
       "23486464  1.625668  0.760857  1.630635 -0.003477       TRON   \n",
       "23486465  1.625294  0.900464  1.631643 -0.002437       TRON   \n",
       "23486466  1.623404  0.579362  1.630741  0.004843       TRON   \n",
       "23486467  1.619671  0.726923  1.627627  0.004163       TRON   \n",
       "\n",
       "                        date  upper_shadow  lower_shador  \n",
       "23486463 2021-09-20 23:40:00      0.000359     -0.016939  \n",
       "23486464 2021-09-20 23:41:00      0.001606     -0.016691  \n",
       "23486465 2021-09-20 23:42:00     -0.000513     -0.019021  \n",
       "23486466 2021-09-20 23:43:00     -0.001108     -0.019793  \n",
       "23486467 2021-09-20 23:44:00     -0.000076     -0.020098  "
      ]
     },
     "execution_count": 20,
     "metadata": {},
     "output_type": "execute_result"
    }
   ],
   "source": [
    "feature_data.tail()"
   ]
  },
  {
   "cell_type": "code",
   "execution_count": 21,
   "id": "5c18a5c4",
   "metadata": {
    "ExecuteTime": {
     "end_time": "2021-11-11T23:05:35.529228Z",
     "start_time": "2021-11-11T23:05:35.479078Z"
    }
   },
   "outputs": [],
   "source": [
    "PULIC_LB_RANGE = ['2021-06-13 00:00:00',\n",
    "                  '2021-09-13 00:00:00'] # 3 MONTH WORTH OF DATA\n",
    "\n",
    "if USE_TOY_SAMPLE:\n",
    "    EVAL_PERIODS = [['2021-09-15', '2021-09-22']]\n",
    "\n",
    "elif USE_SAMPLE:\n",
    "    EVAL_PERIODS = [PULIC_LB_RANGE]\n",
    "    \n",
    "else:\n",
    "    EVAL_PERIODS = [['2019-01-01', '2019-04-01'],\n",
    "                    ['2021-03-13', '2021-06-12 00:00:00'], \n",
    "                    PULIC_LB_RANGE]\n",
    "    \n",
    "CV_PARAMS = {'gap_unit': 'min'}"
   ]
  },
  {
   "cell_type": "code",
   "execution_count": 22,
   "id": "00921561",
   "metadata": {
    "ExecuteTime": {
     "end_time": "2021-11-11T23:05:35.594681Z",
     "start_time": "2021-11-11T23:05:35.541705Z"
    }
   },
   "outputs": [
    {
     "data": {
      "text/plain": [
       "[['2019-01-01', '2019-04-01'],\n",
       " ['2021-03-13', '2021-06-12 00:00:00'],\n",
       " ['2021-06-13 00:00:00', '2021-09-13 00:00:00']]"
      ]
     },
     "execution_count": 22,
     "metadata": {},
     "output_type": "execute_result"
    }
   ],
   "source": [
    "EVAL_PERIODS"
   ]
  },
  {
   "cell_type": "code",
   "execution_count": 23,
   "id": "635f3b2c",
   "metadata": {
    "ExecuteTime": {
     "end_time": "2021-11-11T23:05:35.679969Z",
     "start_time": "2021-11-11T23:05:35.602327Z"
    }
   },
   "outputs": [],
   "source": [
    "# FEATURE TO TRAIN\n",
    "COLUMNS_TO_DROP = [TARGET, 'Asset_Name', 'date', 'timestamp']\n",
    "FEATURES = feature_data.columns.drop(COLUMNS_TO_DROP)\n",
    "\n",
    "# OUTPUT DIR\n",
    "OUTPUT_PATH = Path('artifacts/baseline/')\n",
    "if SAMPLE_LEVEL > 0:\n",
    "    OUTPUT_PATH = OUTPUT_PATH / f'sample/{SAMPLE_LEVEL}'\n",
    "OUTPUT_PATH.mkdir(exist_ok=True, parents=True)\n",
    "OUTPUT_MODEL_PATH = OUTPUT_PATH / 'xgb.pkl'\n"
   ]
  },
  {
   "cell_type": "code",
   "execution_count": 24,
   "id": "486fb023",
   "metadata": {
    "ExecuteTime": {
     "end_time": "2021-11-11T23:05:35.773362Z",
     "start_time": "2021-11-11T23:05:35.684569Z"
    }
   },
   "outputs": [],
   "source": [
    "model_params = util.load_config('conf/model/xgboost/base.yml')\n",
    "config = {'model': model_params, 'output_dir': str(OUTPUT_MODEL_PATH)}"
   ]
  },
  {
   "cell_type": "code",
   "execution_count": 25,
   "id": "25e1027a",
   "metadata": {
    "ExecuteTime": {
     "end_time": "2021-11-11T23:05:35.817131Z",
     "start_time": "2021-11-11T23:05:35.779718Z"
    }
   },
   "outputs": [],
   "source": [
    "### make transformer"
   ]
  },
  {
   "cell_type": "code",
   "execution_count": 26,
   "id": "2b6ec35b",
   "metadata": {
    "ExecuteTime": {
     "end_time": "2021-11-11T23:05:36.793580Z",
     "start_time": "2021-11-11T23:05:35.827804Z"
    }
   },
   "outputs": [],
   "source": [
    "from xgboost import XGBRegressor\n",
    "from lightgbm import LGBMRegressor\n",
    "import joblib"
   ]
  },
  {
   "cell_type": "code",
   "execution_count": 27,
   "id": "c5b9d0fc",
   "metadata": {
    "ExecuteTime": {
     "end_time": "2021-11-11T23:05:36.826550Z",
     "start_time": "2021-11-11T23:05:36.796050Z"
    }
   },
   "outputs": [],
   "source": [
    "from sklearn.preprocessing import FunctionTransformer"
   ]
  },
  {
   "cell_type": "code",
   "execution_count": 28,
   "id": "86f8d2e9",
   "metadata": {
    "ExecuteTime": {
     "end_time": "2021-11-11T23:05:36.893233Z",
     "start_time": "2021-11-11T23:05:36.862937Z"
    }
   },
   "outputs": [],
   "source": [
    "filter_pipeline = FunctionTransformer(lambda d: d[FEATURES])"
   ]
  },
  {
   "cell_type": "code",
   "execution_count": 29,
   "id": "a4a76638",
   "metadata": {
    "ExecuteTime": {
     "end_time": "2021-11-11T23:05:36.917400Z",
     "start_time": "2021-11-11T23:05:36.894851Z"
    }
   },
   "outputs": [],
   "source": [
    "def train_model(config, train_data: pd.DataFrame, valid_data: pd.DataFrame=None, pipeline=None):\n",
    "    model = Pipeline([('filter', filter_pipeline),\n",
    "                      ('model', XGBRegressor(**config['model']))])\n",
    "    model.fit(train_data, train_data[TARGET])    \n",
    "    return model"
   ]
  },
  {
   "cell_type": "code",
   "execution_count": 30,
   "id": "f4709912",
   "metadata": {
    "ExecuteTime": {
     "end_time": "2021-11-11T23:05:36.943957Z",
     "start_time": "2021-11-11T23:05:36.925507Z"
    }
   },
   "outputs": [],
   "source": [
    "def filter_by_index(df: pd.DataFrame, index) -> pd.DataFrame:\n",
    "    return df.loc[index, :].reset_index(drop=True)"
   ]
  },
  {
   "cell_type": "code",
   "execution_count": null,
   "id": "abffd1a9",
   "metadata": {
    "ExecuteTime": {
     "start_time": "2021-11-11T23:03:19.098Z"
    }
   },
   "outputs": [
    {
     "name": "stdout",
     "output_type": "stream",
     "text": [
      "fold=0\n",
      "theor_corr       0.010384\n",
      "weighted_corr    0.009833\n",
      "corr_min        -0.001408\n",
      "corr_max         0.027467\n",
      "corr_std         0.009773\n",
      "dtype: float64\n",
      "fold=1\n"
     ]
    }
   ],
   "source": [
    "CV = TimeSeriesSplit(EVAL_PERIODS, **CV_PARAMS)\n",
    "evaluator = Evaluator(cv=CV, score_fn=compute_metrics)\n",
    "eval_output = evaluator.run(train_model, config, feature_data)"
   ]
  },
  {
   "cell_type": "code",
   "execution_count": null,
   "id": "bda95266",
   "metadata": {
    "ExecuteTime": {
     "start_time": "2021-11-11T23:03:19.099Z"
    }
   },
   "outputs": [],
   "source": [
    "scores = pd.DataFrame([fold['scores'] for fold in eval_output])\n",
    "scores['eval_period'] = EVAL_PERIODS"
   ]
  },
  {
   "cell_type": "code",
   "execution_count": null,
   "id": "a1c4f0c8",
   "metadata": {
    "ExecuteTime": {
     "start_time": "2021-11-11T23:03:19.101Z"
    }
   },
   "outputs": [],
   "source": [
    "scores"
   ]
  },
  {
   "cell_type": "code",
   "execution_count": null,
   "id": "a4f49773",
   "metadata": {
    "ExecuteTime": {
     "start_time": "2021-11-11T23:03:19.102Z"
    }
   },
   "outputs": [],
   "source": [
    "valid_corrs = pd.concat([fold['corrs'].assign(fold=e) for e, fold in enumerate(eval_output)])\n",
    "valid_corrs['eval_period'] = valid_corrs['fold'].map(lambda d: EVAL_PERIODS[d])"
   ]
  },
  {
   "cell_type": "code",
   "execution_count": null,
   "id": "ee54fbc2",
   "metadata": {
    "ExecuteTime": {
     "start_time": "2021-11-11T23:03:19.104Z"
    }
   },
   "outputs": [],
   "source": [
    "valid_corrs"
   ]
  },
  {
   "cell_type": "code",
   "execution_count": null,
   "id": "a5ac89e6",
   "metadata": {
    "ExecuteTime": {
     "start_time": "2021-11-11T23:03:19.105Z"
    }
   },
   "outputs": [],
   "source": [
    "plt.figure(figsize=(8, 5))\n",
    "sns.barplot(x='Asset_Name', y='corr', data=valid_corrs)\n",
    "plt.xticks(rotation=90);"
   ]
  },
  {
   "cell_type": "code",
   "execution_count": null,
   "id": "2dcbd66e",
   "metadata": {
    "ExecuteTime": {
     "start_time": "2021-11-11T23:03:19.106Z"
    }
   },
   "outputs": [],
   "source": [
    "scores"
   ]
  },
  {
   "cell_type": "code",
   "execution_count": null,
   "id": "57937ff4",
   "metadata": {
    "ExecuteTime": {
     "start_time": "2021-11-11T23:03:19.108Z"
    }
   },
   "outputs": [],
   "source": [
    "if SAMPLE_LEVEL == 0:\n",
    "    scores_mean = scores.mean().to_dict()\n",
    "    valid_corrs.to_csv(OUTPUT_PATH / 'corrs.csv', index=False)\n",
    "    \n",
    "    scores.to_csv(OUTPUT_PATH / 'cv_scores.csv', index=False)\n",
    "    track_experiment('quantile-normalization-single-model', mlflow_experiment='leaderboard',\n",
    "                     config=config,\n",
    "                     scores=scores_mean, artifacts_dir=str(OUTPUT_PATH))"
   ]
  },
  {
   "cell_type": "code",
   "execution_count": null,
   "id": "e05bbd83",
   "metadata": {},
   "outputs": [],
   "source": []
  }
 ],
 "metadata": {
  "kernelspec": {
   "display_name": "Python 3 (ipykernel)",
   "language": "python",
   "name": "python3"
  },
  "language_info": {
   "codemirror_mode": {
    "name": "ipython",
    "version": 3
   },
   "file_extension": ".py",
   "mimetype": "text/x-python",
   "name": "python",
   "nbconvert_exporter": "python",
   "pygments_lexer": "ipython3",
   "version": "3.7.11"
  },
  "toc": {
   "base_numbering": 1,
   "nav_menu": {},
   "number_sections": true,
   "sideBar": true,
   "skip_h1_title": false,
   "title_cell": "Table of Contents",
   "title_sidebar": "Contents",
   "toc_cell": false,
   "toc_position": {},
   "toc_section_display": true,
   "toc_window_display": false
  }
 },
 "nbformat": 4,
 "nbformat_minor": 5
}
