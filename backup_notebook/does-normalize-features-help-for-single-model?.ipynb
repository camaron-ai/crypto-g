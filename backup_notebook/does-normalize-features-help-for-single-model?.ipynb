{
 "cells": [
  {
   "cell_type": "code",
   "execution_count": 38,
   "id": "33f16f59",
   "metadata": {
    "ExecuteTime": {
     "end_time": "2021-11-10T22:36:27.906949Z",
     "start_time": "2021-11-10T22:36:27.879710Z"
    }
   },
   "outputs": [
    {
     "name": "stdout",
     "output_type": "stream",
     "text": [
      "The autoreload extension is already loaded. To reload it, use:\n",
      "  %reload_ext autoreload\n"
     ]
    }
   ],
   "source": [
    "%load_ext autoreload\n",
    "%autoreload 2"
   ]
  },
  {
   "cell_type": "code",
   "execution_count": 39,
   "id": "f255bb4e",
   "metadata": {
    "ExecuteTime": {
     "end_time": "2021-11-10T22:36:27.927150Z",
     "start_time": "2021-11-10T22:36:27.910213Z"
    }
   },
   "outputs": [],
   "source": [
    "import pandas as pd\n",
    "import numpy as np\n",
    "from matplotlib import pyplot as plt\n",
    "import seaborn as sns\n",
    "from pathlib import Path\n",
    "import os\n",
    "import sys\n",
    "from IPython.display import display"
   ]
  },
  {
   "cell_type": "code",
   "execution_count": 40,
   "id": "136f5247",
   "metadata": {
    "ExecuteTime": {
     "end_time": "2021-11-10T22:36:27.947995Z",
     "start_time": "2021-11-10T22:36:27.929778Z"
    }
   },
   "outputs": [],
   "source": [
    "def on_kaggle() -> bool:\n",
    "    try:\n",
    "        import gresearch_crypto\n",
    "        return True\n",
    "    except ModuleNotFoundError:\n",
    "        return False"
   ]
  },
  {
   "cell_type": "code",
   "execution_count": 41,
   "id": "432ba6ef",
   "metadata": {
    "ExecuteTime": {
     "end_time": "2021-11-10T22:36:27.970259Z",
     "start_time": "2021-11-10T22:36:27.950227Z"
    }
   },
   "outputs": [],
   "source": [
    "# HYPER PARAMETERS\n",
    "ON_KAGGLE = on_kaggle()\n",
    "SAMPLE_LEVEL = 0\n",
    "\n",
    "USE_SAMPLE = SAMPLE_LEVEL == 1\n",
    "USE_TOY_SAMPLE = SAMPLE_LEVEL == 2\n",
    "\n",
    "FORCE_REWRITE = True#(ON_KAGGLE and SAMPLE_LEVEL == 0)"
   ]
  },
  {
   "cell_type": "code",
   "execution_count": 42,
   "id": "3ee2a957",
   "metadata": {
    "ExecuteTime": {
     "end_time": "2021-11-10T22:36:27.999040Z",
     "start_time": "2021-11-10T22:36:27.972958Z"
    }
   },
   "outputs": [],
   "source": [
    "if not ON_KAGGLE and os.path.abspath('.').endswith('notebook'):\n",
    "    os.chdir('../')"
   ]
  },
  {
   "cell_type": "code",
   "execution_count": 43,
   "id": "eee46e84",
   "metadata": {
    "ExecuteTime": {
     "end_time": "2021-11-10T22:36:28.022265Z",
     "start_time": "2021-11-10T22:36:28.001613Z"
    }
   },
   "outputs": [],
   "source": [
    "#IMPORT_SCRIPT!\n",
    "# THIS CELL WILL BE REMOVE WITH SCRIPTS IN SRC\n",
    "if './src/' not in sys.path:\n",
    "    sys.path.append('./src/')\n",
    "\n",
    "from preprocessing import *\n",
    "from metrics import *\n",
    "from cv import *\n",
    "from modeling import *\n",
    "from tracking import track_experiment\n",
    "import util"
   ]
  },
  {
   "cell_type": "code",
   "execution_count": 44,
   "id": "5dcd141e",
   "metadata": {
    "ExecuteTime": {
     "end_time": "2021-11-10T22:36:28.045239Z",
     "start_time": "2021-11-10T22:36:28.025144Z"
    }
   },
   "outputs": [],
   "source": [
    "if ON_KAGGLE:\n",
    "    RAW_DIR = Path('../input/g-research-crypto-forecasting/')\n",
    "    SAMPLE_DIR = Path('../input/create-sample-dataset/data/raw/sample/')\n",
    "    TOY_SAMPLE_DIR = Path('../input/create-sample-dataset/data/raw/toy_sample/')\n",
    "else:\n",
    "    RAW_DIR =  Path('data/raw')\n",
    "    TOY_SAMPLE_DIR = RAW_DIR.joinpath('toy_sample')\n",
    "    SAMPLE_DIR = RAW_DIR.joinpath('sample')\n",
    "\n",
    "# filename\n",
    "TRAIN_FILE = 'train.csv'\n",
    "ASSET_DETAILS_PATH = RAW_DIR / 'asset_details.csv'"
   ]
  },
  {
   "cell_type": "code",
   "execution_count": 45,
   "id": "74f7a9ab",
   "metadata": {
    "ExecuteTime": {
     "end_time": "2021-11-10T22:36:28.071274Z",
     "start_time": "2021-11-10T22:36:28.048176Z"
    }
   },
   "outputs": [
    {
     "name": "stdout",
     "output_type": "stream",
     "text": [
      "USING RAW DATASET\n"
     ]
    }
   ],
   "source": [
    "if USE_TOY_SAMPLE:\n",
    "    print('USING TOY DATASET')\n",
    "    RAW_TRAIN_PATH = TOY_SAMPLE_DIR / TRAIN_FILE\n",
    "\n",
    "elif USE_SAMPLE:\n",
    "    print('USING SAMPLE DATASET')\n",
    "    RAW_TRAIN_PATH = SAMPLE_DIR / TRAIN_FILE\n",
    "\n",
    "else:\n",
    "    print('USING RAW DATASET')\n",
    "    RAW_TRAIN_PATH = RAW_DIR / TRAIN_FILE\n",
    "\n",
    "assert RAW_TRAIN_PATH.exists()"
   ]
  },
  {
   "cell_type": "code",
   "execution_count": 46,
   "id": "28ef35af",
   "metadata": {
    "ExecuteTime": {
     "end_time": "2021-11-10T22:36:28.219203Z",
     "start_time": "2021-11-10T22:36:28.073855Z"
    }
   },
   "outputs": [
    {
     "name": "stdout",
     "output_type": "stream",
     "text": [
      "asset_details.csv\t\t   sample\r\n",
      "example_sample_submission.csv\t   supplemental_train.csv\r\n",
      "example_test.csv\t\t   toy_sample\r\n",
      "g-research-crypto-forecasting.zip  train.csv\r\n",
      "gresearch_crypto\r\n"
     ]
    }
   ],
   "source": [
    "!ls {RAW_DIR}"
   ]
  },
  {
   "cell_type": "code",
   "execution_count": 47,
   "id": "4b479f0e",
   "metadata": {
    "ExecuteTime": {
     "end_time": "2021-11-10T22:36:51.946551Z",
     "start_time": "2021-11-10T22:36:28.227446Z"
    },
    "scrolled": true
   },
   "outputs": [
    {
     "name": "stdout",
     "output_type": "stream",
     "text": [
      "CPU times: user 18.1 s, sys: 2.66 s, total: 20.8 s\n",
      "Wall time: 23.7 s\n"
     ]
    }
   ],
   "source": [
    "%%time \n",
    "raw_df = pd.read_csv(RAW_TRAIN_PATH)"
   ]
  },
  {
   "cell_type": "code",
   "execution_count": 48,
   "id": "5be54336",
   "metadata": {
    "ExecuteTime": {
     "end_time": "2021-11-10T22:37:02.011106Z",
     "start_time": "2021-11-10T22:36:51.951838Z"
    }
   },
   "outputs": [],
   "source": [
    "raw_df = ingest_data(raw_df, asset_details_path=ASSET_DETAILS_PATH)"
   ]
  },
  {
   "cell_type": "code",
   "execution_count": 49,
   "id": "d1722287",
   "metadata": {
    "ExecuteTime": {
     "end_time": "2021-11-10T22:37:10.853775Z",
     "start_time": "2021-11-10T22:37:02.044821Z"
    }
   },
   "outputs": [],
   "source": [
    "raw_df.sort_values(by=['Asset_ID', 'date'], inplace=True)\n",
    "raw_df.reset_index(drop=True, inplace=True)"
   ]
  },
  {
   "cell_type": "code",
   "execution_count": 50,
   "id": "3f9f8d35",
   "metadata": {
    "ExecuteTime": {
     "end_time": "2021-11-10T22:37:10.890688Z",
     "start_time": "2021-11-10T22:37:10.856783Z"
    },
    "scrolled": true
   },
   "outputs": [
    {
     "data": {
      "text/html": [
       "<div>\n",
       "<style scoped>\n",
       "    .dataframe tbody tr th:only-of-type {\n",
       "        vertical-align: middle;\n",
       "    }\n",
       "\n",
       "    .dataframe tbody tr th {\n",
       "        vertical-align: top;\n",
       "    }\n",
       "\n",
       "    .dataframe thead th {\n",
       "        text-align: right;\n",
       "    }\n",
       "</style>\n",
       "<table border=\"1\" class=\"dataframe\">\n",
       "  <thead>\n",
       "    <tr style=\"text-align: right;\">\n",
       "      <th></th>\n",
       "      <th>timestamp</th>\n",
       "      <th>Asset_ID</th>\n",
       "      <th>Count</th>\n",
       "      <th>Open</th>\n",
       "      <th>High</th>\n",
       "      <th>Low</th>\n",
       "      <th>Close</th>\n",
       "      <th>Volume</th>\n",
       "      <th>VWAP</th>\n",
       "      <th>Target</th>\n",
       "      <th>Asset_Name</th>\n",
       "      <th>date</th>\n",
       "    </tr>\n",
       "  </thead>\n",
       "  <tbody>\n",
       "    <tr>\n",
       "      <th>0</th>\n",
       "      <td>1514764860</td>\n",
       "      <td>0</td>\n",
       "      <td>5.0</td>\n",
       "      <td>8.5300</td>\n",
       "      <td>8.5300</td>\n",
       "      <td>8.5300</td>\n",
       "      <td>8.5300</td>\n",
       "      <td>78.38</td>\n",
       "      <td>8.530000</td>\n",
       "      <td>-0.014399</td>\n",
       "      <td>Binance Coin</td>\n",
       "      <td>2018-01-01 00:01:00</td>\n",
       "    </tr>\n",
       "    <tr>\n",
       "      <th>1</th>\n",
       "      <td>1514764920</td>\n",
       "      <td>0</td>\n",
       "      <td>7.0</td>\n",
       "      <td>8.5300</td>\n",
       "      <td>8.5300</td>\n",
       "      <td>8.5145</td>\n",
       "      <td>8.5145</td>\n",
       "      <td>71.39</td>\n",
       "      <td>8.520215</td>\n",
       "      <td>-0.015875</td>\n",
       "      <td>Binance Coin</td>\n",
       "      <td>2018-01-01 00:02:00</td>\n",
       "    </tr>\n",
       "    <tr>\n",
       "      <th>2</th>\n",
       "      <td>1514764980</td>\n",
       "      <td>0</td>\n",
       "      <td>45.0</td>\n",
       "      <td>8.5065</td>\n",
       "      <td>8.5299</td>\n",
       "      <td>8.4848</td>\n",
       "      <td>8.4848</td>\n",
       "      <td>1546.82</td>\n",
       "      <td>8.501393</td>\n",
       "      <td>-0.015410</td>\n",
       "      <td>Binance Coin</td>\n",
       "      <td>2018-01-01 00:03:00</td>\n",
       "    </tr>\n",
       "    <tr>\n",
       "      <th>3</th>\n",
       "      <td>1514765040</td>\n",
       "      <td>0</td>\n",
       "      <td>14.0</td>\n",
       "      <td>8.5009</td>\n",
       "      <td>8.5066</td>\n",
       "      <td>8.4744</td>\n",
       "      <td>8.5009</td>\n",
       "      <td>125.80</td>\n",
       "      <td>8.479810</td>\n",
       "      <td>-0.012524</td>\n",
       "      <td>Binance Coin</td>\n",
       "      <td>2018-01-01 00:04:00</td>\n",
       "    </tr>\n",
       "    <tr>\n",
       "      <th>4</th>\n",
       "      <td>1514765100</td>\n",
       "      <td>0</td>\n",
       "      <td>5.0</td>\n",
       "      <td>8.5007</td>\n",
       "      <td>8.5007</td>\n",
       "      <td>8.4560</td>\n",
       "      <td>8.4560</td>\n",
       "      <td>125.01</td>\n",
       "      <td>8.458435</td>\n",
       "      <td>-0.005940</td>\n",
       "      <td>Binance Coin</td>\n",
       "      <td>2018-01-01 00:05:00</td>\n",
       "    </tr>\n",
       "  </tbody>\n",
       "</table>\n",
       "</div>"
      ],
      "text/plain": [
       "    timestamp  Asset_ID  Count    Open    High     Low   Close   Volume  \\\n",
       "0  1514764860         0    5.0  8.5300  8.5300  8.5300  8.5300    78.38   \n",
       "1  1514764920         0    7.0  8.5300  8.5300  8.5145  8.5145    71.39   \n",
       "2  1514764980         0   45.0  8.5065  8.5299  8.4848  8.4848  1546.82   \n",
       "3  1514765040         0   14.0  8.5009  8.5066  8.4744  8.5009   125.80   \n",
       "4  1514765100         0    5.0  8.5007  8.5007  8.4560  8.4560   125.01   \n",
       "\n",
       "       VWAP    Target    Asset_Name                date  \n",
       "0  8.530000 -0.014399  Binance Coin 2018-01-01 00:01:00  \n",
       "1  8.520215 -0.015875  Binance Coin 2018-01-01 00:02:00  \n",
       "2  8.501393 -0.015410  Binance Coin 2018-01-01 00:03:00  \n",
       "3  8.479810 -0.012524  Binance Coin 2018-01-01 00:04:00  \n",
       "4  8.458435 -0.005940  Binance Coin 2018-01-01 00:05:00  "
      ]
     },
     "execution_count": 50,
     "metadata": {},
     "output_type": "execute_result"
    }
   ],
   "source": [
    "raw_df.head()"
   ]
  },
  {
   "cell_type": "code",
   "execution_count": 51,
   "id": "4f7747d4",
   "metadata": {
    "ExecuteTime": {
     "end_time": "2021-11-10T22:37:10.911075Z",
     "start_time": "2021-11-10T22:37:10.892836Z"
    }
   },
   "outputs": [],
   "source": [
    "TARGET = 'Target'\n",
    "INDEX_COLS = ['Asset_ID', 'Asset_Name', 'date', 'timestamp']"
   ]
  },
  {
   "cell_type": "code",
   "execution_count": 52,
   "id": "fc2e0fa0",
   "metadata": {
    "ExecuteTime": {
     "end_time": "2021-11-10T22:37:10.934602Z",
     "start_time": "2021-11-10T22:37:10.913500Z"
    }
   },
   "outputs": [],
   "source": [
    "RAW_FEATURES = ['Count', 'Open', 'High', 'Low', 'Close',\n",
    "       'Volume', 'VWAP']"
   ]
  },
  {
   "cell_type": "code",
   "execution_count": 53,
   "id": "0e3efed8",
   "metadata": {
    "ExecuteTime": {
     "end_time": "2021-11-10T22:37:19.457937Z",
     "start_time": "2021-11-10T22:37:10.937344Z"
    }
   },
   "outputs": [],
   "source": [
    "for feature in RAW_FEATURES:\n",
    "    fmin = raw_df.groupby('Asset_ID')[feature].min()\n",
    "    fmax = raw_df.groupby('Asset_ID')[feature].max()\n",
    "    \n",
    "    broadcasted_fmin = raw_df['Asset_ID'].map(fmin)\n",
    "    broadcasted_fmax = raw_df['Asset_ID'].map(fmax)\n",
    "    \n",
    "    raw_df[feature] = (raw_df[feature] - broadcasted_fmin) / (broadcasted_fmax - broadcasted_fmin)"
   ]
  },
  {
   "cell_type": "code",
   "execution_count": 54,
   "id": "c6388daf",
   "metadata": {
    "ExecuteTime": {
     "end_time": "2021-11-10T22:37:20.330609Z",
     "start_time": "2021-11-10T22:37:19.459812Z"
    }
   },
   "outputs": [],
   "source": [
    "feature_data = compute_features(raw_df)"
   ]
  },
  {
   "cell_type": "code",
   "execution_count": 55,
   "id": "aa0aa048",
   "metadata": {
    "ExecuteTime": {
     "end_time": "2021-11-10T22:37:22.538266Z",
     "start_time": "2021-11-10T22:37:20.332320Z"
    }
   },
   "outputs": [],
   "source": [
    "feature_data = feature_data.dropna(subset=[TARGET]).reset_index(drop=True)"
   ]
  },
  {
   "cell_type": "code",
   "execution_count": 56,
   "id": "48247838",
   "metadata": {
    "ExecuteTime": {
     "end_time": "2021-11-10T22:37:22.573224Z",
     "start_time": "2021-11-10T22:37:22.539925Z"
    }
   },
   "outputs": [
    {
     "data": {
      "text/html": [
       "<div>\n",
       "<style scoped>\n",
       "    .dataframe tbody tr th:only-of-type {\n",
       "        vertical-align: middle;\n",
       "    }\n",
       "\n",
       "    .dataframe tbody tr th {\n",
       "        vertical-align: top;\n",
       "    }\n",
       "\n",
       "    .dataframe thead th {\n",
       "        text-align: right;\n",
       "    }\n",
       "</style>\n",
       "<table border=\"1\" class=\"dataframe\">\n",
       "  <thead>\n",
       "    <tr style=\"text-align: right;\">\n",
       "      <th></th>\n",
       "      <th>timestamp</th>\n",
       "      <th>Asset_ID</th>\n",
       "      <th>Count</th>\n",
       "      <th>Open</th>\n",
       "      <th>High</th>\n",
       "      <th>Low</th>\n",
       "      <th>Close</th>\n",
       "      <th>Volume</th>\n",
       "      <th>VWAP</th>\n",
       "      <th>Target</th>\n",
       "      <th>Asset_Name</th>\n",
       "      <th>date</th>\n",
       "      <th>upper_shadow</th>\n",
       "      <th>lower_shador</th>\n",
       "    </tr>\n",
       "  </thead>\n",
       "  <tbody>\n",
       "    <tr>\n",
       "      <th>0</th>\n",
       "      <td>1514764860</td>\n",
       "      <td>0</td>\n",
       "      <td>0.000125</td>\n",
       "      <td>0.006409</td>\n",
       "      <td>0.006385</td>\n",
       "      <td>0.006434</td>\n",
       "      <td>0.006415</td>\n",
       "      <td>0.000369</td>\n",
       "      <td>0.006412</td>\n",
       "      <td>-0.014399</td>\n",
       "      <td>Binance Coin</td>\n",
       "      <td>2018-01-01 00:01:00</td>\n",
       "      <td>-0.000031</td>\n",
       "      <td>-0.000025</td>\n",
       "    </tr>\n",
       "    <tr>\n",
       "      <th>1</th>\n",
       "      <td>1514764920</td>\n",
       "      <td>0</td>\n",
       "      <td>0.000187</td>\n",
       "      <td>0.006409</td>\n",
       "      <td>0.006385</td>\n",
       "      <td>0.006412</td>\n",
       "      <td>0.006393</td>\n",
       "      <td>0.000336</td>\n",
       "      <td>0.006398</td>\n",
       "      <td>-0.015875</td>\n",
       "      <td>Binance Coin</td>\n",
       "      <td>2018-01-01 00:02:00</td>\n",
       "      <td>-0.000025</td>\n",
       "      <td>-0.000019</td>\n",
       "    </tr>\n",
       "    <tr>\n",
       "      <th>2</th>\n",
       "      <td>1514764980</td>\n",
       "      <td>0</td>\n",
       "      <td>0.001373</td>\n",
       "      <td>0.006375</td>\n",
       "      <td>0.006384</td>\n",
       "      <td>0.006368</td>\n",
       "      <td>0.006350</td>\n",
       "      <td>0.007283</td>\n",
       "      <td>0.006370</td>\n",
       "      <td>-0.015410</td>\n",
       "      <td>Binance Coin</td>\n",
       "      <td>2018-01-01 00:03:00</td>\n",
       "      <td>0.000009</td>\n",
       "      <td>-0.000019</td>\n",
       "    </tr>\n",
       "    <tr>\n",
       "      <th>3</th>\n",
       "      <td>1514765040</td>\n",
       "      <td>0</td>\n",
       "      <td>0.000406</td>\n",
       "      <td>0.006367</td>\n",
       "      <td>0.006351</td>\n",
       "      <td>0.006353</td>\n",
       "      <td>0.006373</td>\n",
       "      <td>0.000592</td>\n",
       "      <td>0.006339</td>\n",
       "      <td>-0.012524</td>\n",
       "      <td>Binance Coin</td>\n",
       "      <td>2018-01-01 00:04:00</td>\n",
       "      <td>-0.000022</td>\n",
       "      <td>0.000013</td>\n",
       "    </tr>\n",
       "    <tr>\n",
       "      <th>4</th>\n",
       "      <td>1514765100</td>\n",
       "      <td>0</td>\n",
       "      <td>0.000125</td>\n",
       "      <td>0.006366</td>\n",
       "      <td>0.006342</td>\n",
       "      <td>0.006326</td>\n",
       "      <td>0.006308</td>\n",
       "      <td>0.000589</td>\n",
       "      <td>0.006308</td>\n",
       "      <td>-0.005940</td>\n",
       "      <td>Binance Coin</td>\n",
       "      <td>2018-01-01 00:05:00</td>\n",
       "      <td>-0.000025</td>\n",
       "      <td>-0.000019</td>\n",
       "    </tr>\n",
       "  </tbody>\n",
       "</table>\n",
       "</div>"
      ],
      "text/plain": [
       "    timestamp  Asset_ID     Count      Open      High       Low     Close  \\\n",
       "0  1514764860         0  0.000125  0.006409  0.006385  0.006434  0.006415   \n",
       "1  1514764920         0  0.000187  0.006409  0.006385  0.006412  0.006393   \n",
       "2  1514764980         0  0.001373  0.006375  0.006384  0.006368  0.006350   \n",
       "3  1514765040         0  0.000406  0.006367  0.006351  0.006353  0.006373   \n",
       "4  1514765100         0  0.000125  0.006366  0.006342  0.006326  0.006308   \n",
       "\n",
       "     Volume      VWAP    Target    Asset_Name                date  \\\n",
       "0  0.000369  0.006412 -0.014399  Binance Coin 2018-01-01 00:01:00   \n",
       "1  0.000336  0.006398 -0.015875  Binance Coin 2018-01-01 00:02:00   \n",
       "2  0.007283  0.006370 -0.015410  Binance Coin 2018-01-01 00:03:00   \n",
       "3  0.000592  0.006339 -0.012524  Binance Coin 2018-01-01 00:04:00   \n",
       "4  0.000589  0.006308 -0.005940  Binance Coin 2018-01-01 00:05:00   \n",
       "\n",
       "   upper_shadow  lower_shador  \n",
       "0     -0.000031     -0.000025  \n",
       "1     -0.000025     -0.000019  \n",
       "2      0.000009     -0.000019  \n",
       "3     -0.000022      0.000013  \n",
       "4     -0.000025     -0.000019  "
      ]
     },
     "execution_count": 56,
     "metadata": {},
     "output_type": "execute_result"
    }
   ],
   "source": [
    "feature_data.head()"
   ]
  },
  {
   "cell_type": "code",
   "execution_count": 57,
   "id": "190b158a",
   "metadata": {
    "ExecuteTime": {
     "end_time": "2021-11-10T22:37:23.186903Z",
     "start_time": "2021-11-10T22:37:22.576603Z"
    }
   },
   "outputs": [
    {
     "data": {
      "text/html": [
       "<div>\n",
       "<style scoped>\n",
       "    .dataframe tbody tr th:only-of-type {\n",
       "        vertical-align: middle;\n",
       "    }\n",
       "\n",
       "    .dataframe tbody tr th {\n",
       "        vertical-align: top;\n",
       "    }\n",
       "\n",
       "    .dataframe thead th {\n",
       "        text-align: right;\n",
       "    }\n",
       "</style>\n",
       "<table border=\"1\" class=\"dataframe\">\n",
       "  <thead>\n",
       "    <tr style=\"text-align: right;\">\n",
       "      <th></th>\n",
       "      <th>timestamp</th>\n",
       "      <th>Asset_ID</th>\n",
       "      <th>Count</th>\n",
       "      <th>Open</th>\n",
       "      <th>High</th>\n",
       "      <th>Low</th>\n",
       "      <th>Close</th>\n",
       "      <th>Volume</th>\n",
       "      <th>VWAP</th>\n",
       "      <th>Target</th>\n",
       "      <th>Asset_Name</th>\n",
       "      <th>date</th>\n",
       "      <th>upper_shadow</th>\n",
       "      <th>lower_shador</th>\n",
       "    </tr>\n",
       "  </thead>\n",
       "  <tbody>\n",
       "    <tr>\n",
       "      <th>23486463</th>\n",
       "      <td>1632181200</td>\n",
       "      <td>13</td>\n",
       "      <td>0.031926</td>\n",
       "      <td>0.485383</td>\n",
       "      <td>0.485087</td>\n",
       "      <td>0.487113</td>\n",
       "      <td>0.485511</td>\n",
       "      <td>0.016266</td>\n",
       "      <td>0.485645</td>\n",
       "      <td>0.000199</td>\n",
       "      <td>TRON</td>\n",
       "      <td>2021-09-20 23:40:00</td>\n",
       "      <td>-0.000424</td>\n",
       "      <td>-0.001729</td>\n",
       "    </tr>\n",
       "    <tr>\n",
       "      <th>23486464</th>\n",
       "      <td>1632181260</td>\n",
       "      <td>13</td>\n",
       "      <td>0.023142</td>\n",
       "      <td>0.486110</td>\n",
       "      <td>0.486378</td>\n",
       "      <td>0.488679</td>\n",
       "      <td>0.487027</td>\n",
       "      <td>0.005642</td>\n",
       "      <td>0.487345</td>\n",
       "      <td>-0.003477</td>\n",
       "      <td>TRON</td>\n",
       "      <td>2021-09-20 23:41:00</td>\n",
       "      <td>-0.000649</td>\n",
       "      <td>-0.002569</td>\n",
       "    </tr>\n",
       "    <tr>\n",
       "      <th>23486465</th>\n",
       "      <td>1632181320</td>\n",
       "      <td>13</td>\n",
       "      <td>0.017049</td>\n",
       "      <td>0.487038</td>\n",
       "      <td>0.486483</td>\n",
       "      <td>0.489328</td>\n",
       "      <td>0.486891</td>\n",
       "      <td>0.006768</td>\n",
       "      <td>0.487697</td>\n",
       "      <td>-0.002437</td>\n",
       "      <td>TRON</td>\n",
       "      <td>2021-09-20 23:42:00</td>\n",
       "      <td>-0.000556</td>\n",
       "      <td>-0.002437</td>\n",
       "    </tr>\n",
       "    <tr>\n",
       "      <th>23486466</th>\n",
       "      <td>1632181380</td>\n",
       "      <td>13</td>\n",
       "      <td>0.014974</td>\n",
       "      <td>0.487244</td>\n",
       "      <td>0.486454</td>\n",
       "      <td>0.488957</td>\n",
       "      <td>0.486320</td>\n",
       "      <td>0.004450</td>\n",
       "      <td>0.487382</td>\n",
       "      <td>0.004843</td>\n",
       "      <td>TRON</td>\n",
       "      <td>2021-09-20 23:43:00</td>\n",
       "      <td>-0.000790</td>\n",
       "      <td>-0.002637</td>\n",
       "    </tr>\n",
       "    <tr>\n",
       "      <th>23486467</th>\n",
       "      <td>1632181440</td>\n",
       "      <td>13</td>\n",
       "      <td>0.016562</td>\n",
       "      <td>0.485985</td>\n",
       "      <td>0.485545</td>\n",
       "      <td>0.487814</td>\n",
       "      <td>0.485188</td>\n",
       "      <td>0.005392</td>\n",
       "      <td>0.486292</td>\n",
       "      <td>0.004163</td>\n",
       "      <td>TRON</td>\n",
       "      <td>2021-09-20 23:44:00</td>\n",
       "      <td>-0.000440</td>\n",
       "      <td>-0.002626</td>\n",
       "    </tr>\n",
       "  </tbody>\n",
       "</table>\n",
       "</div>"
      ],
      "text/plain": [
       "           timestamp  Asset_ID     Count      Open      High       Low  \\\n",
       "23486463  1632181200        13  0.031926  0.485383  0.485087  0.487113   \n",
       "23486464  1632181260        13  0.023142  0.486110  0.486378  0.488679   \n",
       "23486465  1632181320        13  0.017049  0.487038  0.486483  0.489328   \n",
       "23486466  1632181380        13  0.014974  0.487244  0.486454  0.488957   \n",
       "23486467  1632181440        13  0.016562  0.485985  0.485545  0.487814   \n",
       "\n",
       "             Close    Volume      VWAP    Target Asset_Name  \\\n",
       "23486463  0.485511  0.016266  0.485645  0.000199       TRON   \n",
       "23486464  0.487027  0.005642  0.487345 -0.003477       TRON   \n",
       "23486465  0.486891  0.006768  0.487697 -0.002437       TRON   \n",
       "23486466  0.486320  0.004450  0.487382  0.004843       TRON   \n",
       "23486467  0.485188  0.005392  0.486292  0.004163       TRON   \n",
       "\n",
       "                        date  upper_shadow  lower_shador  \n",
       "23486463 2021-09-20 23:40:00     -0.000424     -0.001729  \n",
       "23486464 2021-09-20 23:41:00     -0.000649     -0.002569  \n",
       "23486465 2021-09-20 23:42:00     -0.000556     -0.002437  \n",
       "23486466 2021-09-20 23:43:00     -0.000790     -0.002637  \n",
       "23486467 2021-09-20 23:44:00     -0.000440     -0.002626  "
      ]
     },
     "execution_count": 57,
     "metadata": {},
     "output_type": "execute_result"
    }
   ],
   "source": [
    "feature_data.tail()"
   ]
  },
  {
   "cell_type": "code",
   "execution_count": 58,
   "id": "5c18a5c4",
   "metadata": {
    "ExecuteTime": {
     "end_time": "2021-11-10T22:37:23.217060Z",
     "start_time": "2021-11-10T22:37:23.189785Z"
    }
   },
   "outputs": [],
   "source": [
    "PULIC_LB_RANGE = ['2021-06-13 00:00:00',\n",
    "                  '2021-09-13 00:00:00'] # 3 MONTH WORTH OF DATA\n",
    "\n",
    "if USE_TOY_SAMPLE:\n",
    "    EVAL_PERIODS = [['2021-09-15', '2021-09-22']]\n",
    "\n",
    "elif USE_SAMPLE:\n",
    "    EVAL_PERIODS = [PULIC_LB_RANGE]\n",
    "    \n",
    "else:\n",
    "    EVAL_PERIODS = [['2019-01-01', '2019-04-01'],\n",
    "                    ['2021-03-13', '2021-06-12 00:00:00'], \n",
    "                    PULIC_LB_RANGE]\n",
    "    \n",
    "CV_PARAMS = {'gap_unit': 'min'}"
   ]
  },
  {
   "cell_type": "code",
   "execution_count": 59,
   "id": "635f3b2c",
   "metadata": {
    "ExecuteTime": {
     "end_time": "2021-11-10T22:37:23.238132Z",
     "start_time": "2021-11-10T22:37:23.219660Z"
    }
   },
   "outputs": [],
   "source": [
    "# FEATURE TO TRAIN\n",
    "COLUMNS_TO_DROP = [TARGET, 'Asset_Name', 'date', 'timestamp']\n",
    "FEATURES = feature_data.columns.drop(COLUMNS_TO_DROP)\n",
    "\n",
    "# OUTPUT DIR\n",
    "OUTPUT_PATH = Path('artifacts/baseline/')\n",
    "if SAMPLE_LEVEL > 0:\n",
    "    OUTPUT_PATH = OUTPUT_PATH / f'sample/{SAMPLE_LEVEL}'\n",
    "OUTPUT_PATH.mkdir(exist_ok=True, parents=True)\n",
    "OUTPUT_MODEL_PATH = OUTPUT_PATH / 'xgb.pkl'\n"
   ]
  },
  {
   "cell_type": "code",
   "execution_count": 60,
   "id": "486fb023",
   "metadata": {
    "ExecuteTime": {
     "end_time": "2021-11-10T22:37:23.262290Z",
     "start_time": "2021-11-10T22:37:23.241907Z"
    }
   },
   "outputs": [],
   "source": [
    "model_params = util.load_config('conf/model/xgboost/base.yml')\n",
    "config = {'model': model_params, 'output_dir': str(OUTPUT_MODEL_PATH)}"
   ]
  },
  {
   "cell_type": "code",
   "execution_count": 61,
   "id": "25e1027a",
   "metadata": {
    "ExecuteTime": {
     "end_time": "2021-11-10T22:37:23.283136Z",
     "start_time": "2021-11-10T22:37:23.264835Z"
    }
   },
   "outputs": [],
   "source": [
    "### make transformer"
   ]
  },
  {
   "cell_type": "code",
   "execution_count": 62,
   "id": "2b6ec35b",
   "metadata": {
    "ExecuteTime": {
     "end_time": "2021-11-10T22:37:23.314941Z",
     "start_time": "2021-11-10T22:37:23.285918Z"
    }
   },
   "outputs": [],
   "source": [
    "from xgboost import XGBRegressor\n",
    "from lightgbm import LGBMRegressor\n",
    "import joblib"
   ]
  },
  {
   "cell_type": "code",
   "execution_count": 63,
   "id": "c5b9d0fc",
   "metadata": {
    "ExecuteTime": {
     "end_time": "2021-11-10T22:37:23.334742Z",
     "start_time": "2021-11-10T22:37:23.317627Z"
    }
   },
   "outputs": [],
   "source": [
    "from sklearn.preprocessing import FunctionTransformer"
   ]
  },
  {
   "cell_type": "code",
   "execution_count": 64,
   "id": "86f8d2e9",
   "metadata": {
    "ExecuteTime": {
     "end_time": "2021-11-10T22:37:23.353693Z",
     "start_time": "2021-11-10T22:37:23.336285Z"
    }
   },
   "outputs": [],
   "source": [
    "filter_pipeline = FunctionTransformer(lambda d: d[FEATURES])"
   ]
  },
  {
   "cell_type": "code",
   "execution_count": 65,
   "id": "a4a76638",
   "metadata": {
    "ExecuteTime": {
     "end_time": "2021-11-10T22:37:23.377967Z",
     "start_time": "2021-11-10T22:37:23.358380Z"
    }
   },
   "outputs": [],
   "source": [
    "def train_model(config, train_data: pd.DataFrame, valid_data: pd.DataFrame=None, pipeline=None):\n",
    "    model = Pipeline([('filter', filter_pipeline),\n",
    "                      ('model', XGBRegressor(**config['model']))])\n",
    "    model.fit(train_data, train_data[TARGET])    \n",
    "    return model"
   ]
  },
  {
   "cell_type": "code",
   "execution_count": 66,
   "id": "f4709912",
   "metadata": {
    "ExecuteTime": {
     "end_time": "2021-11-10T22:37:23.415599Z",
     "start_time": "2021-11-10T22:37:23.380499Z"
    }
   },
   "outputs": [],
   "source": [
    "def filter_by_index(df: pd.DataFrame, index) -> pd.DataFrame:\n",
    "    return df.loc[index, :].reset_index(drop=True)"
   ]
  },
  {
   "cell_type": "code",
   "execution_count": 67,
   "id": "abffd1a9",
   "metadata": {
    "ExecuteTime": {
     "end_time": "2021-11-10T23:09:23.281953Z",
     "start_time": "2021-11-10T22:37:23.417379Z"
    }
   },
   "outputs": [
    {
     "name": "stdout",
     "output_type": "stream",
     "text": [
      "fold=0\n",
      "weighted_corr    0.008330\n",
      "theor_corr       0.005925\n",
      "corr_min        -0.009180\n",
      "corr_max         0.038637\n",
      "corr_std         0.014769\n",
      "dtype: float64\n",
      "fold=1\n",
      "weighted_corr   -0.000930\n",
      "theor_corr       0.001447\n",
      "corr_min        -0.028276\n",
      "corr_max         0.036525\n",
      "corr_std         0.015277\n",
      "dtype: float64\n",
      "fold=2\n",
      "weighted_corr    0.002824\n",
      "theor_corr       0.003108\n",
      "corr_min        -0.029628\n",
      "corr_max         0.046823\n",
      "corr_std         0.018101\n",
      "dtype: float64\n"
     ]
    }
   ],
   "source": [
    "CV = TimeSeriesSplit(EVAL_PERIODS, **CV_PARAMS)\n",
    "evaluator = Evaluator(cv=CV, score_fn=compute_metrics)\n",
    "eval_output = evaluator.run(train_model, config, feature_data)"
   ]
  },
  {
   "cell_type": "code",
   "execution_count": 68,
   "id": "bda95266",
   "metadata": {
    "ExecuteTime": {
     "end_time": "2021-11-10T23:09:23.836116Z",
     "start_time": "2021-11-10T23:09:23.305898Z"
    }
   },
   "outputs": [],
   "source": [
    "scores = pd.DataFrame([fold['scores'] for fold in eval_output])\n",
    "scores['eval_period'] = EVAL_PERIODS"
   ]
  },
  {
   "cell_type": "code",
   "execution_count": 69,
   "id": "a1c4f0c8",
   "metadata": {
    "ExecuteTime": {
     "end_time": "2021-11-10T23:09:23.892791Z",
     "start_time": "2021-11-10T23:09:23.844311Z"
    }
   },
   "outputs": [
    {
     "data": {
      "text/html": [
       "<div>\n",
       "<style scoped>\n",
       "    .dataframe tbody tr th:only-of-type {\n",
       "        vertical-align: middle;\n",
       "    }\n",
       "\n",
       "    .dataframe tbody tr th {\n",
       "        vertical-align: top;\n",
       "    }\n",
       "\n",
       "    .dataframe thead th {\n",
       "        text-align: right;\n",
       "    }\n",
       "</style>\n",
       "<table border=\"1\" class=\"dataframe\">\n",
       "  <thead>\n",
       "    <tr style=\"text-align: right;\">\n",
       "      <th></th>\n",
       "      <th>weighted_corr</th>\n",
       "      <th>theor_corr</th>\n",
       "      <th>corr_min</th>\n",
       "      <th>corr_max</th>\n",
       "      <th>corr_std</th>\n",
       "      <th>eval_period</th>\n",
       "    </tr>\n",
       "  </thead>\n",
       "  <tbody>\n",
       "    <tr>\n",
       "      <th>0</th>\n",
       "      <td>0.008330</td>\n",
       "      <td>0.005925</td>\n",
       "      <td>-0.009180</td>\n",
       "      <td>0.038637</td>\n",
       "      <td>0.014769</td>\n",
       "      <td>[2019-01-01, 2019-04-01]</td>\n",
       "    </tr>\n",
       "    <tr>\n",
       "      <th>1</th>\n",
       "      <td>-0.000930</td>\n",
       "      <td>0.001447</td>\n",
       "      <td>-0.028276</td>\n",
       "      <td>0.036525</td>\n",
       "      <td>0.015277</td>\n",
       "      <td>[2021-03-13, 2021-06-12 00:00:00]</td>\n",
       "    </tr>\n",
       "    <tr>\n",
       "      <th>2</th>\n",
       "      <td>0.002824</td>\n",
       "      <td>0.003108</td>\n",
       "      <td>-0.029628</td>\n",
       "      <td>0.046823</td>\n",
       "      <td>0.018101</td>\n",
       "      <td>[2021-06-13 00:00:00, 2021-09-13 00:00:00]</td>\n",
       "    </tr>\n",
       "  </tbody>\n",
       "</table>\n",
       "</div>"
      ],
      "text/plain": [
       "   weighted_corr  theor_corr  corr_min  corr_max  corr_std  \\\n",
       "0       0.008330    0.005925 -0.009180  0.038637  0.014769   \n",
       "1      -0.000930    0.001447 -0.028276  0.036525  0.015277   \n",
       "2       0.002824    0.003108 -0.029628  0.046823  0.018101   \n",
       "\n",
       "                                  eval_period  \n",
       "0                    [2019-01-01, 2019-04-01]  \n",
       "1           [2021-03-13, 2021-06-12 00:00:00]  \n",
       "2  [2021-06-13 00:00:00, 2021-09-13 00:00:00]  "
      ]
     },
     "execution_count": 69,
     "metadata": {},
     "output_type": "execute_result"
    }
   ],
   "source": [
    "scores"
   ]
  },
  {
   "cell_type": "code",
   "execution_count": 70,
   "id": "a4f49773",
   "metadata": {
    "ExecuteTime": {
     "end_time": "2021-11-10T23:09:23.931801Z",
     "start_time": "2021-11-10T23:09:23.897415Z"
    }
   },
   "outputs": [],
   "source": [
    "valid_corrs = pd.concat([fold['corrs'].assign(fold=e) for e, fold in enumerate(eval_output)])\n",
    "valid_corrs['eval_period'] = valid_corrs['fold'].map(lambda d: EVAL_PERIODS[d])"
   ]
  },
  {
   "cell_type": "code",
   "execution_count": 71,
   "id": "ee54fbc2",
   "metadata": {
    "ExecuteTime": {
     "end_time": "2021-11-10T23:09:23.971856Z",
     "start_time": "2021-11-10T23:09:23.933806Z"
    }
   },
   "outputs": [
    {
     "data": {
      "text/html": [
       "<div>\n",
       "<style scoped>\n",
       "    .dataframe tbody tr th:only-of-type {\n",
       "        vertical-align: middle;\n",
       "    }\n",
       "\n",
       "    .dataframe tbody tr th {\n",
       "        vertical-align: top;\n",
       "    }\n",
       "\n",
       "    .dataframe thead th {\n",
       "        text-align: right;\n",
       "    }\n",
       "</style>\n",
       "<table border=\"1\" class=\"dataframe\">\n",
       "  <thead>\n",
       "    <tr style=\"text-align: right;\">\n",
       "      <th></th>\n",
       "      <th>Asset_Name</th>\n",
       "      <th>corr</th>\n",
       "      <th>weight</th>\n",
       "      <th>weighted_corr</th>\n",
       "      <th>fold</th>\n",
       "      <th>eval_period</th>\n",
       "    </tr>\n",
       "  </thead>\n",
       "  <tbody>\n",
       "    <tr>\n",
       "      <th>0</th>\n",
       "      <td>Binance Coin</td>\n",
       "      <td>0.016517</td>\n",
       "      <td>4.304065</td>\n",
       "      <td>0.071091</td>\n",
       "      <td>0</td>\n",
       "      <td>[2019-01-01, 2019-04-01]</td>\n",
       "    </tr>\n",
       "    <tr>\n",
       "      <th>1</th>\n",
       "      <td>Bitcoin</td>\n",
       "      <td>0.001477</td>\n",
       "      <td>6.779922</td>\n",
       "      <td>0.010011</td>\n",
       "      <td>0</td>\n",
       "      <td>[2019-01-01, 2019-04-01]</td>\n",
       "    </tr>\n",
       "    <tr>\n",
       "      <th>2</th>\n",
       "      <td>Bitcoin Cash</td>\n",
       "      <td>-0.004114</td>\n",
       "      <td>2.397895</td>\n",
       "      <td>-0.009865</td>\n",
       "      <td>0</td>\n",
       "      <td>[2019-01-01, 2019-04-01]</td>\n",
       "    </tr>\n",
       "    <tr>\n",
       "      <th>3</th>\n",
       "      <td>Cardano</td>\n",
       "      <td>-0.009180</td>\n",
       "      <td>4.406719</td>\n",
       "      <td>-0.040455</td>\n",
       "      <td>0</td>\n",
       "      <td>[2019-01-01, 2019-04-01]</td>\n",
       "    </tr>\n",
       "    <tr>\n",
       "      <th>4</th>\n",
       "      <td>EOS.IO</td>\n",
       "      <td>0.002844</td>\n",
       "      <td>1.386294</td>\n",
       "      <td>0.003943</td>\n",
       "      <td>0</td>\n",
       "      <td>[2019-01-01, 2019-04-01]</td>\n",
       "    </tr>\n",
       "    <tr>\n",
       "      <th>5</th>\n",
       "      <td>Ethereum</td>\n",
       "      <td>0.027703</td>\n",
       "      <td>5.894403</td>\n",
       "      <td>0.163294</td>\n",
       "      <td>0</td>\n",
       "      <td>[2019-01-01, 2019-04-01]</td>\n",
       "    </tr>\n",
       "    <tr>\n",
       "      <th>6</th>\n",
       "      <td>Ethereum Classic</td>\n",
       "      <td>0.010234</td>\n",
       "      <td>2.079442</td>\n",
       "      <td>0.021280</td>\n",
       "      <td>0</td>\n",
       "      <td>[2019-01-01, 2019-04-01]</td>\n",
       "    </tr>\n",
       "    <tr>\n",
       "      <th>7</th>\n",
       "      <td>IOTA</td>\n",
       "      <td>-0.002119</td>\n",
       "      <td>1.098612</td>\n",
       "      <td>-0.002328</td>\n",
       "      <td>0</td>\n",
       "      <td>[2019-01-01, 2019-04-01]</td>\n",
       "    </tr>\n",
       "    <tr>\n",
       "      <th>8</th>\n",
       "      <td>Litecoin</td>\n",
       "      <td>-0.001590</td>\n",
       "      <td>2.397895</td>\n",
       "      <td>-0.003812</td>\n",
       "      <td>0</td>\n",
       "      <td>[2019-01-01, 2019-04-01]</td>\n",
       "    </tr>\n",
       "    <tr>\n",
       "      <th>9</th>\n",
       "      <td>Maker</td>\n",
       "      <td>-0.009116</td>\n",
       "      <td>1.098612</td>\n",
       "      <td>-0.010015</td>\n",
       "      <td>0</td>\n",
       "      <td>[2019-01-01, 2019-04-01]</td>\n",
       "    </tr>\n",
       "    <tr>\n",
       "      <th>10</th>\n",
       "      <td>Monero</td>\n",
       "      <td>0.017383</td>\n",
       "      <td>1.609438</td>\n",
       "      <td>0.027978</td>\n",
       "      <td>0</td>\n",
       "      <td>[2019-01-01, 2019-04-01]</td>\n",
       "    </tr>\n",
       "    <tr>\n",
       "      <th>11</th>\n",
       "      <td>Stellar</td>\n",
       "      <td>0.019315</td>\n",
       "      <td>2.079442</td>\n",
       "      <td>0.040163</td>\n",
       "      <td>0</td>\n",
       "      <td>[2019-01-01, 2019-04-01]</td>\n",
       "    </tr>\n",
       "    <tr>\n",
       "      <th>12</th>\n",
       "      <td>TRON</td>\n",
       "      <td>0.038637</td>\n",
       "      <td>1.791759</td>\n",
       "      <td>0.069228</td>\n",
       "      <td>0</td>\n",
       "      <td>[2019-01-01, 2019-04-01]</td>\n",
       "    </tr>\n",
       "    <tr>\n",
       "      <th>0</th>\n",
       "      <td>Binance Coin</td>\n",
       "      <td>0.009505</td>\n",
       "      <td>4.304065</td>\n",
       "      <td>0.040912</td>\n",
       "      <td>1</td>\n",
       "      <td>[2021-03-13, 2021-06-12 00:00:00]</td>\n",
       "    </tr>\n",
       "    <tr>\n",
       "      <th>1</th>\n",
       "      <td>Bitcoin</td>\n",
       "      <td>-0.028276</td>\n",
       "      <td>6.779922</td>\n",
       "      <td>-0.191712</td>\n",
       "      <td>1</td>\n",
       "      <td>[2021-03-13, 2021-06-12 00:00:00]</td>\n",
       "    </tr>\n",
       "    <tr>\n",
       "      <th>2</th>\n",
       "      <td>Bitcoin Cash</td>\n",
       "      <td>0.036525</td>\n",
       "      <td>2.397895</td>\n",
       "      <td>0.087582</td>\n",
       "      <td>1</td>\n",
       "      <td>[2021-03-13, 2021-06-12 00:00:00]</td>\n",
       "    </tr>\n",
       "    <tr>\n",
       "      <th>3</th>\n",
       "      <td>Cardano</td>\n",
       "      <td>-0.004153</td>\n",
       "      <td>4.406719</td>\n",
       "      <td>-0.018302</td>\n",
       "      <td>1</td>\n",
       "      <td>[2021-03-13, 2021-06-12 00:00:00]</td>\n",
       "    </tr>\n",
       "    <tr>\n",
       "      <th>4</th>\n",
       "      <td>Dogecoin</td>\n",
       "      <td>0.011221</td>\n",
       "      <td>3.555348</td>\n",
       "      <td>0.039893</td>\n",
       "      <td>1</td>\n",
       "      <td>[2021-03-13, 2021-06-12 00:00:00]</td>\n",
       "    </tr>\n",
       "    <tr>\n",
       "      <th>5</th>\n",
       "      <td>EOS.IO</td>\n",
       "      <td>0.003102</td>\n",
       "      <td>1.386294</td>\n",
       "      <td>0.004300</td>\n",
       "      <td>1</td>\n",
       "      <td>[2021-03-13, 2021-06-12 00:00:00]</td>\n",
       "    </tr>\n",
       "    <tr>\n",
       "      <th>6</th>\n",
       "      <td>Ethereum</td>\n",
       "      <td>-0.007193</td>\n",
       "      <td>5.894403</td>\n",
       "      <td>-0.042396</td>\n",
       "      <td>1</td>\n",
       "      <td>[2021-03-13, 2021-06-12 00:00:00]</td>\n",
       "    </tr>\n",
       "    <tr>\n",
       "      <th>7</th>\n",
       "      <td>Ethereum Classic</td>\n",
       "      <td>-0.002656</td>\n",
       "      <td>2.079442</td>\n",
       "      <td>-0.005524</td>\n",
       "      <td>1</td>\n",
       "      <td>[2021-03-13, 2021-06-12 00:00:00]</td>\n",
       "    </tr>\n",
       "    <tr>\n",
       "      <th>8</th>\n",
       "      <td>IOTA</td>\n",
       "      <td>-0.008438</td>\n",
       "      <td>1.098612</td>\n",
       "      <td>-0.009271</td>\n",
       "      <td>1</td>\n",
       "      <td>[2021-03-13, 2021-06-12 00:00:00]</td>\n",
       "    </tr>\n",
       "    <tr>\n",
       "      <th>9</th>\n",
       "      <td>Litecoin</td>\n",
       "      <td>0.000048</td>\n",
       "      <td>2.397895</td>\n",
       "      <td>0.000116</td>\n",
       "      <td>1</td>\n",
       "      <td>[2021-03-13, 2021-06-12 00:00:00]</td>\n",
       "    </tr>\n",
       "    <tr>\n",
       "      <th>10</th>\n",
       "      <td>Maker</td>\n",
       "      <td>-0.006286</td>\n",
       "      <td>1.098612</td>\n",
       "      <td>-0.006905</td>\n",
       "      <td>1</td>\n",
       "      <td>[2021-03-13, 2021-06-12 00:00:00]</td>\n",
       "    </tr>\n",
       "    <tr>\n",
       "      <th>11</th>\n",
       "      <td>Monero</td>\n",
       "      <td>0.022222</td>\n",
       "      <td>1.609438</td>\n",
       "      <td>0.035766</td>\n",
       "      <td>1</td>\n",
       "      <td>[2021-03-13, 2021-06-12 00:00:00]</td>\n",
       "    </tr>\n",
       "    <tr>\n",
       "      <th>12</th>\n",
       "      <td>Stellar</td>\n",
       "      <td>0.005715</td>\n",
       "      <td>2.079442</td>\n",
       "      <td>0.011883</td>\n",
       "      <td>1</td>\n",
       "      <td>[2021-03-13, 2021-06-12 00:00:00]</td>\n",
       "    </tr>\n",
       "    <tr>\n",
       "      <th>13</th>\n",
       "      <td>TRON</td>\n",
       "      <td>0.008722</td>\n",
       "      <td>1.791759</td>\n",
       "      <td>0.015628</td>\n",
       "      <td>1</td>\n",
       "      <td>[2021-03-13, 2021-06-12 00:00:00]</td>\n",
       "    </tr>\n",
       "    <tr>\n",
       "      <th>0</th>\n",
       "      <td>Binance Coin</td>\n",
       "      <td>0.006741</td>\n",
       "      <td>4.304065</td>\n",
       "      <td>0.029016</td>\n",
       "      <td>2</td>\n",
       "      <td>[2021-06-13 00:00:00, 2021-09-13 00:00:00]</td>\n",
       "    </tr>\n",
       "    <tr>\n",
       "      <th>1</th>\n",
       "      <td>Bitcoin</td>\n",
       "      <td>-0.008589</td>\n",
       "      <td>6.779922</td>\n",
       "      <td>-0.058234</td>\n",
       "      <td>2</td>\n",
       "      <td>[2021-06-13 00:00:00, 2021-09-13 00:00:00]</td>\n",
       "    </tr>\n",
       "    <tr>\n",
       "      <th>2</th>\n",
       "      <td>Bitcoin Cash</td>\n",
       "      <td>-0.029628</td>\n",
       "      <td>2.397895</td>\n",
       "      <td>-0.071044</td>\n",
       "      <td>2</td>\n",
       "      <td>[2021-06-13 00:00:00, 2021-09-13 00:00:00]</td>\n",
       "    </tr>\n",
       "    <tr>\n",
       "      <th>3</th>\n",
       "      <td>Cardano</td>\n",
       "      <td>0.020265</td>\n",
       "      <td>4.406719</td>\n",
       "      <td>0.089303</td>\n",
       "      <td>2</td>\n",
       "      <td>[2021-06-13 00:00:00, 2021-09-13 00:00:00]</td>\n",
       "    </tr>\n",
       "    <tr>\n",
       "      <th>4</th>\n",
       "      <td>Dogecoin</td>\n",
       "      <td>0.019287</td>\n",
       "      <td>3.555348</td>\n",
       "      <td>0.068571</td>\n",
       "      <td>2</td>\n",
       "      <td>[2021-06-13 00:00:00, 2021-09-13 00:00:00]</td>\n",
       "    </tr>\n",
       "    <tr>\n",
       "      <th>5</th>\n",
       "      <td>EOS.IO</td>\n",
       "      <td>-0.003476</td>\n",
       "      <td>1.386294</td>\n",
       "      <td>-0.004819</td>\n",
       "      <td>2</td>\n",
       "      <td>[2021-06-13 00:00:00, 2021-09-13 00:00:00]</td>\n",
       "    </tr>\n",
       "    <tr>\n",
       "      <th>6</th>\n",
       "      <td>Ethereum</td>\n",
       "      <td>0.000782</td>\n",
       "      <td>5.894403</td>\n",
       "      <td>0.004608</td>\n",
       "      <td>2</td>\n",
       "      <td>[2021-06-13 00:00:00, 2021-09-13 00:00:00]</td>\n",
       "    </tr>\n",
       "    <tr>\n",
       "      <th>7</th>\n",
       "      <td>Ethereum Classic</td>\n",
       "      <td>0.004672</td>\n",
       "      <td>2.079442</td>\n",
       "      <td>0.009714</td>\n",
       "      <td>2</td>\n",
       "      <td>[2021-06-13 00:00:00, 2021-09-13 00:00:00]</td>\n",
       "    </tr>\n",
       "    <tr>\n",
       "      <th>8</th>\n",
       "      <td>IOTA</td>\n",
       "      <td>-0.009440</td>\n",
       "      <td>1.098612</td>\n",
       "      <td>-0.010371</td>\n",
       "      <td>2</td>\n",
       "      <td>[2021-06-13 00:00:00, 2021-09-13 00:00:00]</td>\n",
       "    </tr>\n",
       "    <tr>\n",
       "      <th>9</th>\n",
       "      <td>Litecoin</td>\n",
       "      <td>-0.009379</td>\n",
       "      <td>2.397895</td>\n",
       "      <td>-0.022490</td>\n",
       "      <td>2</td>\n",
       "      <td>[2021-06-13 00:00:00, 2021-09-13 00:00:00]</td>\n",
       "    </tr>\n",
       "    <tr>\n",
       "      <th>10</th>\n",
       "      <td>Maker</td>\n",
       "      <td>-0.007588</td>\n",
       "      <td>1.098612</td>\n",
       "      <td>-0.008336</td>\n",
       "      <td>2</td>\n",
       "      <td>[2021-06-13 00:00:00, 2021-09-13 00:00:00]</td>\n",
       "    </tr>\n",
       "    <tr>\n",
       "      <th>11</th>\n",
       "      <td>Monero</td>\n",
       "      <td>0.003487</td>\n",
       "      <td>1.609438</td>\n",
       "      <td>0.005612</td>\n",
       "      <td>2</td>\n",
       "      <td>[2021-06-13 00:00:00, 2021-09-13 00:00:00]</td>\n",
       "    </tr>\n",
       "    <tr>\n",
       "      <th>12</th>\n",
       "      <td>Stellar</td>\n",
       "      <td>0.046823</td>\n",
       "      <td>2.079442</td>\n",
       "      <td>0.097365</td>\n",
       "      <td>2</td>\n",
       "      <td>[2021-06-13 00:00:00, 2021-09-13 00:00:00]</td>\n",
       "    </tr>\n",
       "    <tr>\n",
       "      <th>13</th>\n",
       "      <td>TRON</td>\n",
       "      <td>-0.007500</td>\n",
       "      <td>1.791759</td>\n",
       "      <td>-0.013439</td>\n",
       "      <td>2</td>\n",
       "      <td>[2021-06-13 00:00:00, 2021-09-13 00:00:00]</td>\n",
       "    </tr>\n",
       "  </tbody>\n",
       "</table>\n",
       "</div>"
      ],
      "text/plain": [
       "          Asset_Name      corr    weight  weighted_corr  fold  \\\n",
       "0       Binance Coin  0.016517  4.304065       0.071091     0   \n",
       "1            Bitcoin  0.001477  6.779922       0.010011     0   \n",
       "2       Bitcoin Cash -0.004114  2.397895      -0.009865     0   \n",
       "3            Cardano -0.009180  4.406719      -0.040455     0   \n",
       "4             EOS.IO  0.002844  1.386294       0.003943     0   \n",
       "5           Ethereum  0.027703  5.894403       0.163294     0   \n",
       "6   Ethereum Classic  0.010234  2.079442       0.021280     0   \n",
       "7               IOTA -0.002119  1.098612      -0.002328     0   \n",
       "8           Litecoin -0.001590  2.397895      -0.003812     0   \n",
       "9              Maker -0.009116  1.098612      -0.010015     0   \n",
       "10            Monero  0.017383  1.609438       0.027978     0   \n",
       "11           Stellar  0.019315  2.079442       0.040163     0   \n",
       "12              TRON  0.038637  1.791759       0.069228     0   \n",
       "0       Binance Coin  0.009505  4.304065       0.040912     1   \n",
       "1            Bitcoin -0.028276  6.779922      -0.191712     1   \n",
       "2       Bitcoin Cash  0.036525  2.397895       0.087582     1   \n",
       "3            Cardano -0.004153  4.406719      -0.018302     1   \n",
       "4           Dogecoin  0.011221  3.555348       0.039893     1   \n",
       "5             EOS.IO  0.003102  1.386294       0.004300     1   \n",
       "6           Ethereum -0.007193  5.894403      -0.042396     1   \n",
       "7   Ethereum Classic -0.002656  2.079442      -0.005524     1   \n",
       "8               IOTA -0.008438  1.098612      -0.009271     1   \n",
       "9           Litecoin  0.000048  2.397895       0.000116     1   \n",
       "10             Maker -0.006286  1.098612      -0.006905     1   \n",
       "11            Monero  0.022222  1.609438       0.035766     1   \n",
       "12           Stellar  0.005715  2.079442       0.011883     1   \n",
       "13              TRON  0.008722  1.791759       0.015628     1   \n",
       "0       Binance Coin  0.006741  4.304065       0.029016     2   \n",
       "1            Bitcoin -0.008589  6.779922      -0.058234     2   \n",
       "2       Bitcoin Cash -0.029628  2.397895      -0.071044     2   \n",
       "3            Cardano  0.020265  4.406719       0.089303     2   \n",
       "4           Dogecoin  0.019287  3.555348       0.068571     2   \n",
       "5             EOS.IO -0.003476  1.386294      -0.004819     2   \n",
       "6           Ethereum  0.000782  5.894403       0.004608     2   \n",
       "7   Ethereum Classic  0.004672  2.079442       0.009714     2   \n",
       "8               IOTA -0.009440  1.098612      -0.010371     2   \n",
       "9           Litecoin -0.009379  2.397895      -0.022490     2   \n",
       "10             Maker -0.007588  1.098612      -0.008336     2   \n",
       "11            Monero  0.003487  1.609438       0.005612     2   \n",
       "12           Stellar  0.046823  2.079442       0.097365     2   \n",
       "13              TRON -0.007500  1.791759      -0.013439     2   \n",
       "\n",
       "                                   eval_period  \n",
       "0                     [2019-01-01, 2019-04-01]  \n",
       "1                     [2019-01-01, 2019-04-01]  \n",
       "2                     [2019-01-01, 2019-04-01]  \n",
       "3                     [2019-01-01, 2019-04-01]  \n",
       "4                     [2019-01-01, 2019-04-01]  \n",
       "5                     [2019-01-01, 2019-04-01]  \n",
       "6                     [2019-01-01, 2019-04-01]  \n",
       "7                     [2019-01-01, 2019-04-01]  \n",
       "8                     [2019-01-01, 2019-04-01]  \n",
       "9                     [2019-01-01, 2019-04-01]  \n",
       "10                    [2019-01-01, 2019-04-01]  \n",
       "11                    [2019-01-01, 2019-04-01]  \n",
       "12                    [2019-01-01, 2019-04-01]  \n",
       "0            [2021-03-13, 2021-06-12 00:00:00]  \n",
       "1            [2021-03-13, 2021-06-12 00:00:00]  \n",
       "2            [2021-03-13, 2021-06-12 00:00:00]  \n",
       "3            [2021-03-13, 2021-06-12 00:00:00]  \n",
       "4            [2021-03-13, 2021-06-12 00:00:00]  \n",
       "5            [2021-03-13, 2021-06-12 00:00:00]  \n",
       "6            [2021-03-13, 2021-06-12 00:00:00]  \n",
       "7            [2021-03-13, 2021-06-12 00:00:00]  \n",
       "8            [2021-03-13, 2021-06-12 00:00:00]  \n",
       "9            [2021-03-13, 2021-06-12 00:00:00]  \n",
       "10           [2021-03-13, 2021-06-12 00:00:00]  \n",
       "11           [2021-03-13, 2021-06-12 00:00:00]  \n",
       "12           [2021-03-13, 2021-06-12 00:00:00]  \n",
       "13           [2021-03-13, 2021-06-12 00:00:00]  \n",
       "0   [2021-06-13 00:00:00, 2021-09-13 00:00:00]  \n",
       "1   [2021-06-13 00:00:00, 2021-09-13 00:00:00]  \n",
       "2   [2021-06-13 00:00:00, 2021-09-13 00:00:00]  \n",
       "3   [2021-06-13 00:00:00, 2021-09-13 00:00:00]  \n",
       "4   [2021-06-13 00:00:00, 2021-09-13 00:00:00]  \n",
       "5   [2021-06-13 00:00:00, 2021-09-13 00:00:00]  \n",
       "6   [2021-06-13 00:00:00, 2021-09-13 00:00:00]  \n",
       "7   [2021-06-13 00:00:00, 2021-09-13 00:00:00]  \n",
       "8   [2021-06-13 00:00:00, 2021-09-13 00:00:00]  \n",
       "9   [2021-06-13 00:00:00, 2021-09-13 00:00:00]  \n",
       "10  [2021-06-13 00:00:00, 2021-09-13 00:00:00]  \n",
       "11  [2021-06-13 00:00:00, 2021-09-13 00:00:00]  \n",
       "12  [2021-06-13 00:00:00, 2021-09-13 00:00:00]  \n",
       "13  [2021-06-13 00:00:00, 2021-09-13 00:00:00]  "
      ]
     },
     "execution_count": 71,
     "metadata": {},
     "output_type": "execute_result"
    }
   ],
   "source": [
    "valid_corrs"
   ]
  },
  {
   "cell_type": "code",
   "execution_count": 72,
   "id": "a5ac89e6",
   "metadata": {
    "ExecuteTime": {
     "end_time": "2021-11-10T23:09:24.841651Z",
     "start_time": "2021-11-10T23:09:23.973619Z"
    }
   },
   "outputs": [
    {
     "data": {
      "image/png": "[encoded data removed]",
      "text/plain": [
       "<Figure size 576x360 with 1 Axes>"
      ]
     },
     "metadata": {
      "needs_background": "light"
     },
     "output_type": "display_data"
    }
   ],
   "source": [
    "plt.figure(figsize=(8, 5))\n",
    "sns.barplot(x='Asset_Name', y='corr', data=valid_corrs)\n",
    "plt.xticks(rotation=90);"
   ]
  },
  {
   "cell_type": "code",
   "execution_count": 73,
   "id": "2dcbd66e",
   "metadata": {
    "ExecuteTime": {
     "end_time": "2021-11-10T23:09:24.869601Z",
     "start_time": "2021-11-10T23:09:24.843567Z"
    }
   },
   "outputs": [
    {
     "data": {
      "text/html": [
       "<div>\n",
       "<style scoped>\n",
       "    .dataframe tbody tr th:only-of-type {\n",
       "        vertical-align: middle;\n",
       "    }\n",
       "\n",
       "    .dataframe tbody tr th {\n",
       "        vertical-align: top;\n",
       "    }\n",
       "\n",
       "    .dataframe thead th {\n",
       "        text-align: right;\n",
       "    }\n",
       "</style>\n",
       "<table border=\"1\" class=\"dataframe\">\n",
       "  <thead>\n",
       "    <tr style=\"text-align: right;\">\n",
       "      <th></th>\n",
       "      <th>weighted_corr</th>\n",
       "      <th>theor_corr</th>\n",
       "      <th>corr_min</th>\n",
       "      <th>corr_max</th>\n",
       "      <th>corr_std</th>\n",
       "      <th>eval_period</th>\n",
       "    </tr>\n",
       "  </thead>\n",
       "  <tbody>\n",
       "    <tr>\n",
       "      <th>0</th>\n",
       "      <td>0.008330</td>\n",
       "      <td>0.005925</td>\n",
       "      <td>-0.009180</td>\n",
       "      <td>0.038637</td>\n",
       "      <td>0.014769</td>\n",
       "      <td>[2019-01-01, 2019-04-01]</td>\n",
       "    </tr>\n",
       "    <tr>\n",
       "      <th>1</th>\n",
       "      <td>-0.000930</td>\n",
       "      <td>0.001447</td>\n",
       "      <td>-0.028276</td>\n",
       "      <td>0.036525</td>\n",
       "      <td>0.015277</td>\n",
       "      <td>[2021-03-13, 2021-06-12 00:00:00]</td>\n",
       "    </tr>\n",
       "    <tr>\n",
       "      <th>2</th>\n",
       "      <td>0.002824</td>\n",
       "      <td>0.003108</td>\n",
       "      <td>-0.029628</td>\n",
       "      <td>0.046823</td>\n",
       "      <td>0.018101</td>\n",
       "      <td>[2021-06-13 00:00:00, 2021-09-13 00:00:00]</td>\n",
       "    </tr>\n",
       "  </tbody>\n",
       "</table>\n",
       "</div>"
      ],
      "text/plain": [
       "   weighted_corr  theor_corr  corr_min  corr_max  corr_std  \\\n",
       "0       0.008330    0.005925 -0.009180  0.038637  0.014769   \n",
       "1      -0.000930    0.001447 -0.028276  0.036525  0.015277   \n",
       "2       0.002824    0.003108 -0.029628  0.046823  0.018101   \n",
       "\n",
       "                                  eval_period  \n",
       "0                    [2019-01-01, 2019-04-01]  \n",
       "1           [2021-03-13, 2021-06-12 00:00:00]  \n",
       "2  [2021-06-13 00:00:00, 2021-09-13 00:00:00]  "
      ]
     },
     "execution_count": 73,
     "metadata": {},
     "output_type": "execute_result"
    }
   ],
   "source": [
    "scores"
   ]
  },
  {
   "cell_type": "code",
   "execution_count": 74,
   "id": "57937ff4",
   "metadata": {
    "ExecuteTime": {
     "end_time": "2021-11-10T23:09:31.247493Z",
     "start_time": "2021-11-10T23:09:24.871137Z"
    }
   },
   "outputs": [],
   "source": [
    "if SAMPLE_LEVEL == 0:\n",
    "    scores_mean = scores.mean().to_dict()\n",
    "    valid_corrs.to_csv(OUTPUT_PATH / 'corrs.csv', index=False)\n",
    "    \n",
    "    scores.to_csv(OUTPUT_PATH / 'cv_scores.csv', index=False)\n",
    "    track_experiment('single-model', mlflow_experiment='leaderboard',\n",
    "                     config=config,\n",
    "                     scores=scores_mean, artifacts_dir=str(OUTPUT_PATH))"
   ]
  }
 ],
 "metadata": {
  "kernelspec": {
   "display_name": "Python 3 (ipykernel)",
   "language": "python",
   "name": "python3"
  },
  "language_info": {
   "codemirror_mode": {
    "name": "ipython",
    "version": 3
   },
   "file_extension": ".py",
   "mimetype": "text/x-python",
   "name": "python",
   "nbconvert_exporter": "python",
   "pygments_lexer": "ipython3",
   "version": "3.7.11"
  },
  "toc": {
   "base_numbering": 1,
   "nav_menu": {},
   "number_sections": true,
   "sideBar": true,
   "skip_h1_title": false,
   "title_cell": "Table of Contents",
   "title_sidebar": "Contents",
   "toc_cell": false,
   "toc_position": {},
   "toc_section_display": true,
   "toc_window_display": false
  }
 },
 "nbformat": 4,
 "nbformat_minor": 5
}
