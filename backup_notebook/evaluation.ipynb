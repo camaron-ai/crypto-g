{
 "cells": [
  {
   "cell_type": "code",
   "execution_count": 1,
   "id": "f255bb4e",
   "metadata": {
    "ExecuteTime": {
     "end_time": "2021-11-09T14:15:25.982327Z",
     "start_time": "2021-11-09T14:15:25.028266Z"
    }
   },
   "outputs": [],
   "source": [
    "import pandas as pd\n",
    "import numpy as np\n",
    "from matplotlib import pyplot as plt\n",
    "import seaborn as sns\n",
    "from pathlib import Path\n",
    "import os\n",
    "import sys\n",
    "from IPython.display import display"
   ]
  },
  {
   "cell_type": "code",
   "execution_count": 2,
   "id": "4ec15828",
   "metadata": {
    "ExecuteTime": {
     "end_time": "2021-11-09T14:15:25.991503Z",
     "start_time": "2021-11-09T14:15:25.987119Z"
    }
   },
   "outputs": [],
   "source": [
    "ON_KAGGLE = False\n",
    "USE_TOY_SAMPLE=False\n",
    "USE_SAMPLE=True"
   ]
  },
  {
   "cell_type": "code",
   "execution_count": 3,
   "id": "3ee2a957",
   "metadata": {
    "ExecuteTime": {
     "end_time": "2021-11-09T14:15:26.009135Z",
     "start_time": "2021-11-09T14:15:25.999356Z"
    }
   },
   "outputs": [],
   "source": [
    "if not ON_KAGGLE and os.path.abspath('.').endswith('notebook'):\n",
    "    os.chdir('../')"
   ]
  },
  {
   "cell_type": "code",
   "execution_count": 4,
   "id": "1b3c10b1",
   "metadata": {
    "ExecuteTime": {
     "end_time": "2021-11-09T14:15:26.080128Z",
     "start_time": "2021-11-09T14:15:26.011390Z"
    }
   },
   "outputs": [],
   "source": [
    "#IMPORT_SCRIPT!\n",
    "# THIS CELL WILL BE REMOVE WITH SCRIPTS IN SRC\n",
    "if './src/' not in sys.path:\n",
    "    sys.path.append('./src')\n",
    "\n",
    "from preprocessing import *\n",
    "from metrics import *\n",
    "from cv import PurgedGroupTimeSeriesSplit"
   ]
  },
  {
   "cell_type": "code",
   "execution_count": 5,
   "id": "5dcd141e",
   "metadata": {
    "ExecuteTime": {
     "end_time": "2021-11-09T14:15:26.089713Z",
     "start_time": "2021-11-09T14:15:26.084182Z"
    }
   },
   "outputs": [],
   "source": [
    "if ON_KAGGLE:\n",
    "    RAW_DIR = Path('../input/g-research-crypto-forecasting/')\n",
    "    SAMPLE_DIR = Path('../input/create-sample-dataset/data/raw/sample/')\n",
    "    TOY_SAMPLE_DIR = Path('../input/create-sample-dataset/data/raw/toy_sample/')\n",
    "else:\n",
    "    RAW_DIR =  Path('data/raw')\n",
    "    TOY_SAMPLE_DIR = RAW_DIR.joinpath('toy_sample')\n",
    "    SAMPLE_DIR = RAW_DIR.joinpath('sample')\n",
    "\n",
    "# filename\n",
    "TRAIN_FILE = 'train.csv'\n",
    "ASSET_DETAILS_PATH = RAW_DIR / 'asset_details.csv'"
   ]
  },
  {
   "cell_type": "code",
   "execution_count": 6,
   "id": "74f7a9ab",
   "metadata": {
    "ExecuteTime": {
     "end_time": "2021-11-09T14:15:26.104417Z",
     "start_time": "2021-11-09T14:15:26.092650Z"
    }
   },
   "outputs": [
    {
     "name": "stdout",
     "output_type": "stream",
     "text": [
      "USING SAMPLE DATASET\n"
     ]
    }
   ],
   "source": [
    "if USE_TOY_SAMPLE:\n",
    "    print('USING TOY DATASET')\n",
    "    RAW_TRAIN_PATH = TOY_SAMPLE_DIR / TRAIN_FILE\n",
    "\n",
    "elif USE_SAMPLE:\n",
    "    print('USING SAMPLE DATASET')\n",
    "    RAW_TRAIN_PATH = SAMPLE_DIR / TRAIN_FILE\n",
    "\n",
    "else:\n",
    "    print('USING RAW DATASET')\n",
    "    RAW_TRAIN_PATH = RAW_DIR / TRAIN_FILE\n",
    "\n",
    "assert RAW_TRAIN_PATH.exists()"
   ]
  },
  {
   "cell_type": "code",
   "execution_count": 7,
   "id": "28ef35af",
   "metadata": {
    "ExecuteTime": {
     "end_time": "2021-11-09T14:15:26.475044Z",
     "start_time": "2021-11-09T14:15:26.349688Z"
    }
   },
   "outputs": [
    {
     "name": "stdout",
     "output_type": "stream",
     "text": [
      "asset_details.csv\t\t   sample\r\n",
      "example_sample_submission.csv\t   supplemental_train.csv\r\n",
      "example_test.csv\t\t   toy_sample\r\n",
      "g-research-crypto-forecasting.zip  train.csv\r\n",
      "gresearch_crypto\r\n"
     ]
    }
   ],
   "source": [
    "!ls {RAW_DIR}"
   ]
  },
  {
   "cell_type": "code",
   "execution_count": 8,
   "id": "4b479f0e",
   "metadata": {
    "ExecuteTime": {
     "end_time": "2021-11-09T14:15:32.183358Z",
     "start_time": "2021-11-09T14:15:26.592449Z"
    },
    "scrolled": true
   },
   "outputs": [
    {
     "name": "stdout",
     "output_type": "stream",
     "text": [
      "CPU times: user 5.15 s, sys: 438 ms, total: 5.59 s\n",
      "Wall time: 5.59 s\n"
     ]
    }
   ],
   "source": [
    "%%time \n",
    "raw_df = pd.read_csv(RAW_TRAIN_PATH)"
   ]
  },
  {
   "cell_type": "code",
   "execution_count": 9,
   "id": "5be54336",
   "metadata": {
    "ExecuteTime": {
     "end_time": "2021-11-09T14:15:34.370354Z",
     "start_time": "2021-11-09T14:15:32.186880Z"
    }
   },
   "outputs": [],
   "source": [
    "raw_df = ingest_data(raw_df, asset_details_path=ASSET_DETAILS_PATH)"
   ]
  },
  {
   "cell_type": "code",
   "execution_count": 10,
   "id": "d1722287",
   "metadata": {
    "ExecuteTime": {
     "end_time": "2021-11-09T14:15:37.238762Z",
     "start_time": "2021-11-09T14:15:34.372262Z"
    }
   },
   "outputs": [],
   "source": [
    "raw_df.sort_values(by=['Asset_ID', 'date'], inplace=True)\n",
    "raw_df.reset_index(drop=True, inplace=True)"
   ]
  },
  {
   "cell_type": "code",
   "execution_count": 11,
   "id": "3f9f8d35",
   "metadata": {
    "ExecuteTime": {
     "end_time": "2021-11-09T14:15:37.309948Z",
     "start_time": "2021-11-09T14:15:37.241208Z"
    },
    "scrolled": true
   },
   "outputs": [
    {
     "data": {
      "text/html": [
       "<div>\n",
       "<style scoped>\n",
       "    .dataframe tbody tr th:only-of-type {\n",
       "        vertical-align: middle;\n",
       "    }\n",
       "\n",
       "    .dataframe tbody tr th {\n",
       "        vertical-align: top;\n",
       "    }\n",
       "\n",
       "    .dataframe thead th {\n",
       "        text-align: right;\n",
       "    }\n",
       "</style>\n",
       "<table border=\"1\" class=\"dataframe\">\n",
       "  <thead>\n",
       "    <tr style=\"text-align: right;\">\n",
       "      <th></th>\n",
       "      <th>timestamp</th>\n",
       "      <th>Asset_ID</th>\n",
       "      <th>Count</th>\n",
       "      <th>Open</th>\n",
       "      <th>High</th>\n",
       "      <th>Low</th>\n",
       "      <th>Close</th>\n",
       "      <th>Volume</th>\n",
       "      <th>VWAP</th>\n",
       "      <th>Target</th>\n",
       "      <th>Asset_Name</th>\n",
       "      <th>date</th>\n",
       "    </tr>\n",
       "  </thead>\n",
       "  <tbody>\n",
       "    <tr>\n",
       "      <th>0</th>\n",
       "      <td>1609459260</td>\n",
       "      <td>0</td>\n",
       "      <td>219.0</td>\n",
       "      <td>37.384998</td>\n",
       "      <td>37.422100</td>\n",
       "      <td>37.348701</td>\n",
       "      <td>37.389000</td>\n",
       "      <td>2749.5692</td>\n",
       "      <td>37.387058</td>\n",
       "      <td>-0.001669</td>\n",
       "      <td>Binance Coin</td>\n",
       "      <td>2021-01-01 00:01:00</td>\n",
       "    </tr>\n",
       "    <tr>\n",
       "      <th>1</th>\n",
       "      <td>1609459320</td>\n",
       "      <td>0</td>\n",
       "      <td>133.0</td>\n",
       "      <td>37.390499</td>\n",
       "      <td>37.402000</td>\n",
       "      <td>37.329800</td>\n",
       "      <td>37.331299</td>\n",
       "      <td>778.8680</td>\n",
       "      <td>37.351677</td>\n",
       "      <td>-0.001542</td>\n",
       "      <td>Binance Coin</td>\n",
       "      <td>2021-01-01 00:02:00</td>\n",
       "    </tr>\n",
       "    <tr>\n",
       "      <th>2</th>\n",
       "      <td>1609459380</td>\n",
       "      <td>0</td>\n",
       "      <td>151.0</td>\n",
       "      <td>37.317051</td>\n",
       "      <td>37.336700</td>\n",
       "      <td>37.272900</td>\n",
       "      <td>37.291500</td>\n",
       "      <td>890.9210</td>\n",
       "      <td>37.301258</td>\n",
       "      <td>-0.001028</td>\n",
       "      <td>Binance Coin</td>\n",
       "      <td>2021-01-01 00:03:00</td>\n",
       "    </tr>\n",
       "    <tr>\n",
       "      <th>3</th>\n",
       "      <td>1609459440</td>\n",
       "      <td>0</td>\n",
       "      <td>123.0</td>\n",
       "      <td>37.299149</td>\n",
       "      <td>37.323002</td>\n",
       "      <td>37.250198</td>\n",
       "      <td>37.291901</td>\n",
       "      <td>489.9361</td>\n",
       "      <td>37.297272</td>\n",
       "      <td>0.000174</td>\n",
       "      <td>Binance Coin</td>\n",
       "      <td>2021-01-01 00:04:00</td>\n",
       "    </tr>\n",
       "    <tr>\n",
       "      <th>4</th>\n",
       "      <td>1609459500</td>\n",
       "      <td>0</td>\n",
       "      <td>623.0</td>\n",
       "      <td>37.212799</td>\n",
       "      <td>37.285000</td>\n",
       "      <td>37.104801</td>\n",
       "      <td>37.213001</td>\n",
       "      <td>15144.3836</td>\n",
       "      <td>37.184082</td>\n",
       "      <td>0.000950</td>\n",
       "      <td>Binance Coin</td>\n",
       "      <td>2021-01-01 00:05:00</td>\n",
       "    </tr>\n",
       "  </tbody>\n",
       "</table>\n",
       "</div>"
      ],
      "text/plain": [
       "    timestamp  Asset_ID  Count       Open       High        Low      Close  \\\n",
       "0  1609459260         0  219.0  37.384998  37.422100  37.348701  37.389000   \n",
       "1  1609459320         0  133.0  37.390499  37.402000  37.329800  37.331299   \n",
       "2  1609459380         0  151.0  37.317051  37.336700  37.272900  37.291500   \n",
       "3  1609459440         0  123.0  37.299149  37.323002  37.250198  37.291901   \n",
       "4  1609459500         0  623.0  37.212799  37.285000  37.104801  37.213001   \n",
       "\n",
       "       Volume       VWAP    Target    Asset_Name                date  \n",
       "0   2749.5692  37.387058 -0.001669  Binance Coin 2021-01-01 00:01:00  \n",
       "1    778.8680  37.351677 -0.001542  Binance Coin 2021-01-01 00:02:00  \n",
       "2    890.9210  37.301258 -0.001028  Binance Coin 2021-01-01 00:03:00  \n",
       "3    489.9361  37.297272  0.000174  Binance Coin 2021-01-01 00:04:00  \n",
       "4  15144.3836  37.184082  0.000950  Binance Coin 2021-01-01 00:05:00  "
      ]
     },
     "execution_count": 11,
     "metadata": {},
     "output_type": "execute_result"
    }
   ],
   "source": [
    "raw_df.head()"
   ]
  },
  {
   "cell_type": "code",
   "execution_count": 36,
   "id": "abfa1d25",
   "metadata": {
    "ExecuteTime": {
     "end_time": "2021-11-09T14:31:11.497545Z",
     "start_time": "2021-11-09T14:31:11.484547Z"
    }
   },
   "outputs": [],
   "source": [
    "import numpy as np\n",
    "from sklearn.model_selection import KFold\n",
    "from sklearn.utils.validation import _deprecate_positional_args\n",
    "from sklearn.model_selection._split import _BaseKFold, indexable, _num_samples\n",
    "from typing import List, Tuple\n",
    "\n",
    "class TimeSeriesSplit(_BaseKFold):\n",
    "    def __init__(self, periods: List[Tuple[str, str]],\n",
    "                 train_days: int = None,\n",
    "                 gap: int = 0,\n",
    "                 gap_unit: int = 'd',\n",
    "                 dt_col: str = 'date'):\n",
    "        self.dt_col = dt_col\n",
    "        self.periods = periods\n",
    "        self.train_days = train_days\n",
    "        self.gap = gap\n",
    "        self.gap_unit = gap_unit\n",
    "        \n",
    "    def __len__(self):\n",
    "        return len(self.periods)\n",
    "    \n",
    "    def check_input(self, X: pd.DataFrame, y=None, groups=None):\n",
    "        assert self.dt_col in X.columns, f'{dt_col} do not exits in input dataframe'\n",
    "        \n",
    "    def split(self, X: pd.DataFrame, y=None, groups=None):\n",
    "        dates = X[self.dt_col]\n",
    "        self.check_input(X)\n",
    "        \n",
    "        first_date = dates.min()\n",
    "        \n",
    "        indices = np.arange(len(X))\n",
    "        for period in self.periods:\n",
    "            first_valid_date = pd.to_datetime(period[0])\n",
    "            \n",
    "            last_train_date = first_valid_date - pd.to_timedelta(self.gap, unit=self.gap_unit)\n",
    "            \n",
    "            first_train_data = (last_train_date - pd.to_timedelta(self.train_days, unit='d')\n",
    "                                if self.train_days else first_date)\n",
    "            \n",
    "            valid_mask = dates.between(*period)\n",
    "            train_mask = (dates.between(first_train_data, last_train_date)) & (dates < first_valid_date)\n",
    "            \n",
    "            yield indices[train_mask], indices[valid_mask]            "
   ]
  },
  {
   "cell_type": "code",
   "execution_count": 90,
   "id": "c2e077be",
   "metadata": {
    "ExecuteTime": {
     "end_time": "2021-11-09T14:44:59.498327Z",
     "start_time": "2021-11-09T14:44:59.493462Z"
    }
   },
   "outputs": [],
   "source": [
    "\n",
    "def gen_eval_periods(start_date: str,\n",
    "                     n_test: int,\n",
    "                     n_splits: int,\n",
    "                     unit: str = 'd') -> List[Tuple[pd.DatetimeTZDtype, pd.DatetimeTZDtype]]:\n",
    "    start_date = pd.to_datetime(start_date)\n",
    "    eval_periods = []\n",
    "    for _ in range(n_splits):\n",
    "        end_date = start_date + pd.to_timedelta(n_test, unit=unit)\n",
    "        eval_periods.append([start_date, end_date])\n",
    "        start_date = end_date + pd.to_timedelta(1, unit=unit)\n",
    "    return eval_periods\n",
    "    \n",
    "    \n",
    "    "
   ]
  },
  {
   "cell_type": "code",
   "execution_count": 91,
   "id": "5051567a",
   "metadata": {
    "ExecuteTime": {
     "end_time": "2021-11-09T14:45:15.529018Z",
     "start_time": "2021-11-09T14:45:15.522220Z"
    }
   },
   "outputs": [
    {
     "data": {
      "text/plain": [
       "False"
      ]
     },
     "execution_count": 91,
     "metadata": {},
     "output_type": "execute_result"
    }
   ],
   "source": [
    "isinstance(pd.to_datetime('2021-01-01'), pd.DatetimeTZDtype)"
   ]
  },
  {
   "cell_type": "code",
   "execution_count": 51,
   "id": "90c89c55",
   "metadata": {
    "ExecuteTime": {
     "end_time": "2021-11-09T14:33:41.187700Z",
     "start_time": "2021-11-09T14:33:41.183869Z"
    }
   },
   "outputs": [],
   "source": [
    "periods = [['2021-04-01', '2021-06-01'],\n",
    "           ['2021-07-28', '2021-08-15'],\n",
    "           ['2021-09-01', '2021-09-18'],\n",
    "          ]"
   ]
  }
 ],
 "metadata": {
  "kernelspec": {
   "display_name": "Python 3 (ipykernel)",
   "language": "python",
   "name": "python3"
  },
  "language_info": {
   "codemirror_mode": {
    "name": "ipython",
    "version": 3
   },
   "file_extension": ".py",
   "mimetype": "text/x-python",
   "name": "python",
   "nbconvert_exporter": "python",
   "pygments_lexer": "ipython3",
   "version": "3.7.11"
  },
  "toc": {
   "base_numbering": 1,
   "nav_menu": {},
   "number_sections": true,
   "sideBar": true,
   "skip_h1_title": false,
   "title_cell": "Table of Contents",
   "title_sidebar": "Contents",
   "toc_cell": false,
   "toc_position": {},
   "toc_section_display": true,
   "toc_window_display": false
  }
 },
 "nbformat": 4,
 "nbformat_minor": 5
}
