{
 "cells": [
  {
   "cell_type": "code",
   "execution_count": 1,
   "id": "f255bb4e",
   "metadata": {
    "ExecuteTime": {
     "end_time": "2021-11-15T20:20:29.042574Z",
     "start_time": "2021-11-15T20:20:28.244581Z"
    }
   },
   "outputs": [],
   "source": [
    "import pandas as pd\n",
    "import numpy as np\n",
    "from matplotlib import pyplot as plt\n",
    "import seaborn as sns\n",
    "from pathlib import Path\n",
    "import os\n",
    "import sys\n",
    "from IPython.display import display"
   ]
  },
  {
   "cell_type": "code",
   "execution_count": 2,
   "id": "136f5247",
   "metadata": {
    "ExecuteTime": {
     "end_time": "2021-11-15T20:20:29.049403Z",
     "start_time": "2021-11-15T20:20:29.045619Z"
    }
   },
   "outputs": [],
   "source": [
    "def on_kaggle() -> bool:\n",
    "    try:\n",
    "        import gresearch_crypto\n",
    "        return True\n",
    "    except ModuleNotFoundError:\n",
    "        return False"
   ]
  },
  {
   "cell_type": "code",
   "execution_count": 3,
   "id": "432ba6ef",
   "metadata": {
    "ExecuteTime": {
     "end_time": "2021-11-15T20:20:29.060508Z",
     "start_time": "2021-11-15T20:20:29.052334Z"
    }
   },
   "outputs": [],
   "source": [
    "# HYPER PARAMETERS\n",
    "ON_KAGGLE = on_kaggle()\n",
    "SAMPLE_LEVEL = 0\n",
    "USE_SAMPLE = SAMPLE_LEVEL == 1\n",
    "USE_TOY_SAMPLE = SAMPLE_LEVEL == 2\n",
    "\n",
    "FORCE_REWRITE = (ON_KAGGLE and SAMPLE_LEVEL == 0)"
   ]
  },
  {
   "cell_type": "code",
   "execution_count": 4,
   "id": "3ee2a957",
   "metadata": {
    "ExecuteTime": {
     "end_time": "2021-11-15T20:20:29.070327Z",
     "start_time": "2021-11-15T20:20:29.063835Z"
    }
   },
   "outputs": [],
   "source": [
    "if not ON_KAGGLE and os.path.abspath('.').endswith('notebook'):\n",
    "    os.chdir('../')"
   ]
  },
  {
   "cell_type": "code",
   "execution_count": 5,
   "id": "1b3c10b1",
   "metadata": {
    "ExecuteTime": {
     "end_time": "2021-11-15T20:20:29.081656Z",
     "start_time": "2021-11-15T20:20:29.073052Z"
    }
   },
   "outputs": [],
   "source": [
    "#IMPORT_SCRIPT!\n",
    "# THIS CELL WILL BE REMOVE WITH SCRIPTS IN SRC\n",
    "if './src/' not in sys.path:\n",
    "    sys.path.append('./src')\n",
    "\n",
    "# from preprocessing import *\n",
    "from metrics import *"
   ]
  },
  {
   "cell_type": "code",
   "execution_count": 6,
   "id": "5dcd141e",
   "metadata": {
    "ExecuteTime": {
     "end_time": "2021-11-15T20:20:29.092256Z",
     "start_time": "2021-11-15T20:20:29.084617Z"
    }
   },
   "outputs": [],
   "source": [
    "if ON_KAGGLE:\n",
    "    RAW_DIR = Path('../input/g-research-crypto-forecasting/')\n",
    "    SAMPLE_DIR = Path('../input/create-sample-dataset/data/raw/sample/')\n",
    "    TOY_SAMPLE_DIR = Path('../input/create-sample-dataset/data/raw/toy_sample/')\n",
    "else:\n",
    "    RAW_DIR =  Path('data/raw')\n",
    "    TOY_SAMPLE_DIR = RAW_DIR.joinpath('toy_sample')\n",
    "    SAMPLE_DIR = RAW_DIR.joinpath('sample')\n",
    "\n",
    "# filename\n",
    "TRAIN_FILE = 'train.csv'\n",
    "ASSET_DETAILS_PATH = RAW_DIR / 'asset_details.csv'"
   ]
  },
  {
   "cell_type": "code",
   "execution_count": 7,
   "id": "74f7a9ab",
   "metadata": {
    "ExecuteTime": {
     "end_time": "2021-11-15T20:20:29.103659Z",
     "start_time": "2021-11-15T20:20:29.094505Z"
    }
   },
   "outputs": [
    {
     "name": "stdout",
     "output_type": "stream",
     "text": [
      "USING RAW DATASET\n"
     ]
    }
   ],
   "source": [
    "if USE_TOY_SAMPLE:\n",
    "    print('USING TOY DATASET')\n",
    "    RAW_TRAIN_PATH = TOY_SAMPLE_DIR / TRAIN_FILE\n",
    "\n",
    "elif USE_SAMPLE:\n",
    "    print('USING SAMPLE DATASET')\n",
    "    RAW_TRAIN_PATH = SAMPLE_DIR / TRAIN_FILE\n",
    "\n",
    "else:\n",
    "    print('USING RAW DATASET')\n",
    "    RAW_TRAIN_PATH = RAW_DIR / TRAIN_FILE\n",
    "\n",
    "assert RAW_TRAIN_PATH.exists()"
   ]
  },
  {
   "cell_type": "code",
   "execution_count": 8,
   "id": "28ef35af",
   "metadata": {
    "ExecuteTime": {
     "end_time": "2021-11-15T20:20:29.234377Z",
     "start_time": "2021-11-15T20:20:29.105483Z"
    }
   },
   "outputs": [
    {
     "name": "stdout",
     "output_type": "stream",
     "text": [
      "asset_details.csv\t\t   sample\r\n",
      "example_sample_submission.csv\t   supplemental_train.csv\r\n",
      "example_test.csv\t\t   toy_sample\r\n",
      "g-research-crypto-forecasting.zip  train.csv\r\n",
      "gresearch_crypto\r\n"
     ]
    }
   ],
   "source": [
    "!ls {RAW_DIR}"
   ]
  },
  {
   "cell_type": "code",
   "execution_count": 9,
   "id": "4b479f0e",
   "metadata": {
    "ExecuteTime": {
     "end_time": "2021-11-15T20:20:50.430158Z",
     "start_time": "2021-11-15T20:20:29.237616Z"
    },
    "scrolled": true
   },
   "outputs": [
    {
     "name": "stdout",
     "output_type": "stream",
     "text": [
      "CPU times: user 19.2 s, sys: 1.98 s, total: 21.2 s\n",
      "Wall time: 21.2 s\n"
     ]
    }
   ],
   "source": [
    "%%time \n",
    "raw_df = pd.read_csv(RAW_TRAIN_PATH)"
   ]
  },
  {
   "cell_type": "markdown",
   "id": "d5c53d2f",
   "metadata": {},
   "source": [
    "# feature gen "
   ]
  },
  {
   "cell_type": "code",
   "execution_count": 10,
   "id": "5a8b79c4",
   "metadata": {
    "ExecuteTime": {
     "end_time": "2021-11-15T20:20:50.813026Z",
     "start_time": "2021-11-15T20:20:50.435315Z"
    }
   },
   "outputs": [],
   "source": [
    "asset = 1\n",
    "raw_local_data = raw_df.query(\"Asset_ID==@asset\").reset_index(drop=True)"
   ]
  },
  {
   "cell_type": "code",
   "execution_count": 11,
   "id": "e1c32812",
   "metadata": {
    "ExecuteTime": {
     "end_time": "2021-11-15T20:20:50.821448Z",
     "start_time": "2021-11-15T20:20:50.814941Z"
    }
   },
   "outputs": [],
   "source": [
    "from preprocessing.ingest_data import fill_gaps_crypto_data, infer_dtypes, merge_asset_details"
   ]
  },
  {
   "cell_type": "code",
   "execution_count": 12,
   "id": "282a4fe7",
   "metadata": {
    "ExecuteTime": {
     "end_time": "2021-11-15T20:20:50.828663Z",
     "start_time": "2021-11-15T20:20:50.824572Z"
    }
   },
   "outputs": [],
   "source": [
    "# compute minute features"
   ]
  },
  {
   "cell_type": "code",
   "execution_count": 13,
   "id": "ee0f29f0",
   "metadata": {
    "ExecuteTime": {
     "end_time": "2021-11-15T20:20:50.844506Z",
     "start_time": "2021-11-15T20:20:50.830619Z"
    }
   },
   "outputs": [],
   "source": [
    "from preprocessing.feature_gen import compute_base_features, FEATURE_DICT, compute_features_on_train"
   ]
  },
  {
   "cell_type": "code",
   "execution_count": 14,
   "id": "403f6396",
   "metadata": {
    "ExecuteTime": {
     "end_time": "2021-11-15T20:20:50.854156Z",
     "start_time": "2021-11-15T20:20:50.846446Z"
    }
   },
   "outputs": [],
   "source": [
    "# window 60 min\n",
    "WINDOW = 60"
   ]
  },
  {
   "cell_type": "code",
   "execution_count": 15,
   "id": "f46b9292",
   "metadata": {
    "ExecuteTime": {
     "end_time": "2021-11-15T20:20:50.868400Z",
     "start_time": "2021-11-15T20:20:50.856306Z"
    }
   },
   "outputs": [],
   "source": [
    "OUTPUT_DIR = Path('data/processed/')\n",
    "if USE_TOY_SAMPLE:\n",
    "    OUTPUT_DIR = OUTPUT_DIR / 'toy_sample'\n",
    "elif USE_SAMPLE:\n",
    "    OUTPUT_DIR = OUTPUT_DIR / 'sample'\n",
    "OUTPUT_DIR.mkdir(exist_ok=True, parents=True)\n",
    "\n",
    "OUTPUT_PATH = OUTPUT_DIR / 'features.parquet'"
   ]
  },
  {
   "cell_type": "code",
   "execution_count": 16,
   "id": "386eb4b1",
   "metadata": {
    "ExecuteTime": {
     "end_time": "2021-11-15T20:20:50.881702Z",
     "start_time": "2021-11-15T20:20:50.870814Z"
    }
   },
   "outputs": [
    {
     "data": {
      "text/plain": [
       "PosixPath('data/processed/features.parquet')"
      ]
     },
     "execution_count": 16,
     "metadata": {},
     "output_type": "execute_result"
    }
   ],
   "source": [
    "OUTPUT_PATH"
   ]
  },
  {
   "cell_type": "code",
   "execution_count": 17,
   "id": "b7b91e6c",
   "metadata": {
    "ExecuteTime": {
     "end_time": "2021-11-15T20:20:53.145988Z",
     "start_time": "2021-11-15T20:20:50.886285Z"
    }
   },
   "outputs": [
    {
     "name": "stdout",
     "output_type": "stream",
     "text": [
      "CPU times: user 3.98 s, sys: 759 ms, total: 4.74 s\n",
      "Wall time: 2.25 s\n"
     ]
    }
   ],
   "source": [
    "%%time\n",
    "if not OUTPUT_PATH.exists() or FORCE_REWRITE:\n",
    "    raw_features = fill_gaps_crypto_data(raw_local_data)\n",
    "    raw_features = infer_dtypes(raw_features)\n",
    "    raw_features = compute_base_features(raw_features)\n",
    "    features = compute_features_on_train(raw_features, WINDOW, FEATURE_DICT)\n",
    "    features['timestamp'] = raw_features['timestamp'].to_numpy()\n",
    "    features.to_parquet(OUTPUT_PATH, index=False)\n",
    "else:\n",
    "    features = pd.read_parquet(OUTPUT_PATH)"
   ]
  },
  {
   "cell_type": "code",
   "execution_count": 18,
   "id": "b8a5c744",
   "metadata": {
    "ExecuteTime": {
     "end_time": "2021-11-15T20:20:53.173368Z",
     "start_time": "2021-11-15T20:20:53.148902Z"
    }
   },
   "outputs": [
    {
     "data": {
      "text/html": [
       "<div>\n",
       "<style scoped>\n",
       "    .dataframe tbody tr th:only-of-type {\n",
       "        vertical-align: middle;\n",
       "    }\n",
       "\n",
       "    .dataframe tbody tr th {\n",
       "        vertical-align: top;\n",
       "    }\n",
       "\n",
       "    .dataframe thead th {\n",
       "        text-align: right;\n",
       "    }\n",
       "</style>\n",
       "<table border=\"1\" class=\"dataframe\">\n",
       "  <thead>\n",
       "    <tr style=\"text-align: right;\">\n",
       "      <th></th>\n",
       "      <th>High__amax__60min</th>\n",
       "      <th>Low__amin__60min</th>\n",
       "      <th>Close__mean__60min</th>\n",
       "      <th>price_return_1__sum__60min</th>\n",
       "      <th>price_return_1__realized_volatility__60min</th>\n",
       "      <th>vwap_return_1__sum__60min</th>\n",
       "      <th>vwap_return_1__realized_volatility__60min</th>\n",
       "      <th>Count__sum__60min</th>\n",
       "      <th>Count__amax__60min</th>\n",
       "      <th>Volume__sum__60min</th>\n",
       "      <th>Volume__amax__60min</th>\n",
       "      <th>high_low_return__mean__60min</th>\n",
       "      <th>open_close_return__mean__60min</th>\n",
       "      <th>timestamp</th>\n",
       "    </tr>\n",
       "  </thead>\n",
       "  <tbody>\n",
       "    <tr>\n",
       "      <th>0</th>\n",
       "      <td>14013.799805</td>\n",
       "      <td>13666.110352</td>\n",
       "      <td>13850.175781</td>\n",
       "      <td>0.000000</td>\n",
       "      <td>0.000000</td>\n",
       "      <td>0.000000</td>\n",
       "      <td>0.000000</td>\n",
       "      <td>229.0</td>\n",
       "      <td>229.0</td>\n",
       "      <td>31.550062</td>\n",
       "      <td>31.550062</td>\n",
       "      <td>0.025124</td>\n",
       "      <td>0.001082</td>\n",
       "      <td>1514764860</td>\n",
       "    </tr>\n",
       "    <tr>\n",
       "      <th>1</th>\n",
       "      <td>14052.299805</td>\n",
       "      <td>13666.110352</td>\n",
       "      <td>13839.138672</td>\n",
       "      <td>-0.001595</td>\n",
       "      <td>0.001595</td>\n",
       "      <td>0.000961</td>\n",
       "      <td>0.000961</td>\n",
       "      <td>464.0</td>\n",
       "      <td>235.0</td>\n",
       "      <td>62.596494</td>\n",
       "      <td>31.550062</td>\n",
       "      <td>0.025987</td>\n",
       "      <td>0.000290</td>\n",
       "      <td>1514764920</td>\n",
       "    </tr>\n",
       "    <tr>\n",
       "      <th>2</th>\n",
       "      <td>14052.299805</td>\n",
       "      <td>13601.000000</td>\n",
       "      <td>13826.530599</td>\n",
       "      <td>-0.003534</td>\n",
       "      <td>0.002511</td>\n",
       "      <td>-0.001519</td>\n",
       "      <td>0.002660</td>\n",
       "      <td>992.0</td>\n",
       "      <td>528.0</td>\n",
       "      <td>117.658314</td>\n",
       "      <td>55.061820</td>\n",
       "      <td>0.026972</td>\n",
       "      <td>-0.000351</td>\n",
       "      <td>1514764980</td>\n",
       "    </tr>\n",
       "    <tr>\n",
       "      <th>3</th>\n",
       "      <td>14052.299805</td>\n",
       "      <td>13576.280273</td>\n",
       "      <td>13811.907959</td>\n",
       "      <td>-0.005948</td>\n",
       "      <td>0.003483</td>\n",
       "      <td>-0.003148</td>\n",
       "      <td>0.003119</td>\n",
       "      <td>1427.0</td>\n",
       "      <td>528.0</td>\n",
       "      <td>156.438843</td>\n",
       "      <td>55.061820</td>\n",
       "      <td>0.027895</td>\n",
       "      <td>-0.000889</td>\n",
       "      <td>1514765040</td>\n",
       "    </tr>\n",
       "    <tr>\n",
       "      <th>4</th>\n",
       "      <td>14052.299805</td>\n",
       "      <td>13554.440430</td>\n",
       "      <td>13794.509180</td>\n",
       "      <td>-0.009086</td>\n",
       "      <td>0.004688</td>\n",
       "      <td>-0.006638</td>\n",
       "      <td>0.004680</td>\n",
       "      <td>2169.0</td>\n",
       "      <td>742.0</td>\n",
       "      <td>264.940480</td>\n",
       "      <td>108.501637</td>\n",
       "      <td>0.028153</td>\n",
       "      <td>-0.001309</td>\n",
       "      <td>1514765100</td>\n",
       "    </tr>\n",
       "  </tbody>\n",
       "</table>\n",
       "</div>"
      ],
      "text/plain": [
       "   High__amax__60min  Low__amin__60min  Close__mean__60min  \\\n",
       "0       14013.799805      13666.110352        13850.175781   \n",
       "1       14052.299805      13666.110352        13839.138672   \n",
       "2       14052.299805      13601.000000        13826.530599   \n",
       "3       14052.299805      13576.280273        13811.907959   \n",
       "4       14052.299805      13554.440430        13794.509180   \n",
       "\n",
       "   price_return_1__sum__60min  price_return_1__realized_volatility__60min  \\\n",
       "0                    0.000000                                    0.000000   \n",
       "1                   -0.001595                                    0.001595   \n",
       "2                   -0.003534                                    0.002511   \n",
       "3                   -0.005948                                    0.003483   \n",
       "4                   -0.009086                                    0.004688   \n",
       "\n",
       "   vwap_return_1__sum__60min  vwap_return_1__realized_volatility__60min  \\\n",
       "0                   0.000000                                   0.000000   \n",
       "1                   0.000961                                   0.000961   \n",
       "2                  -0.001519                                   0.002660   \n",
       "3                  -0.003148                                   0.003119   \n",
       "4                  -0.006638                                   0.004680   \n",
       "\n",
       "   Count__sum__60min  Count__amax__60min  Volume__sum__60min  \\\n",
       "0              229.0               229.0           31.550062   \n",
       "1              464.0               235.0           62.596494   \n",
       "2              992.0               528.0          117.658314   \n",
       "3             1427.0               528.0          156.438843   \n",
       "4             2169.0               742.0          264.940480   \n",
       "\n",
       "   Volume__amax__60min  high_low_return__mean__60min  \\\n",
       "0            31.550062                      0.025124   \n",
       "1            31.550062                      0.025987   \n",
       "2            55.061820                      0.026972   \n",
       "3            55.061820                      0.027895   \n",
       "4           108.501637                      0.028153   \n",
       "\n",
       "   open_close_return__mean__60min   timestamp  \n",
       "0                        0.001082  1514764860  \n",
       "1                        0.000290  1514764920  \n",
       "2                       -0.000351  1514764980  \n",
       "3                       -0.000889  1514765040  \n",
       "4                       -0.001309  1514765100  "
      ]
     },
     "execution_count": 18,
     "metadata": {},
     "output_type": "execute_result"
    }
   ],
   "source": [
    "features.head()"
   ]
  },
  {
   "cell_type": "code",
   "execution_count": 19,
   "id": "5375a610",
   "metadata": {
    "ExecuteTime": {
     "end_time": "2021-11-15T20:20:53.180557Z",
     "start_time": "2021-11-15T20:20:53.175569Z"
    }
   },
   "outputs": [],
   "source": [
    "assert features['timestamp'].isna().sum() == 0"
   ]
  },
  {
   "cell_type": "code",
   "execution_count": 20,
   "id": "0576e97c",
   "metadata": {
    "ExecuteTime": {
     "end_time": "2021-11-15T20:20:53.450573Z",
     "start_time": "2021-11-15T20:20:53.183210Z"
    }
   },
   "outputs": [],
   "source": [
    "data = raw_local_data[['timestamp', 'Asset_ID', 'Target']].dropna(subset=['Target'])\n",
    "data = merge_asset_details(data, ASSET_DETAILS_PATH)"
   ]
  },
  {
   "cell_type": "code",
   "execution_count": 21,
   "id": "46c72fa1",
   "metadata": {
    "ExecuteTime": {
     "end_time": "2021-11-15T20:20:53.477244Z",
     "start_time": "2021-11-15T20:20:53.453327Z"
    }
   },
   "outputs": [],
   "source": [
    "data['time'] = pd.to_datetime(data['timestamp'], unit='s')"
   ]
  },
  {
   "cell_type": "code",
   "execution_count": 22,
   "id": "67f2fe58",
   "metadata": {
    "ExecuteTime": {
     "end_time": "2021-11-15T20:20:54.285549Z",
     "start_time": "2021-11-15T20:20:53.479196Z"
    }
   },
   "outputs": [],
   "source": [
    "data = data.merge(features, on=['timestamp'], how='left')"
   ]
  },
  {
   "cell_type": "code",
   "execution_count": 23,
   "id": "e8a000da",
   "metadata": {
    "ExecuteTime": {
     "end_time": "2021-11-15T20:20:54.322657Z",
     "start_time": "2021-11-15T20:20:54.287535Z"
    }
   },
   "outputs": [
    {
     "data": {
      "text/html": [
       "<div>\n",
       "<style scoped>\n",
       "    .dataframe tbody tr th:only-of-type {\n",
       "        vertical-align: middle;\n",
       "    }\n",
       "\n",
       "    .dataframe tbody tr th {\n",
       "        vertical-align: top;\n",
       "    }\n",
       "\n",
       "    .dataframe thead th {\n",
       "        text-align: right;\n",
       "    }\n",
       "</style>\n",
       "<table border=\"1\" class=\"dataframe\">\n",
       "  <thead>\n",
       "    <tr style=\"text-align: right;\">\n",
       "      <th></th>\n",
       "      <th>timestamp</th>\n",
       "      <th>Asset_ID</th>\n",
       "      <th>Target</th>\n",
       "      <th>Asset_Name</th>\n",
       "      <th>time</th>\n",
       "      <th>High__amax__60min</th>\n",
       "      <th>Low__amin__60min</th>\n",
       "      <th>Close__mean__60min</th>\n",
       "      <th>price_return_1__sum__60min</th>\n",
       "      <th>price_return_1__realized_volatility__60min</th>\n",
       "      <th>vwap_return_1__sum__60min</th>\n",
       "      <th>vwap_return_1__realized_volatility__60min</th>\n",
       "      <th>Count__sum__60min</th>\n",
       "      <th>Count__amax__60min</th>\n",
       "      <th>Volume__sum__60min</th>\n",
       "      <th>Volume__amax__60min</th>\n",
       "      <th>high_low_return__mean__60min</th>\n",
       "      <th>open_close_return__mean__60min</th>\n",
       "    </tr>\n",
       "  </thead>\n",
       "  <tbody>\n",
       "    <tr>\n",
       "      <th>0</th>\n",
       "      <td>1514764860</td>\n",
       "      <td>1</td>\n",
       "      <td>-0.014643</td>\n",
       "      <td>Bitcoin</td>\n",
       "      <td>2018-01-01 00:01:00</td>\n",
       "      <td>14013.799805</td>\n",
       "      <td>13666.110352</td>\n",
       "      <td>13850.175781</td>\n",
       "      <td>0.000000</td>\n",
       "      <td>0.000000</td>\n",
       "      <td>0.000000</td>\n",
       "      <td>0.000000</td>\n",
       "      <td>229.0</td>\n",
       "      <td>229.0</td>\n",
       "      <td>31.550062</td>\n",
       "      <td>31.550062</td>\n",
       "      <td>0.025124</td>\n",
       "      <td>0.001082</td>\n",
       "    </tr>\n",
       "    <tr>\n",
       "      <th>1</th>\n",
       "      <td>1514764920</td>\n",
       "      <td>1</td>\n",
       "      <td>-0.015037</td>\n",
       "      <td>Bitcoin</td>\n",
       "      <td>2018-01-01 00:02:00</td>\n",
       "      <td>14052.299805</td>\n",
       "      <td>13666.110352</td>\n",
       "      <td>13839.138672</td>\n",
       "      <td>-0.001595</td>\n",
       "      <td>0.001595</td>\n",
       "      <td>0.000961</td>\n",
       "      <td>0.000961</td>\n",
       "      <td>464.0</td>\n",
       "      <td>235.0</td>\n",
       "      <td>62.596494</td>\n",
       "      <td>31.550062</td>\n",
       "      <td>0.025987</td>\n",
       "      <td>0.000290</td>\n",
       "    </tr>\n",
       "    <tr>\n",
       "      <th>2</th>\n",
       "      <td>1514764980</td>\n",
       "      <td>1</td>\n",
       "      <td>-0.010309</td>\n",
       "      <td>Bitcoin</td>\n",
       "      <td>2018-01-01 00:03:00</td>\n",
       "      <td>14052.299805</td>\n",
       "      <td>13601.000000</td>\n",
       "      <td>13826.530599</td>\n",
       "      <td>-0.003534</td>\n",
       "      <td>0.002511</td>\n",
       "      <td>-0.001519</td>\n",
       "      <td>0.002660</td>\n",
       "      <td>992.0</td>\n",
       "      <td>528.0</td>\n",
       "      <td>117.658314</td>\n",
       "      <td>55.061820</td>\n",
       "      <td>0.026972</td>\n",
       "      <td>-0.000351</td>\n",
       "    </tr>\n",
       "    <tr>\n",
       "      <th>3</th>\n",
       "      <td>1514765040</td>\n",
       "      <td>1</td>\n",
       "      <td>-0.008999</td>\n",
       "      <td>Bitcoin</td>\n",
       "      <td>2018-01-01 00:04:00</td>\n",
       "      <td>14052.299805</td>\n",
       "      <td>13576.280273</td>\n",
       "      <td>13811.907959</td>\n",
       "      <td>-0.005948</td>\n",
       "      <td>0.003483</td>\n",
       "      <td>-0.003148</td>\n",
       "      <td>0.003119</td>\n",
       "      <td>1427.0</td>\n",
       "      <td>528.0</td>\n",
       "      <td>156.438843</td>\n",
       "      <td>55.061820</td>\n",
       "      <td>0.027895</td>\n",
       "      <td>-0.000889</td>\n",
       "    </tr>\n",
       "    <tr>\n",
       "      <th>4</th>\n",
       "      <td>1514765100</td>\n",
       "      <td>1</td>\n",
       "      <td>-0.008079</td>\n",
       "      <td>Bitcoin</td>\n",
       "      <td>2018-01-01 00:05:00</td>\n",
       "      <td>14052.299805</td>\n",
       "      <td>13554.440430</td>\n",
       "      <td>13794.509180</td>\n",
       "      <td>-0.009086</td>\n",
       "      <td>0.004688</td>\n",
       "      <td>-0.006638</td>\n",
       "      <td>0.004680</td>\n",
       "      <td>2169.0</td>\n",
       "      <td>742.0</td>\n",
       "      <td>264.940480</td>\n",
       "      <td>108.501637</td>\n",
       "      <td>0.028153</td>\n",
       "      <td>-0.001309</td>\n",
       "    </tr>\n",
       "    <tr>\n",
       "      <th>...</th>\n",
       "      <td>...</td>\n",
       "      <td>...</td>\n",
       "      <td>...</td>\n",
       "      <td>...</td>\n",
       "      <td>...</td>\n",
       "      <td>...</td>\n",
       "      <td>...</td>\n",
       "      <td>...</td>\n",
       "      <td>...</td>\n",
       "      <td>...</td>\n",
       "      <td>...</td>\n",
       "      <td>...</td>\n",
       "      <td>...</td>\n",
       "      <td>...</td>\n",
       "      <td>...</td>\n",
       "      <td>...</td>\n",
       "      <td>...</td>\n",
       "      <td>...</td>\n",
       "    </tr>\n",
       "    <tr>\n",
       "      <th>1955973</th>\n",
       "      <td>1632181200</td>\n",
       "      <td>1</td>\n",
       "      <td>0.002084</td>\n",
       "      <td>Bitcoin</td>\n",
       "      <td>2021-09-20 23:40:00</td>\n",
       "      <td>43906.730469</td>\n",
       "      <td>42515.089844</td>\n",
       "      <td>43139.958008</td>\n",
       "      <td>-0.027511</td>\n",
       "      <td>0.015431</td>\n",
       "      <td>-0.028177</td>\n",
       "      <td>0.012507</td>\n",
       "      <td>218616.0</td>\n",
       "      <td>11138.0</td>\n",
       "      <td>8558.595222</td>\n",
       "      <td>562.284391</td>\n",
       "      <td>0.003382</td>\n",
       "      <td>-0.000451</td>\n",
       "    </tr>\n",
       "    <tr>\n",
       "      <th>1955974</th>\n",
       "      <td>1632181260</td>\n",
       "      <td>1</td>\n",
       "      <td>0.003246</td>\n",
       "      <td>Bitcoin</td>\n",
       "      <td>2021-09-20 23:41:00</td>\n",
       "      <td>43874.980469</td>\n",
       "      <td>42515.089844</td>\n",
       "      <td>43121.878581</td>\n",
       "      <td>-0.025040</td>\n",
       "      <td>0.015526</td>\n",
       "      <td>-0.025928</td>\n",
       "      <td>0.012735</td>\n",
       "      <td>219971.0</td>\n",
       "      <td>11138.0</td>\n",
       "      <td>8612.258859</td>\n",
       "      <td>562.284391</td>\n",
       "      <td>0.003410</td>\n",
       "      <td>-0.000416</td>\n",
       "    </tr>\n",
       "    <tr>\n",
       "      <th>1955975</th>\n",
       "      <td>1632181320</td>\n",
       "      <td>1</td>\n",
       "      <td>0.003108</td>\n",
       "      <td>Bitcoin</td>\n",
       "      <td>2021-09-20 23:42:00</td>\n",
       "      <td>43851.398438</td>\n",
       "      <td>42515.089844</td>\n",
       "      <td>43103.707682</td>\n",
       "      <td>-0.025180</td>\n",
       "      <td>0.015531</td>\n",
       "      <td>-0.025602</td>\n",
       "      <td>0.012727</td>\n",
       "      <td>221336.0</td>\n",
       "      <td>11138.0</td>\n",
       "      <td>8697.184311</td>\n",
       "      <td>562.284391</td>\n",
       "      <td>0.003447</td>\n",
       "      <td>-0.000415</td>\n",
       "    </tr>\n",
       "    <tr>\n",
       "      <th>1955976</th>\n",
       "      <td>1632181380</td>\n",
       "      <td>1</td>\n",
       "      <td>0.002770</td>\n",
       "      <td>Bitcoin</td>\n",
       "      <td>2021-09-20 23:43:00</td>\n",
       "      <td>43843.871094</td>\n",
       "      <td>42515.089844</td>\n",
       "      <td>43085.273307</td>\n",
       "      <td>-0.025563</td>\n",
       "      <td>0.015549</td>\n",
       "      <td>-0.024973</td>\n",
       "      <td>0.012711</td>\n",
       "      <td>222425.0</td>\n",
       "      <td>11138.0</td>\n",
       "      <td>8743.669115</td>\n",
       "      <td>562.284391</td>\n",
       "      <td>0.003478</td>\n",
       "      <td>-0.000425</td>\n",
       "    </tr>\n",
       "    <tr>\n",
       "      <th>1955977</th>\n",
       "      <td>1632181440</td>\n",
       "      <td>1</td>\n",
       "      <td>0.002726</td>\n",
       "      <td>Bitcoin</td>\n",
       "      <td>2021-09-20 23:44:00</td>\n",
       "      <td>43782.101562</td>\n",
       "      <td>42515.089844</td>\n",
       "      <td>43067.013932</td>\n",
       "      <td>-0.025358</td>\n",
       "      <td>0.015529</td>\n",
       "      <td>-0.025712</td>\n",
       "      <td>0.012783</td>\n",
       "      <td>222594.0</td>\n",
       "      <td>11138.0</td>\n",
       "      <td>8770.548078</td>\n",
       "      <td>562.284391</td>\n",
       "      <td>0.003486</td>\n",
       "      <td>-0.000417</td>\n",
       "    </tr>\n",
       "  </tbody>\n",
       "</table>\n",
       "<p>1955978 rows × 18 columns</p>\n",
       "</div>"
      ],
      "text/plain": [
       "          timestamp  Asset_ID    Target Asset_Name                time  \\\n",
       "0        1514764860         1 -0.014643    Bitcoin 2018-01-01 00:01:00   \n",
       "1        1514764920         1 -0.015037    Bitcoin 2018-01-01 00:02:00   \n",
       "2        1514764980         1 -0.010309    Bitcoin 2018-01-01 00:03:00   \n",
       "3        1514765040         1 -0.008999    Bitcoin 2018-01-01 00:04:00   \n",
       "4        1514765100         1 -0.008079    Bitcoin 2018-01-01 00:05:00   \n",
       "...             ...       ...       ...        ...                 ...   \n",
       "1955973  1632181200         1  0.002084    Bitcoin 2021-09-20 23:40:00   \n",
       "1955974  1632181260         1  0.003246    Bitcoin 2021-09-20 23:41:00   \n",
       "1955975  1632181320         1  0.003108    Bitcoin 2021-09-20 23:42:00   \n",
       "1955976  1632181380         1  0.002770    Bitcoin 2021-09-20 23:43:00   \n",
       "1955977  1632181440         1  0.002726    Bitcoin 2021-09-20 23:44:00   \n",
       "\n",
       "         High__amax__60min  Low__amin__60min  Close__mean__60min  \\\n",
       "0             14013.799805      13666.110352        13850.175781   \n",
       "1             14052.299805      13666.110352        13839.138672   \n",
       "2             14052.299805      13601.000000        13826.530599   \n",
       "3             14052.299805      13576.280273        13811.907959   \n",
       "4             14052.299805      13554.440430        13794.509180   \n",
       "...                    ...               ...                 ...   \n",
       "1955973       43906.730469      42515.089844        43139.958008   \n",
       "1955974       43874.980469      42515.089844        43121.878581   \n",
       "1955975       43851.398438      42515.089844        43103.707682   \n",
       "1955976       43843.871094      42515.089844        43085.273307   \n",
       "1955977       43782.101562      42515.089844        43067.013932   \n",
       "\n",
       "         price_return_1__sum__60min  \\\n",
       "0                          0.000000   \n",
       "1                         -0.001595   \n",
       "2                         -0.003534   \n",
       "3                         -0.005948   \n",
       "4                         -0.009086   \n",
       "...                             ...   \n",
       "1955973                   -0.027511   \n",
       "1955974                   -0.025040   \n",
       "1955975                   -0.025180   \n",
       "1955976                   -0.025563   \n",
       "1955977                   -0.025358   \n",
       "\n",
       "         price_return_1__realized_volatility__60min  \\\n",
       "0                                          0.000000   \n",
       "1                                          0.001595   \n",
       "2                                          0.002511   \n",
       "3                                          0.003483   \n",
       "4                                          0.004688   \n",
       "...                                             ...   \n",
       "1955973                                    0.015431   \n",
       "1955974                                    0.015526   \n",
       "1955975                                    0.015531   \n",
       "1955976                                    0.015549   \n",
       "1955977                                    0.015529   \n",
       "\n",
       "         vwap_return_1__sum__60min  vwap_return_1__realized_volatility__60min  \\\n",
       "0                         0.000000                                   0.000000   \n",
       "1                         0.000961                                   0.000961   \n",
       "2                        -0.001519                                   0.002660   \n",
       "3                        -0.003148                                   0.003119   \n",
       "4                        -0.006638                                   0.004680   \n",
       "...                            ...                                        ...   \n",
       "1955973                  -0.028177                                   0.012507   \n",
       "1955974                  -0.025928                                   0.012735   \n",
       "1955975                  -0.025602                                   0.012727   \n",
       "1955976                  -0.024973                                   0.012711   \n",
       "1955977                  -0.025712                                   0.012783   \n",
       "\n",
       "         Count__sum__60min  Count__amax__60min  Volume__sum__60min  \\\n",
       "0                    229.0               229.0           31.550062   \n",
       "1                    464.0               235.0           62.596494   \n",
       "2                    992.0               528.0          117.658314   \n",
       "3                   1427.0               528.0          156.438843   \n",
       "4                   2169.0               742.0          264.940480   \n",
       "...                    ...                 ...                 ...   \n",
       "1955973           218616.0             11138.0         8558.595222   \n",
       "1955974           219971.0             11138.0         8612.258859   \n",
       "1955975           221336.0             11138.0         8697.184311   \n",
       "1955976           222425.0             11138.0         8743.669115   \n",
       "1955977           222594.0             11138.0         8770.548078   \n",
       "\n",
       "         Volume__amax__60min  high_low_return__mean__60min  \\\n",
       "0                  31.550062                      0.025124   \n",
       "1                  31.550062                      0.025987   \n",
       "2                  55.061820                      0.026972   \n",
       "3                  55.061820                      0.027895   \n",
       "4                 108.501637                      0.028153   \n",
       "...                      ...                           ...   \n",
       "1955973           562.284391                      0.003382   \n",
       "1955974           562.284391                      0.003410   \n",
       "1955975           562.284391                      0.003447   \n",
       "1955976           562.284391                      0.003478   \n",
       "1955977           562.284391                      0.003486   \n",
       "\n",
       "         open_close_return__mean__60min  \n",
       "0                              0.001082  \n",
       "1                              0.000290  \n",
       "2                             -0.000351  \n",
       "3                             -0.000889  \n",
       "4                             -0.001309  \n",
       "...                                 ...  \n",
       "1955973                       -0.000451  \n",
       "1955974                       -0.000416  \n",
       "1955975                       -0.000415  \n",
       "1955976                       -0.000425  \n",
       "1955977                       -0.000417  \n",
       "\n",
       "[1955978 rows x 18 columns]"
      ]
     },
     "execution_count": 23,
     "metadata": {},
     "output_type": "execute_result"
    }
   ],
   "source": [
    "data"
   ]
  },
  {
   "cell_type": "code",
   "execution_count": 24,
   "id": "7c46f79b",
   "metadata": {
    "ExecuteTime": {
     "end_time": "2021-11-15T20:20:54.371986Z",
     "start_time": "2021-11-15T20:20:54.324790Z"
    }
   },
   "outputs": [],
   "source": [
    "from cv import TimeSeriesSplit"
   ]
  },
  {
   "cell_type": "code",
   "execution_count": 25,
   "id": "50f7df81",
   "metadata": {
    "ExecuteTime": {
     "end_time": "2021-11-15T20:20:54.379422Z",
     "start_time": "2021-11-15T20:20:54.373941Z"
    }
   },
   "outputs": [],
   "source": [
    "PULIC_LB_RANGE = ['2021-06-13 00:00:00',\n",
    "                  '2021-09-13 00:00:00'] # 3 MONTH WORTH OF DATA\n",
    "\n",
    "if USE_TOY_SAMPLE:\n",
    "    EVAL_PERIODS = [['2021-09-15', '2021-09-22']]\n",
    "\n",
    "elif USE_SAMPLE:\n",
    "    EVAL_PERIODS = [PULIC_LB_RANGE]\n",
    "    \n",
    "else:\n",
    "    EVAL_PERIODS = [['2019-01-01', '2019-04-01'],\n",
    "                    ['2021-03-13', '2021-06-12 00:00:00'], \n",
    "                    PULIC_LB_RANGE]\n",
    "    \n",
    "CV_PARAMS = {'gap_unit': 'min', 'dt_col': 'time', 'train_days': 30}"
   ]
  },
  {
   "cell_type": "code",
   "execution_count": 26,
   "id": "95bcaa31",
   "metadata": {
    "ExecuteTime": {
     "end_time": "2021-11-15T20:20:54.426726Z",
     "start_time": "2021-11-15T20:20:54.382472Z"
    }
   },
   "outputs": [],
   "source": [
    "CV = TimeSeriesSplit(EVAL_PERIODS, **CV_PARAMS)"
   ]
  },
  {
   "cell_type": "code",
   "execution_count": 27,
   "id": "523a9a9a",
   "metadata": {
    "ExecuteTime": {
     "end_time": "2021-11-15T20:20:54.436088Z",
     "start_time": "2021-11-15T20:20:54.428503Z"
    }
   },
   "outputs": [],
   "source": [
    "FEATURES = data.columns.drop(['timestamp', 'Asset_ID', 'Target', 'time', 'Asset_Name'])"
   ]
  },
  {
   "cell_type": "code",
   "execution_count": 28,
   "id": "e156361f",
   "metadata": {
    "ExecuteTime": {
     "end_time": "2021-11-15T20:20:54.453541Z",
     "start_time": "2021-11-15T20:20:54.440808Z"
    }
   },
   "outputs": [
    {
     "data": {
      "text/plain": [
       "Index(['High__amax__60min', 'Low__amin__60min', 'Close__mean__60min',\n",
       "       'price_return_1__sum__60min',\n",
       "       'price_return_1__realized_volatility__60min',\n",
       "       'vwap_return_1__sum__60min',\n",
       "       'vwap_return_1__realized_volatility__60min', 'Count__sum__60min',\n",
       "       'Count__amax__60min', 'Volume__sum__60min', 'Volume__amax__60min',\n",
       "       'high_low_return__mean__60min', 'open_close_return__mean__60min'],\n",
       "      dtype='object')"
      ]
     },
     "execution_count": 28,
     "metadata": {},
     "output_type": "execute_result"
    }
   ],
   "source": [
    "FEATURES"
   ]
  },
  {
   "cell_type": "code",
   "execution_count": 29,
   "id": "088c5de8",
   "metadata": {
    "ExecuteTime": {
     "end_time": "2021-11-15T20:20:54.495954Z",
     "start_time": "2021-11-15T20:20:54.455022Z"
    }
   },
   "outputs": [],
   "source": [
    "from sklearn.linear_model import LogisticRegression, LinearRegression, Lasso, Ridge\n",
    "from sklearn.preprocessing import MinMaxScaler, FunctionTransformer\n",
    "from xgboost import XGBRegressor\n",
    "from sklearn.pipeline import Pipeline"
   ]
  },
  {
   "cell_type": "code",
   "execution_count": 30,
   "id": "d2c9a4b9",
   "metadata": {
    "ExecuteTime": {
     "end_time": "2021-11-15T20:20:54.504010Z",
     "start_time": "2021-11-15T20:20:54.499092Z"
    }
   },
   "outputs": [],
   "source": [
    "def train_model(config, train_data, valid_data, pipeline=None):\n",
    "    model  = Pipeline([('filter', FunctionTransformer(lambda d: d[FEATURES])),\n",
    "                    ('norm', MinMaxScaler()),\n",
    "                   ('model', Ridge(alpha=0.001))])\n",
    "    timesteps = ((train_data['timestamp'].max() - train_data['timestamp'])//60//60//24)\n",
    "    weight = 0.99 ** timesteps\n",
    "    \n",
    "    norm_target = train_data['Target'] / train_data['Target'].std()\n",
    "    model.fit(train_data, train_data['Target'])\n",
    "    \n",
    "    return model"
   ]
  },
  {
   "cell_type": "code",
   "execution_count": 31,
   "id": "6f7a634f",
   "metadata": {
    "ExecuteTime": {
     "end_time": "2021-11-15T20:20:54.513067Z",
     "start_time": "2021-11-15T20:20:54.505617Z"
    }
   },
   "outputs": [],
   "source": [
    "from modeling import Evaluator\n",
    "from metrics import compute_metrics"
   ]
  },
  {
   "cell_type": "code",
   "execution_count": 32,
   "id": "7b96c7e9",
   "metadata": {
    "ExecuteTime": {
     "end_time": "2021-11-15T20:20:54.522299Z",
     "start_time": "2021-11-15T20:20:54.514831Z"
    }
   },
   "outputs": [],
   "source": [
    "def get_fi(config, model, valid_data):\n",
    "    return pd.DataFrame({'feature': FEATURES, 'importance': model['model'].coef_.ravel()})"
   ]
  },
  {
   "cell_type": "code",
   "execution_count": 33,
   "id": "adb6ebfd",
   "metadata": {
    "ExecuteTime": {
     "end_time": "2021-11-15T20:20:54.531879Z",
     "start_time": "2021-11-15T20:20:54.524842Z"
    }
   },
   "outputs": [],
   "source": [
    "evaluator = Evaluator(CV, score_fn=compute_metrics, fi_fn=get_fi)"
   ]
  },
  {
   "cell_type": "code",
   "execution_count": 34,
   "id": "dc6d6858",
   "metadata": {
    "ExecuteTime": {
     "end_time": "2021-11-15T20:20:55.176187Z",
     "start_time": "2021-11-15T20:20:54.535252Z"
    }
   },
   "outputs": [
    {
     "name": "stdout",
     "output_type": "stream",
     "text": [
      "fold=0\n",
      "theor_corr          0.008188\n",
      "weighted_corr       0.001358\n",
      "sharpe              0.383458\n",
      "corr_period_mean    0.008752\n",
      "corr_period_std     0.022824\n",
      "corr_min            0.008188\n",
      "corr_max            0.008188\n",
      "corr_std                 NaN\n",
      "dtype: float64\n",
      "fold=1\n"
     ]
    },
    {
     "name": "stderr",
     "output_type": "stream",
     "text": [
      "./src/metrics.py:50: RuntimeWarning: invalid value encountered in double_scalars\n",
      "  return compute_weighted_cov(y, yhat, w) / np.sqrt(var_y * var_yhat)\n"
     ]
    },
    {
     "ename": "AssertionError",
     "evalue": "period corrs contains NaN values",
     "output_type": "error",
     "traceback": [
      "\u001b[0;31m---------------------------------------------------------------------------\u001b[0m",
      "\u001b[0;31mAssertionError\u001b[0m                            Traceback (most recent call last)",
      "\u001b[0;32m/tmp/ipykernel_11773/4215465390.py\u001b[0m in \u001b[0;36m<module>\u001b[0;34m\u001b[0m\n\u001b[0;32m----> 1\u001b[0;31m \u001b[0moutput\u001b[0m \u001b[0;34m=\u001b[0m \u001b[0mevaluator\u001b[0m\u001b[0;34m.\u001b[0m\u001b[0mrun\u001b[0m\u001b[0;34m(\u001b[0m\u001b[0mtrain_model\u001b[0m\u001b[0;34m,\u001b[0m \u001b[0mconfig\u001b[0m\u001b[0;34m=\u001b[0m\u001b[0;32mNone\u001b[0m\u001b[0;34m,\u001b[0m \u001b[0mdata\u001b[0m\u001b[0;34m=\u001b[0m\u001b[0mdata\u001b[0m\u001b[0;34m)\u001b[0m\u001b[0;34m\u001b[0m\u001b[0;34m\u001b[0m\u001b[0m\n\u001b[0m",
      "\u001b[0;32m~/projects/competitions/crypto-g-research/src/modeling.py\u001b[0m in \u001b[0;36mrun\u001b[0;34m(self, train_fn, config, data, pipeline)\u001b[0m\n\u001b[1;32m     49\u001b[0m             \u001b[0mvalid_data\u001b[0m\u001b[0;34m[\u001b[0m\u001b[0;34m'yhat'\u001b[0m\u001b[0;34m]\u001b[0m \u001b[0;34m=\u001b[0m \u001b[0myhat\u001b[0m\u001b[0;34m\u001b[0m\u001b[0;34m\u001b[0m\u001b[0m\n\u001b[1;32m     50\u001b[0m \u001b[0;34m\u001b[0m\u001b[0m\n\u001b[0;32m---> 51\u001b[0;31m             \u001b[0mscores\u001b[0m\u001b[0;34m,\u001b[0m \u001b[0mcorrs\u001b[0m \u001b[0;34m=\u001b[0m \u001b[0mself\u001b[0m\u001b[0;34m.\u001b[0m\u001b[0mscore_fn\u001b[0m\u001b[0;34m(\u001b[0m\u001b[0mvalid_data\u001b[0m\u001b[0;34m,\u001b[0m \u001b[0myhat_name\u001b[0m\u001b[0;34m=\u001b[0m\u001b[0;34m'yhat'\u001b[0m\u001b[0;34m)\u001b[0m\u001b[0;34m\u001b[0m\u001b[0;34m\u001b[0m\u001b[0m\n\u001b[0m\u001b[1;32m     52\u001b[0m \u001b[0;34m\u001b[0m\u001b[0m\n\u001b[1;32m     53\u001b[0m             \u001b[0mprint\u001b[0m\u001b[0;34m(\u001b[0m\u001b[0mscores\u001b[0m\u001b[0;34m)\u001b[0m\u001b[0;34m\u001b[0m\u001b[0;34m\u001b[0m\u001b[0m\n",
      "\u001b[0;32m~/projects/competitions/crypto-g-research/src/metrics.py\u001b[0m in \u001b[0;36mcompute_metrics\u001b[0;34m(df, target_name, yhat_name, group_col)\u001b[0m\n\u001b[1;32m     99\u001b[0m     \u001b[0mtheor_corr\u001b[0m \u001b[0;34m=\u001b[0m \u001b[0mcompute_weighted_corr\u001b[0m\u001b[0;34m(\u001b[0m\u001b[0my\u001b[0m\u001b[0;34m=\u001b[0m\u001b[0mdf\u001b[0m\u001b[0;34m[\u001b[0m\u001b[0mtarget_name\u001b[0m\u001b[0;34m]\u001b[0m\u001b[0;34m,\u001b[0m \u001b[0myhat\u001b[0m\u001b[0;34m=\u001b[0m\u001b[0mdf\u001b[0m\u001b[0;34m[\u001b[0m\u001b[0myhat_name\u001b[0m\u001b[0;34m]\u001b[0m\u001b[0;34m,\u001b[0m \u001b[0mw\u001b[0m\u001b[0;34m=\u001b[0m\u001b[0mdf\u001b[0m\u001b[0;34m[\u001b[0m\u001b[0;34m'_weight'\u001b[0m\u001b[0;34m]\u001b[0m\u001b[0;34m.\u001b[0m\u001b[0mto_numpy\u001b[0m\u001b[0;34m(\u001b[0m\u001b[0;34m)\u001b[0m\u001b[0;34m)\u001b[0m\u001b[0;34m\u001b[0m\u001b[0;34m\u001b[0m\u001b[0m\n\u001b[1;32m    100\u001b[0m     \u001b[0;31m# DIVIDE IT INTO DAILY CHUNKS AND COMPUTE SHARPE\u001b[0m\u001b[0;34m\u001b[0m\u001b[0;34m\u001b[0m\u001b[0;34m\u001b[0m\u001b[0m\n\u001b[0;32m--> 101\u001b[0;31m     \u001b[0msharpe_scores\u001b[0m \u001b[0;34m=\u001b[0m \u001b[0mcompute_sharpe\u001b[0m\u001b[0;34m(\u001b[0m\u001b[0mdf\u001b[0m\u001b[0;34m,\u001b[0m \u001b[0mtarget_name\u001b[0m\u001b[0;34m=\u001b[0m\u001b[0mtarget_name\u001b[0m\u001b[0;34m,\u001b[0m \u001b[0myhat_name\u001b[0m\u001b[0;34m=\u001b[0m\u001b[0myhat_name\u001b[0m\u001b[0;34m,\u001b[0m \u001b[0mweight_name\u001b[0m\u001b[0;34m=\u001b[0m\u001b[0;34m'_weight'\u001b[0m\u001b[0;34m)\u001b[0m\u001b[0;34m\u001b[0m\u001b[0;34m\u001b[0m\u001b[0m\n\u001b[0m\u001b[1;32m    102\u001b[0m     \u001b[0mscores\u001b[0m \u001b[0;34m=\u001b[0m \u001b[0;34m{\u001b[0m\u001b[0;34m'theor_corr'\u001b[0m\u001b[0;34m:\u001b[0m \u001b[0mtheor_corr\u001b[0m\u001b[0;34m,\u001b[0m \u001b[0;34m'weighted_corr'\u001b[0m\u001b[0;34m:\u001b[0m \u001b[0mcorr\u001b[0m\u001b[0;34m}\u001b[0m\u001b[0;34m\u001b[0m\u001b[0;34m\u001b[0m\u001b[0m\n\u001b[1;32m    103\u001b[0m     \u001b[0mscores\u001b[0m\u001b[0;34m.\u001b[0m\u001b[0mupdate\u001b[0m\u001b[0;34m(\u001b[0m\u001b[0msharpe_scores\u001b[0m\u001b[0;34m)\u001b[0m\u001b[0;34m\u001b[0m\u001b[0;34m\u001b[0m\u001b[0m\n",
      "\u001b[0;32m~/projects/competitions/crypto-g-research/src/metrics.py\u001b[0m in \u001b[0;36mcompute_sharpe\u001b[0;34m(df, period, target_name, yhat_name, weight_name)\u001b[0m\n\u001b[1;32m     75\u001b[0m                                                                           \u001b[0myhat\u001b[0m\u001b[0;34m=\u001b[0m\u001b[0md\u001b[0m\u001b[0;34m[\u001b[0m\u001b[0myhat_name\u001b[0m\u001b[0;34m]\u001b[0m\u001b[0;34m.\u001b[0m\u001b[0mto_numpy\u001b[0m\u001b[0;34m(\u001b[0m\u001b[0;34m)\u001b[0m\u001b[0;34m,\u001b[0m\u001b[0;34m\u001b[0m\u001b[0;34m\u001b[0m\u001b[0m\n\u001b[1;32m     76\u001b[0m                                                                           w=d[weight_name].to_numpy()))\n\u001b[0;32m---> 77\u001b[0;31m     \u001b[0;32massert\u001b[0m \u001b[0mnp\u001b[0m\u001b[0;34m.\u001b[0m\u001b[0misnan\u001b[0m\u001b[0;34m(\u001b[0m\u001b[0mcorrs\u001b[0m\u001b[0;34m)\u001b[0m\u001b[0;34m.\u001b[0m\u001b[0msum\u001b[0m\u001b[0;34m(\u001b[0m\u001b[0;34m)\u001b[0m \u001b[0;34m==\u001b[0m \u001b[0;36m0\u001b[0m\u001b[0;34m,\u001b[0m \u001b[0;34m'period corrs contains NaN values'\u001b[0m\u001b[0;34m\u001b[0m\u001b[0;34m\u001b[0m\u001b[0m\n\u001b[0m\u001b[1;32m     78\u001b[0m     \u001b[0mmean\u001b[0m \u001b[0;34m=\u001b[0m \u001b[0mcorrs\u001b[0m\u001b[0;34m.\u001b[0m\u001b[0mmean\u001b[0m\u001b[0;34m(\u001b[0m\u001b[0;34m)\u001b[0m\u001b[0;34m\u001b[0m\u001b[0;34m\u001b[0m\u001b[0m\n\u001b[1;32m     79\u001b[0m     \u001b[0mstd\u001b[0m \u001b[0;34m=\u001b[0m \u001b[0mcorrs\u001b[0m\u001b[0;34m.\u001b[0m\u001b[0mstd\u001b[0m\u001b[0;34m(\u001b[0m\u001b[0;34m)\u001b[0m\u001b[0;34m\u001b[0m\u001b[0;34m\u001b[0m\u001b[0m\n",
      "\u001b[0;31mAssertionError\u001b[0m: period corrs contains NaN values"
     ]
    }
   ],
   "source": [
    "output = evaluator.run(train_model, config=None, data=data)"
   ]
  },
  {
   "cell_type": "markdown",
   "id": "872042c5",
   "metadata": {
    "ExecuteTime": {
     "end_time": "2021-11-15T19:57:04.607070Z",
     "start_time": "2021-11-15T19:57:04.600398Z"
    }
   },
   "source": [
    "fold=0\n",
    "theor_corr       0.009791\n",
    "sharpe           0.312054\n",
    "weighted_corr    0.001624\n",
    "corr_min         0.009791\n",
    "corr_max         0.009791\n",
    "corr_std              NaN\n",
    "dtype: float64\n",
    "fold=1\n",
    "theor_corr       0.018405\n",
    "sharpe           0.137166\n",
    "weighted_corr    0.003053\n",
    "corr_min         0.018405\n",
    "corr_max         0.018405\n",
    "corr_std              NaN\n",
    "dtype: float64\n",
    "fold=2\n",
    "theor_corr       0.044109\n",
    "sharpe           0.232303\n",
    "weighted_corr    0.007316\n",
    "corr_min         0.044109\n",
    "corr_max         0.044109\n",
    "corr_std              NaN"
   ]
  },
  {
   "cell_type": "markdown",
   "id": "37e1853b",
   "metadata": {
    "ExecuteTime": {
     "end_time": "2021-11-15T19:16:02.002204Z",
     "start_time": "2021-11-15T19:15:58.788053Z"
    }
   },
   "source": [
    "fold=0\n",
    "theor_corr       0.019243\n",
    "weighted_corr    0.003191\n",
    "corr_min         0.019243\n",
    "corr_max         0.019243\n",
    "corr_std              NaN\n",
    "dtype: float64\n",
    "fold=1\n",
    "theor_corr      -0.008768\n",
    "weighted_corr   -0.001454\n",
    "corr_min        -0.008768\n",
    "corr_max        -0.008768\n",
    "corr_std              NaN\n",
    "dtype: float64\n",
    "fold=2\n",
    "theor_corr       0.043924\n",
    "weighted_corr    0.007285\n",
    "corr_min         0.043924\n",
    "corr_max         0.043924\n",
    "corr_std              NaN"
   ]
  },
  {
   "cell_type": "code",
   "execution_count": null,
   "id": "6f3480cc",
   "metadata": {
    "ExecuteTime": {
     "end_time": "2021-11-15T20:20:55.178749Z",
     "start_time": "2021-11-15T20:20:55.178728Z"
    }
   },
   "outputs": [],
   "source": [
    "scores = pd.DataFrame([fold['scores'] for fold in output])\n",
    "scores['eval_period'] = EVAL_PERIODS"
   ]
  },
  {
   "cell_type": "code",
   "execution_count": null,
   "id": "31c6c634",
   "metadata": {
    "ExecuteTime": {
     "end_time": "2021-11-15T20:20:55.181376Z",
     "start_time": "2021-11-15T20:20:55.181352Z"
    }
   },
   "outputs": [],
   "source": [
    "scores"
   ]
  },
  {
   "cell_type": "code",
   "execution_count": null,
   "id": "4e2dab7e",
   "metadata": {
    "ExecuteTime": {
     "end_time": "2021-11-15T20:20:55.183248Z",
     "start_time": "2021-11-15T20:20:55.183228Z"
    }
   },
   "outputs": [],
   "source": [
    "scores.mean()"
   ]
  },
  {
   "cell_type": "markdown",
   "id": "78130692",
   "metadata": {},
   "source": [
    "normal\n",
    "theor_corr          0.018127\n",
    "weighted_corr       0.003006\n",
    "sharpe              0.351094\n",
    "corr_period_mean    0.013315\n",
    "corr_period_std     0.047743\n",
    "corr_min            0.018127\n",
    "corr_max            0.018127\n",
    "corr_std                 NaN"
   ]
  },
  {
   "cell_type": "code",
   "execution_count": null,
   "id": "2d8513d8",
   "metadata": {
    "ExecuteTime": {
     "end_time": "2021-11-15T20:20:55.187097Z",
     "start_time": "2021-11-15T20:20:55.187065Z"
    }
   },
   "outputs": [],
   "source": [
    "fi = pd.concat([fold['fi'] for fold in output])"
   ]
  },
  {
   "cell_type": "code",
   "execution_count": null,
   "id": "1d9e51b4",
   "metadata": {
    "ExecuteTime": {
     "end_time": "2021-11-15T20:20:55.189327Z",
     "start_time": "2021-11-15T20:20:55.189308Z"
    }
   },
   "outputs": [],
   "source": [
    "fi_stats = fi.groupby(['feature'])['importance'].describe()"
   ]
  },
  {
   "cell_type": "code",
   "execution_count": null,
   "id": "72ceebc4",
   "metadata": {
    "ExecuteTime": {
     "end_time": "2021-11-15T20:20:55.190696Z",
     "start_time": "2021-11-15T20:20:55.190680Z"
    }
   },
   "outputs": [],
   "source": [
    "fi_stats['abs'] = fi_stats['mean'].abs()\n",
    "fi_stats = fi_stats.sort_values(by='abs',ascending=False)"
   ]
  },
  {
   "cell_type": "code",
   "execution_count": null,
   "id": "761a8b5b",
   "metadata": {
    "ExecuteTime": {
     "end_time": "2021-11-15T20:20:55.191702Z",
     "start_time": "2021-11-15T20:20:55.191688Z"
    }
   },
   "outputs": [],
   "source": [
    "plt.figure(figsize=(7, 7))\n",
    "sns.boxenplot(y='feature', x='importance', order=fi_stats.index, data=fi)"
   ]
  },
  {
   "cell_type": "code",
   "execution_count": null,
   "id": "c73ce7ca",
   "metadata": {
    "ExecuteTime": {
     "end_time": "2021-11-15T20:20:55.193967Z",
     "start_time": "2021-11-15T20:20:55.193949Z"
    }
   },
   "outputs": [],
   "source": [
    "7 * 24"
   ]
  }
 ],
 "metadata": {
  "kernelspec": {
   "display_name": "Python 3 (ipykernel)",
   "language": "python",
   "name": "python3"
  },
  "language_info": {
   "codemirror_mode": {
    "name": "ipython",
    "version": 3
   },
   "file_extension": ".py",
   "mimetype": "text/x-python",
   "name": "python",
   "nbconvert_exporter": "python",
   "pygments_lexer": "ipython3",
   "version": "3.7.11"
  },
  "toc": {
   "base_numbering": 1,
   "nav_menu": {},
   "number_sections": true,
   "sideBar": true,
   "skip_h1_title": false,
   "title_cell": "Table of Contents",
   "title_sidebar": "Contents",
   "toc_cell": false,
   "toc_position": {},
   "toc_section_display": true,
   "toc_window_display": false
  }
 },
 "nbformat": 4,
 "nbformat_minor": 5
}
