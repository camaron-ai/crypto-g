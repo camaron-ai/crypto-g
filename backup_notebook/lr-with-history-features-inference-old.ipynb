{
 "cells": [
  {
   "cell_type": "code",
   "execution_count": 1,
   "id": "7942f4a4",
   "metadata": {
    "ExecuteTime": {
     "end_time": "2021-11-27T00:14:06.580430Z",
     "start_time": "2021-11-27T00:14:06.561779Z"
    }
   },
   "outputs": [],
   "source": [
    "%load_ext autoreload\n",
    "%autoreload 2"
   ]
  },
  {
   "cell_type": "code",
   "execution_count": 2,
   "id": "f255bb4e",
   "metadata": {
    "ExecuteTime": {
     "end_time": "2021-11-27T00:14:07.369801Z",
     "start_time": "2021-11-27T00:14:06.583330Z"
    }
   },
   "outputs": [],
   "source": [
    "import pandas as pd\n",
    "import numpy as np\n",
    "from matplotlib import pyplot as plt\n",
    "import seaborn as sns\n",
    "from pathlib import Path\n",
    "import os\n",
    "import sys\n",
    "from IPython.display import display"
   ]
  },
  {
   "cell_type": "code",
   "execution_count": 3,
   "id": "136f5247",
   "metadata": {
    "ExecuteTime": {
     "end_time": "2021-11-27T00:14:07.390786Z",
     "start_time": "2021-11-27T00:14:07.372015Z"
    }
   },
   "outputs": [],
   "source": [
    "def on_kaggle() -> bool:\n",
    "    try:\n",
    "        import gresearch_crypto\n",
    "        return True\n",
    "    except ModuleNotFoundError:\n",
    "        return False"
   ]
  },
  {
   "cell_type": "code",
   "execution_count": 4,
   "id": "432ba6ef",
   "metadata": {
    "ExecuteTime": {
     "end_time": "2021-11-27T00:14:07.412706Z",
     "start_time": "2021-11-27T00:14:07.395374Z"
    }
   },
   "outputs": [],
   "source": [
    "# HYPER PARAMETERS\n",
    "ON_KAGGLE = on_kaggle()\n",
    "SAMPLE_LEVEL = 1\n",
    "USE_SAMPLE = SAMPLE_LEVEL == 1\n",
    "USE_TOY_SAMPLE = SAMPLE_LEVEL == 2\n",
    "\n",
    "FORCE_REWRITE = True#(ON_KAGGLE and SAMPLE_LEVEL == 0)"
   ]
  },
  {
   "cell_type": "code",
   "execution_count": 5,
   "id": "3ee2a957",
   "metadata": {
    "ExecuteTime": {
     "end_time": "2021-11-27T00:14:07.445511Z",
     "start_time": "2021-11-27T00:14:07.415795Z"
    }
   },
   "outputs": [],
   "source": [
    "if not ON_KAGGLE and os.path.abspath('.').endswith('notebook'):\n",
    "    os.chdir('../')"
   ]
  },
  {
   "cell_type": "code",
   "execution_count": 6,
   "id": "1b3c10b1",
   "metadata": {
    "ExecuteTime": {
     "end_time": "2021-11-27T00:14:07.512811Z",
     "start_time": "2021-11-27T00:14:07.447792Z"
    }
   },
   "outputs": [],
   "source": [
    "#IMPORT_SCRIPT!\n",
    "if not ON_KAGGLE and '.' not in sys.path:\n",
    "    sys.path.append('.')\n",
    "from src.metrics import *\n",
    "from src.preprocessing import process_train_data, process_test_data, inference\n",
    "from src.preprocessing.ingest_data import merge_asset_details, fill_gaps_crypto_data, infer_dtypes\n",
    "from src.cv import TimeSeriesSplit, get_date_range\n",
    "from src.modeling import Evaluator\n",
    "from src.metrics import compute_metrics"
   ]
  },
  {
   "cell_type": "code",
   "execution_count": 7,
   "id": "5dcd141e",
   "metadata": {
    "ExecuteTime": {
     "end_time": "2021-11-27T00:14:07.532671Z",
     "start_time": "2021-11-27T00:14:07.514549Z"
    }
   },
   "outputs": [],
   "source": [
    "if ON_KAGGLE:\n",
    "    RAW_DIR = Path('../input/g-research-crypto-forecasting/')\n",
    "    SAMPLE_DIR = Path('../input/create-sample-dataset/data/raw/sample/')\n",
    "    TOY_SAMPLE_DIR = Path('../input/create-sample-dataset/data/raw/toy_sample/')\n",
    "else:\n",
    "    RAW_DIR =  Path('data/raw')\n",
    "    TOY_SAMPLE_DIR = RAW_DIR.joinpath('toy_sample')\n",
    "    SAMPLE_DIR = RAW_DIR.joinpath('sample')\n",
    "\n",
    "# filename\n",
    "TRAIN_FILE = 'train.csv'\n",
    "ASSET_DETAILS_PATH = RAW_DIR / 'asset_details.csv'"
   ]
  },
  {
   "cell_type": "code",
   "execution_count": 8,
   "id": "74f7a9ab",
   "metadata": {
    "ExecuteTime": {
     "end_time": "2021-11-27T00:14:07.552437Z",
     "start_time": "2021-11-27T00:14:07.534339Z"
    }
   },
   "outputs": [
    {
     "name": "stdout",
     "output_type": "stream",
     "text": [
      "USING SAMPLE DATASET\n"
     ]
    }
   ],
   "source": [
    "if USE_TOY_SAMPLE:\n",
    "    print('USING TOY DATASET')\n",
    "    RAW_TRAIN_PATH = TOY_SAMPLE_DIR / TRAIN_FILE\n",
    "\n",
    "elif USE_SAMPLE:\n",
    "    print('USING SAMPLE DATASET')\n",
    "    RAW_TRAIN_PATH = SAMPLE_DIR / TRAIN_FILE\n",
    "\n",
    "else:\n",
    "    print('USING RAW DATASET')\n",
    "    RAW_TRAIN_PATH = RAW_DIR / TRAIN_FILE\n",
    "\n",
    "assert RAW_TRAIN_PATH.exists()"
   ]
  },
  {
   "cell_type": "code",
   "execution_count": 9,
   "id": "28ef35af",
   "metadata": {
    "ExecuteTime": {
     "end_time": "2021-11-27T00:14:07.687571Z",
     "start_time": "2021-11-27T00:14:07.554751Z"
    }
   },
   "outputs": [
    {
     "name": "stdout",
     "output_type": "stream",
     "text": [
      "asset_details.csv\t\t   sample\r\n",
      "example_sample_submission.csv\t   supplemental_train.csv\r\n",
      "example_test.csv\t\t   toy_sample\r\n",
      "g-research-crypto-forecasting.zip  train.csv\r\n",
      "gresearch_crypto\r\n"
     ]
    }
   ],
   "source": [
    "!ls {RAW_DIR}"
   ]
  },
  {
   "cell_type": "code",
   "execution_count": 10,
   "id": "4b479f0e",
   "metadata": {
    "ExecuteTime": {
     "end_time": "2021-11-27T00:14:12.618434Z",
     "start_time": "2021-11-27T00:14:07.692781Z"
    },
    "scrolled": true
   },
   "outputs": [
    {
     "name": "stdout",
     "output_type": "stream",
     "text": [
      "CPU times: user 4.55 s, sys: 357 ms, total: 4.9 s\n",
      "Wall time: 4.9 s\n"
     ]
    }
   ],
   "source": [
    "%%time \n",
    "raw_df = pd.read_csv(RAW_TRAIN_PATH)"
   ]
  },
  {
   "cell_type": "markdown",
   "id": "d5c53d2f",
   "metadata": {},
   "source": [
    "## create train set"
   ]
  },
  {
   "cell_type": "code",
   "execution_count": 11,
   "id": "9313bf55",
   "metadata": {
    "ExecuteTime": {
     "end_time": "2021-11-27T00:14:12.638883Z",
     "start_time": "2021-11-27T00:14:12.620873Z"
    }
   },
   "outputs": [],
   "source": [
    "PREPRO_PARAMS = {'window': 60} "
   ]
  },
  {
   "cell_type": "code",
   "execution_count": 12,
   "id": "ddebc9cc",
   "metadata": {
    "ExecuteTime": {
     "end_time": "2021-11-27T00:14:13.664068Z",
     "start_time": "2021-11-27T00:14:12.643807Z"
    }
   },
   "outputs": [],
   "source": [
    "# get valid data only, drop where the target is NaN \n",
    "data = raw_df[['timestamp', 'Asset_ID', 'Target']].dropna(subset=['Target'])\n",
    "# format time to human readable \n",
    "data['time'] = pd.to_datetime(data['timestamp'], unit='s')\n",
    "# merge asset names\n",
    "data = merge_asset_details(data, ASSET_DETAILS_PATH)"
   ]
  },
  {
   "cell_type": "code",
   "execution_count": 13,
   "id": "3c771517",
   "metadata": {
    "ExecuteTime": {
     "end_time": "2021-11-27T00:14:13.695385Z",
     "start_time": "2021-11-27T00:14:13.666652Z"
    }
   },
   "outputs": [
    {
     "data": {
      "text/html": [
       "<div>\n",
       "<style scoped>\n",
       "    .dataframe tbody tr th:only-of-type {\n",
       "        vertical-align: middle;\n",
       "    }\n",
       "\n",
       "    .dataframe tbody tr th {\n",
       "        vertical-align: top;\n",
       "    }\n",
       "\n",
       "    .dataframe thead th {\n",
       "        text-align: right;\n",
       "    }\n",
       "</style>\n",
       "<table border=\"1\" class=\"dataframe\">\n",
       "  <thead>\n",
       "    <tr style=\"text-align: right;\">\n",
       "      <th></th>\n",
       "      <th>timestamp</th>\n",
       "      <th>Asset_ID</th>\n",
       "      <th>Target</th>\n",
       "      <th>time</th>\n",
       "      <th>Asset_Name</th>\n",
       "    </tr>\n",
       "  </thead>\n",
       "  <tbody>\n",
       "    <tr>\n",
       "      <th>0</th>\n",
       "      <td>1609459260</td>\n",
       "      <td>3</td>\n",
       "      <td>0.001255</td>\n",
       "      <td>2021-01-01 00:01:00</td>\n",
       "      <td>Cardano</td>\n",
       "    </tr>\n",
       "    <tr>\n",
       "      <th>1</th>\n",
       "      <td>1609459260</td>\n",
       "      <td>2</td>\n",
       "      <td>-0.002884</td>\n",
       "      <td>2021-01-01 00:01:00</td>\n",
       "      <td>Bitcoin Cash</td>\n",
       "    </tr>\n",
       "    <tr>\n",
       "      <th>2</th>\n",
       "      <td>1609459260</td>\n",
       "      <td>0</td>\n",
       "      <td>-0.001669</td>\n",
       "      <td>2021-01-01 00:01:00</td>\n",
       "      <td>Binance Coin</td>\n",
       "    </tr>\n",
       "    <tr>\n",
       "      <th>3</th>\n",
       "      <td>1609459260</td>\n",
       "      <td>1</td>\n",
       "      <td>0.000396</td>\n",
       "      <td>2021-01-01 00:01:00</td>\n",
       "      <td>Bitcoin</td>\n",
       "    </tr>\n",
       "    <tr>\n",
       "      <th>4</th>\n",
       "      <td>1609459260</td>\n",
       "      <td>4</td>\n",
       "      <td>-0.008679</td>\n",
       "      <td>2021-01-01 00:01:00</td>\n",
       "      <td>Dogecoin</td>\n",
       "    </tr>\n",
       "  </tbody>\n",
       "</table>\n",
       "</div>"
      ],
      "text/plain": [
       "    timestamp  Asset_ID    Target                time    Asset_Name\n",
       "0  1609459260         3  0.001255 2021-01-01 00:01:00       Cardano\n",
       "1  1609459260         2 -0.002884 2021-01-01 00:01:00  Bitcoin Cash\n",
       "2  1609459260         0 -0.001669 2021-01-01 00:01:00  Binance Coin\n",
       "3  1609459260         1  0.000396 2021-01-01 00:01:00       Bitcoin\n",
       "4  1609459260         4 -0.008679 2021-01-01 00:01:00      Dogecoin"
      ]
     },
     "execution_count": 13,
     "metadata": {},
     "output_type": "execute_result"
    }
   ],
   "source": [
    "data.head()"
   ]
  },
  {
   "cell_type": "code",
   "execution_count": 14,
   "id": "e37a820f",
   "metadata": {
    "ExecuteTime": {
     "end_time": "2021-11-27T00:14:13.722531Z",
     "start_time": "2021-11-27T00:14:13.697412Z"
    }
   },
   "outputs": [
    {
     "data": {
      "text/html": [
       "<div>\n",
       "<style scoped>\n",
       "    .dataframe tbody tr th:only-of-type {\n",
       "        vertical-align: middle;\n",
       "    }\n",
       "\n",
       "    .dataframe tbody tr th {\n",
       "        vertical-align: top;\n",
       "    }\n",
       "\n",
       "    .dataframe thead th {\n",
       "        text-align: right;\n",
       "    }\n",
       "</style>\n",
       "<table border=\"1\" class=\"dataframe\">\n",
       "  <thead>\n",
       "    <tr style=\"text-align: right;\">\n",
       "      <th></th>\n",
       "      <th>timestamp</th>\n",
       "      <th>Asset_ID</th>\n",
       "      <th>Target</th>\n",
       "      <th>time</th>\n",
       "      <th>Asset_Name</th>\n",
       "    </tr>\n",
       "  </thead>\n",
       "  <tbody>\n",
       "    <tr>\n",
       "      <th>5298791</th>\n",
       "      <td>1632181440</td>\n",
       "      <td>9</td>\n",
       "      <td>-0.001154</td>\n",
       "      <td>2021-09-20 23:44:00</td>\n",
       "      <td>Litecoin</td>\n",
       "    </tr>\n",
       "    <tr>\n",
       "      <th>5298792</th>\n",
       "      <td>1632181440</td>\n",
       "      <td>10</td>\n",
       "      <td>0.009831</td>\n",
       "      <td>2021-09-20 23:44:00</td>\n",
       "      <td>Maker</td>\n",
       "    </tr>\n",
       "    <tr>\n",
       "      <th>5298793</th>\n",
       "      <td>1632181440</td>\n",
       "      <td>13</td>\n",
       "      <td>0.004163</td>\n",
       "      <td>2021-09-20 23:44:00</td>\n",
       "      <td>TRON</td>\n",
       "    </tr>\n",
       "    <tr>\n",
       "      <th>5298794</th>\n",
       "      <td>1632181440</td>\n",
       "      <td>12</td>\n",
       "      <td>0.000449</td>\n",
       "      <td>2021-09-20 23:44:00</td>\n",
       "      <td>Stellar</td>\n",
       "    </tr>\n",
       "    <tr>\n",
       "      <th>5298795</th>\n",
       "      <td>1632181440</td>\n",
       "      <td>11</td>\n",
       "      <td>0.002568</td>\n",
       "      <td>2021-09-20 23:44:00</td>\n",
       "      <td>Monero</td>\n",
       "    </tr>\n",
       "  </tbody>\n",
       "</table>\n",
       "</div>"
      ],
      "text/plain": [
       "          timestamp  Asset_ID    Target                time Asset_Name\n",
       "5298791  1632181440         9 -0.001154 2021-09-20 23:44:00   Litecoin\n",
       "5298792  1632181440        10  0.009831 2021-09-20 23:44:00      Maker\n",
       "5298793  1632181440        13  0.004163 2021-09-20 23:44:00       TRON\n",
       "5298794  1632181440        12  0.000449 2021-09-20 23:44:00    Stellar\n",
       "5298795  1632181440        11  0.002568 2021-09-20 23:44:00     Monero"
      ]
     },
     "execution_count": 14,
     "metadata": {},
     "output_type": "execute_result"
    }
   ],
   "source": [
    "data.tail()"
   ]
  },
  {
   "cell_type": "code",
   "execution_count": 15,
   "id": "ee0e81c3",
   "metadata": {
    "ExecuteTime": {
     "end_time": "2021-11-27T00:14:13.748150Z",
     "start_time": "2021-11-27T00:14:13.727861Z"
    }
   },
   "outputs": [
    {
     "name": "stdout",
     "output_type": "stream",
     "text": [
      "USING SAMPLE DATASET\n"
     ]
    }
   ],
   "source": [
    "PROCESSED_DIR = Path('data/processed')\n",
    "if USE_SAMPLE:\n",
    "    print('USING SAMPLE DATASET')\n",
    "    PROCESSED_DIR /= 'sample'\n",
    "\n",
    "elif USE_TOY_SAMPLE:\n",
    "    print('USING TOY SAMPLE DATASET')\n",
    "    PROCESSED_DIR /= 'toy_sample'\n",
    "\n",
    "FEATURES_PATH = (PROCESSED_DIR / 'features.parquet')\n",
    "PROCESSED_DIR.mkdir(exist_ok=True, parents=True)"
   ]
  },
  {
   "cell_type": "code",
   "execution_count": 16,
   "id": "44c36d61",
   "metadata": {
    "ExecuteTime": {
     "end_time": "2021-11-27T00:14:13.770655Z",
     "start_time": "2021-11-27T00:14:13.752121Z"
    }
   },
   "outputs": [
    {
     "data": {
      "text/plain": [
       "PosixPath('data/processed/sample/features.parquet')"
      ]
     },
     "execution_count": 16,
     "metadata": {},
     "output_type": "execute_result"
    }
   ],
   "source": [
    "FEATURES_PATH"
   ]
  },
  {
   "cell_type": "code",
   "execution_count": 17,
   "id": "69d41f60",
   "metadata": {
    "ExecuteTime": {
     "end_time": "2021-11-27T00:14:13.987359Z",
     "start_time": "2021-11-27T00:14:13.772642Z"
    }
   },
   "outputs": [],
   "source": [
    "if FEATURES_PATH.exists():\n",
    "    features_df = pd.read_parquet(FEATURES_PATH)\n",
    "else:\n",
    "    features_df = process_train_data(raw_df, **PREPRO_PARAMS)\n",
    "    features_df.to_parquet(FEATURES_PATH, index=False)"
   ]
  },
  {
   "cell_type": "code",
   "execution_count": 18,
   "id": "0450bfa7",
   "metadata": {
    "ExecuteTime": {
     "end_time": "2021-11-27T00:14:14.014741Z",
     "start_time": "2021-11-27T00:14:13.989225Z"
    }
   },
   "outputs": [
    {
     "data": {
      "text/html": [
       "<div>\n",
       "<style scoped>\n",
       "    .dataframe tbody tr th:only-of-type {\n",
       "        vertical-align: middle;\n",
       "    }\n",
       "\n",
       "    .dataframe tbody tr th {\n",
       "        vertical-align: top;\n",
       "    }\n",
       "\n",
       "    .dataframe thead th {\n",
       "        text-align: right;\n",
       "    }\n",
       "</style>\n",
       "<table border=\"1\" class=\"dataframe\">\n",
       "  <thead>\n",
       "    <tr style=\"text-align: right;\">\n",
       "      <th></th>\n",
       "      <th>Close__mean__60min_ft</th>\n",
       "      <th>timestamp</th>\n",
       "      <th>Asset_ID</th>\n",
       "    </tr>\n",
       "  </thead>\n",
       "  <tbody>\n",
       "    <tr>\n",
       "      <th>0</th>\n",
       "      <td>37.389000</td>\n",
       "      <td>1609459260</td>\n",
       "      <td>0</td>\n",
       "    </tr>\n",
       "    <tr>\n",
       "      <th>1</th>\n",
       "      <td>37.360149</td>\n",
       "      <td>1609459320</td>\n",
       "      <td>0</td>\n",
       "    </tr>\n",
       "    <tr>\n",
       "      <th>2</th>\n",
       "      <td>37.337265</td>\n",
       "      <td>1609459380</td>\n",
       "      <td>0</td>\n",
       "    </tr>\n",
       "    <tr>\n",
       "      <th>3</th>\n",
       "      <td>37.325924</td>\n",
       "      <td>1609459440</td>\n",
       "      <td>0</td>\n",
       "    </tr>\n",
       "    <tr>\n",
       "      <th>4</th>\n",
       "      <td>37.303341</td>\n",
       "      <td>1609459500</td>\n",
       "      <td>0</td>\n",
       "    </tr>\n",
       "    <tr>\n",
       "      <th>...</th>\n",
       "      <td>...</td>\n",
       "      <td>...</td>\n",
       "      <td>...</td>\n",
       "    </tr>\n",
       "    <tr>\n",
       "      <th>5302075</th>\n",
       "      <td>0.091925</td>\n",
       "      <td>1632182160</td>\n",
       "      <td>13</td>\n",
       "    </tr>\n",
       "    <tr>\n",
       "      <th>5302076</th>\n",
       "      <td>0.091886</td>\n",
       "      <td>1632182220</td>\n",
       "      <td>13</td>\n",
       "    </tr>\n",
       "    <tr>\n",
       "      <th>5302077</th>\n",
       "      <td>0.091847</td>\n",
       "      <td>1632182280</td>\n",
       "      <td>13</td>\n",
       "    </tr>\n",
       "    <tr>\n",
       "      <th>5302078</th>\n",
       "      <td>0.091817</td>\n",
       "      <td>1632182340</td>\n",
       "      <td>13</td>\n",
       "    </tr>\n",
       "    <tr>\n",
       "      <th>5302079</th>\n",
       "      <td>0.091783</td>\n",
       "      <td>1632182400</td>\n",
       "      <td>13</td>\n",
       "    </tr>\n",
       "  </tbody>\n",
       "</table>\n",
       "<p>5302080 rows × 3 columns</p>\n",
       "</div>"
      ],
      "text/plain": [
       "         Close__mean__60min_ft   timestamp  Asset_ID\n",
       "0                    37.389000  1609459260         0\n",
       "1                    37.360149  1609459320         0\n",
       "2                    37.337265  1609459380         0\n",
       "3                    37.325924  1609459440         0\n",
       "4                    37.303341  1609459500         0\n",
       "...                        ...         ...       ...\n",
       "5302075               0.091925  1632182160        13\n",
       "5302076               0.091886  1632182220        13\n",
       "5302077               0.091847  1632182280        13\n",
       "5302078               0.091817  1632182340        13\n",
       "5302079               0.091783  1632182400        13\n",
       "\n",
       "[5302080 rows x 3 columns]"
      ]
     },
     "execution_count": 18,
     "metadata": {},
     "output_type": "execute_result"
    }
   ],
   "source": [
    "features_df"
   ]
  },
  {
   "cell_type": "code",
   "execution_count": 19,
   "id": "5375a610",
   "metadata": {
    "ExecuteTime": {
     "end_time": "2021-11-27T00:14:14.038974Z",
     "start_time": "2021-11-27T00:14:14.016585Z"
    }
   },
   "outputs": [],
   "source": [
    "assert features_df['timestamp'].isna().sum() == 0"
   ]
  },
  {
   "cell_type": "code",
   "execution_count": 20,
   "id": "1951d98f",
   "metadata": {
    "ExecuteTime": {
     "end_time": "2021-11-27T00:14:15.691926Z",
     "start_time": "2021-11-27T00:14:14.042306Z"
    }
   },
   "outputs": [],
   "source": [
    "data = data.merge(features_df, on=['Asset_ID', 'timestamp'], how='left')"
   ]
  },
  {
   "cell_type": "code",
   "execution_count": 21,
   "id": "6e7fe91c",
   "metadata": {
    "ExecuteTime": {
     "end_time": "2021-11-27T00:14:15.882313Z",
     "start_time": "2021-11-27T00:14:15.694612Z"
    }
   },
   "outputs": [
    {
     "data": {
      "text/plain": [
       "timestamp                0.0\n",
       "Asset_ID                 0.0\n",
       "Target                   0.0\n",
       "time                     0.0\n",
       "Asset_Name               0.0\n",
       "Close__mean__60min_ft    0.0\n",
       "dtype: float64"
      ]
     },
     "execution_count": 21,
     "metadata": {},
     "output_type": "execute_result"
    }
   ],
   "source": [
    "data.isna().mean()"
   ]
  },
  {
   "cell_type": "code",
   "execution_count": 22,
   "id": "1bb4745a",
   "metadata": {
    "ExecuteTime": {
     "end_time": "2021-11-27T00:14:15.900410Z",
     "start_time": "2021-11-27T00:14:15.884200Z"
    }
   },
   "outputs": [],
   "source": [
    "FEATURES = ['timestamp', 'Asset_ID', 'Target_x', 'time', 'Asset_Name', 'Count',\n",
    "       'Open', 'High', 'Low', 'Close', 'Volume', 'VWAP', 'Target_y',\n",
    "       'high_low_return', 'open_close_return', 'upper_shadow', 'lower_shador',\n",
    "       'price_return_1', 'vwap_return_1']"
   ]
  },
  {
   "cell_type": "code",
   "execution_count": 23,
   "id": "0785ffbe",
   "metadata": {
    "ExecuteTime": {
     "end_time": "2021-11-27T00:14:15.921488Z",
     "start_time": "2021-11-27T00:14:15.902231Z"
    }
   },
   "outputs": [
    {
     "data": {
      "text/plain": [
       "Index(['timestamp', 'Asset_ID', 'Target', 'time', 'Asset_Name',\n",
       "       'Close__mean__60min_ft'],\n",
       "      dtype='object')"
      ]
     },
     "execution_count": 23,
     "metadata": {},
     "output_type": "execute_result"
    }
   ],
   "source": [
    "data.columns"
   ]
  },
  {
   "cell_type": "code",
   "execution_count": 24,
   "id": "4fcd4e69",
   "metadata": {
    "ExecuteTime": {
     "end_time": "2021-11-27T00:14:16.113883Z",
     "start_time": "2021-11-27T00:14:15.924418Z"
    }
   },
   "outputs": [],
   "source": [
    "from sklearn.linear_model import LogisticRegression, LinearRegression, Lasso, Ridge\n",
    "from sklearn.preprocessing import MinMaxScaler, FunctionTransformer\n",
    "from sklearn.pipeline import Pipeline\n",
    "from sklearn.base import BaseEstimator, TransformerMixin\n",
    "\n",
    "\n",
    "class FilterFeatures(BaseEstimator, TransformerMixin):\n",
    "    def __init__(self, pattern: str = '_ft$', sort: bool = False):\n",
    "        self.pattern = pattern\n",
    "        self.sort = sort\n",
    "    \n",
    "    def fit(self, X: pd.DataFrame, y=None):\n",
    "        self.features = list(X.filter(regex=self.pattern).columns)\n",
    "        if self.sort:\n",
    "            self.features.sort()\n",
    "        return self\n",
    "    \n",
    "    def transform(self, X: pd.DataFrame):\n",
    "        return X.loc[:, self.features]\n",
    "\n",
    "    \n",
    "def test_filter_features():\n",
    "    n_feat = 100\n",
    "    size = 500\n",
    "    t = 100\n",
    "    expected_columns = [f'{f}_ft' for f in np.arange(n_feat)]\n",
    "    \n",
    "    expected_df = pd.DataFrame(np.random.randn(size, n_feat), columns=expected_columns)\n",
    "    tmf = FilterFeatures()\n",
    "    tmf.fit(expected_df)\n",
    "    \n",
    "    for i in range(t):\n",
    "        shuffle_columns = np.random.permutation(expected_columns)\n",
    "        shuffle_df = expected_df.loc[:, shuffle_columns]\n",
    "        actual_columns = list(tmf.transform(shuffle_df).columns)\n",
    "        assert (actual_columns == expected_columns), f'cols do not match at iter {i}'\n",
    "    \n",
    "test_filter_features()\n",
    "\n",
    "def build_model(params={'alpha': 0.001}):\n",
    "    model = Pipeline([('filter', FilterFeatures()),\n",
    "                      ('norm', MinMaxScaler()),\n",
    "                      ('model', Ridge(params['alpha']))])\n",
    "    return model"
   ]
  },
  {
   "cell_type": "code",
   "execution_count": 25,
   "id": "d2c9a4b9",
   "metadata": {
    "ExecuteTime": {
     "end_time": "2021-11-27T00:14:16.135659Z",
     "start_time": "2021-11-27T00:14:16.115692Z"
    }
   },
   "outputs": [],
   "source": [
    "def train_model(config, train_data, valid_data, pipeline=None):\n",
    "    model  = build_model(config['model'])\n",
    "\n",
    "    if config['training']['time_decay_alpha'] is not None:\n",
    "        time_decay_alpha = config['training']['time_decay_alpha']\n",
    "        print(f'using exponential_time_decay with alpha {time_decay_alpha}')\n",
    "        timesteps = ((train_data['timestamp'].max() - train_data['timestamp'])//60//60//24)\n",
    "        weight = time_decay_alpha ** timesteps\n",
    "    else:\n",
    "        weight = None\n",
    "\n",
    "    model.fit(train_data, train_data['Target'], model__sample_weight=weight)\n",
    "    \n",
    "    return model"
   ]
  },
  {
   "cell_type": "code",
   "execution_count": 26,
   "id": "5fec683f",
   "metadata": {
    "ExecuteTime": {
     "end_time": "2021-11-27T00:14:16.162414Z",
     "start_time": "2021-11-27T00:14:16.138289Z"
    }
   },
   "outputs": [],
   "source": [
    "PULIC_LB_RANGE = ['2021-06-13 00:00:00',\n",
    "                  '2021-09-13 00:00:00'] # 3 MONTH WORTH OF DATA\n",
    "\n",
    "EVAL_PERIODS = [PULIC_LB_RANGE]"
   ]
  },
  {
   "cell_type": "code",
   "execution_count": 27,
   "id": "b8fa6271",
   "metadata": {
    "ExecuteTime": {
     "end_time": "2021-11-27T00:14:16.186230Z",
     "start_time": "2021-11-27T00:14:16.165192Z"
    }
   },
   "outputs": [],
   "source": [
    "CV_PARAMS = {'gap_unit': 'min', 'dt_col': 'time'}\n",
    "\n",
    "CV = TimeSeriesSplit(EVAL_PERIODS, **CV_PARAMS)"
   ]
  },
  {
   "cell_type": "code",
   "execution_count": 28,
   "id": "adb6ebfd",
   "metadata": {
    "ExecuteTime": {
     "end_time": "2021-11-27T00:14:16.342539Z",
     "start_time": "2021-11-27T00:14:16.191379Z"
    }
   },
   "outputs": [],
   "source": [
    "train_idx, valid_idx = next(iter(CV.split(data)))"
   ]
  },
  {
   "cell_type": "code",
   "execution_count": 29,
   "id": "dc6d6858",
   "metadata": {
    "ExecuteTime": {
     "end_time": "2021-11-27T00:14:16.833282Z",
     "start_time": "2021-11-27T00:14:16.345674Z"
    }
   },
   "outputs": [],
   "source": [
    "train_data = data.loc[train_idx, :].reset_index(drop=True)"
   ]
  },
  {
   "cell_type": "code",
   "execution_count": 30,
   "id": "c19c1ce2",
   "metadata": {
    "ExecuteTime": {
     "end_time": "2021-11-27T00:14:16.870735Z",
     "start_time": "2021-11-27T00:14:16.836146Z"
    }
   },
   "outputs": [
    {
     "data": {
      "text/plain": [
       "min   2021-01-01 00:01:00\n",
       "max   2021-06-12 23:59:00\n",
       "Name: time, dtype: datetime64[ns]"
      ]
     },
     "execution_count": 30,
     "metadata": {},
     "output_type": "execute_result"
    }
   ],
   "source": [
    "get_date_range(train_data['time'])"
   ]
  },
  {
   "cell_type": "code",
   "execution_count": 31,
   "id": "657cc10f",
   "metadata": {
    "ExecuteTime": {
     "end_time": "2021-11-27T00:14:16.895022Z",
     "start_time": "2021-11-27T00:14:16.873138Z"
    }
   },
   "outputs": [],
   "source": [
    "MODEL_CONFIG = {'alpha': 0.001}\n",
    "TRAIN_CONFIG = {'time_decay_alpha': 0.99}\n",
    "CONFIG = {'model': MODEL_CONFIG, 'training': TRAIN_CONFIG}"
   ]
  },
  {
   "cell_type": "code",
   "execution_count": 32,
   "id": "9c649420",
   "metadata": {
    "ExecuteTime": {
     "end_time": "2021-11-27T00:14:18.096864Z",
     "start_time": "2021-11-27T00:14:16.896912Z"
    }
   },
   "outputs": [
    {
     "name": "stdout",
     "output_type": "stream",
     "text": [
      "training model for asset_ID == 0\n",
      "using exponential_time_decay with alpha 0.99\n",
      "training model for asset_ID == 1\n",
      "using exponential_time_decay with alpha 0.99\n",
      "training model for asset_ID == 2\n",
      "using exponential_time_decay with alpha 0.99\n",
      "training model for asset_ID == 3\n",
      "using exponential_time_decay with alpha 0.99\n",
      "training model for asset_ID == 4\n",
      "using exponential_time_decay with alpha 0.99\n",
      "training model for asset_ID == 5\n",
      "using exponential_time_decay with alpha 0.99\n",
      "training model for asset_ID == 6\n",
      "using exponential_time_decay with alpha 0.99\n",
      "training model for asset_ID == 7\n",
      "using exponential_time_decay with alpha 0.99\n",
      "training model for asset_ID == 8\n",
      "using exponential_time_decay with alpha 0.99\n",
      "training model for asset_ID == 9\n",
      "using exponential_time_decay with alpha 0.99\n",
      "training model for asset_ID == 10\n",
      "using exponential_time_decay with alpha 0.99\n",
      "training model for asset_ID == 11\n",
      "using exponential_time_decay with alpha 0.99\n",
      "training model for asset_ID == 12\n",
      "using exponential_time_decay with alpha 0.99\n",
      "training model for asset_ID == 13\n",
      "using exponential_time_decay with alpha 0.99\n"
     ]
    }
   ],
   "source": [
    "MODELS = {}\n",
    "for asset_id, train_asset_data in data.groupby(\"Asset_ID\"):\n",
    "    print(f'training model for asset_ID == {asset_id}')\n",
    "    train_asset_data = train_asset_data.reset_index(drop=True)    \n",
    "    model = train_model(CONFIG, train_asset_data, train_asset_data)\n",
    "    MODELS[asset_id] = model"
   ]
  },
  {
   "cell_type": "code",
   "execution_count": 33,
   "id": "d2e3519a",
   "metadata": {
    "ExecuteTime": {
     "end_time": "2021-11-27T00:14:18.119166Z",
     "start_time": "2021-11-27T00:14:18.099002Z"
    }
   },
   "outputs": [],
   "source": [
    "# create submission history"
   ]
  },
  {
   "cell_type": "code",
   "execution_count": 34,
   "id": "f0f399ab",
   "metadata": {
    "ExecuteTime": {
     "end_time": "2021-11-27T00:14:18.144599Z",
     "start_time": "2021-11-27T00:14:18.121180Z"
    }
   },
   "outputs": [],
   "source": [
    "# create submission history\n",
    "\n",
    "def build_history(t: int):\n",
    "    raw_train_df = raw_df.loc[raw_df['timestamp'] < t]\n",
    "    HISTORY_DFS = {}\n",
    "    for asset_id, raw_asset_data in raw_train_df.groupby(\"Asset_ID\"):\n",
    "        raw_asset_data = raw_asset_data.tail(24*60)\n",
    "        raw_asset_data = fill_gaps_crypto_data(raw_asset_data)\n",
    "        raw_asset_data = infer_dtypes(raw_asset_data)\n",
    "        HISTORY_DFS[asset_id] = raw_asset_data\n",
    "    return HISTORY_DFS"
   ]
  },
  {
   "cell_type": "code",
   "execution_count": 35,
   "id": "22f33025",
   "metadata": {
    "ExecuteTime": {
     "end_time": "2021-11-27T00:14:18.168498Z",
     "start_time": "2021-11-27T00:14:18.147242Z"
    }
   },
   "outputs": [],
   "source": [
    "if not ON_KAGGLE:\n",
    "    sys.path.append(str(RAW_DIR))\n",
    "\n",
    "import gresearch_crypto\n",
    "import traceback\n",
    "env = gresearch_crypto.make_env()   # initialize the environment\n",
    "iter_test = env.iter_test()    # an iterator which loops over the test set and sample submission\n",
    "\n",
    "FIRST_TEST_TIMESTAMP = None"
   ]
  },
  {
   "cell_type": "code",
   "execution_count": 36,
   "id": "5572b852",
   "metadata": {
    "ExecuteTime": {
     "end_time": "2021-11-27T00:14:19.619389Z",
     "start_time": "2021-11-27T00:14:18.171277Z"
    }
   },
   "outputs": [
    {
     "name": "stdout",
     "output_type": "stream",
     "text": [
      "This version of the API is not optimized and should not be used to estimate the runtime of your code on the hidden test set.\n"
     ]
    },
    {
     "data": {
      "text/html": [
       "<div>\n",
       "<style scoped>\n",
       "    .dataframe tbody tr th:only-of-type {\n",
       "        vertical-align: middle;\n",
       "    }\n",
       "\n",
       "    .dataframe tbody tr th {\n",
       "        vertical-align: top;\n",
       "    }\n",
       "\n",
       "    .dataframe thead th {\n",
       "        text-align: right;\n",
       "    }\n",
       "</style>\n",
       "<table border=\"1\" class=\"dataframe\">\n",
       "  <thead>\n",
       "    <tr style=\"text-align: right;\">\n",
       "      <th></th>\n",
       "      <th>row_id</th>\n",
       "      <th>Target</th>\n",
       "    </tr>\n",
       "  </thead>\n",
       "  <tbody>\n",
       "    <tr>\n",
       "      <th>0</th>\n",
       "      <td>0</td>\n",
       "      <td>4.639353e-05</td>\n",
       "    </tr>\n",
       "    <tr>\n",
       "      <th>1</th>\n",
       "      <td>1</td>\n",
       "      <td>-1.581949e-05</td>\n",
       "    </tr>\n",
       "    <tr>\n",
       "      <th>2</th>\n",
       "      <td>2</td>\n",
       "      <td>3.888669e-05</td>\n",
       "    </tr>\n",
       "    <tr>\n",
       "      <th>3</th>\n",
       "      <td>3</td>\n",
       "      <td>3.150972e-05</td>\n",
       "    </tr>\n",
       "    <tr>\n",
       "      <th>4</th>\n",
       "      <td>4</td>\n",
       "      <td>-3.915650e-05</td>\n",
       "    </tr>\n",
       "    <tr>\n",
       "      <th>5</th>\n",
       "      <td>5</td>\n",
       "      <td>-1.592307e-07</td>\n",
       "    </tr>\n",
       "    <tr>\n",
       "      <th>6</th>\n",
       "      <td>6</td>\n",
       "      <td>1.706918e-05</td>\n",
       "    </tr>\n",
       "    <tr>\n",
       "      <th>7</th>\n",
       "      <td>7</td>\n",
       "      <td>1.317283e-05</td>\n",
       "    </tr>\n",
       "    <tr>\n",
       "      <th>8</th>\n",
       "      <td>8</td>\n",
       "      <td>1.031815e-04</td>\n",
       "    </tr>\n",
       "    <tr>\n",
       "      <th>9</th>\n",
       "      <td>9</td>\n",
       "      <td>-2.322495e-05</td>\n",
       "    </tr>\n",
       "    <tr>\n",
       "      <th>10</th>\n",
       "      <td>10</td>\n",
       "      <td>-7.137598e-06</td>\n",
       "    </tr>\n",
       "    <tr>\n",
       "      <th>11</th>\n",
       "      <td>11</td>\n",
       "      <td>4.201329e-05</td>\n",
       "    </tr>\n",
       "    <tr>\n",
       "      <th>12</th>\n",
       "      <td>12</td>\n",
       "      <td>-1.611395e-05</td>\n",
       "    </tr>\n",
       "    <tr>\n",
       "      <th>13</th>\n",
       "      <td>13</td>\n",
       "      <td>5.333146e-06</td>\n",
       "    </tr>\n",
       "  </tbody>\n",
       "</table>\n",
       "</div>"
      ],
      "text/plain": [
       "    row_id        Target\n",
       "0        0  4.639353e-05\n",
       "1        1 -1.581949e-05\n",
       "2        2  3.888669e-05\n",
       "3        3  3.150972e-05\n",
       "4        4 -3.915650e-05\n",
       "5        5 -1.592307e-07\n",
       "6        6  1.706918e-05\n",
       "7        7  1.317283e-05\n",
       "8        8  1.031815e-04\n",
       "9        9 -2.322495e-05\n",
       "10      10 -7.137598e-06\n",
       "11      11  4.201329e-05\n",
       "12      12 -1.611395e-05\n",
       "13      13  5.333146e-06"
      ]
     },
     "metadata": {},
     "output_type": "display_data"
    },
    {
     "data": {
      "text/html": [
       "<div>\n",
       "<style scoped>\n",
       "    .dataframe tbody tr th:only-of-type {\n",
       "        vertical-align: middle;\n",
       "    }\n",
       "\n",
       "    .dataframe tbody tr th {\n",
       "        vertical-align: top;\n",
       "    }\n",
       "\n",
       "    .dataframe thead th {\n",
       "        text-align: right;\n",
       "    }\n",
       "</style>\n",
       "<table border=\"1\" class=\"dataframe\">\n",
       "  <thead>\n",
       "    <tr style=\"text-align: right;\">\n",
       "      <th></th>\n",
       "      <th>row_id</th>\n",
       "      <th>Target</th>\n",
       "    </tr>\n",
       "  </thead>\n",
       "  <tbody>\n",
       "    <tr>\n",
       "      <th>0</th>\n",
       "      <td>14</td>\n",
       "      <td>4.639589e-05</td>\n",
       "    </tr>\n",
       "    <tr>\n",
       "      <th>1</th>\n",
       "      <td>15</td>\n",
       "      <td>-1.582199e-05</td>\n",
       "    </tr>\n",
       "    <tr>\n",
       "      <th>2</th>\n",
       "      <td>16</td>\n",
       "      <td>3.890331e-05</td>\n",
       "    </tr>\n",
       "    <tr>\n",
       "      <th>3</th>\n",
       "      <td>17</td>\n",
       "      <td>3.152966e-05</td>\n",
       "    </tr>\n",
       "    <tr>\n",
       "      <th>4</th>\n",
       "      <td>18</td>\n",
       "      <td>-3.913607e-05</td>\n",
       "    </tr>\n",
       "    <tr>\n",
       "      <th>5</th>\n",
       "      <td>19</td>\n",
       "      <td>-1.640128e-07</td>\n",
       "    </tr>\n",
       "    <tr>\n",
       "      <th>6</th>\n",
       "      <td>20</td>\n",
       "      <td>1.708190e-05</td>\n",
       "    </tr>\n",
       "    <tr>\n",
       "      <th>7</th>\n",
       "      <td>21</td>\n",
       "      <td>1.317617e-05</td>\n",
       "    </tr>\n",
       "    <tr>\n",
       "      <th>8</th>\n",
       "      <td>22</td>\n",
       "      <td>1.032136e-04</td>\n",
       "    </tr>\n",
       "    <tr>\n",
       "      <th>9</th>\n",
       "      <td>23</td>\n",
       "      <td>-2.321943e-05</td>\n",
       "    </tr>\n",
       "    <tr>\n",
       "      <th>10</th>\n",
       "      <td>24</td>\n",
       "      <td>-7.102586e-06</td>\n",
       "    </tr>\n",
       "    <tr>\n",
       "      <th>11</th>\n",
       "      <td>25</td>\n",
       "      <td>4.202127e-05</td>\n",
       "    </tr>\n",
       "    <tr>\n",
       "      <th>12</th>\n",
       "      <td>26</td>\n",
       "      <td>-1.607223e-05</td>\n",
       "    </tr>\n",
       "    <tr>\n",
       "      <th>13</th>\n",
       "      <td>27</td>\n",
       "      <td>5.363894e-06</td>\n",
       "    </tr>\n",
       "  </tbody>\n",
       "</table>\n",
       "</div>"
      ],
      "text/plain": [
       "    row_id        Target\n",
       "0       14  4.639589e-05\n",
       "1       15 -1.582199e-05\n",
       "2       16  3.890331e-05\n",
       "3       17  3.152966e-05\n",
       "4       18 -3.913607e-05\n",
       "5       19 -1.640128e-07\n",
       "6       20  1.708190e-05\n",
       "7       21  1.317617e-05\n",
       "8       22  1.032136e-04\n",
       "9       23 -2.321943e-05\n",
       "10      24 -7.102586e-06\n",
       "11      25  4.202127e-05\n",
       "12      26 -1.607223e-05\n",
       "13      27  5.363894e-06"
      ]
     },
     "metadata": {},
     "output_type": "display_data"
    },
    {
     "data": {
      "text/html": [
       "<div>\n",
       "<style scoped>\n",
       "    .dataframe tbody tr th:only-of-type {\n",
       "        vertical-align: middle;\n",
       "    }\n",
       "\n",
       "    .dataframe tbody tr th {\n",
       "        vertical-align: top;\n",
       "    }\n",
       "\n",
       "    .dataframe thead th {\n",
       "        text-align: right;\n",
       "    }\n",
       "</style>\n",
       "<table border=\"1\" class=\"dataframe\">\n",
       "  <thead>\n",
       "    <tr style=\"text-align: right;\">\n",
       "      <th></th>\n",
       "      <th>row_id</th>\n",
       "      <th>Target</th>\n",
       "    </tr>\n",
       "  </thead>\n",
       "  <tbody>\n",
       "    <tr>\n",
       "      <th>0</th>\n",
       "      <td>28</td>\n",
       "      <td>4.639947e-05</td>\n",
       "    </tr>\n",
       "    <tr>\n",
       "      <th>1</th>\n",
       "      <td>29</td>\n",
       "      <td>-1.582619e-05</td>\n",
       "    </tr>\n",
       "    <tr>\n",
       "      <th>2</th>\n",
       "      <td>30</td>\n",
       "      <td>3.893304e-05</td>\n",
       "    </tr>\n",
       "    <tr>\n",
       "      <th>3</th>\n",
       "      <td>31</td>\n",
       "      <td>3.155497e-05</td>\n",
       "    </tr>\n",
       "    <tr>\n",
       "      <th>4</th>\n",
       "      <td>32</td>\n",
       "      <td>-3.910459e-05</td>\n",
       "    </tr>\n",
       "    <tr>\n",
       "      <th>5</th>\n",
       "      <td>33</td>\n",
       "      <td>-1.705321e-07</td>\n",
       "    </tr>\n",
       "    <tr>\n",
       "      <th>6</th>\n",
       "      <td>34</td>\n",
       "      <td>1.710262e-05</td>\n",
       "    </tr>\n",
       "    <tr>\n",
       "      <th>7</th>\n",
       "      <td>35</td>\n",
       "      <td>1.318095e-05</td>\n",
       "    </tr>\n",
       "    <tr>\n",
       "      <th>8</th>\n",
       "      <td>36</td>\n",
       "      <td>1.032546e-04</td>\n",
       "    </tr>\n",
       "    <tr>\n",
       "      <th>9</th>\n",
       "      <td>37</td>\n",
       "      <td>-2.321163e-05</td>\n",
       "    </tr>\n",
       "    <tr>\n",
       "      <th>10</th>\n",
       "      <td>38</td>\n",
       "      <td>-7.045048e-06</td>\n",
       "    </tr>\n",
       "    <tr>\n",
       "      <th>11</th>\n",
       "      <td>39</td>\n",
       "      <td>4.203753e-05</td>\n",
       "    </tr>\n",
       "    <tr>\n",
       "      <th>12</th>\n",
       "      <td>40</td>\n",
       "      <td>-1.602620e-05</td>\n",
       "    </tr>\n",
       "    <tr>\n",
       "      <th>13</th>\n",
       "      <td>41</td>\n",
       "      <td>5.402115e-06</td>\n",
       "    </tr>\n",
       "  </tbody>\n",
       "</table>\n",
       "</div>"
      ],
      "text/plain": [
       "    row_id        Target\n",
       "0       28  4.639947e-05\n",
       "1       29 -1.582619e-05\n",
       "2       30  3.893304e-05\n",
       "3       31  3.155497e-05\n",
       "4       32 -3.910459e-05\n",
       "5       33 -1.705321e-07\n",
       "6       34  1.710262e-05\n",
       "7       35  1.318095e-05\n",
       "8       36  1.032546e-04\n",
       "9       37 -2.321163e-05\n",
       "10      38 -7.045048e-06\n",
       "11      39  4.203753e-05\n",
       "12      40 -1.602620e-05\n",
       "13      41  5.402115e-06"
      ]
     },
     "metadata": {},
     "output_type": "display_data"
    },
    {
     "data": {
      "text/html": [
       "<div>\n",
       "<style scoped>\n",
       "    .dataframe tbody tr th:only-of-type {\n",
       "        vertical-align: middle;\n",
       "    }\n",
       "\n",
       "    .dataframe tbody tr th {\n",
       "        vertical-align: top;\n",
       "    }\n",
       "\n",
       "    .dataframe thead th {\n",
       "        text-align: right;\n",
       "    }\n",
       "</style>\n",
       "<table border=\"1\" class=\"dataframe\">\n",
       "  <thead>\n",
       "    <tr style=\"text-align: right;\">\n",
       "      <th></th>\n",
       "      <th>row_id</th>\n",
       "      <th>Target</th>\n",
       "    </tr>\n",
       "  </thead>\n",
       "  <tbody>\n",
       "    <tr>\n",
       "      <th>0</th>\n",
       "      <td>42</td>\n",
       "      <td>4.640574e-05</td>\n",
       "    </tr>\n",
       "    <tr>\n",
       "      <th>1</th>\n",
       "      <td>43</td>\n",
       "      <td>-1.583202e-05</td>\n",
       "    </tr>\n",
       "    <tr>\n",
       "      <th>2</th>\n",
       "      <td>44</td>\n",
       "      <td>3.897425e-05</td>\n",
       "    </tr>\n",
       "    <tr>\n",
       "      <th>3</th>\n",
       "      <td>45</td>\n",
       "      <td>3.158879e-05</td>\n",
       "    </tr>\n",
       "    <tr>\n",
       "      <th>4</th>\n",
       "      <td>46</td>\n",
       "      <td>-3.906523e-05</td>\n",
       "    </tr>\n",
       "    <tr>\n",
       "      <th>5</th>\n",
       "      <td>47</td>\n",
       "      <td>-1.786757e-07</td>\n",
       "    </tr>\n",
       "    <tr>\n",
       "      <th>6</th>\n",
       "      <td>48</td>\n",
       "      <td>1.712514e-05</td>\n",
       "    </tr>\n",
       "    <tr>\n",
       "      <th>7</th>\n",
       "      <td>49</td>\n",
       "      <td>1.318763e-05</td>\n",
       "    </tr>\n",
       "    <tr>\n",
       "      <th>8</th>\n",
       "      <td>50</td>\n",
       "      <td>1.033196e-04</td>\n",
       "    </tr>\n",
       "    <tr>\n",
       "      <th>9</th>\n",
       "      <td>51</td>\n",
       "      <td>-2.320136e-05</td>\n",
       "    </tr>\n",
       "    <tr>\n",
       "      <th>10</th>\n",
       "      <td>52</td>\n",
       "      <td>-6.970717e-06</td>\n",
       "    </tr>\n",
       "    <tr>\n",
       "      <th>11</th>\n",
       "      <td>53</td>\n",
       "      <td>4.205912e-05</td>\n",
       "    </tr>\n",
       "    <tr>\n",
       "      <th>12</th>\n",
       "      <td>54</td>\n",
       "      <td>-1.597346e-05</td>\n",
       "    </tr>\n",
       "    <tr>\n",
       "      <th>13</th>\n",
       "      <td>55</td>\n",
       "      <td>5.433336e-06</td>\n",
       "    </tr>\n",
       "  </tbody>\n",
       "</table>\n",
       "</div>"
      ],
      "text/plain": [
       "    row_id        Target\n",
       "0       42  4.640574e-05\n",
       "1       43 -1.583202e-05\n",
       "2       44  3.897425e-05\n",
       "3       45  3.158879e-05\n",
       "4       46 -3.906523e-05\n",
       "5       47 -1.786757e-07\n",
       "6       48  1.712514e-05\n",
       "7       49  1.318763e-05\n",
       "8       50  1.033196e-04\n",
       "9       51 -2.320136e-05\n",
       "10      52 -6.970717e-06\n",
       "11      53  4.205912e-05\n",
       "12      54 -1.597346e-05\n",
       "13      55  5.433336e-06"
      ]
     },
     "metadata": {},
     "output_type": "display_data"
    }
   ],
   "source": [
    "for i, (raw_test_df, submission) in enumerate(iter_test):\n",
    "    if FIRST_TEST_TIMESTAMP is None:\n",
    "        FIRST_TEST_TIMESTAMP = raw_test_df['timestamp'].iloc[0]\n",
    "        HISTORY_DFS = build_history(FIRST_TEST_TIMESTAMP)\n",
    "\n",
    "    submission, HISTORY_DFS = inference(test_data=raw_test_df, submission=submission,\n",
    "                                        history_dfs=HISTORY_DFS, models=MODELS, prepro_kwargs=PREPRO_PARAMS)\n",
    "    if i % 1000 == 0 or i < 10:\n",
    "        display(submission)    \n",
    "    env.predict(submission)"
   ]
  }
 ],
 "metadata": {
  "kernelspec": {
   "display_name": "Python 3 (ipykernel)",
   "language": "python",
   "name": "python3"
  },
  "language_info": {
   "codemirror_mode": {
    "name": "ipython",
    "version": 3
   },
   "file_extension": ".py",
   "mimetype": "text/x-python",
   "name": "python",
   "nbconvert_exporter": "python",
   "pygments_lexer": "ipython3",
   "version": "3.7.11"
  },
  "toc": {
   "base_numbering": 1,
   "nav_menu": {},
   "number_sections": true,
   "sideBar": true,
   "skip_h1_title": false,
   "title_cell": "Table of Contents",
   "title_sidebar": "Contents",
   "toc_cell": false,
   "toc_position": {},
   "toc_section_display": true,
   "toc_window_display": false
  }
 },
 "nbformat": 4,
 "nbformat_minor": 5
}
