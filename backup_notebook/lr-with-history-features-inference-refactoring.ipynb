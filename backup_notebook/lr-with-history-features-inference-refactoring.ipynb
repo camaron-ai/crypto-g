{
 "cells": [
  {
   "cell_type": "code",
   "execution_count": 1,
   "id": "7942f4a4",
   "metadata": {
    "ExecuteTime": {
     "end_time": "2021-12-03T01:13:14.140458Z",
     "start_time": "2021-12-03T01:13:14.115658Z"
    }
   },
   "outputs": [],
   "source": [
    "%load_ext autoreload\n",
    "%autoreload 2"
   ]
  },
  {
   "cell_type": "code",
   "execution_count": 2,
   "id": "f255bb4e",
   "metadata": {
    "ExecuteTime": {
     "end_time": "2021-12-03T01:13:16.100852Z",
     "start_time": "2021-12-03T01:13:14.143548Z"
    }
   },
   "outputs": [],
   "source": [
    "import pandas as pd\n",
    "import numpy as np\n",
    "from matplotlib import pyplot as plt\n",
    "import seaborn as sns\n",
    "from pathlib import Path\n",
    "import os\n",
    "import sys\n",
    "from IPython.display import display"
   ]
  },
  {
   "cell_type": "code",
   "execution_count": 3,
   "id": "136f5247",
   "metadata": {
    "ExecuteTime": {
     "end_time": "2021-12-03T01:13:16.130060Z",
     "start_time": "2021-12-03T01:13:16.103771Z"
    }
   },
   "outputs": [],
   "source": [
    "def on_kaggle() -> bool:\n",
    "    try:\n",
    "        import gresearch_crypto\n",
    "        return True\n",
    "    except ModuleNotFoundError:\n",
    "        return False"
   ]
  },
  {
   "cell_type": "code",
   "execution_count": 4,
   "id": "432ba6ef",
   "metadata": {
    "ExecuteTime": {
     "end_time": "2021-12-03T01:13:16.160545Z",
     "start_time": "2021-12-03T01:13:16.136119Z"
    }
   },
   "outputs": [],
   "source": [
    "# HYPER PARAMETERS\n",
    "ON_KAGGLE = on_kaggle()\n",
    "SAMPLE_LEVEL = 1\n",
    "FORCE_REWRITE = True"
   ]
  },
  {
   "cell_type": "code",
   "execution_count": 5,
   "id": "3ee2a957",
   "metadata": {
    "ExecuteTime": {
     "end_time": "2021-12-03T01:13:16.183246Z",
     "start_time": "2021-12-03T01:13:16.162881Z"
    }
   },
   "outputs": [],
   "source": [
    "if not ON_KAGGLE and os.path.abspath('.').endswith('notebook'):\n",
    "    os.chdir('../')"
   ]
  },
  {
   "cell_type": "code",
   "execution_count": 6,
   "id": "14a8bd19",
   "metadata": {
    "ExecuteTime": {
     "end_time": "2021-12-03T01:13:16.346661Z",
     "start_time": "2021-12-03T01:13:16.188542Z"
    }
   },
   "outputs": [],
   "source": [
    "#IMPORT_SCRIPT!\n",
    "if not ON_KAGGLE and '.' not in sys.path:\n",
    "    sys.path.append('.')\n",
    "from src.metrics import *\n",
    "from src.data import merge_asset_details, infer_dtypes, get_data_for_asset\n",
    "from src.cv import TimeSeriesSplit, get_date_range\n",
    "from src.modeling import Evaluator\n",
    "from src.metrics import compute_metrics, compute_correlation\n",
    "from src.pipeline.feature_gen import compute_instant_features\n",
    "from src.data import infer_dtypes\n",
    "from src.pipeline import EXPECTED_RAW_COLS, inference\n",
    "from src.pipeline.transforms import FilterFeatures\n",
    "from src.modeling import Evaluator"
   ]
  },
  {
   "cell_type": "code",
   "execution_count": 7,
   "id": "5dcd141e",
   "metadata": {
    "ExecuteTime": {
     "end_time": "2021-12-03T01:13:16.372931Z",
     "start_time": "2021-12-03T01:13:16.349411Z"
    }
   },
   "outputs": [],
   "source": [
    "def setup_dir(on_kaggle: bool = True, sample_level: int = 0):\n",
    "    if on_kaggle:\n",
    "        data_dir = Path('../input/g-research-crypto-forecasting/')\n",
    "        raw_train_dir = (Path('../input/create-sample-dataset/data/raw/')\n",
    "                         if sample_level > 0 else data_dir) \n",
    "    else:\n",
    "        data_dir = raw_train_dir = Path('data/raw')\n",
    "    \n",
    "    if sample_level > 0:\n",
    "        raw_train_dir = raw_train_dir.joinpath('sample', str(sample_level))\n",
    "    \n",
    "    return data_dir, raw_train_dir"
   ]
  },
  {
   "cell_type": "code",
   "execution_count": 8,
   "id": "fa49be87",
   "metadata": {
    "ExecuteTime": {
     "end_time": "2021-12-03T01:13:16.395230Z",
     "start_time": "2021-12-03T01:13:16.375199Z"
    }
   },
   "outputs": [],
   "source": [
    "DATA_DIR, RAW_TRAIN_DIR = setup_dir(ON_KAGGLE, sample_level=SAMPLE_LEVEL)\n",
    "RAW_TRAIN_PATH = RAW_TRAIN_DIR / 'train.csv'\n",
    "ASSET_DETAILS_PATH = DATA_DIR / 'asset_details.csv'"
   ]
  },
  {
   "cell_type": "code",
   "execution_count": 9,
   "id": "74076be4",
   "metadata": {
    "ExecuteTime": {
     "end_time": "2021-12-03T01:13:16.427238Z",
     "start_time": "2021-12-03T01:13:16.399182Z"
    }
   },
   "outputs": [
    {
     "data": {
      "text/plain": [
       "PosixPath('data/raw/sample/1')"
      ]
     },
     "execution_count": 9,
     "metadata": {},
     "output_type": "execute_result"
    }
   ],
   "source": [
    "RAW_TRAIN_DIR"
   ]
  },
  {
   "cell_type": "code",
   "execution_count": 10,
   "id": "1d55b22d",
   "metadata": {
    "ExecuteTime": {
     "end_time": "2021-12-03T01:13:16.457150Z",
     "start_time": "2021-12-03T01:13:16.433228Z"
    }
   },
   "outputs": [
    {
     "data": {
      "text/plain": [
       "PosixPath('data/raw')"
      ]
     },
     "execution_count": 10,
     "metadata": {},
     "output_type": "execute_result"
    }
   ],
   "source": [
    "DATA_DIR"
   ]
  },
  {
   "cell_type": "code",
   "execution_count": 11,
   "id": "4b479f0e",
   "metadata": {
    "ExecuteTime": {
     "end_time": "2021-12-03T01:13:23.456107Z",
     "start_time": "2021-12-03T01:13:16.460654Z"
    },
    "scrolled": true
   },
   "outputs": [
    {
     "name": "stdout",
     "output_type": "stream",
     "text": [
      "CPU times: user 5.58 s, sys: 668 ms, total: 6.25 s\n",
      "Wall time: 6.97 s\n"
     ]
    }
   ],
   "source": [
    "%%time \n",
    "raw_data = pd.read_csv(RAW_TRAIN_PATH)"
   ]
  },
  {
   "cell_type": "markdown",
   "id": "d5c53d2f",
   "metadata": {},
   "source": [
    "## create train set"
   ]
  },
  {
   "cell_type": "code",
   "execution_count": 12,
   "id": "9313bf55",
   "metadata": {
    "ExecuteTime": {
     "end_time": "2021-12-03T01:13:23.482083Z",
     "start_time": "2021-12-03T01:13:23.458455Z"
    }
   },
   "outputs": [],
   "source": [
    "PREPRO_PARAMS = {'window': 60}\n",
    "MAIN_INDEX = ['timestamp', 'Asset_ID']"
   ]
  },
  {
   "cell_type": "code",
   "execution_count": 13,
   "id": "ddebc9cc",
   "metadata": {
    "ExecuteTime": {
     "end_time": "2021-12-03T01:13:24.922283Z",
     "start_time": "2021-12-03T01:13:23.487439Z"
    }
   },
   "outputs": [
    {
     "name": "stderr",
     "output_type": "stream",
     "text": [
      "/home/med/anaconda3/envs/crypto-g/lib/python3.7/site-packages/ipykernel_launcher.py:4: SettingWithCopyWarning: \n",
      "A value is trying to be set on a copy of a slice from a DataFrame.\n",
      "Try using .loc[row_indexer,col_indexer] = value instead\n",
      "\n",
      "See the caveats in the documentation: https://pandas.pydata.org/pandas-docs/stable/user_guide/indexing.html#returning-a-view-versus-a-copy\n",
      "  after removing the cwd from sys.path.\n"
     ]
    }
   ],
   "source": [
    "# get valid data only, drop where the target is NaN \n",
    "data = raw_data.dropna(subset=['Target'])\n",
    "# format time to human readable \n",
    "data['time'] = pd.to_datetime(data['timestamp'], unit='s')\n",
    "# merge asset names\n",
    "data = merge_asset_details(data, ASSET_DETAILS_PATH)"
   ]
  },
  {
   "cell_type": "code",
   "execution_count": 14,
   "id": "3c771517",
   "metadata": {
    "ExecuteTime": {
     "end_time": "2021-12-03T01:13:24.969883Z",
     "start_time": "2021-12-03T01:13:24.924606Z"
    }
   },
   "outputs": [
    {
     "data": {
      "text/html": [
       "<div>\n",
       "<style scoped>\n",
       "    .dataframe tbody tr th:only-of-type {\n",
       "        vertical-align: middle;\n",
       "    }\n",
       "\n",
       "    .dataframe tbody tr th {\n",
       "        vertical-align: top;\n",
       "    }\n",
       "\n",
       "    .dataframe thead th {\n",
       "        text-align: right;\n",
       "    }\n",
       "</style>\n",
       "<table border=\"1\" class=\"dataframe\">\n",
       "  <thead>\n",
       "    <tr style=\"text-align: right;\">\n",
       "      <th></th>\n",
       "      <th>timestamp</th>\n",
       "      <th>Asset_ID</th>\n",
       "      <th>Count</th>\n",
       "      <th>Open</th>\n",
       "      <th>High</th>\n",
       "      <th>Low</th>\n",
       "      <th>Close</th>\n",
       "      <th>Volume</th>\n",
       "      <th>VWAP</th>\n",
       "      <th>Target</th>\n",
       "      <th>time</th>\n",
       "      <th>Asset_Name</th>\n",
       "    </tr>\n",
       "  </thead>\n",
       "  <tbody>\n",
       "    <tr>\n",
       "      <th>0</th>\n",
       "      <td>1609459260</td>\n",
       "      <td>3</td>\n",
       "      <td>104.0</td>\n",
       "      <td>0.181465</td>\n",
       "      <td>0.181702</td>\n",
       "      <td>0.181270</td>\n",
       "      <td>0.181493</td>\n",
       "      <td>6.134333e+05</td>\n",
       "      <td>0.181527</td>\n",
       "      <td>0.001255</td>\n",
       "      <td>2021-01-01 00:01:00</td>\n",
       "      <td>Cardano</td>\n",
       "    </tr>\n",
       "    <tr>\n",
       "      <th>1</th>\n",
       "      <td>1609459260</td>\n",
       "      <td>2</td>\n",
       "      <td>275.0</td>\n",
       "      <td>342.556667</td>\n",
       "      <td>343.500000</td>\n",
       "      <td>342.420000</td>\n",
       "      <td>342.966667</td>\n",
       "      <td>4.199310e+02</td>\n",
       "      <td>342.842188</td>\n",
       "      <td>-0.002884</td>\n",
       "      <td>2021-01-01 00:01:00</td>\n",
       "      <td>Bitcoin Cash</td>\n",
       "    </tr>\n",
       "    <tr>\n",
       "      <th>2</th>\n",
       "      <td>1609459260</td>\n",
       "      <td>0</td>\n",
       "      <td>219.0</td>\n",
       "      <td>37.385000</td>\n",
       "      <td>37.422100</td>\n",
       "      <td>37.348700</td>\n",
       "      <td>37.389000</td>\n",
       "      <td>2.749569e+03</td>\n",
       "      <td>37.387059</td>\n",
       "      <td>-0.001669</td>\n",
       "      <td>2021-01-01 00:01:00</td>\n",
       "      <td>Binance Coin</td>\n",
       "    </tr>\n",
       "    <tr>\n",
       "      <th>3</th>\n",
       "      <td>1609459260</td>\n",
       "      <td>1</td>\n",
       "      <td>4039.0</td>\n",
       "      <td>28985.511250</td>\n",
       "      <td>29086.900000</td>\n",
       "      <td>28960.000000</td>\n",
       "      <td>29032.387500</td>\n",
       "      <td>1.637870e+02</td>\n",
       "      <td>29017.664870</td>\n",
       "      <td>0.000396</td>\n",
       "      <td>2021-01-01 00:01:00</td>\n",
       "      <td>Bitcoin</td>\n",
       "    </tr>\n",
       "    <tr>\n",
       "      <th>4</th>\n",
       "      <td>1609459260</td>\n",
       "      <td>4</td>\n",
       "      <td>84.0</td>\n",
       "      <td>0.004671</td>\n",
       "      <td>0.004683</td>\n",
       "      <td>0.004668</td>\n",
       "      <td>0.004677</td>\n",
       "      <td>2.202482e+06</td>\n",
       "      <td>0.004675</td>\n",
       "      <td>-0.008679</td>\n",
       "      <td>2021-01-01 00:01:00</td>\n",
       "      <td>Dogecoin</td>\n",
       "    </tr>\n",
       "  </tbody>\n",
       "</table>\n",
       "</div>"
      ],
      "text/plain": [
       "    timestamp  Asset_ID   Count          Open          High           Low  \\\n",
       "0  1609459260         3   104.0      0.181465      0.181702      0.181270   \n",
       "1  1609459260         2   275.0    342.556667    343.500000    342.420000   \n",
       "2  1609459260         0   219.0     37.385000     37.422100     37.348700   \n",
       "3  1609459260         1  4039.0  28985.511250  29086.900000  28960.000000   \n",
       "4  1609459260         4    84.0      0.004671      0.004683      0.004668   \n",
       "\n",
       "          Close        Volume          VWAP    Target                time  \\\n",
       "0      0.181493  6.134333e+05      0.181527  0.001255 2021-01-01 00:01:00   \n",
       "1    342.966667  4.199310e+02    342.842188 -0.002884 2021-01-01 00:01:00   \n",
       "2     37.389000  2.749569e+03     37.387059 -0.001669 2021-01-01 00:01:00   \n",
       "3  29032.387500  1.637870e+02  29017.664870  0.000396 2021-01-01 00:01:00   \n",
       "4      0.004677  2.202482e+06      0.004675 -0.008679 2021-01-01 00:01:00   \n",
       "\n",
       "     Asset_Name  \n",
       "0       Cardano  \n",
       "1  Bitcoin Cash  \n",
       "2  Binance Coin  \n",
       "3       Bitcoin  \n",
       "4      Dogecoin  "
      ]
     },
     "execution_count": 14,
     "metadata": {},
     "output_type": "execute_result"
    }
   ],
   "source": [
    "data.head()"
   ]
  },
  {
   "cell_type": "code",
   "execution_count": 15,
   "id": "e37a820f",
   "metadata": {
    "ExecuteTime": {
     "end_time": "2021-12-03T01:13:25.013372Z",
     "start_time": "2021-12-03T01:13:24.973414Z"
    }
   },
   "outputs": [
    {
     "data": {
      "text/html": [
       "<div>\n",
       "<style scoped>\n",
       "    .dataframe tbody tr th:only-of-type {\n",
       "        vertical-align: middle;\n",
       "    }\n",
       "\n",
       "    .dataframe tbody tr th {\n",
       "        vertical-align: top;\n",
       "    }\n",
       "\n",
       "    .dataframe thead th {\n",
       "        text-align: right;\n",
       "    }\n",
       "</style>\n",
       "<table border=\"1\" class=\"dataframe\">\n",
       "  <thead>\n",
       "    <tr style=\"text-align: right;\">\n",
       "      <th></th>\n",
       "      <th>timestamp</th>\n",
       "      <th>Asset_ID</th>\n",
       "      <th>Count</th>\n",
       "      <th>Open</th>\n",
       "      <th>High</th>\n",
       "      <th>Low</th>\n",
       "      <th>Close</th>\n",
       "      <th>Volume</th>\n",
       "      <th>VWAP</th>\n",
       "      <th>Target</th>\n",
       "      <th>time</th>\n",
       "      <th>Asset_Name</th>\n",
       "    </tr>\n",
       "  </thead>\n",
       "  <tbody>\n",
       "    <tr>\n",
       "      <th>5137881</th>\n",
       "      <td>1631491200</td>\n",
       "      <td>9</td>\n",
       "      <td>176.0</td>\n",
       "      <td>183.043333</td>\n",
       "      <td>183.240000</td>\n",
       "      <td>182.94000</td>\n",
       "      <td>183.118833</td>\n",
       "      <td>1.127703e+03</td>\n",
       "      <td>183.079643</td>\n",
       "      <td>0.003215</td>\n",
       "      <td>2021-09-13</td>\n",
       "      <td>Litecoin</td>\n",
       "    </tr>\n",
       "    <tr>\n",
       "      <th>5137882</th>\n",
       "      <td>1631491200</td>\n",
       "      <td>10</td>\n",
       "      <td>15.0</td>\n",
       "      <td>2872.870767</td>\n",
       "      <td>2876.000000</td>\n",
       "      <td>2872.33870</td>\n",
       "      <td>2874.284467</td>\n",
       "      <td>9.084150e-01</td>\n",
       "      <td>2872.969592</td>\n",
       "      <td>0.005277</td>\n",
       "      <td>2021-09-13</td>\n",
       "      <td>Maker</td>\n",
       "    </tr>\n",
       "    <tr>\n",
       "      <th>5137883</th>\n",
       "      <td>1631491200</td>\n",
       "      <td>13</td>\n",
       "      <td>873.0</td>\n",
       "      <td>0.112415</td>\n",
       "      <td>0.112522</td>\n",
       "      <td>0.11229</td>\n",
       "      <td>0.112390</td>\n",
       "      <td>3.465484e+06</td>\n",
       "      <td>0.112399</td>\n",
       "      <td>0.007712</td>\n",
       "      <td>2021-09-13</td>\n",
       "      <td>TRON</td>\n",
       "    </tr>\n",
       "    <tr>\n",
       "      <th>5137884</th>\n",
       "      <td>1631491200</td>\n",
       "      <td>12</td>\n",
       "      <td>200.0</td>\n",
       "      <td>0.332417</td>\n",
       "      <td>0.332900</td>\n",
       "      <td>0.33197</td>\n",
       "      <td>0.332570</td>\n",
       "      <td>1.875167e+05</td>\n",
       "      <td>0.332414</td>\n",
       "      <td>0.003338</td>\n",
       "      <td>2021-09-13</td>\n",
       "      <td>Stellar</td>\n",
       "    </tr>\n",
       "    <tr>\n",
       "      <th>5137885</th>\n",
       "      <td>1631491200</td>\n",
       "      <td>11</td>\n",
       "      <td>7.0</td>\n",
       "      <td>256.317500</td>\n",
       "      <td>256.440000</td>\n",
       "      <td>256.20000</td>\n",
       "      <td>256.292500</td>\n",
       "      <td>1.234097e+00</td>\n",
       "      <td>256.303736</td>\n",
       "      <td>0.003787</td>\n",
       "      <td>2021-09-13</td>\n",
       "      <td>Monero</td>\n",
       "    </tr>\n",
       "  </tbody>\n",
       "</table>\n",
       "</div>"
      ],
      "text/plain": [
       "          timestamp  Asset_ID  Count         Open         High         Low  \\\n",
       "5137881  1631491200         9  176.0   183.043333   183.240000   182.94000   \n",
       "5137882  1631491200        10   15.0  2872.870767  2876.000000  2872.33870   \n",
       "5137883  1631491200        13  873.0     0.112415     0.112522     0.11229   \n",
       "5137884  1631491200        12  200.0     0.332417     0.332900     0.33197   \n",
       "5137885  1631491200        11    7.0   256.317500   256.440000   256.20000   \n",
       "\n",
       "               Close        Volume         VWAP    Target       time  \\\n",
       "5137881   183.118833  1.127703e+03   183.079643  0.003215 2021-09-13   \n",
       "5137882  2874.284467  9.084150e-01  2872.969592  0.005277 2021-09-13   \n",
       "5137883     0.112390  3.465484e+06     0.112399  0.007712 2021-09-13   \n",
       "5137884     0.332570  1.875167e+05     0.332414  0.003338 2021-09-13   \n",
       "5137885   256.292500  1.234097e+00   256.303736  0.003787 2021-09-13   \n",
       "\n",
       "        Asset_Name  \n",
       "5137881   Litecoin  \n",
       "5137882      Maker  \n",
       "5137883       TRON  \n",
       "5137884    Stellar  \n",
       "5137885     Monero  "
      ]
     },
     "execution_count": 15,
     "metadata": {},
     "output_type": "execute_result"
    }
   ],
   "source": [
    "data.tail()"
   ]
  },
  {
   "cell_type": "code",
   "execution_count": 16,
   "id": "a5631261",
   "metadata": {
    "ExecuteTime": {
     "end_time": "2021-12-03T01:13:26.423691Z",
     "start_time": "2021-12-03T01:13:25.017118Z"
    }
   },
   "outputs": [],
   "source": [
    "data = infer_dtypes(data)"
   ]
  },
  {
   "cell_type": "code",
   "execution_count": 17,
   "id": "5c298ad8",
   "metadata": {
    "ExecuteTime": {
     "end_time": "2021-12-03T01:13:27.541518Z",
     "start_time": "2021-12-03T01:13:26.426907Z"
    }
   },
   "outputs": [],
   "source": [
    "data = compute_instant_features(data)"
   ]
  },
  {
   "cell_type": "code",
   "execution_count": 18,
   "id": "0980f752",
   "metadata": {
    "ExecuteTime": {
     "end_time": "2021-12-03T01:13:27.595389Z",
     "start_time": "2021-12-03T01:13:27.544273Z"
    }
   },
   "outputs": [
    {
     "data": {
      "text/html": [
       "<div>\n",
       "<style scoped>\n",
       "    .dataframe tbody tr th:only-of-type {\n",
       "        vertical-align: middle;\n",
       "    }\n",
       "\n",
       "    .dataframe tbody tr th {\n",
       "        vertical-align: top;\n",
       "    }\n",
       "\n",
       "    .dataframe thead th {\n",
       "        text-align: right;\n",
       "    }\n",
       "</style>\n",
       "<table border=\"1\" class=\"dataframe\">\n",
       "  <thead>\n",
       "    <tr style=\"text-align: right;\">\n",
       "      <th></th>\n",
       "      <th>timestamp</th>\n",
       "      <th>Asset_ID</th>\n",
       "      <th>Count</th>\n",
       "      <th>High</th>\n",
       "      <th>Low</th>\n",
       "      <th>Close</th>\n",
       "      <th>Volume</th>\n",
       "      <th>VWAP</th>\n",
       "      <th>Target</th>\n",
       "      <th>time</th>\n",
       "      <th>Asset_Name</th>\n",
       "      <th>high_low_return</th>\n",
       "      <th>open_close_return</th>\n",
       "      <th>upper_shadow</th>\n",
       "      <th>lower_shadow</th>\n",
       "      <th>dolar_amount</th>\n",
       "      <th>vol_per_trades</th>\n",
       "    </tr>\n",
       "  </thead>\n",
       "  <tbody>\n",
       "    <tr>\n",
       "      <th>0</th>\n",
       "      <td>1609459260</td>\n",
       "      <td>3</td>\n",
       "      <td>104.0</td>\n",
       "      <td>1.001304</td>\n",
       "      <td>0.998924</td>\n",
       "      <td>0.181493</td>\n",
       "      <td>6.134333e+05</td>\n",
       "      <td>0.181527</td>\n",
       "      <td>0.001255</td>\n",
       "      <td>2021-01-01 00:01:00</td>\n",
       "      <td>Cardano</td>\n",
       "      <td>0.694338</td>\n",
       "      <td>0.693223</td>\n",
       "      <td>5.517041</td>\n",
       "      <td>0.181661</td>\n",
       "      <td>1.113339e+05</td>\n",
       "      <td>5898.397437</td>\n",
       "    </tr>\n",
       "    <tr>\n",
       "      <th>1</th>\n",
       "      <td>1609459260</td>\n",
       "      <td>2</td>\n",
       "      <td>275.0</td>\n",
       "      <td>1.002754</td>\n",
       "      <td>0.999601</td>\n",
       "      <td>342.966675</td>\n",
       "      <td>4.199310e+02</td>\n",
       "      <td>342.842194</td>\n",
       "      <td>-0.002884</td>\n",
       "      <td>2021-01-01 00:01:00</td>\n",
       "      <td>Bitcoin Cash</td>\n",
       "      <td>0.694723</td>\n",
       "      <td>0.693745</td>\n",
       "      <td>0.002924</td>\n",
       "      <td>342.693390</td>\n",
       "      <td>1.440223e+05</td>\n",
       "      <td>1.527022</td>\n",
       "    </tr>\n",
       "    <tr>\n",
       "      <th>2</th>\n",
       "      <td>1609459260</td>\n",
       "      <td>0</td>\n",
       "      <td>219.0</td>\n",
       "      <td>1.000992</td>\n",
       "      <td>0.999029</td>\n",
       "      <td>37.389000</td>\n",
       "      <td>2.749569e+03</td>\n",
       "      <td>37.387058</td>\n",
       "      <td>-0.001669</td>\n",
       "      <td>2021-01-01 00:01:00</td>\n",
       "      <td>Binance Coin</td>\n",
       "      <td>0.694129</td>\n",
       "      <td>0.693201</td>\n",
       "      <td>0.026772</td>\n",
       "      <td>37.421329</td>\n",
       "      <td>1.028036e+05</td>\n",
       "      <td>12.555111</td>\n",
       "    </tr>\n",
       "    <tr>\n",
       "      <th>3</th>\n",
       "      <td>1609459260</td>\n",
       "      <td>1</td>\n",
       "      <td>4039.0</td>\n",
       "      <td>1.003498</td>\n",
       "      <td>0.999120</td>\n",
       "      <td>29032.386719</td>\n",
       "      <td>1.637870e+02</td>\n",
       "      <td>29017.664062</td>\n",
       "      <td>0.000396</td>\n",
       "      <td>2021-01-01 00:01:00</td>\n",
       "      <td>Bitcoin</td>\n",
       "      <td>0.695336</td>\n",
       "      <td>0.693955</td>\n",
       "      <td>0.000035</td>\n",
       "      <td>29011.046875</td>\n",
       "      <td>4.755129e+06</td>\n",
       "      <td>0.040551</td>\n",
       "    </tr>\n",
       "    <tr>\n",
       "      <th>4</th>\n",
       "      <td>1609459260</td>\n",
       "      <td>4</td>\n",
       "      <td>84.0</td>\n",
       "      <td>1.002655</td>\n",
       "      <td>0.999443</td>\n",
       "      <td>0.004677</td>\n",
       "      <td>2.202482e+06</td>\n",
       "      <td>0.004675</td>\n",
       "      <td>-0.008679</td>\n",
       "      <td>2021-01-01 00:01:00</td>\n",
       "      <td>Dogecoin</td>\n",
       "      <td>0.694753</td>\n",
       "      <td>0.693843</td>\n",
       "      <td>214.375336</td>\n",
       "      <td>0.004673</td>\n",
       "      <td>1.030123e+04</td>\n",
       "      <td>26220.028831</td>\n",
       "    </tr>\n",
       "  </tbody>\n",
       "</table>\n",
       "</div>"
      ],
      "text/plain": [
       "    timestamp  Asset_ID   Count      High       Low         Close  \\\n",
       "0  1609459260         3   104.0  1.001304  0.998924      0.181493   \n",
       "1  1609459260         2   275.0  1.002754  0.999601    342.966675   \n",
       "2  1609459260         0   219.0  1.000992  0.999029     37.389000   \n",
       "3  1609459260         1  4039.0  1.003498  0.999120  29032.386719   \n",
       "4  1609459260         4    84.0  1.002655  0.999443      0.004677   \n",
       "\n",
       "         Volume          VWAP    Target                time    Asset_Name  \\\n",
       "0  6.134333e+05      0.181527  0.001255 2021-01-01 00:01:00       Cardano   \n",
       "1  4.199310e+02    342.842194 -0.002884 2021-01-01 00:01:00  Bitcoin Cash   \n",
       "2  2.749569e+03     37.387058 -0.001669 2021-01-01 00:01:00  Binance Coin   \n",
       "3  1.637870e+02  29017.664062  0.000396 2021-01-01 00:01:00       Bitcoin   \n",
       "4  2.202482e+06      0.004675 -0.008679 2021-01-01 00:01:00      Dogecoin   \n",
       "\n",
       "   high_low_return  open_close_return  upper_shadow  lower_shadow  \\\n",
       "0         0.694338           0.693223      5.517041      0.181661   \n",
       "1         0.694723           0.693745      0.002924    342.693390   \n",
       "2         0.694129           0.693201      0.026772     37.421329   \n",
       "3         0.695336           0.693955      0.000035  29011.046875   \n",
       "4         0.694753           0.693843    214.375336      0.004673   \n",
       "\n",
       "   dolar_amount  vol_per_trades  \n",
       "0  1.113339e+05     5898.397437  \n",
       "1  1.440223e+05        1.527022  \n",
       "2  1.028036e+05       12.555111  \n",
       "3  4.755129e+06        0.040551  \n",
       "4  1.030123e+04    26220.028831  "
      ]
     },
     "execution_count": 18,
     "metadata": {},
     "output_type": "execute_result"
    }
   ],
   "source": [
    "data.head()"
   ]
  },
  {
   "cell_type": "code",
   "execution_count": 19,
   "id": "0f290d81",
   "metadata": {
    "ExecuteTime": {
     "end_time": "2021-12-03T01:13:27.958898Z",
     "start_time": "2021-12-03T01:13:27.600060Z"
    }
   },
   "outputs": [
    {
     "data": {
      "text/plain": [
       "timestamp            0.0\n",
       "Asset_ID             0.0\n",
       "Count                0.0\n",
       "High                 0.0\n",
       "Low                  0.0\n",
       "Close                0.0\n",
       "Volume               0.0\n",
       "VWAP                 0.0\n",
       "Target               0.0\n",
       "time                 0.0\n",
       "Asset_Name           0.0\n",
       "high_low_return      0.0\n",
       "open_close_return    0.0\n",
       "upper_shadow         0.0\n",
       "lower_shadow         0.0\n",
       "dolar_amount         0.0\n",
       "vol_per_trades       0.0\n",
       "dtype: float64"
      ]
     },
     "execution_count": 19,
     "metadata": {},
     "output_type": "execute_result"
    }
   ],
   "source": [
    "data.isna().mean()"
   ]
  },
  {
   "cell_type": "code",
   "execution_count": 20,
   "id": "47bfa8a7",
   "metadata": {
    "ExecuteTime": {
     "end_time": "2021-12-03T01:13:28.005837Z",
     "start_time": "2021-12-03T01:13:27.961921Z"
    }
   },
   "outputs": [],
   "source": [
    "data.fillna({'VWAP': data['VWAP'].mean()}, inplace=True)"
   ]
  },
  {
   "cell_type": "code",
   "execution_count": 21,
   "id": "d344ce3c",
   "metadata": {
    "ExecuteTime": {
     "end_time": "2021-12-03T01:13:28.321600Z",
     "start_time": "2021-12-03T01:13:28.007687Z"
    }
   },
   "outputs": [
    {
     "data": {
      "text/plain": [
       "timestamp            0.0\n",
       "Asset_ID             0.0\n",
       "Count                0.0\n",
       "High                 0.0\n",
       "Low                  0.0\n",
       "Close                0.0\n",
       "Volume               0.0\n",
       "VWAP                 0.0\n",
       "Target               0.0\n",
       "time                 0.0\n",
       "Asset_Name           0.0\n",
       "high_low_return      0.0\n",
       "open_close_return    0.0\n",
       "upper_shadow         0.0\n",
       "lower_shadow         0.0\n",
       "dolar_amount         0.0\n",
       "vol_per_trades       0.0\n",
       "dtype: float64"
      ]
     },
     "execution_count": 21,
     "metadata": {},
     "output_type": "execute_result"
    }
   ],
   "source": [
    "data.isna().mean()"
   ]
  },
  {
   "cell_type": "code",
   "execution_count": 22,
   "id": "b44d5f1a",
   "metadata": {
    "ExecuteTime": {
     "end_time": "2021-12-03T01:13:28.348606Z",
     "start_time": "2021-12-03T01:13:28.324107Z"
    }
   },
   "outputs": [
    {
     "data": {
      "text/plain": [
       "['timestamp',\n",
       " 'Asset_ID',\n",
       " 'Count',\n",
       " 'High',\n",
       " 'Low',\n",
       " 'Close',\n",
       " 'Volume',\n",
       " 'VWAP',\n",
       " 'Target',\n",
       " 'time',\n",
       " 'Asset_Name',\n",
       " 'high_low_return',\n",
       " 'open_close_return',\n",
       " 'upper_shadow',\n",
       " 'lower_shadow',\n",
       " 'dolar_amount',\n",
       " 'vol_per_trades']"
      ]
     },
     "execution_count": 22,
     "metadata": {},
     "output_type": "execute_result"
    }
   ],
   "source": [
    "list(data.columns)"
   ]
  },
  {
   "cell_type": "code",
   "execution_count": 23,
   "id": "ee6b551d",
   "metadata": {
    "ExecuteTime": {
     "end_time": "2021-12-03T01:13:28.377596Z",
     "start_time": "2021-12-03T01:13:28.353493Z"
    }
   },
   "outputs": [],
   "source": [
    "FEATURES = [\n",
    "'Count',\n",
    "'High',\n",
    "'Low',\n",
    "'Close',\n",
    "'Volume',\n",
    "'VWAP',\n",
    "'high_low_return',\n",
    "'open_close_return',\n",
    "'upper_shadow',\n",
    "'lower_shadow',\n",
    "'dolar_amount',\n",
    "'vol_per_trades'\n",
    "]"
   ]
  },
  {
   "cell_type": "code",
   "execution_count": 24,
   "id": "4fcd4e69",
   "metadata": {
    "ExecuteTime": {
     "end_time": "2021-12-03T01:13:28.474873Z",
     "start_time": "2021-12-03T01:13:28.381975Z"
    }
   },
   "outputs": [],
   "source": [
    "from sklearn.linear_model import LogisticRegression, LinearRegression, Lasso, Ridge\n",
    "from sklearn.preprocessing import MinMaxScaler, FunctionTransformer\n",
    "from sklearn.pipeline import Pipeline\n",
    "\n",
    "def build_model(params={'alpha': 0.001}):\n",
    "    model = Pipeline([('filter', FilterFeatures(FEATURES)),\n",
    "                      ('norm', MinMaxScaler()),\n",
    "                      ('model', Ridge(params['alpha'], random_state=1))])\n",
    "    return model"
   ]
  },
  {
   "cell_type": "code",
   "execution_count": 25,
   "id": "d2c9a4b9",
   "metadata": {
    "ExecuteTime": {
     "end_time": "2021-12-03T01:13:28.506339Z",
     "start_time": "2021-12-03T01:13:28.477930Z"
    }
   },
   "outputs": [],
   "source": [
    "def train_model(config, train_data, valid_data, pipeline=None):\n",
    "    model  = build_model(config['model'])\n",
    "\n",
    "    if config['training']['time_decay_alpha'] is not None:\n",
    "        time_decay_alpha = config['training']['time_decay_alpha']\n",
    "        print(f'using exponential_time_decay with alpha {time_decay_alpha}')\n",
    "        timesteps = ((train_data['timestamp'].max() - train_data['timestamp'])//60//60//24)\n",
    "        weight = time_decay_alpha ** timesteps\n",
    "    else:\n",
    "        weight = None\n",
    "\n",
    "    model.fit(train_data, train_data['Target'], model__sample_weight=weight)\n",
    "    return model"
   ]
  },
  {
   "cell_type": "code",
   "execution_count": 26,
   "id": "5fec683f",
   "metadata": {
    "ExecuteTime": {
     "end_time": "2021-12-03T01:13:28.531318Z",
     "start_time": "2021-12-03T01:13:28.508131Z"
    }
   },
   "outputs": [],
   "source": [
    "PULIC_LB_RANGE = ['2021-06-13',\n",
    "                  '2021-09-13'] # 3 MONTH WORTH OF DATA"
   ]
  },
  {
   "cell_type": "code",
   "execution_count": 27,
   "id": "ec1d82ad",
   "metadata": {
    "ExecuteTime": {
     "end_time": "2021-12-03T01:13:28.557398Z",
     "start_time": "2021-12-03T01:13:28.533327Z"
    }
   },
   "outputs": [],
   "source": [
    "EVAL_PERIODS = [PULIC_LB_RANGE]"
   ]
  },
  {
   "cell_type": "code",
   "execution_count": 28,
   "id": "b8fa6271",
   "metadata": {
    "ExecuteTime": {
     "end_time": "2021-12-03T01:13:28.590489Z",
     "start_time": "2021-12-03T01:13:28.563556Z"
    }
   },
   "outputs": [],
   "source": [
    "CV_PARAMS = {'gap_unit': 'min', 'dt_col': 'time'}\n",
    "\n",
    "CV = TimeSeriesSplit(EVAL_PERIODS, **CV_PARAMS)"
   ]
  },
  {
   "cell_type": "code",
   "execution_count": 29,
   "id": "b7d13db8",
   "metadata": {
    "ExecuteTime": {
     "end_time": "2021-12-03T01:13:28.760071Z",
     "start_time": "2021-12-03T01:13:28.592520Z"
    }
   },
   "outputs": [],
   "source": [
    "train_idx, valid_idx = next(iter(CV.split(data)))"
   ]
  },
  {
   "cell_type": "code",
   "execution_count": 30,
   "id": "21ccd86e",
   "metadata": {
    "ExecuteTime": {
     "end_time": "2021-12-03T01:13:29.586093Z",
     "start_time": "2021-12-03T01:13:28.764430Z"
    }
   },
   "outputs": [],
   "source": [
    "train_data = data.loc[train_idx, :].reset_index(drop=True)"
   ]
  },
  {
   "cell_type": "code",
   "execution_count": 31,
   "id": "6841c03a",
   "metadata": {
    "ExecuteTime": {
     "end_time": "2021-12-03T01:13:29.960140Z",
     "start_time": "2021-12-03T01:13:29.588361Z"
    }
   },
   "outputs": [],
   "source": [
    "valid_data = data.loc[valid_idx, :].reset_index(drop=True)"
   ]
  },
  {
   "cell_type": "code",
   "execution_count": 32,
   "id": "423d1700",
   "metadata": {
    "ExecuteTime": {
     "end_time": "2021-12-03T01:13:29.990480Z",
     "start_time": "2021-12-03T01:13:29.964509Z"
    }
   },
   "outputs": [],
   "source": [
    "MODEL_CONFIG = {'alpha': 0.001}\n",
    "TRAIN_CONFIG = {'time_decay_alpha': 0.99}\n",
    "CONFIG = {'model': MODEL_CONFIG, 'training': TRAIN_CONFIG}"
   ]
  },
  {
   "cell_type": "code",
   "execution_count": 33,
   "id": "71d994ba",
   "metadata": {
    "ExecuteTime": {
     "end_time": "2021-12-03T01:13:32.731462Z",
     "start_time": "2021-12-03T01:13:29.993314Z"
    }
   },
   "outputs": [
    {
     "name": "stdout",
     "output_type": "stream",
     "text": [
      "training asset_id = 0\n",
      "using exponential_time_decay with alpha 0.99\n",
      "training asset_id = 1\n",
      "using exponential_time_decay with alpha 0.99\n",
      "training asset_id = 2\n",
      "using exponential_time_decay with alpha 0.99\n",
      "training asset_id = 3\n",
      "using exponential_time_decay with alpha 0.99\n",
      "training asset_id = 4\n",
      "using exponential_time_decay with alpha 0.99\n",
      "training asset_id = 5\n",
      "using exponential_time_decay with alpha 0.99\n",
      "training asset_id = 6\n",
      "using exponential_time_decay with alpha 0.99\n",
      "training asset_id = 7\n",
      "using exponential_time_decay with alpha 0.99\n",
      "training asset_id = 8\n",
      "using exponential_time_decay with alpha 0.99\n",
      "training asset_id = 9\n",
      "using exponential_time_decay with alpha 0.99\n",
      "training asset_id = 10\n",
      "using exponential_time_decay with alpha 0.99\n",
      "training asset_id = 11\n",
      "using exponential_time_decay with alpha 0.99\n",
      "training asset_id = 12\n",
      "using exponential_time_decay with alpha 0.99\n",
      "training asset_id = 13\n",
      "using exponential_time_decay with alpha 0.99\n"
     ]
    }
   ],
   "source": [
    "asset_ids = sorted(data['Asset_ID'].unique())\n",
    "MODELS = {}\n",
    "for asset_id in asset_ids:\n",
    "    print(f'training asset_id = {asset_id}')\n",
    "    train_asset_data = get_data_for_asset(train_data, asset_id)\n",
    "    model = train_model(CONFIG, train_asset_data, valid_data)\n",
    "    MODELS[asset_id] = model"
   ]
  },
  {
   "cell_type": "code",
   "execution_count": 34,
   "id": "5164bfc4",
   "metadata": {
    "ExecuteTime": {
     "end_time": "2021-12-03T01:13:32.774453Z",
     "start_time": "2021-12-03T01:13:32.736708Z"
    }
   },
   "outputs": [],
   "source": [
    "if not ON_KAGGLE:\n",
    "    sys.path.append(str(DATA_DIR))\n",
    "\n",
    "import gresearch_crypto\n",
    "import traceback\n",
    "env = gresearch_crypto.make_env()   # initialize the environment\n",
    "iter_test = env.iter_test()    # an iterator which loops over the test set and sample submission"
   ]
  },
  {
   "cell_type": "code",
   "execution_count": 35,
   "id": "d64fc1e6",
   "metadata": {
    "ExecuteTime": {
     "end_time": "2021-12-03T01:13:33.450860Z",
     "start_time": "2021-12-03T01:13:32.779371Z"
    }
   },
   "outputs": [
    {
     "name": "stdout",
     "output_type": "stream",
     "text": [
      "This version of the API is not optimized and should not be used to estimate the runtime of your code on the hidden test set.\n"
     ]
    },
    {
     "data": {
      "text/html": [
       "<div>\n",
       "<style scoped>\n",
       "    .dataframe tbody tr th:only-of-type {\n",
       "        vertical-align: middle;\n",
       "    }\n",
       "\n",
       "    .dataframe tbody tr th {\n",
       "        vertical-align: top;\n",
       "    }\n",
       "\n",
       "    .dataframe thead th {\n",
       "        text-align: right;\n",
       "    }\n",
       "</style>\n",
       "<table border=\"1\" class=\"dataframe\">\n",
       "  <thead>\n",
       "    <tr style=\"text-align: right;\">\n",
       "      <th></th>\n",
       "      <th>row_id</th>\n",
       "      <th>Target</th>\n",
       "    </tr>\n",
       "  </thead>\n",
       "  <tbody>\n",
       "    <tr>\n",
       "      <th>0</th>\n",
       "      <td>0</td>\n",
       "      <td>-1.408325e-04</td>\n",
       "    </tr>\n",
       "    <tr>\n",
       "      <th>1</th>\n",
       "      <td>1</td>\n",
       "      <td>6.098230e-05</td>\n",
       "    </tr>\n",
       "    <tr>\n",
       "      <th>2</th>\n",
       "      <td>2</td>\n",
       "      <td>-1.334446e-04</td>\n",
       "    </tr>\n",
       "    <tr>\n",
       "      <th>3</th>\n",
       "      <td>3</td>\n",
       "      <td>9.565149e-05</td>\n",
       "    </tr>\n",
       "    <tr>\n",
       "      <th>4</th>\n",
       "      <td>4</td>\n",
       "      <td>-2.011465e-04</td>\n",
       "    </tr>\n",
       "    <tr>\n",
       "      <th>5</th>\n",
       "      <td>5</td>\n",
       "      <td>-1.085952e-04</td>\n",
       "    </tr>\n",
       "    <tr>\n",
       "      <th>6</th>\n",
       "      <td>6</td>\n",
       "      <td>1.522752e-07</td>\n",
       "    </tr>\n",
       "    <tr>\n",
       "      <th>7</th>\n",
       "      <td>7</td>\n",
       "      <td>-2.611904e-05</td>\n",
       "    </tr>\n",
       "    <tr>\n",
       "      <th>8</th>\n",
       "      <td>8</td>\n",
       "      <td>1.802241e-04</td>\n",
       "    </tr>\n",
       "    <tr>\n",
       "      <th>9</th>\n",
       "      <td>9</td>\n",
       "      <td>-6.191673e-05</td>\n",
       "    </tr>\n",
       "    <tr>\n",
       "      <th>10</th>\n",
       "      <td>10</td>\n",
       "      <td>1.997606e-04</td>\n",
       "    </tr>\n",
       "    <tr>\n",
       "      <th>11</th>\n",
       "      <td>11</td>\n",
       "      <td>8.448647e-05</td>\n",
       "    </tr>\n",
       "    <tr>\n",
       "      <th>12</th>\n",
       "      <td>12</td>\n",
       "      <td>-4.867876e-05</td>\n",
       "    </tr>\n",
       "    <tr>\n",
       "      <th>13</th>\n",
       "      <td>13</td>\n",
       "      <td>1.022753e-04</td>\n",
       "    </tr>\n",
       "  </tbody>\n",
       "</table>\n",
       "</div>"
      ],
      "text/plain": [
       "    row_id        Target\n",
       "0        0 -1.408325e-04\n",
       "1        1  6.098230e-05\n",
       "2        2 -1.334446e-04\n",
       "3        3  9.565149e-05\n",
       "4        4 -2.011465e-04\n",
       "5        5 -1.085952e-04\n",
       "6        6  1.522752e-07\n",
       "7        7 -2.611904e-05\n",
       "8        8  1.802241e-04\n",
       "9        9 -6.191673e-05\n",
       "10      10  1.997606e-04\n",
       "11      11  8.448647e-05\n",
       "12      12 -4.867876e-05\n",
       "13      13  1.022753e-04"
      ]
     },
     "metadata": {},
     "output_type": "display_data"
    },
    {
     "data": {
      "text/html": [
       "<div>\n",
       "<style scoped>\n",
       "    .dataframe tbody tr th:only-of-type {\n",
       "        vertical-align: middle;\n",
       "    }\n",
       "\n",
       "    .dataframe tbody tr th {\n",
       "        vertical-align: top;\n",
       "    }\n",
       "\n",
       "    .dataframe thead th {\n",
       "        text-align: right;\n",
       "    }\n",
       "</style>\n",
       "<table border=\"1\" class=\"dataframe\">\n",
       "  <thead>\n",
       "    <tr style=\"text-align: right;\">\n",
       "      <th></th>\n",
       "      <th>row_id</th>\n",
       "      <th>Target</th>\n",
       "    </tr>\n",
       "  </thead>\n",
       "  <tbody>\n",
       "    <tr>\n",
       "      <th>0</th>\n",
       "      <td>14</td>\n",
       "      <td>-0.000013</td>\n",
       "    </tr>\n",
       "    <tr>\n",
       "      <th>1</th>\n",
       "      <td>15</td>\n",
       "      <td>0.000088</td>\n",
       "    </tr>\n",
       "    <tr>\n",
       "      <th>2</th>\n",
       "      <td>16</td>\n",
       "      <td>-0.000008</td>\n",
       "    </tr>\n",
       "    <tr>\n",
       "      <th>3</th>\n",
       "      <td>17</td>\n",
       "      <td>0.000094</td>\n",
       "    </tr>\n",
       "    <tr>\n",
       "      <th>4</th>\n",
       "      <td>18</td>\n",
       "      <td>0.000003</td>\n",
       "    </tr>\n",
       "    <tr>\n",
       "      <th>5</th>\n",
       "      <td>19</td>\n",
       "      <td>-0.000163</td>\n",
       "    </tr>\n",
       "    <tr>\n",
       "      <th>6</th>\n",
       "      <td>20</td>\n",
       "      <td>0.000097</td>\n",
       "    </tr>\n",
       "    <tr>\n",
       "      <th>7</th>\n",
       "      <td>21</td>\n",
       "      <td>-0.000028</td>\n",
       "    </tr>\n",
       "    <tr>\n",
       "      <th>8</th>\n",
       "      <td>22</td>\n",
       "      <td>0.000291</td>\n",
       "    </tr>\n",
       "    <tr>\n",
       "      <th>9</th>\n",
       "      <td>23</td>\n",
       "      <td>0.000037</td>\n",
       "    </tr>\n",
       "    <tr>\n",
       "      <th>10</th>\n",
       "      <td>24</td>\n",
       "      <td>-0.000102</td>\n",
       "    </tr>\n",
       "    <tr>\n",
       "      <th>11</th>\n",
       "      <td>25</td>\n",
       "      <td>-0.000014</td>\n",
       "    </tr>\n",
       "    <tr>\n",
       "      <th>12</th>\n",
       "      <td>26</td>\n",
       "      <td>-0.000021</td>\n",
       "    </tr>\n",
       "    <tr>\n",
       "      <th>13</th>\n",
       "      <td>27</td>\n",
       "      <td>0.000009</td>\n",
       "    </tr>\n",
       "  </tbody>\n",
       "</table>\n",
       "</div>"
      ],
      "text/plain": [
       "    row_id    Target\n",
       "0       14 -0.000013\n",
       "1       15  0.000088\n",
       "2       16 -0.000008\n",
       "3       17  0.000094\n",
       "4       18  0.000003\n",
       "5       19 -0.000163\n",
       "6       20  0.000097\n",
       "7       21 -0.000028\n",
       "8       22  0.000291\n",
       "9       23  0.000037\n",
       "10      24 -0.000102\n",
       "11      25 -0.000014\n",
       "12      26 -0.000021\n",
       "13      27  0.000009"
      ]
     },
     "metadata": {},
     "output_type": "display_data"
    },
    {
     "data": {
      "text/html": [
       "<div>\n",
       "<style scoped>\n",
       "    .dataframe tbody tr th:only-of-type {\n",
       "        vertical-align: middle;\n",
       "    }\n",
       "\n",
       "    .dataframe tbody tr th {\n",
       "        vertical-align: top;\n",
       "    }\n",
       "\n",
       "    .dataframe thead th {\n",
       "        text-align: right;\n",
       "    }\n",
       "</style>\n",
       "<table border=\"1\" class=\"dataframe\">\n",
       "  <thead>\n",
       "    <tr style=\"text-align: right;\">\n",
       "      <th></th>\n",
       "      <th>row_id</th>\n",
       "      <th>Target</th>\n",
       "    </tr>\n",
       "  </thead>\n",
       "  <tbody>\n",
       "    <tr>\n",
       "      <th>0</th>\n",
       "      <td>28</td>\n",
       "      <td>0.000136</td>\n",
       "    </tr>\n",
       "    <tr>\n",
       "      <th>1</th>\n",
       "      <td>29</td>\n",
       "      <td>0.000067</td>\n",
       "    </tr>\n",
       "    <tr>\n",
       "      <th>2</th>\n",
       "      <td>30</td>\n",
       "      <td>0.000002</td>\n",
       "    </tr>\n",
       "    <tr>\n",
       "      <th>3</th>\n",
       "      <td>31</td>\n",
       "      <td>0.000069</td>\n",
       "    </tr>\n",
       "    <tr>\n",
       "      <th>4</th>\n",
       "      <td>32</td>\n",
       "      <td>0.000102</td>\n",
       "    </tr>\n",
       "    <tr>\n",
       "      <th>5</th>\n",
       "      <td>33</td>\n",
       "      <td>-0.000097</td>\n",
       "    </tr>\n",
       "    <tr>\n",
       "      <th>6</th>\n",
       "      <td>34</td>\n",
       "      <td>0.000309</td>\n",
       "    </tr>\n",
       "    <tr>\n",
       "      <th>7</th>\n",
       "      <td>35</td>\n",
       "      <td>-0.000032</td>\n",
       "    </tr>\n",
       "    <tr>\n",
       "      <th>8</th>\n",
       "      <td>36</td>\n",
       "      <td>0.000245</td>\n",
       "    </tr>\n",
       "    <tr>\n",
       "      <th>9</th>\n",
       "      <td>37</td>\n",
       "      <td>0.000055</td>\n",
       "    </tr>\n",
       "    <tr>\n",
       "      <th>10</th>\n",
       "      <td>38</td>\n",
       "      <td>-0.000200</td>\n",
       "    </tr>\n",
       "    <tr>\n",
       "      <th>11</th>\n",
       "      <td>39</td>\n",
       "      <td>-0.000099</td>\n",
       "    </tr>\n",
       "    <tr>\n",
       "      <th>12</th>\n",
       "      <td>40</td>\n",
       "      <td>0.000204</td>\n",
       "    </tr>\n",
       "    <tr>\n",
       "      <th>13</th>\n",
       "      <td>41</td>\n",
       "      <td>-0.000105</td>\n",
       "    </tr>\n",
       "  </tbody>\n",
       "</table>\n",
       "</div>"
      ],
      "text/plain": [
       "    row_id    Target\n",
       "0       28  0.000136\n",
       "1       29  0.000067\n",
       "2       30  0.000002\n",
       "3       31  0.000069\n",
       "4       32  0.000102\n",
       "5       33 -0.000097\n",
       "6       34  0.000309\n",
       "7       35 -0.000032\n",
       "8       36  0.000245\n",
       "9       37  0.000055\n",
       "10      38 -0.000200\n",
       "11      39 -0.000099\n",
       "12      40  0.000204\n",
       "13      41 -0.000105"
      ]
     },
     "metadata": {},
     "output_type": "display_data"
    },
    {
     "data": {
      "text/html": [
       "<div>\n",
       "<style scoped>\n",
       "    .dataframe tbody tr th:only-of-type {\n",
       "        vertical-align: middle;\n",
       "    }\n",
       "\n",
       "    .dataframe tbody tr th {\n",
       "        vertical-align: top;\n",
       "    }\n",
       "\n",
       "    .dataframe thead th {\n",
       "        text-align: right;\n",
       "    }\n",
       "</style>\n",
       "<table border=\"1\" class=\"dataframe\">\n",
       "  <thead>\n",
       "    <tr style=\"text-align: right;\">\n",
       "      <th></th>\n",
       "      <th>row_id</th>\n",
       "      <th>Target</th>\n",
       "    </tr>\n",
       "  </thead>\n",
       "  <tbody>\n",
       "    <tr>\n",
       "      <th>0</th>\n",
       "      <td>42</td>\n",
       "      <td>0.000332</td>\n",
       "    </tr>\n",
       "    <tr>\n",
       "      <th>1</th>\n",
       "      <td>43</td>\n",
       "      <td>-0.000015</td>\n",
       "    </tr>\n",
       "    <tr>\n",
       "      <th>2</th>\n",
       "      <td>44</td>\n",
       "      <td>0.000055</td>\n",
       "    </tr>\n",
       "    <tr>\n",
       "      <th>3</th>\n",
       "      <td>45</td>\n",
       "      <td>0.000015</td>\n",
       "    </tr>\n",
       "    <tr>\n",
       "      <th>4</th>\n",
       "      <td>46</td>\n",
       "      <td>-0.000028</td>\n",
       "    </tr>\n",
       "    <tr>\n",
       "      <th>5</th>\n",
       "      <td>47</td>\n",
       "      <td>-0.000013</td>\n",
       "    </tr>\n",
       "    <tr>\n",
       "      <th>6</th>\n",
       "      <td>48</td>\n",
       "      <td>0.000005</td>\n",
       "    </tr>\n",
       "    <tr>\n",
       "      <th>7</th>\n",
       "      <td>49</td>\n",
       "      <td>0.000032</td>\n",
       "    </tr>\n",
       "    <tr>\n",
       "      <th>8</th>\n",
       "      <td>50</td>\n",
       "      <td>0.000237</td>\n",
       "    </tr>\n",
       "    <tr>\n",
       "      <th>9</th>\n",
       "      <td>51</td>\n",
       "      <td>0.000059</td>\n",
       "    </tr>\n",
       "    <tr>\n",
       "      <th>10</th>\n",
       "      <td>52</td>\n",
       "      <td>-0.000244</td>\n",
       "    </tr>\n",
       "    <tr>\n",
       "      <th>11</th>\n",
       "      <td>53</td>\n",
       "      <td>0.000027</td>\n",
       "    </tr>\n",
       "    <tr>\n",
       "      <th>12</th>\n",
       "      <td>54</td>\n",
       "      <td>0.000117</td>\n",
       "    </tr>\n",
       "    <tr>\n",
       "      <th>13</th>\n",
       "      <td>55</td>\n",
       "      <td>-0.000079</td>\n",
       "    </tr>\n",
       "  </tbody>\n",
       "</table>\n",
       "</div>"
      ],
      "text/plain": [
       "    row_id    Target\n",
       "0       42  0.000332\n",
       "1       43 -0.000015\n",
       "2       44  0.000055\n",
       "3       45  0.000015\n",
       "4       46 -0.000028\n",
       "5       47 -0.000013\n",
       "6       48  0.000005\n",
       "7       49  0.000032\n",
       "8       50  0.000237\n",
       "9       51  0.000059\n",
       "10      52 -0.000244\n",
       "11      53  0.000027\n",
       "12      54  0.000117\n",
       "13      55 -0.000079"
      ]
     },
     "metadata": {},
     "output_type": "display_data"
    }
   ],
   "source": [
    "for i, (raw_test_df, submission) in enumerate(iter_test):\n",
    "\n",
    "    submission = inference(test_data=raw_test_df, submission=submission,\n",
    "                            models=MODELS)\n",
    "    if i % 1000 == 0 or i < 10:\n",
    "        display(submission)    \n",
    "    env.predict(submission)"
   ]
  }
 ],
 "metadata": {
  "kernelspec": {
   "display_name": "Python 3 (ipykernel)",
   "language": "python",
   "name": "python3"
  },
  "language_info": {
   "codemirror_mode": {
    "name": "ipython",
    "version": 3
   },
   "file_extension": ".py",
   "mimetype": "text/x-python",
   "name": "python",
   "nbconvert_exporter": "python",
   "pygments_lexer": "ipython3",
   "version": "3.7.11"
  },
  "toc": {
   "base_numbering": 1,
   "nav_menu": {},
   "number_sections": true,
   "sideBar": true,
   "skip_h1_title": false,
   "title_cell": "Table of Contents",
   "title_sidebar": "Contents",
   "toc_cell": false,
   "toc_position": {},
   "toc_section_display": true,
   "toc_window_display": false
  }
 },
 "nbformat": 4,
 "nbformat_minor": 5
}
