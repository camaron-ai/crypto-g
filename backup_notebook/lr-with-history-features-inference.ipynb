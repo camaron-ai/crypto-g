{
 "cells": [
  {
   "cell_type": "code",
   "execution_count": 1,
   "id": "7942f4a4",
   "metadata": {
    "ExecuteTime": {
     "end_time": "2021-11-28T23:31:04.652094Z",
     "start_time": "2021-11-28T23:31:04.632527Z"
    }
   },
   "outputs": [],
   "source": [
    "%load_ext autoreload\n",
    "%autoreload 2"
   ]
  },
  {
   "cell_type": "code",
   "execution_count": 2,
   "id": "f255bb4e",
   "metadata": {
    "ExecuteTime": {
     "end_time": "2021-11-28T23:31:05.405940Z",
     "start_time": "2021-11-28T23:31:04.654759Z"
    }
   },
   "outputs": [],
   "source": [
    "import pandas as pd\n",
    "import numpy as np\n",
    "from matplotlib import pyplot as plt\n",
    "import seaborn as sns\n",
    "from pathlib import Path\n",
    "import os\n",
    "import sys\n",
    "from IPython.display import display"
   ]
  },
  {
   "cell_type": "code",
   "execution_count": 3,
   "id": "136f5247",
   "metadata": {
    "ExecuteTime": {
     "end_time": "2021-11-28T23:31:05.424068Z",
     "start_time": "2021-11-28T23:31:05.407708Z"
    }
   },
   "outputs": [],
   "source": [
    "def on_kaggle() -> bool:\n",
    "    try:\n",
    "        import gresearch_crypto\n",
    "        return True\n",
    "    except ModuleNotFoundError:\n",
    "        return False"
   ]
  },
  {
   "cell_type": "code",
   "execution_count": 4,
   "id": "432ba6ef",
   "metadata": {
    "ExecuteTime": {
     "end_time": "2021-11-28T23:31:05.444463Z",
     "start_time": "2021-11-28T23:31:05.427826Z"
    }
   },
   "outputs": [],
   "source": [
    "# HYPER PARAMETERS\n",
    "ON_KAGGLE = on_kaggle()\n",
    "SAMPLE_LEVEL = 1\n",
    "USE_SAMPLE = SAMPLE_LEVEL == 1\n",
    "USE_TOY_SAMPLE = SAMPLE_LEVEL == 2\n",
    "\n",
    "FORCE_REWRITE = True#(ON_KAGGLE and SAMPLE_LEVEL == 0)"
   ]
  },
  {
   "cell_type": "code",
   "execution_count": 5,
   "id": "3ee2a957",
   "metadata": {
    "ExecuteTime": {
     "end_time": "2021-11-28T23:31:05.462514Z",
     "start_time": "2021-11-28T23:31:05.447267Z"
    }
   },
   "outputs": [],
   "source": [
    "if not ON_KAGGLE and os.path.abspath('.').endswith('notebook'):\n",
    "    os.chdir('../')"
   ]
  },
  {
   "cell_type": "code",
   "execution_count": 6,
   "id": "1b3c10b1",
   "metadata": {
    "ExecuteTime": {
     "end_time": "2021-11-28T23:31:05.530452Z",
     "start_time": "2021-11-28T23:31:05.464996Z"
    }
   },
   "outputs": [],
   "source": [
    "#IMPORT_SCRIPT!\n",
    "if not ON_KAGGLE and '.' not in sys.path:\n",
    "    sys.path.append('.')\n",
    "from src.metrics import *\n",
    "from src.preprocessing import inference, EXPECTED_RAW_COLS\n",
    "from src.preprocessing.feature_gen import compute_instant_features\n",
    "from src.preprocessing.ingest_data import merge_asset_details, infer_dtypes\n",
    "from src.cv import TimeSeriesSplit, get_date_range\n",
    "from src.modeling import Evaluator\n",
    "from src.metrics import compute_metrics"
   ]
  },
  {
   "cell_type": "code",
   "execution_count": 7,
   "id": "5dcd141e",
   "metadata": {
    "ExecuteTime": {
     "end_time": "2021-11-28T23:31:05.550740Z",
     "start_time": "2021-11-28T23:31:05.532580Z"
    }
   },
   "outputs": [],
   "source": [
    "if ON_KAGGLE:\n",
    "    RAW_DIR = Path('../input/g-research-crypto-forecasting/')\n",
    "    SAMPLE_DIR = Path('../input/create-sample-dataset/data/raw/sample/')\n",
    "    TOY_SAMPLE_DIR = Path('../input/create-sample-dataset/data/raw/toy_sample/')\n",
    "else:\n",
    "    RAW_DIR =  Path('data/raw')\n",
    "    TOY_SAMPLE_DIR = RAW_DIR.joinpath('toy_sample')\n",
    "    SAMPLE_DIR = RAW_DIR.joinpath('sample')\n",
    "\n",
    "# filename\n",
    "TRAIN_FILE = 'train.csv'\n",
    "ASSET_DETAILS_PATH = RAW_DIR / 'asset_details.csv'"
   ]
  },
  {
   "cell_type": "code",
   "execution_count": 8,
   "id": "74f7a9ab",
   "metadata": {
    "ExecuteTime": {
     "end_time": "2021-11-28T23:31:05.571846Z",
     "start_time": "2021-11-28T23:31:05.553699Z"
    }
   },
   "outputs": [
    {
     "name": "stdout",
     "output_type": "stream",
     "text": [
      "USING SAMPLE DATASET\n"
     ]
    }
   ],
   "source": [
    "if USE_TOY_SAMPLE:\n",
    "    print('USING TOY DATASET')\n",
    "    RAW_TRAIN_PATH = TOY_SAMPLE_DIR / TRAIN_FILE\n",
    "\n",
    "elif USE_SAMPLE:\n",
    "    print('USING SAMPLE DATASET')\n",
    "    RAW_TRAIN_PATH = SAMPLE_DIR / TRAIN_FILE\n",
    "\n",
    "else:\n",
    "    print('USING RAW DATASET')\n",
    "    RAW_TRAIN_PATH = RAW_DIR / TRAIN_FILE\n",
    "\n",
    "assert RAW_TRAIN_PATH.exists()"
   ]
  },
  {
   "cell_type": "code",
   "execution_count": 9,
   "id": "28ef35af",
   "metadata": {
    "ExecuteTime": {
     "end_time": "2021-11-28T23:31:05.709303Z",
     "start_time": "2021-11-28T23:31:05.574680Z"
    }
   },
   "outputs": [
    {
     "name": "stdout",
     "output_type": "stream",
     "text": [
      "asset_details.csv\t\t   sample\r\n",
      "example_sample_submission.csv\t   supplemental_train.csv\r\n",
      "example_test.csv\t\t   toy_sample\r\n",
      "g-research-crypto-forecasting.zip  train.csv\r\n",
      "gresearch_crypto\r\n"
     ]
    }
   ],
   "source": [
    "!ls {RAW_DIR}"
   ]
  },
  {
   "cell_type": "code",
   "execution_count": null,
   "id": "4b479f0e",
   "metadata": {
    "ExecuteTime": {
     "start_time": "2021-11-28T23:31:04.738Z"
    },
    "scrolled": true
   },
   "outputs": [],
   "source": [
    "%%time \n",
    "raw_data = pd.read_csv(RAW_TRAIN_PATH)"
   ]
  },
  {
   "cell_type": "markdown",
   "id": "d5c53d2f",
   "metadata": {},
   "source": [
    "## create train set"
   ]
  },
  {
   "cell_type": "code",
   "execution_count": null,
   "id": "9313bf55",
   "metadata": {
    "ExecuteTime": {
     "start_time": "2021-11-28T23:31:04.740Z"
    }
   },
   "outputs": [],
   "source": [
    "PREPRO_PARAMS = {'window': 60}\n",
    "MAIN_INDEX = ['timestamp', 'Asset_ID']"
   ]
  },
  {
   "cell_type": "code",
   "execution_count": null,
   "id": "ddebc9cc",
   "metadata": {
    "ExecuteTime": {
     "start_time": "2021-11-28T23:31:04.741Z"
    }
   },
   "outputs": [],
   "source": [
    "# get valid data only, drop where the target is NaN \n",
    "data = raw_data[MAIN_INDEX + ['Target']].dropna(subset=['Target'])\n",
    "# format time to human readable \n",
    "data['time'] = pd.to_datetime(data['timestamp'], unit='s')\n",
    "# merge asset names\n",
    "data = merge_asset_details(data, ASSET_DETAILS_PATH)"
   ]
  },
  {
   "cell_type": "code",
   "execution_count": null,
   "id": "3c771517",
   "metadata": {
    "ExecuteTime": {
     "start_time": "2021-11-28T23:31:04.744Z"
    }
   },
   "outputs": [],
   "source": [
    "data.head()"
   ]
  },
  {
   "cell_type": "code",
   "execution_count": null,
   "id": "e37a820f",
   "metadata": {
    "ExecuteTime": {
     "start_time": "2021-11-28T23:31:04.747Z"
    }
   },
   "outputs": [],
   "source": [
    "data.tail()"
   ]
  },
  {
   "cell_type": "code",
   "execution_count": null,
   "id": "a5631261",
   "metadata": {
    "ExecuteTime": {
     "start_time": "2021-11-28T23:31:04.750Z"
    }
   },
   "outputs": [],
   "source": [
    "features_df = raw_data.loc[:, EXPECTED_RAW_COLS]\n",
    "features_df = infer_dtypes(features_df)"
   ]
  },
  {
   "cell_type": "code",
   "execution_count": null,
   "id": "5c298ad8",
   "metadata": {
    "ExecuteTime": {
     "start_time": "2021-11-28T23:31:04.753Z"
    }
   },
   "outputs": [],
   "source": [
    "features_df = compute_instant_features(features_df)"
   ]
  },
  {
   "cell_type": "code",
   "execution_count": null,
   "id": "c35b2b02",
   "metadata": {
    "ExecuteTime": {
     "start_time": "2021-11-28T23:31:04.755Z"
    }
   },
   "outputs": [],
   "source": [
    "features_df"
   ]
  },
  {
   "cell_type": "code",
   "execution_count": null,
   "id": "45768728",
   "metadata": {
    "ExecuteTime": {
     "start_time": "2021-11-28T23:31:04.757Z"
    }
   },
   "outputs": [],
   "source": [
    "assert features_df['timestamp'].isna().sum() == 0"
   ]
  },
  {
   "cell_type": "code",
   "execution_count": null,
   "id": "6c8898b5",
   "metadata": {
    "ExecuteTime": {
     "start_time": "2021-11-28T23:31:04.759Z"
    }
   },
   "outputs": [],
   "source": [
    "data = data.merge(features_df, on=MAIN_INDEX, how='left')"
   ]
  },
  {
   "cell_type": "code",
   "execution_count": null,
   "id": "6e7fe91c",
   "metadata": {
    "ExecuteTime": {
     "start_time": "2021-11-28T23:31:04.760Z"
    }
   },
   "outputs": [],
   "source": [
    "data.isna().mean()"
   ]
  },
  {
   "cell_type": "code",
   "execution_count": null,
   "id": "b44d5f1a",
   "metadata": {
    "ExecuteTime": {
     "start_time": "2021-11-28T23:31:04.763Z"
    }
   },
   "outputs": [],
   "source": [
    "list(data.columns)"
   ]
  },
  {
   "cell_type": "code",
   "execution_count": null,
   "id": "ee6b551d",
   "metadata": {
    "ExecuteTime": {
     "start_time": "2021-11-28T23:31:04.765Z"
    }
   },
   "outputs": [],
   "source": [
    "FEATURES = [\n",
    "'Count',\n",
    "'High',\n",
    "'Low',\n",
    "'Close',\n",
    "'Volume',\n",
    "'VWAP',\n",
    "'high_low_return',\n",
    "'open_close_return',\n",
    "'upper_shadow',\n",
    "'lower_shadow',\n",
    "'dolar_amount',\n",
    "'vol_per_trades'\n",
    "]"
   ]
  },
  {
   "cell_type": "code",
   "execution_count": null,
   "id": "4fcd4e69",
   "metadata": {
    "ExecuteTime": {
     "start_time": "2021-11-28T23:31:04.767Z"
    }
   },
   "outputs": [],
   "source": [
    "from sklearn.linear_model import LogisticRegression, LinearRegression, Lasso, Ridge\n",
    "from sklearn.preprocessing import MinMaxScaler, FunctionTransformer\n",
    "from sklearn.pipeline import Pipeline\n",
    "from sklearn.base import BaseEstimator, TransformerMixin\n",
    "from typing import List\n",
    "\n",
    "\n",
    "class FilterFeatures(BaseEstimator, TransformerMixin):\n",
    "    def __init__(self,\n",
    "                 features: List[str] = None,\n",
    "                 sort: bool = False):\n",
    "        self.sort = sort\n",
    "        self.features = features[:]\n",
    "        if self.sort:\n",
    "            self.features.sort()\n",
    "    \n",
    "    def fit(self, X: pd.DataFrame, y=None):\n",
    "        return self\n",
    "    \n",
    "    def transform(self, X: pd.DataFrame):\n",
    "        return X.loc[:, self.features]\n",
    "\n",
    "    \n",
    "def test_filter_features():\n",
    "    n_feat = 100\n",
    "    size = 500\n",
    "    t = 100\n",
    "    expected_columns = [f'{f}_ft' for f in np.arange(n_feat)]\n",
    "    \n",
    "    expected_df = pd.DataFrame(np.random.randn(size, n_feat), columns=expected_columns)\n",
    "    tmf = FilterFeatures(expected_columns)\n",
    "    tmf.fit(expected_df)\n",
    "    \n",
    "    for i in range(t):\n",
    "        shuffle_columns = np.random.permutation(expected_columns)\n",
    "        shuffle_df = expected_df.loc[:, shuffle_columns]\n",
    "        actual_columns = list(tmf.transform(shuffle_df).columns)\n",
    "        assert (actual_columns == expected_columns), f'cols do not match at iter {i}'\n",
    "    \n",
    "test_filter_features()\n",
    "\n",
    "def build_model(params={'alpha': 0.001}):\n",
    "    model = Pipeline([('filter', FilterFeatures(FEATURES)),\n",
    "                      ('norm', MinMaxScaler()),\n",
    "                      ('model', Ridge(params['alpha']))])\n",
    "    return model"
   ]
  },
  {
   "cell_type": "code",
   "execution_count": null,
   "id": "d2c9a4b9",
   "metadata": {
    "ExecuteTime": {
     "start_time": "2021-11-28T23:31:04.768Z"
    }
   },
   "outputs": [],
   "source": [
    "def train_model(config, train_data, valid_data, pipeline=None):\n",
    "    model  = build_model(config['model'])\n",
    "\n",
    "    if config['training']['time_decay_alpha'] is not None:\n",
    "        time_decay_alpha = config['training']['time_decay_alpha']\n",
    "        print(f'using exponential_time_decay with alpha {time_decay_alpha}')\n",
    "        timesteps = ((train_data['timestamp'].max() - train_data['timestamp'])//60//60//24)\n",
    "        weight = time_decay_alpha ** timesteps\n",
    "    else:\n",
    "        weight = None\n",
    "\n",
    "    model.fit(train_data[FEATURES], train_data['Target'], model__sample_weight=weight)\n",
    "    \n",
    "    return model"
   ]
  },
  {
   "cell_type": "code",
   "execution_count": null,
   "id": "5fec683f",
   "metadata": {
    "ExecuteTime": {
     "start_time": "2021-11-28T23:31:04.770Z"
    }
   },
   "outputs": [],
   "source": [
    "PULIC_LB_RANGE = ['2021-06-13 00:00:00',\n",
    "                  '2021-09-13 00:00:00'] # 3 MONTH WORTH OF DATA\n",
    "\n",
    "if USE_TOY_SAMPLE:\n",
    "    EVAL_PERIODS = [['2021-09-15', '2021-09-22']]\n",
    "\n",
    "else:\n",
    "    EVAL_PERIODS = [PULIC_LB_RANGE]"
   ]
  },
  {
   "cell_type": "code",
   "execution_count": null,
   "id": "b8fa6271",
   "metadata": {
    "ExecuteTime": {
     "start_time": "2021-11-28T23:31:04.772Z"
    }
   },
   "outputs": [],
   "source": [
    "CV_PARAMS = {'gap_unit': 'min', 'dt_col': 'time'}\n",
    "\n",
    "CV = TimeSeriesSplit(EVAL_PERIODS, **CV_PARAMS)"
   ]
  },
  {
   "cell_type": "code",
   "execution_count": null,
   "id": "adb6ebfd",
   "metadata": {
    "ExecuteTime": {
     "start_time": "2021-11-28T23:31:04.773Z"
    }
   },
   "outputs": [],
   "source": [
    "train_idx, valid_idx = next(iter(CV.split(data)))"
   ]
  },
  {
   "cell_type": "code",
   "execution_count": null,
   "id": "dc6d6858",
   "metadata": {
    "ExecuteTime": {
     "start_time": "2021-11-28T23:31:04.774Z"
    }
   },
   "outputs": [],
   "source": [
    "train_data = data.loc[train_idx, :].reset_index(drop=True)"
   ]
  },
  {
   "cell_type": "code",
   "execution_count": null,
   "id": "7350c2c7",
   "metadata": {
    "ExecuteTime": {
     "start_time": "2021-11-28T23:31:04.776Z"
    }
   },
   "outputs": [],
   "source": [
    "valid_data = data.loc[valid_idx, :].reset_index(drop=True)"
   ]
  },
  {
   "cell_type": "code",
   "execution_count": null,
   "id": "c19c1ce2",
   "metadata": {
    "ExecuteTime": {
     "start_time": "2021-11-28T23:31:04.778Z"
    }
   },
   "outputs": [],
   "source": [
    "get_date_range(train_data['time'])"
   ]
  },
  {
   "cell_type": "code",
   "execution_count": null,
   "id": "90d2808e",
   "metadata": {
    "ExecuteTime": {
     "start_time": "2021-11-28T23:31:04.779Z"
    }
   },
   "outputs": [],
   "source": [
    "get_date_range(valid_data['time'])"
   ]
  },
  {
   "cell_type": "code",
   "execution_count": null,
   "id": "657cc10f",
   "metadata": {
    "ExecuteTime": {
     "start_time": "2021-11-28T23:31:04.781Z"
    }
   },
   "outputs": [],
   "source": [
    "MODEL_CONFIG = {'alpha': 0.001}\n",
    "TRAIN_CONFIG = {'time_decay_alpha': 0.99}\n",
    "CONFIG = {'model': MODEL_CONFIG, 'training': TRAIN_CONFIG}"
   ]
  },
  {
   "cell_type": "code",
   "execution_count": null,
   "id": "9c649420",
   "metadata": {
    "ExecuteTime": {
     "start_time": "2021-11-28T23:31:04.782Z"
    }
   },
   "outputs": [],
   "source": [
    "MODELS = {}\n",
    "for asset_id, train_asset_data in data.groupby(\"Asset_ID\"):\n",
    "    print(f'training model for asset_ID == {asset_id}')\n",
    "    train_asset_data = train_asset_data.reset_index(drop=True)    \n",
    "    model = train_model(CONFIG, train_asset_data, train_asset_data)\n",
    "    MODELS[asset_id] = model"
   ]
  },
  {
   "cell_type": "code",
   "execution_count": null,
   "id": "43650874",
   "metadata": {
    "ExecuteTime": {
     "start_time": "2021-11-28T23:31:04.784Z"
    }
   },
   "outputs": [],
   "source": [
    "if not ON_KAGGLE:\n",
    "    sys.path.append(str(RAW_DIR))\n",
    "\n",
    "import gresearch_crypto\n",
    "import traceback\n",
    "env = gresearch_crypto.make_env()   # initialize the environment\n",
    "iter_test = env.iter_test()    # an iterator which loops over the test set and sample submission"
   ]
  },
  {
   "cell_type": "code",
   "execution_count": null,
   "id": "5a004439",
   "metadata": {
    "ExecuteTime": {
     "start_time": "2021-11-28T23:31:04.786Z"
    }
   },
   "outputs": [],
   "source": [
    "for i, (raw_test_df, submission) in enumerate(iter_test):\n",
    "\n",
    "    submission = inference(test_data=raw_test_df, submission=submission,\n",
    "                            models=MODELS)\n",
    "    if i % 1000 == 0 or i < 10:\n",
    "        display(submission)    \n",
    "    env.predict(submission)"
   ]
  }
 ],
 "metadata": {
  "kernelspec": {
   "display_name": "Python 3 (ipykernel)",
   "language": "python",
   "name": "python3"
  },
  "language_info": {
   "codemirror_mode": {
    "name": "ipython",
    "version": 3
   },
   "file_extension": ".py",
   "mimetype": "text/x-python",
   "name": "python",
   "nbconvert_exporter": "python",
   "pygments_lexer": "ipython3",
   "version": "3.7.11"
  },
  "toc": {
   "base_numbering": 1,
   "nav_menu": {},
   "number_sections": true,
   "sideBar": true,
   "skip_h1_title": false,
   "title_cell": "Table of Contents",
   "title_sidebar": "Contents",
   "toc_cell": false,
   "toc_position": {},
   "toc_section_display": true,
   "toc_window_display": false
  }
 },
 "nbformat": 4,
 "nbformat_minor": 5
}
