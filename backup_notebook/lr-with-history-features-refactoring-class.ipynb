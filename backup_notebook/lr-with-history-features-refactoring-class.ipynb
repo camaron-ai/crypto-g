{
 "cells": [
  {
   "cell_type": "code",
   "execution_count": 1,
   "id": "7942f4a4",
   "metadata": {
    "ExecuteTime": {
     "end_time": "2021-12-05T21:51:20.625635Z",
     "start_time": "2021-12-05T21:51:20.606088Z"
    }
   },
   "outputs": [],
   "source": [
    "%load_ext autoreload\n",
    "%autoreload 2"
   ]
  },
  {
   "cell_type": "code",
   "execution_count": 2,
   "id": "f255bb4e",
   "metadata": {
    "ExecuteTime": {
     "end_time": "2021-12-05T21:51:22.347587Z",
     "start_time": "2021-12-05T21:51:20.629204Z"
    }
   },
   "outputs": [],
   "source": [
    "import pandas as pd\n",
    "import numpy as np\n",
    "from matplotlib import pyplot as plt\n",
    "import seaborn as sns\n",
    "from pathlib import Path\n",
    "import os\n",
    "import sys\n",
    "from IPython.display import display"
   ]
  },
  {
   "cell_type": "code",
   "execution_count": 3,
   "id": "136f5247",
   "metadata": {
    "ExecuteTime": {
     "end_time": "2021-12-05T21:51:22.366640Z",
     "start_time": "2021-12-05T21:51:22.350345Z"
    }
   },
   "outputs": [],
   "source": [
    "def on_kaggle() -> bool:\n",
    "    try:\n",
    "        import gresearch_crypto\n",
    "        return True\n",
    "    except ModuleNotFoundError:\n",
    "        return False"
   ]
  },
  {
   "cell_type": "code",
   "execution_count": 4,
   "id": "432ba6ef",
   "metadata": {
    "ExecuteTime": {
     "end_time": "2021-12-05T21:51:22.398222Z",
     "start_time": "2021-12-05T21:51:22.368505Z"
    }
   },
   "outputs": [],
   "source": [
    "# HYPER PARAMETERS\n",
    "ON_KAGGLE = on_kaggle()\n",
    "SAMPLE_LEVEL = 0\n",
    "FORCE_REWRITE = True"
   ]
  },
  {
   "cell_type": "code",
   "execution_count": 5,
   "id": "3ee2a957",
   "metadata": {
    "ExecuteTime": {
     "end_time": "2021-12-05T21:51:22.417747Z",
     "start_time": "2021-12-05T21:51:22.401954Z"
    }
   },
   "outputs": [],
   "source": [
    "if not ON_KAGGLE and os.path.abspath('.').endswith('notebook'):\n",
    "    os.chdir('../')"
   ]
  },
  {
   "cell_type": "code",
   "execution_count": 6,
   "id": "8acf98ec",
   "metadata": {
    "ExecuteTime": {
     "end_time": "2021-12-05T21:51:22.563301Z",
     "start_time": "2021-12-05T21:51:22.420257Z"
    }
   },
   "outputs": [],
   "source": [
    "#IMPORT_SCRIPT!\n",
    "if not ON_KAGGLE and '.' not in sys.path:\n",
    "    sys.path.append('.')\n",
    "from src.metrics import *\n",
    "from src.data import merge_asset_details\n",
    "from src.cv import TimeSeriesSplit, get_date_range\n",
    "from src.modeling import Evaluator\n",
    "from src.metrics import compute_metrics, compute_correlation\n",
    "from src.pipeline.feature_gen import compute_instant_features\n",
    "from src.data import infer_dtypes\n",
    "from src.pipeline import EXPECTED_RAW_COLS\n",
    "from src.pipeline.transforms import FilterFeatures\n",
    "from src.modeling import Evaluator"
   ]
  },
  {
   "cell_type": "code",
   "execution_count": 7,
   "id": "5dcd141e",
   "metadata": {
    "ExecuteTime": {
     "end_time": "2021-12-05T21:51:22.582966Z",
     "start_time": "2021-12-05T21:51:22.565061Z"
    }
   },
   "outputs": [],
   "source": [
    "def setup_dir(on_kaggle: bool = True, sample_level: int = 0):\n",
    "    if on_kaggle:\n",
    "        data_dir = Path('../input/g-research-crypto-forecasting/')\n",
    "        raw_train_dir = (Path('../input/create-sample-dataset/data/raw/')\n",
    "                         if sample_level > 0 else data_dir) \n",
    "    else:\n",
    "        data_dir = raw_train_dir = Path('data/raw')\n",
    "    \n",
    "    if sample_level > 0:\n",
    "        raw_train_dir = raw_train_dir.joinpath('sample', str(sample_level))\n",
    "    \n",
    "    return data_dir, raw_train_dir"
   ]
  },
  {
   "cell_type": "code",
   "execution_count": 8,
   "id": "fa49be87",
   "metadata": {
    "ExecuteTime": {
     "end_time": "2021-12-05T21:51:22.618153Z",
     "start_time": "2021-12-05T21:51:22.584664Z"
    }
   },
   "outputs": [],
   "source": [
    "DATA_DIR, RAW_TRAIN_DIR = setup_dir(ON_KAGGLE, sample_level=SAMPLE_LEVEL)\n",
    "RAW_TRAIN_PATH = RAW_TRAIN_DIR / 'train.csv'\n",
    "ASSET_DETAILS_PATH = DATA_DIR / 'asset_details.csv'"
   ]
  },
  {
   "cell_type": "code",
   "execution_count": 9,
   "id": "74076be4",
   "metadata": {
    "ExecuteTime": {
     "end_time": "2021-12-05T21:51:22.645116Z",
     "start_time": "2021-12-05T21:51:22.621430Z"
    }
   },
   "outputs": [
    {
     "data": {
      "text/plain": [
       "PosixPath('data/raw')"
      ]
     },
     "execution_count": 9,
     "metadata": {},
     "output_type": "execute_result"
    }
   ],
   "source": [
    "RAW_TRAIN_DIR"
   ]
  },
  {
   "cell_type": "code",
   "execution_count": 10,
   "id": "1d55b22d",
   "metadata": {
    "ExecuteTime": {
     "end_time": "2021-12-05T21:51:22.666696Z",
     "start_time": "2021-12-05T21:51:22.646826Z"
    }
   },
   "outputs": [
    {
     "data": {
      "text/plain": [
       "PosixPath('data/raw')"
      ]
     },
     "execution_count": 10,
     "metadata": {},
     "output_type": "execute_result"
    }
   ],
   "source": [
    "DATA_DIR"
   ]
  },
  {
   "cell_type": "code",
   "execution_count": 11,
   "id": "4b479f0e",
   "metadata": {
    "ExecuteTime": {
     "end_time": "2021-12-05T21:51:51.714537Z",
     "start_time": "2021-12-05T21:51:22.668362Z"
    },
    "scrolled": true
   },
   "outputs": [
    {
     "name": "stdout",
     "output_type": "stream",
     "text": [
      "CPU times: user 21.6 s, sys: 2.57 s, total: 24.2 s\n",
      "Wall time: 29 s\n"
     ]
    }
   ],
   "source": [
    "%%time \n",
    "raw_data = pd.read_csv(RAW_TRAIN_PATH)"
   ]
  },
  {
   "cell_type": "markdown",
   "id": "d5c53d2f",
   "metadata": {},
   "source": [
    "## create train set"
   ]
  },
  {
   "cell_type": "code",
   "execution_count": 12,
   "id": "9313bf55",
   "metadata": {
    "ExecuteTime": {
     "end_time": "2021-12-05T21:51:51.733671Z",
     "start_time": "2021-12-05T21:51:51.716482Z"
    }
   },
   "outputs": [],
   "source": [
    "PREPRO_PARAMS = {'window': 60}\n",
    "MAIN_INDEX = ['timestamp', 'Asset_ID']"
   ]
  },
  {
   "cell_type": "code",
   "execution_count": 13,
   "id": "ddebc9cc",
   "metadata": {
    "ExecuteTime": {
     "end_time": "2021-12-05T21:51:58.017535Z",
     "start_time": "2021-12-05T21:51:51.737339Z"
    }
   },
   "outputs": [
    {
     "name": "stderr",
     "output_type": "stream",
     "text": [
      "/home/med/anaconda3/envs/crypto-g/lib/python3.7/site-packages/ipykernel_launcher.py:4: SettingWithCopyWarning: \n",
      "A value is trying to be set on a copy of a slice from a DataFrame.\n",
      "Try using .loc[row_indexer,col_indexer] = value instead\n",
      "\n",
      "See the caveats in the documentation: https://pandas.pydata.org/pandas-docs/stable/user_guide/indexing.html#returning-a-view-versus-a-copy\n",
      "  after removing the cwd from sys.path.\n"
     ]
    }
   ],
   "source": [
    "# get valid data only, drop where the target is NaN \n",
    "data = raw_data.dropna(subset=['Target'])\n",
    "# format time to human readable \n",
    "data['time'] = pd.to_datetime(data['timestamp'], unit='s')\n",
    "# merge asset names\n",
    "data = merge_asset_details(data, ASSET_DETAILS_PATH)"
   ]
  },
  {
   "cell_type": "code",
   "execution_count": 14,
   "id": "3c771517",
   "metadata": {
    "ExecuteTime": {
     "end_time": "2021-12-05T21:51:58.070870Z",
     "start_time": "2021-12-05T21:51:58.023252Z"
    }
   },
   "outputs": [
    {
     "data": {
      "text/html": [
       "<div>\n",
       "<style scoped>\n",
       "    .dataframe tbody tr th:only-of-type {\n",
       "        vertical-align: middle;\n",
       "    }\n",
       "\n",
       "    .dataframe tbody tr th {\n",
       "        vertical-align: top;\n",
       "    }\n",
       "\n",
       "    .dataframe thead th {\n",
       "        text-align: right;\n",
       "    }\n",
       "</style>\n",
       "<table border=\"1\" class=\"dataframe\">\n",
       "  <thead>\n",
       "    <tr style=\"text-align: right;\">\n",
       "      <th></th>\n",
       "      <th>timestamp</th>\n",
       "      <th>Asset_ID</th>\n",
       "      <th>Count</th>\n",
       "      <th>Open</th>\n",
       "      <th>High</th>\n",
       "      <th>Low</th>\n",
       "      <th>Close</th>\n",
       "      <th>Volume</th>\n",
       "      <th>VWAP</th>\n",
       "      <th>Target</th>\n",
       "      <th>time</th>\n",
       "      <th>Asset_Name</th>\n",
       "    </tr>\n",
       "  </thead>\n",
       "  <tbody>\n",
       "    <tr>\n",
       "      <th>0</th>\n",
       "      <td>1514764860</td>\n",
       "      <td>2</td>\n",
       "      <td>40.0</td>\n",
       "      <td>2376.5800</td>\n",
       "      <td>2399.5000</td>\n",
       "      <td>2357.1400</td>\n",
       "      <td>2374.5900</td>\n",
       "      <td>19.233005</td>\n",
       "      <td>2373.116392</td>\n",
       "      <td>-0.004218</td>\n",
       "      <td>2018-01-01 00:01:00</td>\n",
       "      <td>Bitcoin Cash</td>\n",
       "    </tr>\n",
       "    <tr>\n",
       "      <th>1</th>\n",
       "      <td>1514764860</td>\n",
       "      <td>0</td>\n",
       "      <td>5.0</td>\n",
       "      <td>8.5300</td>\n",
       "      <td>8.5300</td>\n",
       "      <td>8.5300</td>\n",
       "      <td>8.5300</td>\n",
       "      <td>78.380000</td>\n",
       "      <td>8.530000</td>\n",
       "      <td>-0.014399</td>\n",
       "      <td>2018-01-01 00:01:00</td>\n",
       "      <td>Binance Coin</td>\n",
       "    </tr>\n",
       "    <tr>\n",
       "      <th>2</th>\n",
       "      <td>1514764860</td>\n",
       "      <td>1</td>\n",
       "      <td>229.0</td>\n",
       "      <td>13835.1940</td>\n",
       "      <td>14013.8000</td>\n",
       "      <td>13666.1100</td>\n",
       "      <td>13850.1760</td>\n",
       "      <td>31.550062</td>\n",
       "      <td>13827.062093</td>\n",
       "      <td>-0.014643</td>\n",
       "      <td>2018-01-01 00:01:00</td>\n",
       "      <td>Bitcoin</td>\n",
       "    </tr>\n",
       "    <tr>\n",
       "      <th>3</th>\n",
       "      <td>1514764860</td>\n",
       "      <td>5</td>\n",
       "      <td>32.0</td>\n",
       "      <td>7.6596</td>\n",
       "      <td>7.6596</td>\n",
       "      <td>7.6567</td>\n",
       "      <td>7.6576</td>\n",
       "      <td>6626.713370</td>\n",
       "      <td>7.657713</td>\n",
       "      <td>-0.013922</td>\n",
       "      <td>2018-01-01 00:01:00</td>\n",
       "      <td>EOS.IO</td>\n",
       "    </tr>\n",
       "    <tr>\n",
       "      <th>4</th>\n",
       "      <td>1514764860</td>\n",
       "      <td>7</td>\n",
       "      <td>5.0</td>\n",
       "      <td>25.9200</td>\n",
       "      <td>25.9200</td>\n",
       "      <td>25.8740</td>\n",
       "      <td>25.8770</td>\n",
       "      <td>121.087310</td>\n",
       "      <td>25.891363</td>\n",
       "      <td>-0.008264</td>\n",
       "      <td>2018-01-01 00:01:00</td>\n",
       "      <td>Ethereum Classic</td>\n",
       "    </tr>\n",
       "  </tbody>\n",
       "</table>\n",
       "</div>"
      ],
      "text/plain": [
       "    timestamp  Asset_ID  Count        Open        High         Low  \\\n",
       "0  1514764860         2   40.0   2376.5800   2399.5000   2357.1400   \n",
       "1  1514764860         0    5.0      8.5300      8.5300      8.5300   \n",
       "2  1514764860         1  229.0  13835.1940  14013.8000  13666.1100   \n",
       "3  1514764860         5   32.0      7.6596      7.6596      7.6567   \n",
       "4  1514764860         7    5.0     25.9200     25.9200     25.8740   \n",
       "\n",
       "        Close       Volume          VWAP    Target                time  \\\n",
       "0   2374.5900    19.233005   2373.116392 -0.004218 2018-01-01 00:01:00   \n",
       "1      8.5300    78.380000      8.530000 -0.014399 2018-01-01 00:01:00   \n",
       "2  13850.1760    31.550062  13827.062093 -0.014643 2018-01-01 00:01:00   \n",
       "3      7.6576  6626.713370      7.657713 -0.013922 2018-01-01 00:01:00   \n",
       "4     25.8770   121.087310     25.891363 -0.008264 2018-01-01 00:01:00   \n",
       "\n",
       "         Asset_Name  \n",
       "0      Bitcoin Cash  \n",
       "1      Binance Coin  \n",
       "2           Bitcoin  \n",
       "3            EOS.IO  \n",
       "4  Ethereum Classic  "
      ]
     },
     "execution_count": 14,
     "metadata": {},
     "output_type": "execute_result"
    }
   ],
   "source": [
    "data.head()"
   ]
  },
  {
   "cell_type": "code",
   "execution_count": 15,
   "id": "e37a820f",
   "metadata": {
    "ExecuteTime": {
     "end_time": "2021-12-05T21:51:58.144546Z",
     "start_time": "2021-12-05T21:51:58.073332Z"
    }
   },
   "outputs": [
    {
     "data": {
      "text/html": [
       "<div>\n",
       "<style scoped>\n",
       "    .dataframe tbody tr th:only-of-type {\n",
       "        vertical-align: middle;\n",
       "    }\n",
       "\n",
       "    .dataframe tbody tr th {\n",
       "        vertical-align: top;\n",
       "    }\n",
       "\n",
       "    .dataframe thead th {\n",
       "        text-align: right;\n",
       "    }\n",
       "</style>\n",
       "<table border=\"1\" class=\"dataframe\">\n",
       "  <thead>\n",
       "    <tr style=\"text-align: right;\">\n",
       "      <th></th>\n",
       "      <th>timestamp</th>\n",
       "      <th>Asset_ID</th>\n",
       "      <th>Count</th>\n",
       "      <th>Open</th>\n",
       "      <th>High</th>\n",
       "      <th>Low</th>\n",
       "      <th>Close</th>\n",
       "      <th>Volume</th>\n",
       "      <th>VWAP</th>\n",
       "      <th>Target</th>\n",
       "      <th>time</th>\n",
       "      <th>Asset_Name</th>\n",
       "    </tr>\n",
       "  </thead>\n",
       "  <tbody>\n",
       "    <tr>\n",
       "      <th>23486463</th>\n",
       "      <td>1632181440</td>\n",
       "      <td>9</td>\n",
       "      <td>163.0</td>\n",
       "      <td>156.502000</td>\n",
       "      <td>156.620000</td>\n",
       "      <td>156.000000</td>\n",
       "      <td>156.075667</td>\n",
       "      <td>7.381963e+02</td>\n",
       "      <td>156.260253</td>\n",
       "      <td>-0.001154</td>\n",
       "      <td>2021-09-20 23:44:00</td>\n",
       "      <td>Litecoin</td>\n",
       "    </tr>\n",
       "    <tr>\n",
       "      <th>23486464</th>\n",
       "      <td>1632181440</td>\n",
       "      <td>10</td>\n",
       "      <td>23.0</td>\n",
       "      <td>2420.146667</td>\n",
       "      <td>2421.000000</td>\n",
       "      <td>2412.779000</td>\n",
       "      <td>2414.069667</td>\n",
       "      <td>1.315794e+00</td>\n",
       "      <td>2417.326038</td>\n",
       "      <td>0.009831</td>\n",
       "      <td>2021-09-20 23:44:00</td>\n",
       "      <td>Maker</td>\n",
       "    </tr>\n",
       "    <tr>\n",
       "      <th>23486465</th>\n",
       "      <td>1632181440</td>\n",
       "      <td>13</td>\n",
       "      <td>512.0</td>\n",
       "      <td>0.090989</td>\n",
       "      <td>0.091133</td>\n",
       "      <td>0.090831</td>\n",
       "      <td>0.090885</td>\n",
       "      <td>1.900695e+06</td>\n",
       "      <td>0.090943</td>\n",
       "      <td>0.004163</td>\n",
       "      <td>2021-09-20 23:44:00</td>\n",
       "      <td>TRON</td>\n",
       "    </tr>\n",
       "    <tr>\n",
       "      <th>23486466</th>\n",
       "      <td>1632181440</td>\n",
       "      <td>12</td>\n",
       "      <td>193.0</td>\n",
       "      <td>0.280952</td>\n",
       "      <td>0.281300</td>\n",
       "      <td>0.280175</td>\n",
       "      <td>0.280403</td>\n",
       "      <td>1.628699e+05</td>\n",
       "      <td>0.280655</td>\n",
       "      <td>0.000449</td>\n",
       "      <td>2021-09-20 23:44:00</td>\n",
       "      <td>Stellar</td>\n",
       "    </tr>\n",
       "    <tr>\n",
       "      <th>23486467</th>\n",
       "      <td>1632181440</td>\n",
       "      <td>11</td>\n",
       "      <td>38.0</td>\n",
       "      <td>232.075000</td>\n",
       "      <td>232.300000</td>\n",
       "      <td>231.310000</td>\n",
       "      <td>231.680000</td>\n",
       "      <td>4.914804e+01</td>\n",
       "      <td>231.794078</td>\n",
       "      <td>0.002568</td>\n",
       "      <td>2021-09-20 23:44:00</td>\n",
       "      <td>Monero</td>\n",
       "    </tr>\n",
       "  </tbody>\n",
       "</table>\n",
       "</div>"
      ],
      "text/plain": [
       "           timestamp  Asset_ID  Count         Open         High          Low  \\\n",
       "23486463  1632181440         9  163.0   156.502000   156.620000   156.000000   \n",
       "23486464  1632181440        10   23.0  2420.146667  2421.000000  2412.779000   \n",
       "23486465  1632181440        13  512.0     0.090989     0.091133     0.090831   \n",
       "23486466  1632181440        12  193.0     0.280952     0.281300     0.280175   \n",
       "23486467  1632181440        11   38.0   232.075000   232.300000   231.310000   \n",
       "\n",
       "                Close        Volume         VWAP    Target  \\\n",
       "23486463   156.075667  7.381963e+02   156.260253 -0.001154   \n",
       "23486464  2414.069667  1.315794e+00  2417.326038  0.009831   \n",
       "23486465     0.090885  1.900695e+06     0.090943  0.004163   \n",
       "23486466     0.280403  1.628699e+05     0.280655  0.000449   \n",
       "23486467   231.680000  4.914804e+01   231.794078  0.002568   \n",
       "\n",
       "                        time Asset_Name  \n",
       "23486463 2021-09-20 23:44:00   Litecoin  \n",
       "23486464 2021-09-20 23:44:00      Maker  \n",
       "23486465 2021-09-20 23:44:00       TRON  \n",
       "23486466 2021-09-20 23:44:00    Stellar  \n",
       "23486467 2021-09-20 23:44:00     Monero  "
      ]
     },
     "execution_count": 15,
     "metadata": {},
     "output_type": "execute_result"
    }
   ],
   "source": [
    "data.tail()"
   ]
  },
  {
   "cell_type": "code",
   "execution_count": 16,
   "id": "a5631261",
   "metadata": {
    "ExecuteTime": {
     "end_time": "2021-12-05T21:52:09.645194Z",
     "start_time": "2021-12-05T21:51:58.147679Z"
    }
   },
   "outputs": [],
   "source": [
    "data = infer_dtypes(data)"
   ]
  },
  {
   "cell_type": "code",
   "execution_count": 17,
   "id": "5c298ad8",
   "metadata": {
    "ExecuteTime": {
     "end_time": "2021-12-05T21:52:14.391853Z",
     "start_time": "2021-12-05T21:52:09.659841Z"
    }
   },
   "outputs": [],
   "source": [
    "data = compute_instant_features(data)"
   ]
  },
  {
   "cell_type": "code",
   "execution_count": 18,
   "id": "0980f752",
   "metadata": {
    "ExecuteTime": {
     "end_time": "2021-12-05T21:52:14.457360Z",
     "start_time": "2021-12-05T21:52:14.393678Z"
    }
   },
   "outputs": [
    {
     "data": {
      "text/html": [
       "<div>\n",
       "<style scoped>\n",
       "    .dataframe tbody tr th:only-of-type {\n",
       "        vertical-align: middle;\n",
       "    }\n",
       "\n",
       "    .dataframe tbody tr th {\n",
       "        vertical-align: top;\n",
       "    }\n",
       "\n",
       "    .dataframe thead th {\n",
       "        text-align: right;\n",
       "    }\n",
       "</style>\n",
       "<table border=\"1\" class=\"dataframe\">\n",
       "  <thead>\n",
       "    <tr style=\"text-align: right;\">\n",
       "      <th></th>\n",
       "      <th>timestamp</th>\n",
       "      <th>Asset_ID</th>\n",
       "      <th>Count</th>\n",
       "      <th>High</th>\n",
       "      <th>Low</th>\n",
       "      <th>Close</th>\n",
       "      <th>Volume</th>\n",
       "      <th>VWAP</th>\n",
       "      <th>Target</th>\n",
       "      <th>time</th>\n",
       "      <th>Asset_Name</th>\n",
       "      <th>high_low_return</th>\n",
       "      <th>open_close_return</th>\n",
       "      <th>upper_shadow</th>\n",
       "      <th>lower_shadow</th>\n",
       "      <th>dolar_amount</th>\n",
       "      <th>vol_per_trades</th>\n",
       "    </tr>\n",
       "  </thead>\n",
       "  <tbody>\n",
       "    <tr>\n",
       "      <th>0</th>\n",
       "      <td>1514764860</td>\n",
       "      <td>2</td>\n",
       "      <td>40.0</td>\n",
       "      <td>1.009644</td>\n",
       "      <td>0.991820</td>\n",
       "      <td>2374.590088</td>\n",
       "      <td>19.233005</td>\n",
       "      <td>2373.116455</td>\n",
       "      <td>-0.004218</td>\n",
       "      <td>2018-01-01 00:01:00</td>\n",
       "      <td>Bitcoin Cash</td>\n",
       "      <td>0.702093</td>\n",
       "      <td>0.692728</td>\n",
       "      <td>0.000425</td>\n",
       "      <td>2394.174316</td>\n",
       "      <td>45670.503485</td>\n",
       "      <td>0.480825</td>\n",
       "    </tr>\n",
       "    <tr>\n",
       "      <th>1</th>\n",
       "      <td>1514764860</td>\n",
       "      <td>0</td>\n",
       "      <td>5.0</td>\n",
       "      <td>1.000000</td>\n",
       "      <td>1.000000</td>\n",
       "      <td>8.530000</td>\n",
       "      <td>78.380000</td>\n",
       "      <td>8.530000</td>\n",
       "      <td>-0.014399</td>\n",
       "      <td>2018-01-01 00:01:00</td>\n",
       "      <td>Binance Coin</td>\n",
       "      <td>0.693147</td>\n",
       "      <td>0.693147</td>\n",
       "      <td>0.117233</td>\n",
       "      <td>8.530000</td>\n",
       "      <td>668.581379</td>\n",
       "      <td>15.676000</td>\n",
       "    </tr>\n",
       "    <tr>\n",
       "      <th>2</th>\n",
       "      <td>1514764860</td>\n",
       "      <td>1</td>\n",
       "      <td>229.0</td>\n",
       "      <td>1.012910</td>\n",
       "      <td>0.987779</td>\n",
       "      <td>13850.175781</td>\n",
       "      <td>31.550062</td>\n",
       "      <td>13827.062500</td>\n",
       "      <td>-0.014643</td>\n",
       "      <td>2018-01-01 00:01:00</td>\n",
       "      <td>Bitcoin</td>\n",
       "      <td>0.705788</td>\n",
       "      <td>0.693689</td>\n",
       "      <td>0.000073</td>\n",
       "      <td>14006.370117</td>\n",
       "      <td>436973.897961</td>\n",
       "      <td>0.137773</td>\n",
       "    </tr>\n",
       "    <tr>\n",
       "      <th>3</th>\n",
       "      <td>1514764860</td>\n",
       "      <td>5</td>\n",
       "      <td>32.0</td>\n",
       "      <td>1.000000</td>\n",
       "      <td>0.999621</td>\n",
       "      <td>7.657600</td>\n",
       "      <td>6626.713370</td>\n",
       "      <td>7.657713</td>\n",
       "      <td>-0.013922</td>\n",
       "      <td>2018-01-01 00:01:00</td>\n",
       "      <td>EOS.IO</td>\n",
       "      <td>0.693337</td>\n",
       "      <td>0.693017</td>\n",
       "      <td>0.130555</td>\n",
       "      <td>7.660500</td>\n",
       "      <td>50744.719811</td>\n",
       "      <td>207.084793</td>\n",
       "    </tr>\n",
       "    <tr>\n",
       "      <th>4</th>\n",
       "      <td>1514764860</td>\n",
       "      <td>7</td>\n",
       "      <td>5.0</td>\n",
       "      <td>1.000000</td>\n",
       "      <td>0.998225</td>\n",
       "      <td>25.877001</td>\n",
       "      <td>121.087310</td>\n",
       "      <td>25.891363</td>\n",
       "      <td>-0.008264</td>\n",
       "      <td>2018-01-01 00:01:00</td>\n",
       "      <td>Ethereum Classic</td>\n",
       "      <td>0.694036</td>\n",
       "      <td>0.692317</td>\n",
       "      <td>0.038580</td>\n",
       "      <td>25.923006</td>\n",
       "      <td>3133.376419</td>\n",
       "      <td>24.217462</td>\n",
       "    </tr>\n",
       "  </tbody>\n",
       "</table>\n",
       "</div>"
      ],
      "text/plain": [
       "    timestamp  Asset_ID  Count      High       Low         Close       Volume  \\\n",
       "0  1514764860         2   40.0  1.009644  0.991820   2374.590088    19.233005   \n",
       "1  1514764860         0    5.0  1.000000  1.000000      8.530000    78.380000   \n",
       "2  1514764860         1  229.0  1.012910  0.987779  13850.175781    31.550062   \n",
       "3  1514764860         5   32.0  1.000000  0.999621      7.657600  6626.713370   \n",
       "4  1514764860         7    5.0  1.000000  0.998225     25.877001   121.087310   \n",
       "\n",
       "           VWAP    Target                time        Asset_Name  \\\n",
       "0   2373.116455 -0.004218 2018-01-01 00:01:00      Bitcoin Cash   \n",
       "1      8.530000 -0.014399 2018-01-01 00:01:00      Binance Coin   \n",
       "2  13827.062500 -0.014643 2018-01-01 00:01:00           Bitcoin   \n",
       "3      7.657713 -0.013922 2018-01-01 00:01:00            EOS.IO   \n",
       "4     25.891363 -0.008264 2018-01-01 00:01:00  Ethereum Classic   \n",
       "\n",
       "   high_low_return  open_close_return  upper_shadow  lower_shadow  \\\n",
       "0         0.702093           0.692728      0.000425   2394.174316   \n",
       "1         0.693147           0.693147      0.117233      8.530000   \n",
       "2         0.705788           0.693689      0.000073  14006.370117   \n",
       "3         0.693337           0.693017      0.130555      7.660500   \n",
       "4         0.694036           0.692317      0.038580     25.923006   \n",
       "\n",
       "    dolar_amount  vol_per_trades  \n",
       "0   45670.503485        0.480825  \n",
       "1     668.581379       15.676000  \n",
       "2  436973.897961        0.137773  \n",
       "3   50744.719811      207.084793  \n",
       "4    3133.376419       24.217462  "
      ]
     },
     "execution_count": 18,
     "metadata": {},
     "output_type": "execute_result"
    }
   ],
   "source": [
    "data.head()"
   ]
  },
  {
   "cell_type": "code",
   "execution_count": 19,
   "id": "38377d6e",
   "metadata": {
    "ExecuteTime": {
     "end_time": "2021-12-05T21:52:15.837441Z",
     "start_time": "2021-12-05T21:52:14.459338Z"
    }
   },
   "outputs": [
    {
     "data": {
      "text/plain": [
       "timestamp            0.000000e+00\n",
       "Asset_ID             0.000000e+00\n",
       "Count                0.000000e+00\n",
       "High                 0.000000e+00\n",
       "Low                  0.000000e+00\n",
       "Close                0.000000e+00\n",
       "Volume               0.000000e+00\n",
       "VWAP                 3.831994e-07\n",
       "Target               0.000000e+00\n",
       "time                 0.000000e+00\n",
       "Asset_Name           0.000000e+00\n",
       "high_low_return      0.000000e+00\n",
       "open_close_return    0.000000e+00\n",
       "upper_shadow         0.000000e+00\n",
       "lower_shadow         0.000000e+00\n",
       "dolar_amount         0.000000e+00\n",
       "vol_per_trades       0.000000e+00\n",
       "dtype: float64"
      ]
     },
     "execution_count": 19,
     "metadata": {},
     "output_type": "execute_result"
    }
   ],
   "source": [
    "data.isna().mean()"
   ]
  },
  {
   "cell_type": "code",
   "execution_count": 20,
   "id": "c03e3a4a",
   "metadata": {
    "ExecuteTime": {
     "end_time": "2021-12-05T21:52:15.951219Z",
     "start_time": "2021-12-05T21:52:15.839440Z"
    }
   },
   "outputs": [],
   "source": [
    "data.fillna({'VWAP': data['VWAP'].mean()}, inplace=True)"
   ]
  },
  {
   "cell_type": "code",
   "execution_count": 21,
   "id": "25363b40",
   "metadata": {
    "ExecuteTime": {
     "end_time": "2021-12-05T21:52:17.269089Z",
     "start_time": "2021-12-05T21:52:15.955431Z"
    }
   },
   "outputs": [
    {
     "data": {
      "text/plain": [
       "timestamp            0.0\n",
       "Asset_ID             0.0\n",
       "Count                0.0\n",
       "High                 0.0\n",
       "Low                  0.0\n",
       "Close                0.0\n",
       "Volume               0.0\n",
       "VWAP                 0.0\n",
       "Target               0.0\n",
       "time                 0.0\n",
       "Asset_Name           0.0\n",
       "high_low_return      0.0\n",
       "open_close_return    0.0\n",
       "upper_shadow         0.0\n",
       "lower_shadow         0.0\n",
       "dolar_amount         0.0\n",
       "vol_per_trades       0.0\n",
       "dtype: float64"
      ]
     },
     "execution_count": 21,
     "metadata": {},
     "output_type": "execute_result"
    }
   ],
   "source": [
    "data.isna().mean()"
   ]
  },
  {
   "cell_type": "code",
   "execution_count": 22,
   "id": "b44d5f1a",
   "metadata": {
    "ExecuteTime": {
     "end_time": "2021-12-05T21:52:17.290273Z",
     "start_time": "2021-12-05T21:52:17.272249Z"
    }
   },
   "outputs": [
    {
     "data": {
      "text/plain": [
       "['timestamp',\n",
       " 'Asset_ID',\n",
       " 'Count',\n",
       " 'High',\n",
       " 'Low',\n",
       " 'Close',\n",
       " 'Volume',\n",
       " 'VWAP',\n",
       " 'Target',\n",
       " 'time',\n",
       " 'Asset_Name',\n",
       " 'high_low_return',\n",
       " 'open_close_return',\n",
       " 'upper_shadow',\n",
       " 'lower_shadow',\n",
       " 'dolar_amount',\n",
       " 'vol_per_trades']"
      ]
     },
     "execution_count": 22,
     "metadata": {},
     "output_type": "execute_result"
    }
   ],
   "source": [
    "list(data.columns)"
   ]
  },
  {
   "cell_type": "code",
   "execution_count": 23,
   "id": "ee6b551d",
   "metadata": {
    "ExecuteTime": {
     "end_time": "2021-12-05T21:52:17.324333Z",
     "start_time": "2021-12-05T21:52:17.292244Z"
    }
   },
   "outputs": [],
   "source": [
    "FEATURES = [\n",
    "'Count',\n",
    "'High',\n",
    "'Low',\n",
    "'Close',\n",
    "'Volume',\n",
    "'VWAP',\n",
    "'high_low_return',\n",
    "'open_close_return',\n",
    "'upper_shadow',\n",
    "'lower_shadow',\n",
    "'dolar_amount',\n",
    "'vol_per_trades'\n",
    "]"
   ]
  },
  {
   "cell_type": "code",
   "execution_count": 24,
   "id": "4fcd4e69",
   "metadata": {
    "ExecuteTime": {
     "end_time": "2021-12-05T21:52:17.465617Z",
     "start_time": "2021-12-05T21:52:17.326947Z"
    }
   },
   "outputs": [],
   "source": [
    "from sklearn.linear_model import LogisticRegression, LinearRegression, Lasso, Ridge\n",
    "from sklearn.preprocessing import MinMaxScaler, FunctionTransformer\n",
    "from sklearn.pipeline import Pipeline\n",
    "\n",
    "class ProfitLogisticRegression(LogisticRegression):\n",
    "    def fit(self, X, y, *args, **kwargs):\n",
    "        profit = (y >= 0)\n",
    "        self.mean = profit.mean()\n",
    "        return super().fit(X, profit, *args, **kwargs)\n",
    "\n",
    "    def predict(self, X):\n",
    "        yhat = super().predict_proba(X)[:, 1]\n",
    "        return (yhat - self.mean)\n",
    "    \n",
    "\n",
    "def build_model(params={'C': 1.}):\n",
    "    model = Pipeline([('filter', FilterFeatures(FEATURES)),\n",
    "                      ('norm', MinMaxScaler()),\n",
    "                      ('model', ProfitLogisticRegression(C=params['C'], random_state=1))])\n",
    "    return model"
   ]
  },
  {
   "cell_type": "code",
   "execution_count": 25,
   "id": "d2c9a4b9",
   "metadata": {
    "ExecuteTime": {
     "end_time": "2021-12-05T21:52:17.492901Z",
     "start_time": "2021-12-05T21:52:17.468273Z"
    }
   },
   "outputs": [],
   "source": [
    "def train_model(config, train_data, valid_data, pipeline=None):\n",
    "    model  = build_model(config['model'])\n",
    "\n",
    "    if config['training']['time_decay_alpha'] is not None:\n",
    "        time_decay_alpha = config['training']['time_decay_alpha']\n",
    "        print(f'using exponential_time_decay with alpha {time_decay_alpha}')\n",
    "        timesteps = ((train_data['timestamp'].max() - train_data['timestamp'])//60//60//24)\n",
    "        weight = time_decay_alpha ** timesteps\n",
    "    else:\n",
    "        weight = None\n",
    "\n",
    "    model.fit(train_data, train_data['Target'], model__sample_weight=weight)\n",
    "    return model\n",
    "\n",
    "\n",
    "def get_mask_for_asset(data: pd.DataFrame, asset_id: int):\n",
    "    return (data['Asset_ID'] == asset_id)\n",
    "\n",
    "\n",
    "def get_data_for_asset(data: pd.DataFrame, asset_id: int):\n",
    "    mask = get_mask_for_asset(data, asset_id)\n",
    "    return data.loc[mask, :].reset_index(drop=True)"
   ]
  },
  {
   "cell_type": "code",
   "execution_count": 26,
   "id": "5fec683f",
   "metadata": {
    "ExecuteTime": {
     "end_time": "2021-12-05T21:52:17.533597Z",
     "start_time": "2021-12-05T21:52:17.494776Z"
    }
   },
   "outputs": [],
   "source": [
    "PRIVATE_LB_RANGE = [['2020-01-01', '2020-04-01']]\n",
    "PULIC_LB_RANGE = ['2021-06-13',\n",
    "                  '2021-09-13'] # 3 MONTH WORTH OF DATA\n",
    "\n",
    "\n",
    "if SAMPLE_LEVEL==2:\n",
    "    EVAL_PERIODS = [['2021-09-11', '2021-09-13']]\n",
    "elif SAMPLE_LEVEL == 1:\n",
    "    EVAL_PERIODS = [PULIC_LB_RANGE]\n",
    "else:\n",
    "    EVAL_PERIODS =  [\n",
    "                     ['2020-01-01', '2020-04-01'],\n",
    "                     ['2020-09-01', '2021-01-01'],\n",
    "                     ['2021-01-01', '2021-04-01'],\n",
    "                     ['2021-04-01', '2021-07-01']\n",
    "                     ]"
   ]
  },
  {
   "cell_type": "code",
   "execution_count": 27,
   "id": "8825b90a",
   "metadata": {
    "ExecuteTime": {
     "end_time": "2021-12-05T21:52:17.554279Z",
     "start_time": "2021-12-05T21:52:17.536556Z"
    }
   },
   "outputs": [
    {
     "data": {
      "text/plain": [
       "[['2020-01-01', '2020-04-01'],\n",
       " ['2020-09-01', '2021-01-01'],\n",
       " ['2021-01-01', '2021-04-01'],\n",
       " ['2021-04-01', '2021-07-01']]"
      ]
     },
     "execution_count": 27,
     "metadata": {},
     "output_type": "execute_result"
    }
   ],
   "source": [
    "EVAL_PERIODS"
   ]
  },
  {
   "cell_type": "code",
   "execution_count": 28,
   "id": "b8fa6271",
   "metadata": {
    "ExecuteTime": {
     "end_time": "2021-12-05T21:52:17.574369Z",
     "start_time": "2021-12-05T21:52:17.556203Z"
    }
   },
   "outputs": [],
   "source": [
    "CV_PARAMS = {'gap_unit': 'min', 'dt_col': 'time'}\n",
    "\n",
    "CV = TimeSeriesSplit(EVAL_PERIODS, **CV_PARAMS)"
   ]
  },
  {
   "cell_type": "code",
   "execution_count": 29,
   "id": "9b9ff7dd",
   "metadata": {
    "ExecuteTime": {
     "end_time": "2021-12-05T21:52:17.594743Z",
     "start_time": "2021-12-05T21:52:17.576527Z"
    }
   },
   "outputs": [],
   "source": [
    "def _create_fi_pd(features, importances):\n",
    "    return (pd.DataFrame({'feature': features, 'importance': importances})\n",
    "            .sort_values(by=['importance']).reset_index(drop=True))\n",
    "\n",
    "def compute_fi(config, model, valid_data):\n",
    "    return _create_fi_pd(model['filter'].features, model['model'].coef_[0])"
   ]
  },
  {
   "cell_type": "code",
   "execution_count": 30,
   "id": "f18e1947",
   "metadata": {
    "ExecuteTime": {
     "end_time": "2021-12-05T21:52:17.615041Z",
     "start_time": "2021-12-05T21:52:17.596720Z"
    }
   },
   "outputs": [],
   "source": [
    "evaluator = Evaluator(cv=CV, fi_fn=compute_fi)"
   ]
  },
  {
   "cell_type": "code",
   "execution_count": 31,
   "id": "02d2cccd",
   "metadata": {
    "ExecuteTime": {
     "end_time": "2021-12-05T21:52:17.634819Z",
     "start_time": "2021-12-05T21:52:17.616637Z"
    }
   },
   "outputs": [],
   "source": [
    "MODEL_CONFIG = {'C': .01}\n",
    "TRAIN_CONFIG = {'time_decay_alpha': 0.99}\n",
    "CONFIG = {'model': MODEL_CONFIG, 'training': TRAIN_CONFIG}"
   ]
  },
  {
   "cell_type": "code",
   "execution_count": 32,
   "id": "f1336618",
   "metadata": {
    "ExecuteTime": {
     "end_time": "2021-12-05T21:54:42.826696Z",
     "start_time": "2021-12-05T21:52:17.637634Z"
    },
    "scrolled": true
   },
   "outputs": [
    {
     "name": "stdout",
     "output_type": "stream",
     "text": [
      "fold=0\n",
      "using exponential_time_decay with alpha 0.99\n",
      "elapsed time: 0.0338\n",
      "fold=1\n",
      "using exponential_time_decay with alpha 0.99\n",
      "elapsed time: 0.0424\n",
      "fold=2\n",
      "using exponential_time_decay with alpha 0.99\n",
      "elapsed time: 0.0472\n",
      "fold=3\n",
      "using exponential_time_decay with alpha 0.99\n",
      "elapsed time: 0.0556\n",
      "fold=0\n",
      "using exponential_time_decay with alpha 0.99\n",
      "elapsed time: 0.0364\n",
      "fold=1\n",
      "using exponential_time_decay with alpha 0.99\n",
      "elapsed time: 0.0501\n",
      "fold=2\n",
      "using exponential_time_decay with alpha 0.99\n",
      "elapsed time: 0.0688\n",
      "fold=3\n",
      "using exponential_time_decay with alpha 0.99\n",
      "elapsed time: 0.0358\n",
      "fold=0\n",
      "using exponential_time_decay with alpha 0.99\n",
      "elapsed time: 0.0422\n",
      "fold=1\n",
      "using exponential_time_decay with alpha 0.99\n",
      "elapsed time: 0.0575\n",
      "fold=2\n",
      "using exponential_time_decay with alpha 0.99\n",
      "elapsed time: 0.0305\n",
      "fold=3\n",
      "using exponential_time_decay with alpha 0.99\n",
      "elapsed time: 0.0666\n",
      "fold=0\n",
      "using exponential_time_decay with alpha 0.99\n",
      "elapsed time: 0.0330\n",
      "fold=1\n",
      "using exponential_time_decay with alpha 0.99\n",
      "elapsed time: 0.0359\n",
      "fold=2\n",
      "using exponential_time_decay with alpha 0.99\n",
      "elapsed time: 0.0496\n",
      "fold=3\n",
      "using exponential_time_decay with alpha 0.99\n",
      "elapsed time: 0.0487\n",
      "fold=0\n",
      "using exponential_time_decay with alpha 0.99\n",
      "elapsed time: 0.0328\n",
      "fold=1\n",
      "using exponential_time_decay with alpha 0.99\n",
      "elapsed time: 0.0338\n",
      "fold=2\n",
      "using exponential_time_decay with alpha 0.99\n",
      "elapsed time: 0.0400\n",
      "fold=3\n",
      "using exponential_time_decay with alpha 0.99\n",
      "elapsed time: 0.0464\n",
      "fold=0\n",
      "using exponential_time_decay with alpha 0.99\n",
      "elapsed time: 0.0309\n",
      "fold=1\n",
      "using exponential_time_decay with alpha 0.99\n",
      "elapsed time: 0.0540\n",
      "fold=2\n",
      "using exponential_time_decay with alpha 0.99\n",
      "elapsed time: 0.0500\n",
      "fold=3\n",
      "using exponential_time_decay with alpha 0.99\n",
      "elapsed time: 0.0613\n",
      "fold=0\n",
      "using exponential_time_decay with alpha 0.99\n",
      "elapsed time: 0.0390\n",
      "fold=1\n",
      "using exponential_time_decay with alpha 0.99\n",
      "elapsed time: 0.0485\n",
      "fold=2\n",
      "using exponential_time_decay with alpha 0.99\n",
      "elapsed time: 0.0506\n",
      "fold=3\n",
      "using exponential_time_decay with alpha 0.99\n",
      "elapsed time: 0.0578\n",
      "fold=0\n",
      "using exponential_time_decay with alpha 0.99\n",
      "elapsed time: 0.0138\n",
      "fold=1\n",
      "using exponential_time_decay with alpha 0.99\n",
      "elapsed time: 0.0321\n",
      "fold=2\n",
      "using exponential_time_decay with alpha 0.99\n",
      "elapsed time: 0.0340\n",
      "fold=3\n",
      "using exponential_time_decay with alpha 0.99\n",
      "elapsed time: 0.0506\n",
      "fold=0\n",
      "using exponential_time_decay with alpha 0.99\n",
      "elapsed time: 0.0269\n",
      "fold=1\n",
      "using exponential_time_decay with alpha 0.99\n",
      "elapsed time: 0.0441\n",
      "fold=2\n",
      "using exponential_time_decay with alpha 0.99\n",
      "elapsed time: 0.0421\n",
      "fold=3\n",
      "using exponential_time_decay with alpha 0.99\n",
      "elapsed time: 0.0441\n",
      "fold=0\n",
      "using exponential_time_decay with alpha 0.99\n",
      "elapsed time: 0.0276\n",
      "fold=1\n",
      "using exponential_time_decay with alpha 0.99\n",
      "elapsed time: 0.0283\n",
      "fold=2\n",
      "using exponential_time_decay with alpha 0.99\n",
      "elapsed time: 0.0381\n",
      "fold=3\n",
      "using exponential_time_decay with alpha 0.99\n",
      "elapsed time: 0.0478\n",
      "fold=0\n",
      "using exponential_time_decay with alpha 0.99\n",
      "elapsed time: 0.0320\n",
      "fold=1\n",
      "using exponential_time_decay with alpha 0.99\n",
      "elapsed time: 0.0630\n",
      "fold=2\n",
      "using exponential_time_decay with alpha 0.99\n",
      "elapsed time: 0.0534\n",
      "fold=3\n",
      "using exponential_time_decay with alpha 0.99\n",
      "elapsed time: 0.0491\n",
      "fold=0\n",
      "using exponential_time_decay with alpha 0.99\n",
      "elapsed time: 0.0196\n",
      "fold=1\n",
      "using exponential_time_decay with alpha 0.99\n",
      "elapsed time: 0.0338\n",
      "fold=2\n",
      "using exponential_time_decay with alpha 0.99\n",
      "elapsed time: 0.0247\n",
      "fold=3\n",
      "using exponential_time_decay with alpha 0.99\n",
      "elapsed time: 0.0256\n",
      "fold=0\n",
      "using exponential_time_decay with alpha 0.99\n",
      "elapsed time: 0.0003\n",
      "fold=1\n",
      "using exponential_time_decay with alpha 0.99\n",
      "elapsed time: 0.0036\n",
      "fold=2\n",
      "using exponential_time_decay with alpha 0.99\n",
      "elapsed time: 0.0106\n",
      "fold=3\n",
      "using exponential_time_decay with alpha 0.99\n",
      "elapsed time: 0.0108\n",
      "fold=0\n",
      "using exponential_time_decay with alpha 0.99\n",
      "elapsed time: 0.0080\n",
      "fold=1\n",
      "using exponential_time_decay with alpha 0.99\n",
      "elapsed time: 0.0150\n",
      "fold=2\n",
      "using exponential_time_decay with alpha 0.99\n",
      "elapsed time: 0.0232\n",
      "fold=3\n",
      "using exponential_time_decay with alpha 0.99\n",
      "elapsed time: 0.0276\n"
     ]
    }
   ],
   "source": [
    "asset_ids = data['Asset_ID'].unique()\n",
    "RESULTS = {}\n",
    "for asset_id in asset_ids:\n",
    "    asset_data = get_data_for_asset(data, asset_id)\n",
    "    asset_result = evaluator.run(train_model, CONFIG, asset_data)\n",
    "    RESULTS[asset_id] = asset_result "
   ]
  },
  {
   "cell_type": "code",
   "execution_count": 33,
   "id": "9e6995b9",
   "metadata": {
    "ExecuteTime": {
     "end_time": "2021-12-05T21:54:43.186467Z",
     "start_time": "2021-12-05T21:54:42.830292Z"
    }
   },
   "outputs": [],
   "source": [
    "import itertools\n",
    "inference_df = pd.concat(itertools.chain(*[asset_result['prediction'] for _, asset_result in RESULTS.items()]))"
   ]
  },
  {
   "cell_type": "code",
   "execution_count": 34,
   "id": "d27e3ebf",
   "metadata": {
    "ExecuteTime": {
     "end_time": "2021-12-05T21:54:47.861409Z",
     "start_time": "2021-12-05T21:54:43.188153Z"
    }
   },
   "outputs": [],
   "source": [
    "scores = inference_df.groupby('fold').apply(compute_metrics)\n",
    "scores['eval_period'] = EVAL_PERIODS"
   ]
  },
  {
   "cell_type": "code",
   "execution_count": 35,
   "id": "4d436dfb",
   "metadata": {
    "ExecuteTime": {
     "end_time": "2021-12-05T21:54:47.910120Z",
     "start_time": "2021-12-05T21:54:47.864241Z"
    }
   },
   "outputs": [
    {
     "data": {
      "text/html": [
       "<div>\n",
       "<style scoped>\n",
       "    .dataframe tbody tr th:only-of-type {\n",
       "        vertical-align: middle;\n",
       "    }\n",
       "\n",
       "    .dataframe tbody tr th {\n",
       "        vertical-align: top;\n",
       "    }\n",
       "\n",
       "    .dataframe thead th {\n",
       "        text-align: right;\n",
       "    }\n",
       "</style>\n",
       "<table border=\"1\" class=\"dataframe\">\n",
       "  <thead>\n",
       "    <tr style=\"text-align: right;\">\n",
       "      <th></th>\n",
       "      <th>corr</th>\n",
       "      <th>crypto_consistency</th>\n",
       "      <th>sharpe</th>\n",
       "      <th>corr_period_mean</th>\n",
       "      <th>corr_period_std</th>\n",
       "      <th>consistency</th>\n",
       "      <th>min_period_corr</th>\n",
       "      <th>corr_min</th>\n",
       "      <th>corr_max</th>\n",
       "      <th>corr_std</th>\n",
       "      <th>eval_period</th>\n",
       "    </tr>\n",
       "    <tr>\n",
       "      <th>fold</th>\n",
       "      <th></th>\n",
       "      <th></th>\n",
       "      <th></th>\n",
       "      <th></th>\n",
       "      <th></th>\n",
       "      <th></th>\n",
       "      <th></th>\n",
       "      <th></th>\n",
       "      <th></th>\n",
       "      <th></th>\n",
       "      <th></th>\n",
       "    </tr>\n",
       "  </thead>\n",
       "  <tbody>\n",
       "    <tr>\n",
       "      <th>0</th>\n",
       "      <td>0.013581</td>\n",
       "      <td>12.0</td>\n",
       "      <td>1.526666</td>\n",
       "      <td>0.015252</td>\n",
       "      <td>0.009990</td>\n",
       "      <td>0.923077</td>\n",
       "      <td>0.000831</td>\n",
       "      <td>-0.168709</td>\n",
       "      <td>0.063505</td>\n",
       "      <td>0.053334</td>\n",
       "      <td>[2020-01-01, 2020-04-01]</td>\n",
       "    </tr>\n",
       "    <tr>\n",
       "      <th>1</th>\n",
       "      <td>0.003373</td>\n",
       "      <td>12.0</td>\n",
       "      <td>0.538890</td>\n",
       "      <td>0.004998</td>\n",
       "      <td>0.009275</td>\n",
       "      <td>0.666667</td>\n",
       "      <td>-0.009656</td>\n",
       "      <td>-0.027277</td>\n",
       "      <td>0.058564</td>\n",
       "      <td>0.020271</td>\n",
       "      <td>[2020-09-01, 2021-01-01]</td>\n",
       "    </tr>\n",
       "    <tr>\n",
       "      <th>2</th>\n",
       "      <td>0.000546</td>\n",
       "      <td>9.0</td>\n",
       "      <td>0.318280</td>\n",
       "      <td>0.005377</td>\n",
       "      <td>0.016893</td>\n",
       "      <td>0.615385</td>\n",
       "      <td>-0.025599</td>\n",
       "      <td>-0.011453</td>\n",
       "      <td>0.035122</td>\n",
       "      <td>0.011760</td>\n",
       "      <td>[2021-01-01, 2021-04-01]</td>\n",
       "    </tr>\n",
       "    <tr>\n",
       "      <th>3</th>\n",
       "      <td>0.000547</td>\n",
       "      <td>12.0</td>\n",
       "      <td>0.008824</td>\n",
       "      <td>0.000144</td>\n",
       "      <td>0.016348</td>\n",
       "      <td>0.692308</td>\n",
       "      <td>-0.025552</td>\n",
       "      <td>-0.025384</td>\n",
       "      <td>0.072281</td>\n",
       "      <td>0.022461</td>\n",
       "      <td>[2021-04-01, 2021-07-01]</td>\n",
       "    </tr>\n",
       "  </tbody>\n",
       "</table>\n",
       "</div>"
      ],
      "text/plain": [
       "          corr  crypto_consistency    sharpe  corr_period_mean  \\\n",
       "fold                                                             \n",
       "0     0.013581                12.0  1.526666          0.015252   \n",
       "1     0.003373                12.0  0.538890          0.004998   \n",
       "2     0.000546                 9.0  0.318280          0.005377   \n",
       "3     0.000547                12.0  0.008824          0.000144   \n",
       "\n",
       "      corr_period_std  consistency  min_period_corr  corr_min  corr_max  \\\n",
       "fold                                                                      \n",
       "0            0.009990     0.923077         0.000831 -0.168709  0.063505   \n",
       "1            0.009275     0.666667        -0.009656 -0.027277  0.058564   \n",
       "2            0.016893     0.615385        -0.025599 -0.011453  0.035122   \n",
       "3            0.016348     0.692308        -0.025552 -0.025384  0.072281   \n",
       "\n",
       "      corr_std               eval_period  \n",
       "fold                                      \n",
       "0     0.053334  [2020-01-01, 2020-04-01]  \n",
       "1     0.020271  [2020-09-01, 2021-01-01]  \n",
       "2     0.011760  [2021-01-01, 2021-04-01]  \n",
       "3     0.022461  [2021-04-01, 2021-07-01]  "
      ]
     },
     "execution_count": 35,
     "metadata": {},
     "output_type": "execute_result"
    }
   ],
   "source": [
    "scores"
   ]
  },
  {
   "cell_type": "code",
   "execution_count": 36,
   "id": "9607994d",
   "metadata": {
    "ExecuteTime": {
     "end_time": "2021-12-05T21:54:47.955891Z",
     "start_time": "2021-12-05T21:54:47.912488Z"
    }
   },
   "outputs": [],
   "source": [
    "fi = pd.concat(itertools.chain(*[asset_result['fi'] for _, asset_result in RESULTS.items()]))"
   ]
  },
  {
   "cell_type": "code",
   "execution_count": 37,
   "id": "65e14cea",
   "metadata": {
    "ExecuteTime": {
     "end_time": "2021-12-05T21:54:48.063139Z",
     "start_time": "2021-12-05T21:54:47.960395Z"
    }
   },
   "outputs": [],
   "source": [
    "fi_stats = (fi.groupby('feature')['importance'].describe()\n",
    "            .sort_values('mean', ascending=False))"
   ]
  },
  {
   "cell_type": "code",
   "execution_count": 38,
   "id": "d10b3d09",
   "metadata": {
    "ExecuteTime": {
     "end_time": "2021-12-05T21:54:48.126082Z",
     "start_time": "2021-12-05T21:54:48.066567Z"
    }
   },
   "outputs": [
    {
     "data": {
      "text/html": [
       "<div>\n",
       "<style scoped>\n",
       "    .dataframe tbody tr th:only-of-type {\n",
       "        vertical-align: middle;\n",
       "    }\n",
       "\n",
       "    .dataframe tbody tr th {\n",
       "        vertical-align: top;\n",
       "    }\n",
       "\n",
       "    .dataframe thead th {\n",
       "        text-align: right;\n",
       "    }\n",
       "</style>\n",
       "<table border=\"1\" class=\"dataframe\">\n",
       "  <thead>\n",
       "    <tr style=\"text-align: right;\">\n",
       "      <th></th>\n",
       "      <th>count</th>\n",
       "      <th>mean</th>\n",
       "      <th>std</th>\n",
       "      <th>min</th>\n",
       "      <th>25%</th>\n",
       "      <th>50%</th>\n",
       "      <th>75%</th>\n",
       "      <th>max</th>\n",
       "    </tr>\n",
       "    <tr>\n",
       "      <th>feature</th>\n",
       "      <th></th>\n",
       "      <th></th>\n",
       "      <th></th>\n",
       "      <th></th>\n",
       "      <th></th>\n",
       "      <th></th>\n",
       "      <th></th>\n",
       "      <th></th>\n",
       "    </tr>\n",
       "  </thead>\n",
       "  <tbody>\n",
       "    <tr>\n",
       "      <th>upper_shadow</th>\n",
       "      <td>56.0</td>\n",
       "      <td>0.090336</td>\n",
       "      <td>0.107069</td>\n",
       "      <td>-0.180432</td>\n",
       "      <td>0.007964</td>\n",
       "      <td>0.092534</td>\n",
       "      <td>0.170586</td>\n",
       "      <td>0.290467</td>\n",
       "    </tr>\n",
       "    <tr>\n",
       "      <th>Volume</th>\n",
       "      <td>56.0</td>\n",
       "      <td>0.039813</td>\n",
       "      <td>0.070138</td>\n",
       "      <td>-0.073765</td>\n",
       "      <td>-0.007242</td>\n",
       "      <td>0.029603</td>\n",
       "      <td>0.075684</td>\n",
       "      <td>0.258006</td>\n",
       "    </tr>\n",
       "    <tr>\n",
       "      <th>Count</th>\n",
       "      <td>56.0</td>\n",
       "      <td>0.036059</td>\n",
       "      <td>0.094763</td>\n",
       "      <td>-0.120414</td>\n",
       "      <td>-0.032594</td>\n",
       "      <td>0.017878</td>\n",
       "      <td>0.112671</td>\n",
       "      <td>0.299535</td>\n",
       "    </tr>\n",
       "    <tr>\n",
       "      <th>dolar_amount</th>\n",
       "      <td>56.0</td>\n",
       "      <td>0.029576</td>\n",
       "      <td>0.061814</td>\n",
       "      <td>-0.069792</td>\n",
       "      <td>-0.017405</td>\n",
       "      <td>0.013060</td>\n",
       "      <td>0.070455</td>\n",
       "      <td>0.257623</td>\n",
       "    </tr>\n",
       "    <tr>\n",
       "      <th>vol_per_trades</th>\n",
       "      <td>56.0</td>\n",
       "      <td>0.006933</td>\n",
       "      <td>0.033539</td>\n",
       "      <td>-0.095072</td>\n",
       "      <td>-0.004046</td>\n",
       "      <td>0.005992</td>\n",
       "      <td>0.018791</td>\n",
       "      <td>0.114594</td>\n",
       "    </tr>\n",
       "    <tr>\n",
       "      <th>high_low_return</th>\n",
       "      <td>56.0</td>\n",
       "      <td>-0.002399</td>\n",
       "      <td>0.031627</td>\n",
       "      <td>-0.096879</td>\n",
       "      <td>-0.009205</td>\n",
       "      <td>-0.000977</td>\n",
       "      <td>0.008667</td>\n",
       "      <td>0.112257</td>\n",
       "    </tr>\n",
       "    <tr>\n",
       "      <th>High</th>\n",
       "      <td>56.0</td>\n",
       "      <td>-0.016894</td>\n",
       "      <td>0.023486</td>\n",
       "      <td>-0.088500</td>\n",
       "      <td>-0.030759</td>\n",
       "      <td>-0.011257</td>\n",
       "      <td>-0.006259</td>\n",
       "      <td>0.055992</td>\n",
       "    </tr>\n",
       "    <tr>\n",
       "      <th>Low</th>\n",
       "      <td>56.0</td>\n",
       "      <td>-0.017350</td>\n",
       "      <td>0.047055</td>\n",
       "      <td>-0.150617</td>\n",
       "      <td>-0.034154</td>\n",
       "      <td>-0.015854</td>\n",
       "      <td>0.000312</td>\n",
       "      <td>0.139795</td>\n",
       "    </tr>\n",
       "    <tr>\n",
       "      <th>lower_shadow</th>\n",
       "      <td>56.0</td>\n",
       "      <td>-0.037830</td>\n",
       "      <td>0.047897</td>\n",
       "      <td>-0.172905</td>\n",
       "      <td>-0.057261</td>\n",
       "      <td>-0.024063</td>\n",
       "      <td>-0.005241</td>\n",
       "      <td>0.049354</td>\n",
       "    </tr>\n",
       "    <tr>\n",
       "      <th>open_close_return</th>\n",
       "      <td>56.0</td>\n",
       "      <td>-0.046527</td>\n",
       "      <td>0.051341</td>\n",
       "      <td>-0.227502</td>\n",
       "      <td>-0.067421</td>\n",
       "      <td>-0.042492</td>\n",
       "      <td>-0.012259</td>\n",
       "      <td>0.065814</td>\n",
       "    </tr>\n",
       "    <tr>\n",
       "      <th>VWAP</th>\n",
       "      <td>56.0</td>\n",
       "      <td>-0.061763</td>\n",
       "      <td>0.063666</td>\n",
       "      <td>-0.269380</td>\n",
       "      <td>-0.087518</td>\n",
       "      <td>-0.056198</td>\n",
       "      <td>-0.017677</td>\n",
       "      <td>0.044546</td>\n",
       "    </tr>\n",
       "    <tr>\n",
       "      <th>Close</th>\n",
       "      <td>56.0</td>\n",
       "      <td>-0.064233</td>\n",
       "      <td>0.062988</td>\n",
       "      <td>-0.270441</td>\n",
       "      <td>-0.091060</td>\n",
       "      <td>-0.056848</td>\n",
       "      <td>-0.023962</td>\n",
       "      <td>0.042986</td>\n",
       "    </tr>\n",
       "  </tbody>\n",
       "</table>\n",
       "</div>"
      ],
      "text/plain": [
       "                   count      mean       std       min       25%       50%  \\\n",
       "feature                                                                      \n",
       "upper_shadow        56.0  0.090336  0.107069 -0.180432  0.007964  0.092534   \n",
       "Volume              56.0  0.039813  0.070138 -0.073765 -0.007242  0.029603   \n",
       "Count               56.0  0.036059  0.094763 -0.120414 -0.032594  0.017878   \n",
       "dolar_amount        56.0  0.029576  0.061814 -0.069792 -0.017405  0.013060   \n",
       "vol_per_trades      56.0  0.006933  0.033539 -0.095072 -0.004046  0.005992   \n",
       "high_low_return     56.0 -0.002399  0.031627 -0.096879 -0.009205 -0.000977   \n",
       "High                56.0 -0.016894  0.023486 -0.088500 -0.030759 -0.011257   \n",
       "Low                 56.0 -0.017350  0.047055 -0.150617 -0.034154 -0.015854   \n",
       "lower_shadow        56.0 -0.037830  0.047897 -0.172905 -0.057261 -0.024063   \n",
       "open_close_return   56.0 -0.046527  0.051341 -0.227502 -0.067421 -0.042492   \n",
       "VWAP                56.0 -0.061763  0.063666 -0.269380 -0.087518 -0.056198   \n",
       "Close               56.0 -0.064233  0.062988 -0.270441 -0.091060 -0.056848   \n",
       "\n",
       "                        75%       max  \n",
       "feature                                \n",
       "upper_shadow       0.170586  0.290467  \n",
       "Volume             0.075684  0.258006  \n",
       "Count              0.112671  0.299535  \n",
       "dolar_amount       0.070455  0.257623  \n",
       "vol_per_trades     0.018791  0.114594  \n",
       "high_low_return    0.008667  0.112257  \n",
       "High              -0.006259  0.055992  \n",
       "Low                0.000312  0.139795  \n",
       "lower_shadow      -0.005241  0.049354  \n",
       "open_close_return -0.012259  0.065814  \n",
       "VWAP              -0.017677  0.044546  \n",
       "Close             -0.023962  0.042986  "
      ]
     },
     "execution_count": 38,
     "metadata": {},
     "output_type": "execute_result"
    }
   ],
   "source": [
    "fi_stats"
   ]
  },
  {
   "cell_type": "code",
   "execution_count": 39,
   "id": "7560c1fd",
   "metadata": {
    "ExecuteTime": {
     "end_time": "2021-12-05T21:54:48.974802Z",
     "start_time": "2021-12-05T21:54:48.129039Z"
    }
   },
   "outputs": [
    {
     "data": {
      "text/plain": [
       "<AxesSubplot:xlabel='importance', ylabel='feature'>"
      ]
     },
     "execution_count": 39,
     "metadata": {},
     "output_type": "execute_result"
    },
    {
     "data": {
      "image/png": "[encoded data removed]",
      "text/plain": [
       "<Figure size 432x288 with 1 Axes>"
      ]
     },
     "metadata": {
      "needs_background": "light"
     },
     "output_type": "display_data"
    }
   ],
   "source": [
    "sns.barplot(data=fi, y='feature', x='importance', order=fi_stats.index)"
   ]
  },
  {
   "cell_type": "code",
   "execution_count": 40,
   "id": "43650874",
   "metadata": {
    "ExecuteTime": {
     "end_time": "2021-12-05T21:54:48.998680Z",
     "start_time": "2021-12-05T21:54:48.977320Z"
    }
   },
   "outputs": [],
   "source": [
    "# def add_kaggle_index_columns(data: pd.DataFrame):\n",
    "#     data['row_id'] = list(range(len(data)))\n",
    "#     data['row_id'] = data['row_id'].astype(np.int32)\n",
    "#     group_num = data[['timestamp']].drop_duplicates().sort_values(by='timestamp')\n",
    "#     group_num['group_num'] = list(range(len(group_num)))\n",
    "#     data = data.merge(group_num, on='timestamp', how='left')\n",
    "#     assert data['group_num'].isna().sum() == 0\n",
    "#     return data\n",
    "    \n",
    "    \n",
    "# EXPECTED_RAW_COLS = ['timestamp', 'Asset_ID', 'Count',\n",
    "#                      'Open', 'High', 'Low', 'Close',\n",
    "#                      'Volume', 'VWAP']\n",
    "\n",
    "# def simulate_kaggle_api(data: pd.DataFrame):\n",
    "#     copy_data = data.copy()\n",
    "#     data = add_kaggle_index_columns(copy_data)\n",
    "    \n",
    "#     for group_id, group_data in data.groupby('group_num'):\n",
    "#         group_data = group_data.reset_index(drop=True)\n",
    "#         submission = group_data.loc[:, ['row_id', 'Target']]\n",
    "#         yield group_data.loc[:, EXPECTED_RAW_COLS + ['row_id']], submission\n"
   ]
  },
  {
   "cell_type": "code",
   "execution_count": 41,
   "id": "ebd7d75b",
   "metadata": {
    "ExecuteTime": {
     "end_time": "2021-12-05T21:54:49.038915Z",
     "start_time": "2021-12-05T21:54:49.008776Z"
    }
   },
   "outputs": [],
   "source": [
    "# raw_test_mask = raw_data['timestamp'].between(valid_data['timestamp'].min(), valid_data['timestamp'].max())\n",
    "# raw_test_df_iter = raw_data[raw_test_mask].reset_index(drop=True)\n",
    "# assert np.allclose(raw_test_df_iter['Target'].dropna(), valid_data['Target'])"
   ]
  },
  {
   "cell_type": "code",
   "execution_count": 42,
   "id": "b6d9147d",
   "metadata": {
    "ExecuteTime": {
     "end_time": "2021-12-05T21:54:49.062994Z",
     "start_time": "2021-12-05T21:54:49.041499Z"
    }
   },
   "outputs": [],
   "source": [
    "# raw_test_df_iter['timestamp'].min()"
   ]
  },
  {
   "cell_type": "code",
   "execution_count": 43,
   "id": "2bad47f0",
   "metadata": {
    "ExecuteTime": {
     "end_time": "2021-12-05T21:54:49.087762Z",
     "start_time": "2021-12-05T21:54:49.065329Z"
    }
   },
   "outputs": [],
   "source": [
    "# test_iter = simulate_kaggle_api(raw_test_df_iter)"
   ]
  },
  {
   "cell_type": "code",
   "execution_count": 44,
   "id": "ed34ddd1",
   "metadata": {
    "ExecuteTime": {
     "end_time": "2021-12-05T21:54:49.114227Z",
     "start_time": "2021-12-05T21:54:49.090799Z"
    }
   },
   "outputs": [],
   "source": [
    "# from src.preprocessing import inference\n",
    "# import time\n",
    "# import sys"
   ]
  },
  {
   "cell_type": "code",
   "execution_count": 45,
   "id": "88baf3ec",
   "metadata": {
    "ExecuteTime": {
     "end_time": "2021-12-05T21:54:49.139227Z",
     "start_time": "2021-12-05T21:54:49.117906Z"
    }
   },
   "outputs": [],
   "source": [
    "# actual_submission = []\n",
    "# elapsed_times = []\n",
    "# i = 0\n",
    "# for raw_test_df, submission in test_iter:\n",
    "#     print('{} days'.format(i/(24 * 60)), end='\\r')\n",
    "#     start_inference_time = time.time()\n",
    "#     submission = inference(test_data=raw_test_df, submission=submission,\n",
    "#                             models=MODELS)\n",
    "#     inference_elapsed_time = time.time() - start_inference_time \n",
    "#     elapsed_times.append(inference_elapsed_time)\n",
    "#     actual_submission.append(submission)\n",
    "#     i+=1\n",
    "#     sys.stdout.flush()"
   ]
  },
  {
   "cell_type": "code",
   "execution_count": 46,
   "id": "24ba5e89",
   "metadata": {
    "ExecuteTime": {
     "end_time": "2021-12-05T21:54:49.162428Z",
     "start_time": "2021-12-05T21:54:49.141833Z"
    }
   },
   "outputs": [],
   "source": [
    "# actual_submission_df = pd.concat(actual_submission, ignore_index=True)"
   ]
  },
  {
   "cell_type": "code",
   "execution_count": 47,
   "id": "cf23ce22",
   "metadata": {
    "ExecuteTime": {
     "end_time": "2021-12-05T21:54:49.192794Z",
     "start_time": "2021-12-05T21:54:49.166210Z"
    }
   },
   "outputs": [],
   "source": [
    "# index_template = raw_test_df_iter[['timestamp', 'Asset_ID']].assign(row_id=np.arange(len(raw_test_df_iter)))"
   ]
  },
  {
   "cell_type": "code",
   "execution_count": 48,
   "id": "eca0b39c",
   "metadata": {
    "ExecuteTime": {
     "end_time": "2021-12-05T21:54:49.219294Z",
     "start_time": "2021-12-05T21:54:49.195152Z"
    }
   },
   "outputs": [],
   "source": [
    "# actual_submission_df = index_template.merge(actual_submission_df, on=['row_id'], how='left')"
   ]
  },
  {
   "cell_type": "code",
   "execution_count": 49,
   "id": "f53e2432",
   "metadata": {
    "ExecuteTime": {
     "end_time": "2021-12-05T21:54:49.247490Z",
     "start_time": "2021-12-05T21:54:49.222324Z"
    }
   },
   "outputs": [],
   "source": [
    "# yhat_test = valid_data[['timestamp', 'Asset_ID', 'yhat']].merge(actual_submission_df, on=['timestamp', 'Asset_ID'], how='left')\n",
    "# yhat_test = yhat_test.dropna()"
   ]
  },
  {
   "cell_type": "code",
   "execution_count": 50,
   "id": "5f5c1f48",
   "metadata": {
    "ExecuteTime": {
     "end_time": "2021-12-05T21:54:49.279670Z",
     "start_time": "2021-12-05T21:54:49.252142Z"
    }
   },
   "outputs": [],
   "source": [
    "# error = (yhat_test['yhat'] -  yhat_test['Target']) / yhat_test['yhat']\n",
    "# error.abs().max()"
   ]
  },
  {
   "cell_type": "code",
   "execution_count": 51,
   "id": "740f2970",
   "metadata": {
    "ExecuteTime": {
     "end_time": "2021-12-05T21:54:49.305199Z",
     "start_time": "2021-12-05T21:54:49.283302Z"
    }
   },
   "outputs": [],
   "source": [
    "# np.allclose(yhat_test['yhat'], yhat_test['Target'])"
   ]
  },
  {
   "cell_type": "code",
   "execution_count": 52,
   "id": "81e9926f",
   "metadata": {
    "ExecuteTime": {
     "end_time": "2021-12-05T21:54:49.327855Z",
     "start_time": "2021-12-05T21:54:49.307293Z"
    }
   },
   "outputs": [],
   "source": [
    "# np.mean(elapsed_times), np.max(elapsed_times)"
   ]
  },
  {
   "cell_type": "code",
   "execution_count": 53,
   "id": "22ec4ac6",
   "metadata": {
    "ExecuteTime": {
     "end_time": "2021-12-05T21:54:49.353961Z",
     "start_time": "2021-12-05T21:54:49.330334Z"
    }
   },
   "outputs": [],
   "source": [
    "# np.sum(elapsed_times) / 60"
   ]
  },
  {
   "cell_type": "code",
   "execution_count": 54,
   "id": "2c8a6ba6",
   "metadata": {
    "ExecuteTime": {
     "end_time": "2021-12-05T21:54:49.377963Z",
     "start_time": "2021-12-05T21:54:49.356384Z"
    }
   },
   "outputs": [],
   "source": [
    "# days = 90\n",
    "# total = 0.06107479883276898 * (days * 24 * 60)\n",
    "# total / 60 / 60"
   ]
  },
  {
   "cell_type": "code",
   "execution_count": null,
   "id": "84568471",
   "metadata": {},
   "outputs": [],
   "source": []
  }
 ],
 "metadata": {
  "kernelspec": {
   "display_name": "Python 3 (ipykernel)",
   "language": "python",
   "name": "python3"
  },
  "language_info": {
   "codemirror_mode": {
    "name": "ipython",
    "version": 3
   },
   "file_extension": ".py",
   "mimetype": "text/x-python",
   "name": "python",
   "nbconvert_exporter": "python",
   "pygments_lexer": "ipython3",
   "version": "3.7.11"
  },
  "toc": {
   "base_numbering": 1,
   "nav_menu": {},
   "number_sections": true,
   "sideBar": true,
   "skip_h1_title": false,
   "title_cell": "Table of Contents",
   "title_sidebar": "Contents",
   "toc_cell": false,
   "toc_position": {},
   "toc_section_display": true,
   "toc_window_display": false
  }
 },
 "nbformat": 4,
 "nbformat_minor": 5
}
