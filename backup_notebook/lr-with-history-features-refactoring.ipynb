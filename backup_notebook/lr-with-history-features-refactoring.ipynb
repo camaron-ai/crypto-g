{
 "cells": [
  {
   "cell_type": "code",
   "execution_count": 1,
   "id": "7942f4a4",
   "metadata": {
    "ExecuteTime": {
     "end_time": "2021-12-03T01:50:01.719927Z",
     "start_time": "2021-12-03T01:50:01.690154Z"
    }
   },
   "outputs": [],
   "source": [
    "%load_ext autoreload\n",
    "%autoreload 2"
   ]
  },
  {
   "cell_type": "code",
   "execution_count": 2,
   "id": "f255bb4e",
   "metadata": {
    "ExecuteTime": {
     "end_time": "2021-12-03T01:50:03.576467Z",
     "start_time": "2021-12-03T01:50:01.723163Z"
    }
   },
   "outputs": [],
   "source": [
    "import pandas as pd\n",
    "import numpy as np\n",
    "from matplotlib import pyplot as plt\n",
    "import seaborn as sns\n",
    "from pathlib import Path\n",
    "import os\n",
    "import sys\n",
    "from IPython.display import display"
   ]
  },
  {
   "cell_type": "code",
   "execution_count": 3,
   "id": "136f5247",
   "metadata": {
    "ExecuteTime": {
     "end_time": "2021-12-03T01:50:03.596950Z",
     "start_time": "2021-12-03T01:50:03.578451Z"
    }
   },
   "outputs": [],
   "source": [
    "def on_kaggle() -> bool:\n",
    "    try:\n",
    "        import gresearch_crypto\n",
    "        return True\n",
    "    except ModuleNotFoundError:\n",
    "        return False"
   ]
  },
  {
   "cell_type": "code",
   "execution_count": 4,
   "id": "432ba6ef",
   "metadata": {
    "ExecuteTime": {
     "end_time": "2021-12-03T01:50:03.626583Z",
     "start_time": "2021-12-03T01:50:03.601281Z"
    }
   },
   "outputs": [],
   "source": [
    "# HYPER PARAMETERS\n",
    "ON_KAGGLE = on_kaggle()\n",
    "SAMPLE_LEVEL = 0\n",
    "FORCE_REWRITE = True"
   ]
  },
  {
   "cell_type": "code",
   "execution_count": 5,
   "id": "3ee2a957",
   "metadata": {
    "ExecuteTime": {
     "end_time": "2021-12-03T01:50:03.653375Z",
     "start_time": "2021-12-03T01:50:03.629694Z"
    }
   },
   "outputs": [],
   "source": [
    "if not ON_KAGGLE and os.path.abspath('.').endswith('notebook'):\n",
    "    os.chdir('../')"
   ]
  },
  {
   "cell_type": "code",
   "execution_count": 6,
   "id": "8acf98ec",
   "metadata": {
    "ExecuteTime": {
     "end_time": "2021-12-03T01:50:03.799325Z",
     "start_time": "2021-12-03T01:50:03.657057Z"
    }
   },
   "outputs": [],
   "source": [
    "#IMPORT_SCRIPT!\n",
    "if not ON_KAGGLE and '.' not in sys.path:\n",
    "    sys.path.append('.')\n",
    "from src.metrics import *\n",
    "from src.data import merge_asset_details\n",
    "from src.cv import TimeSeriesSplit, get_date_range\n",
    "from src.modeling import Evaluator\n",
    "from src.metrics import compute_metrics, compute_correlation\n",
    "from src.pipeline.feature_gen import compute_instant_features\n",
    "from src.data import infer_dtypes\n",
    "from src.pipeline import EXPECTED_RAW_COLS\n",
    "from src.pipeline.transforms import FilterFeatures\n",
    "from src.modeling import Evaluator"
   ]
  },
  {
   "cell_type": "code",
   "execution_count": 7,
   "id": "5dcd141e",
   "metadata": {
    "ExecuteTime": {
     "end_time": "2021-12-03T01:50:03.820889Z",
     "start_time": "2021-12-03T01:50:03.801109Z"
    }
   },
   "outputs": [],
   "source": [
    "def setup_dir(on_kaggle: bool = True, sample_level: int = 0):\n",
    "    if on_kaggle:\n",
    "        data_dir = Path('../input/g-research-crypto-forecasting/')\n",
    "        raw_train_dir = (Path('../input/create-sample-dataset/data/raw/')\n",
    "                         if sample_level > 0 else data_dir) \n",
    "    else:\n",
    "        data_dir = raw_train_dir = Path('data/raw')\n",
    "    \n",
    "    if sample_level > 0:\n",
    "        raw_train_dir = raw_train_dir.joinpath('sample', str(sample_level))\n",
    "    \n",
    "    return data_dir, raw_train_dir"
   ]
  },
  {
   "cell_type": "code",
   "execution_count": 8,
   "id": "fa49be87",
   "metadata": {
    "ExecuteTime": {
     "end_time": "2021-12-03T01:50:03.853385Z",
     "start_time": "2021-12-03T01:50:03.823140Z"
    }
   },
   "outputs": [],
   "source": [
    "DATA_DIR, RAW_TRAIN_DIR = setup_dir(ON_KAGGLE, sample_level=SAMPLE_LEVEL)\n",
    "RAW_TRAIN_PATH = RAW_TRAIN_DIR / 'train.csv'\n",
    "ASSET_DETAILS_PATH = DATA_DIR / 'asset_details.csv'"
   ]
  },
  {
   "cell_type": "code",
   "execution_count": 9,
   "id": "74076be4",
   "metadata": {
    "ExecuteTime": {
     "end_time": "2021-12-03T01:50:03.880710Z",
     "start_time": "2021-12-03T01:50:03.856841Z"
    }
   },
   "outputs": [
    {
     "data": {
      "text/plain": [
       "PosixPath('data/raw')"
      ]
     },
     "execution_count": 9,
     "metadata": {},
     "output_type": "execute_result"
    }
   ],
   "source": [
    "RAW_TRAIN_DIR"
   ]
  },
  {
   "cell_type": "code",
   "execution_count": 10,
   "id": "1d55b22d",
   "metadata": {
    "ExecuteTime": {
     "end_time": "2021-12-03T01:50:03.917130Z",
     "start_time": "2021-12-03T01:50:03.884733Z"
    }
   },
   "outputs": [
    {
     "data": {
      "text/plain": [
       "PosixPath('data/raw')"
      ]
     },
     "execution_count": 10,
     "metadata": {},
     "output_type": "execute_result"
    }
   ],
   "source": [
    "DATA_DIR"
   ]
  },
  {
   "cell_type": "code",
   "execution_count": 11,
   "id": "4b479f0e",
   "metadata": {
    "ExecuteTime": {
     "end_time": "2021-12-03T01:50:33.343853Z",
     "start_time": "2021-12-03T01:50:03.919277Z"
    },
    "scrolled": true
   },
   "outputs": [
    {
     "name": "stdout",
     "output_type": "stream",
     "text": [
      "CPU times: user 21.3 s, sys: 2.62 s, total: 23.9 s\n",
      "Wall time: 29.4 s\n"
     ]
    }
   ],
   "source": [
    "%%time \n",
    "raw_data = pd.read_csv(RAW_TRAIN_PATH)"
   ]
  },
  {
   "cell_type": "markdown",
   "id": "d5c53d2f",
   "metadata": {},
   "source": [
    "## create train set"
   ]
  },
  {
   "cell_type": "code",
   "execution_count": 12,
   "id": "9313bf55",
   "metadata": {
    "ExecuteTime": {
     "end_time": "2021-12-03T01:50:33.363940Z",
     "start_time": "2021-12-03T01:50:33.346361Z"
    }
   },
   "outputs": [],
   "source": [
    "PREPRO_PARAMS = {'window': 60}\n",
    "MAIN_INDEX = ['timestamp', 'Asset_ID']"
   ]
  },
  {
   "cell_type": "code",
   "execution_count": 13,
   "id": "ddebc9cc",
   "metadata": {
    "ExecuteTime": {
     "end_time": "2021-12-03T01:50:47.454784Z",
     "start_time": "2021-12-03T01:50:33.366215Z"
    }
   },
   "outputs": [
    {
     "name": "stderr",
     "output_type": "stream",
     "text": [
      "/home/med/anaconda3/envs/crypto-g/lib/python3.7/site-packages/ipykernel_launcher.py:4: SettingWithCopyWarning: \n",
      "A value is trying to be set on a copy of a slice from a DataFrame.\n",
      "Try using .loc[row_indexer,col_indexer] = value instead\n",
      "\n",
      "See the caveats in the documentation: https://pandas.pydata.org/pandas-docs/stable/user_guide/indexing.html#returning-a-view-versus-a-copy\n",
      "  after removing the cwd from sys.path.\n"
     ]
    }
   ],
   "source": [
    "# get valid data only, drop where the target is NaN \n",
    "data = raw_data.dropna(subset=['Target'])\n",
    "# format time to human readable \n",
    "data['time'] = pd.to_datetime(data['timestamp'], unit='s')\n",
    "# merge asset names\n",
    "data = merge_asset_details(data, ASSET_DETAILS_PATH)"
   ]
  },
  {
   "cell_type": "code",
   "execution_count": 14,
   "id": "3c771517",
   "metadata": {
    "ExecuteTime": {
     "end_time": "2021-12-03T01:50:47.503910Z",
     "start_time": "2021-12-03T01:50:47.457025Z"
    }
   },
   "outputs": [
    {
     "data": {
      "text/html": [
       "<div>\n",
       "<style scoped>\n",
       "    .dataframe tbody tr th:only-of-type {\n",
       "        vertical-align: middle;\n",
       "    }\n",
       "\n",
       "    .dataframe tbody tr th {\n",
       "        vertical-align: top;\n",
       "    }\n",
       "\n",
       "    .dataframe thead th {\n",
       "        text-align: right;\n",
       "    }\n",
       "</style>\n",
       "<table border=\"1\" class=\"dataframe\">\n",
       "  <thead>\n",
       "    <tr style=\"text-align: right;\">\n",
       "      <th></th>\n",
       "      <th>timestamp</th>\n",
       "      <th>Asset_ID</th>\n",
       "      <th>Count</th>\n",
       "      <th>Open</th>\n",
       "      <th>High</th>\n",
       "      <th>Low</th>\n",
       "      <th>Close</th>\n",
       "      <th>Volume</th>\n",
       "      <th>VWAP</th>\n",
       "      <th>Target</th>\n",
       "      <th>time</th>\n",
       "      <th>Asset_Name</th>\n",
       "    </tr>\n",
       "  </thead>\n",
       "  <tbody>\n",
       "    <tr>\n",
       "      <th>0</th>\n",
       "      <td>1514764860</td>\n",
       "      <td>2</td>\n",
       "      <td>40.0</td>\n",
       "      <td>2376.5800</td>\n",
       "      <td>2399.5000</td>\n",
       "      <td>2357.1400</td>\n",
       "      <td>2374.5900</td>\n",
       "      <td>19.233005</td>\n",
       "      <td>2373.116392</td>\n",
       "      <td>-0.004218</td>\n",
       "      <td>2018-01-01 00:01:00</td>\n",
       "      <td>Bitcoin Cash</td>\n",
       "    </tr>\n",
       "    <tr>\n",
       "      <th>1</th>\n",
       "      <td>1514764860</td>\n",
       "      <td>0</td>\n",
       "      <td>5.0</td>\n",
       "      <td>8.5300</td>\n",
       "      <td>8.5300</td>\n",
       "      <td>8.5300</td>\n",
       "      <td>8.5300</td>\n",
       "      <td>78.380000</td>\n",
       "      <td>8.530000</td>\n",
       "      <td>-0.014399</td>\n",
       "      <td>2018-01-01 00:01:00</td>\n",
       "      <td>Binance Coin</td>\n",
       "    </tr>\n",
       "    <tr>\n",
       "      <th>2</th>\n",
       "      <td>1514764860</td>\n",
       "      <td>1</td>\n",
       "      <td>229.0</td>\n",
       "      <td>13835.1940</td>\n",
       "      <td>14013.8000</td>\n",
       "      <td>13666.1100</td>\n",
       "      <td>13850.1760</td>\n",
       "      <td>31.550062</td>\n",
       "      <td>13827.062093</td>\n",
       "      <td>-0.014643</td>\n",
       "      <td>2018-01-01 00:01:00</td>\n",
       "      <td>Bitcoin</td>\n",
       "    </tr>\n",
       "    <tr>\n",
       "      <th>3</th>\n",
       "      <td>1514764860</td>\n",
       "      <td>5</td>\n",
       "      <td>32.0</td>\n",
       "      <td>7.6596</td>\n",
       "      <td>7.6596</td>\n",
       "      <td>7.6567</td>\n",
       "      <td>7.6576</td>\n",
       "      <td>6626.713370</td>\n",
       "      <td>7.657713</td>\n",
       "      <td>-0.013922</td>\n",
       "      <td>2018-01-01 00:01:00</td>\n",
       "      <td>EOS.IO</td>\n",
       "    </tr>\n",
       "    <tr>\n",
       "      <th>4</th>\n",
       "      <td>1514764860</td>\n",
       "      <td>7</td>\n",
       "      <td>5.0</td>\n",
       "      <td>25.9200</td>\n",
       "      <td>25.9200</td>\n",
       "      <td>25.8740</td>\n",
       "      <td>25.8770</td>\n",
       "      <td>121.087310</td>\n",
       "      <td>25.891363</td>\n",
       "      <td>-0.008264</td>\n",
       "      <td>2018-01-01 00:01:00</td>\n",
       "      <td>Ethereum Classic</td>\n",
       "    </tr>\n",
       "  </tbody>\n",
       "</table>\n",
       "</div>"
      ],
      "text/plain": [
       "    timestamp  Asset_ID  Count        Open        High         Low  \\\n",
       "0  1514764860         2   40.0   2376.5800   2399.5000   2357.1400   \n",
       "1  1514764860         0    5.0      8.5300      8.5300      8.5300   \n",
       "2  1514764860         1  229.0  13835.1940  14013.8000  13666.1100   \n",
       "3  1514764860         5   32.0      7.6596      7.6596      7.6567   \n",
       "4  1514764860         7    5.0     25.9200     25.9200     25.8740   \n",
       "\n",
       "        Close       Volume          VWAP    Target                time  \\\n",
       "0   2374.5900    19.233005   2373.116392 -0.004218 2018-01-01 00:01:00   \n",
       "1      8.5300    78.380000      8.530000 -0.014399 2018-01-01 00:01:00   \n",
       "2  13850.1760    31.550062  13827.062093 -0.014643 2018-01-01 00:01:00   \n",
       "3      7.6576  6626.713370      7.657713 -0.013922 2018-01-01 00:01:00   \n",
       "4     25.8770   121.087310     25.891363 -0.008264 2018-01-01 00:01:00   \n",
       "\n",
       "         Asset_Name  \n",
       "0      Bitcoin Cash  \n",
       "1      Binance Coin  \n",
       "2           Bitcoin  \n",
       "3            EOS.IO  \n",
       "4  Ethereum Classic  "
      ]
     },
     "execution_count": 14,
     "metadata": {},
     "output_type": "execute_result"
    }
   ],
   "source": [
    "data.head()"
   ]
  },
  {
   "cell_type": "code",
   "execution_count": 15,
   "id": "e37a820f",
   "metadata": {
    "ExecuteTime": {
     "end_time": "2021-12-03T01:50:47.607032Z",
     "start_time": "2021-12-03T01:50:47.506153Z"
    }
   },
   "outputs": [
    {
     "data": {
      "text/html": [
       "<div>\n",
       "<style scoped>\n",
       "    .dataframe tbody tr th:only-of-type {\n",
       "        vertical-align: middle;\n",
       "    }\n",
       "\n",
       "    .dataframe tbody tr th {\n",
       "        vertical-align: top;\n",
       "    }\n",
       "\n",
       "    .dataframe thead th {\n",
       "        text-align: right;\n",
       "    }\n",
       "</style>\n",
       "<table border=\"1\" class=\"dataframe\">\n",
       "  <thead>\n",
       "    <tr style=\"text-align: right;\">\n",
       "      <th></th>\n",
       "      <th>timestamp</th>\n",
       "      <th>Asset_ID</th>\n",
       "      <th>Count</th>\n",
       "      <th>Open</th>\n",
       "      <th>High</th>\n",
       "      <th>Low</th>\n",
       "      <th>Close</th>\n",
       "      <th>Volume</th>\n",
       "      <th>VWAP</th>\n",
       "      <th>Target</th>\n",
       "      <th>time</th>\n",
       "      <th>Asset_Name</th>\n",
       "    </tr>\n",
       "  </thead>\n",
       "  <tbody>\n",
       "    <tr>\n",
       "      <th>23486463</th>\n",
       "      <td>1632181440</td>\n",
       "      <td>9</td>\n",
       "      <td>163.0</td>\n",
       "      <td>156.502000</td>\n",
       "      <td>156.620000</td>\n",
       "      <td>156.000000</td>\n",
       "      <td>156.075667</td>\n",
       "      <td>7.381963e+02</td>\n",
       "      <td>156.260253</td>\n",
       "      <td>-0.001154</td>\n",
       "      <td>2021-09-20 23:44:00</td>\n",
       "      <td>Litecoin</td>\n",
       "    </tr>\n",
       "    <tr>\n",
       "      <th>23486464</th>\n",
       "      <td>1632181440</td>\n",
       "      <td>10</td>\n",
       "      <td>23.0</td>\n",
       "      <td>2420.146667</td>\n",
       "      <td>2421.000000</td>\n",
       "      <td>2412.779000</td>\n",
       "      <td>2414.069667</td>\n",
       "      <td>1.315794e+00</td>\n",
       "      <td>2417.326038</td>\n",
       "      <td>0.009831</td>\n",
       "      <td>2021-09-20 23:44:00</td>\n",
       "      <td>Maker</td>\n",
       "    </tr>\n",
       "    <tr>\n",
       "      <th>23486465</th>\n",
       "      <td>1632181440</td>\n",
       "      <td>13</td>\n",
       "      <td>512.0</td>\n",
       "      <td>0.090989</td>\n",
       "      <td>0.091133</td>\n",
       "      <td>0.090831</td>\n",
       "      <td>0.090885</td>\n",
       "      <td>1.900695e+06</td>\n",
       "      <td>0.090943</td>\n",
       "      <td>0.004163</td>\n",
       "      <td>2021-09-20 23:44:00</td>\n",
       "      <td>TRON</td>\n",
       "    </tr>\n",
       "    <tr>\n",
       "      <th>23486466</th>\n",
       "      <td>1632181440</td>\n",
       "      <td>12</td>\n",
       "      <td>193.0</td>\n",
       "      <td>0.280952</td>\n",
       "      <td>0.281300</td>\n",
       "      <td>0.280175</td>\n",
       "      <td>0.280403</td>\n",
       "      <td>1.628699e+05</td>\n",
       "      <td>0.280655</td>\n",
       "      <td>0.000449</td>\n",
       "      <td>2021-09-20 23:44:00</td>\n",
       "      <td>Stellar</td>\n",
       "    </tr>\n",
       "    <tr>\n",
       "      <th>23486467</th>\n",
       "      <td>1632181440</td>\n",
       "      <td>11</td>\n",
       "      <td>38.0</td>\n",
       "      <td>232.075000</td>\n",
       "      <td>232.300000</td>\n",
       "      <td>231.310000</td>\n",
       "      <td>231.680000</td>\n",
       "      <td>4.914804e+01</td>\n",
       "      <td>231.794078</td>\n",
       "      <td>0.002568</td>\n",
       "      <td>2021-09-20 23:44:00</td>\n",
       "      <td>Monero</td>\n",
       "    </tr>\n",
       "  </tbody>\n",
       "</table>\n",
       "</div>"
      ],
      "text/plain": [
       "           timestamp  Asset_ID  Count         Open         High          Low  \\\n",
       "23486463  1632181440         9  163.0   156.502000   156.620000   156.000000   \n",
       "23486464  1632181440        10   23.0  2420.146667  2421.000000  2412.779000   \n",
       "23486465  1632181440        13  512.0     0.090989     0.091133     0.090831   \n",
       "23486466  1632181440        12  193.0     0.280952     0.281300     0.280175   \n",
       "23486467  1632181440        11   38.0   232.075000   232.300000   231.310000   \n",
       "\n",
       "                Close        Volume         VWAP    Target  \\\n",
       "23486463   156.075667  7.381963e+02   156.260253 -0.001154   \n",
       "23486464  2414.069667  1.315794e+00  2417.326038  0.009831   \n",
       "23486465     0.090885  1.900695e+06     0.090943  0.004163   \n",
       "23486466     0.280403  1.628699e+05     0.280655  0.000449   \n",
       "23486467   231.680000  4.914804e+01   231.794078  0.002568   \n",
       "\n",
       "                        time Asset_Name  \n",
       "23486463 2021-09-20 23:44:00   Litecoin  \n",
       "23486464 2021-09-20 23:44:00      Maker  \n",
       "23486465 2021-09-20 23:44:00       TRON  \n",
       "23486466 2021-09-20 23:44:00    Stellar  \n",
       "23486467 2021-09-20 23:44:00     Monero  "
      ]
     },
     "execution_count": 15,
     "metadata": {},
     "output_type": "execute_result"
    }
   ],
   "source": [
    "data.tail()"
   ]
  },
  {
   "cell_type": "code",
   "execution_count": 16,
   "id": "a5631261",
   "metadata": {
    "ExecuteTime": {
     "end_time": "2021-12-03T01:51:01.115313Z",
     "start_time": "2021-12-03T01:50:47.610874Z"
    }
   },
   "outputs": [],
   "source": [
    "data = infer_dtypes(data)"
   ]
  },
  {
   "cell_type": "code",
   "execution_count": 17,
   "id": "5c298ad8",
   "metadata": {
    "ExecuteTime": {
     "end_time": "2021-12-03T01:51:07.159430Z",
     "start_time": "2021-12-03T01:51:01.132341Z"
    }
   },
   "outputs": [],
   "source": [
    "data = compute_instant_features(data)"
   ]
  },
  {
   "cell_type": "code",
   "execution_count": 18,
   "id": "0980f752",
   "metadata": {
    "ExecuteTime": {
     "end_time": "2021-12-03T01:51:07.207916Z",
     "start_time": "2021-12-03T01:51:07.161462Z"
    }
   },
   "outputs": [
    {
     "data": {
      "text/html": [
       "<div>\n",
       "<style scoped>\n",
       "    .dataframe tbody tr th:only-of-type {\n",
       "        vertical-align: middle;\n",
       "    }\n",
       "\n",
       "    .dataframe tbody tr th {\n",
       "        vertical-align: top;\n",
       "    }\n",
       "\n",
       "    .dataframe thead th {\n",
       "        text-align: right;\n",
       "    }\n",
       "</style>\n",
       "<table border=\"1\" class=\"dataframe\">\n",
       "  <thead>\n",
       "    <tr style=\"text-align: right;\">\n",
       "      <th></th>\n",
       "      <th>timestamp</th>\n",
       "      <th>Asset_ID</th>\n",
       "      <th>Count</th>\n",
       "      <th>High</th>\n",
       "      <th>Low</th>\n",
       "      <th>Close</th>\n",
       "      <th>Volume</th>\n",
       "      <th>VWAP</th>\n",
       "      <th>Target</th>\n",
       "      <th>time</th>\n",
       "      <th>Asset_Name</th>\n",
       "      <th>high_low_return</th>\n",
       "      <th>open_close_return</th>\n",
       "      <th>upper_shadow</th>\n",
       "      <th>lower_shadow</th>\n",
       "      <th>dolar_amount</th>\n",
       "      <th>vol_per_trades</th>\n",
       "    </tr>\n",
       "  </thead>\n",
       "  <tbody>\n",
       "    <tr>\n",
       "      <th>0</th>\n",
       "      <td>1514764860</td>\n",
       "      <td>2</td>\n",
       "      <td>40.0</td>\n",
       "      <td>1.009644</td>\n",
       "      <td>0.991820</td>\n",
       "      <td>2374.590088</td>\n",
       "      <td>19.233005</td>\n",
       "      <td>2373.116455</td>\n",
       "      <td>-0.004218</td>\n",
       "      <td>2018-01-01 00:01:00</td>\n",
       "      <td>Bitcoin Cash</td>\n",
       "      <td>0.702093</td>\n",
       "      <td>0.692728</td>\n",
       "      <td>0.000425</td>\n",
       "      <td>2394.174316</td>\n",
       "      <td>45670.503485</td>\n",
       "      <td>0.480825</td>\n",
       "    </tr>\n",
       "    <tr>\n",
       "      <th>1</th>\n",
       "      <td>1514764860</td>\n",
       "      <td>0</td>\n",
       "      <td>5.0</td>\n",
       "      <td>1.000000</td>\n",
       "      <td>1.000000</td>\n",
       "      <td>8.530000</td>\n",
       "      <td>78.380000</td>\n",
       "      <td>8.530000</td>\n",
       "      <td>-0.014399</td>\n",
       "      <td>2018-01-01 00:01:00</td>\n",
       "      <td>Binance Coin</td>\n",
       "      <td>0.693147</td>\n",
       "      <td>0.693147</td>\n",
       "      <td>0.117233</td>\n",
       "      <td>8.530000</td>\n",
       "      <td>668.581379</td>\n",
       "      <td>15.676000</td>\n",
       "    </tr>\n",
       "    <tr>\n",
       "      <th>2</th>\n",
       "      <td>1514764860</td>\n",
       "      <td>1</td>\n",
       "      <td>229.0</td>\n",
       "      <td>1.012910</td>\n",
       "      <td>0.987779</td>\n",
       "      <td>13850.175781</td>\n",
       "      <td>31.550062</td>\n",
       "      <td>13827.062500</td>\n",
       "      <td>-0.014643</td>\n",
       "      <td>2018-01-01 00:01:00</td>\n",
       "      <td>Bitcoin</td>\n",
       "      <td>0.705788</td>\n",
       "      <td>0.693689</td>\n",
       "      <td>0.000073</td>\n",
       "      <td>14006.370117</td>\n",
       "      <td>436973.897961</td>\n",
       "      <td>0.137773</td>\n",
       "    </tr>\n",
       "    <tr>\n",
       "      <th>3</th>\n",
       "      <td>1514764860</td>\n",
       "      <td>5</td>\n",
       "      <td>32.0</td>\n",
       "      <td>1.000000</td>\n",
       "      <td>0.999621</td>\n",
       "      <td>7.657600</td>\n",
       "      <td>6626.713370</td>\n",
       "      <td>7.657713</td>\n",
       "      <td>-0.013922</td>\n",
       "      <td>2018-01-01 00:01:00</td>\n",
       "      <td>EOS.IO</td>\n",
       "      <td>0.693337</td>\n",
       "      <td>0.693017</td>\n",
       "      <td>0.130555</td>\n",
       "      <td>7.660500</td>\n",
       "      <td>50744.719811</td>\n",
       "      <td>207.084793</td>\n",
       "    </tr>\n",
       "    <tr>\n",
       "      <th>4</th>\n",
       "      <td>1514764860</td>\n",
       "      <td>7</td>\n",
       "      <td>5.0</td>\n",
       "      <td>1.000000</td>\n",
       "      <td>0.998225</td>\n",
       "      <td>25.877001</td>\n",
       "      <td>121.087310</td>\n",
       "      <td>25.891363</td>\n",
       "      <td>-0.008264</td>\n",
       "      <td>2018-01-01 00:01:00</td>\n",
       "      <td>Ethereum Classic</td>\n",
       "      <td>0.694036</td>\n",
       "      <td>0.692317</td>\n",
       "      <td>0.038580</td>\n",
       "      <td>25.923006</td>\n",
       "      <td>3133.376419</td>\n",
       "      <td>24.217462</td>\n",
       "    </tr>\n",
       "  </tbody>\n",
       "</table>\n",
       "</div>"
      ],
      "text/plain": [
       "    timestamp  Asset_ID  Count      High       Low         Close       Volume  \\\n",
       "0  1514764860         2   40.0  1.009644  0.991820   2374.590088    19.233005   \n",
       "1  1514764860         0    5.0  1.000000  1.000000      8.530000    78.380000   \n",
       "2  1514764860         1  229.0  1.012910  0.987779  13850.175781    31.550062   \n",
       "3  1514764860         5   32.0  1.000000  0.999621      7.657600  6626.713370   \n",
       "4  1514764860         7    5.0  1.000000  0.998225     25.877001   121.087310   \n",
       "\n",
       "           VWAP    Target                time        Asset_Name  \\\n",
       "0   2373.116455 -0.004218 2018-01-01 00:01:00      Bitcoin Cash   \n",
       "1      8.530000 -0.014399 2018-01-01 00:01:00      Binance Coin   \n",
       "2  13827.062500 -0.014643 2018-01-01 00:01:00           Bitcoin   \n",
       "3      7.657713 -0.013922 2018-01-01 00:01:00            EOS.IO   \n",
       "4     25.891363 -0.008264 2018-01-01 00:01:00  Ethereum Classic   \n",
       "\n",
       "   high_low_return  open_close_return  upper_shadow  lower_shadow  \\\n",
       "0         0.702093           0.692728      0.000425   2394.174316   \n",
       "1         0.693147           0.693147      0.117233      8.530000   \n",
       "2         0.705788           0.693689      0.000073  14006.370117   \n",
       "3         0.693337           0.693017      0.130555      7.660500   \n",
       "4         0.694036           0.692317      0.038580     25.923006   \n",
       "\n",
       "    dolar_amount  vol_per_trades  \n",
       "0   45670.503485        0.480825  \n",
       "1     668.581379       15.676000  \n",
       "2  436973.897961        0.137773  \n",
       "3   50744.719811      207.084793  \n",
       "4    3133.376419       24.217462  "
      ]
     },
     "execution_count": 18,
     "metadata": {},
     "output_type": "execute_result"
    }
   ],
   "source": [
    "data.head()"
   ]
  },
  {
   "cell_type": "code",
   "execution_count": 19,
   "id": "38377d6e",
   "metadata": {
    "ExecuteTime": {
     "end_time": "2021-12-03T01:51:08.454363Z",
     "start_time": "2021-12-03T01:51:07.210516Z"
    }
   },
   "outputs": [
    {
     "data": {
      "text/plain": [
       "timestamp            0.000000e+00\n",
       "Asset_ID             0.000000e+00\n",
       "Count                0.000000e+00\n",
       "High                 0.000000e+00\n",
       "Low                  0.000000e+00\n",
       "Close                0.000000e+00\n",
       "Volume               0.000000e+00\n",
       "VWAP                 3.831994e-07\n",
       "Target               0.000000e+00\n",
       "time                 0.000000e+00\n",
       "Asset_Name           0.000000e+00\n",
       "high_low_return      0.000000e+00\n",
       "open_close_return    0.000000e+00\n",
       "upper_shadow         0.000000e+00\n",
       "lower_shadow         0.000000e+00\n",
       "dolar_amount         0.000000e+00\n",
       "vol_per_trades       0.000000e+00\n",
       "dtype: float64"
      ]
     },
     "execution_count": 19,
     "metadata": {},
     "output_type": "execute_result"
    }
   ],
   "source": [
    "data.isna().mean()"
   ]
  },
  {
   "cell_type": "code",
   "execution_count": 20,
   "id": "c03e3a4a",
   "metadata": {
    "ExecuteTime": {
     "end_time": "2021-12-03T01:51:08.586863Z",
     "start_time": "2021-12-03T01:51:08.456953Z"
    }
   },
   "outputs": [],
   "source": [
    "data.fillna({'VWAP': data['VWAP'].mean()}, inplace=True)"
   ]
  },
  {
   "cell_type": "code",
   "execution_count": 21,
   "id": "25363b40",
   "metadata": {
    "ExecuteTime": {
     "end_time": "2021-12-03T01:51:09.877644Z",
     "start_time": "2021-12-03T01:51:08.590537Z"
    }
   },
   "outputs": [
    {
     "data": {
      "text/plain": [
       "timestamp            0.0\n",
       "Asset_ID             0.0\n",
       "Count                0.0\n",
       "High                 0.0\n",
       "Low                  0.0\n",
       "Close                0.0\n",
       "Volume               0.0\n",
       "VWAP                 0.0\n",
       "Target               0.0\n",
       "time                 0.0\n",
       "Asset_Name           0.0\n",
       "high_low_return      0.0\n",
       "open_close_return    0.0\n",
       "upper_shadow         0.0\n",
       "lower_shadow         0.0\n",
       "dolar_amount         0.0\n",
       "vol_per_trades       0.0\n",
       "dtype: float64"
      ]
     },
     "execution_count": 21,
     "metadata": {},
     "output_type": "execute_result"
    }
   ],
   "source": [
    "data.isna().mean()"
   ]
  },
  {
   "cell_type": "code",
   "execution_count": 22,
   "id": "b44d5f1a",
   "metadata": {
    "ExecuteTime": {
     "end_time": "2021-12-03T01:51:09.898073Z",
     "start_time": "2021-12-03T01:51:09.880257Z"
    }
   },
   "outputs": [
    {
     "data": {
      "text/plain": [
       "['timestamp',\n",
       " 'Asset_ID',\n",
       " 'Count',\n",
       " 'High',\n",
       " 'Low',\n",
       " 'Close',\n",
       " 'Volume',\n",
       " 'VWAP',\n",
       " 'Target',\n",
       " 'time',\n",
       " 'Asset_Name',\n",
       " 'high_low_return',\n",
       " 'open_close_return',\n",
       " 'upper_shadow',\n",
       " 'lower_shadow',\n",
       " 'dolar_amount',\n",
       " 'vol_per_trades']"
      ]
     },
     "execution_count": 22,
     "metadata": {},
     "output_type": "execute_result"
    }
   ],
   "source": [
    "list(data.columns)"
   ]
  },
  {
   "cell_type": "code",
   "execution_count": 23,
   "id": "ee6b551d",
   "metadata": {
    "ExecuteTime": {
     "end_time": "2021-12-03T01:51:09.947913Z",
     "start_time": "2021-12-03T01:51:09.900304Z"
    }
   },
   "outputs": [],
   "source": [
    "FEATURES = [\n",
    "'Count',\n",
    "'High',\n",
    "'Low',\n",
    "'Close',\n",
    "'Volume',\n",
    "'VWAP',\n",
    "'high_low_return',\n",
    "'open_close_return',\n",
    "'upper_shadow',\n",
    "'lower_shadow',\n",
    "'dolar_amount',\n",
    "'vol_per_trades'\n",
    "]"
   ]
  },
  {
   "cell_type": "code",
   "execution_count": 24,
   "id": "4fcd4e69",
   "metadata": {
    "ExecuteTime": {
     "end_time": "2021-12-03T01:51:10.109345Z",
     "start_time": "2021-12-03T01:51:09.949951Z"
    }
   },
   "outputs": [],
   "source": [
    "from sklearn.linear_model import LogisticRegression, LinearRegression, Lasso, Ridge\n",
    "from sklearn.preprocessing import MinMaxScaler, FunctionTransformer\n",
    "from sklearn.pipeline import Pipeline\n",
    "\n",
    "def build_model(params={'alpha': 0.001}):\n",
    "    model = Pipeline([('filter', FilterFeatures(FEATURES)),\n",
    "                      ('norm', MinMaxScaler()),\n",
    "                      ('model', Ridge(params['alpha'], random_state=1))])\n",
    "    return model"
   ]
  },
  {
   "cell_type": "code",
   "execution_count": 25,
   "id": "d2c9a4b9",
   "metadata": {
    "ExecuteTime": {
     "end_time": "2021-12-03T01:51:10.134124Z",
     "start_time": "2021-12-03T01:51:10.112226Z"
    }
   },
   "outputs": [],
   "source": [
    "def train_model(config, train_data, valid_data, pipeline=None):\n",
    "    model  = build_model(config['model'])\n",
    "\n",
    "    if config['training']['time_decay_alpha'] is not None:\n",
    "        time_decay_alpha = config['training']['time_decay_alpha']\n",
    "        print(f'using exponential_time_decay with alpha {time_decay_alpha}')\n",
    "        timesteps = ((train_data['timestamp'].max() - train_data['timestamp'])//60//60//24)\n",
    "        weight = time_decay_alpha ** timesteps\n",
    "    else:\n",
    "        weight = None\n",
    "\n",
    "    model.fit(train_data, train_data['Target'], model__sample_weight=weight)\n",
    "    return model\n",
    "\n",
    "\n",
    "def get_mask_for_asset(data: pd.DataFrame, asset_id: int):\n",
    "    return (data['Asset_ID'] == asset_id)\n",
    "\n",
    "\n",
    "def get_data_for_asset(data: pd.DataFrame, asset_id: int):\n",
    "    mask = get_mask_for_asset(data, asset_id)\n",
    "    return data.loc[mask, :].reset_index(drop=True)"
   ]
  },
  {
   "cell_type": "code",
   "execution_count": 26,
   "id": "5fec683f",
   "metadata": {
    "ExecuteTime": {
     "end_time": "2021-12-03T01:51:10.196884Z",
     "start_time": "2021-12-03T01:51:10.135953Z"
    }
   },
   "outputs": [],
   "source": [
    "PRIVATE_LB_RANGE = [['2020-01-01', '2020-04-01']]\n",
    "PULIC_LB_RANGE = ['2021-06-13',\n",
    "                  '2021-09-13'] # 3 MONTH WORTH OF DATA\n",
    "\n",
    "\n",
    "if SAMPLE_LEVEL==2:\n",
    "    EVAL_PERIODS = [['2021-09-11', '2021-09-13']]\n",
    "elif SAMPLE_LEVEL == 1:\n",
    "    EVAL_PERIODS = [PULIC_LB_RANGE]\n",
    "else:\n",
    "    EVAL_PERIODS =  [\n",
    "                     ['2020-01-01', '2020-04-01'],\n",
    "                     ['2020-09-01', '2021-01-01'],\n",
    "                     ['2021-01-01', '2021-04-01'],\n",
    "                     ['2021-04-01', '2021-07-01']\n",
    "                     ]"
   ]
  },
  {
   "cell_type": "code",
   "execution_count": 27,
   "id": "8825b90a",
   "metadata": {
    "ExecuteTime": {
     "end_time": "2021-12-03T01:51:10.235310Z",
     "start_time": "2021-12-03T01:51:10.198980Z"
    }
   },
   "outputs": [
    {
     "data": {
      "text/plain": [
       "[['2020-01-01', '2020-04-01'],\n",
       " ['2020-09-01', '2021-01-01'],\n",
       " ['2021-01-01', '2021-04-01'],\n",
       " ['2021-04-01', '2021-07-01']]"
      ]
     },
     "execution_count": 27,
     "metadata": {},
     "output_type": "execute_result"
    }
   ],
   "source": [
    "EVAL_PERIODS"
   ]
  },
  {
   "cell_type": "code",
   "execution_count": 28,
   "id": "b8fa6271",
   "metadata": {
    "ExecuteTime": {
     "end_time": "2021-12-03T01:51:10.274201Z",
     "start_time": "2021-12-03T01:51:10.242951Z"
    }
   },
   "outputs": [],
   "source": [
    "CV_PARAMS = {'gap_unit': 'min', 'dt_col': 'time'}\n",
    "\n",
    "CV = TimeSeriesSplit(EVAL_PERIODS, **CV_PARAMS)"
   ]
  },
  {
   "cell_type": "code",
   "execution_count": 29,
   "id": "9b9ff7dd",
   "metadata": {
    "ExecuteTime": {
     "end_time": "2021-12-03T01:51:10.316991Z",
     "start_time": "2021-12-03T01:51:10.276716Z"
    }
   },
   "outputs": [],
   "source": [
    "def _create_fi_pd(features, importances):\n",
    "    return (pd.DataFrame({'feature': features, 'importance': importances})\n",
    "            .sort_values(by=['importance']).reset_index(drop=True))\n",
    "\n",
    "def compute_fi(config, model, valid_data):\n",
    "    return _create_fi_pd(model['filter'].features, model['model'].coef_)"
   ]
  },
  {
   "cell_type": "code",
   "execution_count": 30,
   "id": "f18e1947",
   "metadata": {
    "ExecuteTime": {
     "end_time": "2021-12-03T01:51:10.344550Z",
     "start_time": "2021-12-03T01:51:10.318886Z"
    }
   },
   "outputs": [],
   "source": [
    "evaluator = Evaluator(cv=CV, fi_fn=compute_fi)"
   ]
  },
  {
   "cell_type": "code",
   "execution_count": 31,
   "id": "02d2cccd",
   "metadata": {
    "ExecuteTime": {
     "end_time": "2021-12-03T01:51:10.366298Z",
     "start_time": "2021-12-03T01:51:10.346717Z"
    }
   },
   "outputs": [],
   "source": [
    "MODEL_CONFIG = {'alpha': 0.001}\n",
    "TRAIN_CONFIG = {'time_decay_alpha': 0.99}\n",
    "CONFIG = {'model': MODEL_CONFIG, 'training': TRAIN_CONFIG}"
   ]
  },
  {
   "cell_type": "code",
   "execution_count": 32,
   "id": "f1336618",
   "metadata": {
    "ExecuteTime": {
     "end_time": "2021-12-03T01:51:55.939327Z",
     "start_time": "2021-12-03T01:51:10.368223Z"
    },
    "scrolled": true
   },
   "outputs": [
    {
     "name": "stdout",
     "output_type": "stream",
     "text": [
      "fold=0\n",
      "using exponential_time_decay with alpha 0.99\n",
      "elapsed time: 0.0089\n",
      "fold=1\n",
      "using exponential_time_decay with alpha 0.99\n",
      "elapsed time: 0.0107\n",
      "fold=2\n",
      "using exponential_time_decay with alpha 0.99\n",
      "elapsed time: 0.0108\n",
      "fold=3\n",
      "using exponential_time_decay with alpha 0.99\n",
      "elapsed time: 0.0120\n",
      "fold=0\n",
      "using exponential_time_decay with alpha 0.99\n",
      "elapsed time: 0.0067\n",
      "fold=1\n",
      "using exponential_time_decay with alpha 0.99\n",
      "elapsed time: 0.0092\n",
      "fold=2\n",
      "using exponential_time_decay with alpha 0.99\n",
      "elapsed time: 0.0111\n",
      "fold=3\n",
      "using exponential_time_decay with alpha 0.99\n",
      "elapsed time: 0.0114\n",
      "fold=0\n",
      "using exponential_time_decay with alpha 0.99\n",
      "elapsed time: 0.0067\n",
      "fold=1\n",
      "using exponential_time_decay with alpha 0.99\n",
      "elapsed time: 0.0099\n",
      "fold=2\n",
      "using exponential_time_decay with alpha 0.99\n",
      "elapsed time: 0.0104\n",
      "fold=3\n",
      "using exponential_time_decay with alpha 0.99\n",
      "elapsed time: 0.0114\n",
      "fold=0\n",
      "using exponential_time_decay with alpha 0.99\n",
      "elapsed time: 0.0068\n",
      "fold=1\n",
      "using exponential_time_decay with alpha 0.99\n",
      "elapsed time: 0.0104\n",
      "fold=2\n",
      "using exponential_time_decay with alpha 0.99\n",
      "elapsed time: 0.0104\n",
      "fold=3\n",
      "using exponential_time_decay with alpha 0.99\n",
      "elapsed time: 0.0112\n",
      "fold=0\n",
      "using exponential_time_decay with alpha 0.99\n",
      "elapsed time: 0.0068\n",
      "fold=1\n",
      "using exponential_time_decay with alpha 0.99\n",
      "elapsed time: 0.0092\n",
      "fold=2\n",
      "using exponential_time_decay with alpha 0.99\n",
      "elapsed time: 0.0115\n",
      "fold=3\n",
      "using exponential_time_decay with alpha 0.99\n",
      "elapsed time: 0.0124\n",
      "fold=0\n",
      "using exponential_time_decay with alpha 0.99\n",
      "elapsed time: 0.0071\n",
      "fold=1\n",
      "using exponential_time_decay with alpha 0.99\n",
      "elapsed time: 0.0100\n",
      "fold=2\n",
      "using exponential_time_decay with alpha 0.99\n",
      "elapsed time: 0.0107\n",
      "fold=3\n",
      "using exponential_time_decay with alpha 0.99\n",
      "elapsed time: 0.0112\n",
      "fold=0\n",
      "using exponential_time_decay with alpha 0.99\n",
      "elapsed time: 0.0071\n",
      "fold=1\n",
      "using exponential_time_decay with alpha 0.99\n",
      "elapsed time: 0.0102\n",
      "fold=2\n",
      "using exponential_time_decay with alpha 0.99\n",
      "elapsed time: 0.0104\n",
      "fold=3\n",
      "using exponential_time_decay with alpha 0.99\n",
      "elapsed time: 0.0123\n",
      "fold=0\n",
      "using exponential_time_decay with alpha 0.99\n",
      "elapsed time: 0.0047\n",
      "fold=1\n",
      "using exponential_time_decay with alpha 0.99\n",
      "elapsed time: 0.0061\n",
      "fold=2\n",
      "using exponential_time_decay with alpha 0.99\n",
      "elapsed time: 0.0071\n",
      "fold=3\n",
      "using exponential_time_decay with alpha 0.99\n",
      "elapsed time: 0.0081\n",
      "fold=0\n",
      "using exponential_time_decay with alpha 0.99\n",
      "elapsed time: 0.0061\n",
      "fold=1\n",
      "using exponential_time_decay with alpha 0.99\n",
      "elapsed time: 0.0084\n",
      "fold=2\n",
      "using exponential_time_decay with alpha 0.99\n",
      "elapsed time: 0.0098\n",
      "fold=3\n",
      "using exponential_time_decay with alpha 0.99\n",
      "elapsed time: 0.0109\n",
      "fold=0\n",
      "using exponential_time_decay with alpha 0.99\n",
      "elapsed time: 0.0049\n",
      "fold=1\n",
      "using exponential_time_decay with alpha 0.99\n",
      "elapsed time: 0.0079\n",
      "fold=2\n",
      "using exponential_time_decay with alpha 0.99\n",
      "elapsed time: 0.0087\n",
      "fold=3\n",
      "using exponential_time_decay with alpha 0.99\n",
      "elapsed time: 0.0101\n",
      "fold=0\n",
      "using exponential_time_decay with alpha 0.99\n",
      "elapsed time: 0.0058\n",
      "fold=1\n",
      "using exponential_time_decay with alpha 0.99\n",
      "elapsed time: 0.0080\n",
      "fold=2\n",
      "using exponential_time_decay with alpha 0.99\n",
      "elapsed time: 0.0099\n",
      "fold=3\n",
      "using exponential_time_decay with alpha 0.99\n",
      "elapsed time: 0.0100\n",
      "fold=0\n",
      "using exponential_time_decay with alpha 0.99\n",
      "elapsed time: 0.0041\n",
      "fold=1\n",
      "using exponential_time_decay with alpha 0.99\n",
      "elapsed time: 0.0059\n",
      "fold=2\n",
      "using exponential_time_decay with alpha 0.99\n",
      "elapsed time: 0.0075\n",
      "fold=3\n",
      "using exponential_time_decay with alpha 0.99\n",
      "elapsed time: 0.0074\n",
      "fold=0\n",
      "using exponential_time_decay with alpha 0.99\n",
      "elapsed time: 0.0003\n",
      "fold=1\n",
      "using exponential_time_decay with alpha 0.99\n",
      "elapsed time: 0.0006\n",
      "fold=2\n",
      "using exponential_time_decay with alpha 0.99\n",
      "elapsed time: 0.0017\n",
      "fold=3\n",
      "using exponential_time_decay with alpha 0.99\n",
      "elapsed time: 0.0029\n",
      "fold=0\n",
      "using exponential_time_decay with alpha 0.99\n",
      "elapsed time: 0.0014\n",
      "fold=1\n",
      "using exponential_time_decay with alpha 0.99\n",
      "elapsed time: 0.0038\n",
      "fold=2\n",
      "using exponential_time_decay with alpha 0.99\n",
      "elapsed time: 0.0046\n",
      "fold=3\n",
      "using exponential_time_decay with alpha 0.99\n",
      "elapsed time: 0.0060\n"
     ]
    }
   ],
   "source": [
    "asset_ids = data['Asset_ID'].unique()\n",
    "RESULTS = {}\n",
    "for asset_id in asset_ids:\n",
    "    asset_data = get_data_for_asset(data, asset_id)\n",
    "    asset_result = evaluator.run(train_model, CONFIG, asset_data)\n",
    "    RESULTS[asset_id] = asset_result "
   ]
  },
  {
   "cell_type": "code",
   "execution_count": 33,
   "id": "9e6995b9",
   "metadata": {
    "ExecuteTime": {
     "end_time": "2021-12-03T01:51:56.368411Z",
     "start_time": "2021-12-03T01:51:55.942055Z"
    }
   },
   "outputs": [],
   "source": [
    "import itertools\n",
    "inference_df = pd.concat(itertools.chain(*[asset_result['prediction'] for _, asset_result in RESULTS.items()]))"
   ]
  },
  {
   "cell_type": "code",
   "execution_count": 34,
   "id": "d27e3ebf",
   "metadata": {
    "ExecuteTime": {
     "end_time": "2021-12-03T01:52:01.351252Z",
     "start_time": "2021-12-03T01:51:56.370206Z"
    }
   },
   "outputs": [],
   "source": [
    "scores = inference_df.groupby('fold').apply(compute_metrics)\n",
    "scores['eval_period'] = EVAL_PERIODS"
   ]
  },
  {
   "cell_type": "code",
   "execution_count": 35,
   "id": "49b63da5",
   "metadata": {
    "ExecuteTime": {
     "end_time": "2021-12-03T01:52:01.391499Z",
     "start_time": "2021-12-03T01:52:01.353230Z"
    }
   },
   "outputs": [
    {
     "data": {
      "text/html": [
       "<div>\n",
       "<style scoped>\n",
       "    .dataframe tbody tr th:only-of-type {\n",
       "        vertical-align: middle;\n",
       "    }\n",
       "\n",
       "    .dataframe tbody tr th {\n",
       "        vertical-align: top;\n",
       "    }\n",
       "\n",
       "    .dataframe thead th {\n",
       "        text-align: right;\n",
       "    }\n",
       "</style>\n",
       "<table border=\"1\" class=\"dataframe\">\n",
       "  <thead>\n",
       "    <tr style=\"text-align: right;\">\n",
       "      <th></th>\n",
       "      <th>corr</th>\n",
       "      <th>crypto_consistency</th>\n",
       "      <th>sharpe</th>\n",
       "      <th>corr_period_mean</th>\n",
       "      <th>corr_period_std</th>\n",
       "      <th>consistency</th>\n",
       "      <th>min_period_corr</th>\n",
       "      <th>corr_min</th>\n",
       "      <th>corr_max</th>\n",
       "      <th>corr_std</th>\n",
       "      <th>eval_period</th>\n",
       "    </tr>\n",
       "    <tr>\n",
       "      <th>fold</th>\n",
       "      <th></th>\n",
       "      <th></th>\n",
       "      <th></th>\n",
       "      <th></th>\n",
       "      <th></th>\n",
       "      <th></th>\n",
       "      <th></th>\n",
       "      <th></th>\n",
       "      <th></th>\n",
       "      <th></th>\n",
       "      <th></th>\n",
       "    </tr>\n",
       "  </thead>\n",
       "  <tbody>\n",
       "    <tr>\n",
       "      <th>0</th>\n",
       "      <td>0.017129</td>\n",
       "      <td>10.0</td>\n",
       "      <td>1.059621</td>\n",
       "      <td>0.014892</td>\n",
       "      <td>0.014054</td>\n",
       "      <td>0.923077</td>\n",
       "      <td>-0.026810</td>\n",
       "      <td>-0.013360</td>\n",
       "      <td>0.106234</td>\n",
       "      <td>0.036380</td>\n",
       "      <td>[2020-01-01, 2020-04-01]</td>\n",
       "    </tr>\n",
       "    <tr>\n",
       "      <th>1</th>\n",
       "      <td>0.008322</td>\n",
       "      <td>10.0</td>\n",
       "      <td>0.397315</td>\n",
       "      <td>0.008578</td>\n",
       "      <td>0.021590</td>\n",
       "      <td>0.611111</td>\n",
       "      <td>-0.023711</td>\n",
       "      <td>-0.062269</td>\n",
       "      <td>0.064207</td>\n",
       "      <td>0.030057</td>\n",
       "      <td>[2020-09-01, 2021-01-01]</td>\n",
       "    </tr>\n",
       "    <tr>\n",
       "      <th>2</th>\n",
       "      <td>-0.011656</td>\n",
       "      <td>7.0</td>\n",
       "      <td>0.661496</td>\n",
       "      <td>0.010724</td>\n",
       "      <td>0.016212</td>\n",
       "      <td>0.846154</td>\n",
       "      <td>-0.027975</td>\n",
       "      <td>-0.028693</td>\n",
       "      <td>0.050679</td>\n",
       "      <td>0.021359</td>\n",
       "      <td>[2021-01-01, 2021-04-01]</td>\n",
       "    </tr>\n",
       "    <tr>\n",
       "      <th>3</th>\n",
       "      <td>-0.006472</td>\n",
       "      <td>10.0</td>\n",
       "      <td>0.051587</td>\n",
       "      <td>0.001175</td>\n",
       "      <td>0.022769</td>\n",
       "      <td>0.615385</td>\n",
       "      <td>-0.034676</td>\n",
       "      <td>-0.019990</td>\n",
       "      <td>0.041895</td>\n",
       "      <td>0.018981</td>\n",
       "      <td>[2021-04-01, 2021-07-01]</td>\n",
       "    </tr>\n",
       "  </tbody>\n",
       "</table>\n",
       "</div>"
      ],
      "text/plain": [
       "          corr  crypto_consistency    sharpe  corr_period_mean  \\\n",
       "fold                                                             \n",
       "0     0.017129                10.0  1.059621          0.014892   \n",
       "1     0.008322                10.0  0.397315          0.008578   \n",
       "2    -0.011656                 7.0  0.661496          0.010724   \n",
       "3    -0.006472                10.0  0.051587          0.001175   \n",
       "\n",
       "      corr_period_std  consistency  min_period_corr  corr_min  corr_max  \\\n",
       "fold                                                                      \n",
       "0            0.014054     0.923077        -0.026810 -0.013360  0.106234   \n",
       "1            0.021590     0.611111        -0.023711 -0.062269  0.064207   \n",
       "2            0.016212     0.846154        -0.027975 -0.028693  0.050679   \n",
       "3            0.022769     0.615385        -0.034676 -0.019990  0.041895   \n",
       "\n",
       "      corr_std               eval_period  \n",
       "fold                                      \n",
       "0     0.036380  [2020-01-01, 2020-04-01]  \n",
       "1     0.030057  [2020-09-01, 2021-01-01]  \n",
       "2     0.021359  [2021-01-01, 2021-04-01]  \n",
       "3     0.018981  [2021-04-01, 2021-07-01]  "
      ]
     },
     "execution_count": 35,
     "metadata": {},
     "output_type": "execute_result"
    }
   ],
   "source": [
    "scores"
   ]
  },
  {
   "cell_type": "code",
   "execution_count": 36,
   "id": "9607994d",
   "metadata": {
    "ExecuteTime": {
     "end_time": "2021-12-03T01:52:01.431638Z",
     "start_time": "2021-12-03T01:52:01.393575Z"
    }
   },
   "outputs": [],
   "source": [
    "fi = pd.concat(itertools.chain(*[asset_result['fi'] for _, asset_result in RESULTS.items()]))"
   ]
  },
  {
   "cell_type": "code",
   "execution_count": 37,
   "id": "65e14cea",
   "metadata": {
    "ExecuteTime": {
     "end_time": "2021-12-03T01:52:01.541824Z",
     "start_time": "2021-12-03T01:52:01.437530Z"
    }
   },
   "outputs": [],
   "source": [
    "fi_stats = (fi.groupby('feature')['importance'].describe()\n",
    "            .sort_values('mean', ascending=False))"
   ]
  },
  {
   "cell_type": "code",
   "execution_count": 38,
   "id": "d10b3d09",
   "metadata": {
    "ExecuteTime": {
     "end_time": "2021-12-03T01:52:01.618697Z",
     "start_time": "2021-12-03T01:52:01.546475Z"
    }
   },
   "outputs": [
    {
     "data": {
      "text/html": [
       "<div>\n",
       "<style scoped>\n",
       "    .dataframe tbody tr th:only-of-type {\n",
       "        vertical-align: middle;\n",
       "    }\n",
       "\n",
       "    .dataframe tbody tr th {\n",
       "        vertical-align: top;\n",
       "    }\n",
       "\n",
       "    .dataframe thead th {\n",
       "        text-align: right;\n",
       "    }\n",
       "</style>\n",
       "<table border=\"1\" class=\"dataframe\">\n",
       "  <thead>\n",
       "    <tr style=\"text-align: right;\">\n",
       "      <th></th>\n",
       "      <th>count</th>\n",
       "      <th>mean</th>\n",
       "      <th>std</th>\n",
       "      <th>min</th>\n",
       "      <th>25%</th>\n",
       "      <th>50%</th>\n",
       "      <th>75%</th>\n",
       "      <th>max</th>\n",
       "    </tr>\n",
       "    <tr>\n",
       "      <th>feature</th>\n",
       "      <th></th>\n",
       "      <th></th>\n",
       "      <th></th>\n",
       "      <th></th>\n",
       "      <th></th>\n",
       "      <th></th>\n",
       "      <th></th>\n",
       "      <th></th>\n",
       "    </tr>\n",
       "  </thead>\n",
       "  <tbody>\n",
       "    <tr>\n",
       "      <th>VWAP</th>\n",
       "      <td>56.0</td>\n",
       "      <td>0.075049</td>\n",
       "      <td>0.154698</td>\n",
       "      <td>-0.260749</td>\n",
       "      <td>-0.011845</td>\n",
       "      <td>0.044388</td>\n",
       "      <td>0.111375</td>\n",
       "      <td>0.776369</td>\n",
       "    </tr>\n",
       "    <tr>\n",
       "      <th>Volume</th>\n",
       "      <td>56.0</td>\n",
       "      <td>0.019529</td>\n",
       "      <td>0.040478</td>\n",
       "      <td>-0.067921</td>\n",
       "      <td>0.003002</td>\n",
       "      <td>0.006357</td>\n",
       "      <td>0.020299</td>\n",
       "      <td>0.163372</td>\n",
       "    </tr>\n",
       "    <tr>\n",
       "      <th>high_low_return</th>\n",
       "      <td>56.0</td>\n",
       "      <td>0.013529</td>\n",
       "      <td>0.181623</td>\n",
       "      <td>-0.654656</td>\n",
       "      <td>-0.034713</td>\n",
       "      <td>0.034174</td>\n",
       "      <td>0.127709</td>\n",
       "      <td>0.383701</td>\n",
       "    </tr>\n",
       "    <tr>\n",
       "      <th>Count</th>\n",
       "      <td>56.0</td>\n",
       "      <td>0.001587</td>\n",
       "      <td>0.006120</td>\n",
       "      <td>-0.015612</td>\n",
       "      <td>-0.001633</td>\n",
       "      <td>0.002229</td>\n",
       "      <td>0.004864</td>\n",
       "      <td>0.018068</td>\n",
       "    </tr>\n",
       "    <tr>\n",
       "      <th>upper_shadow</th>\n",
       "      <td>56.0</td>\n",
       "      <td>0.000577</td>\n",
       "      <td>0.002393</td>\n",
       "      <td>-0.004287</td>\n",
       "      <td>-0.000265</td>\n",
       "      <td>0.000072</td>\n",
       "      <td>0.000564</td>\n",
       "      <td>0.010178</td>\n",
       "    </tr>\n",
       "    <tr>\n",
       "      <th>open_close_return</th>\n",
       "      <td>56.0</td>\n",
       "      <td>-0.001081</td>\n",
       "      <td>0.023671</td>\n",
       "      <td>-0.083795</td>\n",
       "      <td>-0.009397</td>\n",
       "      <td>-0.001337</td>\n",
       "      <td>0.012241</td>\n",
       "      <td>0.064317</td>\n",
       "    </tr>\n",
       "    <tr>\n",
       "      <th>vol_per_trades</th>\n",
       "      <td>56.0</td>\n",
       "      <td>-0.003262</td>\n",
       "      <td>0.017361</td>\n",
       "      <td>-0.098544</td>\n",
       "      <td>-0.003059</td>\n",
       "      <td>0.000501</td>\n",
       "      <td>0.002373</td>\n",
       "      <td>0.008831</td>\n",
       "    </tr>\n",
       "    <tr>\n",
       "      <th>Low</th>\n",
       "      <td>56.0</td>\n",
       "      <td>-0.003664</td>\n",
       "      <td>0.081609</td>\n",
       "      <td>-0.274098</td>\n",
       "      <td>-0.027322</td>\n",
       "      <td>0.007216</td>\n",
       "      <td>0.043661</td>\n",
       "      <td>0.165086</td>\n",
       "    </tr>\n",
       "    <tr>\n",
       "      <th>Close</th>\n",
       "      <td>56.0</td>\n",
       "      <td>-0.005597</td>\n",
       "      <td>0.175986</td>\n",
       "      <td>-0.370809</td>\n",
       "      <td>-0.083651</td>\n",
       "      <td>-0.012452</td>\n",
       "      <td>0.045773</td>\n",
       "      <td>0.812043</td>\n",
       "    </tr>\n",
       "    <tr>\n",
       "      <th>High</th>\n",
       "      <td>56.0</td>\n",
       "      <td>-0.010806</td>\n",
       "      <td>0.225280</td>\n",
       "      <td>-0.477407</td>\n",
       "      <td>-0.081891</td>\n",
       "      <td>-0.024362</td>\n",
       "      <td>0.022210</td>\n",
       "      <td>1.028703</td>\n",
       "    </tr>\n",
       "    <tr>\n",
       "      <th>dolar_amount</th>\n",
       "      <td>56.0</td>\n",
       "      <td>-0.015544</td>\n",
       "      <td>0.044769</td>\n",
       "      <td>-0.185231</td>\n",
       "      <td>-0.017957</td>\n",
       "      <td>-0.004699</td>\n",
       "      <td>0.002640</td>\n",
       "      <td>0.137581</td>\n",
       "    </tr>\n",
       "    <tr>\n",
       "      <th>lower_shadow</th>\n",
       "      <td>56.0</td>\n",
       "      <td>-0.085018</td>\n",
       "      <td>0.318650</td>\n",
       "      <td>-1.994100</td>\n",
       "      <td>-0.093370</td>\n",
       "      <td>-0.011068</td>\n",
       "      <td>0.015041</td>\n",
       "      <td>0.267479</td>\n",
       "    </tr>\n",
       "  </tbody>\n",
       "</table>\n",
       "</div>"
      ],
      "text/plain": [
       "                   count      mean       std       min       25%       50%  \\\n",
       "feature                                                                      \n",
       "VWAP                56.0  0.075049  0.154698 -0.260749 -0.011845  0.044388   \n",
       "Volume              56.0  0.019529  0.040478 -0.067921  0.003002  0.006357   \n",
       "high_low_return     56.0  0.013529  0.181623 -0.654656 -0.034713  0.034174   \n",
       "Count               56.0  0.001587  0.006120 -0.015612 -0.001633  0.002229   \n",
       "upper_shadow        56.0  0.000577  0.002393 -0.004287 -0.000265  0.000072   \n",
       "open_close_return   56.0 -0.001081  0.023671 -0.083795 -0.009397 -0.001337   \n",
       "vol_per_trades      56.0 -0.003262  0.017361 -0.098544 -0.003059  0.000501   \n",
       "Low                 56.0 -0.003664  0.081609 -0.274098 -0.027322  0.007216   \n",
       "Close               56.0 -0.005597  0.175986 -0.370809 -0.083651 -0.012452   \n",
       "High                56.0 -0.010806  0.225280 -0.477407 -0.081891 -0.024362   \n",
       "dolar_amount        56.0 -0.015544  0.044769 -0.185231 -0.017957 -0.004699   \n",
       "lower_shadow        56.0 -0.085018  0.318650 -1.994100 -0.093370 -0.011068   \n",
       "\n",
       "                        75%       max  \n",
       "feature                                \n",
       "VWAP               0.111375  0.776369  \n",
       "Volume             0.020299  0.163372  \n",
       "high_low_return    0.127709  0.383701  \n",
       "Count              0.004864  0.018068  \n",
       "upper_shadow       0.000564  0.010178  \n",
       "open_close_return  0.012241  0.064317  \n",
       "vol_per_trades     0.002373  0.008831  \n",
       "Low                0.043661  0.165086  \n",
       "Close              0.045773  0.812043  \n",
       "High               0.022210  1.028703  \n",
       "dolar_amount       0.002640  0.137581  \n",
       "lower_shadow       0.015041  0.267479  "
      ]
     },
     "execution_count": 38,
     "metadata": {},
     "output_type": "execute_result"
    }
   ],
   "source": [
    "fi_stats"
   ]
  },
  {
   "cell_type": "code",
   "execution_count": 39,
   "id": "7560c1fd",
   "metadata": {
    "ExecuteTime": {
     "end_time": "2021-12-03T01:52:02.531465Z",
     "start_time": "2021-12-03T01:52:01.623731Z"
    }
   },
   "outputs": [
    {
     "data": {
      "text/plain": [
       "<AxesSubplot:xlabel='importance', ylabel='feature'>"
      ]
     },
     "execution_count": 39,
     "metadata": {},
     "output_type": "execute_result"
    },
    {
     "data": {
      "image/png": "[encoded data removed]",
      "text/plain": [
       "<Figure size 432x288 with 1 Axes>"
      ]
     },
     "metadata": {
      "needs_background": "light"
     },
     "output_type": "display_data"
    }
   ],
   "source": [
    "sns.barplot(data=fi, y='feature', x='importance', order=fi_stats.index)"
   ]
  },
  {
   "cell_type": "code",
   "execution_count": 40,
   "id": "43650874",
   "metadata": {
    "ExecuteTime": {
     "end_time": "2021-12-03T01:52:02.555463Z",
     "start_time": "2021-12-03T01:52:02.533424Z"
    }
   },
   "outputs": [],
   "source": [
    "# def add_kaggle_index_columns(data: pd.DataFrame):\n",
    "#     data['row_id'] = list(range(len(data)))\n",
    "#     data['row_id'] = data['row_id'].astype(np.int32)\n",
    "#     group_num = data[['timestamp']].drop_duplicates().sort_values(by='timestamp')\n",
    "#     group_num['group_num'] = list(range(len(group_num)))\n",
    "#     data = data.merge(group_num, on='timestamp', how='left')\n",
    "#     assert data['group_num'].isna().sum() == 0\n",
    "#     return data\n",
    "    \n",
    "    \n",
    "# EXPECTED_RAW_COLS = ['timestamp', 'Asset_ID', 'Count',\n",
    "#                      'Open', 'High', 'Low', 'Close',\n",
    "#                      'Volume', 'VWAP']\n",
    "\n",
    "# def simulate_kaggle_api(data: pd.DataFrame):\n",
    "#     copy_data = data.copy()\n",
    "#     data = add_kaggle_index_columns(copy_data)\n",
    "    \n",
    "#     for group_id, group_data in data.groupby('group_num'):\n",
    "#         group_data = group_data.reset_index(drop=True)\n",
    "#         submission = group_data.loc[:, ['row_id', 'Target']]\n",
    "#         yield group_data.loc[:, EXPECTED_RAW_COLS + ['row_id']], submission\n"
   ]
  },
  {
   "cell_type": "code",
   "execution_count": 41,
   "id": "ebd7d75b",
   "metadata": {
    "ExecuteTime": {
     "end_time": "2021-12-03T01:52:02.605382Z",
     "start_time": "2021-12-03T01:52:02.557878Z"
    }
   },
   "outputs": [],
   "source": [
    "# raw_test_mask = raw_data['timestamp'].between(valid_data['timestamp'].min(), valid_data['timestamp'].max())\n",
    "# raw_test_df_iter = raw_data[raw_test_mask].reset_index(drop=True)\n",
    "# assert np.allclose(raw_test_df_iter['Target'].dropna(), valid_data['Target'])"
   ]
  },
  {
   "cell_type": "code",
   "execution_count": 42,
   "id": "b6d9147d",
   "metadata": {
    "ExecuteTime": {
     "end_time": "2021-12-03T01:52:02.634279Z",
     "start_time": "2021-12-03T01:52:02.607249Z"
    }
   },
   "outputs": [],
   "source": [
    "# raw_test_df_iter['timestamp'].min()"
   ]
  },
  {
   "cell_type": "code",
   "execution_count": 43,
   "id": "2bad47f0",
   "metadata": {
    "ExecuteTime": {
     "end_time": "2021-12-03T01:52:02.656890Z",
     "start_time": "2021-12-03T01:52:02.636108Z"
    }
   },
   "outputs": [],
   "source": [
    "# test_iter = simulate_kaggle_api(raw_test_df_iter)"
   ]
  },
  {
   "cell_type": "code",
   "execution_count": 44,
   "id": "ed34ddd1",
   "metadata": {
    "ExecuteTime": {
     "end_time": "2021-12-03T01:52:02.683021Z",
     "start_time": "2021-12-03T01:52:02.659128Z"
    }
   },
   "outputs": [],
   "source": [
    "# from src.preprocessing import inference\n",
    "# import time\n",
    "# import sys"
   ]
  },
  {
   "cell_type": "code",
   "execution_count": 45,
   "id": "88baf3ec",
   "metadata": {
    "ExecuteTime": {
     "end_time": "2021-12-03T01:52:02.705602Z",
     "start_time": "2021-12-03T01:52:02.685607Z"
    }
   },
   "outputs": [],
   "source": [
    "# actual_submission = []\n",
    "# elapsed_times = []\n",
    "# i = 0\n",
    "# for raw_test_df, submission in test_iter:\n",
    "#     print('{} days'.format(i/(24 * 60)), end='\\r')\n",
    "#     start_inference_time = time.time()\n",
    "#     submission = inference(test_data=raw_test_df, submission=submission,\n",
    "#                             models=MODELS)\n",
    "#     inference_elapsed_time = time.time() - start_inference_time \n",
    "#     elapsed_times.append(inference_elapsed_time)\n",
    "#     actual_submission.append(submission)\n",
    "#     i+=1\n",
    "#     sys.stdout.flush()"
   ]
  },
  {
   "cell_type": "code",
   "execution_count": 46,
   "id": "24ba5e89",
   "metadata": {
    "ExecuteTime": {
     "end_time": "2021-12-03T01:52:02.733574Z",
     "start_time": "2021-12-03T01:52:02.707487Z"
    }
   },
   "outputs": [],
   "source": [
    "# actual_submission_df = pd.concat(actual_submission, ignore_index=True)"
   ]
  },
  {
   "cell_type": "code",
   "execution_count": 47,
   "id": "cf23ce22",
   "metadata": {
    "ExecuteTime": {
     "end_time": "2021-12-03T01:52:02.766393Z",
     "start_time": "2021-12-03T01:52:02.736463Z"
    }
   },
   "outputs": [],
   "source": [
    "# index_template = raw_test_df_iter[['timestamp', 'Asset_ID']].assign(row_id=np.arange(len(raw_test_df_iter)))"
   ]
  },
  {
   "cell_type": "code",
   "execution_count": 48,
   "id": "eca0b39c",
   "metadata": {
    "ExecuteTime": {
     "end_time": "2021-12-03T01:52:02.793680Z",
     "start_time": "2021-12-03T01:52:02.768773Z"
    }
   },
   "outputs": [],
   "source": [
    "# actual_submission_df = index_template.merge(actual_submission_df, on=['row_id'], how='left')"
   ]
  },
  {
   "cell_type": "code",
   "execution_count": 49,
   "id": "f53e2432",
   "metadata": {
    "ExecuteTime": {
     "end_time": "2021-12-03T01:52:02.835490Z",
     "start_time": "2021-12-03T01:52:02.797967Z"
    }
   },
   "outputs": [],
   "source": [
    "# yhat_test = valid_data[['timestamp', 'Asset_ID', 'yhat']].merge(actual_submission_df, on=['timestamp', 'Asset_ID'], how='left')\n",
    "# yhat_test = yhat_test.dropna()"
   ]
  },
  {
   "cell_type": "code",
   "execution_count": 50,
   "id": "5f5c1f48",
   "metadata": {
    "ExecuteTime": {
     "end_time": "2021-12-03T01:52:02.867426Z",
     "start_time": "2021-12-03T01:52:02.837912Z"
    }
   },
   "outputs": [],
   "source": [
    "# error = (yhat_test['yhat'] -  yhat_test['Target']) / yhat_test['yhat']\n",
    "# error.abs().max()"
   ]
  },
  {
   "cell_type": "code",
   "execution_count": 51,
   "id": "740f2970",
   "metadata": {
    "ExecuteTime": {
     "end_time": "2021-12-03T01:52:02.892043Z",
     "start_time": "2021-12-03T01:52:02.870966Z"
    }
   },
   "outputs": [],
   "source": [
    "# np.allclose(yhat_test['yhat'], yhat_test['Target'])"
   ]
  },
  {
   "cell_type": "code",
   "execution_count": 52,
   "id": "81e9926f",
   "metadata": {
    "ExecuteTime": {
     "end_time": "2021-12-03T01:52:02.923957Z",
     "start_time": "2021-12-03T01:52:02.894695Z"
    }
   },
   "outputs": [],
   "source": [
    "# np.mean(elapsed_times), np.max(elapsed_times)"
   ]
  },
  {
   "cell_type": "code",
   "execution_count": 53,
   "id": "22ec4ac6",
   "metadata": {
    "ExecuteTime": {
     "end_time": "2021-12-03T01:52:02.951015Z",
     "start_time": "2021-12-03T01:52:02.926217Z"
    }
   },
   "outputs": [],
   "source": [
    "# np.sum(elapsed_times) / 60"
   ]
  },
  {
   "cell_type": "code",
   "execution_count": 54,
   "id": "2c8a6ba6",
   "metadata": {
    "ExecuteTime": {
     "end_time": "2021-12-03T01:52:02.974777Z",
     "start_time": "2021-12-03T01:52:02.953253Z"
    }
   },
   "outputs": [],
   "source": [
    "# days = 90\n",
    "# total = 0.06107479883276898 * (days * 24 * 60)\n",
    "# total / 60 / 60"
   ]
  }
 ],
 "metadata": {
  "kernelspec": {
   "display_name": "Python 3 (ipykernel)",
   "language": "python",
   "name": "python3"
  },
  "language_info": {
   "codemirror_mode": {
    "name": "ipython",
    "version": 3
   },
   "file_extension": ".py",
   "mimetype": "text/x-python",
   "name": "python",
   "nbconvert_exporter": "python",
   "pygments_lexer": "ipython3",
   "version": "3.7.11"
  },
  "toc": {
   "base_numbering": 1,
   "nav_menu": {},
   "number_sections": true,
   "sideBar": true,
   "skip_h1_title": false,
   "title_cell": "Table of Contents",
   "title_sidebar": "Contents",
   "toc_cell": false,
   "toc_position": {},
   "toc_section_display": true,
   "toc_window_display": false
  }
 },
 "nbformat": 4,
 "nbformat_minor": 5
}
