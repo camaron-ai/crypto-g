{
 "cells": [
  {
   "cell_type": "code",
   "execution_count": 1,
   "id": "7942f4a4",
   "metadata": {
    "ExecuteTime": {
     "end_time": "2021-11-30T23:22:27.343471Z",
     "start_time": "2021-11-30T23:22:27.323464Z"
    }
   },
   "outputs": [],
   "source": [
    "%load_ext autoreload\n",
    "%autoreload 2"
   ]
  },
  {
   "cell_type": "code",
   "execution_count": 2,
   "id": "f255bb4e",
   "metadata": {
    "ExecuteTime": {
     "end_time": "2021-11-30T23:22:29.144969Z",
     "start_time": "2021-11-30T23:22:27.346599Z"
    }
   },
   "outputs": [],
   "source": [
    "import pandas as pd\n",
    "import numpy as np\n",
    "from matplotlib import pyplot as plt\n",
    "import seaborn as sns\n",
    "from pathlib import Path\n",
    "import os\n",
    "import sys\n",
    "from IPython.display import display"
   ]
  },
  {
   "cell_type": "code",
   "execution_count": 3,
   "id": "136f5247",
   "metadata": {
    "ExecuteTime": {
     "end_time": "2021-11-30T23:22:29.176010Z",
     "start_time": "2021-11-30T23:22:29.157173Z"
    }
   },
   "outputs": [],
   "source": [
    "def on_kaggle() -> bool:\n",
    "    try:\n",
    "        import gresearch_crypto\n",
    "        return True\n",
    "    except ModuleNotFoundError:\n",
    "        return False"
   ]
  },
  {
   "cell_type": "code",
   "execution_count": 4,
   "id": "432ba6ef",
   "metadata": {
    "ExecuteTime": {
     "end_time": "2021-11-30T23:22:29.199565Z",
     "start_time": "2021-11-30T23:22:29.178898Z"
    }
   },
   "outputs": [],
   "source": [
    "# HYPER PARAMETERS\n",
    "ON_KAGGLE = on_kaggle()\n",
    "SAMPLE_LEVEL = 1\n",
    "USE_SAMPLE = SAMPLE_LEVEL == 1\n",
    "USE_TOY_SAMPLE = SAMPLE_LEVEL == 2\n",
    "\n",
    "FORCE_REWRITE = True#(ON_KAGGLE and SAMPLE_LEVEL == 0)"
   ]
  },
  {
   "cell_type": "code",
   "execution_count": 5,
   "id": "3ee2a957",
   "metadata": {
    "ExecuteTime": {
     "end_time": "2021-11-30T23:22:29.220863Z",
     "start_time": "2021-11-30T23:22:29.201993Z"
    }
   },
   "outputs": [],
   "source": [
    "if not ON_KAGGLE and os.path.abspath('.').endswith('notebook'):\n",
    "    os.chdir('../')\n",
    "    sys.path.append('.')"
   ]
  },
  {
   "cell_type": "code",
   "execution_count": 6,
   "id": "1b3c10b1",
   "metadata": {
    "ExecuteTime": {
     "end_time": "2021-11-30T23:22:29.380721Z",
     "start_time": "2021-11-30T23:22:29.223643Z"
    }
   },
   "outputs": [],
   "source": [
    "# from preprocessing import *\n",
    "from src.metrics import *\n",
    "# from src.preprocessing import process_train_data, process_test_data\n",
    "from src.preprocessing.ingest_data import merge_asset_details\n",
    "from src.cv import TimeSeriesSplit, get_date_range\n",
    "from src.modeling import Evaluator\n",
    "from src.metrics import compute_metrics"
   ]
  },
  {
   "cell_type": "code",
   "execution_count": null,
   "id": "7a098407",
   "metadata": {},
   "outputs": [],
   "source": [
    "def setup_env(on_kaggle: bool = True, sample_level: int = 0):\n",
    "    if on_kaggle and sample_level == 0:\n",
    "         raw_dir = Path('../input/g-research-crypto-forecasting/')\n",
    "    elif on_kaggle and sample_level > 0:\n",
    "        raw_dir = Path('../input/create-sample-dataset/data/raw/')\n",
    "    else:\n",
    "        raw_dir = Path('data/raw')\n",
    "    \n",
    "    if sample_level > 0:\n",
    "        raw_dir = raw_dir.joinpath('sample', str(sample_level))"
   ]
  },
  {
   "cell_type": "code",
   "execution_count": 7,
   "id": "5dcd141e",
   "metadata": {
    "ExecuteTime": {
     "end_time": "2021-11-30T23:22:29.405981Z",
     "start_time": "2021-11-30T23:22:29.383082Z"
    }
   },
   "outputs": [],
   "source": [
    "if ON_KAGGLE:\n",
    "    RAW_DIR = Path('../input/g-research-crypto-forecasting/')\n",
    "    SAMPLE_DIR = Path('../input/create-sample-dataset/data/raw/sample/')\n",
    "    TOY_SAMPLE_DIR = Path('../input/create-sample-dataset/data/raw/toy_sample/')\n",
    "else:\n",
    "    RAW_DIR =  Path('data/raw')\n",
    "    TOY_SAMPLE_DIR = RAW_DIR.joinpath('toy_sample')\n",
    "    SAMPLE_DIR = RAW_DIR.joinpath('sample')\n",
    "\n",
    "# filename\n",
    "TRAIN_FILE = 'train.csv'\n",
    "ASSET_DETAILS_PATH = RAW_DIR / 'asset_details.csv'"
   ]
  },
  {
   "cell_type": "code",
   "execution_count": 8,
   "id": "74f7a9ab",
   "metadata": {
    "ExecuteTime": {
     "end_time": "2021-11-30T23:22:29.429319Z",
     "start_time": "2021-11-30T23:22:29.408967Z"
    }
   },
   "outputs": [
    {
     "name": "stdout",
     "output_type": "stream",
     "text": [
      "USING SAMPLE DATASET\n"
     ]
    }
   ],
   "source": [
    "if USE_TOY_SAMPLE:\n",
    "    print('USING TOY DATASET')\n",
    "    RAW_TRAIN_PATH = TOY_SAMPLE_DIR / TRAIN_FILE\n",
    "\n",
    "elif USE_SAMPLE:\n",
    "    print('USING SAMPLE DATASET')\n",
    "    RAW_TRAIN_PATH = SAMPLE_DIR / TRAIN_FILE\n",
    "\n",
    "else:\n",
    "    print('USING RAW DATASET')\n",
    "    RAW_TRAIN_PATH = RAW_DIR / TRAIN_FILE\n",
    "\n",
    "assert RAW_TRAIN_PATH.exists()"
   ]
  },
  {
   "cell_type": "code",
   "execution_count": 9,
   "id": "28ef35af",
   "metadata": {
    "ExecuteTime": {
     "end_time": "2021-11-30T23:22:29.613186Z",
     "start_time": "2021-11-30T23:22:29.475795Z"
    }
   },
   "outputs": [
    {
     "name": "stdout",
     "output_type": "stream",
     "text": [
      "asset_details.csv\t\t   sample\r\n",
      "example_sample_submission.csv\t   supplemental_train.csv\r\n",
      "example_test.csv\t\t   toy_sample\r\n",
      "g-research-crypto-forecasting.zip  train.csv\r\n",
      "gresearch_crypto\r\n"
     ]
    }
   ],
   "source": [
    "!ls {RAW_DIR}"
   ]
  },
  {
   "cell_type": "code",
   "execution_count": 10,
   "id": "4b479f0e",
   "metadata": {
    "ExecuteTime": {
     "end_time": "2021-11-30T23:22:36.170331Z",
     "start_time": "2021-11-30T23:22:29.673758Z"
    },
    "scrolled": true
   },
   "outputs": [
    {
     "name": "stdout",
     "output_type": "stream",
     "text": [
      "CPU times: user 5.24 s, sys: 594 ms, total: 5.83 s\n",
      "Wall time: 6.47 s\n"
     ]
    }
   ],
   "source": [
    "%%time \n",
    "raw_data = pd.read_csv(RAW_TRAIN_PATH)"
   ]
  },
  {
   "cell_type": "markdown",
   "id": "d5c53d2f",
   "metadata": {},
   "source": [
    "## create train set"
   ]
  },
  {
   "cell_type": "code",
   "execution_count": 11,
   "id": "9313bf55",
   "metadata": {
    "ExecuteTime": {
     "end_time": "2021-11-30T23:22:36.199838Z",
     "start_time": "2021-11-30T23:22:36.174501Z"
    }
   },
   "outputs": [],
   "source": [
    "PREPRO_PARAMS = {'window': 60}\n",
    "MAIN_INDEX = ['timestamp', 'Asset_ID']"
   ]
  },
  {
   "cell_type": "code",
   "execution_count": 12,
   "id": "ddebc9cc",
   "metadata": {
    "ExecuteTime": {
     "end_time": "2021-11-30T23:22:37.636642Z",
     "start_time": "2021-11-30T23:22:36.203886Z"
    }
   },
   "outputs": [
    {
     "name": "stderr",
     "output_type": "stream",
     "text": [
      "/home/med/anaconda3/envs/crypto-g/lib/python3.7/site-packages/ipykernel_launcher.py:4: SettingWithCopyWarning: \n",
      "A value is trying to be set on a copy of a slice from a DataFrame.\n",
      "Try using .loc[row_indexer,col_indexer] = value instead\n",
      "\n",
      "See the caveats in the documentation: https://pandas.pydata.org/pandas-docs/stable/user_guide/indexing.html#returning-a-view-versus-a-copy\n",
      "  after removing the cwd from sys.path.\n"
     ]
    }
   ],
   "source": [
    "# get valid data only, drop where the target is NaN \n",
    "data = raw_data.dropna(subset=['Target'])\n",
    "# format time to human readable \n",
    "data['time'] = pd.to_datetime(data['timestamp'], unit='s')\n",
    "# merge asset names\n",
    "data = merge_asset_details(data, ASSET_DETAILS_PATH)"
   ]
  },
  {
   "cell_type": "code",
   "execution_count": 13,
   "id": "3c771517",
   "metadata": {
    "ExecuteTime": {
     "end_time": "2021-11-30T23:22:37.684393Z",
     "start_time": "2021-11-30T23:22:37.639483Z"
    }
   },
   "outputs": [
    {
     "data": {
      "text/html": [
       "<div>\n",
       "<style scoped>\n",
       "    .dataframe tbody tr th:only-of-type {\n",
       "        vertical-align: middle;\n",
       "    }\n",
       "\n",
       "    .dataframe tbody tr th {\n",
       "        vertical-align: top;\n",
       "    }\n",
       "\n",
       "    .dataframe thead th {\n",
       "        text-align: right;\n",
       "    }\n",
       "</style>\n",
       "<table border=\"1\" class=\"dataframe\">\n",
       "  <thead>\n",
       "    <tr style=\"text-align: right;\">\n",
       "      <th></th>\n",
       "      <th>timestamp</th>\n",
       "      <th>Asset_ID</th>\n",
       "      <th>Count</th>\n",
       "      <th>Open</th>\n",
       "      <th>High</th>\n",
       "      <th>Low</th>\n",
       "      <th>Close</th>\n",
       "      <th>Volume</th>\n",
       "      <th>VWAP</th>\n",
       "      <th>Target</th>\n",
       "      <th>time</th>\n",
       "      <th>Asset_Name</th>\n",
       "    </tr>\n",
       "  </thead>\n",
       "  <tbody>\n",
       "    <tr>\n",
       "      <th>0</th>\n",
       "      <td>1609459260</td>\n",
       "      <td>3</td>\n",
       "      <td>104.0</td>\n",
       "      <td>0.181465</td>\n",
       "      <td>0.181702</td>\n",
       "      <td>0.181270</td>\n",
       "      <td>0.181493</td>\n",
       "      <td>6.134333e+05</td>\n",
       "      <td>0.181527</td>\n",
       "      <td>0.001255</td>\n",
       "      <td>2021-01-01 00:01:00</td>\n",
       "      <td>Cardano</td>\n",
       "    </tr>\n",
       "    <tr>\n",
       "      <th>1</th>\n",
       "      <td>1609459260</td>\n",
       "      <td>2</td>\n",
       "      <td>275.0</td>\n",
       "      <td>342.556667</td>\n",
       "      <td>343.500000</td>\n",
       "      <td>342.420000</td>\n",
       "      <td>342.966667</td>\n",
       "      <td>4.199310e+02</td>\n",
       "      <td>342.842188</td>\n",
       "      <td>-0.002884</td>\n",
       "      <td>2021-01-01 00:01:00</td>\n",
       "      <td>Bitcoin Cash</td>\n",
       "    </tr>\n",
       "    <tr>\n",
       "      <th>2</th>\n",
       "      <td>1609459260</td>\n",
       "      <td>0</td>\n",
       "      <td>219.0</td>\n",
       "      <td>37.385000</td>\n",
       "      <td>37.422100</td>\n",
       "      <td>37.348700</td>\n",
       "      <td>37.389000</td>\n",
       "      <td>2.749569e+03</td>\n",
       "      <td>37.387059</td>\n",
       "      <td>-0.001669</td>\n",
       "      <td>2021-01-01 00:01:00</td>\n",
       "      <td>Binance Coin</td>\n",
       "    </tr>\n",
       "    <tr>\n",
       "      <th>3</th>\n",
       "      <td>1609459260</td>\n",
       "      <td>1</td>\n",
       "      <td>4039.0</td>\n",
       "      <td>28985.511250</td>\n",
       "      <td>29086.900000</td>\n",
       "      <td>28960.000000</td>\n",
       "      <td>29032.387500</td>\n",
       "      <td>1.637870e+02</td>\n",
       "      <td>29017.664870</td>\n",
       "      <td>0.000396</td>\n",
       "      <td>2021-01-01 00:01:00</td>\n",
       "      <td>Bitcoin</td>\n",
       "    </tr>\n",
       "    <tr>\n",
       "      <th>4</th>\n",
       "      <td>1609459260</td>\n",
       "      <td>4</td>\n",
       "      <td>84.0</td>\n",
       "      <td>0.004671</td>\n",
       "      <td>0.004683</td>\n",
       "      <td>0.004668</td>\n",
       "      <td>0.004677</td>\n",
       "      <td>2.202482e+06</td>\n",
       "      <td>0.004675</td>\n",
       "      <td>-0.008679</td>\n",
       "      <td>2021-01-01 00:01:00</td>\n",
       "      <td>Dogecoin</td>\n",
       "    </tr>\n",
       "  </tbody>\n",
       "</table>\n",
       "</div>"
      ],
      "text/plain": [
       "    timestamp  Asset_ID   Count          Open          High           Low  \\\n",
       "0  1609459260         3   104.0      0.181465      0.181702      0.181270   \n",
       "1  1609459260         2   275.0    342.556667    343.500000    342.420000   \n",
       "2  1609459260         0   219.0     37.385000     37.422100     37.348700   \n",
       "3  1609459260         1  4039.0  28985.511250  29086.900000  28960.000000   \n",
       "4  1609459260         4    84.0      0.004671      0.004683      0.004668   \n",
       "\n",
       "          Close        Volume          VWAP    Target                time  \\\n",
       "0      0.181493  6.134333e+05      0.181527  0.001255 2021-01-01 00:01:00   \n",
       "1    342.966667  4.199310e+02    342.842188 -0.002884 2021-01-01 00:01:00   \n",
       "2     37.389000  2.749569e+03     37.387059 -0.001669 2021-01-01 00:01:00   \n",
       "3  29032.387500  1.637870e+02  29017.664870  0.000396 2021-01-01 00:01:00   \n",
       "4      0.004677  2.202482e+06      0.004675 -0.008679 2021-01-01 00:01:00   \n",
       "\n",
       "     Asset_Name  \n",
       "0       Cardano  \n",
       "1  Bitcoin Cash  \n",
       "2  Binance Coin  \n",
       "3       Bitcoin  \n",
       "4      Dogecoin  "
      ]
     },
     "execution_count": 13,
     "metadata": {},
     "output_type": "execute_result"
    }
   ],
   "source": [
    "data.head()"
   ]
  },
  {
   "cell_type": "code",
   "execution_count": 14,
   "id": "e37a820f",
   "metadata": {
    "ExecuteTime": {
     "end_time": "2021-11-30T23:22:37.727302Z",
     "start_time": "2021-11-30T23:22:37.688057Z"
    }
   },
   "outputs": [
    {
     "data": {
      "text/html": [
       "<div>\n",
       "<style scoped>\n",
       "    .dataframe tbody tr th:only-of-type {\n",
       "        vertical-align: middle;\n",
       "    }\n",
       "\n",
       "    .dataframe tbody tr th {\n",
       "        vertical-align: top;\n",
       "    }\n",
       "\n",
       "    .dataframe thead th {\n",
       "        text-align: right;\n",
       "    }\n",
       "</style>\n",
       "<table border=\"1\" class=\"dataframe\">\n",
       "  <thead>\n",
       "    <tr style=\"text-align: right;\">\n",
       "      <th></th>\n",
       "      <th>timestamp</th>\n",
       "      <th>Asset_ID</th>\n",
       "      <th>Count</th>\n",
       "      <th>Open</th>\n",
       "      <th>High</th>\n",
       "      <th>Low</th>\n",
       "      <th>Close</th>\n",
       "      <th>Volume</th>\n",
       "      <th>VWAP</th>\n",
       "      <th>Target</th>\n",
       "      <th>time</th>\n",
       "      <th>Asset_Name</th>\n",
       "    </tr>\n",
       "  </thead>\n",
       "  <tbody>\n",
       "    <tr>\n",
       "      <th>5298791</th>\n",
       "      <td>1632181440</td>\n",
       "      <td>9</td>\n",
       "      <td>163.0</td>\n",
       "      <td>156.502000</td>\n",
       "      <td>156.620000</td>\n",
       "      <td>156.000000</td>\n",
       "      <td>156.075667</td>\n",
       "      <td>7.381963e+02</td>\n",
       "      <td>156.260253</td>\n",
       "      <td>-0.001154</td>\n",
       "      <td>2021-09-20 23:44:00</td>\n",
       "      <td>Litecoin</td>\n",
       "    </tr>\n",
       "    <tr>\n",
       "      <th>5298792</th>\n",
       "      <td>1632181440</td>\n",
       "      <td>10</td>\n",
       "      <td>23.0</td>\n",
       "      <td>2420.146667</td>\n",
       "      <td>2421.000000</td>\n",
       "      <td>2412.779000</td>\n",
       "      <td>2414.069667</td>\n",
       "      <td>1.315794e+00</td>\n",
       "      <td>2417.326038</td>\n",
       "      <td>0.009831</td>\n",
       "      <td>2021-09-20 23:44:00</td>\n",
       "      <td>Maker</td>\n",
       "    </tr>\n",
       "    <tr>\n",
       "      <th>5298793</th>\n",
       "      <td>1632181440</td>\n",
       "      <td>13</td>\n",
       "      <td>512.0</td>\n",
       "      <td>0.090989</td>\n",
       "      <td>0.091133</td>\n",
       "      <td>0.090831</td>\n",
       "      <td>0.090885</td>\n",
       "      <td>1.900695e+06</td>\n",
       "      <td>0.090943</td>\n",
       "      <td>0.004163</td>\n",
       "      <td>2021-09-20 23:44:00</td>\n",
       "      <td>TRON</td>\n",
       "    </tr>\n",
       "    <tr>\n",
       "      <th>5298794</th>\n",
       "      <td>1632181440</td>\n",
       "      <td>12</td>\n",
       "      <td>193.0</td>\n",
       "      <td>0.280952</td>\n",
       "      <td>0.281300</td>\n",
       "      <td>0.280175</td>\n",
       "      <td>0.280403</td>\n",
       "      <td>1.628699e+05</td>\n",
       "      <td>0.280655</td>\n",
       "      <td>0.000449</td>\n",
       "      <td>2021-09-20 23:44:00</td>\n",
       "      <td>Stellar</td>\n",
       "    </tr>\n",
       "    <tr>\n",
       "      <th>5298795</th>\n",
       "      <td>1632181440</td>\n",
       "      <td>11</td>\n",
       "      <td>38.0</td>\n",
       "      <td>232.075000</td>\n",
       "      <td>232.300000</td>\n",
       "      <td>231.310000</td>\n",
       "      <td>231.680000</td>\n",
       "      <td>4.914804e+01</td>\n",
       "      <td>231.794078</td>\n",
       "      <td>0.002568</td>\n",
       "      <td>2021-09-20 23:44:00</td>\n",
       "      <td>Monero</td>\n",
       "    </tr>\n",
       "  </tbody>\n",
       "</table>\n",
       "</div>"
      ],
      "text/plain": [
       "          timestamp  Asset_ID  Count         Open         High          Low  \\\n",
       "5298791  1632181440         9  163.0   156.502000   156.620000   156.000000   \n",
       "5298792  1632181440        10   23.0  2420.146667  2421.000000  2412.779000   \n",
       "5298793  1632181440        13  512.0     0.090989     0.091133     0.090831   \n",
       "5298794  1632181440        12  193.0     0.280952     0.281300     0.280175   \n",
       "5298795  1632181440        11   38.0   232.075000   232.300000   231.310000   \n",
       "\n",
       "               Close        Volume         VWAP    Target                time  \\\n",
       "5298791   156.075667  7.381963e+02   156.260253 -0.001154 2021-09-20 23:44:00   \n",
       "5298792  2414.069667  1.315794e+00  2417.326038  0.009831 2021-09-20 23:44:00   \n",
       "5298793     0.090885  1.900695e+06     0.090943  0.004163 2021-09-20 23:44:00   \n",
       "5298794     0.280403  1.628699e+05     0.280655  0.000449 2021-09-20 23:44:00   \n",
       "5298795   231.680000  4.914804e+01   231.794078  0.002568 2021-09-20 23:44:00   \n",
       "\n",
       "        Asset_Name  \n",
       "5298791   Litecoin  \n",
       "5298792      Maker  \n",
       "5298793       TRON  \n",
       "5298794    Stellar  \n",
       "5298795     Monero  "
      ]
     },
     "execution_count": 14,
     "metadata": {},
     "output_type": "execute_result"
    }
   ],
   "source": [
    "data.tail()"
   ]
  },
  {
   "cell_type": "code",
   "execution_count": 15,
   "id": "6d271962",
   "metadata": {
    "ExecuteTime": {
     "end_time": "2021-11-30T23:22:37.760073Z",
     "start_time": "2021-11-30T23:22:37.731520Z"
    }
   },
   "outputs": [],
   "source": [
    "from src.preprocessing.feature_gen import compute_instant_features\n",
    "from src.preprocessing.ingest_data import infer_dtypes\n",
    "from src.preprocessing import EXPECTED_RAW_COLS"
   ]
  },
  {
   "cell_type": "code",
   "execution_count": 16,
   "id": "a5631261",
   "metadata": {
    "ExecuteTime": {
     "end_time": "2021-11-30T23:22:39.049158Z",
     "start_time": "2021-11-30T23:22:37.765417Z"
    }
   },
   "outputs": [],
   "source": [
    "data = infer_dtypes(data)"
   ]
  },
  {
   "cell_type": "code",
   "execution_count": 17,
   "id": "5c298ad8",
   "metadata": {
    "ExecuteTime": {
     "end_time": "2021-11-30T23:22:40.134475Z",
     "start_time": "2021-11-30T23:22:39.052700Z"
    }
   },
   "outputs": [],
   "source": [
    "data = compute_instant_features(data)"
   ]
  },
  {
   "cell_type": "code",
   "execution_count": 18,
   "id": "0980f752",
   "metadata": {
    "ExecuteTime": {
     "end_time": "2021-11-30T23:22:40.178165Z",
     "start_time": "2021-11-30T23:22:40.138492Z"
    }
   },
   "outputs": [
    {
     "data": {
      "text/html": [
       "<div>\n",
       "<style scoped>\n",
       "    .dataframe tbody tr th:only-of-type {\n",
       "        vertical-align: middle;\n",
       "    }\n",
       "\n",
       "    .dataframe tbody tr th {\n",
       "        vertical-align: top;\n",
       "    }\n",
       "\n",
       "    .dataframe thead th {\n",
       "        text-align: right;\n",
       "    }\n",
       "</style>\n",
       "<table border=\"1\" class=\"dataframe\">\n",
       "  <thead>\n",
       "    <tr style=\"text-align: right;\">\n",
       "      <th></th>\n",
       "      <th>timestamp</th>\n",
       "      <th>Asset_ID</th>\n",
       "      <th>Count</th>\n",
       "      <th>High</th>\n",
       "      <th>Low</th>\n",
       "      <th>Close</th>\n",
       "      <th>Volume</th>\n",
       "      <th>VWAP</th>\n",
       "      <th>Target</th>\n",
       "      <th>time</th>\n",
       "      <th>Asset_Name</th>\n",
       "      <th>high_low_return</th>\n",
       "      <th>open_close_return</th>\n",
       "      <th>upper_shadow</th>\n",
       "      <th>lower_shadow</th>\n",
       "      <th>dolar_amount</th>\n",
       "      <th>vol_per_trades</th>\n",
       "    </tr>\n",
       "  </thead>\n",
       "  <tbody>\n",
       "    <tr>\n",
       "      <th>0</th>\n",
       "      <td>1609459260</td>\n",
       "      <td>3</td>\n",
       "      <td>104.0</td>\n",
       "      <td>1.001304</td>\n",
       "      <td>0.998924</td>\n",
       "      <td>0.181493</td>\n",
       "      <td>6.134333e+05</td>\n",
       "      <td>0.181527</td>\n",
       "      <td>0.001255</td>\n",
       "      <td>2021-01-01 00:01:00</td>\n",
       "      <td>Cardano</td>\n",
       "      <td>0.694338</td>\n",
       "      <td>0.693223</td>\n",
       "      <td>5.517041</td>\n",
       "      <td>0.181661</td>\n",
       "      <td>1.113339e+05</td>\n",
       "      <td>5898.397437</td>\n",
       "    </tr>\n",
       "    <tr>\n",
       "      <th>1</th>\n",
       "      <td>1609459260</td>\n",
       "      <td>2</td>\n",
       "      <td>275.0</td>\n",
       "      <td>1.002754</td>\n",
       "      <td>0.999601</td>\n",
       "      <td>342.966675</td>\n",
       "      <td>4.199310e+02</td>\n",
       "      <td>342.842194</td>\n",
       "      <td>-0.002884</td>\n",
       "      <td>2021-01-01 00:01:00</td>\n",
       "      <td>Bitcoin Cash</td>\n",
       "      <td>0.694723</td>\n",
       "      <td>0.693745</td>\n",
       "      <td>0.002924</td>\n",
       "      <td>342.693390</td>\n",
       "      <td>1.440223e+05</td>\n",
       "      <td>1.527022</td>\n",
       "    </tr>\n",
       "    <tr>\n",
       "      <th>2</th>\n",
       "      <td>1609459260</td>\n",
       "      <td>0</td>\n",
       "      <td>219.0</td>\n",
       "      <td>1.000992</td>\n",
       "      <td>0.999029</td>\n",
       "      <td>37.389000</td>\n",
       "      <td>2.749569e+03</td>\n",
       "      <td>37.387058</td>\n",
       "      <td>-0.001669</td>\n",
       "      <td>2021-01-01 00:01:00</td>\n",
       "      <td>Binance Coin</td>\n",
       "      <td>0.694129</td>\n",
       "      <td>0.693201</td>\n",
       "      <td>0.026772</td>\n",
       "      <td>37.421329</td>\n",
       "      <td>1.028036e+05</td>\n",
       "      <td>12.555111</td>\n",
       "    </tr>\n",
       "    <tr>\n",
       "      <th>3</th>\n",
       "      <td>1609459260</td>\n",
       "      <td>1</td>\n",
       "      <td>4039.0</td>\n",
       "      <td>1.003498</td>\n",
       "      <td>0.999120</td>\n",
       "      <td>29032.386719</td>\n",
       "      <td>1.637870e+02</td>\n",
       "      <td>29017.664062</td>\n",
       "      <td>0.000396</td>\n",
       "      <td>2021-01-01 00:01:00</td>\n",
       "      <td>Bitcoin</td>\n",
       "      <td>0.695336</td>\n",
       "      <td>0.693955</td>\n",
       "      <td>0.000035</td>\n",
       "      <td>29011.046875</td>\n",
       "      <td>4.755129e+06</td>\n",
       "      <td>0.040551</td>\n",
       "    </tr>\n",
       "    <tr>\n",
       "      <th>4</th>\n",
       "      <td>1609459260</td>\n",
       "      <td>4</td>\n",
       "      <td>84.0</td>\n",
       "      <td>1.002655</td>\n",
       "      <td>0.999443</td>\n",
       "      <td>0.004677</td>\n",
       "      <td>2.202482e+06</td>\n",
       "      <td>0.004675</td>\n",
       "      <td>-0.008679</td>\n",
       "      <td>2021-01-01 00:01:00</td>\n",
       "      <td>Dogecoin</td>\n",
       "      <td>0.694753</td>\n",
       "      <td>0.693843</td>\n",
       "      <td>214.375336</td>\n",
       "      <td>0.004673</td>\n",
       "      <td>1.030123e+04</td>\n",
       "      <td>26220.028831</td>\n",
       "    </tr>\n",
       "  </tbody>\n",
       "</table>\n",
       "</div>"
      ],
      "text/plain": [
       "    timestamp  Asset_ID   Count      High       Low         Close  \\\n",
       "0  1609459260         3   104.0  1.001304  0.998924      0.181493   \n",
       "1  1609459260         2   275.0  1.002754  0.999601    342.966675   \n",
       "2  1609459260         0   219.0  1.000992  0.999029     37.389000   \n",
       "3  1609459260         1  4039.0  1.003498  0.999120  29032.386719   \n",
       "4  1609459260         4    84.0  1.002655  0.999443      0.004677   \n",
       "\n",
       "         Volume          VWAP    Target                time    Asset_Name  \\\n",
       "0  6.134333e+05      0.181527  0.001255 2021-01-01 00:01:00       Cardano   \n",
       "1  4.199310e+02    342.842194 -0.002884 2021-01-01 00:01:00  Bitcoin Cash   \n",
       "2  2.749569e+03     37.387058 -0.001669 2021-01-01 00:01:00  Binance Coin   \n",
       "3  1.637870e+02  29017.664062  0.000396 2021-01-01 00:01:00       Bitcoin   \n",
       "4  2.202482e+06      0.004675 -0.008679 2021-01-01 00:01:00      Dogecoin   \n",
       "\n",
       "   high_low_return  open_close_return  upper_shadow  lower_shadow  \\\n",
       "0         0.694338           0.693223      5.517041      0.181661   \n",
       "1         0.694723           0.693745      0.002924    342.693390   \n",
       "2         0.694129           0.693201      0.026772     37.421329   \n",
       "3         0.695336           0.693955      0.000035  29011.046875   \n",
       "4         0.694753           0.693843    214.375336      0.004673   \n",
       "\n",
       "   dolar_amount  vol_per_trades  \n",
       "0  1.113339e+05     5898.397437  \n",
       "1  1.440223e+05        1.527022  \n",
       "2  1.028036e+05       12.555111  \n",
       "3  4.755129e+06        0.040551  \n",
       "4  1.030123e+04    26220.028831  "
      ]
     },
     "execution_count": 18,
     "metadata": {},
     "output_type": "execute_result"
    }
   ],
   "source": [
    "data.head()"
   ]
  },
  {
   "cell_type": "code",
   "execution_count": 19,
   "id": "b44d5f1a",
   "metadata": {
    "ExecuteTime": {
     "end_time": "2021-11-30T23:22:40.206622Z",
     "start_time": "2021-11-30T23:22:40.183209Z"
    }
   },
   "outputs": [
    {
     "data": {
      "text/plain": [
       "['timestamp',\n",
       " 'Asset_ID',\n",
       " 'Count',\n",
       " 'High',\n",
       " 'Low',\n",
       " 'Close',\n",
       " 'Volume',\n",
       " 'VWAP',\n",
       " 'Target',\n",
       " 'time',\n",
       " 'Asset_Name',\n",
       " 'high_low_return',\n",
       " 'open_close_return',\n",
       " 'upper_shadow',\n",
       " 'lower_shadow',\n",
       " 'dolar_amount',\n",
       " 'vol_per_trades']"
      ]
     },
     "execution_count": 19,
     "metadata": {},
     "output_type": "execute_result"
    }
   ],
   "source": [
    "list(data.columns)"
   ]
  },
  {
   "cell_type": "code",
   "execution_count": 20,
   "id": "ee6b551d",
   "metadata": {
    "ExecuteTime": {
     "end_time": "2021-11-30T23:22:40.239645Z",
     "start_time": "2021-11-30T23:22:40.209040Z"
    }
   },
   "outputs": [],
   "source": [
    "FEATURES = [\n",
    "'Count',\n",
    "'High',\n",
    "'Low',\n",
    "'Close',\n",
    "'Volume',\n",
    "'VWAP',\n",
    "'high_low_return',\n",
    "'open_close_return',\n",
    "'upper_shadow',\n",
    "'lower_shadow',\n",
    "'dolar_amount',\n",
    "'vol_per_trades'\n",
    "]"
   ]
  },
  {
   "cell_type": "code",
   "execution_count": 21,
   "id": "4fcd4e69",
   "metadata": {
    "ExecuteTime": {
     "end_time": "2021-11-30T23:22:40.541691Z",
     "start_time": "2021-11-30T23:22:40.243007Z"
    }
   },
   "outputs": [],
   "source": [
    "from sklearn.linear_model import LogisticRegression, LinearRegression, Lasso, Ridge\n",
    "from sklearn.preprocessing import MinMaxScaler, FunctionTransformer\n",
    "from sklearn.pipeline import Pipeline\n",
    "from sklearn.base import BaseEstimator, TransformerMixin\n",
    "from typing import List\n",
    "\n",
    "\n",
    "class FilterFeatures(BaseEstimator, TransformerMixin):\n",
    "    def __init__(self,\n",
    "                 features: List[str] = None,\n",
    "                 sort: bool = False):\n",
    "        self.sort = sort\n",
    "        self.features = features[:]\n",
    "        if self.sort:\n",
    "            self.features.sort()\n",
    "    \n",
    "    def fit(self, X: pd.DataFrame, y=None):\n",
    "        return self\n",
    "    \n",
    "    def transform(self, X: pd.DataFrame):\n",
    "        return X.loc[:, self.features]\n",
    "\n",
    "    \n",
    "def test_filter_features():\n",
    "    n_feat = 100\n",
    "    size = 500\n",
    "    t = 100\n",
    "    expected_columns = [f'{f}_ft' for f in np.arange(n_feat)]\n",
    "    \n",
    "    expected_df = pd.DataFrame(np.random.randn(size, n_feat), columns=expected_columns)\n",
    "    tmf = FilterFeatures(expected_columns)\n",
    "    tmf.fit(expected_df)\n",
    "    \n",
    "    for i in range(t):\n",
    "        shuffle_columns = np.random.permutation(expected_columns)\n",
    "        shuffle_df = expected_df.loc[:, shuffle_columns]\n",
    "        actual_columns = list(tmf.transform(shuffle_df).columns)\n",
    "        assert (actual_columns == expected_columns), f'cols do not match at iter {i}'\n",
    "    \n",
    "test_filter_features()\n",
    "\n",
    "def build_model(params={'alpha': 0.001}):\n",
    "    model = Pipeline([('filter', FilterFeatures(FEATURES)),\n",
    "                      ('norm', MinMaxScaler()),\n",
    "                      ('model', Ridge(params['alpha']))])\n",
    "    return model"
   ]
  },
  {
   "cell_type": "code",
   "execution_count": 22,
   "id": "d2c9a4b9",
   "metadata": {
    "ExecuteTime": {
     "end_time": "2021-11-30T23:22:40.566214Z",
     "start_time": "2021-11-30T23:22:40.544768Z"
    }
   },
   "outputs": [],
   "source": [
    "def train_model(config, train_data, valid_data, pipeline=None):\n",
    "    model  = build_model(config['model'])\n",
    "\n",
    "    if config['training']['time_decay_alpha'] is not None:\n",
    "        time_decay_alpha = config['training']['time_decay_alpha']\n",
    "        print(f'using exponential_time_decay with alpha {time_decay_alpha}')\n",
    "        timesteps = ((train_data['timestamp'].max() - train_data['timestamp'])//60//60//24)\n",
    "        weight = time_decay_alpha ** timesteps\n",
    "    else:\n",
    "        weight = None\n",
    "\n",
    "    model.fit(train_data[FEATURES], train_data['Target'], model__sample_weight=weight)\n",
    "    return model\n",
    "\n",
    "\n",
    "def get_mask_for_asset(data: pd.DataFrame, asset_id: int):\n",
    "    return (data['Asset_ID'] == asset_id)\n",
    "\n",
    "\n",
    "def get_data_for_asset(data: pd.DataFrame, asset_id: int):\n",
    "    mask = get_mask_for_asset(data, asset_id)\n",
    "    return data.loc[mask, :].reset_index(drop=True), mask"
   ]
  },
  {
   "cell_type": "code",
   "execution_count": 23,
   "id": "5fec683f",
   "metadata": {
    "ExecuteTime": {
     "end_time": "2021-11-30T23:22:40.594672Z",
     "start_time": "2021-11-30T23:22:40.569532Z"
    }
   },
   "outputs": [],
   "source": [
    "PULIC_LB_RANGE = ['2021-06-13 00:00:00',\n",
    "                  '2021-09-13 00:00:00'] # 3 MONTH WORTH OF DATA\n",
    "\n",
    "if USE_TOY_SAMPLE:\n",
    "    EVAL_PERIODS = [['2021-09-15', '2021-09-22']]\n",
    "\n",
    "else:\n",
    "    EVAL_PERIODS = [PULIC_LB_RANGE]"
   ]
  },
  {
   "cell_type": "code",
   "execution_count": 24,
   "id": "b8fa6271",
   "metadata": {
    "ExecuteTime": {
     "end_time": "2021-11-30T23:22:40.754335Z",
     "start_time": "2021-11-30T23:22:40.730336Z"
    }
   },
   "outputs": [],
   "source": [
    "CV_PARAMS = {'gap_unit': 'min', 'dt_col': 'time'}\n",
    "\n",
    "CV = TimeSeriesSplit(EVAL_PERIODS, **CV_PARAMS)"
   ]
  },
  {
   "cell_type": "code",
   "execution_count": 25,
   "id": "adb6ebfd",
   "metadata": {
    "ExecuteTime": {
     "end_time": "2021-11-30T23:22:42.110713Z",
     "start_time": "2021-11-30T23:22:41.937749Z"
    }
   },
   "outputs": [],
   "source": [
    "train_idx, valid_idx = next(iter(CV.split(data)))"
   ]
  },
  {
   "cell_type": "code",
   "execution_count": 26,
   "id": "dc6d6858",
   "metadata": {
    "ExecuteTime": {
     "end_time": "2021-11-30T23:22:43.068961Z",
     "start_time": "2021-11-30T23:22:42.242426Z"
    }
   },
   "outputs": [],
   "source": [
    "train_data = data.loc[train_idx, :].reset_index(drop=True)"
   ]
  },
  {
   "cell_type": "code",
   "execution_count": 27,
   "id": "7350c2c7",
   "metadata": {
    "ExecuteTime": {
     "end_time": "2021-11-30T23:22:43.434258Z",
     "start_time": "2021-11-30T23:22:43.072169Z"
    }
   },
   "outputs": [],
   "source": [
    "valid_data = data.loc[valid_idx, :].reset_index(drop=True)"
   ]
  },
  {
   "cell_type": "code",
   "execution_count": 28,
   "id": "c19c1ce2",
   "metadata": {
    "ExecuteTime": {
     "end_time": "2021-11-30T23:22:43.479888Z",
     "start_time": "2021-11-30T23:22:43.437203Z"
    }
   },
   "outputs": [
    {
     "data": {
      "text/plain": [
       "min   2021-01-01 00:01:00\n",
       "max   2021-06-12 23:59:00\n",
       "Name: time, dtype: datetime64[ns]"
      ]
     },
     "execution_count": 28,
     "metadata": {},
     "output_type": "execute_result"
    }
   ],
   "source": [
    "get_date_range(train_data['time'])"
   ]
  },
  {
   "cell_type": "code",
   "execution_count": 29,
   "id": "90d2808e",
   "metadata": {
    "ExecuteTime": {
     "end_time": "2021-11-30T23:22:44.317861Z",
     "start_time": "2021-11-30T23:22:44.277710Z"
    }
   },
   "outputs": [
    {
     "data": {
      "text/plain": [
       "min   2021-06-13\n",
       "max   2021-09-13\n",
       "Name: time, dtype: datetime64[ns]"
      ]
     },
     "execution_count": 29,
     "metadata": {},
     "output_type": "execute_result"
    }
   ],
   "source": [
    "get_date_range(valid_data['time'])"
   ]
  },
  {
   "cell_type": "code",
   "execution_count": 30,
   "id": "657cc10f",
   "metadata": {
    "ExecuteTime": {
     "end_time": "2021-11-30T23:22:44.529738Z",
     "start_time": "2021-11-30T23:22:44.509511Z"
    }
   },
   "outputs": [],
   "source": [
    "MODEL_CONFIG = {'alpha': 0.001}\n",
    "TRAIN_CONFIG = {'time_decay_alpha': 0.99}\n",
    "CONFIG = {'model': MODEL_CONFIG, 'training': TRAIN_CONFIG}"
   ]
  },
  {
   "cell_type": "code",
   "execution_count": 31,
   "id": "9c649420",
   "metadata": {
    "ExecuteTime": {
     "end_time": "2021-11-30T23:22:50.163931Z",
     "start_time": "2021-11-30T23:22:44.821208Z"
    }
   },
   "outputs": [
    {
     "name": "stdout",
     "output_type": "stream",
     "text": [
      "training model for asset_ID == 0\n",
      "using exponential_time_decay with alpha 0.99\n",
      "training model for asset_ID == 1\n",
      "using exponential_time_decay with alpha 0.99\n",
      "training model for asset_ID == 2\n",
      "using exponential_time_decay with alpha 0.99\n",
      "training model for asset_ID == 3\n",
      "using exponential_time_decay with alpha 0.99\n",
      "training model for asset_ID == 4\n",
      "using exponential_time_decay with alpha 0.99\n",
      "training model for asset_ID == 5\n",
      "using exponential_time_decay with alpha 0.99\n",
      "training model for asset_ID == 6\n",
      "using exponential_time_decay with alpha 0.99\n",
      "training model for asset_ID == 7\n",
      "using exponential_time_decay with alpha 0.99\n",
      "training model for asset_ID == 8\n",
      "using exponential_time_decay with alpha 0.99\n",
      "training model for asset_ID == 9\n",
      "using exponential_time_decay with alpha 0.99\n",
      "training model for asset_ID == 10\n",
      "using exponential_time_decay with alpha 0.99\n",
      "training model for asset_ID == 11\n",
      "using exponential_time_decay with alpha 0.99\n",
      "training model for asset_ID == 12\n",
      "using exponential_time_decay with alpha 0.99\n",
      "training model for asset_ID == 13\n",
      "using exponential_time_decay with alpha 0.99\n"
     ]
    }
   ],
   "source": [
    "valid_yhat = np.zeros(len(valid_data))\n",
    "MODELS = {}\n",
    "for asset_id, train_asset_data in data.groupby(\"Asset_ID\"):\n",
    "    print(f'training model for asset_ID == {asset_id}')\n",
    "    train_asset_data = train_asset_data.reset_index(drop=True)\n",
    "    valid_mask = (valid_data['Asset_ID'] == asset_id)\n",
    "    valid_asset_data = valid_data.loc[valid_mask, :].reset_index(drop=True)\n",
    "    \n",
    "    \n",
    "    model = train_model(CONFIG, train_asset_data, valid_asset_data)\n",
    "    MODELS[asset_id] = model\n",
    "    valid_yhat[valid_mask] = model.predict(valid_asset_data)"
   ]
  },
  {
   "cell_type": "code",
   "execution_count": 84,
   "id": "a7b0170b",
   "metadata": {
    "ExecuteTime": {
     "end_time": "2021-11-29T12:31:19.615990Z",
     "start_time": "2021-11-29T12:31:19.594310Z"
    }
   },
   "outputs": [],
   "source": [
    "valid_data['yhat'] = valid_yhat"
   ]
  },
  {
   "cell_type": "code",
   "execution_count": 107,
   "id": "9fae049f",
   "metadata": {
    "ExecuteTime": {
     "end_time": "2021-11-29T12:37:17.258045Z",
     "start_time": "2021-11-29T12:37:16.233216Z"
    }
   },
   "outputs": [],
   "source": [
    "scores, corrs = compute_metrics(valid_data)"
   ]
  },
  {
   "cell_type": "code",
   "execution_count": 108,
   "id": "6cda361d",
   "metadata": {
    "ExecuteTime": {
     "end_time": "2021-11-29T12:37:17.285990Z",
     "start_time": "2021-11-29T12:37:17.260715Z"
    }
   },
   "outputs": [
    {
     "data": {
      "text/plain": [
       "theor_corr             0.034376\n",
       "weighted_corr          0.033282\n",
       "crypto_consistency    13.000000\n",
       "sharpe                 1.459421\n",
       "corr_period_mean       0.033190\n",
       "consistency            1.000000\n",
       "corr_period_std        0.022742\n",
       "min_period_corr        0.005145\n",
       "corr_min              -0.001999\n",
       "corr_max               0.066544\n",
       "corr_std               0.021524\n",
       "dtype: float64"
      ]
     },
     "execution_count": 108,
     "metadata": {},
     "output_type": "execute_result"
    }
   ],
   "source": [
    "scores"
   ]
  },
  {
   "cell_type": "code",
   "execution_count": 109,
   "id": "706e01f1",
   "metadata": {
    "ExecuteTime": {
     "end_time": "2021-11-29T12:37:21.373884Z",
     "start_time": "2021-11-29T12:37:21.193425Z"
    }
   },
   "outputs": [
    {
     "data": {
      "text/plain": [
       "<matplotlib.lines.Line2D at 0x7fc2fa55ef50>"
      ]
     },
     "execution_count": 109,
     "metadata": {},
     "output_type": "execute_result"
    },
    {
     "data": {
      "image/png": "[encoded data removed]",
      "text/plain": [
       "<Figure size 864x360 with 1 Axes>"
      ]
     },
     "metadata": {
      "needs_background": "light"
     },
     "output_type": "display_data"
    }
   ],
   "source": [
    "plt.figure(figsize=(12, 5))\n",
    "sns.barplot(x='Asset_Name', y='corr', data=corrs)\n",
    "plt.xticks(rotation=90);\n",
    "plt.axhline(0.001, color='red')"
   ]
  },
  {
   "cell_type": "code",
   "execution_count": 78,
   "id": "1e0c2745",
   "metadata": {
    "ExecuteTime": {
     "end_time": "2021-11-29T12:31:00.992937Z",
     "start_time": "2021-11-29T12:31:00.978577Z"
    }
   },
   "outputs": [],
   "source": [
    "def _create_fi_pd(features, importances):\n",
    "    return (pd.DataFrame({'feature': features, 'importance': importances})\n",
    "            .sort_values(by=['importance']).reset_index(drop=True))\n",
    "\n",
    "def compute_fi(pipeline):\n",
    "    return _create_fi_pd(pipeline['filter'].features, pipeline['model'].coef_)"
   ]
  },
  {
   "cell_type": "code",
   "execution_count": 79,
   "id": "0b71617e",
   "metadata": {
    "ExecuteTime": {
     "end_time": "2021-11-29T12:31:01.343592Z",
     "start_time": "2021-11-29T12:31:01.305564Z"
    }
   },
   "outputs": [],
   "source": [
    "fi = pd.concat([compute_fi(model).assign(Asset_ID=asset) for asset, model in MODELS.items()])"
   ]
  },
  {
   "cell_type": "code",
   "execution_count": 80,
   "id": "c9c8e110",
   "metadata": {
    "ExecuteTime": {
     "end_time": "2021-11-29T12:31:01.814122Z",
     "start_time": "2021-11-29T12:31:01.774356Z"
    }
   },
   "outputs": [],
   "source": [
    "fi_stats = fi.groupby('feature')['importance'].describe()\n",
    "fi_stats['abs_mean'] = fi_stats['mean'].abs()\n",
    "fi_stats = fi_stats.sort_values(by='abs_mean', ascending=False)"
   ]
  },
  {
   "cell_type": "code",
   "execution_count": 81,
   "id": "7560c1fd",
   "metadata": {
    "ExecuteTime": {
     "end_time": "2021-11-29T12:31:02.840694Z",
     "start_time": "2021-11-29T12:31:02.429901Z"
    }
   },
   "outputs": [
    {
     "data": {
      "text/plain": [
       "<AxesSubplot:xlabel='importance', ylabel='feature'>"
      ]
     },
     "execution_count": 81,
     "metadata": {},
     "output_type": "execute_result"
    },
    {
     "data": {
      "image/png": "[encoded data removed]",
      "text/plain": [
       "<Figure size 432x288 with 1 Axes>"
      ]
     },
     "metadata": {
      "needs_background": "light"
     },
     "output_type": "display_data"
    }
   ],
   "source": [
    "sns.barplot(data=fi, y='feature', x='importance', order=fi_stats.index)"
   ]
  },
  {
   "cell_type": "code",
   "execution_count": 45,
   "id": "43650874",
   "metadata": {
    "ExecuteTime": {
     "end_time": "2021-11-28T23:48:57.514734Z",
     "start_time": "2021-11-28T23:48:57.495742Z"
    }
   },
   "outputs": [],
   "source": [
    "def add_kaggle_index_columns(data: pd.DataFrame):\n",
    "    data['row_id'] = list(range(len(data)))\n",
    "    data['row_id'] = data['row_id'].astype(np.int32)\n",
    "    group_num = data[['timestamp']].drop_duplicates().sort_values(by='timestamp')\n",
    "    group_num['group_num'] = list(range(len(group_num)))\n",
    "    data = data.merge(group_num, on='timestamp', how='left')\n",
    "    assert data['group_num'].isna().sum() == 0\n",
    "    return data\n",
    "    \n",
    "    \n",
    "EXPECTED_RAW_COLS = ['timestamp', 'Asset_ID', 'Count',\n",
    "                     'Open', 'High', 'Low', 'Close',\n",
    "                     'Volume', 'VWAP']\n",
    "\n",
    "def simulate_kaggle_api(data: pd.DataFrame):\n",
    "    copy_data = data.copy()\n",
    "    data = add_kaggle_index_columns(copy_data)\n",
    "    \n",
    "    for group_id, group_data in data.groupby('group_num'):\n",
    "        group_data = group_data.reset_index(drop=True)\n",
    "        submission = group_data.loc[:, ['row_id', 'Target']]\n",
    "        yield group_data.loc[:, EXPECTED_RAW_COLS + ['row_id']], submission\n"
   ]
  },
  {
   "cell_type": "code",
   "execution_count": 46,
   "id": "ebd7d75b",
   "metadata": {
    "ExecuteTime": {
     "end_time": "2021-11-28T23:48:57.541669Z",
     "start_time": "2021-11-28T23:48:57.517112Z"
    }
   },
   "outputs": [],
   "source": [
    "raw_test_mask = raw_data['timestamp'].between(valid_data['timestamp'].min(), valid_data['timestamp'].max())\n",
    "raw_test_df_iter = raw_data[raw_test_mask].reset_index(drop=True)\n",
    "assert np.allclose(raw_test_df_iter['Target'].dropna(), valid_data['Target'])"
   ]
  },
  {
   "cell_type": "code",
   "execution_count": 47,
   "id": "b6d9147d",
   "metadata": {
    "ExecuteTime": {
     "end_time": "2021-11-28T23:48:57.563939Z",
     "start_time": "2021-11-28T23:48:57.545845Z"
    }
   },
   "outputs": [
    {
     "data": {
      "text/plain": [
       "1631664000"
      ]
     },
     "execution_count": 47,
     "metadata": {},
     "output_type": "execute_result"
    }
   ],
   "source": [
    "raw_test_df_iter['timestamp'].min()"
   ]
  },
  {
   "cell_type": "code",
   "execution_count": 48,
   "id": "2bad47f0",
   "metadata": {
    "ExecuteTime": {
     "end_time": "2021-11-28T23:48:57.587523Z",
     "start_time": "2021-11-28T23:48:57.567597Z"
    }
   },
   "outputs": [],
   "source": [
    "test_iter = simulate_kaggle_api(raw_test_df_iter)"
   ]
  },
  {
   "cell_type": "code",
   "execution_count": 49,
   "id": "ed34ddd1",
   "metadata": {
    "ExecuteTime": {
     "end_time": "2021-11-28T23:48:57.605273Z",
     "start_time": "2021-11-28T23:48:57.590797Z"
    }
   },
   "outputs": [],
   "source": [
    "from src.preprocessing import inference\n",
    "import time\n",
    "import sys"
   ]
  },
  {
   "cell_type": "code",
   "execution_count": 50,
   "id": "88baf3ec",
   "metadata": {
    "ExecuteTime": {
     "end_time": "2021-11-28T23:58:01.510630Z",
     "start_time": "2021-11-28T23:48:57.607162Z"
    }
   },
   "outputs": [
    {
     "name": "stdout",
     "output_type": "stream",
     "text": [
      "5.988888888888889 daysssss\r"
     ]
    }
   ],
   "source": [
    "actual_submission = []\n",
    "elapsed_times = []\n",
    "i = 0\n",
    "for raw_test_df, submission in test_iter:\n",
    "    print('{} days'.format(i/(24 * 60)), end='\\r')\n",
    "    start_inference_time = time.time()\n",
    "    submission = inference(test_data=raw_test_df, submission=submission,\n",
    "                            models=MODELS)\n",
    "    inference_elapsed_time = time.time() - start_inference_time \n",
    "    elapsed_times.append(inference_elapsed_time)\n",
    "    actual_submission.append(submission)\n",
    "    i+=1\n",
    "    sys.stdout.flush()"
   ]
  },
  {
   "cell_type": "code",
   "execution_count": 51,
   "id": "24ba5e89",
   "metadata": {
    "ExecuteTime": {
     "end_time": "2021-11-28T23:58:02.258514Z",
     "start_time": "2021-11-28T23:58:01.512564Z"
    }
   },
   "outputs": [],
   "source": [
    "actual_submission_df = pd.concat(actual_submission, ignore_index=True)"
   ]
  },
  {
   "cell_type": "code",
   "execution_count": 52,
   "id": "cf23ce22",
   "metadata": {
    "ExecuteTime": {
     "end_time": "2021-11-28T23:58:02.278906Z",
     "start_time": "2021-11-28T23:58:02.260788Z"
    }
   },
   "outputs": [],
   "source": [
    "index_template = raw_test_df_iter[['timestamp', 'Asset_ID']].assign(row_id=np.arange(len(raw_test_df_iter)))"
   ]
  },
  {
   "cell_type": "code",
   "execution_count": 53,
   "id": "eca0b39c",
   "metadata": {
    "ExecuteTime": {
     "end_time": "2021-11-28T23:58:02.317376Z",
     "start_time": "2021-11-28T23:58:02.280911Z"
    }
   },
   "outputs": [],
   "source": [
    "actual_submission_df = index_template.merge(actual_submission_df, on=['row_id'], how='left')"
   ]
  },
  {
   "cell_type": "code",
   "execution_count": 54,
   "id": "f53e2432",
   "metadata": {
    "ExecuteTime": {
     "end_time": "2021-11-28T23:58:02.362108Z",
     "start_time": "2021-11-28T23:58:02.320024Z"
    }
   },
   "outputs": [],
   "source": [
    "yhat_test = valid_data[['timestamp', 'Asset_ID', 'yhat']].merge(actual_submission_df, on=['timestamp', 'Asset_ID'], how='left')\n",
    "yhat_test = yhat_test.dropna()"
   ]
  },
  {
   "cell_type": "code",
   "execution_count": 55,
   "id": "5f5c1f48",
   "metadata": {
    "ExecuteTime": {
     "end_time": "2021-11-28T23:58:02.386696Z",
     "start_time": "2021-11-28T23:58:02.363751Z"
    }
   },
   "outputs": [
    {
     "data": {
      "text/plain": [
       "2.0673221387150413e-07"
      ]
     },
     "execution_count": 55,
     "metadata": {},
     "output_type": "execute_result"
    }
   ],
   "source": [
    "error = (yhat_test['yhat'] -  yhat_test['Target']) / yhat_test['yhat']\n",
    "error.abs().max()"
   ]
  },
  {
   "cell_type": "code",
   "execution_count": 56,
   "id": "740f2970",
   "metadata": {
    "ExecuteTime": {
     "end_time": "2021-11-28T23:58:02.405977Z",
     "start_time": "2021-11-28T23:58:02.388982Z"
    }
   },
   "outputs": [
    {
     "data": {
      "text/plain": [
       "True"
      ]
     },
     "execution_count": 56,
     "metadata": {},
     "output_type": "execute_result"
    }
   ],
   "source": [
    "np.allclose(yhat_test['yhat'], yhat_test['Target'])"
   ]
  },
  {
   "cell_type": "code",
   "execution_count": 57,
   "id": "81e9926f",
   "metadata": {
    "ExecuteTime": {
     "end_time": "2021-11-28T23:58:02.425875Z",
     "start_time": "2021-11-28T23:58:02.408067Z"
    }
   },
   "outputs": [
    {
     "data": {
      "text/plain": [
       "(0.06107479883276898, 0.21312308311462402)"
      ]
     },
     "execution_count": 57,
     "metadata": {},
     "output_type": "execute_result"
    }
   ],
   "source": [
    "np.mean(elapsed_times), np.max(elapsed_times)"
   ]
  },
  {
   "cell_type": "code",
   "execution_count": 58,
   "id": "22ec4ac6",
   "metadata": {
    "ExecuteTime": {
     "end_time": "2021-11-28T23:58:02.448657Z",
     "start_time": "2021-11-28T23:58:02.430213Z"
    }
   },
   "outputs": [
    {
     "data": {
      "text/plain": [
       "8.77950233221054"
      ]
     },
     "execution_count": 58,
     "metadata": {},
     "output_type": "execute_result"
    }
   ],
   "source": [
    "np.sum(elapsed_times) / 60"
   ]
  },
  {
   "cell_type": "code",
   "execution_count": 68,
   "id": "2c8a6ba6",
   "metadata": {
    "ExecuteTime": {
     "end_time": "2021-11-29T00:00:36.468967Z",
     "start_time": "2021-11-29T00:00:36.446731Z"
    }
   },
   "outputs": [
    {
     "data": {
      "text/plain": [
       "2.1986927579796833"
      ]
     },
     "execution_count": 68,
     "metadata": {},
     "output_type": "execute_result"
    }
   ],
   "source": [
    "days = 90\n",
    "total = 0.06107479883276898 * (days * 24 * 60)\n",
    "total / 60 / 60"
   ]
  },
  {
   "cell_type": "code",
   "execution_count": null,
   "id": "1bb9cfd4",
   "metadata": {},
   "outputs": [],
   "source": []
  }
 ],
 "metadata": {
  "kernelspec": {
   "display_name": "Python 3 (ipykernel)",
   "language": "python",
   "name": "python3"
  },
  "language_info": {
   "codemirror_mode": {
    "name": "ipython",
    "version": 3
   },
   "file_extension": ".py",
   "mimetype": "text/x-python",
   "name": "python",
   "nbconvert_exporter": "python",
   "pygments_lexer": "ipython3",
   "version": "3.7.11"
  },
  "toc": {
   "base_numbering": 1,
   "nav_menu": {},
   "number_sections": true,
   "sideBar": true,
   "skip_h1_title": false,
   "title_cell": "Table of Contents",
   "title_sidebar": "Contents",
   "toc_cell": false,
   "toc_position": {},
   "toc_section_display": true,
   "toc_window_display": false
  }
 },
 "nbformat": 4,
 "nbformat_minor": 5
}
