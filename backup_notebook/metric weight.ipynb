{
 "cells": [
  {
   "cell_type": "code",
   "execution_count": 1,
   "id": "33f16f59",
   "metadata": {
    "ExecuteTime": {
     "end_time": "2021-11-11T00:44:44.852663Z",
     "start_time": "2021-11-11T00:44:44.835314Z"
    }
   },
   "outputs": [],
   "source": [
    "%load_ext autoreload\n",
    "%autoreload 2"
   ]
  },
  {
   "cell_type": "code",
   "execution_count": 2,
   "id": "f255bb4e",
   "metadata": {
    "ExecuteTime": {
     "end_time": "2021-11-11T00:44:45.567208Z",
     "start_time": "2021-11-11T00:44:44.856432Z"
    }
   },
   "outputs": [],
   "source": [
    "import pandas as pd\n",
    "import numpy as np\n",
    "from matplotlib import pyplot as plt\n",
    "import seaborn as sns\n",
    "from pathlib import Path\n",
    "import os\n",
    "import sys\n",
    "from IPython.display import display"
   ]
  },
  {
   "cell_type": "code",
   "execution_count": 3,
   "id": "136f5247",
   "metadata": {
    "ExecuteTime": {
     "end_time": "2021-11-11T00:44:45.583348Z",
     "start_time": "2021-11-11T00:44:45.569966Z"
    }
   },
   "outputs": [],
   "source": [
    "def on_kaggle() -> bool:\n",
    "    try:\n",
    "        import gresearch_crypto\n",
    "        return True\n",
    "    except ModuleNotFoundError:\n",
    "        return False"
   ]
  },
  {
   "cell_type": "code",
   "execution_count": 4,
   "id": "432ba6ef",
   "metadata": {
    "ExecuteTime": {
     "end_time": "2021-11-11T00:44:45.614438Z",
     "start_time": "2021-11-11T00:44:45.585767Z"
    }
   },
   "outputs": [],
   "source": [
    "# HYPER PARAMETERS\n",
    "ON_KAGGLE = on_kaggle()\n",
    "SAMPLE_LEVEL = 0\n",
    "USE_SAMPLE = SAMPLE_LEVEL == 1\n",
    "USE_TOY_SAMPLE = SAMPLE_LEVEL == 2\n",
    "\n",
    "FORCE_REWRITE = True#(ON_KAGGLE and SAMPLE_LEVEL == 0)"
   ]
  },
  {
   "cell_type": "code",
   "execution_count": 5,
   "id": "3ee2a957",
   "metadata": {
    "ExecuteTime": {
     "end_time": "2021-11-11T00:44:45.631580Z",
     "start_time": "2021-11-11T00:44:45.616596Z"
    }
   },
   "outputs": [],
   "source": [
    "if not ON_KAGGLE and os.path.abspath('.').endswith('notebook'):\n",
    "    os.chdir('../')"
   ]
  },
  {
   "cell_type": "code",
   "execution_count": 6,
   "id": "eee46e84",
   "metadata": {
    "ExecuteTime": {
     "end_time": "2021-11-11T00:44:45.884338Z",
     "start_time": "2021-11-11T00:44:45.633632Z"
    }
   },
   "outputs": [],
   "source": [
    "#IMPORT_SCRIPT!\n",
    "# THIS CELL WILL BE REMOVE WITH SCRIPTS IN SRC\n",
    "if './src/' not in sys.path:\n",
    "    sys.path.append('./src/')\n",
    "\n",
    "from preprocessing import *\n",
    "from metrics import *\n",
    "from cv import *\n",
    "from modeling import *\n",
    "from tracking import track_experiment\n",
    "import util"
   ]
  },
  {
   "cell_type": "code",
   "execution_count": 7,
   "id": "5dcd141e",
   "metadata": {
    "ExecuteTime": {
     "end_time": "2021-11-11T00:44:45.904063Z",
     "start_time": "2021-11-11T00:44:45.886061Z"
    }
   },
   "outputs": [],
   "source": [
    "if ON_KAGGLE:\n",
    "    RAW_DIR = Path('../input/g-research-crypto-forecasting/')\n",
    "    SAMPLE_DIR = Path('../input/create-sample-dataset/data/raw/sample/')\n",
    "    TOY_SAMPLE_DIR = Path('../input/create-sample-dataset/data/raw/toy_sample/')\n",
    "else:\n",
    "    RAW_DIR =  Path('data/raw')\n",
    "    TOY_SAMPLE_DIR = RAW_DIR.joinpath('toy_sample')\n",
    "    SAMPLE_DIR = RAW_DIR.joinpath('sample')\n",
    "\n",
    "# filename\n",
    "TRAIN_FILE = 'train.csv'\n",
    "ASSET_DETAILS_PATH = RAW_DIR / 'asset_details.csv'"
   ]
  },
  {
   "cell_type": "code",
   "execution_count": 8,
   "id": "74f7a9ab",
   "metadata": {
    "ExecuteTime": {
     "end_time": "2021-11-11T00:44:45.940976Z",
     "start_time": "2021-11-11T00:44:45.905903Z"
    }
   },
   "outputs": [
    {
     "name": "stdout",
     "output_type": "stream",
     "text": [
      "USING RAW DATASET\n"
     ]
    }
   ],
   "source": [
    "if USE_TOY_SAMPLE:\n",
    "    print('USING TOY DATASET')\n",
    "    RAW_TRAIN_PATH = TOY_SAMPLE_DIR / TRAIN_FILE\n",
    "\n",
    "elif USE_SAMPLE:\n",
    "    print('USING SAMPLE DATASET')\n",
    "    RAW_TRAIN_PATH = SAMPLE_DIR / TRAIN_FILE\n",
    "\n",
    "else:\n",
    "    print('USING RAW DATASET')\n",
    "    RAW_TRAIN_PATH = RAW_DIR / TRAIN_FILE\n",
    "\n",
    "assert RAW_TRAIN_PATH.exists()"
   ]
  },
  {
   "cell_type": "code",
   "execution_count": 9,
   "id": "28ef35af",
   "metadata": {
    "ExecuteTime": {
     "end_time": "2021-11-11T00:44:46.078168Z",
     "start_time": "2021-11-11T00:44:45.943151Z"
    }
   },
   "outputs": [
    {
     "name": "stdout",
     "output_type": "stream",
     "text": [
      "asset_details.csv\t\t   sample\r\n",
      "example_sample_submission.csv\t   supplemental_train.csv\r\n",
      "example_test.csv\t\t   toy_sample\r\n",
      "g-research-crypto-forecasting.zip  train.csv\r\n",
      "gresearch_crypto\r\n"
     ]
    }
   ],
   "source": [
    "!ls {RAW_DIR}"
   ]
  },
  {
   "cell_type": "code",
   "execution_count": 10,
   "id": "4b479f0e",
   "metadata": {
    "ExecuteTime": {
     "end_time": "2021-11-11T00:45:09.234429Z",
     "start_time": "2021-11-11T00:44:46.083914Z"
    },
    "scrolled": true
   },
   "outputs": [
    {
     "name": "stdout",
     "output_type": "stream",
     "text": [
      "CPU times: user 18.8 s, sys: 1.87 s, total: 20.7 s\n",
      "Wall time: 23.1 s\n"
     ]
    }
   ],
   "source": [
    "%%time \n",
    "raw_df = pd.read_csv(RAW_TRAIN_PATH)"
   ]
  },
  {
   "cell_type": "code",
   "execution_count": 11,
   "id": "5be54336",
   "metadata": {
    "ExecuteTime": {
     "end_time": "2021-11-11T00:45:20.181776Z",
     "start_time": "2021-11-11T00:45:09.236615Z"
    }
   },
   "outputs": [],
   "source": [
    "raw_df = ingest_data(raw_df, asset_details_path=ASSET_DETAILS_PATH)"
   ]
  },
  {
   "cell_type": "code",
   "execution_count": 12,
   "id": "d1722287",
   "metadata": {
    "ExecuteTime": {
     "end_time": "2021-11-11T00:45:29.555025Z",
     "start_time": "2021-11-11T00:45:20.184670Z"
    }
   },
   "outputs": [],
   "source": [
    "raw_df.sort_values(by=['Asset_ID', 'date'], inplace=True)\n",
    "raw_df.reset_index(drop=True, inplace=True)"
   ]
  },
  {
   "cell_type": "code",
   "execution_count": 13,
   "id": "3f9f8d35",
   "metadata": {
    "ExecuteTime": {
     "end_time": "2021-11-11T00:45:29.596171Z",
     "start_time": "2021-11-11T00:45:29.556938Z"
    },
    "scrolled": true
   },
   "outputs": [
    {
     "data": {
      "text/html": [
       "<div>\n",
       "<style scoped>\n",
       "    .dataframe tbody tr th:only-of-type {\n",
       "        vertical-align: middle;\n",
       "    }\n",
       "\n",
       "    .dataframe tbody tr th {\n",
       "        vertical-align: top;\n",
       "    }\n",
       "\n",
       "    .dataframe thead th {\n",
       "        text-align: right;\n",
       "    }\n",
       "</style>\n",
       "<table border=\"1\" class=\"dataframe\">\n",
       "  <thead>\n",
       "    <tr style=\"text-align: right;\">\n",
       "      <th></th>\n",
       "      <th>timestamp</th>\n",
       "      <th>Asset_ID</th>\n",
       "      <th>Count</th>\n",
       "      <th>Open</th>\n",
       "      <th>High</th>\n",
       "      <th>Low</th>\n",
       "      <th>Close</th>\n",
       "      <th>Volume</th>\n",
       "      <th>VWAP</th>\n",
       "      <th>Target</th>\n",
       "      <th>Asset_Name</th>\n",
       "      <th>date</th>\n",
       "    </tr>\n",
       "  </thead>\n",
       "  <tbody>\n",
       "    <tr>\n",
       "      <th>0</th>\n",
       "      <td>1514764860</td>\n",
       "      <td>0</td>\n",
       "      <td>5.0</td>\n",
       "      <td>8.5300</td>\n",
       "      <td>8.5300</td>\n",
       "      <td>8.5300</td>\n",
       "      <td>8.5300</td>\n",
       "      <td>78.38</td>\n",
       "      <td>8.530000</td>\n",
       "      <td>-0.014399</td>\n",
       "      <td>Binance Coin</td>\n",
       "      <td>2018-01-01 00:01:00</td>\n",
       "    </tr>\n",
       "    <tr>\n",
       "      <th>1</th>\n",
       "      <td>1514764920</td>\n",
       "      <td>0</td>\n",
       "      <td>7.0</td>\n",
       "      <td>8.5300</td>\n",
       "      <td>8.5300</td>\n",
       "      <td>8.5145</td>\n",
       "      <td>8.5145</td>\n",
       "      <td>71.39</td>\n",
       "      <td>8.520215</td>\n",
       "      <td>-0.015875</td>\n",
       "      <td>Binance Coin</td>\n",
       "      <td>2018-01-01 00:02:00</td>\n",
       "    </tr>\n",
       "    <tr>\n",
       "      <th>2</th>\n",
       "      <td>1514764980</td>\n",
       "      <td>0</td>\n",
       "      <td>45.0</td>\n",
       "      <td>8.5065</td>\n",
       "      <td>8.5299</td>\n",
       "      <td>8.4848</td>\n",
       "      <td>8.4848</td>\n",
       "      <td>1546.82</td>\n",
       "      <td>8.501393</td>\n",
       "      <td>-0.015410</td>\n",
       "      <td>Binance Coin</td>\n",
       "      <td>2018-01-01 00:03:00</td>\n",
       "    </tr>\n",
       "    <tr>\n",
       "      <th>3</th>\n",
       "      <td>1514765040</td>\n",
       "      <td>0</td>\n",
       "      <td>14.0</td>\n",
       "      <td>8.5009</td>\n",
       "      <td>8.5066</td>\n",
       "      <td>8.4744</td>\n",
       "      <td>8.5009</td>\n",
       "      <td>125.80</td>\n",
       "      <td>8.479810</td>\n",
       "      <td>-0.012524</td>\n",
       "      <td>Binance Coin</td>\n",
       "      <td>2018-01-01 00:04:00</td>\n",
       "    </tr>\n",
       "    <tr>\n",
       "      <th>4</th>\n",
       "      <td>1514765100</td>\n",
       "      <td>0</td>\n",
       "      <td>5.0</td>\n",
       "      <td>8.5007</td>\n",
       "      <td>8.5007</td>\n",
       "      <td>8.4560</td>\n",
       "      <td>8.4560</td>\n",
       "      <td>125.01</td>\n",
       "      <td>8.458435</td>\n",
       "      <td>-0.005940</td>\n",
       "      <td>Binance Coin</td>\n",
       "      <td>2018-01-01 00:05:00</td>\n",
       "    </tr>\n",
       "  </tbody>\n",
       "</table>\n",
       "</div>"
      ],
      "text/plain": [
       "    timestamp  Asset_ID  Count    Open    High     Low   Close   Volume  \\\n",
       "0  1514764860         0    5.0  8.5300  8.5300  8.5300  8.5300    78.38   \n",
       "1  1514764920         0    7.0  8.5300  8.5300  8.5145  8.5145    71.39   \n",
       "2  1514764980         0   45.0  8.5065  8.5299  8.4848  8.4848  1546.82   \n",
       "3  1514765040         0   14.0  8.5009  8.5066  8.4744  8.5009   125.80   \n",
       "4  1514765100         0    5.0  8.5007  8.5007  8.4560  8.4560   125.01   \n",
       "\n",
       "       VWAP    Target    Asset_Name                date  \n",
       "0  8.530000 -0.014399  Binance Coin 2018-01-01 00:01:00  \n",
       "1  8.520215 -0.015875  Binance Coin 2018-01-01 00:02:00  \n",
       "2  8.501393 -0.015410  Binance Coin 2018-01-01 00:03:00  \n",
       "3  8.479810 -0.012524  Binance Coin 2018-01-01 00:04:00  \n",
       "4  8.458435 -0.005940  Binance Coin 2018-01-01 00:05:00  "
      ]
     },
     "execution_count": 13,
     "metadata": {},
     "output_type": "execute_result"
    }
   ],
   "source": [
    "raw_df.head()"
   ]
  },
  {
   "cell_type": "code",
   "execution_count": 14,
   "id": "4f7747d4",
   "metadata": {
    "ExecuteTime": {
     "end_time": "2021-11-11T00:45:29.617036Z",
     "start_time": "2021-11-11T00:45:29.598114Z"
    }
   },
   "outputs": [],
   "source": [
    "TARGET = 'Target'\n",
    "INDEX_COLS = ['Asset_ID', 'Asset_Name', 'date', 'timestamp']"
   ]
  },
  {
   "cell_type": "code",
   "execution_count": 15,
   "id": "fc2e0fa0",
   "metadata": {
    "ExecuteTime": {
     "end_time": "2021-11-11T00:45:29.666919Z",
     "start_time": "2021-11-11T00:45:29.620460Z"
    }
   },
   "outputs": [],
   "source": [
    "RAW_FEATURES = ['Count', 'Open', 'High', 'Low', 'Close',\n",
    "       'Volume', 'VWAP']"
   ]
  },
  {
   "cell_type": "code",
   "execution_count": 16,
   "id": "0e3efed8",
   "metadata": {
    "ExecuteTime": {
     "end_time": "2021-11-11T00:45:39.143116Z",
     "start_time": "2021-11-11T00:45:29.669136Z"
    }
   },
   "outputs": [],
   "source": [
    "for feature in RAW_FEATURES:\n",
    "    fmin = raw_df.groupby('Asset_ID')[feature].min()\n",
    "    fmax = raw_df.groupby('Asset_ID')[feature].max()\n",
    "    \n",
    "    broadcasted_fmin = raw_df['Asset_ID'].map(fmin)\n",
    "    broadcasted_fmax = raw_df['Asset_ID'].map(fmax)\n",
    "    \n",
    "    raw_df[feature] = (raw_df[feature] - broadcasted_fmin) / (broadcasted_fmax - broadcasted_fmin)"
   ]
  },
  {
   "cell_type": "code",
   "execution_count": 17,
   "id": "c6388daf",
   "metadata": {
    "ExecuteTime": {
     "end_time": "2021-11-11T00:45:40.175743Z",
     "start_time": "2021-11-11T00:45:39.145672Z"
    }
   },
   "outputs": [],
   "source": [
    "feature_data = compute_features(raw_df)"
   ]
  },
  {
   "cell_type": "code",
   "execution_count": 18,
   "id": "aa0aa048",
   "metadata": {
    "ExecuteTime": {
     "end_time": "2021-11-11T00:45:42.978126Z",
     "start_time": "2021-11-11T00:45:40.177480Z"
    }
   },
   "outputs": [],
   "source": [
    "feature_data = feature_data.dropna(subset=[TARGET]).reset_index(drop=True)"
   ]
  },
  {
   "cell_type": "code",
   "execution_count": 19,
   "id": "48247838",
   "metadata": {
    "ExecuteTime": {
     "end_time": "2021-11-11T00:45:43.044075Z",
     "start_time": "2021-11-11T00:45:42.979948Z"
    }
   },
   "outputs": [
    {
     "data": {
      "text/html": [
       "<div>\n",
       "<style scoped>\n",
       "    .dataframe tbody tr th:only-of-type {\n",
       "        vertical-align: middle;\n",
       "    }\n",
       "\n",
       "    .dataframe tbody tr th {\n",
       "        vertical-align: top;\n",
       "    }\n",
       "\n",
       "    .dataframe thead th {\n",
       "        text-align: right;\n",
       "    }\n",
       "</style>\n",
       "<table border=\"1\" class=\"dataframe\">\n",
       "  <thead>\n",
       "    <tr style=\"text-align: right;\">\n",
       "      <th></th>\n",
       "      <th>timestamp</th>\n",
       "      <th>Asset_ID</th>\n",
       "      <th>Count</th>\n",
       "      <th>Open</th>\n",
       "      <th>High</th>\n",
       "      <th>Low</th>\n",
       "      <th>Close</th>\n",
       "      <th>Volume</th>\n",
       "      <th>VWAP</th>\n",
       "      <th>Target</th>\n",
       "      <th>Asset_Name</th>\n",
       "      <th>date</th>\n",
       "      <th>upper_shadow</th>\n",
       "      <th>lower_shador</th>\n",
       "    </tr>\n",
       "  </thead>\n",
       "  <tbody>\n",
       "    <tr>\n",
       "      <th>0</th>\n",
       "      <td>1514764860</td>\n",
       "      <td>0</td>\n",
       "      <td>0.000125</td>\n",
       "      <td>0.006409</td>\n",
       "      <td>0.006385</td>\n",
       "      <td>0.006434</td>\n",
       "      <td>0.006415</td>\n",
       "      <td>0.000369</td>\n",
       "      <td>0.006412</td>\n",
       "      <td>-0.014399</td>\n",
       "      <td>Binance Coin</td>\n",
       "      <td>2018-01-01 00:01:00</td>\n",
       "      <td>-0.000031</td>\n",
       "      <td>-0.000025</td>\n",
       "    </tr>\n",
       "    <tr>\n",
       "      <th>1</th>\n",
       "      <td>1514764920</td>\n",
       "      <td>0</td>\n",
       "      <td>0.000187</td>\n",
       "      <td>0.006409</td>\n",
       "      <td>0.006385</td>\n",
       "      <td>0.006412</td>\n",
       "      <td>0.006393</td>\n",
       "      <td>0.000336</td>\n",
       "      <td>0.006398</td>\n",
       "      <td>-0.015875</td>\n",
       "      <td>Binance Coin</td>\n",
       "      <td>2018-01-01 00:02:00</td>\n",
       "      <td>-0.000025</td>\n",
       "      <td>-0.000019</td>\n",
       "    </tr>\n",
       "    <tr>\n",
       "      <th>2</th>\n",
       "      <td>1514764980</td>\n",
       "      <td>0</td>\n",
       "      <td>0.001373</td>\n",
       "      <td>0.006375</td>\n",
       "      <td>0.006384</td>\n",
       "      <td>0.006368</td>\n",
       "      <td>0.006350</td>\n",
       "      <td>0.007283</td>\n",
       "      <td>0.006370</td>\n",
       "      <td>-0.015410</td>\n",
       "      <td>Binance Coin</td>\n",
       "      <td>2018-01-01 00:03:00</td>\n",
       "      <td>0.000009</td>\n",
       "      <td>-0.000019</td>\n",
       "    </tr>\n",
       "    <tr>\n",
       "      <th>3</th>\n",
       "      <td>1514765040</td>\n",
       "      <td>0</td>\n",
       "      <td>0.000406</td>\n",
       "      <td>0.006367</td>\n",
       "      <td>0.006351</td>\n",
       "      <td>0.006353</td>\n",
       "      <td>0.006373</td>\n",
       "      <td>0.000592</td>\n",
       "      <td>0.006339</td>\n",
       "      <td>-0.012524</td>\n",
       "      <td>Binance Coin</td>\n",
       "      <td>2018-01-01 00:04:00</td>\n",
       "      <td>-0.000022</td>\n",
       "      <td>0.000013</td>\n",
       "    </tr>\n",
       "    <tr>\n",
       "      <th>4</th>\n",
       "      <td>1514765100</td>\n",
       "      <td>0</td>\n",
       "      <td>0.000125</td>\n",
       "      <td>0.006366</td>\n",
       "      <td>0.006342</td>\n",
       "      <td>0.006326</td>\n",
       "      <td>0.006308</td>\n",
       "      <td>0.000589</td>\n",
       "      <td>0.006308</td>\n",
       "      <td>-0.005940</td>\n",
       "      <td>Binance Coin</td>\n",
       "      <td>2018-01-01 00:05:00</td>\n",
       "      <td>-0.000025</td>\n",
       "      <td>-0.000019</td>\n",
       "    </tr>\n",
       "  </tbody>\n",
       "</table>\n",
       "</div>"
      ],
      "text/plain": [
       "    timestamp  Asset_ID     Count      Open      High       Low     Close  \\\n",
       "0  1514764860         0  0.000125  0.006409  0.006385  0.006434  0.006415   \n",
       "1  1514764920         0  0.000187  0.006409  0.006385  0.006412  0.006393   \n",
       "2  1514764980         0  0.001373  0.006375  0.006384  0.006368  0.006350   \n",
       "3  1514765040         0  0.000406  0.006367  0.006351  0.006353  0.006373   \n",
       "4  1514765100         0  0.000125  0.006366  0.006342  0.006326  0.006308   \n",
       "\n",
       "     Volume      VWAP    Target    Asset_Name                date  \\\n",
       "0  0.000369  0.006412 -0.014399  Binance Coin 2018-01-01 00:01:00   \n",
       "1  0.000336  0.006398 -0.015875  Binance Coin 2018-01-01 00:02:00   \n",
       "2  0.007283  0.006370 -0.015410  Binance Coin 2018-01-01 00:03:00   \n",
       "3  0.000592  0.006339 -0.012524  Binance Coin 2018-01-01 00:04:00   \n",
       "4  0.000589  0.006308 -0.005940  Binance Coin 2018-01-01 00:05:00   \n",
       "\n",
       "   upper_shadow  lower_shador  \n",
       "0     -0.000031     -0.000025  \n",
       "1     -0.000025     -0.000019  \n",
       "2      0.000009     -0.000019  \n",
       "3     -0.000022      0.000013  \n",
       "4     -0.000025     -0.000019  "
      ]
     },
     "execution_count": 19,
     "metadata": {},
     "output_type": "execute_result"
    }
   ],
   "source": [
    "feature_data.head()"
   ]
  },
  {
   "cell_type": "code",
   "execution_count": 20,
   "id": "190b158a",
   "metadata": {
    "ExecuteTime": {
     "end_time": "2021-11-11T00:45:43.106338Z",
     "start_time": "2021-11-11T00:45:43.047153Z"
    }
   },
   "outputs": [
    {
     "data": {
      "text/html": [
       "<div>\n",
       "<style scoped>\n",
       "    .dataframe tbody tr th:only-of-type {\n",
       "        vertical-align: middle;\n",
       "    }\n",
       "\n",
       "    .dataframe tbody tr th {\n",
       "        vertical-align: top;\n",
       "    }\n",
       "\n",
       "    .dataframe thead th {\n",
       "        text-align: right;\n",
       "    }\n",
       "</style>\n",
       "<table border=\"1\" class=\"dataframe\">\n",
       "  <thead>\n",
       "    <tr style=\"text-align: right;\">\n",
       "      <th></th>\n",
       "      <th>timestamp</th>\n",
       "      <th>Asset_ID</th>\n",
       "      <th>Count</th>\n",
       "      <th>Open</th>\n",
       "      <th>High</th>\n",
       "      <th>Low</th>\n",
       "      <th>Close</th>\n",
       "      <th>Volume</th>\n",
       "      <th>VWAP</th>\n",
       "      <th>Target</th>\n",
       "      <th>Asset_Name</th>\n",
       "      <th>date</th>\n",
       "      <th>upper_shadow</th>\n",
       "      <th>lower_shador</th>\n",
       "    </tr>\n",
       "  </thead>\n",
       "  <tbody>\n",
       "    <tr>\n",
       "      <th>23486463</th>\n",
       "      <td>1632181200</td>\n",
       "      <td>13</td>\n",
       "      <td>0.031926</td>\n",
       "      <td>0.485383</td>\n",
       "      <td>0.485087</td>\n",
       "      <td>0.487113</td>\n",
       "      <td>0.485511</td>\n",
       "      <td>0.016266</td>\n",
       "      <td>0.485645</td>\n",
       "      <td>0.000199</td>\n",
       "      <td>TRON</td>\n",
       "      <td>2021-09-20 23:40:00</td>\n",
       "      <td>-0.000424</td>\n",
       "      <td>-0.001729</td>\n",
       "    </tr>\n",
       "    <tr>\n",
       "      <th>23486464</th>\n",
       "      <td>1632181260</td>\n",
       "      <td>13</td>\n",
       "      <td>0.023142</td>\n",
       "      <td>0.486110</td>\n",
       "      <td>0.486378</td>\n",
       "      <td>0.488679</td>\n",
       "      <td>0.487027</td>\n",
       "      <td>0.005642</td>\n",
       "      <td>0.487345</td>\n",
       "      <td>-0.003477</td>\n",
       "      <td>TRON</td>\n",
       "      <td>2021-09-20 23:41:00</td>\n",
       "      <td>-0.000649</td>\n",
       "      <td>-0.002569</td>\n",
       "    </tr>\n",
       "    <tr>\n",
       "      <th>23486465</th>\n",
       "      <td>1632181320</td>\n",
       "      <td>13</td>\n",
       "      <td>0.017049</td>\n",
       "      <td>0.487038</td>\n",
       "      <td>0.486483</td>\n",
       "      <td>0.489328</td>\n",
       "      <td>0.486891</td>\n",
       "      <td>0.006768</td>\n",
       "      <td>0.487697</td>\n",
       "      <td>-0.002437</td>\n",
       "      <td>TRON</td>\n",
       "      <td>2021-09-20 23:42:00</td>\n",
       "      <td>-0.000556</td>\n",
       "      <td>-0.002437</td>\n",
       "    </tr>\n",
       "    <tr>\n",
       "      <th>23486466</th>\n",
       "      <td>1632181380</td>\n",
       "      <td>13</td>\n",
       "      <td>0.014974</td>\n",
       "      <td>0.487244</td>\n",
       "      <td>0.486454</td>\n",
       "      <td>0.488957</td>\n",
       "      <td>0.486320</td>\n",
       "      <td>0.004450</td>\n",
       "      <td>0.487382</td>\n",
       "      <td>0.004843</td>\n",
       "      <td>TRON</td>\n",
       "      <td>2021-09-20 23:43:00</td>\n",
       "      <td>-0.000790</td>\n",
       "      <td>-0.002637</td>\n",
       "    </tr>\n",
       "    <tr>\n",
       "      <th>23486467</th>\n",
       "      <td>1632181440</td>\n",
       "      <td>13</td>\n",
       "      <td>0.016562</td>\n",
       "      <td>0.485985</td>\n",
       "      <td>0.485545</td>\n",
       "      <td>0.487814</td>\n",
       "      <td>0.485188</td>\n",
       "      <td>0.005392</td>\n",
       "      <td>0.486292</td>\n",
       "      <td>0.004163</td>\n",
       "      <td>TRON</td>\n",
       "      <td>2021-09-20 23:44:00</td>\n",
       "      <td>-0.000440</td>\n",
       "      <td>-0.002626</td>\n",
       "    </tr>\n",
       "  </tbody>\n",
       "</table>\n",
       "</div>"
      ],
      "text/plain": [
       "           timestamp  Asset_ID     Count      Open      High       Low  \\\n",
       "23486463  1632181200        13  0.031926  0.485383  0.485087  0.487113   \n",
       "23486464  1632181260        13  0.023142  0.486110  0.486378  0.488679   \n",
       "23486465  1632181320        13  0.017049  0.487038  0.486483  0.489328   \n",
       "23486466  1632181380        13  0.014974  0.487244  0.486454  0.488957   \n",
       "23486467  1632181440        13  0.016562  0.485985  0.485545  0.487814   \n",
       "\n",
       "             Close    Volume      VWAP    Target Asset_Name  \\\n",
       "23486463  0.485511  0.016266  0.485645  0.000199       TRON   \n",
       "23486464  0.487027  0.005642  0.487345 -0.003477       TRON   \n",
       "23486465  0.486891  0.006768  0.487697 -0.002437       TRON   \n",
       "23486466  0.486320  0.004450  0.487382  0.004843       TRON   \n",
       "23486467  0.485188  0.005392  0.486292  0.004163       TRON   \n",
       "\n",
       "                        date  upper_shadow  lower_shador  \n",
       "23486463 2021-09-20 23:40:00     -0.000424     -0.001729  \n",
       "23486464 2021-09-20 23:41:00     -0.000649     -0.002569  \n",
       "23486465 2021-09-20 23:42:00     -0.000556     -0.002437  \n",
       "23486466 2021-09-20 23:43:00     -0.000790     -0.002637  \n",
       "23486467 2021-09-20 23:44:00     -0.000440     -0.002626  "
      ]
     },
     "execution_count": 20,
     "metadata": {},
     "output_type": "execute_result"
    }
   ],
   "source": [
    "feature_data.tail()"
   ]
  },
  {
   "cell_type": "code",
   "execution_count": 21,
   "id": "5c18a5c4",
   "metadata": {
    "ExecuteTime": {
     "end_time": "2021-11-11T00:45:43.146171Z",
     "start_time": "2021-11-11T00:45:43.109568Z"
    }
   },
   "outputs": [],
   "source": [
    "PULIC_LB_RANGE = ['2021-06-13 00:00:00',\n",
    "                  '2021-09-13 00:00:00'] # 3 MONTH WORTH OF DATA\n",
    "\n",
    "if USE_TOY_SAMPLE:\n",
    "    EVAL_PERIODS = [['2021-09-15', '2021-09-22']]\n",
    "\n",
    "elif USE_SAMPLE:\n",
    "    EVAL_PERIODS = [PULIC_LB_RANGE]\n",
    "    \n",
    "else:\n",
    "    EVAL_PERIODS = [['2019-01-01', '2019-04-01'],\n",
    "                    ['2021-03-13', '2021-06-12 00:00:00'], \n",
    "                    PULIC_LB_RANGE]\n",
    "    \n",
    "CV_PARAMS = {'gap_unit': 'min'}"
   ]
  },
  {
   "cell_type": "code",
   "execution_count": 22,
   "id": "635f3b2c",
   "metadata": {
    "ExecuteTime": {
     "end_time": "2021-11-11T00:45:43.184706Z",
     "start_time": "2021-11-11T00:45:43.148968Z"
    }
   },
   "outputs": [],
   "source": [
    "# FEATURE TO TRAIN\n",
    "COLUMNS_TO_DROP = [TARGET, 'Asset_Name', 'date', 'timestamp']\n",
    "FEATURES = feature_data.columns.drop(COLUMNS_TO_DROP)\n",
    "\n",
    "# OUTPUT DIR\n",
    "OUTPUT_PATH = Path('artifacts/baseline/')\n",
    "if SAMPLE_LEVEL > 0:\n",
    "    OUTPUT_PATH = OUTPUT_PATH / f'sample/{SAMPLE_LEVEL}'\n",
    "OUTPUT_PATH.mkdir(exist_ok=True, parents=True)\n",
    "OUTPUT_MODEL_PATH = OUTPUT_PATH / 'xgb.pkl'\n"
   ]
  },
  {
   "cell_type": "code",
   "execution_count": 23,
   "id": "486fb023",
   "metadata": {
    "ExecuteTime": {
     "end_time": "2021-11-11T00:45:43.227415Z",
     "start_time": "2021-11-11T00:45:43.187431Z"
    }
   },
   "outputs": [],
   "source": [
    "model_params = util.load_config('conf/model/xgboost/base.yml')\n",
    "config = {'model': model_params, 'output_dir': str(OUTPUT_MODEL_PATH)}"
   ]
  },
  {
   "cell_type": "code",
   "execution_count": 24,
   "id": "25e1027a",
   "metadata": {
    "ExecuteTime": {
     "end_time": "2021-11-11T00:45:43.262156Z",
     "start_time": "2021-11-11T00:45:43.230160Z"
    }
   },
   "outputs": [],
   "source": [
    "### make transformer"
   ]
  },
  {
   "cell_type": "code",
   "execution_count": 25,
   "id": "2b6ec35b",
   "metadata": {
    "ExecuteTime": {
     "end_time": "2021-11-11T00:45:43.339950Z",
     "start_time": "2021-11-11T00:45:43.265185Z"
    }
   },
   "outputs": [],
   "source": [
    "from xgboost import XGBRegressor\n",
    "from lightgbm import LGBMRegressor\n",
    "import joblib"
   ]
  },
  {
   "cell_type": "code",
   "execution_count": 26,
   "id": "c5b9d0fc",
   "metadata": {
    "ExecuteTime": {
     "end_time": "2021-11-11T00:45:43.370054Z",
     "start_time": "2021-11-11T00:45:43.343258Z"
    }
   },
   "outputs": [],
   "source": [
    "from sklearn.preprocessing import FunctionTransformer"
   ]
  },
  {
   "cell_type": "code",
   "execution_count": 27,
   "id": "86f8d2e9",
   "metadata": {
    "ExecuteTime": {
     "end_time": "2021-11-11T00:45:43.404372Z",
     "start_time": "2021-11-11T00:45:43.372605Z"
    }
   },
   "outputs": [],
   "source": [
    "filter_pipeline = FunctionTransformer(lambda d: d[FEATURES])"
   ]
  },
  {
   "cell_type": "code",
   "execution_count": 28,
   "id": "a4a76638",
   "metadata": {
    "ExecuteTime": {
     "end_time": "2021-11-11T00:45:43.446066Z",
     "start_time": "2021-11-11T00:45:43.411265Z"
    }
   },
   "outputs": [],
   "source": [
    "\n",
    "\n",
    "def train_model(config, train_data: pd.DataFrame, valid_data: pd.DataFrame=None, pipeline=None):\n",
    "    weight = train_data['Asset_Name'].map(ASSET_WEIGHT) / TOTAL_WEIGHT_SUM\n",
    "    model = Pipeline([('filter', filter_pipeline),\n",
    "                      ('model', XGBRegressor(**config['model']))])\n",
    "    model.fit(train_data, train_data[TARGET], model__sample_weight=weight)    \n",
    "    return model"
   ]
  },
  {
   "cell_type": "code",
   "execution_count": 29,
   "id": "f4709912",
   "metadata": {
    "ExecuteTime": {
     "end_time": "2021-11-11T00:45:43.481681Z",
     "start_time": "2021-11-11T00:45:43.448440Z"
    }
   },
   "outputs": [],
   "source": [
    "def filter_by_index(df: pd.DataFrame, index) -> pd.DataFrame:\n",
    "    return df.loc[index, :].reset_index(drop=True)"
   ]
  },
  {
   "cell_type": "code",
   "execution_count": 30,
   "id": "abffd1a9",
   "metadata": {
    "ExecuteTime": {
     "end_time": "2021-11-11T01:15:45.934193Z",
     "start_time": "2021-11-11T00:45:43.484928Z"
    }
   },
   "outputs": [
    {
     "name": "stdout",
     "output_type": "stream",
     "text": [
      "fold=0\n",
      "theor_corr       0.007992\n",
      "weighted_corr    0.010565\n",
      "corr_min        -0.036289\n",
      "corr_max         0.051912\n",
      "corr_std         0.021684\n",
      "dtype: float64\n",
      "fold=1\n",
      "theor_corr       0.000046\n",
      "weighted_corr    0.003566\n",
      "corr_min        -0.010718\n",
      "corr_max         0.041849\n",
      "corr_std         0.015442\n",
      "dtype: float64\n",
      "fold=2\n",
      "theor_corr       0.005597\n",
      "weighted_corr    0.003602\n",
      "corr_min        -0.011812\n",
      "corr_max         0.054196\n",
      "corr_std         0.017177\n",
      "dtype: float64\n"
     ]
    }
   ],
   "source": [
    "CV = TimeSeriesSplit(EVAL_PERIODS, **CV_PARAMS)\n",
    "evaluator = Evaluator(cv=CV, score_fn=compute_metrics)\n",
    "eval_output = evaluator.run(train_model, config, feature_data)"
   ]
  },
  {
   "cell_type": "code",
   "execution_count": 31,
   "id": "bda95266",
   "metadata": {
    "ExecuteTime": {
     "end_time": "2021-11-11T01:15:47.012296Z",
     "start_time": "2021-11-11T01:15:45.984899Z"
    }
   },
   "outputs": [],
   "source": [
    "scores = pd.DataFrame([fold['scores'] for fold in eval_output])\n",
    "scores['eval_period'] = EVAL_PERIODS"
   ]
  },
  {
   "cell_type": "code",
   "execution_count": 32,
   "id": "a1c4f0c8",
   "metadata": {
    "ExecuteTime": {
     "end_time": "2021-11-11T01:15:47.121399Z",
     "start_time": "2021-11-11T01:15:47.014638Z"
    }
   },
   "outputs": [
    {
     "data": {
      "text/html": [
       "<div>\n",
       "<style scoped>\n",
       "    .dataframe tbody tr th:only-of-type {\n",
       "        vertical-align: middle;\n",
       "    }\n",
       "\n",
       "    .dataframe tbody tr th {\n",
       "        vertical-align: top;\n",
       "    }\n",
       "\n",
       "    .dataframe thead th {\n",
       "        text-align: right;\n",
       "    }\n",
       "</style>\n",
       "<table border=\"1\" class=\"dataframe\">\n",
       "  <thead>\n",
       "    <tr style=\"text-align: right;\">\n",
       "      <th></th>\n",
       "      <th>theor_corr</th>\n",
       "      <th>weighted_corr</th>\n",
       "      <th>corr_min</th>\n",
       "      <th>corr_max</th>\n",
       "      <th>corr_std</th>\n",
       "      <th>eval_period</th>\n",
       "    </tr>\n",
       "  </thead>\n",
       "  <tbody>\n",
       "    <tr>\n",
       "      <th>0</th>\n",
       "      <td>0.007992</td>\n",
       "      <td>0.010565</td>\n",
       "      <td>-0.036289</td>\n",
       "      <td>0.051912</td>\n",
       "      <td>0.021684</td>\n",
       "      <td>[2019-01-01, 2019-04-01]</td>\n",
       "    </tr>\n",
       "    <tr>\n",
       "      <th>1</th>\n",
       "      <td>0.000046</td>\n",
       "      <td>0.003566</td>\n",
       "      <td>-0.010718</td>\n",
       "      <td>0.041849</td>\n",
       "      <td>0.015442</td>\n",
       "      <td>[2021-03-13, 2021-06-12 00:00:00]</td>\n",
       "    </tr>\n",
       "    <tr>\n",
       "      <th>2</th>\n",
       "      <td>0.005597</td>\n",
       "      <td>0.003602</td>\n",
       "      <td>-0.011812</td>\n",
       "      <td>0.054196</td>\n",
       "      <td>0.017177</td>\n",
       "      <td>[2021-06-13 00:00:00, 2021-09-13 00:00:00]</td>\n",
       "    </tr>\n",
       "  </tbody>\n",
       "</table>\n",
       "</div>"
      ],
      "text/plain": [
       "   theor_corr  weighted_corr  corr_min  corr_max  corr_std  \\\n",
       "0    0.007992       0.010565 -0.036289  0.051912  0.021684   \n",
       "1    0.000046       0.003566 -0.010718  0.041849  0.015442   \n",
       "2    0.005597       0.003602 -0.011812  0.054196  0.017177   \n",
       "\n",
       "                                  eval_period  \n",
       "0                    [2019-01-01, 2019-04-01]  \n",
       "1           [2021-03-13, 2021-06-12 00:00:00]  \n",
       "2  [2021-06-13 00:00:00, 2021-09-13 00:00:00]  "
      ]
     },
     "execution_count": 32,
     "metadata": {},
     "output_type": "execute_result"
    }
   ],
   "source": [
    "scores"
   ]
  },
  {
   "cell_type": "code",
   "execution_count": 33,
   "id": "a4f49773",
   "metadata": {
    "ExecuteTime": {
     "end_time": "2021-11-11T01:15:47.173776Z",
     "start_time": "2021-11-11T01:15:47.124981Z"
    }
   },
   "outputs": [],
   "source": [
    "valid_corrs = pd.concat([fold['corrs'].assign(fold=e) for e, fold in enumerate(eval_output)])\n",
    "valid_corrs['eval_period'] = valid_corrs['fold'].map(lambda d: EVAL_PERIODS[d])"
   ]
  },
  {
   "cell_type": "code",
   "execution_count": 34,
   "id": "ee54fbc2",
   "metadata": {
    "ExecuteTime": {
     "end_time": "2021-11-11T01:15:47.236628Z",
     "start_time": "2021-11-11T01:15:47.176577Z"
    }
   },
   "outputs": [
    {
     "data": {
      "text/html": [
       "<div>\n",
       "<style scoped>\n",
       "    .dataframe tbody tr th:only-of-type {\n",
       "        vertical-align: middle;\n",
       "    }\n",
       "\n",
       "    .dataframe tbody tr th {\n",
       "        vertical-align: top;\n",
       "    }\n",
       "\n",
       "    .dataframe thead th {\n",
       "        text-align: right;\n",
       "    }\n",
       "</style>\n",
       "<table border=\"1\" class=\"dataframe\">\n",
       "  <thead>\n",
       "    <tr style=\"text-align: right;\">\n",
       "      <th></th>\n",
       "      <th>Asset_Name</th>\n",
       "      <th>corr</th>\n",
       "      <th>weight</th>\n",
       "      <th>weighted_corr</th>\n",
       "      <th>fold</th>\n",
       "      <th>eval_period</th>\n",
       "    </tr>\n",
       "  </thead>\n",
       "  <tbody>\n",
       "    <tr>\n",
       "      <th>0</th>\n",
       "      <td>Binance Coin</td>\n",
       "      <td>0.017010</td>\n",
       "      <td>4.304065</td>\n",
       "      <td>0.073212</td>\n",
       "      <td>0</td>\n",
       "      <td>[2019-01-01, 2019-04-01]</td>\n",
       "    </tr>\n",
       "    <tr>\n",
       "      <th>1</th>\n",
       "      <td>Bitcoin</td>\n",
       "      <td>0.007999</td>\n",
       "      <td>6.779922</td>\n",
       "      <td>0.054229</td>\n",
       "      <td>0</td>\n",
       "      <td>[2019-01-01, 2019-04-01]</td>\n",
       "    </tr>\n",
       "    <tr>\n",
       "      <th>2</th>\n",
       "      <td>Bitcoin Cash</td>\n",
       "      <td>-0.003195</td>\n",
       "      <td>2.397895</td>\n",
       "      <td>-0.007662</td>\n",
       "      <td>0</td>\n",
       "      <td>[2019-01-01, 2019-04-01]</td>\n",
       "    </tr>\n",
       "    <tr>\n",
       "      <th>3</th>\n",
       "      <td>Cardano</td>\n",
       "      <td>-0.005300</td>\n",
       "      <td>4.406719</td>\n",
       "      <td>-0.023357</td>\n",
       "      <td>0</td>\n",
       "      <td>[2019-01-01, 2019-04-01]</td>\n",
       "    </tr>\n",
       "    <tr>\n",
       "      <th>4</th>\n",
       "      <td>EOS.IO</td>\n",
       "      <td>0.008455</td>\n",
       "      <td>1.386294</td>\n",
       "      <td>0.011721</td>\n",
       "      <td>0</td>\n",
       "      <td>[2019-01-01, 2019-04-01]</td>\n",
       "    </tr>\n",
       "    <tr>\n",
       "      <th>5</th>\n",
       "      <td>Ethereum</td>\n",
       "      <td>0.029423</td>\n",
       "      <td>5.894403</td>\n",
       "      <td>0.173431</td>\n",
       "      <td>0</td>\n",
       "      <td>[2019-01-01, 2019-04-01]</td>\n",
       "    </tr>\n",
       "    <tr>\n",
       "      <th>6</th>\n",
       "      <td>Ethereum Classic</td>\n",
       "      <td>0.015086</td>\n",
       "      <td>2.079442</td>\n",
       "      <td>0.031371</td>\n",
       "      <td>0</td>\n",
       "      <td>[2019-01-01, 2019-04-01]</td>\n",
       "    </tr>\n",
       "    <tr>\n",
       "      <th>7</th>\n",
       "      <td>IOTA</td>\n",
       "      <td>-0.001871</td>\n",
       "      <td>1.098612</td>\n",
       "      <td>-0.002055</td>\n",
       "      <td>0</td>\n",
       "      <td>[2019-01-01, 2019-04-01]</td>\n",
       "    </tr>\n",
       "    <tr>\n",
       "      <th>8</th>\n",
       "      <td>Litecoin</td>\n",
       "      <td>-0.008715</td>\n",
       "      <td>2.397895</td>\n",
       "      <td>-0.020899</td>\n",
       "      <td>0</td>\n",
       "      <td>[2019-01-01, 2019-04-01]</td>\n",
       "    </tr>\n",
       "    <tr>\n",
       "      <th>9</th>\n",
       "      <td>Maker</td>\n",
       "      <td>-0.036289</td>\n",
       "      <td>1.098612</td>\n",
       "      <td>-0.039868</td>\n",
       "      <td>0</td>\n",
       "      <td>[2019-01-01, 2019-04-01]</td>\n",
       "    </tr>\n",
       "    <tr>\n",
       "      <th>10</th>\n",
       "      <td>Monero</td>\n",
       "      <td>0.021463</td>\n",
       "      <td>1.609438</td>\n",
       "      <td>0.034544</td>\n",
       "      <td>0</td>\n",
       "      <td>[2019-01-01, 2019-04-01]</td>\n",
       "    </tr>\n",
       "    <tr>\n",
       "      <th>11</th>\n",
       "      <td>Stellar</td>\n",
       "      <td>0.026074</td>\n",
       "      <td>2.079442</td>\n",
       "      <td>0.054220</td>\n",
       "      <td>0</td>\n",
       "      <td>[2019-01-01, 2019-04-01]</td>\n",
       "    </tr>\n",
       "    <tr>\n",
       "      <th>12</th>\n",
       "      <td>TRON</td>\n",
       "      <td>0.051912</td>\n",
       "      <td>1.791759</td>\n",
       "      <td>0.093014</td>\n",
       "      <td>0</td>\n",
       "      <td>[2019-01-01, 2019-04-01]</td>\n",
       "    </tr>\n",
       "    <tr>\n",
       "      <th>0</th>\n",
       "      <td>Binance Coin</td>\n",
       "      <td>0.005840</td>\n",
       "      <td>4.304065</td>\n",
       "      <td>0.025134</td>\n",
       "      <td>1</td>\n",
       "      <td>[2021-03-13, 2021-06-12 00:00:00]</td>\n",
       "    </tr>\n",
       "    <tr>\n",
       "      <th>1</th>\n",
       "      <td>Bitcoin</td>\n",
       "      <td>-0.006817</td>\n",
       "      <td>6.779922</td>\n",
       "      <td>-0.046216</td>\n",
       "      <td>1</td>\n",
       "      <td>[2021-03-13, 2021-06-12 00:00:00]</td>\n",
       "    </tr>\n",
       "    <tr>\n",
       "      <th>2</th>\n",
       "      <td>Bitcoin Cash</td>\n",
       "      <td>0.041849</td>\n",
       "      <td>2.397895</td>\n",
       "      <td>0.100349</td>\n",
       "      <td>1</td>\n",
       "      <td>[2021-03-13, 2021-06-12 00:00:00]</td>\n",
       "    </tr>\n",
       "    <tr>\n",
       "      <th>3</th>\n",
       "      <td>Cardano</td>\n",
       "      <td>-0.010718</td>\n",
       "      <td>4.406719</td>\n",
       "      <td>-0.047231</td>\n",
       "      <td>1</td>\n",
       "      <td>[2021-03-13, 2021-06-12 00:00:00]</td>\n",
       "    </tr>\n",
       "    <tr>\n",
       "      <th>4</th>\n",
       "      <td>Dogecoin</td>\n",
       "      <td>-0.002364</td>\n",
       "      <td>3.555348</td>\n",
       "      <td>-0.008406</td>\n",
       "      <td>1</td>\n",
       "      <td>[2021-03-13, 2021-06-12 00:00:00]</td>\n",
       "    </tr>\n",
       "    <tr>\n",
       "      <th>5</th>\n",
       "      <td>EOS.IO</td>\n",
       "      <td>-0.002654</td>\n",
       "      <td>1.386294</td>\n",
       "      <td>-0.003679</td>\n",
       "      <td>1</td>\n",
       "      <td>[2021-03-13, 2021-06-12 00:00:00]</td>\n",
       "    </tr>\n",
       "    <tr>\n",
       "      <th>6</th>\n",
       "      <td>Ethereum</td>\n",
       "      <td>0.008154</td>\n",
       "      <td>5.894403</td>\n",
       "      <td>0.048062</td>\n",
       "      <td>1</td>\n",
       "      <td>[2021-03-13, 2021-06-12 00:00:00]</td>\n",
       "    </tr>\n",
       "    <tr>\n",
       "      <th>7</th>\n",
       "      <td>Ethereum Classic</td>\n",
       "      <td>0.005426</td>\n",
       "      <td>2.079442</td>\n",
       "      <td>0.011283</td>\n",
       "      <td>1</td>\n",
       "      <td>[2021-03-13, 2021-06-12 00:00:00]</td>\n",
       "    </tr>\n",
       "    <tr>\n",
       "      <th>8</th>\n",
       "      <td>IOTA</td>\n",
       "      <td>0.010042</td>\n",
       "      <td>1.098612</td>\n",
       "      <td>0.011032</td>\n",
       "      <td>1</td>\n",
       "      <td>[2021-03-13, 2021-06-12 00:00:00]</td>\n",
       "    </tr>\n",
       "    <tr>\n",
       "      <th>9</th>\n",
       "      <td>Litecoin</td>\n",
       "      <td>-0.009688</td>\n",
       "      <td>2.397895</td>\n",
       "      <td>-0.023230</td>\n",
       "      <td>1</td>\n",
       "      <td>[2021-03-13, 2021-06-12 00:00:00]</td>\n",
       "    </tr>\n",
       "    <tr>\n",
       "      <th>10</th>\n",
       "      <td>Maker</td>\n",
       "      <td>-0.005385</td>\n",
       "      <td>1.098612</td>\n",
       "      <td>-0.005916</td>\n",
       "      <td>1</td>\n",
       "      <td>[2021-03-13, 2021-06-12 00:00:00]</td>\n",
       "    </tr>\n",
       "    <tr>\n",
       "      <th>11</th>\n",
       "      <td>Monero</td>\n",
       "      <td>0.033501</td>\n",
       "      <td>1.609438</td>\n",
       "      <td>0.053918</td>\n",
       "      <td>1</td>\n",
       "      <td>[2021-03-13, 2021-06-12 00:00:00]</td>\n",
       "    </tr>\n",
       "    <tr>\n",
       "      <th>12</th>\n",
       "      <td>Stellar</td>\n",
       "      <td>0.002781</td>\n",
       "      <td>2.079442</td>\n",
       "      <td>0.005784</td>\n",
       "      <td>1</td>\n",
       "      <td>[2021-03-13, 2021-06-12 00:00:00]</td>\n",
       "    </tr>\n",
       "    <tr>\n",
       "      <th>13</th>\n",
       "      <td>TRON</td>\n",
       "      <td>0.013894</td>\n",
       "      <td>1.791759</td>\n",
       "      <td>0.024896</td>\n",
       "      <td>1</td>\n",
       "      <td>[2021-03-13, 2021-06-12 00:00:00]</td>\n",
       "    </tr>\n",
       "    <tr>\n",
       "      <th>0</th>\n",
       "      <td>Binance Coin</td>\n",
       "      <td>-0.006391</td>\n",
       "      <td>4.304065</td>\n",
       "      <td>-0.027506</td>\n",
       "      <td>2</td>\n",
       "      <td>[2021-06-13 00:00:00, 2021-09-13 00:00:00]</td>\n",
       "    </tr>\n",
       "    <tr>\n",
       "      <th>1</th>\n",
       "      <td>Bitcoin</td>\n",
       "      <td>-0.011812</td>\n",
       "      <td>6.779922</td>\n",
       "      <td>-0.080085</td>\n",
       "      <td>2</td>\n",
       "      <td>[2021-06-13 00:00:00, 2021-09-13 00:00:00]</td>\n",
       "    </tr>\n",
       "    <tr>\n",
       "      <th>2</th>\n",
       "      <td>Bitcoin Cash</td>\n",
       "      <td>-0.005586</td>\n",
       "      <td>2.397895</td>\n",
       "      <td>-0.013393</td>\n",
       "      <td>2</td>\n",
       "      <td>[2021-06-13 00:00:00, 2021-09-13 00:00:00]</td>\n",
       "    </tr>\n",
       "    <tr>\n",
       "      <th>3</th>\n",
       "      <td>Cardano</td>\n",
       "      <td>0.022226</td>\n",
       "      <td>4.406719</td>\n",
       "      <td>0.097945</td>\n",
       "      <td>2</td>\n",
       "      <td>[2021-06-13 00:00:00, 2021-09-13 00:00:00]</td>\n",
       "    </tr>\n",
       "    <tr>\n",
       "      <th>4</th>\n",
       "      <td>Dogecoin</td>\n",
       "      <td>0.014880</td>\n",
       "      <td>3.555348</td>\n",
       "      <td>0.052903</td>\n",
       "      <td>2</td>\n",
       "      <td>[2021-06-13 00:00:00, 2021-09-13 00:00:00]</td>\n",
       "    </tr>\n",
       "    <tr>\n",
       "      <th>5</th>\n",
       "      <td>EOS.IO</td>\n",
       "      <td>0.002203</td>\n",
       "      <td>1.386294</td>\n",
       "      <td>0.003054</td>\n",
       "      <td>2</td>\n",
       "      <td>[2021-06-13 00:00:00, 2021-09-13 00:00:00]</td>\n",
       "    </tr>\n",
       "    <tr>\n",
       "      <th>6</th>\n",
       "      <td>Ethereum</td>\n",
       "      <td>0.001863</td>\n",
       "      <td>5.894403</td>\n",
       "      <td>0.010982</td>\n",
       "      <td>2</td>\n",
       "      <td>[2021-06-13 00:00:00, 2021-09-13 00:00:00]</td>\n",
       "    </tr>\n",
       "    <tr>\n",
       "      <th>7</th>\n",
       "      <td>Ethereum Classic</td>\n",
       "      <td>0.011365</td>\n",
       "      <td>2.079442</td>\n",
       "      <td>0.023632</td>\n",
       "      <td>2</td>\n",
       "      <td>[2021-06-13 00:00:00, 2021-09-13 00:00:00]</td>\n",
       "    </tr>\n",
       "    <tr>\n",
       "      <th>8</th>\n",
       "      <td>IOTA</td>\n",
       "      <td>-0.006438</td>\n",
       "      <td>1.098612</td>\n",
       "      <td>-0.007072</td>\n",
       "      <td>2</td>\n",
       "      <td>[2021-06-13 00:00:00, 2021-09-13 00:00:00]</td>\n",
       "    </tr>\n",
       "    <tr>\n",
       "      <th>9</th>\n",
       "      <td>Litecoin</td>\n",
       "      <td>-0.004677</td>\n",
       "      <td>2.397895</td>\n",
       "      <td>-0.011215</td>\n",
       "      <td>2</td>\n",
       "      <td>[2021-06-13 00:00:00, 2021-09-13 00:00:00]</td>\n",
       "    </tr>\n",
       "    <tr>\n",
       "      <th>10</th>\n",
       "      <td>Maker</td>\n",
       "      <td>-0.004791</td>\n",
       "      <td>1.098612</td>\n",
       "      <td>-0.005263</td>\n",
       "      <td>2</td>\n",
       "      <td>[2021-06-13 00:00:00, 2021-09-13 00:00:00]</td>\n",
       "    </tr>\n",
       "    <tr>\n",
       "      <th>11</th>\n",
       "      <td>Monero</td>\n",
       "      <td>-0.001154</td>\n",
       "      <td>1.609438</td>\n",
       "      <td>-0.001857</td>\n",
       "      <td>2</td>\n",
       "      <td>[2021-06-13 00:00:00, 2021-09-13 00:00:00]</td>\n",
       "    </tr>\n",
       "    <tr>\n",
       "      <th>12</th>\n",
       "      <td>Stellar</td>\n",
       "      <td>0.054196</td>\n",
       "      <td>2.079442</td>\n",
       "      <td>0.112697</td>\n",
       "      <td>2</td>\n",
       "      <td>[2021-06-13 00:00:00, 2021-09-13 00:00:00]</td>\n",
       "    </tr>\n",
       "    <tr>\n",
       "      <th>13</th>\n",
       "      <td>TRON</td>\n",
       "      <td>-0.004225</td>\n",
       "      <td>1.791759</td>\n",
       "      <td>-0.007571</td>\n",
       "      <td>2</td>\n",
       "      <td>[2021-06-13 00:00:00, 2021-09-13 00:00:00]</td>\n",
       "    </tr>\n",
       "  </tbody>\n",
       "</table>\n",
       "</div>"
      ],
      "text/plain": [
       "          Asset_Name      corr    weight  weighted_corr  fold  \\\n",
       "0       Binance Coin  0.017010  4.304065       0.073212     0   \n",
       "1            Bitcoin  0.007999  6.779922       0.054229     0   \n",
       "2       Bitcoin Cash -0.003195  2.397895      -0.007662     0   \n",
       "3            Cardano -0.005300  4.406719      -0.023357     0   \n",
       "4             EOS.IO  0.008455  1.386294       0.011721     0   \n",
       "5           Ethereum  0.029423  5.894403       0.173431     0   \n",
       "6   Ethereum Classic  0.015086  2.079442       0.031371     0   \n",
       "7               IOTA -0.001871  1.098612      -0.002055     0   \n",
       "8           Litecoin -0.008715  2.397895      -0.020899     0   \n",
       "9              Maker -0.036289  1.098612      -0.039868     0   \n",
       "10            Monero  0.021463  1.609438       0.034544     0   \n",
       "11           Stellar  0.026074  2.079442       0.054220     0   \n",
       "12              TRON  0.051912  1.791759       0.093014     0   \n",
       "0       Binance Coin  0.005840  4.304065       0.025134     1   \n",
       "1            Bitcoin -0.006817  6.779922      -0.046216     1   \n",
       "2       Bitcoin Cash  0.041849  2.397895       0.100349     1   \n",
       "3            Cardano -0.010718  4.406719      -0.047231     1   \n",
       "4           Dogecoin -0.002364  3.555348      -0.008406     1   \n",
       "5             EOS.IO -0.002654  1.386294      -0.003679     1   \n",
       "6           Ethereum  0.008154  5.894403       0.048062     1   \n",
       "7   Ethereum Classic  0.005426  2.079442       0.011283     1   \n",
       "8               IOTA  0.010042  1.098612       0.011032     1   \n",
       "9           Litecoin -0.009688  2.397895      -0.023230     1   \n",
       "10             Maker -0.005385  1.098612      -0.005916     1   \n",
       "11            Monero  0.033501  1.609438       0.053918     1   \n",
       "12           Stellar  0.002781  2.079442       0.005784     1   \n",
       "13              TRON  0.013894  1.791759       0.024896     1   \n",
       "0       Binance Coin -0.006391  4.304065      -0.027506     2   \n",
       "1            Bitcoin -0.011812  6.779922      -0.080085     2   \n",
       "2       Bitcoin Cash -0.005586  2.397895      -0.013393     2   \n",
       "3            Cardano  0.022226  4.406719       0.097945     2   \n",
       "4           Dogecoin  0.014880  3.555348       0.052903     2   \n",
       "5             EOS.IO  0.002203  1.386294       0.003054     2   \n",
       "6           Ethereum  0.001863  5.894403       0.010982     2   \n",
       "7   Ethereum Classic  0.011365  2.079442       0.023632     2   \n",
       "8               IOTA -0.006438  1.098612      -0.007072     2   \n",
       "9           Litecoin -0.004677  2.397895      -0.011215     2   \n",
       "10             Maker -0.004791  1.098612      -0.005263     2   \n",
       "11            Monero -0.001154  1.609438      -0.001857     2   \n",
       "12           Stellar  0.054196  2.079442       0.112697     2   \n",
       "13              TRON -0.004225  1.791759      -0.007571     2   \n",
       "\n",
       "                                   eval_period  \n",
       "0                     [2019-01-01, 2019-04-01]  \n",
       "1                     [2019-01-01, 2019-04-01]  \n",
       "2                     [2019-01-01, 2019-04-01]  \n",
       "3                     [2019-01-01, 2019-04-01]  \n",
       "4                     [2019-01-01, 2019-04-01]  \n",
       "5                     [2019-01-01, 2019-04-01]  \n",
       "6                     [2019-01-01, 2019-04-01]  \n",
       "7                     [2019-01-01, 2019-04-01]  \n",
       "8                     [2019-01-01, 2019-04-01]  \n",
       "9                     [2019-01-01, 2019-04-01]  \n",
       "10                    [2019-01-01, 2019-04-01]  \n",
       "11                    [2019-01-01, 2019-04-01]  \n",
       "12                    [2019-01-01, 2019-04-01]  \n",
       "0            [2021-03-13, 2021-06-12 00:00:00]  \n",
       "1            [2021-03-13, 2021-06-12 00:00:00]  \n",
       "2            [2021-03-13, 2021-06-12 00:00:00]  \n",
       "3            [2021-03-13, 2021-06-12 00:00:00]  \n",
       "4            [2021-03-13, 2021-06-12 00:00:00]  \n",
       "5            [2021-03-13, 2021-06-12 00:00:00]  \n",
       "6            [2021-03-13, 2021-06-12 00:00:00]  \n",
       "7            [2021-03-13, 2021-06-12 00:00:00]  \n",
       "8            [2021-03-13, 2021-06-12 00:00:00]  \n",
       "9            [2021-03-13, 2021-06-12 00:00:00]  \n",
       "10           [2021-03-13, 2021-06-12 00:00:00]  \n",
       "11           [2021-03-13, 2021-06-12 00:00:00]  \n",
       "12           [2021-03-13, 2021-06-12 00:00:00]  \n",
       "13           [2021-03-13, 2021-06-12 00:00:00]  \n",
       "0   [2021-06-13 00:00:00, 2021-09-13 00:00:00]  \n",
       "1   [2021-06-13 00:00:00, 2021-09-13 00:00:00]  \n",
       "2   [2021-06-13 00:00:00, 2021-09-13 00:00:00]  \n",
       "3   [2021-06-13 00:00:00, 2021-09-13 00:00:00]  \n",
       "4   [2021-06-13 00:00:00, 2021-09-13 00:00:00]  \n",
       "5   [2021-06-13 00:00:00, 2021-09-13 00:00:00]  \n",
       "6   [2021-06-13 00:00:00, 2021-09-13 00:00:00]  \n",
       "7   [2021-06-13 00:00:00, 2021-09-13 00:00:00]  \n",
       "8   [2021-06-13 00:00:00, 2021-09-13 00:00:00]  \n",
       "9   [2021-06-13 00:00:00, 2021-09-13 00:00:00]  \n",
       "10  [2021-06-13 00:00:00, 2021-09-13 00:00:00]  \n",
       "11  [2021-06-13 00:00:00, 2021-09-13 00:00:00]  \n",
       "12  [2021-06-13 00:00:00, 2021-09-13 00:00:00]  \n",
       "13  [2021-06-13 00:00:00, 2021-09-13 00:00:00]  "
      ]
     },
     "execution_count": 34,
     "metadata": {},
     "output_type": "execute_result"
    }
   ],
   "source": [
    "valid_corrs"
   ]
  },
  {
   "cell_type": "code",
   "execution_count": 35,
   "id": "a5ac89e6",
   "metadata": {
    "ExecuteTime": {
     "end_time": "2021-11-11T01:15:52.023863Z",
     "start_time": "2021-11-11T01:15:47.243757Z"
    }
   },
   "outputs": [
    {
     "data": {
      "image/png": "[encoded data removed]",
      "text/plain": [
       "<Figure size 576x360 with 1 Axes>"
      ]
     },
     "metadata": {
      "needs_background": "light"
     },
     "output_type": "display_data"
    }
   ],
   "source": [
    "plt.figure(figsize=(8, 5))\n",
    "sns.barplot(x='Asset_Name', y='corr', data=valid_corrs)\n",
    "plt.xticks(rotation=90);"
   ]
  },
  {
   "cell_type": "code",
   "execution_count": 37,
   "id": "57937ff4",
   "metadata": {
    "ExecuteTime": {
     "end_time": "2021-11-11T01:15:58.767417Z",
     "start_time": "2021-11-11T01:15:52.053646Z"
    }
   },
   "outputs": [],
   "source": [
    "if SAMPLE_LEVEL == 0:\n",
    "    scores_mean = scores.mean().to_dict()\n",
    "    valid_corrs.to_csv(OUTPUT_PATH / 'corrs.csv', index=False)\n",
    "    \n",
    "    scores.to_csv(OUTPUT_PATH / 'cv_scores.csv', index=False)\n",
    "    track_experiment('metric-weight-single-model', mlflow_experiment='leaderboard',\n",
    "                     config=config,\n",
    "                     scores=scores_mean, artifacts_dir=str(OUTPUT_PATH))"
   ]
  }
 ],
 "metadata": {
  "kernelspec": {
   "display_name": "Python 3 (ipykernel)",
   "language": "python",
   "name": "python3"
  },
  "language_info": {
   "codemirror_mode": {
    "name": "ipython",
    "version": 3
   },
   "file_extension": ".py",
   "mimetype": "text/x-python",
   "name": "python",
   "nbconvert_exporter": "python",
   "pygments_lexer": "ipython3",
   "version": "3.7.11"
  },
  "toc": {
   "base_numbering": 1,
   "nav_menu": {},
   "number_sections": true,
   "sideBar": true,
   "skip_h1_title": false,
   "title_cell": "Table of Contents",
   "title_sidebar": "Contents",
   "toc_cell": false,
   "toc_position": {},
   "toc_section_display": true,
   "toc_window_display": false
  }
 },
 "nbformat": 4,
 "nbformat_minor": 5
}
