{
 "cells": [
  {
   "cell_type": "code",
   "execution_count": 1,
   "id": "7942f4a4",
   "metadata": {
    "ExecuteTime": {
     "end_time": "2021-12-08T00:24:52.290260Z",
     "start_time": "2021-12-08T00:24:52.258909Z"
    }
   },
   "outputs": [],
   "source": [
    "%load_ext autoreload\n",
    "%autoreload 2"
   ]
  },
  {
   "cell_type": "code",
   "execution_count": 2,
   "id": "f255bb4e",
   "metadata": {
    "ExecuteTime": {
     "end_time": "2021-12-08T00:24:55.813851Z",
     "start_time": "2021-12-08T00:24:52.540367Z"
    }
   },
   "outputs": [],
   "source": [
    "import pandas as pd\n",
    "import numpy as np\n",
    "from matplotlib import pyplot as plt\n",
    "import seaborn as sns\n",
    "from pathlib import Path\n",
    "import os\n",
    "import sys\n",
    "from IPython.display import display"
   ]
  },
  {
   "cell_type": "code",
   "execution_count": 3,
   "id": "136f5247",
   "metadata": {
    "ExecuteTime": {
     "end_time": "2021-12-08T00:24:55.852059Z",
     "start_time": "2021-12-08T00:24:55.821151Z"
    }
   },
   "outputs": [],
   "source": [
    "def on_kaggle() -> bool:\n",
    "    try:\n",
    "        import gresearch_crypto\n",
    "        return True\n",
    "    except ModuleNotFoundError:\n",
    "        return False"
   ]
  },
  {
   "cell_type": "code",
   "execution_count": 4,
   "id": "432ba6ef",
   "metadata": {
    "ExecuteTime": {
     "end_time": "2021-12-08T00:24:55.892225Z",
     "start_time": "2021-12-08T00:24:55.855980Z"
    }
   },
   "outputs": [],
   "source": [
    "# HYPER PARAMETERS\n",
    "ON_KAGGLE = on_kaggle()\n",
    "SAMPLE_LEVEL = 0\n",
    "FORCE_REWRITE = True"
   ]
  },
  {
   "cell_type": "code",
   "execution_count": 5,
   "id": "3ee2a957",
   "metadata": {
    "ExecuteTime": {
     "end_time": "2021-12-08T00:24:55.933788Z",
     "start_time": "2021-12-08T00:24:55.898480Z"
    }
   },
   "outputs": [],
   "source": [
    "if not ON_KAGGLE and os.path.abspath('.').endswith('notebook'):\n",
    "    os.chdir('../')"
   ]
  },
  {
   "cell_type": "code",
   "execution_count": 6,
   "id": "8acf98ec",
   "metadata": {
    "ExecuteTime": {
     "end_time": "2021-12-08T00:24:56.291202Z",
     "start_time": "2021-12-08T00:24:55.937954Z"
    }
   },
   "outputs": [],
   "source": [
    "#IMPORT_SCRIPT!\n",
    "if not ON_KAGGLE and '.' not in sys.path:\n",
    "    sys.path.append('.')\n",
    "from src.metrics import *\n",
    "from src.data import merge_asset_details\n",
    "from src.cv import TimeSeriesSplit, get_date_range\n",
    "from src.modeling import Evaluator\n",
    "from src.metrics import compute_metrics, compute_correlation\n",
    "from src.pipeline.feature_gen import compute_instant_features\n",
    "from src.data import infer_dtypes\n",
    "from src.pipeline import EXPECTED_RAW_COLS\n",
    "from src.pipeline.transforms import FilterFeatures\n",
    "from src.modeling import Evaluator\n",
    "from src.util import setup_dir"
   ]
  },
  {
   "cell_type": "code",
   "execution_count": 7,
   "id": "fa49be87",
   "metadata": {
    "ExecuteTime": {
     "end_time": "2021-12-08T00:24:56.325315Z",
     "start_time": "2021-12-08T00:24:56.295142Z"
    }
   },
   "outputs": [],
   "source": [
    "DATA_DIR, RAW_TRAIN_DIR = setup_dir(ON_KAGGLE, sample_level=SAMPLE_LEVEL)\n",
    "RAW_TRAIN_PATH = RAW_TRAIN_DIR / 'train.csv'\n",
    "ASSET_DETAILS_PATH = DATA_DIR / 'asset_details.csv'"
   ]
  },
  {
   "cell_type": "code",
   "execution_count": 8,
   "id": "74076be4",
   "metadata": {
    "ExecuteTime": {
     "end_time": "2021-12-08T00:24:56.364485Z",
     "start_time": "2021-12-08T00:24:56.328847Z"
    }
   },
   "outputs": [
    {
     "data": {
      "text/plain": [
       "PosixPath('data/raw')"
      ]
     },
     "execution_count": 8,
     "metadata": {},
     "output_type": "execute_result"
    }
   ],
   "source": [
    "RAW_TRAIN_DIR"
   ]
  },
  {
   "cell_type": "code",
   "execution_count": 9,
   "id": "1d55b22d",
   "metadata": {
    "ExecuteTime": {
     "end_time": "2021-12-08T00:24:56.401270Z",
     "start_time": "2021-12-08T00:24:56.367876Z"
    }
   },
   "outputs": [
    {
     "data": {
      "text/plain": [
       "PosixPath('data/raw')"
      ]
     },
     "execution_count": 9,
     "metadata": {},
     "output_type": "execute_result"
    }
   ],
   "source": [
    "DATA_DIR"
   ]
  },
  {
   "cell_type": "code",
   "execution_count": 10,
   "id": "4b479f0e",
   "metadata": {
    "ExecuteTime": {
     "end_time": "2021-12-08T00:26:00.665214Z",
     "start_time": "2021-12-08T00:24:56.404989Z"
    },
    "scrolled": true
   },
   "outputs": [
    {
     "name": "stdout",
     "output_type": "stream",
     "text": [
      "CPU times: user 50.4 s, sys: 5.7 s, total: 56.1 s\n",
      "Wall time: 1min 4s\n"
     ]
    }
   ],
   "source": [
    "%%time \n",
    "raw_data = pd.read_csv(RAW_TRAIN_PATH)"
   ]
  },
  {
   "cell_type": "markdown",
   "id": "d5c53d2f",
   "metadata": {},
   "source": [
    "## create train set"
   ]
  },
  {
   "cell_type": "code",
   "execution_count": 11,
   "id": "9313bf55",
   "metadata": {
    "ExecuteTime": {
     "end_time": "2021-12-08T00:26:00.706022Z",
     "start_time": "2021-12-08T00:26:00.673145Z"
    }
   },
   "outputs": [],
   "source": [
    "MAIN_INDEX = ['timestamp', 'Asset_ID']"
   ]
  },
  {
   "cell_type": "code",
   "execution_count": 12,
   "id": "ddebc9cc",
   "metadata": {
    "ExecuteTime": {
     "end_time": "2021-12-08T00:26:09.655512Z",
     "start_time": "2021-12-08T00:26:00.710693Z"
    }
   },
   "outputs": [],
   "source": [
    "# get valid data only, drop where the target is NaN \n",
    "raw_data = raw_data.dropna(subset=['Target'])\n",
    "# format time to human readable \n",
    "raw_data['time'] = pd.to_datetime(raw_data['timestamp'], unit='s')\n",
    "# merge asset names\n",
    "raw_data = merge_asset_details(raw_data, ASSET_DETAILS_PATH)"
   ]
  },
  {
   "cell_type": "code",
   "execution_count": 13,
   "id": "3c771517",
   "metadata": {
    "ExecuteTime": {
     "end_time": "2021-12-08T00:26:09.717366Z",
     "start_time": "2021-12-08T00:26:09.657683Z"
    }
   },
   "outputs": [
    {
     "data": {
      "text/html": [
       "<div>\n",
       "<style scoped>\n",
       "    .dataframe tbody tr th:only-of-type {\n",
       "        vertical-align: middle;\n",
       "    }\n",
       "\n",
       "    .dataframe tbody tr th {\n",
       "        vertical-align: top;\n",
       "    }\n",
       "\n",
       "    .dataframe thead th {\n",
       "        text-align: right;\n",
       "    }\n",
       "</style>\n",
       "<table border=\"1\" class=\"dataframe\">\n",
       "  <thead>\n",
       "    <tr style=\"text-align: right;\">\n",
       "      <th></th>\n",
       "      <th>timestamp</th>\n",
       "      <th>Asset_ID</th>\n",
       "      <th>Count</th>\n",
       "      <th>Open</th>\n",
       "      <th>High</th>\n",
       "      <th>Low</th>\n",
       "      <th>Close</th>\n",
       "      <th>Volume</th>\n",
       "      <th>VWAP</th>\n",
       "      <th>Target</th>\n",
       "      <th>time</th>\n",
       "      <th>Asset_Name</th>\n",
       "    </tr>\n",
       "  </thead>\n",
       "  <tbody>\n",
       "    <tr>\n",
       "      <th>0</th>\n",
       "      <td>1514764860</td>\n",
       "      <td>2</td>\n",
       "      <td>40.0</td>\n",
       "      <td>2376.5800</td>\n",
       "      <td>2399.5000</td>\n",
       "      <td>2357.1400</td>\n",
       "      <td>2374.5900</td>\n",
       "      <td>19.233005</td>\n",
       "      <td>2373.116392</td>\n",
       "      <td>-0.004218</td>\n",
       "      <td>2018-01-01 00:01:00</td>\n",
       "      <td>Bitcoin Cash</td>\n",
       "    </tr>\n",
       "    <tr>\n",
       "      <th>1</th>\n",
       "      <td>1514764860</td>\n",
       "      <td>0</td>\n",
       "      <td>5.0</td>\n",
       "      <td>8.5300</td>\n",
       "      <td>8.5300</td>\n",
       "      <td>8.5300</td>\n",
       "      <td>8.5300</td>\n",
       "      <td>78.380000</td>\n",
       "      <td>8.530000</td>\n",
       "      <td>-0.014399</td>\n",
       "      <td>2018-01-01 00:01:00</td>\n",
       "      <td>Binance Coin</td>\n",
       "    </tr>\n",
       "    <tr>\n",
       "      <th>2</th>\n",
       "      <td>1514764860</td>\n",
       "      <td>1</td>\n",
       "      <td>229.0</td>\n",
       "      <td>13835.1940</td>\n",
       "      <td>14013.8000</td>\n",
       "      <td>13666.1100</td>\n",
       "      <td>13850.1760</td>\n",
       "      <td>31.550062</td>\n",
       "      <td>13827.062093</td>\n",
       "      <td>-0.014643</td>\n",
       "      <td>2018-01-01 00:01:00</td>\n",
       "      <td>Bitcoin</td>\n",
       "    </tr>\n",
       "    <tr>\n",
       "      <th>3</th>\n",
       "      <td>1514764860</td>\n",
       "      <td>5</td>\n",
       "      <td>32.0</td>\n",
       "      <td>7.6596</td>\n",
       "      <td>7.6596</td>\n",
       "      <td>7.6567</td>\n",
       "      <td>7.6576</td>\n",
       "      <td>6626.713370</td>\n",
       "      <td>7.657713</td>\n",
       "      <td>-0.013922</td>\n",
       "      <td>2018-01-01 00:01:00</td>\n",
       "      <td>EOS.IO</td>\n",
       "    </tr>\n",
       "    <tr>\n",
       "      <th>4</th>\n",
       "      <td>1514764860</td>\n",
       "      <td>7</td>\n",
       "      <td>5.0</td>\n",
       "      <td>25.9200</td>\n",
       "      <td>25.9200</td>\n",
       "      <td>25.8740</td>\n",
       "      <td>25.8770</td>\n",
       "      <td>121.087310</td>\n",
       "      <td>25.891363</td>\n",
       "      <td>-0.008264</td>\n",
       "      <td>2018-01-01 00:01:00</td>\n",
       "      <td>Ethereum Classic</td>\n",
       "    </tr>\n",
       "  </tbody>\n",
       "</table>\n",
       "</div>"
      ],
      "text/plain": [
       "    timestamp  Asset_ID  Count        Open        High         Low  \\\n",
       "0  1514764860         2   40.0   2376.5800   2399.5000   2357.1400   \n",
       "1  1514764860         0    5.0      8.5300      8.5300      8.5300   \n",
       "2  1514764860         1  229.0  13835.1940  14013.8000  13666.1100   \n",
       "3  1514764860         5   32.0      7.6596      7.6596      7.6567   \n",
       "4  1514764860         7    5.0     25.9200     25.9200     25.8740   \n",
       "\n",
       "        Close       Volume          VWAP    Target                time  \\\n",
       "0   2374.5900    19.233005   2373.116392 -0.004218 2018-01-01 00:01:00   \n",
       "1      8.5300    78.380000      8.530000 -0.014399 2018-01-01 00:01:00   \n",
       "2  13850.1760    31.550062  13827.062093 -0.014643 2018-01-01 00:01:00   \n",
       "3      7.6576  6626.713370      7.657713 -0.013922 2018-01-01 00:01:00   \n",
       "4     25.8770   121.087310     25.891363 -0.008264 2018-01-01 00:01:00   \n",
       "\n",
       "         Asset_Name  \n",
       "0      Bitcoin Cash  \n",
       "1      Binance Coin  \n",
       "2           Bitcoin  \n",
       "3            EOS.IO  \n",
       "4  Ethereum Classic  "
      ]
     },
     "execution_count": 13,
     "metadata": {},
     "output_type": "execute_result"
    }
   ],
   "source": [
    "raw_data.head()"
   ]
  },
  {
   "cell_type": "code",
   "execution_count": 14,
   "id": "e37a820f",
   "metadata": {
    "ExecuteTime": {
     "end_time": "2021-12-08T00:26:09.771613Z",
     "start_time": "2021-12-08T00:26:09.721392Z"
    }
   },
   "outputs": [
    {
     "data": {
      "text/html": [
       "<div>\n",
       "<style scoped>\n",
       "    .dataframe tbody tr th:only-of-type {\n",
       "        vertical-align: middle;\n",
       "    }\n",
       "\n",
       "    .dataframe tbody tr th {\n",
       "        vertical-align: top;\n",
       "    }\n",
       "\n",
       "    .dataframe thead th {\n",
       "        text-align: right;\n",
       "    }\n",
       "</style>\n",
       "<table border=\"1\" class=\"dataframe\">\n",
       "  <thead>\n",
       "    <tr style=\"text-align: right;\">\n",
       "      <th></th>\n",
       "      <th>timestamp</th>\n",
       "      <th>Asset_ID</th>\n",
       "      <th>Count</th>\n",
       "      <th>Open</th>\n",
       "      <th>High</th>\n",
       "      <th>Low</th>\n",
       "      <th>Close</th>\n",
       "      <th>Volume</th>\n",
       "      <th>VWAP</th>\n",
       "      <th>Target</th>\n",
       "      <th>time</th>\n",
       "      <th>Asset_Name</th>\n",
       "    </tr>\n",
       "  </thead>\n",
       "  <tbody>\n",
       "    <tr>\n",
       "      <th>23486463</th>\n",
       "      <td>1632181440</td>\n",
       "      <td>9</td>\n",
       "      <td>163.0</td>\n",
       "      <td>156.502000</td>\n",
       "      <td>156.620000</td>\n",
       "      <td>156.000000</td>\n",
       "      <td>156.075667</td>\n",
       "      <td>7.381963e+02</td>\n",
       "      <td>156.260253</td>\n",
       "      <td>-0.001154</td>\n",
       "      <td>2021-09-20 23:44:00</td>\n",
       "      <td>Litecoin</td>\n",
       "    </tr>\n",
       "    <tr>\n",
       "      <th>23486464</th>\n",
       "      <td>1632181440</td>\n",
       "      <td>10</td>\n",
       "      <td>23.0</td>\n",
       "      <td>2420.146667</td>\n",
       "      <td>2421.000000</td>\n",
       "      <td>2412.779000</td>\n",
       "      <td>2414.069667</td>\n",
       "      <td>1.315794e+00</td>\n",
       "      <td>2417.326038</td>\n",
       "      <td>0.009831</td>\n",
       "      <td>2021-09-20 23:44:00</td>\n",
       "      <td>Maker</td>\n",
       "    </tr>\n",
       "    <tr>\n",
       "      <th>23486465</th>\n",
       "      <td>1632181440</td>\n",
       "      <td>13</td>\n",
       "      <td>512.0</td>\n",
       "      <td>0.090989</td>\n",
       "      <td>0.091133</td>\n",
       "      <td>0.090831</td>\n",
       "      <td>0.090885</td>\n",
       "      <td>1.900695e+06</td>\n",
       "      <td>0.090943</td>\n",
       "      <td>0.004163</td>\n",
       "      <td>2021-09-20 23:44:00</td>\n",
       "      <td>TRON</td>\n",
       "    </tr>\n",
       "    <tr>\n",
       "      <th>23486466</th>\n",
       "      <td>1632181440</td>\n",
       "      <td>12</td>\n",
       "      <td>193.0</td>\n",
       "      <td>0.280952</td>\n",
       "      <td>0.281300</td>\n",
       "      <td>0.280175</td>\n",
       "      <td>0.280403</td>\n",
       "      <td>1.628699e+05</td>\n",
       "      <td>0.280655</td>\n",
       "      <td>0.000449</td>\n",
       "      <td>2021-09-20 23:44:00</td>\n",
       "      <td>Stellar</td>\n",
       "    </tr>\n",
       "    <tr>\n",
       "      <th>23486467</th>\n",
       "      <td>1632181440</td>\n",
       "      <td>11</td>\n",
       "      <td>38.0</td>\n",
       "      <td>232.075000</td>\n",
       "      <td>232.300000</td>\n",
       "      <td>231.310000</td>\n",
       "      <td>231.680000</td>\n",
       "      <td>4.914804e+01</td>\n",
       "      <td>231.794078</td>\n",
       "      <td>0.002568</td>\n",
       "      <td>2021-09-20 23:44:00</td>\n",
       "      <td>Monero</td>\n",
       "    </tr>\n",
       "  </tbody>\n",
       "</table>\n",
       "</div>"
      ],
      "text/plain": [
       "           timestamp  Asset_ID  Count         Open         High          Low  \\\n",
       "23486463  1632181440         9  163.0   156.502000   156.620000   156.000000   \n",
       "23486464  1632181440        10   23.0  2420.146667  2421.000000  2412.779000   \n",
       "23486465  1632181440        13  512.0     0.090989     0.091133     0.090831   \n",
       "23486466  1632181440        12  193.0     0.280952     0.281300     0.280175   \n",
       "23486467  1632181440        11   38.0   232.075000   232.300000   231.310000   \n",
       "\n",
       "                Close        Volume         VWAP    Target  \\\n",
       "23486463   156.075667  7.381963e+02   156.260253 -0.001154   \n",
       "23486464  2414.069667  1.315794e+00  2417.326038  0.009831   \n",
       "23486465     0.090885  1.900695e+06     0.090943  0.004163   \n",
       "23486466     0.280403  1.628699e+05     0.280655  0.000449   \n",
       "23486467   231.680000  4.914804e+01   231.794078  0.002568   \n",
       "\n",
       "                        time Asset_Name  \n",
       "23486463 2021-09-20 23:44:00   Litecoin  \n",
       "23486464 2021-09-20 23:44:00      Maker  \n",
       "23486465 2021-09-20 23:44:00       TRON  \n",
       "23486466 2021-09-20 23:44:00    Stellar  \n",
       "23486467 2021-09-20 23:44:00     Monero  "
      ]
     },
     "execution_count": 14,
     "metadata": {},
     "output_type": "execute_result"
    }
   ],
   "source": [
    "raw_data.tail()"
   ]
  },
  {
   "cell_type": "code",
   "execution_count": 15,
   "id": "a5631261",
   "metadata": {
    "ExecuteTime": {
     "end_time": "2021-12-08T00:26:20.030233Z",
     "start_time": "2021-12-08T00:26:09.775709Z"
    }
   },
   "outputs": [],
   "source": [
    "raw_data = infer_dtypes(raw_data)"
   ]
  },
  {
   "cell_type": "code",
   "execution_count": 16,
   "id": "5c2396c7",
   "metadata": {
    "ExecuteTime": {
     "end_time": "2021-12-08T00:26:20.132466Z",
     "start_time": "2021-12-08T00:26:20.035152Z"
    }
   },
   "outputs": [
    {
     "data": {
      "text/html": [
       "<div>\n",
       "<style scoped>\n",
       "    .dataframe tbody tr th:only-of-type {\n",
       "        vertical-align: middle;\n",
       "    }\n",
       "\n",
       "    .dataframe tbody tr th {\n",
       "        vertical-align: top;\n",
       "    }\n",
       "\n",
       "    .dataframe thead th {\n",
       "        text-align: right;\n",
       "    }\n",
       "</style>\n",
       "<table border=\"1\" class=\"dataframe\">\n",
       "  <thead>\n",
       "    <tr style=\"text-align: right;\">\n",
       "      <th></th>\n",
       "      <th>timestamp</th>\n",
       "      <th>Asset_ID</th>\n",
       "      <th>Count</th>\n",
       "      <th>Open</th>\n",
       "      <th>High</th>\n",
       "      <th>Low</th>\n",
       "      <th>Close</th>\n",
       "      <th>Volume</th>\n",
       "      <th>VWAP</th>\n",
       "      <th>Target</th>\n",
       "      <th>time</th>\n",
       "      <th>Asset_Name</th>\n",
       "    </tr>\n",
       "  </thead>\n",
       "  <tbody>\n",
       "    <tr>\n",
       "      <th>0</th>\n",
       "      <td>1514764860</td>\n",
       "      <td>2</td>\n",
       "      <td>40.0</td>\n",
       "      <td>2376.580078</td>\n",
       "      <td>2399.500000</td>\n",
       "      <td>2357.139893</td>\n",
       "      <td>2374.590088</td>\n",
       "      <td>19.233005</td>\n",
       "      <td>2373.116455</td>\n",
       "      <td>-0.004218</td>\n",
       "      <td>2018-01-01 00:01:00</td>\n",
       "      <td>Bitcoin Cash</td>\n",
       "    </tr>\n",
       "    <tr>\n",
       "      <th>1</th>\n",
       "      <td>1514764860</td>\n",
       "      <td>0</td>\n",
       "      <td>5.0</td>\n",
       "      <td>8.530000</td>\n",
       "      <td>8.530000</td>\n",
       "      <td>8.530000</td>\n",
       "      <td>8.530000</td>\n",
       "      <td>78.380000</td>\n",
       "      <td>8.530000</td>\n",
       "      <td>-0.014399</td>\n",
       "      <td>2018-01-01 00:01:00</td>\n",
       "      <td>Binance Coin</td>\n",
       "    </tr>\n",
       "    <tr>\n",
       "      <th>2</th>\n",
       "      <td>1514764860</td>\n",
       "      <td>1</td>\n",
       "      <td>229.0</td>\n",
       "      <td>13835.194336</td>\n",
       "      <td>14013.799805</td>\n",
       "      <td>13666.110352</td>\n",
       "      <td>13850.175781</td>\n",
       "      <td>31.550062</td>\n",
       "      <td>13827.062500</td>\n",
       "      <td>-0.014643</td>\n",
       "      <td>2018-01-01 00:01:00</td>\n",
       "      <td>Bitcoin</td>\n",
       "    </tr>\n",
       "    <tr>\n",
       "      <th>3</th>\n",
       "      <td>1514764860</td>\n",
       "      <td>5</td>\n",
       "      <td>32.0</td>\n",
       "      <td>7.659600</td>\n",
       "      <td>7.659600</td>\n",
       "      <td>7.656700</td>\n",
       "      <td>7.657600</td>\n",
       "      <td>6626.713370</td>\n",
       "      <td>7.657713</td>\n",
       "      <td>-0.013922</td>\n",
       "      <td>2018-01-01 00:01:00</td>\n",
       "      <td>EOS.IO</td>\n",
       "    </tr>\n",
       "    <tr>\n",
       "      <th>4</th>\n",
       "      <td>1514764860</td>\n",
       "      <td>7</td>\n",
       "      <td>5.0</td>\n",
       "      <td>25.920000</td>\n",
       "      <td>25.920000</td>\n",
       "      <td>25.874001</td>\n",
       "      <td>25.877001</td>\n",
       "      <td>121.087310</td>\n",
       "      <td>25.891363</td>\n",
       "      <td>-0.008264</td>\n",
       "      <td>2018-01-01 00:01:00</td>\n",
       "      <td>Ethereum Classic</td>\n",
       "    </tr>\n",
       "  </tbody>\n",
       "</table>\n",
       "</div>"
      ],
      "text/plain": [
       "    timestamp  Asset_ID  Count          Open          High           Low  \\\n",
       "0  1514764860         2   40.0   2376.580078   2399.500000   2357.139893   \n",
       "1  1514764860         0    5.0      8.530000      8.530000      8.530000   \n",
       "2  1514764860         1  229.0  13835.194336  14013.799805  13666.110352   \n",
       "3  1514764860         5   32.0      7.659600      7.659600      7.656700   \n",
       "4  1514764860         7    5.0     25.920000     25.920000     25.874001   \n",
       "\n",
       "          Close       Volume          VWAP    Target                time  \\\n",
       "0   2374.590088    19.233005   2373.116455 -0.004218 2018-01-01 00:01:00   \n",
       "1      8.530000    78.380000      8.530000 -0.014399 2018-01-01 00:01:00   \n",
       "2  13850.175781    31.550062  13827.062500 -0.014643 2018-01-01 00:01:00   \n",
       "3      7.657600  6626.713370      7.657713 -0.013922 2018-01-01 00:01:00   \n",
       "4     25.877001   121.087310     25.891363 -0.008264 2018-01-01 00:01:00   \n",
       "\n",
       "         Asset_Name  \n",
       "0      Bitcoin Cash  \n",
       "1      Binance Coin  \n",
       "2           Bitcoin  \n",
       "3            EOS.IO  \n",
       "4  Ethereum Classic  "
      ]
     },
     "execution_count": 16,
     "metadata": {},
     "output_type": "execute_result"
    }
   ],
   "source": [
    "raw_data.head()"
   ]
  },
  {
   "cell_type": "code",
   "execution_count": 17,
   "id": "ee6b551d",
   "metadata": {
    "ExecuteTime": {
     "end_time": "2021-12-08T00:26:21.487161Z",
     "start_time": "2021-12-08T00:26:20.138593Z"
    }
   },
   "outputs": [],
   "source": [
    "FEATURES = [\n",
    "'Count',\n",
    "'High',\n",
    "'Low',\n",
    "'Close',\n",
    "'Volume',\n",
    "'VWAP',\n",
    "'high_low_return',\n",
    "'open_close_return',\n",
    "'upper_shadow',\n",
    "'lower_shadow',\n",
    "'dolar_amount',\n",
    "'vol_per_trades'\n",
    "]"
   ]
  },
  {
   "cell_type": "code",
   "execution_count": 18,
   "id": "4fcd4e69",
   "metadata": {
    "ExecuteTime": {
     "end_time": "2021-12-08T00:26:21.872442Z",
     "start_time": "2021-12-08T00:26:21.490264Z"
    }
   },
   "outputs": [],
   "source": [
    "from sklearn.linear_model import LogisticRegression, LinearRegression, Lasso, Ridge\n",
    "from sklearn.preprocessing import MinMaxScaler, FunctionTransformer\n",
    "from sklearn.pipeline import Pipeline\n",
    "from lightgbm import LGBMRegressor, LGBMClassifier\n",
    "\n",
    "\n",
    "class LGBMProfit(LGBMClassifier):\n",
    "    def fit(self, X, y, *args, **kwargs):\n",
    "        profit = y >= 0\n",
    "        self.mean = profit.mean()\n",
    "        return super().fit(X, profit, *args, **kwargs)\n",
    "\n",
    "    def predict(self, X):\n",
    "        proba = self.predict_proba(X)[:, 1]\n",
    "        return proba - self.mean\n",
    "\n",
    "def build_model(params={'alpha': 0.001}):\n",
    "#     model = Pipeline([('filter', FilterFeatures(FEATURES)),\n",
    "#                       ('norm', MinMaxScaler()),\n",
    "#                       ('model', Ridge(params['alpha'], random_state=1))])\n",
    "    model = Pipeline([('filter', FilterFeatures(FEATURES)),\n",
    "                      ('model', LGBMProfit())])\n",
    "    return model"
   ]
  },
  {
   "cell_type": "code",
   "execution_count": 19,
   "id": "d2c9a4b9",
   "metadata": {
    "ExecuteTime": {
     "end_time": "2021-12-08T00:26:21.917452Z",
     "start_time": "2021-12-08T00:26:21.876255Z"
    }
   },
   "outputs": [],
   "source": [
    "def train_model(config, train_data, valid_data, pipeline=None):\n",
    "    model  = build_model(config['model'])\n",
    "\n",
    "    if config['training']['time_decay_alpha'] is not None:\n",
    "        time_decay_alpha = config['training']['time_decay_alpha']\n",
    "        print(f'using exponential_time_decay with alpha {time_decay_alpha}')\n",
    "        timesteps = ((train_data['timestamp'].max() - train_data['timestamp'])//60//60//24)\n",
    "        weight = time_decay_alpha ** timesteps\n",
    "    else:\n",
    "        weight = None\n",
    "\n",
    "    model.fit(train_data, train_data['Target'], model__sample_weight=weight)\n",
    "    return model\n",
    "\n",
    "\n",
    "def get_mask_for_asset(data: pd.DataFrame, asset_id: int):\n",
    "    return (data['Asset_ID'] == asset_id)\n",
    "\n",
    "\n",
    "def get_data_for_asset(data: pd.DataFrame, asset_id: int):\n",
    "    mask = get_mask_for_asset(data, asset_id)\n",
    "    return data.loc[mask, :].reset_index(drop=True)"
   ]
  },
  {
   "cell_type": "code",
   "execution_count": 20,
   "id": "5fec683f",
   "metadata": {
    "ExecuteTime": {
     "end_time": "2021-12-08T00:26:22.062100Z",
     "start_time": "2021-12-08T00:26:21.924453Z"
    }
   },
   "outputs": [],
   "source": [
    "PRIVATE_LB_RANGE = [['2020-01-01', '2020-04-01']]\n",
    "PULIC_LB_RANGE = ['2021-06-13',\n",
    "                  '2021-09-13'] # 3 MONTH WORTH OF DATA\n",
    "\n",
    "\n",
    "if SAMPLE_LEVEL==2:\n",
    "    EVAL_PERIODS = [['2021-09-11', '2021-09-13']]\n",
    "elif SAMPLE_LEVEL == 1:\n",
    "    EVAL_PERIODS = [PULIC_LB_RANGE]\n",
    "else:\n",
    "    EVAL_PERIODS =  [\n",
    "                     ['2020-01-01', '2020-04-01'],\n",
    "                     ['2020-09-01', '2021-01-01'],\n",
    "                     ['2021-01-01', '2021-04-01'],\n",
    "                     ['2021-04-01', '2021-07-01']\n",
    "                     ]"
   ]
  },
  {
   "cell_type": "code",
   "execution_count": 21,
   "id": "8825b90a",
   "metadata": {
    "ExecuteTime": {
     "end_time": "2021-12-08T00:26:22.440168Z",
     "start_time": "2021-12-08T00:26:22.065969Z"
    }
   },
   "outputs": [
    {
     "data": {
      "text/plain": [
       "[['2020-01-01', '2020-04-01'],\n",
       " ['2020-09-01', '2021-01-01'],\n",
       " ['2021-01-01', '2021-04-01'],\n",
       " ['2021-04-01', '2021-07-01']]"
      ]
     },
     "execution_count": 21,
     "metadata": {},
     "output_type": "execute_result"
    }
   ],
   "source": [
    "EVAL_PERIODS"
   ]
  },
  {
   "cell_type": "code",
   "execution_count": 22,
   "id": "9b9ff7dd",
   "metadata": {
    "ExecuteTime": {
     "end_time": "2021-12-08T00:26:22.475255Z",
     "start_time": "2021-12-08T00:26:22.443743Z"
    }
   },
   "outputs": [],
   "source": [
    "def _create_fi_pd(features, importances):\n",
    "    return (pd.DataFrame({'feature': features, 'importance': importances})\n",
    "            .sort_values(by=['importance']).reset_index(drop=True))\n",
    "\n",
    "def compute_fi(config, model, valid_data):\n",
    "    return _create_fi_pd(model['filter'].features, model['model'].feature_importances_)"
   ]
  },
  {
   "cell_type": "code",
   "execution_count": 23,
   "id": "6ee89797",
   "metadata": {
    "ExecuteTime": {
     "end_time": "2021-12-08T00:26:22.842279Z",
     "start_time": "2021-12-08T00:26:22.478244Z"
    }
   },
   "outputs": [],
   "source": [
    "CV_PARAMS = {'gap_unit': 'min', 'dt_col': 'time'}\n",
    "\n",
    "\n",
    "CV = TimeSeriesSplit(EVAL_PERIODS, **CV_PARAMS)\n",
    "asset_ids = raw_data['Asset_ID'].unique()\n",
    "\n",
    "def run(config, raw_data: pd.DataFrame):\n",
    "    evaluator = Evaluator(cv=CV, fi_fn=compute_fi)\n",
    "    \n",
    "    data = raw_data.copy()\n",
    "    data = compute_instant_features(data)\n",
    "    data.fillna(0, inplace=True)\n",
    "    RESULTS = {}\n",
    "    for asset_id in asset_ids:\n",
    "        asset_data = get_data_for_asset(data, asset_id)\n",
    "        asset_result = evaluator.run(train_model, config, asset_data)\n",
    "        RESULTS[asset_id] = asset_result \n",
    "    return RESULTS"
   ]
  },
  {
   "cell_type": "code",
   "execution_count": 24,
   "id": "02d2cccd",
   "metadata": {
    "ExecuteTime": {
     "end_time": "2021-12-08T00:26:22.874027Z",
     "start_time": "2021-12-08T00:26:22.846178Z"
    }
   },
   "outputs": [],
   "source": [
    "MODEL_CONFIG = {'alpha': 0.001}\n",
    "TRAIN_CONFIG = {'time_decay_alpha': None}\n",
    "CONFIG = {'model': MODEL_CONFIG, 'training': TRAIN_CONFIG}"
   ]
  },
  {
   "cell_type": "code",
   "execution_count": 25,
   "id": "48462c49",
   "metadata": {
    "ExecuteTime": {
     "end_time": "2021-12-08T00:26:23.070496Z",
     "start_time": "2021-12-08T00:26:22.877063Z"
    }
   },
   "outputs": [],
   "source": [
    "import itertools"
   ]
  },
  {
   "cell_type": "code",
   "execution_count": 26,
   "id": "9a4d7142",
   "metadata": {
    "ExecuteTime": {
     "end_time": "2021-12-08T00:30:34.126762Z",
     "start_time": "2021-12-08T00:26:23.074992Z"
    }
   },
   "outputs": [
    {
     "name": "stdout",
     "output_type": "stream",
     "text": [
      "fold=0\n",
      "elapsed time: 0.0630\n",
      "fold=1\n",
      "elapsed time: 0.0830\n",
      "fold=2\n",
      "elapsed time: 0.0773\n",
      "fold=3\n",
      "elapsed time: 0.0828\n",
      "fold=0\n",
      "elapsed time: 0.0478\n",
      "fold=1\n",
      "elapsed time: 0.1285\n",
      "fold=2\n",
      "elapsed time: 0.0834\n",
      "fold=3\n",
      "elapsed time: 0.0790\n",
      "fold=0\n",
      "elapsed time: 0.0506\n",
      "fold=1\n",
      "elapsed time: 0.0668\n",
      "fold=2\n",
      "elapsed time: 0.0863\n",
      "fold=3\n",
      "elapsed time: 0.0989\n",
      "fold=0\n",
      "elapsed time: 0.0519\n",
      "fold=1\n",
      "elapsed time: 0.0723\n",
      "fold=2\n",
      "elapsed time: 0.0751\n",
      "fold=3\n",
      "elapsed time: 0.0903\n",
      "fold=0\n",
      "elapsed time: 0.0479\n",
      "fold=1\n",
      "elapsed time: 0.0696\n",
      "fold=2\n",
      "elapsed time: 0.0872\n",
      "fold=3\n",
      "elapsed time: 0.0990\n",
      "fold=0\n",
      "elapsed time: 0.0525\n",
      "fold=1\n",
      "elapsed time: 0.0657\n",
      "fold=2\n",
      "elapsed time: 0.0740\n",
      "fold=3\n",
      "elapsed time: 0.0929\n",
      "fold=0\n",
      "elapsed time: 0.0495\n",
      "fold=1\n",
      "elapsed time: 0.0679\n",
      "fold=2\n",
      "elapsed time: 0.0783\n",
      "fold=3\n",
      "elapsed time: 0.0825\n",
      "fold=0\n",
      "elapsed time: 0.0350\n",
      "fold=1\n",
      "elapsed time: 0.0852\n",
      "fold=2\n",
      "elapsed time: 0.0701\n",
      "fold=3\n",
      "elapsed time: 0.0646\n",
      "fold=0\n",
      "elapsed time: 0.0528\n",
      "fold=1\n",
      "elapsed time: 0.0709\n",
      "fold=2\n",
      "elapsed time: 0.0737\n",
      "fold=3\n",
      "elapsed time: 0.0775\n",
      "fold=0\n",
      "elapsed time: 0.0404\n",
      "fold=1\n",
      "elapsed time: 0.0561\n",
      "fold=2\n",
      "elapsed time: 0.0689\n",
      "fold=3\n",
      "elapsed time: 0.0769\n",
      "fold=0\n",
      "elapsed time: 0.0447\n",
      "fold=1\n",
      "elapsed time: 0.0617\n",
      "fold=2\n",
      "elapsed time: 0.0868\n",
      "fold=3\n",
      "elapsed time: 0.0861\n",
      "fold=0\n",
      "elapsed time: 0.0342\n",
      "fold=1\n",
      "elapsed time: 0.0435\n",
      "fold=2\n",
      "elapsed time: 0.0551\n",
      "fold=3\n",
      "elapsed time: 0.0544\n",
      "fold=0\n",
      "elapsed time: 0.0024\n",
      "fold=1\n",
      "elapsed time: 0.0072\n",
      "fold=2\n",
      "elapsed time: 0.0158\n",
      "fold=3\n",
      "elapsed time: 0.0220\n",
      "fold=0\n",
      "elapsed time: 0.0187\n",
      "fold=1\n",
      "elapsed time: 0.0257\n",
      "fold=2\n",
      "elapsed time: 0.0340\n",
      "fold=3\n",
      "elapsed time: 0.0649\n"
     ]
    }
   ],
   "source": [
    "RESULTS = run(CONFIG, raw_data)"
   ]
  },
  {
   "cell_type": "code",
   "execution_count": 27,
   "id": "8c5ee022",
   "metadata": {
    "ExecuteTime": {
     "end_time": "2021-12-08T00:30:40.960736Z",
     "start_time": "2021-12-08T00:30:34.135639Z"
    }
   },
   "outputs": [],
   "source": [
    "inference_df = pd.concat(itertools.chain(*[asset_result['prediction'] for _, asset_result in RESULTS.items()]))\n",
    "scores = inference_df.groupby('fold').apply(compute_metrics).reset_index()\n",
    "scores['eval_period'] = EVAL_PERIODS"
   ]
  },
  {
   "cell_type": "code",
   "execution_count": 28,
   "id": "ca03e71a",
   "metadata": {
    "ExecuteTime": {
     "end_time": "2021-12-08T00:30:41.057279Z",
     "start_time": "2021-12-08T00:30:40.964690Z"
    }
   },
   "outputs": [
    {
     "data": {
      "text/html": [
       "<div>\n",
       "<style scoped>\n",
       "    .dataframe tbody tr th:only-of-type {\n",
       "        vertical-align: middle;\n",
       "    }\n",
       "\n",
       "    .dataframe tbody tr th {\n",
       "        vertical-align: top;\n",
       "    }\n",
       "\n",
       "    .dataframe thead th {\n",
       "        text-align: right;\n",
       "    }\n",
       "</style>\n",
       "<table border=\"1\" class=\"dataframe\">\n",
       "  <thead>\n",
       "    <tr style=\"text-align: right;\">\n",
       "      <th></th>\n",
       "      <th>fold</th>\n",
       "      <th>corr</th>\n",
       "      <th>crypto_consistency</th>\n",
       "      <th>sharpe</th>\n",
       "      <th>corr_period_mean</th>\n",
       "      <th>corr_period_std</th>\n",
       "      <th>consistency</th>\n",
       "      <th>min_period_corr</th>\n",
       "      <th>corr_min</th>\n",
       "      <th>corr_max</th>\n",
       "      <th>corr_std</th>\n",
       "      <th>eval_period</th>\n",
       "    </tr>\n",
       "  </thead>\n",
       "  <tbody>\n",
       "    <tr>\n",
       "      <th>0</th>\n",
       "      <td>0</td>\n",
       "      <td>0.011571</td>\n",
       "      <td>10.0</td>\n",
       "      <td>2.051196</td>\n",
       "      <td>0.013529</td>\n",
       "      <td>0.006596</td>\n",
       "      <td>1.000000</td>\n",
       "      <td>0.003143</td>\n",
       "      <td>-0.085745</td>\n",
       "      <td>0.042866</td>\n",
       "      <td>0.032039</td>\n",
       "      <td>[2020-01-01, 2020-04-01]</td>\n",
       "    </tr>\n",
       "    <tr>\n",
       "      <th>1</th>\n",
       "      <td>1</td>\n",
       "      <td>0.001306</td>\n",
       "      <td>11.0</td>\n",
       "      <td>-0.035802</td>\n",
       "      <td>-0.000403</td>\n",
       "      <td>0.011260</td>\n",
       "      <td>0.500000</td>\n",
       "      <td>-0.028695</td>\n",
       "      <td>-0.010744</td>\n",
       "      <td>0.025228</td>\n",
       "      <td>0.009505</td>\n",
       "      <td>[2020-09-01, 2021-01-01]</td>\n",
       "    </tr>\n",
       "    <tr>\n",
       "      <th>2</th>\n",
       "      <td>2</td>\n",
       "      <td>0.000278</td>\n",
       "      <td>9.0</td>\n",
       "      <td>0.338149</td>\n",
       "      <td>0.004642</td>\n",
       "      <td>0.013729</td>\n",
       "      <td>0.769231</td>\n",
       "      <td>-0.025800</td>\n",
       "      <td>-0.011300</td>\n",
       "      <td>0.025934</td>\n",
       "      <td>0.010428</td>\n",
       "      <td>[2021-01-01, 2021-04-01]</td>\n",
       "    </tr>\n",
       "    <tr>\n",
       "      <th>3</th>\n",
       "      <td>3</td>\n",
       "      <td>0.001879</td>\n",
       "      <td>11.0</td>\n",
       "      <td>0.106501</td>\n",
       "      <td>0.000947</td>\n",
       "      <td>0.008891</td>\n",
       "      <td>0.615385</td>\n",
       "      <td>-0.023019</td>\n",
       "      <td>-0.022536</td>\n",
       "      <td>0.022184</td>\n",
       "      <td>0.011727</td>\n",
       "      <td>[2021-04-01, 2021-07-01]</td>\n",
       "    </tr>\n",
       "  </tbody>\n",
       "</table>\n",
       "</div>"
      ],
      "text/plain": [
       "   fold      corr  crypto_consistency    sharpe  corr_period_mean  \\\n",
       "0     0  0.011571                10.0  2.051196          0.013529   \n",
       "1     1  0.001306                11.0 -0.035802         -0.000403   \n",
       "2     2  0.000278                 9.0  0.338149          0.004642   \n",
       "3     3  0.001879                11.0  0.106501          0.000947   \n",
       "\n",
       "   corr_period_std  consistency  min_period_corr  corr_min  corr_max  \\\n",
       "0         0.006596     1.000000         0.003143 -0.085745  0.042866   \n",
       "1         0.011260     0.500000        -0.028695 -0.010744  0.025228   \n",
       "2         0.013729     0.769231        -0.025800 -0.011300  0.025934   \n",
       "3         0.008891     0.615385        -0.023019 -0.022536  0.022184   \n",
       "\n",
       "   corr_std               eval_period  \n",
       "0  0.032039  [2020-01-01, 2020-04-01]  \n",
       "1  0.009505  [2020-09-01, 2021-01-01]  \n",
       "2  0.010428  [2021-01-01, 2021-04-01]  \n",
       "3  0.011727  [2021-04-01, 2021-07-01]  "
      ]
     },
     "execution_count": 28,
     "metadata": {},
     "output_type": "execute_result"
    }
   ],
   "source": [
    "scores"
   ]
  },
  {
   "cell_type": "code",
   "execution_count": 30,
   "id": "94dfb30a",
   "metadata": {
    "ExecuteTime": {
     "end_time": "2021-12-08T00:31:12.646607Z",
     "start_time": "2021-12-08T00:31:12.609578Z"
    }
   },
   "outputs": [
    {
     "name": "stdout",
     "output_type": "stream",
     "text": [
      "|    |   fold |       corr |   crypto_consistency |      sharpe |   corr_period_mean |\n",
      "|---:|-------:|-----------:|---------------------:|------------:|-------------------:|\n",
      "|  0 |      0 | 0.0340875  |                   12 |  0.891724   |        0.0140149   |\n",
      "|  1 |      1 | 0.00107583 |                   11 | -0.00378112 |       -6.72739e-05 |\n",
      "|  2 |      2 | 0.00639626 |                   10 |  0.730508   |        0.0114782   |\n",
      "|  3 |      3 | 0.00803942 |                   10 |  0.333772   |        0.00654437  |\n"
     ]
    }
   ],
   "source": [
    "print('|    |   fold |       corr |   crypto_consistency |      sharpe |   corr_period_mean |\\n|---:|-------:|-----------:|---------------------:|------------:|-------------------:|\\n|  0 |      0 | 0.0340875  |                   12 |  0.891724   |        0.0140149   |\\n|  1 |      1 | 0.00107583 |                   11 | -0.00378112 |       -6.72739e-05 |\\n|  2 |      2 | 0.00639626 |                   10 |  0.730508   |        0.0114782   |\\n|  3 |      3 | 0.00803942 |                   10 |  0.333772   |        0.00654437  |')"
   ]
  },
  {
   "cell_type": "code",
   "execution_count": 31,
   "id": "1988ad5f",
   "metadata": {
    "ExecuteTime": {
     "end_time": "2021-12-08T00:31:13.368259Z",
     "start_time": "2021-12-08T00:31:13.332570Z"
    }
   },
   "outputs": [
    {
     "data": {
      "text/plain": [
       "fold                   1.500000\n",
       "corr                   0.003759\n",
       "crypto_consistency    10.250000\n",
       "sharpe                 0.615011\n",
       "corr_period_mean       0.004679\n",
       "corr_period_std        0.010119\n",
       "consistency            0.721154\n",
       "min_period_corr       -0.018593\n",
       "corr_min              -0.032581\n",
       "corr_max               0.029053\n",
       "corr_std               0.015925\n",
       "dtype: float64"
      ]
     },
     "execution_count": 31,
     "metadata": {},
     "output_type": "execute_result"
    }
   ],
   "source": [
    "scores.mean()"
   ]
  },
  {
   "cell_type": "markdown",
   "id": "97847e04",
   "metadata": {},
   "source": [
    "fold                   1.500000\n",
    "corr                   0.012400\n",
    "crypto_consistency    10.750000\n",
    "sharpe                 0.488056\n",
    "corr_period_mean       0.007993\n",
    "corr_period_std        0.017207\n",
    "consistency            0.768162\n",
    "min_period_corr       -0.018003\n",
    "corr_min              -0.027406\n",
    "corr_max               0.064634\n",
    "corr_std               0.023568\n",
    "dtype: float64"
   ]
  },
  {
   "cell_type": "code",
   "execution_count": 32,
   "id": "8bd007c5",
   "metadata": {
    "ExecuteTime": {
     "end_time": "2021-12-08T00:31:17.967903Z",
     "start_time": "2021-12-08T00:31:16.197860Z"
    }
   },
   "outputs": [],
   "source": [
    "corrs_fold = inference_df.groupby('fold').apply(lambda d: compute_correlation(d, group_col='Asset_Name').set_index(\"Asset_Name\")).unstack().T\n",
    "\n",
    "corrs_fold['cum_corr'] = corrs_fold.mean(axis=1)"
   ]
  },
  {
   "cell_type": "code",
   "execution_count": 33,
   "id": "3a8ddbee",
   "metadata": {
    "ExecuteTime": {
     "end_time": "2021-12-08T00:31:18.009563Z",
     "start_time": "2021-12-08T00:31:17.972428Z"
    }
   },
   "outputs": [],
   "source": [
    "corrs_fold = corrs_fold.sort_values(by='cum_corr')"
   ]
  },
  {
   "cell_type": "code",
   "execution_count": 34,
   "id": "41d648c6",
   "metadata": {
    "ExecuteTime": {
     "end_time": "2021-12-08T00:31:18.073956Z",
     "start_time": "2021-12-08T00:31:18.013843Z"
    }
   },
   "outputs": [
    {
     "data": {
      "text/html": [
       "<div>\n",
       "<style scoped>\n",
       "    .dataframe tbody tr th:only-of-type {\n",
       "        vertical-align: middle;\n",
       "    }\n",
       "\n",
       "    .dataframe tbody tr th {\n",
       "        vertical-align: top;\n",
       "    }\n",
       "\n",
       "    .dataframe thead th {\n",
       "        text-align: right;\n",
       "    }\n",
       "</style>\n",
       "<table border=\"1\" class=\"dataframe\">\n",
       "  <thead>\n",
       "    <tr style=\"text-align: right;\">\n",
       "      <th></th>\n",
       "      <th>fold</th>\n",
       "      <th>0</th>\n",
       "      <th>1</th>\n",
       "      <th>2</th>\n",
       "      <th>3</th>\n",
       "      <th>cum_corr</th>\n",
       "    </tr>\n",
       "    <tr>\n",
       "      <th></th>\n",
       "      <th>Asset_Name</th>\n",
       "      <th></th>\n",
       "      <th></th>\n",
       "      <th></th>\n",
       "      <th></th>\n",
       "      <th></th>\n",
       "    </tr>\n",
       "  </thead>\n",
       "  <tbody>\n",
       "    <tr>\n",
       "      <th rowspan=\"14\" valign=\"top\">corr</th>\n",
       "      <th>Maker</th>\n",
       "      <td>-0.085745</td>\n",
       "      <td>0.015102</td>\n",
       "      <td>0.005385</td>\n",
       "      <td>0.006789</td>\n",
       "      <td>-0.014617</td>\n",
       "    </tr>\n",
       "    <tr>\n",
       "      <th>Dogecoin</th>\n",
       "      <td>-0.006977</td>\n",
       "      <td>-0.003316</td>\n",
       "      <td>-0.011300</td>\n",
       "      <td>0.001318</td>\n",
       "      <td>-0.005069</td>\n",
       "    </tr>\n",
       "    <tr>\n",
       "      <th>Bitcoin</th>\n",
       "      <td>0.013743</td>\n",
       "      <td>-0.007828</td>\n",
       "      <td>0.000939</td>\n",
       "      <td>-0.022536</td>\n",
       "      <td>-0.003920</td>\n",
       "    </tr>\n",
       "    <tr>\n",
       "      <th>TRON</th>\n",
       "      <td>0.012688</td>\n",
       "      <td>-0.010744</td>\n",
       "      <td>-0.000155</td>\n",
       "      <td>0.014510</td>\n",
       "      <td>0.004075</td>\n",
       "    </tr>\n",
       "    <tr>\n",
       "      <th>Ethereum Classic</th>\n",
       "      <td>0.005033</td>\n",
       "      <td>0.002667</td>\n",
       "      <td>0.015756</td>\n",
       "      <td>-0.006410</td>\n",
       "      <td>0.004262</td>\n",
       "    </tr>\n",
       "    <tr>\n",
       "      <th>Cardano</th>\n",
       "      <td>-0.003918</td>\n",
       "      <td>0.007472</td>\n",
       "      <td>0.008050</td>\n",
       "      <td>0.005841</td>\n",
       "      <td>0.004362</td>\n",
       "    </tr>\n",
       "    <tr>\n",
       "      <th>Binance Coin</th>\n",
       "      <td>-0.000815</td>\n",
       "      <td>0.013560</td>\n",
       "      <td>0.015540</td>\n",
       "      <td>0.005380</td>\n",
       "      <td>0.008416</td>\n",
       "    </tr>\n",
       "    <tr>\n",
       "      <th>Monero</th>\n",
       "      <td>0.005989</td>\n",
       "      <td>0.006761</td>\n",
       "      <td>0.002685</td>\n",
       "      <td>0.021294</td>\n",
       "      <td>0.009182</td>\n",
       "    </tr>\n",
       "    <tr>\n",
       "      <th>EOS.IO</th>\n",
       "      <td>0.036321</td>\n",
       "      <td>0.008778</td>\n",
       "      <td>-0.006216</td>\n",
       "      <td>0.000602</td>\n",
       "      <td>0.009871</td>\n",
       "    </tr>\n",
       "    <tr>\n",
       "      <th>Stellar</th>\n",
       "      <td>0.011474</td>\n",
       "      <td>0.008849</td>\n",
       "      <td>0.017916</td>\n",
       "      <td>0.008145</td>\n",
       "      <td>0.011596</td>\n",
       "    </tr>\n",
       "    <tr>\n",
       "      <th>IOTA</th>\n",
       "      <td>0.006290</td>\n",
       "      <td>0.025228</td>\n",
       "      <td>0.006593</td>\n",
       "      <td>0.015945</td>\n",
       "      <td>0.013514</td>\n",
       "    </tr>\n",
       "    <tr>\n",
       "      <th>Ethereum</th>\n",
       "      <td>0.042866</td>\n",
       "      <td>0.010986</td>\n",
       "      <td>-0.006329</td>\n",
       "      <td>0.015879</td>\n",
       "      <td>0.015850</td>\n",
       "    </tr>\n",
       "    <tr>\n",
       "      <th>Litecoin</th>\n",
       "      <td>0.037013</td>\n",
       "      <td>0.009159</td>\n",
       "      <td>0.025934</td>\n",
       "      <td>0.004070</td>\n",
       "      <td>0.019044</td>\n",
       "    </tr>\n",
       "    <tr>\n",
       "      <th>Bitcoin Cash</th>\n",
       "      <td>0.042224</td>\n",
       "      <td>0.013839</td>\n",
       "      <td>0.008884</td>\n",
       "      <td>0.022184</td>\n",
       "      <td>0.021783</td>\n",
       "    </tr>\n",
       "  </tbody>\n",
       "</table>\n",
       "</div>"
      ],
      "text/plain": [
       "fold                          0         1         2         3  cum_corr\n",
       "     Asset_Name                                                        \n",
       "corr Maker            -0.085745  0.015102  0.005385  0.006789 -0.014617\n",
       "     Dogecoin         -0.006977 -0.003316 -0.011300  0.001318 -0.005069\n",
       "     Bitcoin           0.013743 -0.007828  0.000939 -0.022536 -0.003920\n",
       "     TRON              0.012688 -0.010744 -0.000155  0.014510  0.004075\n",
       "     Ethereum Classic  0.005033  0.002667  0.015756 -0.006410  0.004262\n",
       "     Cardano          -0.003918  0.007472  0.008050  0.005841  0.004362\n",
       "     Binance Coin     -0.000815  0.013560  0.015540  0.005380  0.008416\n",
       "     Monero            0.005989  0.006761  0.002685  0.021294  0.009182\n",
       "     EOS.IO            0.036321  0.008778 -0.006216  0.000602  0.009871\n",
       "     Stellar           0.011474  0.008849  0.017916  0.008145  0.011596\n",
       "     IOTA              0.006290  0.025228  0.006593  0.015945  0.013514\n",
       "     Ethereum          0.042866  0.010986 -0.006329  0.015879  0.015850\n",
       "     Litecoin          0.037013  0.009159  0.025934  0.004070  0.019044\n",
       "     Bitcoin Cash      0.042224  0.013839  0.008884  0.022184  0.021783"
      ]
     },
     "execution_count": 34,
     "metadata": {},
     "output_type": "execute_result"
    }
   ],
   "source": [
    "corrs_fold"
   ]
  },
  {
   "cell_type": "code",
   "execution_count": 35,
   "id": "bcb62e37",
   "metadata": {
    "ExecuteTime": {
     "end_time": "2021-12-08T00:31:22.067703Z",
     "start_time": "2021-12-08T00:31:18.519868Z"
    }
   },
   "outputs": [
    {
     "data": {
      "image/png": "[encoded data removed]",
      "text/plain": [
       "<Figure size 1440x360 with 1 Axes>"
      ]
     },
     "metadata": {
      "needs_background": "light"
     },
     "output_type": "display_data"
    },
    {
     "data": {
      "image/png": "[encoded data removed]",
      "text/plain": [
       "<Figure size 1440x360 with 1 Axes>"
      ]
     },
     "metadata": {
      "needs_background": "light"
     },
     "output_type": "display_data"
    },
    {
     "data": {
      "image/png": "[encoded data removed]",
      "text/plain": [
       "<Figure size 1440x360 with 1 Axes>"
      ]
     },
     "metadata": {
      "needs_background": "light"
     },
     "output_type": "display_data"
    },
    {
     "data": {
      "image/png": "[encoded data removed]",
      "text/plain": [
       "<Figure size 1440x360 with 1 Axes>"
      ]
     },
     "metadata": {
      "needs_background": "light"
     },
     "output_type": "display_data"
    }
   ],
   "source": [
    "for fold, fold_data in inference_df.groupby('fold'):\n",
    "    corrs = compute_correlation(fold_data, group_col='Asset_Name')\n",
    "    plt.figure(figsize=(20, 5))\n",
    "    sns.barplot(x='Asset_Name', y='corr', data=corrs)\n",
    "    plt.title(fold)"
   ]
  },
  {
   "cell_type": "code",
   "execution_count": null,
   "id": "71f76588",
   "metadata": {},
   "outputs": [],
   "source": []
  }
 ],
 "metadata": {
  "kernelspec": {
   "display_name": "Python 3 (ipykernel)",
   "language": "python",
   "name": "python3"
  },
  "language_info": {
   "codemirror_mode": {
    "name": "ipython",
    "version": 3
   },
   "file_extension": ".py",
   "mimetype": "text/x-python",
   "name": "python",
   "nbconvert_exporter": "python",
   "pygments_lexer": "ipython3",
   "version": "3.7.11"
  },
  "toc": {
   "base_numbering": 1,
   "nav_menu": {},
   "number_sections": true,
   "sideBar": true,
   "skip_h1_title": false,
   "title_cell": "Table of Contents",
   "title_sidebar": "Contents",
   "toc_cell": false,
   "toc_position": {},
   "toc_section_display": true,
   "toc_window_display": false
  }
 },
 "nbformat": 4,
 "nbformat_minor": 5
}
