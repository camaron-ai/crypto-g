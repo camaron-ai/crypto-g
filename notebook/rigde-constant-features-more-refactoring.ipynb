{
 "cells": [
  {
   "cell_type": "code",
   "execution_count": 1,
   "id": "7942f4a4",
   "metadata": {
    "ExecuteTime": {
     "end_time": "2021-12-09T13:30:24.819387Z",
     "start_time": "2021-12-09T13:30:24.805329Z"
    }
   },
   "outputs": [],
   "source": [
    "%load_ext autoreload\n",
    "%autoreload 2"
   ]
  },
  {
   "cell_type": "code",
   "execution_count": 2,
   "id": "f255bb4e",
   "metadata": {
    "ExecuteTime": {
     "end_time": "2021-12-09T13:30:25.526700Z",
     "start_time": "2021-12-09T13:30:24.822038Z"
    }
   },
   "outputs": [],
   "source": [
    "import pandas as pd\n",
    "import numpy as np\n",
    "from matplotlib import pyplot as plt\n",
    "import seaborn as sns\n",
    "from pathlib import Path\n",
    "import os\n",
    "import sys\n",
    "from IPython.display import display"
   ]
  },
  {
   "cell_type": "code",
   "execution_count": 3,
   "id": "136f5247",
   "metadata": {
    "ExecuteTime": {
     "end_time": "2021-12-09T13:30:25.546700Z",
     "start_time": "2021-12-09T13:30:25.531871Z"
    }
   },
   "outputs": [],
   "source": [
    "def on_kaggle() -> bool:\n",
    "    try:\n",
    "        import gresearch_crypto\n",
    "        return True\n",
    "    except ModuleNotFoundError:\n",
    "        return False"
   ]
  },
  {
   "cell_type": "code",
   "execution_count": 4,
   "id": "432ba6ef",
   "metadata": {
    "ExecuteTime": {
     "end_time": "2021-12-09T13:30:25.565354Z",
     "start_time": "2021-12-09T13:30:25.549181Z"
    }
   },
   "outputs": [],
   "source": [
    "# HYPER PARAMETERS\n",
    "ON_KAGGLE = on_kaggle()\n",
    "SAMPLE_LEVEL = 1\n",
    "FORCE_REWRITE = True"
   ]
  },
  {
   "cell_type": "code",
   "execution_count": 5,
   "id": "3ee2a957",
   "metadata": {
    "ExecuteTime": {
     "end_time": "2021-12-09T13:30:25.581886Z",
     "start_time": "2021-12-09T13:30:25.568312Z"
    }
   },
   "outputs": [],
   "source": [
    "if not ON_KAGGLE and os.path.abspath('.').endswith('notebook'):\n",
    "    os.chdir('../')"
   ]
  },
  {
   "cell_type": "code",
   "execution_count": 6,
   "id": "8acf98ec",
   "metadata": {
    "ExecuteTime": {
     "end_time": "2021-12-09T13:30:25.680089Z",
     "start_time": "2021-12-09T13:30:25.584085Z"
    }
   },
   "outputs": [],
   "source": [
    "#IMPORT_SCRIPT!\n",
    "if not ON_KAGGLE and '.' not in sys.path:\n",
    "    sys.path.append('.')\n",
    "from src.metrics import *\n",
    "from src.data import merge_asset_details, get_data_for_asset\n",
    "from src.cv import TimeSeriesSplit, get_date_range\n",
    "from src.modeling import Evaluator\n",
    "from src.metrics import compute_metrics, compute_correlation\n",
    "from src.pipeline.feature_gen import compute_instant_features\n",
    "from src.data import infer_dtypes\n",
    "from src.pipeline import EXPECTED_RAW_COLS\n",
    "from src.pipeline.transforms import FilterFeatures\n",
    "from src.modeling import Evaluator\n",
    "from src.util import setup_dir\n",
    "from src.training import compute_exp_time_weight"
   ]
  },
  {
   "cell_type": "code",
   "execution_count": 7,
   "id": "fa49be87",
   "metadata": {
    "ExecuteTime": {
     "end_time": "2021-12-09T13:30:25.700130Z",
     "start_time": "2021-12-09T13:30:25.681882Z"
    }
   },
   "outputs": [],
   "source": [
    "DATA_DIR, RAW_TRAIN_DIR = setup_dir(ON_KAGGLE, sample_level=SAMPLE_LEVEL)\n",
    "RAW_TRAIN_PATH = RAW_TRAIN_DIR / 'train.csv'\n",
    "ASSET_DETAILS_PATH = DATA_DIR / 'asset_details.csv'"
   ]
  },
  {
   "cell_type": "code",
   "execution_count": 8,
   "id": "74076be4",
   "metadata": {
    "ExecuteTime": {
     "end_time": "2021-12-09T13:30:25.724648Z",
     "start_time": "2021-12-09T13:30:25.704715Z"
    }
   },
   "outputs": [
    {
     "data": {
      "text/plain": [
       "PosixPath('data/raw/sample/1')"
      ]
     },
     "execution_count": 8,
     "metadata": {},
     "output_type": "execute_result"
    }
   ],
   "source": [
    "RAW_TRAIN_DIR"
   ]
  },
  {
   "cell_type": "code",
   "execution_count": 9,
   "id": "1d55b22d",
   "metadata": {
    "ExecuteTime": {
     "end_time": "2021-12-09T13:30:25.910732Z",
     "start_time": "2021-12-09T13:30:25.894628Z"
    }
   },
   "outputs": [
    {
     "data": {
      "text/plain": [
       "PosixPath('data/raw')"
      ]
     },
     "execution_count": 9,
     "metadata": {},
     "output_type": "execute_result"
    }
   ],
   "source": [
    "DATA_DIR"
   ]
  },
  {
   "cell_type": "code",
   "execution_count": 10,
   "id": "4b479f0e",
   "metadata": {
    "ExecuteTime": {
     "end_time": "2021-12-09T13:30:30.203499Z",
     "start_time": "2021-12-09T13:30:26.147023Z"
    },
    "scrolled": true
   },
   "outputs": [
    {
     "name": "stdout",
     "output_type": "stream",
     "text": [
      "CPU times: user 3.77 s, sys: 268 ms, total: 4.04 s\n",
      "Wall time: 4.04 s\n"
     ]
    }
   ],
   "source": [
    "%%time \n",
    "raw_data = pd.read_csv(RAW_TRAIN_PATH)"
   ]
  },
  {
   "cell_type": "markdown",
   "id": "d5c53d2f",
   "metadata": {},
   "source": [
    "## create train set"
   ]
  },
  {
   "cell_type": "code",
   "execution_count": 11,
   "id": "9313bf55",
   "metadata": {
    "ExecuteTime": {
     "end_time": "2021-12-09T13:30:30.221643Z",
     "start_time": "2021-12-09T13:30:30.206072Z"
    }
   },
   "outputs": [],
   "source": [
    "MAIN_INDEX = ['timestamp', 'Asset_ID']"
   ]
  },
  {
   "cell_type": "code",
   "execution_count": 12,
   "id": "ddebc9cc",
   "metadata": {
    "ExecuteTime": {
     "end_time": "2021-12-09T13:30:31.176009Z",
     "start_time": "2021-12-09T13:30:30.225135Z"
    }
   },
   "outputs": [],
   "source": [
    "# get valid data only, drop where the target is NaN \n",
    "raw_data = raw_data.dropna(subset=['Target'])\n",
    "# format time to human readable \n",
    "raw_data['time'] = pd.to_datetime(raw_data['timestamp'], unit='s')\n",
    "# merge asset names\n",
    "raw_data = merge_asset_details(raw_data, ASSET_DETAILS_PATH)"
   ]
  },
  {
   "cell_type": "code",
   "execution_count": 13,
   "id": "3c771517",
   "metadata": {
    "ExecuteTime": {
     "end_time": "2021-12-09T13:30:31.204697Z",
     "start_time": "2021-12-09T13:30:31.179766Z"
    }
   },
   "outputs": [
    {
     "data": {
      "text/html": [
       "<div>\n",
       "<style scoped>\n",
       "    .dataframe tbody tr th:only-of-type {\n",
       "        vertical-align: middle;\n",
       "    }\n",
       "\n",
       "    .dataframe tbody tr th {\n",
       "        vertical-align: top;\n",
       "    }\n",
       "\n",
       "    .dataframe thead th {\n",
       "        text-align: right;\n",
       "    }\n",
       "</style>\n",
       "<table border=\"1\" class=\"dataframe\">\n",
       "  <thead>\n",
       "    <tr style=\"text-align: right;\">\n",
       "      <th></th>\n",
       "      <th>timestamp</th>\n",
       "      <th>Asset_ID</th>\n",
       "      <th>Count</th>\n",
       "      <th>Open</th>\n",
       "      <th>High</th>\n",
       "      <th>Low</th>\n",
       "      <th>Close</th>\n",
       "      <th>Volume</th>\n",
       "      <th>VWAP</th>\n",
       "      <th>Target</th>\n",
       "      <th>time</th>\n",
       "      <th>Asset_Name</th>\n",
       "    </tr>\n",
       "  </thead>\n",
       "  <tbody>\n",
       "    <tr>\n",
       "      <th>0</th>\n",
       "      <td>1609459260</td>\n",
       "      <td>3</td>\n",
       "      <td>104.0</td>\n",
       "      <td>0.181465</td>\n",
       "      <td>0.181702</td>\n",
       "      <td>0.181270</td>\n",
       "      <td>0.181493</td>\n",
       "      <td>6.134333e+05</td>\n",
       "      <td>0.181527</td>\n",
       "      <td>0.001255</td>\n",
       "      <td>2021-01-01 00:01:00</td>\n",
       "      <td>Cardano</td>\n",
       "    </tr>\n",
       "    <tr>\n",
       "      <th>1</th>\n",
       "      <td>1609459260</td>\n",
       "      <td>2</td>\n",
       "      <td>275.0</td>\n",
       "      <td>342.556667</td>\n",
       "      <td>343.500000</td>\n",
       "      <td>342.420000</td>\n",
       "      <td>342.966667</td>\n",
       "      <td>4.199310e+02</td>\n",
       "      <td>342.842188</td>\n",
       "      <td>-0.002884</td>\n",
       "      <td>2021-01-01 00:01:00</td>\n",
       "      <td>Bitcoin Cash</td>\n",
       "    </tr>\n",
       "    <tr>\n",
       "      <th>2</th>\n",
       "      <td>1609459260</td>\n",
       "      <td>0</td>\n",
       "      <td>219.0</td>\n",
       "      <td>37.385000</td>\n",
       "      <td>37.422100</td>\n",
       "      <td>37.348700</td>\n",
       "      <td>37.389000</td>\n",
       "      <td>2.749569e+03</td>\n",
       "      <td>37.387059</td>\n",
       "      <td>-0.001669</td>\n",
       "      <td>2021-01-01 00:01:00</td>\n",
       "      <td>Binance Coin</td>\n",
       "    </tr>\n",
       "    <tr>\n",
       "      <th>3</th>\n",
       "      <td>1609459260</td>\n",
       "      <td>1</td>\n",
       "      <td>4039.0</td>\n",
       "      <td>28985.511250</td>\n",
       "      <td>29086.900000</td>\n",
       "      <td>28960.000000</td>\n",
       "      <td>29032.387500</td>\n",
       "      <td>1.637870e+02</td>\n",
       "      <td>29017.664870</td>\n",
       "      <td>0.000396</td>\n",
       "      <td>2021-01-01 00:01:00</td>\n",
       "      <td>Bitcoin</td>\n",
       "    </tr>\n",
       "    <tr>\n",
       "      <th>4</th>\n",
       "      <td>1609459260</td>\n",
       "      <td>4</td>\n",
       "      <td>84.0</td>\n",
       "      <td>0.004671</td>\n",
       "      <td>0.004683</td>\n",
       "      <td>0.004668</td>\n",
       "      <td>0.004677</td>\n",
       "      <td>2.202482e+06</td>\n",
       "      <td>0.004675</td>\n",
       "      <td>-0.008679</td>\n",
       "      <td>2021-01-01 00:01:00</td>\n",
       "      <td>Dogecoin</td>\n",
       "    </tr>\n",
       "  </tbody>\n",
       "</table>\n",
       "</div>"
      ],
      "text/plain": [
       "    timestamp  Asset_ID   Count          Open          High           Low  \\\n",
       "0  1609459260         3   104.0      0.181465      0.181702      0.181270   \n",
       "1  1609459260         2   275.0    342.556667    343.500000    342.420000   \n",
       "2  1609459260         0   219.0     37.385000     37.422100     37.348700   \n",
       "3  1609459260         1  4039.0  28985.511250  29086.900000  28960.000000   \n",
       "4  1609459260         4    84.0      0.004671      0.004683      0.004668   \n",
       "\n",
       "          Close        Volume          VWAP    Target                time  \\\n",
       "0      0.181493  6.134333e+05      0.181527  0.001255 2021-01-01 00:01:00   \n",
       "1    342.966667  4.199310e+02    342.842188 -0.002884 2021-01-01 00:01:00   \n",
       "2     37.389000  2.749569e+03     37.387059 -0.001669 2021-01-01 00:01:00   \n",
       "3  29032.387500  1.637870e+02  29017.664870  0.000396 2021-01-01 00:01:00   \n",
       "4      0.004677  2.202482e+06      0.004675 -0.008679 2021-01-01 00:01:00   \n",
       "\n",
       "     Asset_Name  \n",
       "0       Cardano  \n",
       "1  Bitcoin Cash  \n",
       "2  Binance Coin  \n",
       "3       Bitcoin  \n",
       "4      Dogecoin  "
      ]
     },
     "execution_count": 13,
     "metadata": {},
     "output_type": "execute_result"
    }
   ],
   "source": [
    "raw_data.head()"
   ]
  },
  {
   "cell_type": "code",
   "execution_count": 14,
   "id": "e37a820f",
   "metadata": {
    "ExecuteTime": {
     "end_time": "2021-12-09T13:30:31.231439Z",
     "start_time": "2021-12-09T13:30:31.207298Z"
    }
   },
   "outputs": [
    {
     "data": {
      "text/html": [
       "<div>\n",
       "<style scoped>\n",
       "    .dataframe tbody tr th:only-of-type {\n",
       "        vertical-align: middle;\n",
       "    }\n",
       "\n",
       "    .dataframe tbody tr th {\n",
       "        vertical-align: top;\n",
       "    }\n",
       "\n",
       "    .dataframe thead th {\n",
       "        text-align: right;\n",
       "    }\n",
       "</style>\n",
       "<table border=\"1\" class=\"dataframe\">\n",
       "  <thead>\n",
       "    <tr style=\"text-align: right;\">\n",
       "      <th></th>\n",
       "      <th>timestamp</th>\n",
       "      <th>Asset_ID</th>\n",
       "      <th>Count</th>\n",
       "      <th>Open</th>\n",
       "      <th>High</th>\n",
       "      <th>Low</th>\n",
       "      <th>Close</th>\n",
       "      <th>Volume</th>\n",
       "      <th>VWAP</th>\n",
       "      <th>Target</th>\n",
       "      <th>time</th>\n",
       "      <th>Asset_Name</th>\n",
       "    </tr>\n",
       "  </thead>\n",
       "  <tbody>\n",
       "    <tr>\n",
       "      <th>5137881</th>\n",
       "      <td>1631491200</td>\n",
       "      <td>9</td>\n",
       "      <td>176.0</td>\n",
       "      <td>183.043333</td>\n",
       "      <td>183.240000</td>\n",
       "      <td>182.94000</td>\n",
       "      <td>183.118833</td>\n",
       "      <td>1.127703e+03</td>\n",
       "      <td>183.079643</td>\n",
       "      <td>0.003215</td>\n",
       "      <td>2021-09-13</td>\n",
       "      <td>Litecoin</td>\n",
       "    </tr>\n",
       "    <tr>\n",
       "      <th>5137882</th>\n",
       "      <td>1631491200</td>\n",
       "      <td>10</td>\n",
       "      <td>15.0</td>\n",
       "      <td>2872.870767</td>\n",
       "      <td>2876.000000</td>\n",
       "      <td>2872.33870</td>\n",
       "      <td>2874.284467</td>\n",
       "      <td>9.084150e-01</td>\n",
       "      <td>2872.969592</td>\n",
       "      <td>0.005277</td>\n",
       "      <td>2021-09-13</td>\n",
       "      <td>Maker</td>\n",
       "    </tr>\n",
       "    <tr>\n",
       "      <th>5137883</th>\n",
       "      <td>1631491200</td>\n",
       "      <td>13</td>\n",
       "      <td>873.0</td>\n",
       "      <td>0.112415</td>\n",
       "      <td>0.112522</td>\n",
       "      <td>0.11229</td>\n",
       "      <td>0.112390</td>\n",
       "      <td>3.465484e+06</td>\n",
       "      <td>0.112399</td>\n",
       "      <td>0.007712</td>\n",
       "      <td>2021-09-13</td>\n",
       "      <td>TRON</td>\n",
       "    </tr>\n",
       "    <tr>\n",
       "      <th>5137884</th>\n",
       "      <td>1631491200</td>\n",
       "      <td>12</td>\n",
       "      <td>200.0</td>\n",
       "      <td>0.332417</td>\n",
       "      <td>0.332900</td>\n",
       "      <td>0.33197</td>\n",
       "      <td>0.332570</td>\n",
       "      <td>1.875167e+05</td>\n",
       "      <td>0.332414</td>\n",
       "      <td>0.003338</td>\n",
       "      <td>2021-09-13</td>\n",
       "      <td>Stellar</td>\n",
       "    </tr>\n",
       "    <tr>\n",
       "      <th>5137885</th>\n",
       "      <td>1631491200</td>\n",
       "      <td>11</td>\n",
       "      <td>7.0</td>\n",
       "      <td>256.317500</td>\n",
       "      <td>256.440000</td>\n",
       "      <td>256.20000</td>\n",
       "      <td>256.292500</td>\n",
       "      <td>1.234097e+00</td>\n",
       "      <td>256.303736</td>\n",
       "      <td>0.003787</td>\n",
       "      <td>2021-09-13</td>\n",
       "      <td>Monero</td>\n",
       "    </tr>\n",
       "  </tbody>\n",
       "</table>\n",
       "</div>"
      ],
      "text/plain": [
       "          timestamp  Asset_ID  Count         Open         High         Low  \\\n",
       "5137881  1631491200         9  176.0   183.043333   183.240000   182.94000   \n",
       "5137882  1631491200        10   15.0  2872.870767  2876.000000  2872.33870   \n",
       "5137883  1631491200        13  873.0     0.112415     0.112522     0.11229   \n",
       "5137884  1631491200        12  200.0     0.332417     0.332900     0.33197   \n",
       "5137885  1631491200        11    7.0   256.317500   256.440000   256.20000   \n",
       "\n",
       "               Close        Volume         VWAP    Target       time  \\\n",
       "5137881   183.118833  1.127703e+03   183.079643  0.003215 2021-09-13   \n",
       "5137882  2874.284467  9.084150e-01  2872.969592  0.005277 2021-09-13   \n",
       "5137883     0.112390  3.465484e+06     0.112399  0.007712 2021-09-13   \n",
       "5137884     0.332570  1.875167e+05     0.332414  0.003338 2021-09-13   \n",
       "5137885   256.292500  1.234097e+00   256.303736  0.003787 2021-09-13   \n",
       "\n",
       "        Asset_Name  \n",
       "5137881   Litecoin  \n",
       "5137882      Maker  \n",
       "5137883       TRON  \n",
       "5137884    Stellar  \n",
       "5137885     Monero  "
      ]
     },
     "execution_count": 14,
     "metadata": {},
     "output_type": "execute_result"
    }
   ],
   "source": [
    "raw_data.tail()"
   ]
  },
  {
   "cell_type": "code",
   "execution_count": 15,
   "id": "a5631261",
   "metadata": {
    "ExecuteTime": {
     "end_time": "2021-12-09T13:30:32.194579Z",
     "start_time": "2021-12-09T13:30:31.235188Z"
    }
   },
   "outputs": [],
   "source": [
    "raw_data = infer_dtypes(raw_data)"
   ]
  },
  {
   "cell_type": "code",
   "execution_count": 16,
   "id": "5c2396c7",
   "metadata": {
    "ExecuteTime": {
     "end_time": "2021-12-09T13:30:32.228419Z",
     "start_time": "2021-12-09T13:30:32.196810Z"
    }
   },
   "outputs": [
    {
     "data": {
      "text/html": [
       "<div>\n",
       "<style scoped>\n",
       "    .dataframe tbody tr th:only-of-type {\n",
       "        vertical-align: middle;\n",
       "    }\n",
       "\n",
       "    .dataframe tbody tr th {\n",
       "        vertical-align: top;\n",
       "    }\n",
       "\n",
       "    .dataframe thead th {\n",
       "        text-align: right;\n",
       "    }\n",
       "</style>\n",
       "<table border=\"1\" class=\"dataframe\">\n",
       "  <thead>\n",
       "    <tr style=\"text-align: right;\">\n",
       "      <th></th>\n",
       "      <th>timestamp</th>\n",
       "      <th>Asset_ID</th>\n",
       "      <th>Count</th>\n",
       "      <th>Open</th>\n",
       "      <th>High</th>\n",
       "      <th>Low</th>\n",
       "      <th>Close</th>\n",
       "      <th>Volume</th>\n",
       "      <th>VWAP</th>\n",
       "      <th>Target</th>\n",
       "      <th>time</th>\n",
       "      <th>Asset_Name</th>\n",
       "    </tr>\n",
       "  </thead>\n",
       "  <tbody>\n",
       "    <tr>\n",
       "      <th>0</th>\n",
       "      <td>1609459260</td>\n",
       "      <td>3</td>\n",
       "      <td>104.0</td>\n",
       "      <td>0.181465</td>\n",
       "      <td>0.181702</td>\n",
       "      <td>0.181270</td>\n",
       "      <td>0.181493</td>\n",
       "      <td>6.134333e+05</td>\n",
       "      <td>0.181527</td>\n",
       "      <td>0.001255</td>\n",
       "      <td>2021-01-01 00:01:00</td>\n",
       "      <td>Cardano</td>\n",
       "    </tr>\n",
       "    <tr>\n",
       "      <th>1</th>\n",
       "      <td>1609459260</td>\n",
       "      <td>2</td>\n",
       "      <td>275.0</td>\n",
       "      <td>342.556671</td>\n",
       "      <td>343.500000</td>\n",
       "      <td>342.420013</td>\n",
       "      <td>342.966675</td>\n",
       "      <td>4.199310e+02</td>\n",
       "      <td>342.842194</td>\n",
       "      <td>-0.002884</td>\n",
       "      <td>2021-01-01 00:01:00</td>\n",
       "      <td>Bitcoin Cash</td>\n",
       "    </tr>\n",
       "    <tr>\n",
       "      <th>2</th>\n",
       "      <td>1609459260</td>\n",
       "      <td>0</td>\n",
       "      <td>219.0</td>\n",
       "      <td>37.384998</td>\n",
       "      <td>37.422100</td>\n",
       "      <td>37.348701</td>\n",
       "      <td>37.389000</td>\n",
       "      <td>2.749569e+03</td>\n",
       "      <td>37.387058</td>\n",
       "      <td>-0.001669</td>\n",
       "      <td>2021-01-01 00:01:00</td>\n",
       "      <td>Binance Coin</td>\n",
       "    </tr>\n",
       "    <tr>\n",
       "      <th>3</th>\n",
       "      <td>1609459260</td>\n",
       "      <td>1</td>\n",
       "      <td>4039.0</td>\n",
       "      <td>28985.511719</td>\n",
       "      <td>29086.900391</td>\n",
       "      <td>28960.000000</td>\n",
       "      <td>29032.386719</td>\n",
       "      <td>1.637870e+02</td>\n",
       "      <td>29017.664062</td>\n",
       "      <td>0.000396</td>\n",
       "      <td>2021-01-01 00:01:00</td>\n",
       "      <td>Bitcoin</td>\n",
       "    </tr>\n",
       "    <tr>\n",
       "      <th>4</th>\n",
       "      <td>1609459260</td>\n",
       "      <td>4</td>\n",
       "      <td>84.0</td>\n",
       "      <td>0.004671</td>\n",
       "      <td>0.004683</td>\n",
       "      <td>0.004668</td>\n",
       "      <td>0.004677</td>\n",
       "      <td>2.202482e+06</td>\n",
       "      <td>0.004675</td>\n",
       "      <td>-0.008679</td>\n",
       "      <td>2021-01-01 00:01:00</td>\n",
       "      <td>Dogecoin</td>\n",
       "    </tr>\n",
       "  </tbody>\n",
       "</table>\n",
       "</div>"
      ],
      "text/plain": [
       "    timestamp  Asset_ID   Count          Open          High           Low  \\\n",
       "0  1609459260         3   104.0      0.181465      0.181702      0.181270   \n",
       "1  1609459260         2   275.0    342.556671    343.500000    342.420013   \n",
       "2  1609459260         0   219.0     37.384998     37.422100     37.348701   \n",
       "3  1609459260         1  4039.0  28985.511719  29086.900391  28960.000000   \n",
       "4  1609459260         4    84.0      0.004671      0.004683      0.004668   \n",
       "\n",
       "          Close        Volume          VWAP    Target                time  \\\n",
       "0      0.181493  6.134333e+05      0.181527  0.001255 2021-01-01 00:01:00   \n",
       "1    342.966675  4.199310e+02    342.842194 -0.002884 2021-01-01 00:01:00   \n",
       "2     37.389000  2.749569e+03     37.387058 -0.001669 2021-01-01 00:01:00   \n",
       "3  29032.386719  1.637870e+02  29017.664062  0.000396 2021-01-01 00:01:00   \n",
       "4      0.004677  2.202482e+06      0.004675 -0.008679 2021-01-01 00:01:00   \n",
       "\n",
       "     Asset_Name  \n",
       "0       Cardano  \n",
       "1  Bitcoin Cash  \n",
       "2  Binance Coin  \n",
       "3       Bitcoin  \n",
       "4      Dogecoin  "
      ]
     },
     "execution_count": 16,
     "metadata": {},
     "output_type": "execute_result"
    }
   ],
   "source": [
    "raw_data.head()"
   ]
  },
  {
   "cell_type": "code",
   "execution_count": 17,
   "id": "ee6b551d",
   "metadata": {
    "ExecuteTime": {
     "end_time": "2021-12-09T13:30:32.250428Z",
     "start_time": "2021-12-09T13:30:32.230263Z"
    }
   },
   "outputs": [],
   "source": [
    "FEATURES = [\n",
    "'Count',\n",
    "'High',\n",
    "'Low',\n",
    "'Close',\n",
    "'Volume',\n",
    "'VWAP',\n",
    "'high_low_return',\n",
    "'open_close_return',\n",
    "'upper_shadow',\n",
    "'lower_shadow',\n",
    "'dolar_amount',\n",
    "'vol_per_trades'\n",
    "]"
   ]
  },
  {
   "cell_type": "code",
   "execution_count": 18,
   "id": "5fec683f",
   "metadata": {
    "ExecuteTime": {
     "end_time": "2021-12-09T13:30:34.875093Z",
     "start_time": "2021-12-09T13:30:34.854056Z"
    }
   },
   "outputs": [],
   "source": [
    "PRIVATE_LB_RANGE = [['2020-01-01', '2020-04-01']]\n",
    "PULIC_LB_RANGE = ['2021-06-13',\n",
    "                  '2021-09-13'] # 3 MONTH WORTH OF DATA\n",
    "\n",
    "\n",
    "if SAMPLE_LEVEL==2:\n",
    "    EVAL_PERIODS = [['2021-09-11', '2021-09-13']]\n",
    "elif SAMPLE_LEVEL == 1:\n",
    "    EVAL_PERIODS = [PULIC_LB_RANGE]\n",
    "else:\n",
    "    EVAL_PERIODS =  [\n",
    "                     ['2020-01-01', '2020-04-01'],\n",
    "                     ['2020-09-01', '2021-01-01'],\n",
    "                     ['2021-01-01', '2021-04-01'],\n",
    "                     ['2021-04-01', '2021-07-01']\n",
    "                     ]"
   ]
  },
  {
   "cell_type": "code",
   "execution_count": 19,
   "id": "8825b90a",
   "metadata": {
    "ExecuteTime": {
     "end_time": "2021-12-09T13:30:35.948212Z",
     "start_time": "2021-12-09T13:30:35.929372Z"
    }
   },
   "outputs": [
    {
     "data": {
      "text/plain": [
       "[['2021-06-13', '2021-09-13']]"
      ]
     },
     "execution_count": 19,
     "metadata": {},
     "output_type": "execute_result"
    }
   ],
   "source": [
    "EVAL_PERIODS"
   ]
  },
  {
   "cell_type": "code",
   "execution_count": 20,
   "id": "9b9ff7dd",
   "metadata": {
    "ExecuteTime": {
     "end_time": "2021-12-09T13:30:37.088492Z",
     "start_time": "2021-12-09T13:30:37.073488Z"
    }
   },
   "outputs": [],
   "source": [
    "def _create_fi_pd(features, importances):\n",
    "    return (pd.DataFrame({'feature': features, 'importance': importances})\n",
    "            .sort_values(by=['importance']).reset_index(drop=True))\n",
    "\n",
    "def compute_fi(config, model, valid_data):\n",
    "    return _create_fi_pd(model['filter'].features, model['model'].coef_)"
   ]
  },
  {
   "cell_type": "code",
   "execution_count": 22,
   "id": "6ee89797",
   "metadata": {
    "ExecuteTime": {
     "end_time": "2021-12-09T13:30:44.292760Z",
     "start_time": "2021-12-09T13:30:44.243695Z"
    }
   },
   "outputs": [],
   "source": [
    "CV_PARAMS = {'gap_unit': 'min', 'dt_col': 'time'}\n",
    "\n",
    "\n",
    "CV = TimeSeriesSplit(EVAL_PERIODS, **CV_PARAMS)\n",
    "asset_ids = raw_data['Asset_ID'].unique()"
   ]
  },
  {
   "cell_type": "code",
   "execution_count": 30,
   "id": "d5bd1b1e",
   "metadata": {
    "ExecuteTime": {
     "end_time": "2021-12-09T13:35:06.736649Z",
     "start_time": "2021-12-09T13:35:06.016703Z"
    }
   },
   "outputs": [],
   "source": [
    "data = compute_instant_features(raw_data)"
   ]
  },
  {
   "cell_type": "code",
   "execution_count": 38,
   "id": "a3bf664a",
   "metadata": {
    "ExecuteTime": {
     "end_time": "2021-12-09T13:35:44.587272Z",
     "start_time": "2021-12-09T13:35:44.416782Z"
    }
   },
   "outputs": [],
   "source": [
    "data=data.rename(columns={f: 'ft_' + f for f in FEATURES})"
   ]
  },
  {
   "cell_type": "code",
   "execution_count": 71,
   "id": "02d2cccd",
   "metadata": {
    "ExecuteTime": {
     "end_time": "2021-12-09T13:42:09.658588Z",
     "start_time": "2021-12-09T13:42:09.637131Z"
    }
   },
   "outputs": [],
   "source": [
    "MODEL_CONFIG = {'instance': 'rigde', 'parameters': {'alpha': 0.001}}\n",
    "TRAIN_CONFIG = {'exp_time_weight': None,\n",
    "                'target_tmf': None}\n",
    "TARGET_TMF_CONFIG = None\n",
    "CONFIG = {'model': MODEL_CONFIG,\n",
    "          'training': TRAIN_CONFIG,\n",
    "          'target': 'Target'}"
   ]
  },
  {
   "cell_type": "code",
   "execution_count": 86,
   "id": "ed277016",
   "metadata": {
    "ExecuteTime": {
     "end_time": "2021-12-09T17:08:42.926783Z",
     "start_time": "2021-12-09T17:08:42.909843Z"
    }
   },
   "outputs": [],
   "source": [
    "MODEL_CONFIG = {'instance': 'rigde',\n",
    "                'parameters': {'alpha': 0.001}\n",
    "               }\n",
    "TRAIN_CONFIG = {'exp_time_weight': None,\n",
    "                'target_tmf': None}\n",
    "TARGET_TMF_CONFIG = None\n",
    "CONFIG = {'model': MODEL_CONFIG,\n",
    "          'training': TRAIN_CONFIG,\n",
    "          'target': 'Target'}"
   ]
  },
  {
   "cell_type": "code",
   "execution_count": 87,
   "id": "f0a55429",
   "metadata": {
    "ExecuteTime": {
     "end_time": "2021-12-09T17:08:44.358696Z",
     "start_time": "2021-12-09T17:08:44.338789Z"
    }
   },
   "outputs": [],
   "source": [
    "from src.training import run_experiment\n",
    "from src.model import MODEL_DISPATCHER"
   ]
  },
  {
   "cell_type": "code",
   "execution_count": 88,
   "id": "a0846d98",
   "metadata": {
    "ExecuteTime": {
     "end_time": "2021-12-09T17:08:44.719982Z",
     "start_time": "2021-12-09T17:08:44.704730Z"
    }
   },
   "outputs": [],
   "source": [
    "def train_sklearn_model(config, train_features, train_target, train_sample_weight, *args, **kwargs):\n",
    "    model = MODEL_DISPATCHER.get(config['model'])\n",
    "    model.fit(train_features, train_target, model__sample_weight=train_sample_weight)\n",
    "    return model"
   ]
  },
  {
   "cell_type": "code",
   "execution_count": 89,
   "id": "9bf95edb",
   "metadata": {
    "ExecuteTime": {
     "end_time": "2021-12-09T17:09:00.302830Z",
     "start_time": "2021-12-09T17:08:45.225529Z"
    }
   },
   "outputs": [
    {
     "name": "stderr",
     "output_type": "stream",
     "text": [
      "/home/med/anaconda3/envs/crypto-g/lib/python3.7/site-packages/sklearn/linear_model/_logistic.py:765: ConvergenceWarning: lbfgs failed to converge (status=1):\n",
      "STOP: TOTAL NO. of ITERATIONS REACHED LIMIT.\n",
      "\n",
      "Increase the number of iterations (max_iter) or scale the data as shown in:\n",
      "    https://scikit-learn.org/stable/modules/preprocessing.html\n",
      "Please also refer to the documentation for alternative solver options:\n",
      "    https://scikit-learn.org/stable/modules/linear_model.html#logistic-regression\n",
      "  extra_warning_msg=_LOGISTIC_SOLVER_CONVERGENCE_MSG)\n"
     ]
    }
   ],
   "source": [
    "from collections import defaultdict\n",
    "output_exp = defaultdict(list)\n",
    "\n",
    "for asset_id in asset_ids:\n",
    "    asset_data = get_data_for_asset(data, asset_id)\n",
    "    for fold, (train_idx, valid_idx) in enumerate(CV.split(asset_data)):\n",
    "        asset_data['model_group'] = np.nan\n",
    "        asset_data.loc[train_idx, 'model_group'] = 'train'\n",
    "        asset_data.loc[valid_idx, 'model_group'] = 'test'  \n",
    "        fold_output_exp = run_experiment(CONFIG, train_sklearn_model, asset_data)\n",
    "        fold_output_exp['inference']['fold'] = fold\n",
    "        output_exp[asset_id].append(fold_output_exp)\n",
    "        asset_data.drop('model_group', axis=1, inplace=True)"
   ]
  },
  {
   "cell_type": "code",
   "execution_count": 90,
   "id": "2f9c3e1c",
   "metadata": {
    "ExecuteTime": {
     "end_time": "2021-12-09T17:09:02.317741Z",
     "start_time": "2021-12-09T17:09:02.253583Z"
    }
   },
   "outputs": [],
   "source": [
    "inference_df = pd.concat([fold_out['inference']\n",
    "                          for folds in output_exp.values()\n",
    "                          for fold_out in folds])"
   ]
  },
  {
   "cell_type": "code",
   "execution_count": 91,
   "id": "0d87b7fe",
   "metadata": {
    "ExecuteTime": {
     "end_time": "2021-12-09T17:09:03.162245Z",
     "start_time": "2021-12-09T17:09:02.513515Z"
    }
   },
   "outputs": [],
   "source": [
    "scores = inference_df.groupby('fold').apply(compute_metrics).reset_index()\n",
    "scores['eval_period'] = EVAL_PERIODS"
   ]
  },
  {
   "cell_type": "code",
   "execution_count": 92,
   "id": "a079374c",
   "metadata": {
    "ExecuteTime": {
     "end_time": "2021-12-09T17:09:04.397716Z",
     "start_time": "2021-12-09T17:09:04.374314Z"
    }
   },
   "outputs": [
    {
     "data": {
      "text/html": [
       "<div>\n",
       "<style scoped>\n",
       "    .dataframe tbody tr th:only-of-type {\n",
       "        vertical-align: middle;\n",
       "    }\n",
       "\n",
       "    .dataframe tbody tr th {\n",
       "        vertical-align: top;\n",
       "    }\n",
       "\n",
       "    .dataframe thead th {\n",
       "        text-align: right;\n",
       "    }\n",
       "</style>\n",
       "<table border=\"1\" class=\"dataframe\">\n",
       "  <thead>\n",
       "    <tr style=\"text-align: right;\">\n",
       "      <th></th>\n",
       "      <th>fold</th>\n",
       "      <th>corr</th>\n",
       "      <th>crypto_consistency</th>\n",
       "      <th>sharpe</th>\n",
       "      <th>corr_period_mean</th>\n",
       "      <th>corr_period_std</th>\n",
       "      <th>consistency</th>\n",
       "      <th>min_period_corr</th>\n",
       "      <th>corr_min</th>\n",
       "      <th>corr_max</th>\n",
       "      <th>corr_std</th>\n",
       "      <th>eval_period</th>\n",
       "    </tr>\n",
       "  </thead>\n",
       "  <tbody>\n",
       "    <tr>\n",
       "      <th>0</th>\n",
       "      <td>0</td>\n",
       "      <td>0.006694</td>\n",
       "      <td>8.0</td>\n",
       "      <td>0.958752</td>\n",
       "      <td>0.009744</td>\n",
       "      <td>0.010163</td>\n",
       "      <td>0.785714</td>\n",
       "      <td>-0.006443</td>\n",
       "      <td>-0.028497</td>\n",
       "      <td>0.043336</td>\n",
       "      <td>0.018661</td>\n",
       "      <td>[2021-06-13, 2021-09-13]</td>\n",
       "    </tr>\n",
       "  </tbody>\n",
       "</table>\n",
       "</div>"
      ],
      "text/plain": [
       "   fold      corr  crypto_consistency    sharpe  corr_period_mean  \\\n",
       "0     0  0.006694                 8.0  0.958752          0.009744   \n",
       "\n",
       "   corr_period_std  consistency  min_period_corr  corr_min  corr_max  \\\n",
       "0         0.010163     0.785714        -0.006443 -0.028497  0.043336   \n",
       "\n",
       "   corr_std               eval_period  \n",
       "0  0.018661  [2021-06-13, 2021-09-13]  "
      ]
     },
     "execution_count": 92,
     "metadata": {},
     "output_type": "execute_result"
    }
   ],
   "source": [
    "scores"
   ]
  },
  {
   "cell_type": "code",
   "execution_count": 28,
   "id": "ca03e71a",
   "metadata": {
    "ExecuteTime": {
     "end_time": "2021-12-09T12:44:21.784003Z",
     "start_time": "2021-12-09T12:44:21.754341Z"
    }
   },
   "outputs": [
    {
     "data": {
      "text/html": [
       "<div>\n",
       "<style scoped>\n",
       "    .dataframe tbody tr th:only-of-type {\n",
       "        vertical-align: middle;\n",
       "    }\n",
       "\n",
       "    .dataframe tbody tr th {\n",
       "        vertical-align: top;\n",
       "    }\n",
       "\n",
       "    .dataframe thead th {\n",
       "        text-align: right;\n",
       "    }\n",
       "</style>\n",
       "<table border=\"1\" class=\"dataframe\">\n",
       "  <thead>\n",
       "    <tr style=\"text-align: right;\">\n",
       "      <th></th>\n",
       "      <th>fold</th>\n",
       "      <th>corr</th>\n",
       "      <th>crypto_consistency</th>\n",
       "      <th>sharpe</th>\n",
       "      <th>corr_period_mean</th>\n",
       "      <th>corr_period_std</th>\n",
       "      <th>consistency</th>\n",
       "      <th>min_period_corr</th>\n",
       "      <th>corr_min</th>\n",
       "      <th>corr_max</th>\n",
       "      <th>corr_std</th>\n",
       "      <th>eval_period</th>\n",
       "    </tr>\n",
       "  </thead>\n",
       "  <tbody>\n",
       "    <tr>\n",
       "      <th>0</th>\n",
       "      <td>0</td>\n",
       "      <td>0.013819</td>\n",
       "      <td>11.0</td>\n",
       "      <td>0.718155</td>\n",
       "      <td>0.012036</td>\n",
       "      <td>0.016759</td>\n",
       "      <td>0.857143</td>\n",
       "      <td>-0.016149</td>\n",
       "      <td>-0.010554</td>\n",
       "      <td>0.067012</td>\n",
       "      <td>0.022283</td>\n",
       "      <td>[2021-06-13, 2021-09-13]</td>\n",
       "    </tr>\n",
       "  </tbody>\n",
       "</table>\n",
       "</div>"
      ],
      "text/plain": [
       "   fold      corr  crypto_consistency    sharpe  corr_period_mean  \\\n",
       "0     0  0.013819                11.0  0.718155          0.012036   \n",
       "\n",
       "   corr_period_std  consistency  min_period_corr  corr_min  corr_max  \\\n",
       "0         0.016759     0.857143        -0.016149 -0.010554  0.067012   \n",
       "\n",
       "   corr_std               eval_period  \n",
       "0  0.022283  [2021-06-13, 2021-09-13]  "
      ]
     },
     "execution_count": 28,
     "metadata": {},
     "output_type": "execute_result"
    }
   ],
   "source": [
    "scores"
   ]
  },
  {
   "cell_type": "code",
   "execution_count": 29,
   "id": "94dfb30a",
   "metadata": {
    "ExecuteTime": {
     "end_time": "2021-12-09T12:44:24.056045Z",
     "start_time": "2021-12-09T12:44:24.040659Z"
    }
   },
   "outputs": [
    {
     "name": "stdout",
     "output_type": "stream",
     "text": [
      "|    |   fold |       corr |   crypto_consistency |      sharpe |   corr_period_mean |\n",
      "|---:|-------:|-----------:|---------------------:|------------:|-------------------:|\n",
      "|  0 |      0 | 0.0340875  |                   12 |  0.891724   |        0.0140149   |\n",
      "|  1 |      1 | 0.00107583 |                   11 | -0.00378112 |       -6.72739e-05 |\n",
      "|  2 |      2 | 0.00639626 |                   10 |  0.730508   |        0.0114782   |\n",
      "|  3 |      3 | 0.00803942 |                   10 |  0.333772   |        0.00654437  |\n"
     ]
    }
   ],
   "source": [
    "print('|    |   fold |       corr |   crypto_consistency |      sharpe |   corr_period_mean |\\n|---:|-------:|-----------:|---------------------:|------------:|-------------------:|\\n|  0 |      0 | 0.0340875  |                   12 |  0.891724   |        0.0140149   |\\n|  1 |      1 | 0.00107583 |                   11 | -0.00378112 |       -6.72739e-05 |\\n|  2 |      2 | 0.00639626 |                   10 |  0.730508   |        0.0114782   |\\n|  3 |      3 | 0.00803942 |                   10 |  0.333772   |        0.00654437  |')"
   ]
  },
  {
   "cell_type": "code",
   "execution_count": 93,
   "id": "1988ad5f",
   "metadata": {
    "ExecuteTime": {
     "end_time": "2021-12-09T17:09:13.217208Z",
     "start_time": "2021-12-09T17:09:13.198585Z"
    }
   },
   "outputs": [
    {
     "data": {
      "text/plain": [
       "fold                  0.000000\n",
       "corr                  0.006694\n",
       "crypto_consistency    8.000000\n",
       "sharpe                0.958752\n",
       "corr_period_mean      0.009744\n",
       "corr_period_std       0.010163\n",
       "consistency           0.785714\n",
       "min_period_corr      -0.006443\n",
       "corr_min             -0.028497\n",
       "corr_max              0.043336\n",
       "corr_std              0.018661\n",
       "dtype: float64"
      ]
     },
     "execution_count": 93,
     "metadata": {},
     "output_type": "execute_result"
    }
   ],
   "source": [
    "scores.mean()"
   ]
  },
  {
   "cell_type": "markdown",
   "id": "97847e04",
   "metadata": {},
   "source": [
    "fold                   1.500000\n",
    "corr                   0.012400\n",
    "crypto_consistency    10.750000\n",
    "sharpe                 0.488056\n",
    "corr_period_mean       0.007993\n",
    "corr_period_std        0.017207\n",
    "consistency            0.768162\n",
    "min_period_corr       -0.018003\n",
    "corr_min              -0.027406\n",
    "corr_max               0.064634\n",
    "corr_std               0.023568\n",
    "dtype: float64"
   ]
  },
  {
   "cell_type": "code",
   "execution_count": 31,
   "id": "8bd007c5",
   "metadata": {
    "ExecuteTime": {
     "end_time": "2021-12-09T12:44:25.938444Z",
     "start_time": "2021-12-09T12:44:25.651743Z"
    }
   },
   "outputs": [],
   "source": [
    "corrs_fold = inference_df.groupby('fold').apply(lambda d: compute_correlation(d, group_col='Asset_Name').set_index(\"Asset_Name\")).unstack().T\n",
    "\n",
    "corrs_fold['cum_corr'] = corrs_fold.mean(axis=1)"
   ]
  },
  {
   "cell_type": "code",
   "execution_count": 32,
   "id": "3a8ddbee",
   "metadata": {
    "ExecuteTime": {
     "end_time": "2021-12-09T12:44:25.962850Z",
     "start_time": "2021-12-09T12:44:25.941308Z"
    }
   },
   "outputs": [],
   "source": [
    "corrs_fold = corrs_fold.sort_values(by='cum_corr')"
   ]
  },
  {
   "cell_type": "code",
   "execution_count": 33,
   "id": "41d648c6",
   "metadata": {
    "ExecuteTime": {
     "end_time": "2021-12-09T12:44:26.050691Z",
     "start_time": "2021-12-09T12:44:26.013680Z"
    }
   },
   "outputs": [
    {
     "data": {
      "text/html": [
       "<div>\n",
       "<style scoped>\n",
       "    .dataframe tbody tr th:only-of-type {\n",
       "        vertical-align: middle;\n",
       "    }\n",
       "\n",
       "    .dataframe tbody tr th {\n",
       "        vertical-align: top;\n",
       "    }\n",
       "\n",
       "    .dataframe thead th {\n",
       "        text-align: right;\n",
       "    }\n",
       "</style>\n",
       "<table border=\"1\" class=\"dataframe\">\n",
       "  <thead>\n",
       "    <tr style=\"text-align: right;\">\n",
       "      <th></th>\n",
       "      <th>fold</th>\n",
       "      <th>0</th>\n",
       "      <th>cum_corr</th>\n",
       "    </tr>\n",
       "    <tr>\n",
       "      <th></th>\n",
       "      <th>Asset_Name</th>\n",
       "      <th></th>\n",
       "      <th></th>\n",
       "    </tr>\n",
       "  </thead>\n",
       "  <tbody>\n",
       "    <tr>\n",
       "      <th rowspan=\"14\" valign=\"top\">corr</th>\n",
       "      <th>Bitcoin Cash</th>\n",
       "      <td>-0.010554</td>\n",
       "      <td>-0.010554</td>\n",
       "    </tr>\n",
       "    <tr>\n",
       "      <th>Stellar</th>\n",
       "      <td>-0.007033</td>\n",
       "      <td>-0.007033</td>\n",
       "    </tr>\n",
       "    <tr>\n",
       "      <th>Ethereum</th>\n",
       "      <td>-0.005957</td>\n",
       "      <td>-0.005957</td>\n",
       "    </tr>\n",
       "    <tr>\n",
       "      <th>Litecoin</th>\n",
       "      <td>0.006759</td>\n",
       "      <td>0.006759</td>\n",
       "    </tr>\n",
       "    <tr>\n",
       "      <th>Ethereum Classic</th>\n",
       "      <td>0.008186</td>\n",
       "      <td>0.008186</td>\n",
       "    </tr>\n",
       "    <tr>\n",
       "      <th>Dogecoin</th>\n",
       "      <td>0.009271</td>\n",
       "      <td>0.009271</td>\n",
       "    </tr>\n",
       "    <tr>\n",
       "      <th>Monero</th>\n",
       "      <td>0.010632</td>\n",
       "      <td>0.010632</td>\n",
       "    </tr>\n",
       "    <tr>\n",
       "      <th>Maker</th>\n",
       "      <td>0.011698</td>\n",
       "      <td>0.011698</td>\n",
       "    </tr>\n",
       "    <tr>\n",
       "      <th>Bitcoin</th>\n",
       "      <td>0.013960</td>\n",
       "      <td>0.013960</td>\n",
       "    </tr>\n",
       "    <tr>\n",
       "      <th>EOS.IO</th>\n",
       "      <td>0.018357</td>\n",
       "      <td>0.018357</td>\n",
       "    </tr>\n",
       "    <tr>\n",
       "      <th>Binance Coin</th>\n",
       "      <td>0.023846</td>\n",
       "      <td>0.023846</td>\n",
       "    </tr>\n",
       "    <tr>\n",
       "      <th>IOTA</th>\n",
       "      <td>0.037151</td>\n",
       "      <td>0.037151</td>\n",
       "    </tr>\n",
       "    <tr>\n",
       "      <th>Cardano</th>\n",
       "      <td>0.053263</td>\n",
       "      <td>0.053263</td>\n",
       "    </tr>\n",
       "    <tr>\n",
       "      <th>TRON</th>\n",
       "      <td>0.067012</td>\n",
       "      <td>0.067012</td>\n",
       "    </tr>\n",
       "  </tbody>\n",
       "</table>\n",
       "</div>"
      ],
      "text/plain": [
       "fold                          0  cum_corr\n",
       "     Asset_Name                          \n",
       "corr Bitcoin Cash     -0.010554 -0.010554\n",
       "     Stellar          -0.007033 -0.007033\n",
       "     Ethereum         -0.005957 -0.005957\n",
       "     Litecoin          0.006759  0.006759\n",
       "     Ethereum Classic  0.008186  0.008186\n",
       "     Dogecoin          0.009271  0.009271\n",
       "     Monero            0.010632  0.010632\n",
       "     Maker             0.011698  0.011698\n",
       "     Bitcoin           0.013960  0.013960\n",
       "     EOS.IO            0.018357  0.018357\n",
       "     Binance Coin      0.023846  0.023846\n",
       "     IOTA              0.037151  0.037151\n",
       "     Cardano           0.053263  0.053263\n",
       "     TRON              0.067012  0.067012"
      ]
     },
     "execution_count": 33,
     "metadata": {},
     "output_type": "execute_result"
    }
   ],
   "source": [
    "corrs_fold"
   ]
  },
  {
   "cell_type": "code",
   "execution_count": 34,
   "id": "bcb62e37",
   "metadata": {
    "ExecuteTime": {
     "end_time": "2021-12-09T12:44:26.767847Z",
     "start_time": "2021-12-09T12:44:26.240659Z"
    }
   },
   "outputs": [
    {
     "data": {
      "image/png": "[encoded data removed]",
      "text/plain": [
       "<Figure size 1440x360 with 1 Axes>"
      ]
     },
     "metadata": {
      "needs_background": "light"
     },
     "output_type": "display_data"
    }
   ],
   "source": [
    "for fold, fold_data in inference_df.groupby('fold'):\n",
    "    corrs = compute_correlation(fold_data, group_col='Asset_Name')\n",
    "    plt.figure(figsize=(20, 5))\n",
    "    sns.barplot(x='Asset_Name', y='corr', data=corrs)\n",
    "    plt.title(fold)"
   ]
  },
  {
   "cell_type": "code",
   "execution_count": null,
   "id": "71f76588",
   "metadata": {},
   "outputs": [],
   "source": []
  }
 ],
 "metadata": {
  "kernelspec": {
   "display_name": "Python 3 (ipykernel)",
   "language": "python",
   "name": "python3"
  },
  "language_info": {
   "codemirror_mode": {
    "name": "ipython",
    "version": 3
   },
   "file_extension": ".py",
   "mimetype": "text/x-python",
   "name": "python",
   "nbconvert_exporter": "python",
   "pygments_lexer": "ipython3",
   "version": "3.7.11"
  },
  "toc": {
   "base_numbering": 1,
   "nav_menu": {},
   "number_sections": true,
   "sideBar": true,
   "skip_h1_title": false,
   "title_cell": "Table of Contents",
   "title_sidebar": "Contents",
   "toc_cell": false,
   "toc_position": {},
   "toc_section_display": true,
   "toc_window_display": false
  }
 },
 "nbformat": 4,
 "nbformat_minor": 5
}
