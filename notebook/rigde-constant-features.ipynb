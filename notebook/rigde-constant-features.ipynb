{
 "cells": [
  {
   "cell_type": "code",
   "execution_count": 1,
   "id": "7942f4a4",
   "metadata": {
    "ExecuteTime": {
     "end_time": "2021-12-15T01:56:39.642448Z",
     "start_time": "2021-12-15T01:56:39.617321Z"
    }
   },
   "outputs": [],
   "source": [
    "%load_ext autoreload\n",
    "%autoreload 2"
   ]
  },
  {
   "cell_type": "code",
   "execution_count": 2,
   "id": "f255bb4e",
   "metadata": {
    "ExecuteTime": {
     "end_time": "2021-12-15T01:56:41.038818Z",
     "start_time": "2021-12-15T01:56:39.650602Z"
    }
   },
   "outputs": [],
   "source": [
    "import pandas as pd\n",
    "import numpy as np\n",
    "from matplotlib import pyplot as plt\n",
    "import seaborn as sns\n",
    "from pathlib import Path\n",
    "import os\n",
    "import sys\n",
    "from IPython.display import display"
   ]
  },
  {
   "cell_type": "code",
   "execution_count": 3,
   "id": "c5f21b0e",
   "metadata": {
    "ExecuteTime": {
     "end_time": "2021-12-15T01:56:41.063222Z",
     "start_time": "2021-12-15T01:56:41.041828Z"
    }
   },
   "outputs": [],
   "source": [
    "def on_kaggle_env() -> bool:\n",
    "    try:\n",
    "        import gresearch_crypto\n",
    "        return True\n",
    "    except ModuleNotFoundError:\n",
    "        return False"
   ]
  },
  {
   "cell_type": "code",
   "execution_count": 4,
   "id": "030ad8cf",
   "metadata": {
    "ExecuteTime": {
     "end_time": "2021-12-15T01:56:41.091234Z",
     "start_time": "2021-12-15T01:56:41.067831Z"
    }
   },
   "outputs": [],
   "source": [
    "ON_KAGGLE = on_kaggle_env()"
   ]
  },
  {
   "cell_type": "code",
   "execution_count": 5,
   "id": "ff92aa67",
   "metadata": {
    "ExecuteTime": {
     "end_time": "2021-12-15T01:56:41.124923Z",
     "start_time": "2021-12-15T01:56:41.094061Z"
    }
   },
   "outputs": [],
   "source": [
    "if not ON_KAGGLE and os.path.abspath('.').endswith('notebook'):\n",
    "    os.chdir('../')"
   ]
  },
  {
   "cell_type": "code",
   "execution_count": 6,
   "id": "70027e5e",
   "metadata": {
    "ExecuteTime": {
     "end_time": "2021-12-15T01:56:41.213148Z",
     "start_time": "2021-12-15T01:56:41.127770Z"
    }
   },
   "outputs": [],
   "source": [
    "#IMPORT_SCRIPT!\n",
    "if not ON_KAGGLE and '.' not in sys.path:\n",
    "    sys.path.append('.')\n",
    "from src.cfg import *\n",
    "from src.metrics import *\n",
    "from src.data import ingest_raw_data\n",
    "from src.cv import TimeSeriesSplit, get_date_range\n",
    "from src.modeling import Evaluator\n",
    "# from src.metrics import compute_metrics, compute_correlation\n",
    "# from src.pipeline.feature_gen import compute_instant_features\n",
    "# from src.data import infer_dtypes\n",
    "# from src.pipeline import EXPECTED_RAW_COLS\n",
    "# from src.pipeline.transforms import FilterFeatures\n",
    "# from src.modeling import Evaluator\n",
    "# from src.util import setup_dir"
   ]
  },
  {
   "cell_type": "code",
   "execution_count": 7,
   "id": "e05ac459",
   "metadata": {
    "ExecuteTime": {
     "end_time": "2021-12-15T01:56:42.381554Z",
     "start_time": "2021-12-15T01:56:42.355567Z"
    }
   },
   "outputs": [],
   "source": [
    "SAMPLE_LEVEL = 0"
   ]
  },
  {
   "cell_type": "code",
   "execution_count": 8,
   "id": "1dd8a905",
   "metadata": {
    "ExecuteTime": {
     "end_time": "2021-12-15T01:56:42.859306Z",
     "start_time": "2021-12-15T01:56:42.833136Z"
    }
   },
   "outputs": [],
   "source": [
    "ENV_CONFIG = setup_env(ON_KAGGLE, sample_level=SAMPLE_LEVEL)"
   ]
  },
  {
   "cell_type": "code",
   "execution_count": 9,
   "id": "7396bacc",
   "metadata": {
    "ExecuteTime": {
     "end_time": "2021-12-15T01:56:43.071765Z",
     "start_time": "2021-12-15T01:56:43.045106Z"
    }
   },
   "outputs": [],
   "source": [
    "# FILES\n",
    "DATA_DIR = Path(ENV_CONFIG['dirs']['data_dir'])\n",
    "RAW_TRAIN_PATH = Path(ENV_CONFIG['dirs']['raw_train_path'])\n",
    "ASSET_DETAILS_PATH = DATA_DIR / 'asset_details.csv'"
   ]
  },
  {
   "cell_type": "code",
   "execution_count": 10,
   "id": "4b479f0e",
   "metadata": {
    "ExecuteTime": {
     "end_time": "2021-12-15T01:57:37.999766Z",
     "start_time": "2021-12-15T01:56:43.178004Z"
    },
    "scrolled": true
   },
   "outputs": [
    {
     "name": "stdout",
     "output_type": "stream",
     "text": [
      "CPU times: user 45.2 s, sys: 5.38 s, total: 50.6 s\n",
      "Wall time: 54.8 s\n"
     ]
    }
   ],
   "source": [
    "%%time \n",
    "raw_data = pd.read_csv(RAW_TRAIN_PATH)"
   ]
  },
  {
   "cell_type": "markdown",
   "id": "d5c53d2f",
   "metadata": {},
   "source": [
    "## create train set"
   ]
  },
  {
   "cell_type": "code",
   "execution_count": 11,
   "id": "9313bf55",
   "metadata": {
    "ExecuteTime": {
     "end_time": "2021-12-15T01:57:38.029054Z",
     "start_time": "2021-12-15T01:57:38.002256Z"
    }
   },
   "outputs": [],
   "source": [
    "MAIN_INDEX = ['timestamp', 'Asset_ID']"
   ]
  },
  {
   "cell_type": "code",
   "execution_count": 12,
   "id": "90d04fc8",
   "metadata": {
    "ExecuteTime": {
     "end_time": "2021-12-15T01:57:38.268802Z",
     "start_time": "2021-12-15T01:57:38.032082Z"
    }
   },
   "outputs": [
    {
     "data": {
      "text/html": [
       "<div>\n",
       "<style scoped>\n",
       "    .dataframe tbody tr th:only-of-type {\n",
       "        vertical-align: middle;\n",
       "    }\n",
       "\n",
       "    .dataframe tbody tr th {\n",
       "        vertical-align: top;\n",
       "    }\n",
       "\n",
       "    .dataframe thead th {\n",
       "        text-align: right;\n",
       "    }\n",
       "</style>\n",
       "<table border=\"1\" class=\"dataframe\">\n",
       "  <thead>\n",
       "    <tr style=\"text-align: right;\">\n",
       "      <th></th>\n",
       "      <th>timestamp</th>\n",
       "      <th>Asset_ID</th>\n",
       "      <th>Count</th>\n",
       "      <th>Open</th>\n",
       "      <th>High</th>\n",
       "      <th>Low</th>\n",
       "      <th>Close</th>\n",
       "      <th>Volume</th>\n",
       "      <th>VWAP</th>\n",
       "      <th>Target</th>\n",
       "    </tr>\n",
       "  </thead>\n",
       "  <tbody>\n",
       "    <tr>\n",
       "      <th>0</th>\n",
       "      <td>1514764860</td>\n",
       "      <td>2</td>\n",
       "      <td>40.0</td>\n",
       "      <td>2376.5800</td>\n",
       "      <td>2399.5000</td>\n",
       "      <td>2357.1400</td>\n",
       "      <td>2374.5900</td>\n",
       "      <td>19.233005</td>\n",
       "      <td>2373.116392</td>\n",
       "      <td>-0.004218</td>\n",
       "    </tr>\n",
       "    <tr>\n",
       "      <th>1</th>\n",
       "      <td>1514764860</td>\n",
       "      <td>0</td>\n",
       "      <td>5.0</td>\n",
       "      <td>8.5300</td>\n",
       "      <td>8.5300</td>\n",
       "      <td>8.5300</td>\n",
       "      <td>8.5300</td>\n",
       "      <td>78.380000</td>\n",
       "      <td>8.530000</td>\n",
       "      <td>-0.014399</td>\n",
       "    </tr>\n",
       "    <tr>\n",
       "      <th>2</th>\n",
       "      <td>1514764860</td>\n",
       "      <td>1</td>\n",
       "      <td>229.0</td>\n",
       "      <td>13835.1940</td>\n",
       "      <td>14013.8000</td>\n",
       "      <td>13666.1100</td>\n",
       "      <td>13850.1760</td>\n",
       "      <td>31.550062</td>\n",
       "      <td>13827.062093</td>\n",
       "      <td>-0.014643</td>\n",
       "    </tr>\n",
       "    <tr>\n",
       "      <th>3</th>\n",
       "      <td>1514764860</td>\n",
       "      <td>5</td>\n",
       "      <td>32.0</td>\n",
       "      <td>7.6596</td>\n",
       "      <td>7.6596</td>\n",
       "      <td>7.6567</td>\n",
       "      <td>7.6576</td>\n",
       "      <td>6626.713370</td>\n",
       "      <td>7.657713</td>\n",
       "      <td>-0.013922</td>\n",
       "    </tr>\n",
       "    <tr>\n",
       "      <th>4</th>\n",
       "      <td>1514764860</td>\n",
       "      <td>7</td>\n",
       "      <td>5.0</td>\n",
       "      <td>25.9200</td>\n",
       "      <td>25.9200</td>\n",
       "      <td>25.8740</td>\n",
       "      <td>25.8770</td>\n",
       "      <td>121.087310</td>\n",
       "      <td>25.891363</td>\n",
       "      <td>-0.008264</td>\n",
       "    </tr>\n",
       "  </tbody>\n",
       "</table>\n",
       "</div>"
      ],
      "text/plain": [
       "    timestamp  Asset_ID  Count        Open        High         Low  \\\n",
       "0  1514764860         2   40.0   2376.5800   2399.5000   2357.1400   \n",
       "1  1514764860         0    5.0      8.5300      8.5300      8.5300   \n",
       "2  1514764860         1  229.0  13835.1940  14013.8000  13666.1100   \n",
       "3  1514764860         5   32.0      7.6596      7.6596      7.6567   \n",
       "4  1514764860         7    5.0     25.9200     25.9200     25.8740   \n",
       "\n",
       "        Close       Volume          VWAP    Target  \n",
       "0   2374.5900    19.233005   2373.116392 -0.004218  \n",
       "1      8.5300    78.380000      8.530000 -0.014399  \n",
       "2  13850.1760    31.550062  13827.062093 -0.014643  \n",
       "3      7.6576  6626.713370      7.657713 -0.013922  \n",
       "4     25.8770   121.087310     25.891363 -0.008264  "
      ]
     },
     "execution_count": 12,
     "metadata": {},
     "output_type": "execute_result"
    }
   ],
   "source": [
    "raw_data.head()"
   ]
  },
  {
   "cell_type": "code",
   "execution_count": 13,
   "id": "ddebc9cc",
   "metadata": {
    "ExecuteTime": {
     "end_time": "2021-12-15T01:58:21.282665Z",
     "start_time": "2021-12-15T01:57:38.275043Z"
    }
   },
   "outputs": [],
   "source": [
    "raw_data = ingest_raw_data(raw_data, ASSET_DETAILS_PATH)"
   ]
  },
  {
   "cell_type": "code",
   "execution_count": 14,
   "id": "e37a820f",
   "metadata": {
    "ExecuteTime": {
     "end_time": "2021-12-15T01:58:21.325740Z",
     "start_time": "2021-12-15T01:58:21.285068Z"
    }
   },
   "outputs": [
    {
     "data": {
      "text/html": [
       "<div>\n",
       "<style scoped>\n",
       "    .dataframe tbody tr th:only-of-type {\n",
       "        vertical-align: middle;\n",
       "    }\n",
       "\n",
       "    .dataframe tbody tr th {\n",
       "        vertical-align: top;\n",
       "    }\n",
       "\n",
       "    .dataframe thead th {\n",
       "        text-align: right;\n",
       "    }\n",
       "</style>\n",
       "<table border=\"1\" class=\"dataframe\">\n",
       "  <thead>\n",
       "    <tr style=\"text-align: right;\">\n",
       "      <th></th>\n",
       "      <th>timestamp</th>\n",
       "      <th>Asset_ID</th>\n",
       "      <th>Count</th>\n",
       "      <th>Open</th>\n",
       "      <th>High</th>\n",
       "      <th>Low</th>\n",
       "      <th>Close</th>\n",
       "      <th>Volume</th>\n",
       "      <th>VWAP</th>\n",
       "      <th>Target</th>\n",
       "      <th>time</th>\n",
       "      <th>Asset_Name</th>\n",
       "    </tr>\n",
       "  </thead>\n",
       "  <tbody>\n",
       "    <tr>\n",
       "      <th>23486463</th>\n",
       "      <td>1632181200</td>\n",
       "      <td>13</td>\n",
       "      <td>986.0</td>\n",
       "      <td>0.090885</td>\n",
       "      <td>0.091054</td>\n",
       "      <td>0.090710</td>\n",
       "      <td>0.090941</td>\n",
       "      <td>5.734456e+06</td>\n",
       "      <td>0.090831</td>\n",
       "      <td>0.000199</td>\n",
       "      <td>2021-09-20 23:40:00</td>\n",
       "      <td>TRON</td>\n",
       "    </tr>\n",
       "    <tr>\n",
       "      <th>23486464</th>\n",
       "      <td>1632181260</td>\n",
       "      <td>13</td>\n",
       "      <td>715.0</td>\n",
       "      <td>0.091010</td>\n",
       "      <td>0.091277</td>\n",
       "      <td>0.090980</td>\n",
       "      <td>0.091203</td>\n",
       "      <td>1.989048e+06</td>\n",
       "      <td>0.091125</td>\n",
       "      <td>-0.003477</td>\n",
       "      <td>2021-09-20 23:41:00</td>\n",
       "      <td>TRON</td>\n",
       "    </tr>\n",
       "    <tr>\n",
       "      <th>23486465</th>\n",
       "      <td>1632181320</td>\n",
       "      <td>13</td>\n",
       "      <td>527.0</td>\n",
       "      <td>0.091171</td>\n",
       "      <td>0.091295</td>\n",
       "      <td>0.091092</td>\n",
       "      <td>0.091180</td>\n",
       "      <td>2.386078e+06</td>\n",
       "      <td>0.091185</td>\n",
       "      <td>-0.002437</td>\n",
       "      <td>2021-09-20 23:42:00</td>\n",
       "      <td>TRON</td>\n",
       "    </tr>\n",
       "    <tr>\n",
       "      <th>23486466</th>\n",
       "      <td>1632181380</td>\n",
       "      <td>13</td>\n",
       "      <td>463.0</td>\n",
       "      <td>0.091206</td>\n",
       "      <td>0.091290</td>\n",
       "      <td>0.091028</td>\n",
       "      <td>0.091081</td>\n",
       "      <td>1.568854e+06</td>\n",
       "      <td>0.091131</td>\n",
       "      <td>0.004843</td>\n",
       "      <td>2021-09-20 23:43:00</td>\n",
       "      <td>TRON</td>\n",
       "    </tr>\n",
       "    <tr>\n",
       "      <th>23486467</th>\n",
       "      <td>1632181440</td>\n",
       "      <td>13</td>\n",
       "      <td>512.0</td>\n",
       "      <td>0.090989</td>\n",
       "      <td>0.091133</td>\n",
       "      <td>0.090831</td>\n",
       "      <td>0.090885</td>\n",
       "      <td>1.900695e+06</td>\n",
       "      <td>0.090943</td>\n",
       "      <td>0.004163</td>\n",
       "      <td>2021-09-20 23:44:00</td>\n",
       "      <td>TRON</td>\n",
       "    </tr>\n",
       "  </tbody>\n",
       "</table>\n",
       "</div>"
      ],
      "text/plain": [
       "           timestamp  Asset_ID  Count      Open      High       Low     Close  \\\n",
       "23486463  1632181200        13  986.0  0.090885  0.091054  0.090710  0.090941   \n",
       "23486464  1632181260        13  715.0  0.091010  0.091277  0.090980  0.091203   \n",
       "23486465  1632181320        13  527.0  0.091171  0.091295  0.091092  0.091180   \n",
       "23486466  1632181380        13  463.0  0.091206  0.091290  0.091028  0.091081   \n",
       "23486467  1632181440        13  512.0  0.090989  0.091133  0.090831  0.090885   \n",
       "\n",
       "                Volume      VWAP    Target                time Asset_Name  \n",
       "23486463  5.734456e+06  0.090831  0.000199 2021-09-20 23:40:00       TRON  \n",
       "23486464  1.989048e+06  0.091125 -0.003477 2021-09-20 23:41:00       TRON  \n",
       "23486465  2.386078e+06  0.091185 -0.002437 2021-09-20 23:42:00       TRON  \n",
       "23486466  1.568854e+06  0.091131  0.004843 2021-09-20 23:43:00       TRON  \n",
       "23486467  1.900695e+06  0.090943  0.004163 2021-09-20 23:44:00       TRON  "
      ]
     },
     "execution_count": 14,
     "metadata": {},
     "output_type": "execute_result"
    }
   ],
   "source": [
    "raw_data.tail()"
   ]
  },
  {
   "cell_type": "code",
   "execution_count": 15,
   "id": "1c96cfae",
   "metadata": {
    "ExecuteTime": {
     "end_time": "2021-12-15T01:58:21.386458Z",
     "start_time": "2021-12-15T01:58:21.331276Z"
    }
   },
   "outputs": [],
   "source": [
    "from src.pipeline.feature_gen import compute_minute_features"
   ]
  },
  {
   "cell_type": "code",
   "execution_count": 16,
   "id": "989a2011",
   "metadata": {
    "ExecuteTime": {
     "end_time": "2021-12-15T02:00:06.770553Z",
     "start_time": "2021-12-15T01:58:21.392665Z"
    }
   },
   "outputs": [],
   "source": [
    "data = compute_minute_features(raw_data, inference=False)"
   ]
  },
  {
   "cell_type": "code",
   "execution_count": 17,
   "id": "84e432dc",
   "metadata": {
    "ExecuteTime": {
     "end_time": "2021-12-15T02:00:09.004586Z",
     "start_time": "2021-12-15T02:00:06.949333Z"
    }
   },
   "outputs": [
    {
     "data": {
      "text/plain": [
       "Index(['timestamp', 'Asset_ID', 'Count', 'High', 'Low', 'Close', 'Volume',\n",
       "       'VWAP', 'Target', 'time', 'Asset_Name', 'upper_shadow', 'lower_shadow',\n",
       "       'high_low_return', 'open_close_return', 'dolar_amount',\n",
       "       'vol_per_trades', 'market_close_price', 'market_volume', 'market_count',\n",
       "       'bitcoin__close', 'bitcoin__volume', 'bitcoin__count'],\n",
       "      dtype='object')"
      ]
     },
     "execution_count": 17,
     "metadata": {},
     "output_type": "execute_result"
    }
   ],
   "source": [
    "data.columns"
   ]
  },
  {
   "cell_type": "code",
   "execution_count": 59,
   "id": "ee6b551d",
   "metadata": {
    "ExecuteTime": {
     "end_time": "2021-12-15T02:06:09.871174Z",
     "start_time": "2021-12-15T02:06:09.844044Z"
    }
   },
   "outputs": [],
   "source": [
    "FEATURES = [\n",
    "'Count',\n",
    "'High',\n",
    "'Low',\n",
    "'Close',\n",
    "'Volume',\n",
    "'VWAP',\n",
    "'high_low_return',\n",
    "'open_close_return',\n",
    "'upper_shadow',\n",
    "'lower_shadow',\n",
    "'dolar_amount',\n",
    "'vol_per_trades',\n",
    "    'market_close_price', 'market_volume', 'market_count',\n",
    "       'bitcoin__close', 'bitcoin__volume', 'bitcoin__count'\n",
    "]\n",
    "\n",
    "FEATURES = list(set(FEATURES) - set(['Count', 'Volume', 'bitcoin__count', 'bitcoin__volume', 'market_count',\n",
    "       'market_volume', 'vol_per_trades']))"
   ]
  },
  {
   "cell_type": "code",
   "execution_count": 60,
   "id": "4fcd4e69",
   "metadata": {
    "ExecuteTime": {
     "end_time": "2021-12-15T02:06:11.290906Z",
     "start_time": "2021-12-15T02:06:11.262927Z"
    }
   },
   "outputs": [],
   "source": [
    "from sklearn.linear_model import LogisticRegression, LinearRegression, Lasso, Ridge\n",
    "from sklearn.preprocessing import MinMaxScaler, FunctionTransformer\n",
    "from sklearn.pipeline import Pipeline\n",
    "from lightgbm import LGBMRegressor\n",
    "from src.pipeline.transforms import FilterFeatures\n",
    "\n",
    "def build_model(params={'alpha': 0.001}):\n",
    "    model = Pipeline([('filter', FilterFeatures(FEATURES)),\n",
    "                      ('norm', MinMaxScaler()),\n",
    "                      ('model', Ridge(params['alpha'], random_state=1))])\n",
    "    return model"
   ]
  },
  {
   "cell_type": "code",
   "execution_count": 61,
   "id": "d2c9a4b9",
   "metadata": {
    "ExecuteTime": {
     "end_time": "2021-12-15T02:06:11.477717Z",
     "start_time": "2021-12-15T02:06:11.443944Z"
    }
   },
   "outputs": [],
   "source": [
    "def train_model(config, train_data, valid_data, pipeline=None):\n",
    "    model  = build_model(config['model'])\n",
    "\n",
    "    if config['training']['time_decay_alpha'] is not None:\n",
    "        time_decay_alpha = config['training']['time_decay_alpha']\n",
    "        print(f'using exponential_time_decay with alpha {time_decay_alpha}')\n",
    "        timesteps = ((train_data['timestamp'].max() - train_data['timestamp'])//60//60//24)\n",
    "        weight = time_decay_alpha ** timesteps\n",
    "    else:\n",
    "        weight = None\n",
    "\n",
    "    model.fit(train_data, train_data['Target'], model__sample_weight=weight)\n",
    "    return model\n",
    "\n",
    "\n",
    "def get_mask_for_asset(data: pd.DataFrame, asset_id: int):\n",
    "    return (data['Asset_ID'] == asset_id)\n",
    "\n",
    "\n",
    "def get_data_for_asset(data: pd.DataFrame, asset_id: int):\n",
    "    mask = get_mask_for_asset(data, asset_id)\n",
    "    return data.loc[mask, :].reset_index(drop=True)"
   ]
  },
  {
   "cell_type": "code",
   "execution_count": 62,
   "id": "9b9ff7dd",
   "metadata": {
    "ExecuteTime": {
     "end_time": "2021-12-15T02:06:11.770523Z",
     "start_time": "2021-12-15T02:06:11.739959Z"
    }
   },
   "outputs": [],
   "source": [
    "def _create_fi_pd(features, importances):\n",
    "    return (pd.DataFrame({'feature': features, 'importance': importances})\n",
    "            .sort_values(by=['importance']).reset_index(drop=True))\n",
    "\n",
    "def compute_fi(config, model, valid_data):\n",
    "    return _create_fi_pd(model['filter'].features, model['model'].coef_)"
   ]
  },
  {
   "cell_type": "code",
   "execution_count": 63,
   "id": "6ee89797",
   "metadata": {
    "ExecuteTime": {
     "end_time": "2021-12-15T02:06:12.303599Z",
     "start_time": "2021-12-15T02:06:11.991726Z"
    }
   },
   "outputs": [],
   "source": [
    "CV_PARAMS = {'gap_unit': 'min', 'dt_col': 'time'}\n",
    "\n",
    "\n",
    "CV = TimeSeriesSplit(ENV_CONFIG['cv_period'], **CV_PARAMS)\n",
    "asset_ids = raw_data['Asset_ID'].unique()\n",
    "\n",
    "def run(config, data: pd.DataFrame):\n",
    "    evaluator = Evaluator(cv=CV, fi_fn=compute_fi)\n",
    "    \n",
    "#     data = compute_instant_features(data)\n",
    "    data.fillna(0, inplace=True)\n",
    "    RESULTS = {}\n",
    "    for asset_id in asset_ids:\n",
    "        asset_data = get_data_for_asset(data, asset_id)\n",
    "        asset_result = evaluator.run(train_model, config, asset_data)\n",
    "        RESULTS[asset_id] = asset_result \n",
    "    return RESULTS"
   ]
  },
  {
   "cell_type": "code",
   "execution_count": 64,
   "id": "02d2cccd",
   "metadata": {
    "ExecuteTime": {
     "end_time": "2021-12-15T02:06:12.332780Z",
     "start_time": "2021-12-15T02:06:12.306666Z"
    }
   },
   "outputs": [],
   "source": [
    "MODEL_CONFIG = {'alpha': 0.001}\n",
    "TRAIN_CONFIG = {'time_decay_alpha': None}\n",
    "CONFIG = {'model': MODEL_CONFIG, 'training': TRAIN_CONFIG}"
   ]
  },
  {
   "cell_type": "code",
   "execution_count": 65,
   "id": "48462c49",
   "metadata": {
    "ExecuteTime": {
     "end_time": "2021-12-15T02:06:12.774912Z",
     "start_time": "2021-12-15T02:06:12.748483Z"
    }
   },
   "outputs": [],
   "source": [
    "import itertools"
   ]
  },
  {
   "cell_type": "code",
   "execution_count": null,
   "id": "9a4d7142",
   "metadata": {
    "ExecuteTime": {
     "start_time": "2021-12-15T02:06:13.514Z"
    }
   },
   "outputs": [
    {
     "name": "stdout",
     "output_type": "stream",
     "text": [
      "fold=0\n",
      "elapsed time: 0.0049\n",
      "fold=1\n",
      "elapsed time: 0.0068\n",
      "fold=2\n",
      "elapsed time: 0.0072\n",
      "fold=3\n",
      "elapsed time: 0.0086\n",
      "fold=0\n",
      "elapsed time: 0.0058\n",
      "fold=1\n",
      "elapsed time: 0.0060\n",
      "fold=2\n",
      "elapsed time: 0.0077\n",
      "fold=3\n",
      "elapsed time: 0.0074\n",
      "fold=0\n",
      "elapsed time: 0.0057\n",
      "fold=1\n",
      "elapsed time: 0.0095\n",
      "fold=2\n",
      "elapsed time: 0.0115\n",
      "fold=3\n",
      "elapsed time: 0.0084\n",
      "fold=0\n",
      "elapsed time: 0.0045\n",
      "fold=1\n",
      "elapsed time: 0.0058\n",
      "fold=2\n",
      "elapsed time: 0.0067\n",
      "fold=3\n",
      "elapsed time: 0.0079\n",
      "fold=0\n",
      "elapsed time: 0.0021\n",
      "fold=1\n",
      "elapsed time: 0.0025\n",
      "fold=2\n",
      "elapsed time: 0.0038\n",
      "fold=3\n",
      "elapsed time: 0.0028\n",
      "fold=0\n",
      "elapsed time: 0.0045\n",
      "fold=1\n",
      "elapsed time: 0.0071\n",
      "fold=2\n",
      "elapsed time: 0.0078\n",
      "fold=3\n",
      "elapsed time: 0.0088\n",
      "fold=0\n",
      "elapsed time: 0.0051\n",
      "fold=1\n",
      "elapsed time: 0.0080\n",
      "fold=2\n"
     ]
    }
   ],
   "source": [
    "RESULTS = run(CONFIG, data)"
   ]
  },
  {
   "cell_type": "code",
   "execution_count": null,
   "id": "8c5ee022",
   "metadata": {
    "ExecuteTime": {
     "start_time": "2021-12-15T02:06:14.589Z"
    }
   },
   "outputs": [],
   "source": [
    "inference_df = pd.concat(itertools.chain(*[asset_result['prediction'] for _, asset_result in RESULTS.items()]))\n",
    "scores = inference_df.groupby('fold').apply(compute_metrics).reset_index()\n",
    "scores['eval_period'] = ENV_CONFIG['cv_period']"
   ]
  },
  {
   "cell_type": "code",
   "execution_count": null,
   "id": "105a2dda",
   "metadata": {
    "ExecuteTime": {
     "start_time": "2021-12-15T02:06:25.697Z"
    }
   },
   "outputs": [],
   "source": [
    "scores"
   ]
  },
  {
   "cell_type": "code",
   "execution_count": 27,
   "id": "ca03e71a",
   "metadata": {
    "ExecuteTime": {
     "end_time": "2021-12-15T02:01:19.733434Z",
     "start_time": "2021-12-15T02:01:19.676875Z"
    }
   },
   "outputs": [
    {
     "data": {
      "text/html": [
       "<div>\n",
       "<style scoped>\n",
       "    .dataframe tbody tr th:only-of-type {\n",
       "        vertical-align: middle;\n",
       "    }\n",
       "\n",
       "    .dataframe tbody tr th {\n",
       "        vertical-align: top;\n",
       "    }\n",
       "\n",
       "    .dataframe thead th {\n",
       "        text-align: right;\n",
       "    }\n",
       "</style>\n",
       "<table border=\"1\" class=\"dataframe\">\n",
       "  <thead>\n",
       "    <tr style=\"text-align: right;\">\n",
       "      <th></th>\n",
       "      <th>fold</th>\n",
       "      <th>corr</th>\n",
       "      <th>crypto_consistency</th>\n",
       "      <th>sharpe</th>\n",
       "      <th>corr_period_mean</th>\n",
       "      <th>corr_period_std</th>\n",
       "      <th>consistency</th>\n",
       "      <th>min_period_corr</th>\n",
       "      <th>corr_min</th>\n",
       "      <th>corr_max</th>\n",
       "      <th>corr_std</th>\n",
       "      <th>eval_period</th>\n",
       "    </tr>\n",
       "  </thead>\n",
       "  <tbody>\n",
       "    <tr>\n",
       "      <th>0</th>\n",
       "      <td>0</td>\n",
       "      <td>0.035439</td>\n",
       "      <td>13.0</td>\n",
       "      <td>1.211896</td>\n",
       "      <td>0.017427</td>\n",
       "      <td>0.014380</td>\n",
       "      <td>1.000000</td>\n",
       "      <td>0.002919</td>\n",
       "      <td>-0.012542</td>\n",
       "      <td>0.126943</td>\n",
       "      <td>0.039410</td>\n",
       "      <td>[2020-01-01, 2020-04-01]</td>\n",
       "    </tr>\n",
       "    <tr>\n",
       "      <th>1</th>\n",
       "      <td>1</td>\n",
       "      <td>0.002109</td>\n",
       "      <td>11.0</td>\n",
       "      <td>0.052133</td>\n",
       "      <td>0.000870</td>\n",
       "      <td>0.016687</td>\n",
       "      <td>0.611111</td>\n",
       "      <td>-0.031089</td>\n",
       "      <td>-0.035501</td>\n",
       "      <td>0.063000</td>\n",
       "      <td>0.022338</td>\n",
       "      <td>[2020-09-01, 2021-01-01]</td>\n",
       "    </tr>\n",
       "    <tr>\n",
       "      <th>2</th>\n",
       "      <td>2</td>\n",
       "      <td>0.006652</td>\n",
       "      <td>12.0</td>\n",
       "      <td>0.772704</td>\n",
       "      <td>0.012891</td>\n",
       "      <td>0.016683</td>\n",
       "      <td>0.846154</td>\n",
       "      <td>-0.004553</td>\n",
       "      <td>-0.024462</td>\n",
       "      <td>0.047399</td>\n",
       "      <td>0.015990</td>\n",
       "      <td>[2021-01-01, 2021-04-01]</td>\n",
       "    </tr>\n",
       "    <tr>\n",
       "      <th>3</th>\n",
       "      <td>3</td>\n",
       "      <td>0.007809</td>\n",
       "      <td>9.0</td>\n",
       "      <td>0.354549</td>\n",
       "      <td>0.006801</td>\n",
       "      <td>0.019182</td>\n",
       "      <td>0.769231</td>\n",
       "      <td>-0.026057</td>\n",
       "      <td>-0.007254</td>\n",
       "      <td>0.042140</td>\n",
       "      <td>0.016789</td>\n",
       "      <td>[2021-04-01, 2021-07-01]</td>\n",
       "    </tr>\n",
       "  </tbody>\n",
       "</table>\n",
       "</div>"
      ],
      "text/plain": [
       "   fold      corr  crypto_consistency    sharpe  corr_period_mean  \\\n",
       "0     0  0.035439                13.0  1.211896          0.017427   \n",
       "1     1  0.002109                11.0  0.052133          0.000870   \n",
       "2     2  0.006652                12.0  0.772704          0.012891   \n",
       "3     3  0.007809                 9.0  0.354549          0.006801   \n",
       "\n",
       "   corr_period_std  consistency  min_period_corr  corr_min  corr_max  \\\n",
       "0         0.014380     1.000000         0.002919 -0.012542  0.126943   \n",
       "1         0.016687     0.611111        -0.031089 -0.035501  0.063000   \n",
       "2         0.016683     0.846154        -0.004553 -0.024462  0.047399   \n",
       "3         0.019182     0.769231        -0.026057 -0.007254  0.042140   \n",
       "\n",
       "   corr_std               eval_period  \n",
       "0  0.039410  [2020-01-01, 2020-04-01]  \n",
       "1  0.022338  [2020-09-01, 2021-01-01]  \n",
       "2  0.015990  [2021-01-01, 2021-04-01]  \n",
       "3  0.016789  [2021-04-01, 2021-07-01]  "
      ]
     },
     "execution_count": 27,
     "metadata": {},
     "output_type": "execute_result"
    }
   ],
   "source": [
    "scores"
   ]
  },
  {
   "cell_type": "code",
   "execution_count": 28,
   "id": "94dfb30a",
   "metadata": {
    "ExecuteTime": {
     "end_time": "2021-12-15T02:01:19.780828Z",
     "start_time": "2021-12-15T02:01:19.737899Z"
    }
   },
   "outputs": [
    {
     "name": "stdout",
     "output_type": "stream",
     "text": [
      "|    |   fold |       corr |   crypto_consistency |      sharpe |   corr_period_mean |\n",
      "|---:|-------:|-----------:|---------------------:|------------:|-------------------:|\n",
      "|  0 |      0 | 0.0340875  |                   12 |  0.891724   |        0.0140149   |\n",
      "|  1 |      1 | 0.00107583 |                   11 | -0.00378112 |       -6.72739e-05 |\n",
      "|  2 |      2 | 0.00639626 |                   10 |  0.730508   |        0.0114782   |\n",
      "|  3 |      3 | 0.00803942 |                   10 |  0.333772   |        0.00654437  |\n"
     ]
    }
   ],
   "source": [
    "print('|    |   fold |       corr |   crypto_consistency |      sharpe |   corr_period_mean |\\n|---:|-------:|-----------:|---------------------:|------------:|-------------------:|\\n|  0 |      0 | 0.0340875  |                   12 |  0.891724   |        0.0140149   |\\n|  1 |      1 | 0.00107583 |                   11 | -0.00378112 |       -6.72739e-05 |\\n|  2 |      2 | 0.00639626 |                   10 |  0.730508   |        0.0114782   |\\n|  3 |      3 | 0.00803942 |                   10 |  0.333772   |        0.00654437  |')"
   ]
  },
  {
   "cell_type": "markdown",
   "id": "97847e04",
   "metadata": {},
   "source": [
    "fold                   1.500000\n",
    "corr                   0.012400\n",
    "crypto_consistency    10.750000\n",
    "sharpe                 0.488056\n",
    "corr_period_mean       0.007993\n",
    "corr_period_std        0.017207\n",
    "consistency            0.768162\n",
    "min_period_corr       -0.018003\n",
    "corr_min              -0.027406\n",
    "corr_max               0.064634\n",
    "corr_std               0.023568\n",
    "dtype: float64"
   ]
  },
  {
   "cell_type": "code",
   "execution_count": 29,
   "id": "8bd007c5",
   "metadata": {
    "ExecuteTime": {
     "end_time": "2021-12-15T02:01:22.205728Z",
     "start_time": "2021-12-15T02:01:19.786324Z"
    }
   },
   "outputs": [],
   "source": [
    "corrs_fold = inference_df.groupby('fold').apply(lambda d: compute_correlation(d, group_col='Asset_Name').set_index(\"Asset_Name\")).unstack().T\n",
    "\n",
    "corrs_fold['cum_corr'] = corrs_fold.mean(axis=1)"
   ]
  },
  {
   "cell_type": "code",
   "execution_count": 30,
   "id": "3a8ddbee",
   "metadata": {
    "ExecuteTime": {
     "end_time": "2021-12-15T02:01:22.242619Z",
     "start_time": "2021-12-15T02:01:22.208757Z"
    }
   },
   "outputs": [],
   "source": [
    "corrs_fold = corrs_fold.sort_values(by='cum_corr')"
   ]
  },
  {
   "cell_type": "code",
   "execution_count": 31,
   "id": "41d648c6",
   "metadata": {
    "ExecuteTime": {
     "end_time": "2021-12-15T02:01:22.310857Z",
     "start_time": "2021-12-15T02:01:22.246665Z"
    }
   },
   "outputs": [
    {
     "data": {
      "text/html": [
       "<div>\n",
       "<style scoped>\n",
       "    .dataframe tbody tr th:only-of-type {\n",
       "        vertical-align: middle;\n",
       "    }\n",
       "\n",
       "    .dataframe tbody tr th {\n",
       "        vertical-align: top;\n",
       "    }\n",
       "\n",
       "    .dataframe thead th {\n",
       "        text-align: right;\n",
       "    }\n",
       "</style>\n",
       "<table border=\"1\" class=\"dataframe\">\n",
       "  <thead>\n",
       "    <tr style=\"text-align: right;\">\n",
       "      <th></th>\n",
       "      <th>fold</th>\n",
       "      <th>0</th>\n",
       "      <th>1</th>\n",
       "      <th>2</th>\n",
       "      <th>3</th>\n",
       "      <th>cum_corr</th>\n",
       "    </tr>\n",
       "    <tr>\n",
       "      <th></th>\n",
       "      <th>Asset_Name</th>\n",
       "      <th></th>\n",
       "      <th></th>\n",
       "      <th></th>\n",
       "      <th></th>\n",
       "      <th></th>\n",
       "    </tr>\n",
       "  </thead>\n",
       "  <tbody>\n",
       "    <tr>\n",
       "      <th rowspan=\"14\" valign=\"top\">corr</th>\n",
       "      <th>Ethereum Classic</th>\n",
       "      <td>-0.012542</td>\n",
       "      <td>0.009021</td>\n",
       "      <td>0.012914</td>\n",
       "      <td>0.014937</td>\n",
       "      <td>0.006082</td>\n",
       "    </tr>\n",
       "    <tr>\n",
       "      <th>Bitcoin</th>\n",
       "      <td>0.030857</td>\n",
       "      <td>-0.005682</td>\n",
       "      <td>0.004573</td>\n",
       "      <td>-0.003841</td>\n",
       "      <td>0.006477</td>\n",
       "    </tr>\n",
       "    <tr>\n",
       "      <th>Binance Coin</th>\n",
       "      <td>0.006568</td>\n",
       "      <td>-0.012384</td>\n",
       "      <td>0.005012</td>\n",
       "      <td>0.028896</td>\n",
       "      <td>0.007023</td>\n",
       "    </tr>\n",
       "    <tr>\n",
       "      <th>Bitcoin Cash</th>\n",
       "      <td>0.028263</td>\n",
       "      <td>0.014111</td>\n",
       "      <td>0.001012</td>\n",
       "      <td>-0.004023</td>\n",
       "      <td>0.009841</td>\n",
       "    </tr>\n",
       "    <tr>\n",
       "      <th>IOTA</th>\n",
       "      <td>0.030118</td>\n",
       "      <td>0.005939</td>\n",
       "      <td>0.014455</td>\n",
       "      <td>-0.006680</td>\n",
       "      <td>0.010958</td>\n",
       "    </tr>\n",
       "    <tr>\n",
       "      <th>Monero</th>\n",
       "      <td>0.015787</td>\n",
       "      <td>0.007773</td>\n",
       "      <td>0.006094</td>\n",
       "      <td>0.018643</td>\n",
       "      <td>0.012074</td>\n",
       "    </tr>\n",
       "    <tr>\n",
       "      <th>EOS.IO</th>\n",
       "      <td>0.035139</td>\n",
       "      <td>0.034431</td>\n",
       "      <td>-0.024462</td>\n",
       "      <td>0.008315</td>\n",
       "      <td>0.013356</td>\n",
       "    </tr>\n",
       "    <tr>\n",
       "      <th>Cardano</th>\n",
       "      <td>0.016725</td>\n",
       "      <td>0.005218</td>\n",
       "      <td>0.005367</td>\n",
       "      <td>0.033679</td>\n",
       "      <td>0.015247</td>\n",
       "    </tr>\n",
       "    <tr>\n",
       "      <th>Litecoin</th>\n",
       "      <td>0.057046</td>\n",
       "      <td>0.006494</td>\n",
       "      <td>-0.006263</td>\n",
       "      <td>0.007167</td>\n",
       "      <td>0.016111</td>\n",
       "    </tr>\n",
       "    <tr>\n",
       "      <th>TRON</th>\n",
       "      <td>0.007842</td>\n",
       "      <td>0.009970</td>\n",
       "      <td>0.023016</td>\n",
       "      <td>0.025532</td>\n",
       "      <td>0.016590</td>\n",
       "    </tr>\n",
       "    <tr>\n",
       "      <th>Stellar</th>\n",
       "      <td>0.038080</td>\n",
       "      <td>0.063000</td>\n",
       "      <td>0.007686</td>\n",
       "      <td>-0.000488</td>\n",
       "      <td>0.027070</td>\n",
       "    </tr>\n",
       "    <tr>\n",
       "      <th>Ethereum</th>\n",
       "      <td>0.077058</td>\n",
       "      <td>0.021047</td>\n",
       "      <td>0.047399</td>\n",
       "      <td>-0.007254</td>\n",
       "      <td>0.034562</td>\n",
       "    </tr>\n",
       "    <tr>\n",
       "      <th>Maker</th>\n",
       "      <td>0.126943</td>\n",
       "      <td>-0.035501</td>\n",
       "      <td>0.004791</td>\n",
       "      <td>0.042140</td>\n",
       "      <td>0.034593</td>\n",
       "    </tr>\n",
       "    <tr>\n",
       "      <th>Dogecoin</th>\n",
       "      <td>0.107702</td>\n",
       "      <td>0.018213</td>\n",
       "      <td>0.019790</td>\n",
       "      <td>0.031335</td>\n",
       "      <td>0.044260</td>\n",
       "    </tr>\n",
       "  </tbody>\n",
       "</table>\n",
       "</div>"
      ],
      "text/plain": [
       "fold                          0         1         2         3  cum_corr\n",
       "     Asset_Name                                                        \n",
       "corr Ethereum Classic -0.012542  0.009021  0.012914  0.014937  0.006082\n",
       "     Bitcoin           0.030857 -0.005682  0.004573 -0.003841  0.006477\n",
       "     Binance Coin      0.006568 -0.012384  0.005012  0.028896  0.007023\n",
       "     Bitcoin Cash      0.028263  0.014111  0.001012 -0.004023  0.009841\n",
       "     IOTA              0.030118  0.005939  0.014455 -0.006680  0.010958\n",
       "     Monero            0.015787  0.007773  0.006094  0.018643  0.012074\n",
       "     EOS.IO            0.035139  0.034431 -0.024462  0.008315  0.013356\n",
       "     Cardano           0.016725  0.005218  0.005367  0.033679  0.015247\n",
       "     Litecoin          0.057046  0.006494 -0.006263  0.007167  0.016111\n",
       "     TRON              0.007842  0.009970  0.023016  0.025532  0.016590\n",
       "     Stellar           0.038080  0.063000  0.007686 -0.000488  0.027070\n",
       "     Ethereum          0.077058  0.021047  0.047399 -0.007254  0.034562\n",
       "     Maker             0.126943 -0.035501  0.004791  0.042140  0.034593\n",
       "     Dogecoin          0.107702  0.018213  0.019790  0.031335  0.044260"
      ]
     },
     "execution_count": 31,
     "metadata": {},
     "output_type": "execute_result"
    }
   ],
   "source": [
    "corrs_fold"
   ]
  },
  {
   "cell_type": "code",
   "execution_count": 32,
   "id": "bcb62e37",
   "metadata": {
    "ExecuteTime": {
     "end_time": "2021-12-15T02:01:26.182547Z",
     "start_time": "2021-12-15T02:01:22.315676Z"
    }
   },
   "outputs": [
    {
     "data": {
      "image/png": "[encoded data removed]",
      "text/plain": [
       "<Figure size 1440x360 with 1 Axes>"
      ]
     },
     "metadata": {
      "needs_background": "light"
     },
     "output_type": "display_data"
    },
    {
     "data": {
      "image/png": "[encoded data removed]",
      "text/plain": [
       "<Figure size 1440x360 with 1 Axes>"
      ]
     },
     "metadata": {
      "needs_background": "light"
     },
     "output_type": "display_data"
    },
    {
     "data": {
      "image/png": "[encoded data removed]",
      "text/plain": [
       "<Figure size 1440x360 with 1 Axes>"
      ]
     },
     "metadata": {
      "needs_background": "light"
     },
     "output_type": "display_data"
    },
    {
     "data": {
      "image/png": "[encoded data removed]",
      "text/plain": [
       "<Figure size 1440x360 with 1 Axes>"
      ]
     },
     "metadata": {
      "needs_background": "light"
     },
     "output_type": "display_data"
    }
   ],
   "source": [
    "for fold, fold_data in inference_df.groupby('fold'):\n",
    "    corrs = compute_correlation(fold_data, group_col='Asset_Name')\n",
    "    plt.figure(figsize=(20, 5))\n",
    "    sns.barplot(x='Asset_Name', y='corr', data=corrs)\n",
    "    plt.title(fold)"
   ]
  },
  {
   "cell_type": "code",
   "execution_count": 46,
   "id": "8cd1192e",
   "metadata": {
    "ExecuteTime": {
     "end_time": "2021-12-15T02:03:53.120867Z",
     "start_time": "2021-12-15T02:03:53.063454Z"
    }
   },
   "outputs": [],
   "source": [
    "fi = pd.concat(itertools.chain.from_iterable([asset_result['fi'] for _, asset_result in RESULTS.items()]))"
   ]
  },
  {
   "cell_type": "code",
   "execution_count": 50,
   "id": "19ee91d8",
   "metadata": {
    "ExecuteTime": {
     "end_time": "2021-12-15T02:04:53.814262Z",
     "start_time": "2021-12-15T02:04:53.775664Z"
    }
   },
   "outputs": [],
   "source": [
    "fi_stats = fi.groupby('feature')['importance'].mean()"
   ]
  },
  {
   "cell_type": "code",
   "execution_count": 52,
   "id": "a17bad21",
   "metadata": {
    "ExecuteTime": {
     "end_time": "2021-12-15T02:05:01.790645Z",
     "start_time": "2021-12-15T02:05:01.759189Z"
    }
   },
   "outputs": [
    {
     "data": {
      "text/plain": [
       "feature\n",
       "High                 -0.125843\n",
       "VWAP                 -0.051460\n",
       "upper_shadow         -0.027647\n",
       "lower_shadow         -0.024192\n",
       "dolar_amount         -0.001422\n",
       "bitcoin__count       -0.000584\n",
       "bitcoin__volume      -0.000578\n",
       "vol_per_trades        0.000221\n",
       "market_volume         0.000561\n",
       "Volume                0.000561\n",
       "Count                 0.000795\n",
       "market_count          0.000795\n",
       "bitcoin__close        0.001070\n",
       "Low                   0.008079\n",
       "open_close_return     0.019123\n",
       "Close                 0.025750\n",
       "market_close_price    0.025750\n",
       "high_low_return       0.064882\n",
       "Name: importance, dtype: float64"
      ]
     },
     "execution_count": 52,
     "metadata": {},
     "output_type": "execute_result"
    }
   ],
   "source": [
    "fi_stats.sort_values()"
   ]
  },
  {
   "cell_type": "code",
   "execution_count": 58,
   "id": "b16370ba",
   "metadata": {
    "ExecuteTime": {
     "end_time": "2021-12-15T02:05:46.510194Z",
     "start_time": "2021-12-15T02:05:46.478882Z"
    }
   },
   "outputs": [
    {
     "data": {
      "text/plain": [
       "Index(['Count', 'Volume', 'bitcoin__count', 'bitcoin__volume', 'market_count',\n",
       "       'market_volume', 'vol_per_trades'],\n",
       "      dtype='object', name='feature')"
      ]
     },
     "execution_count": 58,
     "metadata": {},
     "output_type": "execute_result"
    }
   ],
   "source": [
    "fi_stats[fi_stats.abs() < 0.001].index"
   ]
  },
  {
   "cell_type": "code",
   "execution_count": 48,
   "id": "0793f0e2",
   "metadata": {
    "ExecuteTime": {
     "end_time": "2021-12-15T02:04:19.364389Z",
     "start_time": "2021-12-15T02:04:18.033310Z"
    }
   },
   "outputs": [
    {
     "data": {
      "text/plain": [
       "<AxesSubplot:xlabel='importance', ylabel='feature'>"
      ]
     },
     "execution_count": 48,
     "metadata": {},
     "output_type": "execute_result"
    },
    {
     "data": {
      "image/png": "[encoded data removed]",
      "text/plain": [
       "<Figure size 1440x360 with 1 Axes>"
      ]
     },
     "metadata": {
      "needs_background": "light"
     },
     "output_type": "display_data"
    }
   ],
   "source": [
    "plt.figure(figsize=(20, 5))\n",
    "sns.barplot(x='importance', y='feature', data=fi)"
   ]
  },
  {
   "cell_type": "code",
   "execution_count": null,
   "id": "4f1e84ba",
   "metadata": {},
   "outputs": [],
   "source": []
  }
 ],
 "metadata": {
  "kernelspec": {
   "display_name": "Python 3 (ipykernel)",
   "language": "python",
   "name": "python3"
  },
  "language_info": {
   "codemirror_mode": {
    "name": "ipython",
    "version": 3
   },
   "file_extension": ".py",
   "mimetype": "text/x-python",
   "name": "python",
   "nbconvert_exporter": "python",
   "pygments_lexer": "ipython3",
   "version": "3.7.11"
  },
  "toc": {
   "base_numbering": 1,
   "nav_menu": {},
   "number_sections": true,
   "sideBar": true,
   "skip_h1_title": false,
   "title_cell": "Table of Contents",
   "title_sidebar": "Contents",
   "toc_cell": false,
   "toc_position": {},
   "toc_section_display": true,
   "toc_window_display": false
  }
 },
 "nbformat": 4,
 "nbformat_minor": 5
}
